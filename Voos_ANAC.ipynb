{
  "nbformat": 4,
  "nbformat_minor": 0,
  "metadata": {
    "colab": {
      "name": "Voos ANAC.ipynb",
      "provenance": [],
      "mount_file_id": "10uEA29uANYH6M6Z-Wc6lKr85zboynUWv",
      "authorship_tag": "ABX9TyPRj3BfHGMG6FLlE2ae5BZ8",
      "include_colab_link": true
    },
    "kernelspec": {
      "name": "python3",
      "display_name": "Python 3"
    }
  },
  "cells": [
    {
      "cell_type": "markdown",
      "metadata": {
        "id": "view-in-github",
        "colab_type": "text"
      },
      "source": [
        "<a href=\"https://colab.research.google.com/github/allanbraquiel/Data_Science_Projects/blob/master/Voos_ANAC.ipynb\" target=\"_parent\"><img src=\"https://colab.research.google.com/assets/colab-badge.svg\" alt=\"Open In Colab\"/></a>"
      ]
    },
    {
      "cell_type": "markdown",
      "metadata": {
        "id": "UvGeZIF4g7yV"
      },
      "source": [
        "### Histórico de voos em todo o Brasil\r\n",
        "\r\n",
        "\r\n",
        "O Voo Regular Ativo – VRA é uma base de dados composta por informações de voos de empresas de transporte aéreo regular que apresenta os cancelamentos e horários em que os voos ocorreram.\r\n",
        "\r\n",
        "A ANAC torna pública a série histórica do Voo Regular Ativo para que sejam realizados estudos e análises. Abaixo está elencada a base de dados mensal do VRA, em formato “csv”. O mês é em referência às etapas cujas decolagens eram previstas para o mês em questão ou cujas decolagens, em caso de etapa não prevista, foram realizadas no mês em questão.\r\n",
        "\r\n",
        " https://www.anac.gov.br/assuntos/dados-e-estatisticas/historico-de-voos"
      ]
    },
    {
      "cell_type": "markdown",
      "metadata": {
        "id": "V9LoN6GbIbz1"
      },
      "source": [
        ""
      ]
    },
    {
      "cell_type": "code",
      "metadata": {
        "id": "UbdI-hELIUzy",
        "colab": {
          "base_uri": "https://localhost:8080/",
          "height": 17
        },
        "outputId": "1c5cb203-22fe-4676-beb6-dcc091c21fa1"
      },
      "source": [
        "import pandas as pd\n",
        "import numpy as np\n",
        "import matplotlib.pyplot as plt\n",
        "import seaborn as sns\n",
        "%matplotlib inline\n",
        "\n",
        "# Biblioteca do Plotly para plotar os gráficos \n",
        "import cufflinks as cf\n",
        "cf.go_offline()\n",
        "import plotly\n",
        "import plotly.graph_objs as go\n",
        "import plotly.offline as py\n",
        "import plotly.express as px\n",
        "from plotly.offline import plot, iplot, init_notebook_mode\n",
        "init_notebook_mode(connected=True)"
      ],
      "execution_count": 1,
      "outputs": [
        {
          "output_type": "display_data",
          "data": {
            "text/html": [
              "        <script type=\"text/javascript\">\n",
              "        window.PlotlyConfig = {MathJaxConfig: 'local'};\n",
              "        if (window.MathJax) {MathJax.Hub.Config({SVG: {font: \"STIX-Web\"}});}\n",
              "        if (typeof require !== 'undefined') {\n",
              "        require.undef(\"plotly\");\n",
              "        requirejs.config({\n",
              "            paths: {\n",
              "                'plotly': ['https://cdn.plot.ly/plotly-latest.min']\n",
              "            }\n",
              "        });\n",
              "        require(['plotly'], function(Plotly) {\n",
              "            window._Plotly = Plotly;\n",
              "        });\n",
              "        }\n",
              "        </script>\n",
              "        "
            ]
          },
          "metadata": {
            "tags": []
          }
        },
        {
          "output_type": "display_data",
          "data": {
            "text/html": [
              "        <script type=\"text/javascript\">\n",
              "        window.PlotlyConfig = {MathJaxConfig: 'local'};\n",
              "        if (window.MathJax) {MathJax.Hub.Config({SVG: {font: \"STIX-Web\"}});}\n",
              "        if (typeof require !== 'undefined') {\n",
              "        require.undef(\"plotly\");\n",
              "        requirejs.config({\n",
              "            paths: {\n",
              "                'plotly': ['https://cdn.plot.ly/plotly-latest.min']\n",
              "            }\n",
              "        });\n",
              "        require(['plotly'], function(Plotly) {\n",
              "            window._Plotly = Plotly;\n",
              "        });\n",
              "        }\n",
              "        </script>\n",
              "        "
            ]
          },
          "metadata": {
            "tags": []
          }
        }
      ]
    },
    {
      "cell_type": "code",
      "metadata": {
        "id": "S9EHs18ODuen"
      },
      "source": [
        "import plotly.io as pio\n",
        "pio.renderers\n",
        "pio.renderers.default = \"colab\""
      ],
      "execution_count": 2,
      "outputs": []
    },
    {
      "cell_type": "code",
      "metadata": {
        "id": "28DHFs03DuVn"
      },
      "source": [
        "import pylab\n",
        "pylab.rcParams['figure.figsize'] = (15.0, 8.0)"
      ],
      "execution_count": 3,
      "outputs": []
    },
    {
      "cell_type": "markdown",
      "metadata": {
        "id": "T-KJPklHDP6H"
      },
      "source": [
        "Os dados estão separado pelos anos de 2018, 2019 e 2020, dessa forma serão carregados separadamente, além dos dados com os nomes das empresas aereas e os nomes dos aeroportos"
      ]
    },
    {
      "cell_type": "code",
      "metadata": {
        "id": "zVOn8V3PIr-j"
      },
      "source": [
        "df_2018 = pd.read_excel(\"/content/drive/My Drive/Colab_Notebooks/Voos ANAC/2018/Unificado-2018.xlsx\")\n",
        "df_2019 = pd.read_excel(\"/content/drive/My Drive/Colab_Notebooks/Voos ANAC/2019/Unificado-2019.xlsx\")\n",
        "df_2020 = pd.read_excel(\"/content/drive/My Drive/Colab_Notebooks/Voos ANAC/2020/Unificado-2020.xlsx\")\n",
        "df_empresa_aerea = pd.read_excel(\"/content/drive/My Drive/Colab_Notebooks/Voos ANAC/glossario_de_empresas_aereas.xls\")\n",
        "df_aeroporto = pd.read_excel(\"/content/drive/My Drive/Colab_Notebooks/Voos ANAC/glossario_de_aerodromo.xls\")"
      ],
      "execution_count": 4,
      "outputs": []
    },
    {
      "cell_type": "code",
      "metadata": {
        "id": "P26VdwhCuaAr",
        "colab": {
          "base_uri": "https://localhost:8080/"
        },
        "outputId": "03d06ccd-cfb6-444a-9809-803e0db0bc58"
      },
      "source": [
        "df_2018.columns"
      ],
      "execution_count": 5,
      "outputs": [
        {
          "output_type": "execute_result",
          "data": {
            "text/plain": [
              "Index(['ICAO Empresa Aérea', 'Número Voo', 'Código Autorização (DI)',\n",
              "       'Código Tipo Linha', 'ICAO Aeródromo Origem', 'ICAO Aeródromo Destino',\n",
              "       'Partida Prevista', 'Partida Real', 'Chegada Prevista', 'Chegada Real',\n",
              "       'Situação Voo', 'Código Justificativa'],\n",
              "      dtype='object')"
            ]
          },
          "metadata": {
            "tags": []
          },
          "execution_count": 5
        }
      ]
    },
    {
      "cell_type": "markdown",
      "metadata": {
        "id": "WfWfP8xKDtkN"
      },
      "source": [
        "Cada dataset tem o nome das colunas diferentes então é preciso padronizar os nomes das colunas para que possam ser juntados."
      ]
    },
    {
      "cell_type": "code",
      "metadata": {
        "id": "bfRx4gsCulk3"
      },
      "source": [
        "df_2018.rename(columns={'ICAO Empresa Aérea': \"Cod_Empresa_Aerea\", 'Número Voo': 'Num_Voo', 'Código Autorização (DI)': 'Cod_Autorizacao_DI',\n",
        "       'Código Tipo Linha': 'Cod_Tipo_Linha', 'ICAO Aeródromo Origem': \"Cod_Aerodromo_Origem\", 'ICAO Aeródromo Destino': 'Cod_Aerodromo_Destino',\n",
        "       'Partida Prevista': 'Partida_Prevista', 'Partida Real': 'Partida_Real', 'Chegada Prevista': 'Chegada_Prevista', 'Chegada Real': 'Chegada_Real',\n",
        "       'Situação Voo': 'Situacao_Voo', 'Código Justificativa': 'Cod_Justificativa'}, inplace=True)"
      ],
      "execution_count": 6,
      "outputs": []
    },
    {
      "cell_type": "code",
      "metadata": {
        "id": "7NNNEoFgudYJ",
        "colab": {
          "base_uri": "https://localhost:8080/"
        },
        "outputId": "4e12d855-73a1-4871-a196-8f6d9d62582d"
      },
      "source": [
        "df_2019.columns"
      ],
      "execution_count": 7,
      "outputs": [
        {
          "output_type": "execute_result",
          "data": {
            "text/plain": [
              "Index(['ICAO Empresa Aérea', 'Número Voo', 'Código DI', 'Código Tipo Linha',\n",
              "       'ICAO Aeródromo Origem', 'ICAO Aeródromo Destino', 'Partida Prevista',\n",
              "       'Partida Real', 'Chegada Prevista', 'Chegada Real', 'Situação Voo',\n",
              "       'Código Justificativa'],\n",
              "      dtype='object')"
            ]
          },
          "metadata": {
            "tags": []
          },
          "execution_count": 7
        }
      ]
    },
    {
      "cell_type": "code",
      "metadata": {
        "id": "-r0pZFXcwMzk"
      },
      "source": [
        "df_2019.rename(columns={'ICAO Empresa Aérea': \"Cod_Empresa_Aerea\", 'Número Voo': 'Num_Voo', 'Código DI': 'Cod_Autorizacao_DI', 'Código Tipo Linha': 'Cod_Tipo_Linha',\n",
        "       'ICAO Aeródromo Origem': \"Cod_Aerodromo_Origem\", 'ICAO Aeródromo Destino': 'Cod_Aerodromo_Destino', 'Partida Prevista': 'Partida_Prevista',\n",
        "       'Partida Real': 'Partida_Real', 'Chegada Prevista': 'Chegada_Prevista', 'Chegada Real': 'Chegada_Real', 'Situação Voo': 'Situacao_Voo',\n",
        "       'Código Justificativa': 'Cod_Justificativa'}, inplace=True)"
      ],
      "execution_count": 8,
      "outputs": []
    },
    {
      "cell_type": "code",
      "metadata": {
        "id": "Zxq_PO5mudn6",
        "colab": {
          "base_uri": "https://localhost:8080/"
        },
        "outputId": "54aebc43-791a-4ae8-dd22-529e6ea181b9"
      },
      "source": [
        "df_2020.columns"
      ],
      "execution_count": 9,
      "outputs": [
        {
          "output_type": "execute_result",
          "data": {
            "text/plain": [
              "Index(['ICAO Empresa Aerea', 'Numero Voo', 'Codigo DI', 'Codigo Tipo Linha',\n",
              "       'ICAO Aerodromo Origem', 'ICAO Aerodromo Destino', 'Partida Prevista',\n",
              "       'Partida Real', 'Chegada Prevista', 'Chegada Real', 'Situacao Voo',\n",
              "       'Codigo Justificativa'],\n",
              "      dtype='object')"
            ]
          },
          "metadata": {
            "tags": []
          },
          "execution_count": 9
        }
      ]
    },
    {
      "cell_type": "code",
      "metadata": {
        "id": "82ygaBDMul4D"
      },
      "source": [
        "df_2020.rename(columns={'ICAO Empresa Aerea': 'Cod_Empresa_Aerea', 'Numero Voo': 'Num_Voo', 'Codigo DI': 'Cod_Autorizacao_DI', 'Codigo Tipo Linha': 'Cod_Tipo_Linha',\n",
        "       'ICAO Aerodromo Origem':'Cod_Aerodromo_Origem', 'ICAO Aerodromo Destino': 'Cod_Aerodromo_Destino', 'Partida Prevista': 'Partida_Prevista',\n",
        "       'Partida Real': 'Partida_Real', 'Chegada Prevista': 'Chegada_Prevista', 'Chegada Real': 'Chegada_Real', 'Situacao Voo': 'Situacao_Voo',\n",
        "       'Codigo Justificativa': 'Cod_Justificativa'}, inplace=True)"
      ],
      "execution_count": 10,
      "outputs": []
    },
    {
      "cell_type": "markdown",
      "metadata": {
        "id": "XhgRhx9ZEHlO"
      },
      "source": [
        "Os nomes das colunas com o nome das empresas e dos nomes dos aereportos também serão modificados para uma melhor compreensão."
      ]
    },
    {
      "cell_type": "code",
      "metadata": {
        "id": "5g9ZgddlVwJv",
        "colab": {
          "base_uri": "https://localhost:8080/"
        },
        "outputId": "c52cd481-cede-40c5-98eb-cb7c22e74862"
      },
      "source": [
        "df_empresa_aerea.columns"
      ],
      "execution_count": 11,
      "outputs": [
        {
          "output_type": "execute_result",
          "data": {
            "text/plain": [
              "Index(['Sigla OACI', 'Nome Empresas', 'Unnamed: 2', 'Nacional ou Estrangeira'], dtype='object')"
            ]
          },
          "metadata": {
            "tags": []
          },
          "execution_count": 11
        }
      ]
    },
    {
      "cell_type": "code",
      "metadata": {
        "id": "bRwN53af2TO6"
      },
      "source": [
        "df_empresa_aerea.rename(columns={'Sigla OACI': 'Cod_Empresa_Aerea', 'Nome Empresas': 'Nome_Empresa',\t'Unnamed: 2': 'Unnamed', 'Nacional ou Estrangeira': 'Origem_Empresa'}, inplace=True)"
      ],
      "execution_count": 12,
      "outputs": []
    },
    {
      "cell_type": "code",
      "metadata": {
        "id": "dPY4SQ6cVz27",
        "colab": {
          "base_uri": "https://localhost:8080/"
        },
        "outputId": "34d56937-f801-4b99-cad8-baea4ffe7d74"
      },
      "source": [
        "df_aeroporto.columns"
      ],
      "execution_count": 13,
      "outputs": [
        {
          "output_type": "execute_result",
          "data": {
            "text/plain": [
              "Index(['Sigla OACI', 'Descrição', 'Cidade', 'UF', 'País', 'Continente'], dtype='object')"
            ]
          },
          "metadata": {
            "tags": []
          },
          "execution_count": 13
        }
      ]
    },
    {
      "cell_type": "code",
      "metadata": {
        "id": "ofSWubWy6e9x"
      },
      "source": [
        "df_aeroporto.rename(columns={'Sigla OACI': 'Sigla_Aeroporto', 'Descrição': 'Descricao','País': 'Pais'}, inplace=True)"
      ],
      "execution_count": 14,
      "outputs": []
    },
    {
      "cell_type": "markdown",
      "metadata": {
        "id": "mEYSaZXfEe-U"
      },
      "source": [
        "Após modificar os nomes das colunas será necessário unificar os datasets de todos os anos em um só para que possa ser analisado durante todo o período"
      ]
    },
    {
      "cell_type": "code",
      "metadata": {
        "id": "fQ28u9omr9wv"
      },
      "source": [
        "anos = [df_2018, df_2019, df_2020]\n",
        "df_anos = pd.concat(anos)"
      ],
      "execution_count": 15,
      "outputs": []
    },
    {
      "cell_type": "code",
      "metadata": {
        "id": "yO4ddBA16fQ9",
        "colab": {
          "base_uri": "https://localhost:8080/",
          "height": 309
        },
        "outputId": "49d1fc89-e0d8-42f1-e682-0d93d7d89c77"
      },
      "source": [
        "df_anos.head()"
      ],
      "execution_count": 16,
      "outputs": [
        {
          "output_type": "execute_result",
          "data": {
            "text/html": [
              "<div>\n",
              "<style scoped>\n",
              "    .dataframe tbody tr th:only-of-type {\n",
              "        vertical-align: middle;\n",
              "    }\n",
              "\n",
              "    .dataframe tbody tr th {\n",
              "        vertical-align: top;\n",
              "    }\n",
              "\n",
              "    .dataframe thead th {\n",
              "        text-align: right;\n",
              "    }\n",
              "</style>\n",
              "<table border=\"1\" class=\"dataframe\">\n",
              "  <thead>\n",
              "    <tr style=\"text-align: right;\">\n",
              "      <th></th>\n",
              "      <th>Cod_Empresa_Aerea</th>\n",
              "      <th>Num_Voo</th>\n",
              "      <th>Cod_Autorizacao_DI</th>\n",
              "      <th>Cod_Tipo_Linha</th>\n",
              "      <th>Cod_Aerodromo_Origem</th>\n",
              "      <th>Cod_Aerodromo_Destino</th>\n",
              "      <th>Partida_Prevista</th>\n",
              "      <th>Partida_Real</th>\n",
              "      <th>Chegada_Prevista</th>\n",
              "      <th>Chegada_Real</th>\n",
              "      <th>Situacao_Voo</th>\n",
              "      <th>Cod_Justificativa</th>\n",
              "    </tr>\n",
              "  </thead>\n",
              "  <tbody>\n",
              "    <tr>\n",
              "      <th>0</th>\n",
              "      <td>AAL</td>\n",
              "      <td>1265</td>\n",
              "      <td>0</td>\n",
              "      <td>I</td>\n",
              "      <td>KMIA</td>\n",
              "      <td>SBEG</td>\n",
              "      <td>2018-01-01 20:30:00</td>\n",
              "      <td>2018-01-01 20:30:00</td>\n",
              "      <td>2018-01-02 01:53:00</td>\n",
              "      <td>2018-01-02 01:53:00</td>\n",
              "      <td>REALIZADO</td>\n",
              "      <td>NaN</td>\n",
              "    </tr>\n",
              "    <tr>\n",
              "      <th>1</th>\n",
              "      <td>AAL</td>\n",
              "      <td>1265</td>\n",
              "      <td>0</td>\n",
              "      <td>I</td>\n",
              "      <td>KMIA</td>\n",
              "      <td>SBEG</td>\n",
              "      <td>2018-01-02 20:30:00</td>\n",
              "      <td>2018-01-02 20:30:00</td>\n",
              "      <td>2018-01-03 01:53:00</td>\n",
              "      <td>2018-01-03 01:53:00</td>\n",
              "      <td>REALIZADO</td>\n",
              "      <td>NaN</td>\n",
              "    </tr>\n",
              "    <tr>\n",
              "      <th>2</th>\n",
              "      <td>AAL</td>\n",
              "      <td>1265</td>\n",
              "      <td>0</td>\n",
              "      <td>I</td>\n",
              "      <td>KMIA</td>\n",
              "      <td>SBEG</td>\n",
              "      <td>2018-01-03 20:30:00</td>\n",
              "      <td>2018-01-03 20:30:00</td>\n",
              "      <td>2018-01-04 01:53:00</td>\n",
              "      <td>2018-01-04 01:53:00</td>\n",
              "      <td>REALIZADO</td>\n",
              "      <td>NaN</td>\n",
              "    </tr>\n",
              "    <tr>\n",
              "      <th>3</th>\n",
              "      <td>AAL</td>\n",
              "      <td>1265</td>\n",
              "      <td>0</td>\n",
              "      <td>I</td>\n",
              "      <td>KMIA</td>\n",
              "      <td>SBEG</td>\n",
              "      <td>2018-01-04 20:30:00</td>\n",
              "      <td>2018-01-04 20:30:00</td>\n",
              "      <td>2018-01-05 01:53:00</td>\n",
              "      <td>2018-01-05 01:53:00</td>\n",
              "      <td>REALIZADO</td>\n",
              "      <td>NaN</td>\n",
              "    </tr>\n",
              "    <tr>\n",
              "      <th>4</th>\n",
              "      <td>AAL</td>\n",
              "      <td>1265</td>\n",
              "      <td>0</td>\n",
              "      <td>I</td>\n",
              "      <td>KMIA</td>\n",
              "      <td>SBEG</td>\n",
              "      <td>2018-01-05 20:30:00</td>\n",
              "      <td>2018-01-05 20:30:00</td>\n",
              "      <td>2018-01-06 01:53:00</td>\n",
              "      <td>2018-01-06 01:53:00</td>\n",
              "      <td>REALIZADO</td>\n",
              "      <td>NaN</td>\n",
              "    </tr>\n",
              "  </tbody>\n",
              "</table>\n",
              "</div>"
            ],
            "text/plain": [
              "  Cod_Empresa_Aerea Num_Voo  ... Situacao_Voo Cod_Justificativa\n",
              "0               AAL    1265  ...    REALIZADO               NaN\n",
              "1               AAL    1265  ...    REALIZADO               NaN\n",
              "2               AAL    1265  ...    REALIZADO               NaN\n",
              "3               AAL    1265  ...    REALIZADO               NaN\n",
              "4               AAL    1265  ...    REALIZADO               NaN\n",
              "\n",
              "[5 rows x 12 columns]"
            ]
          },
          "metadata": {
            "tags": []
          },
          "execution_count": 16
        }
      ]
    },
    {
      "cell_type": "markdown",
      "metadata": {
        "id": "e7ShKY8AvTmh"
      },
      "source": [
        "Eliminando a coluna Cod_Justificativa que tem muitos valores nulos"
      ]
    },
    {
      "cell_type": "code",
      "metadata": {
        "id": "21EIrQXKu1_q"
      },
      "source": [
        "df_anos.drop(columns=['Cod_Justificativa'], inplace=True)"
      ],
      "execution_count": 19,
      "outputs": []
    },
    {
      "cell_type": "code",
      "metadata": {
        "id": "Ed7wO0rMdatI",
        "colab": {
          "base_uri": "https://localhost:8080/"
        },
        "outputId": "2a2bf3c0-e86b-4028-e756-44b23d43552a"
      },
      "source": [
        "df_anos.shape"
      ],
      "execution_count": 20,
      "outputs": [
        {
          "output_type": "execute_result",
          "data": {
            "text/plain": [
              "(2448390, 11)"
            ]
          },
          "metadata": {
            "tags": []
          },
          "execution_count": 20
        }
      ]
    },
    {
      "cell_type": "markdown",
      "metadata": {
        "id": "oCOclZXOE1lq"
      },
      "source": [
        "Agora é necessário unir o dataset principal com o de nomes das empresas aéreas (left join)"
      ]
    },
    {
      "cell_type": "code",
      "metadata": {
        "id": "4cw6xgWucQuR"
      },
      "source": [
        "df_union = pd.merge(df_anos, df_empresa_aerea, on=\"Cod_Empresa_Aerea\", how=\"left\")"
      ],
      "execution_count": 23,
      "outputs": []
    },
    {
      "cell_type": "code",
      "metadata": {
        "id": "Qdn8rZBLeMjJ",
        "colab": {
          "base_uri": "https://localhost:8080/"
        },
        "outputId": "613785aa-4897-4fe5-8344-524d15a6aee2"
      },
      "source": [
        "df_union.shape"
      ],
      "execution_count": 25,
      "outputs": [
        {
          "output_type": "execute_result",
          "data": {
            "text/plain": [
              "(2448390, 14)"
            ]
          },
          "metadata": {
            "tags": []
          },
          "execution_count": 25
        }
      ]
    },
    {
      "cell_type": "code",
      "metadata": {
        "id": "_sNTxZaVda_I",
        "colab": {
          "base_uri": "https://localhost:8080/",
          "height": 309
        },
        "outputId": "3c519320-3235-41bb-a219-d776185c2d5b"
      },
      "source": [
        "df_union.head()"
      ],
      "execution_count": 26,
      "outputs": [
        {
          "output_type": "execute_result",
          "data": {
            "text/html": [
              "<div>\n",
              "<style scoped>\n",
              "    .dataframe tbody tr th:only-of-type {\n",
              "        vertical-align: middle;\n",
              "    }\n",
              "\n",
              "    .dataframe tbody tr th {\n",
              "        vertical-align: top;\n",
              "    }\n",
              "\n",
              "    .dataframe thead th {\n",
              "        text-align: right;\n",
              "    }\n",
              "</style>\n",
              "<table border=\"1\" class=\"dataframe\">\n",
              "  <thead>\n",
              "    <tr style=\"text-align: right;\">\n",
              "      <th></th>\n",
              "      <th>Cod_Empresa_Aerea</th>\n",
              "      <th>Num_Voo</th>\n",
              "      <th>Cod_Autorizacao_DI</th>\n",
              "      <th>Cod_Tipo_Linha</th>\n",
              "      <th>Cod_Aerodromo_Origem</th>\n",
              "      <th>Cod_Aerodromo_Destino</th>\n",
              "      <th>Partida_Prevista</th>\n",
              "      <th>Partida_Real</th>\n",
              "      <th>Chegada_Prevista</th>\n",
              "      <th>Chegada_Real</th>\n",
              "      <th>Situacao_Voo</th>\n",
              "      <th>Nome_Empresa</th>\n",
              "      <th>Unnamed</th>\n",
              "      <th>Origem_Empresa</th>\n",
              "    </tr>\n",
              "  </thead>\n",
              "  <tbody>\n",
              "    <tr>\n",
              "      <th>0</th>\n",
              "      <td>AAL</td>\n",
              "      <td>1265</td>\n",
              "      <td>0</td>\n",
              "      <td>I</td>\n",
              "      <td>KMIA</td>\n",
              "      <td>SBEG</td>\n",
              "      <td>2018-01-01 20:30:00</td>\n",
              "      <td>2018-01-01 20:30:00</td>\n",
              "      <td>2018-01-02 01:53:00</td>\n",
              "      <td>2018-01-02 01:53:00</td>\n",
              "      <td>REALIZADO</td>\n",
              "      <td>AMERICAN AIRLINES INC</td>\n",
              "      <td>NaN</td>\n",
              "      <td>ESTRANGEIRA</td>\n",
              "    </tr>\n",
              "    <tr>\n",
              "      <th>1</th>\n",
              "      <td>AAL</td>\n",
              "      <td>1265</td>\n",
              "      <td>0</td>\n",
              "      <td>I</td>\n",
              "      <td>KMIA</td>\n",
              "      <td>SBEG</td>\n",
              "      <td>2018-01-02 20:30:00</td>\n",
              "      <td>2018-01-02 20:30:00</td>\n",
              "      <td>2018-01-03 01:53:00</td>\n",
              "      <td>2018-01-03 01:53:00</td>\n",
              "      <td>REALIZADO</td>\n",
              "      <td>AMERICAN AIRLINES INC</td>\n",
              "      <td>NaN</td>\n",
              "      <td>ESTRANGEIRA</td>\n",
              "    </tr>\n",
              "    <tr>\n",
              "      <th>2</th>\n",
              "      <td>AAL</td>\n",
              "      <td>1265</td>\n",
              "      <td>0</td>\n",
              "      <td>I</td>\n",
              "      <td>KMIA</td>\n",
              "      <td>SBEG</td>\n",
              "      <td>2018-01-03 20:30:00</td>\n",
              "      <td>2018-01-03 20:30:00</td>\n",
              "      <td>2018-01-04 01:53:00</td>\n",
              "      <td>2018-01-04 01:53:00</td>\n",
              "      <td>REALIZADO</td>\n",
              "      <td>AMERICAN AIRLINES INC</td>\n",
              "      <td>NaN</td>\n",
              "      <td>ESTRANGEIRA</td>\n",
              "    </tr>\n",
              "    <tr>\n",
              "      <th>3</th>\n",
              "      <td>AAL</td>\n",
              "      <td>1265</td>\n",
              "      <td>0</td>\n",
              "      <td>I</td>\n",
              "      <td>KMIA</td>\n",
              "      <td>SBEG</td>\n",
              "      <td>2018-01-04 20:30:00</td>\n",
              "      <td>2018-01-04 20:30:00</td>\n",
              "      <td>2018-01-05 01:53:00</td>\n",
              "      <td>2018-01-05 01:53:00</td>\n",
              "      <td>REALIZADO</td>\n",
              "      <td>AMERICAN AIRLINES INC</td>\n",
              "      <td>NaN</td>\n",
              "      <td>ESTRANGEIRA</td>\n",
              "    </tr>\n",
              "    <tr>\n",
              "      <th>4</th>\n",
              "      <td>AAL</td>\n",
              "      <td>1265</td>\n",
              "      <td>0</td>\n",
              "      <td>I</td>\n",
              "      <td>KMIA</td>\n",
              "      <td>SBEG</td>\n",
              "      <td>2018-01-05 20:30:00</td>\n",
              "      <td>2018-01-05 20:30:00</td>\n",
              "      <td>2018-01-06 01:53:00</td>\n",
              "      <td>2018-01-06 01:53:00</td>\n",
              "      <td>REALIZADO</td>\n",
              "      <td>AMERICAN AIRLINES INC</td>\n",
              "      <td>NaN</td>\n",
              "      <td>ESTRANGEIRA</td>\n",
              "    </tr>\n",
              "  </tbody>\n",
              "</table>\n",
              "</div>"
            ],
            "text/plain": [
              "  Cod_Empresa_Aerea Num_Voo  ... Unnamed Origem_Empresa\n",
              "0               AAL    1265  ...     NaN    ESTRANGEIRA\n",
              "1               AAL    1265  ...     NaN    ESTRANGEIRA\n",
              "2               AAL    1265  ...     NaN    ESTRANGEIRA\n",
              "3               AAL    1265  ...     NaN    ESTRANGEIRA\n",
              "4               AAL    1265  ...     NaN    ESTRANGEIRA\n",
              "\n",
              "[5 rows x 14 columns]"
            ]
          },
          "metadata": {
            "tags": []
          },
          "execution_count": 26
        }
      ]
    },
    {
      "cell_type": "code",
      "metadata": {
        "id": "eaV_ex_yXO14",
        "colab": {
          "base_uri": "https://localhost:8080/"
        },
        "outputId": "f65d3301-85e7-4a30-b838-586520c17eca"
      },
      "source": [
        "df_union[\"Situacao_Voo\"].value_counts()"
      ],
      "execution_count": 27,
      "outputs": [
        {
          "output_type": "execute_result",
          "data": {
            "text/plain": [
              "REALIZADO        2364452\n",
              "CANCELADO          81774\n",
              "NÃO REALIZADO       1592\n",
              "NíO INFORMADO        429\n",
              "NAO INFORMADO         76\n",
              "NÃO INFORMADO         42\n",
              "NÕO INFORMADO         25\n",
              "Name: Situacao_Voo, dtype: int64"
            ]
          },
          "metadata": {
            "tags": []
          },
          "execution_count": 27
        }
      ]
    },
    {
      "cell_type": "markdown",
      "metadata": {
        "id": "wd_9lMEXFOXl"
      },
      "source": [
        "Aqui vemos um problema onde existem erros de digitação e precisam ser corrigidos para que possam ter uma única informação"
      ]
    },
    {
      "cell_type": "code",
      "metadata": {
        "id": "FnEhDirrJysF"
      },
      "source": [
        "df_union.Situacao_Voo = df_union.Situacao_Voo.replace([\"NíO INFORMADO\", \"NÕO INFORMADO\", \"NAO INFORMADO\"], \"NÃO INFORMADO\")"
      ],
      "execution_count": 28,
      "outputs": []
    },
    {
      "cell_type": "code",
      "metadata": {
        "id": "LZEUdFKrOOva",
        "colab": {
          "base_uri": "https://localhost:8080/"
        },
        "outputId": "5981ab9f-14f8-4de3-a2a6-4973cdddfceb"
      },
      "source": [
        "df_union[\"Situacao_Voo\"].value_counts()"
      ],
      "execution_count": 29,
      "outputs": [
        {
          "output_type": "execute_result",
          "data": {
            "text/plain": [
              "REALIZADO        2364452\n",
              "CANCELADO          81774\n",
              "NÃO REALIZADO       1592\n",
              "NÃO INFORMADO        572\n",
              "Name: Situacao_Voo, dtype: int64"
            ]
          },
          "metadata": {
            "tags": []
          },
          "execution_count": 29
        }
      ]
    },
    {
      "cell_type": "markdown",
      "metadata": {
        "id": "JR34dXZkwUqb"
      },
      "source": [
        "Criando uma nova coluna com a sigla do aeroporto de origem"
      ]
    },
    {
      "cell_type": "code",
      "metadata": {
        "id": "LQK8fVmASwZ_"
      },
      "source": [
        "df_union[\"Sigla_Aeroporto\"] = df_union[\"Cod_Aerodromo_Origem\"]"
      ],
      "execution_count": 30,
      "outputs": []
    },
    {
      "cell_type": "code",
      "metadata": {
        "id": "MY_EFRISgcU6",
        "colab": {
          "base_uri": "https://localhost:8080/",
          "height": 309
        },
        "outputId": "012cabdd-060e-4119-81b5-24925946ecd6"
      },
      "source": [
        "df_union.head()"
      ],
      "execution_count": 31,
      "outputs": [
        {
          "output_type": "execute_result",
          "data": {
            "text/html": [
              "<div>\n",
              "<style scoped>\n",
              "    .dataframe tbody tr th:only-of-type {\n",
              "        vertical-align: middle;\n",
              "    }\n",
              "\n",
              "    .dataframe tbody tr th {\n",
              "        vertical-align: top;\n",
              "    }\n",
              "\n",
              "    .dataframe thead th {\n",
              "        text-align: right;\n",
              "    }\n",
              "</style>\n",
              "<table border=\"1\" class=\"dataframe\">\n",
              "  <thead>\n",
              "    <tr style=\"text-align: right;\">\n",
              "      <th></th>\n",
              "      <th>Cod_Empresa_Aerea</th>\n",
              "      <th>Num_Voo</th>\n",
              "      <th>Cod_Autorizacao_DI</th>\n",
              "      <th>Cod_Tipo_Linha</th>\n",
              "      <th>Cod_Aerodromo_Origem</th>\n",
              "      <th>Cod_Aerodromo_Destino</th>\n",
              "      <th>Partida_Prevista</th>\n",
              "      <th>Partida_Real</th>\n",
              "      <th>Chegada_Prevista</th>\n",
              "      <th>Chegada_Real</th>\n",
              "      <th>Situacao_Voo</th>\n",
              "      <th>Nome_Empresa</th>\n",
              "      <th>Unnamed</th>\n",
              "      <th>Origem_Empresa</th>\n",
              "      <th>Sigla_Aeroporto</th>\n",
              "    </tr>\n",
              "  </thead>\n",
              "  <tbody>\n",
              "    <tr>\n",
              "      <th>0</th>\n",
              "      <td>AAL</td>\n",
              "      <td>1265</td>\n",
              "      <td>0</td>\n",
              "      <td>I</td>\n",
              "      <td>KMIA</td>\n",
              "      <td>SBEG</td>\n",
              "      <td>2018-01-01 20:30:00</td>\n",
              "      <td>2018-01-01 20:30:00</td>\n",
              "      <td>2018-01-02 01:53:00</td>\n",
              "      <td>2018-01-02 01:53:00</td>\n",
              "      <td>REALIZADO</td>\n",
              "      <td>AMERICAN AIRLINES INC</td>\n",
              "      <td>NaN</td>\n",
              "      <td>ESTRANGEIRA</td>\n",
              "      <td>KMIA</td>\n",
              "    </tr>\n",
              "    <tr>\n",
              "      <th>1</th>\n",
              "      <td>AAL</td>\n",
              "      <td>1265</td>\n",
              "      <td>0</td>\n",
              "      <td>I</td>\n",
              "      <td>KMIA</td>\n",
              "      <td>SBEG</td>\n",
              "      <td>2018-01-02 20:30:00</td>\n",
              "      <td>2018-01-02 20:30:00</td>\n",
              "      <td>2018-01-03 01:53:00</td>\n",
              "      <td>2018-01-03 01:53:00</td>\n",
              "      <td>REALIZADO</td>\n",
              "      <td>AMERICAN AIRLINES INC</td>\n",
              "      <td>NaN</td>\n",
              "      <td>ESTRANGEIRA</td>\n",
              "      <td>KMIA</td>\n",
              "    </tr>\n",
              "    <tr>\n",
              "      <th>2</th>\n",
              "      <td>AAL</td>\n",
              "      <td>1265</td>\n",
              "      <td>0</td>\n",
              "      <td>I</td>\n",
              "      <td>KMIA</td>\n",
              "      <td>SBEG</td>\n",
              "      <td>2018-01-03 20:30:00</td>\n",
              "      <td>2018-01-03 20:30:00</td>\n",
              "      <td>2018-01-04 01:53:00</td>\n",
              "      <td>2018-01-04 01:53:00</td>\n",
              "      <td>REALIZADO</td>\n",
              "      <td>AMERICAN AIRLINES INC</td>\n",
              "      <td>NaN</td>\n",
              "      <td>ESTRANGEIRA</td>\n",
              "      <td>KMIA</td>\n",
              "    </tr>\n",
              "    <tr>\n",
              "      <th>3</th>\n",
              "      <td>AAL</td>\n",
              "      <td>1265</td>\n",
              "      <td>0</td>\n",
              "      <td>I</td>\n",
              "      <td>KMIA</td>\n",
              "      <td>SBEG</td>\n",
              "      <td>2018-01-04 20:30:00</td>\n",
              "      <td>2018-01-04 20:30:00</td>\n",
              "      <td>2018-01-05 01:53:00</td>\n",
              "      <td>2018-01-05 01:53:00</td>\n",
              "      <td>REALIZADO</td>\n",
              "      <td>AMERICAN AIRLINES INC</td>\n",
              "      <td>NaN</td>\n",
              "      <td>ESTRANGEIRA</td>\n",
              "      <td>KMIA</td>\n",
              "    </tr>\n",
              "    <tr>\n",
              "      <th>4</th>\n",
              "      <td>AAL</td>\n",
              "      <td>1265</td>\n",
              "      <td>0</td>\n",
              "      <td>I</td>\n",
              "      <td>KMIA</td>\n",
              "      <td>SBEG</td>\n",
              "      <td>2018-01-05 20:30:00</td>\n",
              "      <td>2018-01-05 20:30:00</td>\n",
              "      <td>2018-01-06 01:53:00</td>\n",
              "      <td>2018-01-06 01:53:00</td>\n",
              "      <td>REALIZADO</td>\n",
              "      <td>AMERICAN AIRLINES INC</td>\n",
              "      <td>NaN</td>\n",
              "      <td>ESTRANGEIRA</td>\n",
              "      <td>KMIA</td>\n",
              "    </tr>\n",
              "  </tbody>\n",
              "</table>\n",
              "</div>"
            ],
            "text/plain": [
              "  Cod_Empresa_Aerea Num_Voo  ... Origem_Empresa Sigla_Aeroporto\n",
              "0               AAL    1265  ...    ESTRANGEIRA            KMIA\n",
              "1               AAL    1265  ...    ESTRANGEIRA            KMIA\n",
              "2               AAL    1265  ...    ESTRANGEIRA            KMIA\n",
              "3               AAL    1265  ...    ESTRANGEIRA            KMIA\n",
              "4               AAL    1265  ...    ESTRANGEIRA            KMIA\n",
              "\n",
              "[5 rows x 15 columns]"
            ]
          },
          "metadata": {
            "tags": []
          },
          "execution_count": 31
        }
      ]
    },
    {
      "cell_type": "markdown",
      "metadata": {
        "id": "gjAOOUwLwysA"
      },
      "source": [
        "Excluindo a coluna Unnamed"
      ]
    },
    {
      "cell_type": "code",
      "metadata": {
        "id": "Gakb6X3pwiyk"
      },
      "source": [
        "df_union.drop(columns=['Unnamed'], inplace=True)"
      ],
      "execution_count": 35,
      "outputs": []
    },
    {
      "cell_type": "markdown",
      "metadata": {
        "id": "rGBzJ3rXFpKR"
      },
      "source": [
        "Agora uma nova união será feita para inserir o nome dos aeroportos de origem e de destino"
      ]
    },
    {
      "cell_type": "code",
      "metadata": {
        "colab": {
          "base_uri": "https://localhost:8080/"
        },
        "id": "ZhjFKudtxAL4",
        "outputId": "b5105aa5-eed6-47ac-acb1-be72e4165ae1"
      },
      "source": [
        "df_union.shape"
      ],
      "execution_count": 38,
      "outputs": [
        {
          "output_type": "execute_result",
          "data": {
            "text/plain": [
              "(2448390, 14)"
            ]
          },
          "metadata": {
            "tags": []
          },
          "execution_count": 38
        }
      ]
    },
    {
      "cell_type": "code",
      "metadata": {
        "id": "_HC_xw0xhWwr"
      },
      "source": [
        "df_union2 = df_union.merge(df_aeroporto, how=\"left\")"
      ],
      "execution_count": 40,
      "outputs": []
    },
    {
      "cell_type": "code",
      "metadata": {
        "colab": {
          "base_uri": "https://localhost:8080/"
        },
        "id": "zQ8K7he_xFkg",
        "outputId": "b9c492ec-23d3-471b-b989-25021c136ef7"
      },
      "source": [
        "df_union2.shape"
      ],
      "execution_count": 41,
      "outputs": [
        {
          "output_type": "execute_result",
          "data": {
            "text/plain": [
              "(2448390, 19)"
            ]
          },
          "metadata": {
            "tags": []
          },
          "execution_count": 41
        }
      ]
    },
    {
      "cell_type": "code",
      "metadata": {
        "id": "uY6aSkQ_hW44",
        "colab": {
          "base_uri": "https://localhost:8080/",
          "height": 479
        },
        "outputId": "b47df057-0d61-40ac-843b-89f7cc8279d8"
      },
      "source": [
        "df_union2.head()"
      ],
      "execution_count": 42,
      "outputs": [
        {
          "output_type": "execute_result",
          "data": {
            "text/html": [
              "<div>\n",
              "<style scoped>\n",
              "    .dataframe tbody tr th:only-of-type {\n",
              "        vertical-align: middle;\n",
              "    }\n",
              "\n",
              "    .dataframe tbody tr th {\n",
              "        vertical-align: top;\n",
              "    }\n",
              "\n",
              "    .dataframe thead th {\n",
              "        text-align: right;\n",
              "    }\n",
              "</style>\n",
              "<table border=\"1\" class=\"dataframe\">\n",
              "  <thead>\n",
              "    <tr style=\"text-align: right;\">\n",
              "      <th></th>\n",
              "      <th>Cod_Empresa_Aerea</th>\n",
              "      <th>Num_Voo</th>\n",
              "      <th>Cod_Autorizacao_DI</th>\n",
              "      <th>Cod_Tipo_Linha</th>\n",
              "      <th>Cod_Aerodromo_Origem</th>\n",
              "      <th>Cod_Aerodromo_Destino</th>\n",
              "      <th>Partida_Prevista</th>\n",
              "      <th>Partida_Real</th>\n",
              "      <th>Chegada_Prevista</th>\n",
              "      <th>Chegada_Real</th>\n",
              "      <th>Situacao_Voo</th>\n",
              "      <th>Nome_Empresa</th>\n",
              "      <th>Origem_Empresa</th>\n",
              "      <th>Sigla_Aeroporto</th>\n",
              "      <th>Descricao</th>\n",
              "      <th>Cidade</th>\n",
              "      <th>UF</th>\n",
              "      <th>Pais</th>\n",
              "      <th>Continente</th>\n",
              "    </tr>\n",
              "  </thead>\n",
              "  <tbody>\n",
              "    <tr>\n",
              "      <th>0</th>\n",
              "      <td>AAL</td>\n",
              "      <td>1265</td>\n",
              "      <td>0</td>\n",
              "      <td>I</td>\n",
              "      <td>KMIA</td>\n",
              "      <td>SBEG</td>\n",
              "      <td>2018-01-01 20:30:00</td>\n",
              "      <td>2018-01-01 20:30:00</td>\n",
              "      <td>2018-01-02 01:53:00</td>\n",
              "      <td>2018-01-02 01:53:00</td>\n",
              "      <td>REALIZADO</td>\n",
              "      <td>AMERICAN AIRLINES INC</td>\n",
              "      <td>ESTRANGEIRA</td>\n",
              "      <td>KMIA</td>\n",
              "      <td>MIAMI INTERNATIONAL AIRPORT</td>\n",
              "      <td>MIAMI</td>\n",
              "      <td>NaN</td>\n",
              "      <td>ESTADOS UNIDOS DA AMERICA</td>\n",
              "      <td>AMERICA DO NORTE</td>\n",
              "    </tr>\n",
              "    <tr>\n",
              "      <th>1</th>\n",
              "      <td>AAL</td>\n",
              "      <td>1265</td>\n",
              "      <td>0</td>\n",
              "      <td>I</td>\n",
              "      <td>KMIA</td>\n",
              "      <td>SBEG</td>\n",
              "      <td>2018-01-02 20:30:00</td>\n",
              "      <td>2018-01-02 20:30:00</td>\n",
              "      <td>2018-01-03 01:53:00</td>\n",
              "      <td>2018-01-03 01:53:00</td>\n",
              "      <td>REALIZADO</td>\n",
              "      <td>AMERICAN AIRLINES INC</td>\n",
              "      <td>ESTRANGEIRA</td>\n",
              "      <td>KMIA</td>\n",
              "      <td>MIAMI INTERNATIONAL AIRPORT</td>\n",
              "      <td>MIAMI</td>\n",
              "      <td>NaN</td>\n",
              "      <td>ESTADOS UNIDOS DA AMERICA</td>\n",
              "      <td>AMERICA DO NORTE</td>\n",
              "    </tr>\n",
              "    <tr>\n",
              "      <th>2</th>\n",
              "      <td>AAL</td>\n",
              "      <td>1265</td>\n",
              "      <td>0</td>\n",
              "      <td>I</td>\n",
              "      <td>KMIA</td>\n",
              "      <td>SBEG</td>\n",
              "      <td>2018-01-03 20:30:00</td>\n",
              "      <td>2018-01-03 20:30:00</td>\n",
              "      <td>2018-01-04 01:53:00</td>\n",
              "      <td>2018-01-04 01:53:00</td>\n",
              "      <td>REALIZADO</td>\n",
              "      <td>AMERICAN AIRLINES INC</td>\n",
              "      <td>ESTRANGEIRA</td>\n",
              "      <td>KMIA</td>\n",
              "      <td>MIAMI INTERNATIONAL AIRPORT</td>\n",
              "      <td>MIAMI</td>\n",
              "      <td>NaN</td>\n",
              "      <td>ESTADOS UNIDOS DA AMERICA</td>\n",
              "      <td>AMERICA DO NORTE</td>\n",
              "    </tr>\n",
              "    <tr>\n",
              "      <th>3</th>\n",
              "      <td>AAL</td>\n",
              "      <td>1265</td>\n",
              "      <td>0</td>\n",
              "      <td>I</td>\n",
              "      <td>KMIA</td>\n",
              "      <td>SBEG</td>\n",
              "      <td>2018-01-04 20:30:00</td>\n",
              "      <td>2018-01-04 20:30:00</td>\n",
              "      <td>2018-01-05 01:53:00</td>\n",
              "      <td>2018-01-05 01:53:00</td>\n",
              "      <td>REALIZADO</td>\n",
              "      <td>AMERICAN AIRLINES INC</td>\n",
              "      <td>ESTRANGEIRA</td>\n",
              "      <td>KMIA</td>\n",
              "      <td>MIAMI INTERNATIONAL AIRPORT</td>\n",
              "      <td>MIAMI</td>\n",
              "      <td>NaN</td>\n",
              "      <td>ESTADOS UNIDOS DA AMERICA</td>\n",
              "      <td>AMERICA DO NORTE</td>\n",
              "    </tr>\n",
              "    <tr>\n",
              "      <th>4</th>\n",
              "      <td>AAL</td>\n",
              "      <td>1265</td>\n",
              "      <td>0</td>\n",
              "      <td>I</td>\n",
              "      <td>KMIA</td>\n",
              "      <td>SBEG</td>\n",
              "      <td>2018-01-05 20:30:00</td>\n",
              "      <td>2018-01-05 20:30:00</td>\n",
              "      <td>2018-01-06 01:53:00</td>\n",
              "      <td>2018-01-06 01:53:00</td>\n",
              "      <td>REALIZADO</td>\n",
              "      <td>AMERICAN AIRLINES INC</td>\n",
              "      <td>ESTRANGEIRA</td>\n",
              "      <td>KMIA</td>\n",
              "      <td>MIAMI INTERNATIONAL AIRPORT</td>\n",
              "      <td>MIAMI</td>\n",
              "      <td>NaN</td>\n",
              "      <td>ESTADOS UNIDOS DA AMERICA</td>\n",
              "      <td>AMERICA DO NORTE</td>\n",
              "    </tr>\n",
              "  </tbody>\n",
              "</table>\n",
              "</div>"
            ],
            "text/plain": [
              "  Cod_Empresa_Aerea Num_Voo  ...                       Pais        Continente\n",
              "0               AAL    1265  ...  ESTADOS UNIDOS DA AMERICA  AMERICA DO NORTE\n",
              "1               AAL    1265  ...  ESTADOS UNIDOS DA AMERICA  AMERICA DO NORTE\n",
              "2               AAL    1265  ...  ESTADOS UNIDOS DA AMERICA  AMERICA DO NORTE\n",
              "3               AAL    1265  ...  ESTADOS UNIDOS DA AMERICA  AMERICA DO NORTE\n",
              "4               AAL    1265  ...  ESTADOS UNIDOS DA AMERICA  AMERICA DO NORTE\n",
              "\n",
              "[5 rows x 19 columns]"
            ]
          },
          "metadata": {
            "tags": []
          },
          "execution_count": 42
        }
      ]
    },
    {
      "cell_type": "code",
      "metadata": {
        "id": "nZPl8Vq-hW-C"
      },
      "source": [
        "df_copia = df_union2.copy()"
      ],
      "execution_count": 43,
      "outputs": []
    },
    {
      "cell_type": "code",
      "metadata": {
        "id": "SCbD4vs-hW1L",
        "colab": {
          "base_uri": "https://localhost:8080/",
          "height": 487
        },
        "outputId": "0f707fb0-c739-47da-ebc5-5fcedeca0e70"
      },
      "source": [
        "df_copia.head()"
      ],
      "execution_count": null,
      "outputs": [
        {
          "output_type": "execute_result",
          "data": {
            "text/html": [
              "<div>\n",
              "<style scoped>\n",
              "    .dataframe tbody tr th:only-of-type {\n",
              "        vertical-align: middle;\n",
              "    }\n",
              "\n",
              "    .dataframe tbody tr th {\n",
              "        vertical-align: top;\n",
              "    }\n",
              "\n",
              "    .dataframe thead th {\n",
              "        text-align: right;\n",
              "    }\n",
              "</style>\n",
              "<table border=\"1\" class=\"dataframe\">\n",
              "  <thead>\n",
              "    <tr style=\"text-align: right;\">\n",
              "      <th></th>\n",
              "      <th>Cod_Empresa_Aerea</th>\n",
              "      <th>Num_Voo</th>\n",
              "      <th>Cod_Autorizacao_DI</th>\n",
              "      <th>Cod_Tipo_Linha</th>\n",
              "      <th>Cod_Aerodromo_Origem</th>\n",
              "      <th>Cod_Aerodromo_Destino</th>\n",
              "      <th>Partida_Prevista</th>\n",
              "      <th>Partida_Real</th>\n",
              "      <th>Chegada_Prevista</th>\n",
              "      <th>Chegada_Real</th>\n",
              "      <th>Situacao_Voo</th>\n",
              "      <th>Cod_Justificativa</th>\n",
              "      <th>Nome_Empresa</th>\n",
              "      <th>Unnamed</th>\n",
              "      <th>Origem_Empresa</th>\n",
              "      <th>Sigla_Aeroporto</th>\n",
              "      <th>Descricao</th>\n",
              "      <th>Cidade</th>\n",
              "      <th>UF</th>\n",
              "      <th>Pais</th>\n",
              "      <th>Continente</th>\n",
              "    </tr>\n",
              "  </thead>\n",
              "  <tbody>\n",
              "    <tr>\n",
              "      <th>0</th>\n",
              "      <td>AAL</td>\n",
              "      <td>1265</td>\n",
              "      <td>0</td>\n",
              "      <td>I</td>\n",
              "      <td>KMIA</td>\n",
              "      <td>SBEG</td>\n",
              "      <td>2018-01-01 20:30:00</td>\n",
              "      <td>2018-01-01 20:30:00</td>\n",
              "      <td>2018-01-02 01:53:00</td>\n",
              "      <td>2018-01-02 01:53:00</td>\n",
              "      <td>REALIZADO</td>\n",
              "      <td>NaN</td>\n",
              "      <td>AMERICAN AIRLINES INC</td>\n",
              "      <td>NaN</td>\n",
              "      <td>ESTRANGEIRA</td>\n",
              "      <td>KMIA</td>\n",
              "      <td>MIAMI INTERNATIONAL AIRPORT</td>\n",
              "      <td>MIAMI</td>\n",
              "      <td>NaN</td>\n",
              "      <td>ESTADOS UNIDOS DA AMERICA</td>\n",
              "      <td>AMERICA DO NORTE</td>\n",
              "    </tr>\n",
              "    <tr>\n",
              "      <th>1</th>\n",
              "      <td>AAL</td>\n",
              "      <td>1265</td>\n",
              "      <td>0</td>\n",
              "      <td>I</td>\n",
              "      <td>KMIA</td>\n",
              "      <td>SBEG</td>\n",
              "      <td>2018-01-02 20:30:00</td>\n",
              "      <td>2018-01-02 20:30:00</td>\n",
              "      <td>2018-01-03 01:53:00</td>\n",
              "      <td>2018-01-03 01:53:00</td>\n",
              "      <td>REALIZADO</td>\n",
              "      <td>NaN</td>\n",
              "      <td>AMERICAN AIRLINES INC</td>\n",
              "      <td>NaN</td>\n",
              "      <td>ESTRANGEIRA</td>\n",
              "      <td>KMIA</td>\n",
              "      <td>MIAMI INTERNATIONAL AIRPORT</td>\n",
              "      <td>MIAMI</td>\n",
              "      <td>NaN</td>\n",
              "      <td>ESTADOS UNIDOS DA AMERICA</td>\n",
              "      <td>AMERICA DO NORTE</td>\n",
              "    </tr>\n",
              "    <tr>\n",
              "      <th>2</th>\n",
              "      <td>AAL</td>\n",
              "      <td>1265</td>\n",
              "      <td>0</td>\n",
              "      <td>I</td>\n",
              "      <td>KMIA</td>\n",
              "      <td>SBEG</td>\n",
              "      <td>2018-01-03 20:30:00</td>\n",
              "      <td>2018-01-03 20:30:00</td>\n",
              "      <td>2018-01-04 01:53:00</td>\n",
              "      <td>2018-01-04 01:53:00</td>\n",
              "      <td>REALIZADO</td>\n",
              "      <td>NaN</td>\n",
              "      <td>AMERICAN AIRLINES INC</td>\n",
              "      <td>NaN</td>\n",
              "      <td>ESTRANGEIRA</td>\n",
              "      <td>KMIA</td>\n",
              "      <td>MIAMI INTERNATIONAL AIRPORT</td>\n",
              "      <td>MIAMI</td>\n",
              "      <td>NaN</td>\n",
              "      <td>ESTADOS UNIDOS DA AMERICA</td>\n",
              "      <td>AMERICA DO NORTE</td>\n",
              "    </tr>\n",
              "    <tr>\n",
              "      <th>3</th>\n",
              "      <td>AAL</td>\n",
              "      <td>1265</td>\n",
              "      <td>0</td>\n",
              "      <td>I</td>\n",
              "      <td>KMIA</td>\n",
              "      <td>SBEG</td>\n",
              "      <td>2018-01-04 20:30:00</td>\n",
              "      <td>2018-01-04 20:30:00</td>\n",
              "      <td>2018-01-05 01:53:00</td>\n",
              "      <td>2018-01-05 01:53:00</td>\n",
              "      <td>REALIZADO</td>\n",
              "      <td>NaN</td>\n",
              "      <td>AMERICAN AIRLINES INC</td>\n",
              "      <td>NaN</td>\n",
              "      <td>ESTRANGEIRA</td>\n",
              "      <td>KMIA</td>\n",
              "      <td>MIAMI INTERNATIONAL AIRPORT</td>\n",
              "      <td>MIAMI</td>\n",
              "      <td>NaN</td>\n",
              "      <td>ESTADOS UNIDOS DA AMERICA</td>\n",
              "      <td>AMERICA DO NORTE</td>\n",
              "    </tr>\n",
              "    <tr>\n",
              "      <th>4</th>\n",
              "      <td>AAL</td>\n",
              "      <td>1265</td>\n",
              "      <td>0</td>\n",
              "      <td>I</td>\n",
              "      <td>KMIA</td>\n",
              "      <td>SBEG</td>\n",
              "      <td>2018-01-05 20:30:00</td>\n",
              "      <td>2018-01-05 20:30:00</td>\n",
              "      <td>2018-01-06 01:53:00</td>\n",
              "      <td>2018-01-06 01:53:00</td>\n",
              "      <td>REALIZADO</td>\n",
              "      <td>NaN</td>\n",
              "      <td>AMERICAN AIRLINES INC</td>\n",
              "      <td>NaN</td>\n",
              "      <td>ESTRANGEIRA</td>\n",
              "      <td>KMIA</td>\n",
              "      <td>MIAMI INTERNATIONAL AIRPORT</td>\n",
              "      <td>MIAMI</td>\n",
              "      <td>NaN</td>\n",
              "      <td>ESTADOS UNIDOS DA AMERICA</td>\n",
              "      <td>AMERICA DO NORTE</td>\n",
              "    </tr>\n",
              "  </tbody>\n",
              "</table>\n",
              "</div>"
            ],
            "text/plain": [
              "  Cod_Empresa_Aerea Num_Voo  ...                       Pais        Continente\n",
              "0               AAL    1265  ...  ESTADOS UNIDOS DA AMERICA  AMERICA DO NORTE\n",
              "1               AAL    1265  ...  ESTADOS UNIDOS DA AMERICA  AMERICA DO NORTE\n",
              "2               AAL    1265  ...  ESTADOS UNIDOS DA AMERICA  AMERICA DO NORTE\n",
              "3               AAL    1265  ...  ESTADOS UNIDOS DA AMERICA  AMERICA DO NORTE\n",
              "4               AAL    1265  ...  ESTADOS UNIDOS DA AMERICA  AMERICA DO NORTE\n",
              "\n",
              "[5 rows x 21 columns]"
            ]
          },
          "metadata": {
            "tags": []
          },
          "execution_count": 29
        }
      ]
    },
    {
      "cell_type": "code",
      "metadata": {
        "id": "CY81J4XHvCDd"
      },
      "source": [
        "# alterar descrição para aeroporto origem depois\n",
        "df_copia.rename(columns={'Descricao': 'Aeroporto_Origem',\t'Cidade': 'Cidade_Origem',\t'UF': 'UF_Origem',\t'Pais': 'Pais_Origem',\t'Continente': 'Continente_Origem'}, inplace=True)"
      ],
      "execution_count": 44,
      "outputs": []
    },
    {
      "cell_type": "code",
      "metadata": {
        "id": "NGV8hpM3vCT2",
        "colab": {
          "base_uri": "https://localhost:8080/",
          "height": 394
        },
        "outputId": "bb83e21e-3e72-4f78-e143-e8d8049e9ef0"
      },
      "source": [
        "df_copia.head()"
      ],
      "execution_count": 45,
      "outputs": [
        {
          "output_type": "execute_result",
          "data": {
            "text/html": [
              "<div>\n",
              "<style scoped>\n",
              "    .dataframe tbody tr th:only-of-type {\n",
              "        vertical-align: middle;\n",
              "    }\n",
              "\n",
              "    .dataframe tbody tr th {\n",
              "        vertical-align: top;\n",
              "    }\n",
              "\n",
              "    .dataframe thead th {\n",
              "        text-align: right;\n",
              "    }\n",
              "</style>\n",
              "<table border=\"1\" class=\"dataframe\">\n",
              "  <thead>\n",
              "    <tr style=\"text-align: right;\">\n",
              "      <th></th>\n",
              "      <th>Cod_Empresa_Aerea</th>\n",
              "      <th>Num_Voo</th>\n",
              "      <th>Cod_Autorizacao_DI</th>\n",
              "      <th>Cod_Tipo_Linha</th>\n",
              "      <th>Cod_Aerodromo_Origem</th>\n",
              "      <th>Cod_Aerodromo_Destino</th>\n",
              "      <th>Partida_Prevista</th>\n",
              "      <th>Partida_Real</th>\n",
              "      <th>Chegada_Prevista</th>\n",
              "      <th>Chegada_Real</th>\n",
              "      <th>Situacao_Voo</th>\n",
              "      <th>Nome_Empresa</th>\n",
              "      <th>Origem_Empresa</th>\n",
              "      <th>Sigla_Aeroporto</th>\n",
              "      <th>Aeroporto_Origem</th>\n",
              "      <th>Cidade_Origem</th>\n",
              "      <th>UF_Origem</th>\n",
              "      <th>Pais_Origem</th>\n",
              "      <th>Continente_Origem</th>\n",
              "    </tr>\n",
              "  </thead>\n",
              "  <tbody>\n",
              "    <tr>\n",
              "      <th>0</th>\n",
              "      <td>AAL</td>\n",
              "      <td>1265</td>\n",
              "      <td>0</td>\n",
              "      <td>I</td>\n",
              "      <td>KMIA</td>\n",
              "      <td>SBEG</td>\n",
              "      <td>2018-01-01 20:30:00</td>\n",
              "      <td>2018-01-01 20:30:00</td>\n",
              "      <td>2018-01-02 01:53:00</td>\n",
              "      <td>2018-01-02 01:53:00</td>\n",
              "      <td>REALIZADO</td>\n",
              "      <td>AMERICAN AIRLINES INC</td>\n",
              "      <td>ESTRANGEIRA</td>\n",
              "      <td>KMIA</td>\n",
              "      <td>MIAMI INTERNATIONAL AIRPORT</td>\n",
              "      <td>MIAMI</td>\n",
              "      <td>NaN</td>\n",
              "      <td>ESTADOS UNIDOS DA AMERICA</td>\n",
              "      <td>AMERICA DO NORTE</td>\n",
              "    </tr>\n",
              "    <tr>\n",
              "      <th>1</th>\n",
              "      <td>AAL</td>\n",
              "      <td>1265</td>\n",
              "      <td>0</td>\n",
              "      <td>I</td>\n",
              "      <td>KMIA</td>\n",
              "      <td>SBEG</td>\n",
              "      <td>2018-01-02 20:30:00</td>\n",
              "      <td>2018-01-02 20:30:00</td>\n",
              "      <td>2018-01-03 01:53:00</td>\n",
              "      <td>2018-01-03 01:53:00</td>\n",
              "      <td>REALIZADO</td>\n",
              "      <td>AMERICAN AIRLINES INC</td>\n",
              "      <td>ESTRANGEIRA</td>\n",
              "      <td>KMIA</td>\n",
              "      <td>MIAMI INTERNATIONAL AIRPORT</td>\n",
              "      <td>MIAMI</td>\n",
              "      <td>NaN</td>\n",
              "      <td>ESTADOS UNIDOS DA AMERICA</td>\n",
              "      <td>AMERICA DO NORTE</td>\n",
              "    </tr>\n",
              "    <tr>\n",
              "      <th>2</th>\n",
              "      <td>AAL</td>\n",
              "      <td>1265</td>\n",
              "      <td>0</td>\n",
              "      <td>I</td>\n",
              "      <td>KMIA</td>\n",
              "      <td>SBEG</td>\n",
              "      <td>2018-01-03 20:30:00</td>\n",
              "      <td>2018-01-03 20:30:00</td>\n",
              "      <td>2018-01-04 01:53:00</td>\n",
              "      <td>2018-01-04 01:53:00</td>\n",
              "      <td>REALIZADO</td>\n",
              "      <td>AMERICAN AIRLINES INC</td>\n",
              "      <td>ESTRANGEIRA</td>\n",
              "      <td>KMIA</td>\n",
              "      <td>MIAMI INTERNATIONAL AIRPORT</td>\n",
              "      <td>MIAMI</td>\n",
              "      <td>NaN</td>\n",
              "      <td>ESTADOS UNIDOS DA AMERICA</td>\n",
              "      <td>AMERICA DO NORTE</td>\n",
              "    </tr>\n",
              "    <tr>\n",
              "      <th>3</th>\n",
              "      <td>AAL</td>\n",
              "      <td>1265</td>\n",
              "      <td>0</td>\n",
              "      <td>I</td>\n",
              "      <td>KMIA</td>\n",
              "      <td>SBEG</td>\n",
              "      <td>2018-01-04 20:30:00</td>\n",
              "      <td>2018-01-04 20:30:00</td>\n",
              "      <td>2018-01-05 01:53:00</td>\n",
              "      <td>2018-01-05 01:53:00</td>\n",
              "      <td>REALIZADO</td>\n",
              "      <td>AMERICAN AIRLINES INC</td>\n",
              "      <td>ESTRANGEIRA</td>\n",
              "      <td>KMIA</td>\n",
              "      <td>MIAMI INTERNATIONAL AIRPORT</td>\n",
              "      <td>MIAMI</td>\n",
              "      <td>NaN</td>\n",
              "      <td>ESTADOS UNIDOS DA AMERICA</td>\n",
              "      <td>AMERICA DO NORTE</td>\n",
              "    </tr>\n",
              "    <tr>\n",
              "      <th>4</th>\n",
              "      <td>AAL</td>\n",
              "      <td>1265</td>\n",
              "      <td>0</td>\n",
              "      <td>I</td>\n",
              "      <td>KMIA</td>\n",
              "      <td>SBEG</td>\n",
              "      <td>2018-01-05 20:30:00</td>\n",
              "      <td>2018-01-05 20:30:00</td>\n",
              "      <td>2018-01-06 01:53:00</td>\n",
              "      <td>2018-01-06 01:53:00</td>\n",
              "      <td>REALIZADO</td>\n",
              "      <td>AMERICAN AIRLINES INC</td>\n",
              "      <td>ESTRANGEIRA</td>\n",
              "      <td>KMIA</td>\n",
              "      <td>MIAMI INTERNATIONAL AIRPORT</td>\n",
              "      <td>MIAMI</td>\n",
              "      <td>NaN</td>\n",
              "      <td>ESTADOS UNIDOS DA AMERICA</td>\n",
              "      <td>AMERICA DO NORTE</td>\n",
              "    </tr>\n",
              "  </tbody>\n",
              "</table>\n",
              "</div>"
            ],
            "text/plain": [
              "  Cod_Empresa_Aerea Num_Voo  ...                Pais_Origem Continente_Origem\n",
              "0               AAL    1265  ...  ESTADOS UNIDOS DA AMERICA  AMERICA DO NORTE\n",
              "1               AAL    1265  ...  ESTADOS UNIDOS DA AMERICA  AMERICA DO NORTE\n",
              "2               AAL    1265  ...  ESTADOS UNIDOS DA AMERICA  AMERICA DO NORTE\n",
              "3               AAL    1265  ...  ESTADOS UNIDOS DA AMERICA  AMERICA DO NORTE\n",
              "4               AAL    1265  ...  ESTADOS UNIDOS DA AMERICA  AMERICA DO NORTE\n",
              "\n",
              "[5 rows x 19 columns]"
            ]
          },
          "metadata": {
            "tags": []
          },
          "execution_count": 45
        }
      ]
    },
    {
      "cell_type": "markdown",
      "metadata": {
        "id": "qBfBubnryVIl"
      },
      "source": [
        "Preencher a coluna Sigla_Aeroporto com o codigo do aeroporto de destino para fazer um novo merge e inserir o nome do aeroporto"
      ]
    },
    {
      "cell_type": "code",
      "metadata": {
        "id": "J0suVJWcwoq8"
      },
      "source": [
        "df_copia['Sigla_Aeroporto'] = df_copia['Cod_Aerodromo_Destino']"
      ],
      "execution_count": 48,
      "outputs": []
    },
    {
      "cell_type": "code",
      "metadata": {
        "id": "Xu4MCAo7w4g_",
        "colab": {
          "base_uri": "https://localhost:8080/",
          "height": 394
        },
        "outputId": "08b89e21-4ea3-466e-c41f-5072f0b09d21"
      },
      "source": [
        "df_copia.head()"
      ],
      "execution_count": 49,
      "outputs": [
        {
          "output_type": "execute_result",
          "data": {
            "text/html": [
              "<div>\n",
              "<style scoped>\n",
              "    .dataframe tbody tr th:only-of-type {\n",
              "        vertical-align: middle;\n",
              "    }\n",
              "\n",
              "    .dataframe tbody tr th {\n",
              "        vertical-align: top;\n",
              "    }\n",
              "\n",
              "    .dataframe thead th {\n",
              "        text-align: right;\n",
              "    }\n",
              "</style>\n",
              "<table border=\"1\" class=\"dataframe\">\n",
              "  <thead>\n",
              "    <tr style=\"text-align: right;\">\n",
              "      <th></th>\n",
              "      <th>Cod_Empresa_Aerea</th>\n",
              "      <th>Num_Voo</th>\n",
              "      <th>Cod_Autorizacao_DI</th>\n",
              "      <th>Cod_Tipo_Linha</th>\n",
              "      <th>Cod_Aerodromo_Origem</th>\n",
              "      <th>Cod_Aerodromo_Destino</th>\n",
              "      <th>Partida_Prevista</th>\n",
              "      <th>Partida_Real</th>\n",
              "      <th>Chegada_Prevista</th>\n",
              "      <th>Chegada_Real</th>\n",
              "      <th>Situacao_Voo</th>\n",
              "      <th>Nome_Empresa</th>\n",
              "      <th>Origem_Empresa</th>\n",
              "      <th>Sigla_Aeroporto</th>\n",
              "      <th>Aeroporto_Origem</th>\n",
              "      <th>Cidade_Origem</th>\n",
              "      <th>UF_Origem</th>\n",
              "      <th>Pais_Origem</th>\n",
              "      <th>Continente_Origem</th>\n",
              "      <th>Sigla_Aeroporto_Dest</th>\n",
              "    </tr>\n",
              "  </thead>\n",
              "  <tbody>\n",
              "    <tr>\n",
              "      <th>0</th>\n",
              "      <td>AAL</td>\n",
              "      <td>1265</td>\n",
              "      <td>0</td>\n",
              "      <td>I</td>\n",
              "      <td>KMIA</td>\n",
              "      <td>SBEG</td>\n",
              "      <td>2018-01-01 20:30:00</td>\n",
              "      <td>2018-01-01 20:30:00</td>\n",
              "      <td>2018-01-02 01:53:00</td>\n",
              "      <td>2018-01-02 01:53:00</td>\n",
              "      <td>REALIZADO</td>\n",
              "      <td>AMERICAN AIRLINES INC</td>\n",
              "      <td>ESTRANGEIRA</td>\n",
              "      <td>SBEG</td>\n",
              "      <td>MIAMI INTERNATIONAL AIRPORT</td>\n",
              "      <td>MIAMI</td>\n",
              "      <td>NaN</td>\n",
              "      <td>ESTADOS UNIDOS DA AMERICA</td>\n",
              "      <td>AMERICA DO NORTE</td>\n",
              "      <td>SBEG</td>\n",
              "    </tr>\n",
              "    <tr>\n",
              "      <th>1</th>\n",
              "      <td>AAL</td>\n",
              "      <td>1265</td>\n",
              "      <td>0</td>\n",
              "      <td>I</td>\n",
              "      <td>KMIA</td>\n",
              "      <td>SBEG</td>\n",
              "      <td>2018-01-02 20:30:00</td>\n",
              "      <td>2018-01-02 20:30:00</td>\n",
              "      <td>2018-01-03 01:53:00</td>\n",
              "      <td>2018-01-03 01:53:00</td>\n",
              "      <td>REALIZADO</td>\n",
              "      <td>AMERICAN AIRLINES INC</td>\n",
              "      <td>ESTRANGEIRA</td>\n",
              "      <td>SBEG</td>\n",
              "      <td>MIAMI INTERNATIONAL AIRPORT</td>\n",
              "      <td>MIAMI</td>\n",
              "      <td>NaN</td>\n",
              "      <td>ESTADOS UNIDOS DA AMERICA</td>\n",
              "      <td>AMERICA DO NORTE</td>\n",
              "      <td>SBEG</td>\n",
              "    </tr>\n",
              "    <tr>\n",
              "      <th>2</th>\n",
              "      <td>AAL</td>\n",
              "      <td>1265</td>\n",
              "      <td>0</td>\n",
              "      <td>I</td>\n",
              "      <td>KMIA</td>\n",
              "      <td>SBEG</td>\n",
              "      <td>2018-01-03 20:30:00</td>\n",
              "      <td>2018-01-03 20:30:00</td>\n",
              "      <td>2018-01-04 01:53:00</td>\n",
              "      <td>2018-01-04 01:53:00</td>\n",
              "      <td>REALIZADO</td>\n",
              "      <td>AMERICAN AIRLINES INC</td>\n",
              "      <td>ESTRANGEIRA</td>\n",
              "      <td>SBEG</td>\n",
              "      <td>MIAMI INTERNATIONAL AIRPORT</td>\n",
              "      <td>MIAMI</td>\n",
              "      <td>NaN</td>\n",
              "      <td>ESTADOS UNIDOS DA AMERICA</td>\n",
              "      <td>AMERICA DO NORTE</td>\n",
              "      <td>SBEG</td>\n",
              "    </tr>\n",
              "    <tr>\n",
              "      <th>3</th>\n",
              "      <td>AAL</td>\n",
              "      <td>1265</td>\n",
              "      <td>0</td>\n",
              "      <td>I</td>\n",
              "      <td>KMIA</td>\n",
              "      <td>SBEG</td>\n",
              "      <td>2018-01-04 20:30:00</td>\n",
              "      <td>2018-01-04 20:30:00</td>\n",
              "      <td>2018-01-05 01:53:00</td>\n",
              "      <td>2018-01-05 01:53:00</td>\n",
              "      <td>REALIZADO</td>\n",
              "      <td>AMERICAN AIRLINES INC</td>\n",
              "      <td>ESTRANGEIRA</td>\n",
              "      <td>SBEG</td>\n",
              "      <td>MIAMI INTERNATIONAL AIRPORT</td>\n",
              "      <td>MIAMI</td>\n",
              "      <td>NaN</td>\n",
              "      <td>ESTADOS UNIDOS DA AMERICA</td>\n",
              "      <td>AMERICA DO NORTE</td>\n",
              "      <td>SBEG</td>\n",
              "    </tr>\n",
              "    <tr>\n",
              "      <th>4</th>\n",
              "      <td>AAL</td>\n",
              "      <td>1265</td>\n",
              "      <td>0</td>\n",
              "      <td>I</td>\n",
              "      <td>KMIA</td>\n",
              "      <td>SBEG</td>\n",
              "      <td>2018-01-05 20:30:00</td>\n",
              "      <td>2018-01-05 20:30:00</td>\n",
              "      <td>2018-01-06 01:53:00</td>\n",
              "      <td>2018-01-06 01:53:00</td>\n",
              "      <td>REALIZADO</td>\n",
              "      <td>AMERICAN AIRLINES INC</td>\n",
              "      <td>ESTRANGEIRA</td>\n",
              "      <td>SBEG</td>\n",
              "      <td>MIAMI INTERNATIONAL AIRPORT</td>\n",
              "      <td>MIAMI</td>\n",
              "      <td>NaN</td>\n",
              "      <td>ESTADOS UNIDOS DA AMERICA</td>\n",
              "      <td>AMERICA DO NORTE</td>\n",
              "      <td>SBEG</td>\n",
              "    </tr>\n",
              "  </tbody>\n",
              "</table>\n",
              "</div>"
            ],
            "text/plain": [
              "  Cod_Empresa_Aerea Num_Voo  ... Continente_Origem Sigla_Aeroporto_Dest\n",
              "0               AAL    1265  ...  AMERICA DO NORTE                 SBEG\n",
              "1               AAL    1265  ...  AMERICA DO NORTE                 SBEG\n",
              "2               AAL    1265  ...  AMERICA DO NORTE                 SBEG\n",
              "3               AAL    1265  ...  AMERICA DO NORTE                 SBEG\n",
              "4               AAL    1265  ...  AMERICA DO NORTE                 SBEG\n",
              "\n",
              "[5 rows x 20 columns]"
            ]
          },
          "metadata": {
            "tags": []
          },
          "execution_count": 49
        }
      ]
    },
    {
      "cell_type": "code",
      "metadata": {
        "id": "kEtlGSirw433"
      },
      "source": [
        "df_completo = df_copia.merge(df_aeroporto, how=\"left\")"
      ],
      "execution_count": 50,
      "outputs": []
    },
    {
      "cell_type": "code",
      "metadata": {
        "id": "3VfoLmtFw4s1",
        "colab": {
          "base_uri": "https://localhost:8080/",
          "height": 394
        },
        "outputId": "bfca8649-b0f9-4f50-c3ff-580a241fb480"
      },
      "source": [
        "df_completo.head()"
      ],
      "execution_count": 51,
      "outputs": [
        {
          "output_type": "execute_result",
          "data": {
            "text/html": [
              "<div>\n",
              "<style scoped>\n",
              "    .dataframe tbody tr th:only-of-type {\n",
              "        vertical-align: middle;\n",
              "    }\n",
              "\n",
              "    .dataframe tbody tr th {\n",
              "        vertical-align: top;\n",
              "    }\n",
              "\n",
              "    .dataframe thead th {\n",
              "        text-align: right;\n",
              "    }\n",
              "</style>\n",
              "<table border=\"1\" class=\"dataframe\">\n",
              "  <thead>\n",
              "    <tr style=\"text-align: right;\">\n",
              "      <th></th>\n",
              "      <th>Cod_Empresa_Aerea</th>\n",
              "      <th>Num_Voo</th>\n",
              "      <th>Cod_Autorizacao_DI</th>\n",
              "      <th>Cod_Tipo_Linha</th>\n",
              "      <th>Cod_Aerodromo_Origem</th>\n",
              "      <th>Cod_Aerodromo_Destino</th>\n",
              "      <th>Partida_Prevista</th>\n",
              "      <th>Partida_Real</th>\n",
              "      <th>Chegada_Prevista</th>\n",
              "      <th>Chegada_Real</th>\n",
              "      <th>Situacao_Voo</th>\n",
              "      <th>Nome_Empresa</th>\n",
              "      <th>Origem_Empresa</th>\n",
              "      <th>Sigla_Aeroporto</th>\n",
              "      <th>Aeroporto_Origem</th>\n",
              "      <th>Cidade_Origem</th>\n",
              "      <th>UF_Origem</th>\n",
              "      <th>Pais_Origem</th>\n",
              "      <th>Continente_Origem</th>\n",
              "      <th>Sigla_Aeroporto_Dest</th>\n",
              "      <th>Descricao</th>\n",
              "      <th>Cidade</th>\n",
              "      <th>UF</th>\n",
              "      <th>Pais</th>\n",
              "      <th>Continente</th>\n",
              "    </tr>\n",
              "  </thead>\n",
              "  <tbody>\n",
              "    <tr>\n",
              "      <th>0</th>\n",
              "      <td>AAL</td>\n",
              "      <td>1265</td>\n",
              "      <td>0</td>\n",
              "      <td>I</td>\n",
              "      <td>KMIA</td>\n",
              "      <td>SBEG</td>\n",
              "      <td>2018-01-01 20:30:00</td>\n",
              "      <td>2018-01-01 20:30:00</td>\n",
              "      <td>2018-01-02 01:53:00</td>\n",
              "      <td>2018-01-02 01:53:00</td>\n",
              "      <td>REALIZADO</td>\n",
              "      <td>AMERICAN AIRLINES INC</td>\n",
              "      <td>ESTRANGEIRA</td>\n",
              "      <td>SBEG</td>\n",
              "      <td>MIAMI INTERNATIONAL AIRPORT</td>\n",
              "      <td>MIAMI</td>\n",
              "      <td>NaN</td>\n",
              "      <td>ESTADOS UNIDOS DA AMERICA</td>\n",
              "      <td>AMERICA DO NORTE</td>\n",
              "      <td>SBEG</td>\n",
              "      <td>EDUARDO GOMES</td>\n",
              "      <td>MANAUS</td>\n",
              "      <td>AM</td>\n",
              "      <td>BRASIL</td>\n",
              "      <td>AMERICA DO SUL</td>\n",
              "    </tr>\n",
              "    <tr>\n",
              "      <th>1</th>\n",
              "      <td>AAL</td>\n",
              "      <td>1265</td>\n",
              "      <td>0</td>\n",
              "      <td>I</td>\n",
              "      <td>KMIA</td>\n",
              "      <td>SBEG</td>\n",
              "      <td>2018-01-02 20:30:00</td>\n",
              "      <td>2018-01-02 20:30:00</td>\n",
              "      <td>2018-01-03 01:53:00</td>\n",
              "      <td>2018-01-03 01:53:00</td>\n",
              "      <td>REALIZADO</td>\n",
              "      <td>AMERICAN AIRLINES INC</td>\n",
              "      <td>ESTRANGEIRA</td>\n",
              "      <td>SBEG</td>\n",
              "      <td>MIAMI INTERNATIONAL AIRPORT</td>\n",
              "      <td>MIAMI</td>\n",
              "      <td>NaN</td>\n",
              "      <td>ESTADOS UNIDOS DA AMERICA</td>\n",
              "      <td>AMERICA DO NORTE</td>\n",
              "      <td>SBEG</td>\n",
              "      <td>EDUARDO GOMES</td>\n",
              "      <td>MANAUS</td>\n",
              "      <td>AM</td>\n",
              "      <td>BRASIL</td>\n",
              "      <td>AMERICA DO SUL</td>\n",
              "    </tr>\n",
              "    <tr>\n",
              "      <th>2</th>\n",
              "      <td>AAL</td>\n",
              "      <td>1265</td>\n",
              "      <td>0</td>\n",
              "      <td>I</td>\n",
              "      <td>KMIA</td>\n",
              "      <td>SBEG</td>\n",
              "      <td>2018-01-03 20:30:00</td>\n",
              "      <td>2018-01-03 20:30:00</td>\n",
              "      <td>2018-01-04 01:53:00</td>\n",
              "      <td>2018-01-04 01:53:00</td>\n",
              "      <td>REALIZADO</td>\n",
              "      <td>AMERICAN AIRLINES INC</td>\n",
              "      <td>ESTRANGEIRA</td>\n",
              "      <td>SBEG</td>\n",
              "      <td>MIAMI INTERNATIONAL AIRPORT</td>\n",
              "      <td>MIAMI</td>\n",
              "      <td>NaN</td>\n",
              "      <td>ESTADOS UNIDOS DA AMERICA</td>\n",
              "      <td>AMERICA DO NORTE</td>\n",
              "      <td>SBEG</td>\n",
              "      <td>EDUARDO GOMES</td>\n",
              "      <td>MANAUS</td>\n",
              "      <td>AM</td>\n",
              "      <td>BRASIL</td>\n",
              "      <td>AMERICA DO SUL</td>\n",
              "    </tr>\n",
              "    <tr>\n",
              "      <th>3</th>\n",
              "      <td>AAL</td>\n",
              "      <td>1265</td>\n",
              "      <td>0</td>\n",
              "      <td>I</td>\n",
              "      <td>KMIA</td>\n",
              "      <td>SBEG</td>\n",
              "      <td>2018-01-04 20:30:00</td>\n",
              "      <td>2018-01-04 20:30:00</td>\n",
              "      <td>2018-01-05 01:53:00</td>\n",
              "      <td>2018-01-05 01:53:00</td>\n",
              "      <td>REALIZADO</td>\n",
              "      <td>AMERICAN AIRLINES INC</td>\n",
              "      <td>ESTRANGEIRA</td>\n",
              "      <td>SBEG</td>\n",
              "      <td>MIAMI INTERNATIONAL AIRPORT</td>\n",
              "      <td>MIAMI</td>\n",
              "      <td>NaN</td>\n",
              "      <td>ESTADOS UNIDOS DA AMERICA</td>\n",
              "      <td>AMERICA DO NORTE</td>\n",
              "      <td>SBEG</td>\n",
              "      <td>EDUARDO GOMES</td>\n",
              "      <td>MANAUS</td>\n",
              "      <td>AM</td>\n",
              "      <td>BRASIL</td>\n",
              "      <td>AMERICA DO SUL</td>\n",
              "    </tr>\n",
              "    <tr>\n",
              "      <th>4</th>\n",
              "      <td>AAL</td>\n",
              "      <td>1265</td>\n",
              "      <td>0</td>\n",
              "      <td>I</td>\n",
              "      <td>KMIA</td>\n",
              "      <td>SBEG</td>\n",
              "      <td>2018-01-05 20:30:00</td>\n",
              "      <td>2018-01-05 20:30:00</td>\n",
              "      <td>2018-01-06 01:53:00</td>\n",
              "      <td>2018-01-06 01:53:00</td>\n",
              "      <td>REALIZADO</td>\n",
              "      <td>AMERICAN AIRLINES INC</td>\n",
              "      <td>ESTRANGEIRA</td>\n",
              "      <td>SBEG</td>\n",
              "      <td>MIAMI INTERNATIONAL AIRPORT</td>\n",
              "      <td>MIAMI</td>\n",
              "      <td>NaN</td>\n",
              "      <td>ESTADOS UNIDOS DA AMERICA</td>\n",
              "      <td>AMERICA DO NORTE</td>\n",
              "      <td>SBEG</td>\n",
              "      <td>EDUARDO GOMES</td>\n",
              "      <td>MANAUS</td>\n",
              "      <td>AM</td>\n",
              "      <td>BRASIL</td>\n",
              "      <td>AMERICA DO SUL</td>\n",
              "    </tr>\n",
              "  </tbody>\n",
              "</table>\n",
              "</div>"
            ],
            "text/plain": [
              "  Cod_Empresa_Aerea Num_Voo Cod_Autorizacao_DI  ...  UF    Pais      Continente\n",
              "0               AAL    1265                  0  ...  AM  BRASIL  AMERICA DO SUL\n",
              "1               AAL    1265                  0  ...  AM  BRASIL  AMERICA DO SUL\n",
              "2               AAL    1265                  0  ...  AM  BRASIL  AMERICA DO SUL\n",
              "3               AAL    1265                  0  ...  AM  BRASIL  AMERICA DO SUL\n",
              "4               AAL    1265                  0  ...  AM  BRASIL  AMERICA DO SUL\n",
              "\n",
              "[5 rows x 25 columns]"
            ]
          },
          "metadata": {
            "tags": []
          },
          "execution_count": 51
        }
      ]
    },
    {
      "cell_type": "code",
      "metadata": {
        "id": "EDSb2Lxgxnig"
      },
      "source": [
        "df_completo.rename(columns={'Descricao': 'Aeroporto_Destino',\t'Cidade': 'Cidade_Destino',\t'UF': 'UF_Destino',\t'Pais': 'Pais_Destino',\t'Continente': 'Continente_Destino'}, inplace=True)"
      ],
      "execution_count": 101,
      "outputs": []
    },
    {
      "cell_type": "code",
      "metadata": {
        "id": "AI9UJtapxoGP",
        "colab": {
          "base_uri": "https://localhost:8080/",
          "height": 425
        },
        "outputId": "cb25dca0-d623-44fa-963d-d780d421b741"
      },
      "source": [
        "df_completo.head()"
      ],
      "execution_count": 102,
      "outputs": [
        {
          "output_type": "execute_result",
          "data": {
            "text/html": [
              "<div>\n",
              "<style scoped>\n",
              "    .dataframe tbody tr th:only-of-type {\n",
              "        vertical-align: middle;\n",
              "    }\n",
              "\n",
              "    .dataframe tbody tr th {\n",
              "        vertical-align: top;\n",
              "    }\n",
              "\n",
              "    .dataframe thead th {\n",
              "        text-align: right;\n",
              "    }\n",
              "</style>\n",
              "<table border=\"1\" class=\"dataframe\">\n",
              "  <thead>\n",
              "    <tr style=\"text-align: right;\">\n",
              "      <th></th>\n",
              "      <th>Cod_Empresa_Aerea</th>\n",
              "      <th>Num_Voo</th>\n",
              "      <th>Cod_Autorizacao_DI</th>\n",
              "      <th>Cod_Tipo_Linha</th>\n",
              "      <th>Cod_Aerodromo_Origem</th>\n",
              "      <th>Cod_Aerodromo_Destino</th>\n",
              "      <th>Partida_Prevista</th>\n",
              "      <th>Partida_Real</th>\n",
              "      <th>Chegada_Prevista</th>\n",
              "      <th>Chegada_Real</th>\n",
              "      <th>Situacao_Voo</th>\n",
              "      <th>Nome_Empresa</th>\n",
              "      <th>Origem_Empresa</th>\n",
              "      <th>Sigla_Aeroporto</th>\n",
              "      <th>Aeroporto_Origem</th>\n",
              "      <th>Cidade_Origem</th>\n",
              "      <th>UF_Origem</th>\n",
              "      <th>Pais_Origem</th>\n",
              "      <th>Continente_Origem</th>\n",
              "      <th>Sigla_Aeroporto_Dest</th>\n",
              "      <th>Descricao_destino</th>\n",
              "      <th>Cidade_Destino</th>\n",
              "      <th>UF_Destino</th>\n",
              "      <th>Pais_Destino</th>\n",
              "      <th>Continente_Destino</th>\n",
              "      <th>Ano</th>\n",
              "      <th>Mes</th>\n",
              "      <th>Dia</th>\n",
              "    </tr>\n",
              "    <tr>\n",
              "      <th>Data</th>\n",
              "      <th></th>\n",
              "      <th></th>\n",
              "      <th></th>\n",
              "      <th></th>\n",
              "      <th></th>\n",
              "      <th></th>\n",
              "      <th></th>\n",
              "      <th></th>\n",
              "      <th></th>\n",
              "      <th></th>\n",
              "      <th></th>\n",
              "      <th></th>\n",
              "      <th></th>\n",
              "      <th></th>\n",
              "      <th></th>\n",
              "      <th></th>\n",
              "      <th></th>\n",
              "      <th></th>\n",
              "      <th></th>\n",
              "      <th></th>\n",
              "      <th></th>\n",
              "      <th></th>\n",
              "      <th></th>\n",
              "      <th></th>\n",
              "      <th></th>\n",
              "      <th></th>\n",
              "      <th></th>\n",
              "      <th></th>\n",
              "    </tr>\n",
              "  </thead>\n",
              "  <tbody>\n",
              "    <tr>\n",
              "      <th>2018-01-01</th>\n",
              "      <td>AAL</td>\n",
              "      <td>1265</td>\n",
              "      <td>0</td>\n",
              "      <td>I</td>\n",
              "      <td>KMIA</td>\n",
              "      <td>SBEG</td>\n",
              "      <td>2018-01-01 20:30:00</td>\n",
              "      <td>2018-01-01 20:30:00</td>\n",
              "      <td>2018-01-02 01:53:00</td>\n",
              "      <td>2018-01-02 01:53:00</td>\n",
              "      <td>REALIZADO</td>\n",
              "      <td>AMERICAN AIRLINES INC</td>\n",
              "      <td>ESTRANGEIRA</td>\n",
              "      <td>SBEG</td>\n",
              "      <td>MIAMI INTERNATIONAL AIRPORT</td>\n",
              "      <td>MIAMI</td>\n",
              "      <td>NaN</td>\n",
              "      <td>ESTADOS UNIDOS DA AMERICA</td>\n",
              "      <td>AMERICA DO NORTE</td>\n",
              "      <td>SBEG</td>\n",
              "      <td>EDUARDO GOMES</td>\n",
              "      <td>MANAUS</td>\n",
              "      <td>AM</td>\n",
              "      <td>BRASIL</td>\n",
              "      <td>AMERICA DO SUL</td>\n",
              "      <td>2018.0</td>\n",
              "      <td>1.0</td>\n",
              "      <td>1.0</td>\n",
              "    </tr>\n",
              "    <tr>\n",
              "      <th>2018-01-02</th>\n",
              "      <td>AAL</td>\n",
              "      <td>1265</td>\n",
              "      <td>0</td>\n",
              "      <td>I</td>\n",
              "      <td>KMIA</td>\n",
              "      <td>SBEG</td>\n",
              "      <td>2018-01-02 20:30:00</td>\n",
              "      <td>2018-01-02 20:30:00</td>\n",
              "      <td>2018-01-03 01:53:00</td>\n",
              "      <td>2018-01-03 01:53:00</td>\n",
              "      <td>REALIZADO</td>\n",
              "      <td>AMERICAN AIRLINES INC</td>\n",
              "      <td>ESTRANGEIRA</td>\n",
              "      <td>SBEG</td>\n",
              "      <td>MIAMI INTERNATIONAL AIRPORT</td>\n",
              "      <td>MIAMI</td>\n",
              "      <td>NaN</td>\n",
              "      <td>ESTADOS UNIDOS DA AMERICA</td>\n",
              "      <td>AMERICA DO NORTE</td>\n",
              "      <td>SBEG</td>\n",
              "      <td>EDUARDO GOMES</td>\n",
              "      <td>MANAUS</td>\n",
              "      <td>AM</td>\n",
              "      <td>BRASIL</td>\n",
              "      <td>AMERICA DO SUL</td>\n",
              "      <td>2018.0</td>\n",
              "      <td>1.0</td>\n",
              "      <td>2.0</td>\n",
              "    </tr>\n",
              "    <tr>\n",
              "      <th>2018-01-03</th>\n",
              "      <td>AAL</td>\n",
              "      <td>1265</td>\n",
              "      <td>0</td>\n",
              "      <td>I</td>\n",
              "      <td>KMIA</td>\n",
              "      <td>SBEG</td>\n",
              "      <td>2018-01-03 20:30:00</td>\n",
              "      <td>2018-01-03 20:30:00</td>\n",
              "      <td>2018-01-04 01:53:00</td>\n",
              "      <td>2018-01-04 01:53:00</td>\n",
              "      <td>REALIZADO</td>\n",
              "      <td>AMERICAN AIRLINES INC</td>\n",
              "      <td>ESTRANGEIRA</td>\n",
              "      <td>SBEG</td>\n",
              "      <td>MIAMI INTERNATIONAL AIRPORT</td>\n",
              "      <td>MIAMI</td>\n",
              "      <td>NaN</td>\n",
              "      <td>ESTADOS UNIDOS DA AMERICA</td>\n",
              "      <td>AMERICA DO NORTE</td>\n",
              "      <td>SBEG</td>\n",
              "      <td>EDUARDO GOMES</td>\n",
              "      <td>MANAUS</td>\n",
              "      <td>AM</td>\n",
              "      <td>BRASIL</td>\n",
              "      <td>AMERICA DO SUL</td>\n",
              "      <td>2018.0</td>\n",
              "      <td>1.0</td>\n",
              "      <td>3.0</td>\n",
              "    </tr>\n",
              "    <tr>\n",
              "      <th>2018-01-04</th>\n",
              "      <td>AAL</td>\n",
              "      <td>1265</td>\n",
              "      <td>0</td>\n",
              "      <td>I</td>\n",
              "      <td>KMIA</td>\n",
              "      <td>SBEG</td>\n",
              "      <td>2018-01-04 20:30:00</td>\n",
              "      <td>2018-01-04 20:30:00</td>\n",
              "      <td>2018-01-05 01:53:00</td>\n",
              "      <td>2018-01-05 01:53:00</td>\n",
              "      <td>REALIZADO</td>\n",
              "      <td>AMERICAN AIRLINES INC</td>\n",
              "      <td>ESTRANGEIRA</td>\n",
              "      <td>SBEG</td>\n",
              "      <td>MIAMI INTERNATIONAL AIRPORT</td>\n",
              "      <td>MIAMI</td>\n",
              "      <td>NaN</td>\n",
              "      <td>ESTADOS UNIDOS DA AMERICA</td>\n",
              "      <td>AMERICA DO NORTE</td>\n",
              "      <td>SBEG</td>\n",
              "      <td>EDUARDO GOMES</td>\n",
              "      <td>MANAUS</td>\n",
              "      <td>AM</td>\n",
              "      <td>BRASIL</td>\n",
              "      <td>AMERICA DO SUL</td>\n",
              "      <td>2018.0</td>\n",
              "      <td>1.0</td>\n",
              "      <td>4.0</td>\n",
              "    </tr>\n",
              "    <tr>\n",
              "      <th>2018-01-05</th>\n",
              "      <td>AAL</td>\n",
              "      <td>1265</td>\n",
              "      <td>0</td>\n",
              "      <td>I</td>\n",
              "      <td>KMIA</td>\n",
              "      <td>SBEG</td>\n",
              "      <td>2018-01-05 20:30:00</td>\n",
              "      <td>2018-01-05 20:30:00</td>\n",
              "      <td>2018-01-06 01:53:00</td>\n",
              "      <td>2018-01-06 01:53:00</td>\n",
              "      <td>REALIZADO</td>\n",
              "      <td>AMERICAN AIRLINES INC</td>\n",
              "      <td>ESTRANGEIRA</td>\n",
              "      <td>SBEG</td>\n",
              "      <td>MIAMI INTERNATIONAL AIRPORT</td>\n",
              "      <td>MIAMI</td>\n",
              "      <td>NaN</td>\n",
              "      <td>ESTADOS UNIDOS DA AMERICA</td>\n",
              "      <td>AMERICA DO NORTE</td>\n",
              "      <td>SBEG</td>\n",
              "      <td>EDUARDO GOMES</td>\n",
              "      <td>MANAUS</td>\n",
              "      <td>AM</td>\n",
              "      <td>BRASIL</td>\n",
              "      <td>AMERICA DO SUL</td>\n",
              "      <td>2018.0</td>\n",
              "      <td>1.0</td>\n",
              "      <td>5.0</td>\n",
              "    </tr>\n",
              "  </tbody>\n",
              "</table>\n",
              "</div>"
            ],
            "text/plain": [
              "           Cod_Empresa_Aerea Num_Voo Cod_Autorizacao_DI  ...     Ano  Mes  Dia\n",
              "Data                                                     ...                  \n",
              "2018-01-01               AAL    1265                  0  ...  2018.0  1.0  1.0\n",
              "2018-01-02               AAL    1265                  0  ...  2018.0  1.0  2.0\n",
              "2018-01-03               AAL    1265                  0  ...  2018.0  1.0  3.0\n",
              "2018-01-04               AAL    1265                  0  ...  2018.0  1.0  4.0\n",
              "2018-01-05               AAL    1265                  0  ...  2018.0  1.0  5.0\n",
              "\n",
              "[5 rows x 28 columns]"
            ]
          },
          "metadata": {
            "tags": []
          },
          "execution_count": 102
        }
      ]
    },
    {
      "cell_type": "markdown",
      "metadata": {
        "id": "0tH-pizLzoRF"
      },
      "source": [
        "Transformando a coluna Partida_Prevista no tipo datetime e criando uma nova coluna com a Data"
      ]
    },
    {
      "cell_type": "code",
      "metadata": {
        "id": "fTRfuToxxoN-"
      },
      "source": [
        "from datetime import datetime\n",
        "df_completo[\"Data\"] = df_completo['Partida_Prevista'].dt.strftime(\"%Y-%m-%d\")"
      ],
      "execution_count": 103,
      "outputs": []
    },
    {
      "cell_type": "markdown",
      "metadata": {
        "id": "LFLiiQjyz1Ao"
      },
      "source": [
        "Criando novas colunas de ano, mês e dia"
      ]
    },
    {
      "cell_type": "code",
      "metadata": {
        "id": "s859Gdg-xofz"
      },
      "source": [
        "df_completo[\"Ano\"] = df_completo[\"Partida_Prevista\"].dt.year\n",
        "df_completo[\"Mes\"] = df_completo[\"Partida_Prevista\"].dt.month\n",
        "df_completo[\"Dia\"] = df_completo[\"Partida_Prevista\"].dt.day"
      ],
      "execution_count": 104,
      "outputs": []
    },
    {
      "cell_type": "code",
      "metadata": {
        "id": "wP4pjiwGxoKR",
        "colab": {
          "base_uri": "https://localhost:8080/",
          "height": 425
        },
        "outputId": "f166d7e5-fca1-4ea1-b315-c23d8d6dd67c"
      },
      "source": [
        "df_completo.head()"
      ],
      "execution_count": 105,
      "outputs": [
        {
          "output_type": "execute_result",
          "data": {
            "text/html": [
              "<div>\n",
              "<style scoped>\n",
              "    .dataframe tbody tr th:only-of-type {\n",
              "        vertical-align: middle;\n",
              "    }\n",
              "\n",
              "    .dataframe tbody tr th {\n",
              "        vertical-align: top;\n",
              "    }\n",
              "\n",
              "    .dataframe thead th {\n",
              "        text-align: right;\n",
              "    }\n",
              "</style>\n",
              "<table border=\"1\" class=\"dataframe\">\n",
              "  <thead>\n",
              "    <tr style=\"text-align: right;\">\n",
              "      <th></th>\n",
              "      <th>Cod_Empresa_Aerea</th>\n",
              "      <th>Num_Voo</th>\n",
              "      <th>Cod_Autorizacao_DI</th>\n",
              "      <th>Cod_Tipo_Linha</th>\n",
              "      <th>Cod_Aerodromo_Origem</th>\n",
              "      <th>Cod_Aerodromo_Destino</th>\n",
              "      <th>Partida_Prevista</th>\n",
              "      <th>Partida_Real</th>\n",
              "      <th>Chegada_Prevista</th>\n",
              "      <th>Chegada_Real</th>\n",
              "      <th>Situacao_Voo</th>\n",
              "      <th>Nome_Empresa</th>\n",
              "      <th>Origem_Empresa</th>\n",
              "      <th>Sigla_Aeroporto</th>\n",
              "      <th>Aeroporto_Origem</th>\n",
              "      <th>Cidade_Origem</th>\n",
              "      <th>UF_Origem</th>\n",
              "      <th>Pais_Origem</th>\n",
              "      <th>Continente_Origem</th>\n",
              "      <th>Sigla_Aeroporto_Dest</th>\n",
              "      <th>Descricao_destino</th>\n",
              "      <th>Cidade_Destino</th>\n",
              "      <th>UF_Destino</th>\n",
              "      <th>Pais_Destino</th>\n",
              "      <th>Continente_Destino</th>\n",
              "      <th>Ano</th>\n",
              "      <th>Mes</th>\n",
              "      <th>Dia</th>\n",
              "      <th>Data</th>\n",
              "    </tr>\n",
              "    <tr>\n",
              "      <th>Data</th>\n",
              "      <th></th>\n",
              "      <th></th>\n",
              "      <th></th>\n",
              "      <th></th>\n",
              "      <th></th>\n",
              "      <th></th>\n",
              "      <th></th>\n",
              "      <th></th>\n",
              "      <th></th>\n",
              "      <th></th>\n",
              "      <th></th>\n",
              "      <th></th>\n",
              "      <th></th>\n",
              "      <th></th>\n",
              "      <th></th>\n",
              "      <th></th>\n",
              "      <th></th>\n",
              "      <th></th>\n",
              "      <th></th>\n",
              "      <th></th>\n",
              "      <th></th>\n",
              "      <th></th>\n",
              "      <th></th>\n",
              "      <th></th>\n",
              "      <th></th>\n",
              "      <th></th>\n",
              "      <th></th>\n",
              "      <th></th>\n",
              "      <th></th>\n",
              "    </tr>\n",
              "  </thead>\n",
              "  <tbody>\n",
              "    <tr>\n",
              "      <th>2018-01-01</th>\n",
              "      <td>AAL</td>\n",
              "      <td>1265</td>\n",
              "      <td>0</td>\n",
              "      <td>I</td>\n",
              "      <td>KMIA</td>\n",
              "      <td>SBEG</td>\n",
              "      <td>2018-01-01 20:30:00</td>\n",
              "      <td>2018-01-01 20:30:00</td>\n",
              "      <td>2018-01-02 01:53:00</td>\n",
              "      <td>2018-01-02 01:53:00</td>\n",
              "      <td>REALIZADO</td>\n",
              "      <td>AMERICAN AIRLINES INC</td>\n",
              "      <td>ESTRANGEIRA</td>\n",
              "      <td>SBEG</td>\n",
              "      <td>MIAMI INTERNATIONAL AIRPORT</td>\n",
              "      <td>MIAMI</td>\n",
              "      <td>NaN</td>\n",
              "      <td>ESTADOS UNIDOS DA AMERICA</td>\n",
              "      <td>AMERICA DO NORTE</td>\n",
              "      <td>SBEG</td>\n",
              "      <td>EDUARDO GOMES</td>\n",
              "      <td>MANAUS</td>\n",
              "      <td>AM</td>\n",
              "      <td>BRASIL</td>\n",
              "      <td>AMERICA DO SUL</td>\n",
              "      <td>2018.0</td>\n",
              "      <td>1.0</td>\n",
              "      <td>1.0</td>\n",
              "      <td>2018-01-01</td>\n",
              "    </tr>\n",
              "    <tr>\n",
              "      <th>2018-01-02</th>\n",
              "      <td>AAL</td>\n",
              "      <td>1265</td>\n",
              "      <td>0</td>\n",
              "      <td>I</td>\n",
              "      <td>KMIA</td>\n",
              "      <td>SBEG</td>\n",
              "      <td>2018-01-02 20:30:00</td>\n",
              "      <td>2018-01-02 20:30:00</td>\n",
              "      <td>2018-01-03 01:53:00</td>\n",
              "      <td>2018-01-03 01:53:00</td>\n",
              "      <td>REALIZADO</td>\n",
              "      <td>AMERICAN AIRLINES INC</td>\n",
              "      <td>ESTRANGEIRA</td>\n",
              "      <td>SBEG</td>\n",
              "      <td>MIAMI INTERNATIONAL AIRPORT</td>\n",
              "      <td>MIAMI</td>\n",
              "      <td>NaN</td>\n",
              "      <td>ESTADOS UNIDOS DA AMERICA</td>\n",
              "      <td>AMERICA DO NORTE</td>\n",
              "      <td>SBEG</td>\n",
              "      <td>EDUARDO GOMES</td>\n",
              "      <td>MANAUS</td>\n",
              "      <td>AM</td>\n",
              "      <td>BRASIL</td>\n",
              "      <td>AMERICA DO SUL</td>\n",
              "      <td>2018.0</td>\n",
              "      <td>1.0</td>\n",
              "      <td>2.0</td>\n",
              "      <td>2018-01-02</td>\n",
              "    </tr>\n",
              "    <tr>\n",
              "      <th>2018-01-03</th>\n",
              "      <td>AAL</td>\n",
              "      <td>1265</td>\n",
              "      <td>0</td>\n",
              "      <td>I</td>\n",
              "      <td>KMIA</td>\n",
              "      <td>SBEG</td>\n",
              "      <td>2018-01-03 20:30:00</td>\n",
              "      <td>2018-01-03 20:30:00</td>\n",
              "      <td>2018-01-04 01:53:00</td>\n",
              "      <td>2018-01-04 01:53:00</td>\n",
              "      <td>REALIZADO</td>\n",
              "      <td>AMERICAN AIRLINES INC</td>\n",
              "      <td>ESTRANGEIRA</td>\n",
              "      <td>SBEG</td>\n",
              "      <td>MIAMI INTERNATIONAL AIRPORT</td>\n",
              "      <td>MIAMI</td>\n",
              "      <td>NaN</td>\n",
              "      <td>ESTADOS UNIDOS DA AMERICA</td>\n",
              "      <td>AMERICA DO NORTE</td>\n",
              "      <td>SBEG</td>\n",
              "      <td>EDUARDO GOMES</td>\n",
              "      <td>MANAUS</td>\n",
              "      <td>AM</td>\n",
              "      <td>BRASIL</td>\n",
              "      <td>AMERICA DO SUL</td>\n",
              "      <td>2018.0</td>\n",
              "      <td>1.0</td>\n",
              "      <td>3.0</td>\n",
              "      <td>2018-01-03</td>\n",
              "    </tr>\n",
              "    <tr>\n",
              "      <th>2018-01-04</th>\n",
              "      <td>AAL</td>\n",
              "      <td>1265</td>\n",
              "      <td>0</td>\n",
              "      <td>I</td>\n",
              "      <td>KMIA</td>\n",
              "      <td>SBEG</td>\n",
              "      <td>2018-01-04 20:30:00</td>\n",
              "      <td>2018-01-04 20:30:00</td>\n",
              "      <td>2018-01-05 01:53:00</td>\n",
              "      <td>2018-01-05 01:53:00</td>\n",
              "      <td>REALIZADO</td>\n",
              "      <td>AMERICAN AIRLINES INC</td>\n",
              "      <td>ESTRANGEIRA</td>\n",
              "      <td>SBEG</td>\n",
              "      <td>MIAMI INTERNATIONAL AIRPORT</td>\n",
              "      <td>MIAMI</td>\n",
              "      <td>NaN</td>\n",
              "      <td>ESTADOS UNIDOS DA AMERICA</td>\n",
              "      <td>AMERICA DO NORTE</td>\n",
              "      <td>SBEG</td>\n",
              "      <td>EDUARDO GOMES</td>\n",
              "      <td>MANAUS</td>\n",
              "      <td>AM</td>\n",
              "      <td>BRASIL</td>\n",
              "      <td>AMERICA DO SUL</td>\n",
              "      <td>2018.0</td>\n",
              "      <td>1.0</td>\n",
              "      <td>4.0</td>\n",
              "      <td>2018-01-04</td>\n",
              "    </tr>\n",
              "    <tr>\n",
              "      <th>2018-01-05</th>\n",
              "      <td>AAL</td>\n",
              "      <td>1265</td>\n",
              "      <td>0</td>\n",
              "      <td>I</td>\n",
              "      <td>KMIA</td>\n",
              "      <td>SBEG</td>\n",
              "      <td>2018-01-05 20:30:00</td>\n",
              "      <td>2018-01-05 20:30:00</td>\n",
              "      <td>2018-01-06 01:53:00</td>\n",
              "      <td>2018-01-06 01:53:00</td>\n",
              "      <td>REALIZADO</td>\n",
              "      <td>AMERICAN AIRLINES INC</td>\n",
              "      <td>ESTRANGEIRA</td>\n",
              "      <td>SBEG</td>\n",
              "      <td>MIAMI INTERNATIONAL AIRPORT</td>\n",
              "      <td>MIAMI</td>\n",
              "      <td>NaN</td>\n",
              "      <td>ESTADOS UNIDOS DA AMERICA</td>\n",
              "      <td>AMERICA DO NORTE</td>\n",
              "      <td>SBEG</td>\n",
              "      <td>EDUARDO GOMES</td>\n",
              "      <td>MANAUS</td>\n",
              "      <td>AM</td>\n",
              "      <td>BRASIL</td>\n",
              "      <td>AMERICA DO SUL</td>\n",
              "      <td>2018.0</td>\n",
              "      <td>1.0</td>\n",
              "      <td>5.0</td>\n",
              "      <td>2018-01-05</td>\n",
              "    </tr>\n",
              "  </tbody>\n",
              "</table>\n",
              "</div>"
            ],
            "text/plain": [
              "           Cod_Empresa_Aerea Num_Voo Cod_Autorizacao_DI  ...  Mes  Dia        Data\n",
              "Data                                                     ...                      \n",
              "2018-01-01               AAL    1265                  0  ...  1.0  1.0  2018-01-01\n",
              "2018-01-02               AAL    1265                  0  ...  1.0  2.0  2018-01-02\n",
              "2018-01-03               AAL    1265                  0  ...  1.0  3.0  2018-01-03\n",
              "2018-01-04               AAL    1265                  0  ...  1.0  4.0  2018-01-04\n",
              "2018-01-05               AAL    1265                  0  ...  1.0  5.0  2018-01-05\n",
              "\n",
              "[5 rows x 29 columns]"
            ]
          },
          "metadata": {
            "tags": []
          },
          "execution_count": 105
        }
      ]
    },
    {
      "cell_type": "markdown",
      "metadata": {
        "id": "M9h-GIYd0QHW"
      },
      "source": [
        "Verificando os dias que tem mais voos registrados"
      ]
    },
    {
      "cell_type": "code",
      "metadata": {
        "id": "m9bW_kiDxna6",
        "colab": {
          "base_uri": "https://localhost:8080/"
        },
        "outputId": "04e2807c-4a2d-4f36-eeca-dc35e754e4d5"
      },
      "source": [
        "df_completo.Dia.value_counts()"
      ],
      "execution_count": 106,
      "outputs": [
        {
          "output_type": "execute_result",
          "data": {
            "text/plain": [
              "5.0     82063\n",
              "12.0    81844\n",
              "6.0     81638\n",
              "9.0     81571\n",
              "10.0    81557\n",
              "13.0    81511\n",
              "19.0    81407\n",
              "11.0    81399\n",
              "14.0    81250\n",
              "16.0    81168\n",
              "17.0    80876\n",
              "18.0    80820\n",
              "15.0    80802\n",
              "20.0    80461\n",
              "8.0     80279\n",
              "2.0     80225\n",
              "4.0     80126\n",
              "22.0    80107\n",
              "21.0    79901\n",
              "7.0     79875\n",
              "3.0     79859\n",
              "26.0    79740\n",
              "23.0    79391\n",
              "27.0    78768\n",
              "28.0    78363\n",
              "1.0     78271\n",
              "25.0    77476\n",
              "24.0    77321\n",
              "29.0    72022\n",
              "30.0    69407\n",
              "31.0    43873\n",
              "Name: Dia, dtype: int64"
            ]
          },
          "metadata": {
            "tags": []
          },
          "execution_count": 106
        }
      ]
    },
    {
      "cell_type": "code",
      "metadata": {
        "id": "uSMfpSlEXa_f",
        "colab": {
          "base_uri": "https://localhost:8080/",
          "height": 512
        },
        "outputId": "b0f5c9d1-21ce-4c0f-85fb-05bbc1c76b4b"
      },
      "source": [
        "df_completo.Dia.value_counts().plot.bar()"
      ],
      "execution_count": 107,
      "outputs": [
        {
          "output_type": "execute_result",
          "data": {
            "text/plain": [
              "<matplotlib.axes._subplots.AxesSubplot at 0x7f240ae77240>"
            ]
          },
          "metadata": {
            "tags": []
          },
          "execution_count": 107
        },
        {
          "output_type": "display_data",
          "data": {
            "image/png": "[encoded data removed]",
            "text/plain": [
              "<Figure size 1080x576 with 1 Axes>"
            ]
          },
          "metadata": {
            "tags": [],
            "needs_background": "light"
          }
        }
      ]
    },
    {
      "cell_type": "code",
      "metadata": {
        "colab": {
          "base_uri": "https://localhost:8080/",
          "height": 602
        },
        "id": "Si8B1uKjMwtS",
        "outputId": "9e39073d-33d5-4982-b512-59bc35a0d13e"
      },
      "source": [
        "sns.countplot(df_completo.Dia)"
      ],
      "execution_count": 196,
      "outputs": [
        {
          "output_type": "stream",
          "text": [
            "/usr/local/lib/python3.6/dist-packages/seaborn/_decorators.py:43: FutureWarning:\n",
            "\n",
            "Pass the following variable as a keyword arg: x. From version 0.12, the only valid positional argument will be `data`, and passing other arguments without an explicit keyword will result in an error or misinterpretation.\n",
            "\n"
          ],
          "name": "stderr"
        },
        {
          "output_type": "execute_result",
          "data": {
            "text/plain": [
              "<matplotlib.axes._subplots.AxesSubplot at 0x7f23d498a5c0>"
            ]
          },
          "metadata": {
            "tags": []
          },
          "execution_count": 196
        },
        {
          "output_type": "display_data",
          "data": {
            "image/png": "[encoded data removed]",
            "text/plain": [
              "<Figure size 1080x576 with 1 Axes>"
            ]
          },
          "metadata": {
            "tags": [],
            "needs_background": "light"
          }
        }
      ]
    },
    {
      "cell_type": "code",
      "metadata": {
        "id": "L-5b9rXB-vZM",
        "colab": {
          "base_uri": "https://localhost:8080/"
        },
        "outputId": "30e8c2a1-a63b-43db-b22a-68085c362c2d"
      },
      "source": [
        "df_completo.Mes.value_counts()"
      ],
      "execution_count": 108,
      "outputs": [
        {
          "output_type": "execute_result",
          "data": {
            "text/plain": [
              "1.0     280981\n",
              "2.0     244665\n",
              "3.0     238338\n",
              "10.0    208330\n",
              "11.0    206431\n",
              "7.0     195464\n",
              "9.0     191859\n",
              "8.0     189565\n",
              "12.0    175876\n",
              "5.0     169931\n",
              "6.0     167101\n",
              "4.0     164830\n",
              "Name: Mes, dtype: int64"
            ]
          },
          "metadata": {
            "tags": []
          },
          "execution_count": 108
        }
      ]
    },
    {
      "cell_type": "markdown",
      "metadata": {
        "id": "GZ06-x7f5QID"
      },
      "source": [
        "Verificando os meses com maior numero de voos"
      ]
    },
    {
      "cell_type": "code",
      "metadata": {
        "id": "_EGBvsF8XqrH",
        "colab": {
          "base_uri": "https://localhost:8080/",
          "height": 500
        },
        "outputId": "201c294a-e435-41df-f945-92850998d3bc"
      },
      "source": [
        "df_completo.Mes.value_counts().sort_index().plot.line()"
      ],
      "execution_count": 109,
      "outputs": [
        {
          "output_type": "execute_result",
          "data": {
            "text/plain": [
              "<matplotlib.axes._subplots.AxesSubplot at 0x7f23f995acf8>"
            ]
          },
          "metadata": {
            "tags": []
          },
          "execution_count": 109
        },
        {
          "output_type": "display_data",
          "data": {
            "image/png": "[encoded data removed]",
            "text/plain": [
              "<Figure size 1080x576 with 1 Axes>"
            ]
          },
          "metadata": {
            "tags": [],
            "needs_background": "light"
          }
        }
      ]
    },
    {
      "cell_type": "markdown",
      "metadata": {
        "id": "2j1YEYI-5afq"
      },
      "source": [
        "Quantidade de voos por empresa"
      ]
    },
    {
      "cell_type": "code",
      "metadata": {
        "id": "aTGtxJe1g_Ur",
        "colab": {
          "base_uri": "https://localhost:8080/"
        },
        "outputId": "cdc0b52b-f76c-4372-8bf5-db6be213d9de"
      },
      "source": [
        "df_completo.groupby([\"Nome_Empresa\"])[\"Nome_Empresa\"].count().sort_values(ascending=False).head(20)"
      ],
      "execution_count": 110,
      "outputs": [
        {
          "output_type": "execute_result",
          "data": {
            "text/plain": [
              "Nome_Empresa\n",
              "AZUL                                   718977\n",
              "GOL                                    640237\n",
              "TAM                                    591832\n",
              "AVIANCA BRASIL                         126383\n",
              "PASSAREDO                               36335\n",
              "AEROLINEAS ARGENTINAS                   21421\n",
              "COPA -COMPANIA PANAMENA DE AVIACION     20944\n",
              "TAP AIR PORTUGAL                        18485\n",
              "AMERICAN AIRLINES INC                   16096\n",
              "ABSA                                    16061\n",
              "LAN CHILE                               13216\n",
              "MAP LINHAS AEREAS                       12910\n",
              "TOTAL                                    9701\n",
              "UNITED AIRLINES                          9664\n",
              "QATAR AIRWAYS                            8122\n",
              "LAN CARGO S.A                            7422\n",
              "EMIRATES                                 7229\n",
              "TAM TRANSP.AR.DEL.MERCOS.               7170\n",
              "AVIANCA                                  6885\n",
              "DELTA AIRLINES                           6840\n",
              "Name: Nome_Empresa, dtype: int64"
            ]
          },
          "metadata": {
            "tags": []
          },
          "execution_count": 110
        }
      ]
    },
    {
      "cell_type": "code",
      "metadata": {
        "id": "Tk1qiQtAnQh9",
        "colab": {
          "base_uri": "https://localhost:8080/",
          "height": 619
        },
        "outputId": "1b756955-6633-453a-f4da-94ae5df515eb"
      },
      "source": [
        "df_completo.groupby([\"Nome_Empresa\"])[\"Nome_Empresa\"].count().sort_values(ascending=False).head(20).plot.barh()"
      ],
      "execution_count": 111,
      "outputs": [
        {
          "output_type": "execute_result",
          "data": {
            "text/plain": [
              "<matplotlib.axes._subplots.AxesSubplot at 0x7f23f99312b0>"
            ]
          },
          "metadata": {
            "tags": []
          },
          "execution_count": 111
        },
        {
          "output_type": "stream",
          "text": [
            "/usr/local/lib/python3.6/dist-packages/matplotlib/backends/backend_agg.py:214: RuntimeWarning:\n",
            "\n",
            "Glyph 144 missing from current font.\n",
            "\n",
            "/usr/local/lib/python3.6/dist-packages/matplotlib/backends/backend_agg.py:183: RuntimeWarning:\n",
            "\n",
            "Glyph 144 missing from current font.\n",
            "\n"
          ],
          "name": "stderr"
        },
        {
          "output_type": "display_data",
          "data": {
            "image/png": "[encoded data removed]",
            "text/plain": [
              "<Figure size 1080x576 with 1 Axes>"
            ]
          },
          "metadata": {
            "tags": [],
            "needs_background": "light"
          }
        }
      ]
    },
    {
      "cell_type": "code",
      "metadata": {
        "id": "75IOFF1BwrOJ"
      },
      "source": [
        "voos_brasil = df_completo.query(\"Origem_Empresa == 'BRASILEIRA'\")"
      ],
      "execution_count": 112,
      "outputs": []
    },
    {
      "cell_type": "code",
      "metadata": {
        "id": "--Yt0dUww7xh",
        "colab": {
          "base_uri": "https://localhost:8080/",
          "height": 442
        },
        "outputId": "a3d633d6-c9cb-46b1-d61a-2d102b84404a"
      },
      "source": [
        "voos_brasil.head()"
      ],
      "execution_count": 113,
      "outputs": [
        {
          "output_type": "execute_result",
          "data": {
            "text/html": [
              "<div>\n",
              "<style scoped>\n",
              "    .dataframe tbody tr th:only-of-type {\n",
              "        vertical-align: middle;\n",
              "    }\n",
              "\n",
              "    .dataframe tbody tr th {\n",
              "        vertical-align: top;\n",
              "    }\n",
              "\n",
              "    .dataframe thead th {\n",
              "        text-align: right;\n",
              "    }\n",
              "</style>\n",
              "<table border=\"1\" class=\"dataframe\">\n",
              "  <thead>\n",
              "    <tr style=\"text-align: right;\">\n",
              "      <th></th>\n",
              "      <th>Cod_Empresa_Aerea</th>\n",
              "      <th>Num_Voo</th>\n",
              "      <th>Cod_Autorizacao_DI</th>\n",
              "      <th>Cod_Tipo_Linha</th>\n",
              "      <th>Cod_Aerodromo_Origem</th>\n",
              "      <th>Cod_Aerodromo_Destino</th>\n",
              "      <th>Partida_Prevista</th>\n",
              "      <th>Partida_Real</th>\n",
              "      <th>Chegada_Prevista</th>\n",
              "      <th>Chegada_Real</th>\n",
              "      <th>Situacao_Voo</th>\n",
              "      <th>Nome_Empresa</th>\n",
              "      <th>Origem_Empresa</th>\n",
              "      <th>Sigla_Aeroporto</th>\n",
              "      <th>Aeroporto_Origem</th>\n",
              "      <th>Cidade_Origem</th>\n",
              "      <th>UF_Origem</th>\n",
              "      <th>Pais_Origem</th>\n",
              "      <th>Continente_Origem</th>\n",
              "      <th>Sigla_Aeroporto_Dest</th>\n",
              "      <th>Descricao_destino</th>\n",
              "      <th>Cidade_Destino</th>\n",
              "      <th>UF_Destino</th>\n",
              "      <th>Pais_Destino</th>\n",
              "      <th>Continente_Destino</th>\n",
              "      <th>Ano</th>\n",
              "      <th>Mes</th>\n",
              "      <th>Dia</th>\n",
              "      <th>Data</th>\n",
              "    </tr>\n",
              "    <tr>\n",
              "      <th>Data</th>\n",
              "      <th></th>\n",
              "      <th></th>\n",
              "      <th></th>\n",
              "      <th></th>\n",
              "      <th></th>\n",
              "      <th></th>\n",
              "      <th></th>\n",
              "      <th></th>\n",
              "      <th></th>\n",
              "      <th></th>\n",
              "      <th></th>\n",
              "      <th></th>\n",
              "      <th></th>\n",
              "      <th></th>\n",
              "      <th></th>\n",
              "      <th></th>\n",
              "      <th></th>\n",
              "      <th></th>\n",
              "      <th></th>\n",
              "      <th></th>\n",
              "      <th></th>\n",
              "      <th></th>\n",
              "      <th></th>\n",
              "      <th></th>\n",
              "      <th></th>\n",
              "      <th></th>\n",
              "      <th></th>\n",
              "      <th></th>\n",
              "      <th></th>\n",
              "    </tr>\n",
              "  </thead>\n",
              "  <tbody>\n",
              "    <tr>\n",
              "      <th>2018-01-01</th>\n",
              "      <td>GLO</td>\n",
              "      <td>4939</td>\n",
              "      <td>0</td>\n",
              "      <td>R</td>\n",
              "      <td>SBSP</td>\n",
              "      <td>SBSV</td>\n",
              "      <td>2018-01-01 11:30:00</td>\n",
              "      <td>2018-01-01 11:50:00</td>\n",
              "      <td>2018-01-01 13:44:00</td>\n",
              "      <td>2018-01-01 14:06:00</td>\n",
              "      <td>REALIZADO</td>\n",
              "      <td>GOL</td>\n",
              "      <td>BRASILEIRA</td>\n",
              "      <td>SBSV</td>\n",
              "      <td>CONGONHAS</td>\n",
              "      <td>SÃO PAULO</td>\n",
              "      <td>SP</td>\n",
              "      <td>BRASIL</td>\n",
              "      <td>AMERICA DO SUL</td>\n",
              "      <td>SBSV</td>\n",
              "      <td>DEPUTADO LUÍS EDUARDO MAGALHÃES</td>\n",
              "      <td>SALVADOR</td>\n",
              "      <td>BA</td>\n",
              "      <td>BRASIL</td>\n",
              "      <td>AMERICA DO SUL</td>\n",
              "      <td>2018.0</td>\n",
              "      <td>1.0</td>\n",
              "      <td>1.0</td>\n",
              "      <td>2018-01-01</td>\n",
              "    </tr>\n",
              "    <tr>\n",
              "      <th>NaT</th>\n",
              "      <td>GLO</td>\n",
              "      <td>4939</td>\n",
              "      <td>2</td>\n",
              "      <td>N</td>\n",
              "      <td>SBSP</td>\n",
              "      <td>SBSV</td>\n",
              "      <td>NaT</td>\n",
              "      <td>2018-01-01 11:50:00</td>\n",
              "      <td>NaT</td>\n",
              "      <td>2018-01-01 14:06:00</td>\n",
              "      <td>REALIZADO</td>\n",
              "      <td>GOL</td>\n",
              "      <td>BRASILEIRA</td>\n",
              "      <td>SBSV</td>\n",
              "      <td>CONGONHAS</td>\n",
              "      <td>SÃO PAULO</td>\n",
              "      <td>SP</td>\n",
              "      <td>BRASIL</td>\n",
              "      <td>AMERICA DO SUL</td>\n",
              "      <td>SBSV</td>\n",
              "      <td>DEPUTADO LUÍS EDUARDO MAGALHÃES</td>\n",
              "      <td>SALVADOR</td>\n",
              "      <td>BA</td>\n",
              "      <td>BRASIL</td>\n",
              "      <td>AMERICA DO SUL</td>\n",
              "      <td>NaN</td>\n",
              "      <td>NaN</td>\n",
              "      <td>NaN</td>\n",
              "      <td>NaN</td>\n",
              "    </tr>\n",
              "    <tr>\n",
              "      <th>2018-01-01</th>\n",
              "      <td>GLO</td>\n",
              "      <td>4870</td>\n",
              "      <td>0</td>\n",
              "      <td>R</td>\n",
              "      <td>SBGR</td>\n",
              "      <td>SBPV</td>\n",
              "      <td>2018-01-01 20:35:00</td>\n",
              "      <td>2018-01-01 20:35:00</td>\n",
              "      <td>2018-01-02 00:10:00</td>\n",
              "      <td>2018-01-02 00:20:00</td>\n",
              "      <td>REALIZADO</td>\n",
              "      <td>GOL</td>\n",
              "      <td>BRASILEIRA</td>\n",
              "      <td>SBPV</td>\n",
              "      <td>GUARULHOS - GOVERNADOR ANDRÉ FRANCO MONTORO</td>\n",
              "      <td>GUARULHOS</td>\n",
              "      <td>SP</td>\n",
              "      <td>BRASIL</td>\n",
              "      <td>AMERICA DO SUL</td>\n",
              "      <td>SBPV</td>\n",
              "      <td>GOVERNADOR JORGE TEIXEIRA DE OLIVEIRA</td>\n",
              "      <td>PORTO VELHO</td>\n",
              "      <td>RO</td>\n",
              "      <td>BRASIL</td>\n",
              "      <td>AMERICA DO SUL</td>\n",
              "      <td>2018.0</td>\n",
              "      <td>1.0</td>\n",
              "      <td>1.0</td>\n",
              "      <td>2018-01-01</td>\n",
              "    </tr>\n",
              "    <tr>\n",
              "      <th>NaT</th>\n",
              "      <td>GLO</td>\n",
              "      <td>4870</td>\n",
              "      <td>2</td>\n",
              "      <td>N</td>\n",
              "      <td>SBGR</td>\n",
              "      <td>SBPV</td>\n",
              "      <td>NaT</td>\n",
              "      <td>2018-01-01 20:35:00</td>\n",
              "      <td>NaT</td>\n",
              "      <td>2018-01-02 00:20:00</td>\n",
              "      <td>REALIZADO</td>\n",
              "      <td>GOL</td>\n",
              "      <td>BRASILEIRA</td>\n",
              "      <td>SBPV</td>\n",
              "      <td>GUARULHOS - GOVERNADOR ANDRÉ FRANCO MONTORO</td>\n",
              "      <td>GUARULHOS</td>\n",
              "      <td>SP</td>\n",
              "      <td>BRASIL</td>\n",
              "      <td>AMERICA DO SUL</td>\n",
              "      <td>SBPV</td>\n",
              "      <td>GOVERNADOR JORGE TEIXEIRA DE OLIVEIRA</td>\n",
              "      <td>PORTO VELHO</td>\n",
              "      <td>RO</td>\n",
              "      <td>BRASIL</td>\n",
              "      <td>AMERICA DO SUL</td>\n",
              "      <td>NaN</td>\n",
              "      <td>NaN</td>\n",
              "      <td>NaN</td>\n",
              "      <td>NaN</td>\n",
              "    </tr>\n",
              "    <tr>\n",
              "      <th>2018-01-02</th>\n",
              "      <td>GLO</td>\n",
              "      <td>2070</td>\n",
              "      <td>0</td>\n",
              "      <td>R</td>\n",
              "      <td>SBSP</td>\n",
              "      <td>SBGO</td>\n",
              "      <td>2018-01-02 11:10:00</td>\n",
              "      <td>2018-01-02 11:17:00</td>\n",
              "      <td>2018-01-02 12:45:00</td>\n",
              "      <td>2018-01-02 12:57:00</td>\n",
              "      <td>REALIZADO</td>\n",
              "      <td>GOL</td>\n",
              "      <td>BRASILEIRA</td>\n",
              "      <td>SBGO</td>\n",
              "      <td>CONGONHAS</td>\n",
              "      <td>SÃO PAULO</td>\n",
              "      <td>SP</td>\n",
              "      <td>BRASIL</td>\n",
              "      <td>AMERICA DO SUL</td>\n",
              "      <td>SBGO</td>\n",
              "      <td>SANTA GENOVEVA</td>\n",
              "      <td>GOIÂNIA</td>\n",
              "      <td>GO</td>\n",
              "      <td>BRASIL</td>\n",
              "      <td>AMERICA DO SUL</td>\n",
              "      <td>2018.0</td>\n",
              "      <td>1.0</td>\n",
              "      <td>2.0</td>\n",
              "      <td>2018-01-02</td>\n",
              "    </tr>\n",
              "  </tbody>\n",
              "</table>\n",
              "</div>"
            ],
            "text/plain": [
              "           Cod_Empresa_Aerea Num_Voo Cod_Autorizacao_DI  ...  Mes  Dia        Data\n",
              "Data                                                     ...                      \n",
              "2018-01-01               GLO    4939                  0  ...  1.0  1.0  2018-01-01\n",
              "NaT                      GLO    4939                  2  ...  NaN  NaN         NaN\n",
              "2018-01-01               GLO    4870                  0  ...  1.0  1.0  2018-01-01\n",
              "NaT                      GLO    4870                  2  ...  NaN  NaN         NaN\n",
              "2018-01-02               GLO    2070                  0  ...  1.0  2.0  2018-01-02\n",
              "\n",
              "[5 rows x 29 columns]"
            ]
          },
          "metadata": {
            "tags": []
          },
          "execution_count": 113
        }
      ]
    },
    {
      "cell_type": "code",
      "metadata": {
        "id": "hNJhXIQDxpn6",
        "colab": {
          "base_uri": "https://localhost:8080/"
        },
        "outputId": "0762a88b-4f55-41dc-a9a2-3d61fa35e143"
      },
      "source": [
        "voos_brasil.groupby(\"Nome_Empresa\")[\"Cod_Empresa_Aerea\"].count().sort_values(ascending=False)"
      ],
      "execution_count": 114,
      "outputs": [
        {
          "output_type": "execute_result",
          "data": {
            "text/plain": [
              "Nome_Empresa\n",
              "AZUL                            718977\n",
              "GOL                             640237\n",
              "TAM                             591832\n",
              "AVIANCA BRASIL                  126383\n",
              "PASSAREDO                        36335\n",
              "ABSA                             16061\n",
              "MAP LINHAS AEREAS                12910\n",
              "TOTAL                             9701\n",
              "AMÉRICA DO SUL LINHAS AÉREAS      1029\n",
              "Name: Cod_Empresa_Aerea, dtype: int64"
            ]
          },
          "metadata": {
            "tags": []
          },
          "execution_count": 114
        }
      ]
    },
    {
      "cell_type": "code",
      "metadata": {
        "id": "KFOuMpUaaPpi",
        "colab": {
          "base_uri": "https://localhost:8080/",
          "height": 673
        },
        "outputId": "62c92314-e8b2-47cc-9a76-d59f1825b820"
      },
      "source": [
        "voos_brasil.groupby(\"Nome_Empresa\")[\"Cod_Empresa_Aerea\"].count().sort_values(ascending=False).plot.bar()"
      ],
      "execution_count": 115,
      "outputs": [
        {
          "output_type": "execute_result",
          "data": {
            "text/plain": [
              "<matplotlib.axes._subplots.AxesSubplot at 0x7f23f98e1d68>"
            ]
          },
          "metadata": {
            "tags": []
          },
          "execution_count": 115
        },
        {
          "output_type": "display_data",
          "data": {
            "image/png": "[encoded data removed]",
            "text/plain": [
              "<Figure size 1080x576 with 1 Axes>"
            ]
          },
          "metadata": {
            "tags": [],
            "needs_background": "light"
          }
        }
      ]
    },
    {
      "cell_type": "code",
      "metadata": {
        "colab": {
          "base_uri": "https://localhost:8080/",
          "height": 736
        },
        "id": "EHE80v_ZMBMF",
        "outputId": "ced6e121-ee9b-473e-e5a2-9d39c9cf0081"
      },
      "source": [
        "sns.countplot(voos_brasil.Nome_Empresa.sort_values())\r\n",
        "plt.xticks(rotation=45)"
      ],
      "execution_count": 195,
      "outputs": [
        {
          "output_type": "stream",
          "text": [
            "/usr/local/lib/python3.6/dist-packages/seaborn/_decorators.py:43: FutureWarning:\n",
            "\n",
            "Pass the following variable as a keyword arg: x. From version 0.12, the only valid positional argument will be `data`, and passing other arguments without an explicit keyword will result in an error or misinterpretation.\n",
            "\n"
          ],
          "name": "stderr"
        },
        {
          "output_type": "execute_result",
          "data": {
            "text/plain": [
              "(array([0, 1, 2, 3, 4, 5, 6, 7, 8]),\n",
              " <a list of 9 Text major ticklabel objects>)"
            ]
          },
          "metadata": {
            "tags": []
          },
          "execution_count": 195
        },
        {
          "output_type": "display_data",
          "data": {
            "image/png": "[encoded data removed]",
            "text/plain": [
              "<Figure size 1080x576 with 1 Axes>"
            ]
          },
          "metadata": {
            "tags": [],
            "needs_background": "light"
          }
        }
      ]
    },
    {
      "cell_type": "code",
      "metadata": {
        "id": "bD4lnU8Qx2WQ",
        "colab": {
          "base_uri": "https://localhost:8080/"
        },
        "outputId": "5a288e38-b5a6-49dc-eba2-9083a0c14f67"
      },
      "source": [
        "voos_brasil.groupby([\"Nome_Empresa\",\"Situacao_Voo\"])[\"Situacao_Voo\"].count().sort_values(ascending=False)"
      ],
      "execution_count": 116,
      "outputs": [
        {
          "output_type": "execute_result",
          "data": {
            "text/plain": [
              "Nome_Empresa                  Situacao_Voo \n",
              "AZUL                          REALIZADO        688885\n",
              "GOL                           REALIZADO        624532\n",
              "TAM                           REALIZADO        583981\n",
              "AVIANCA BRASIL                REALIZADO        124001\n",
              "PASSAREDO                     REALIZADO         33825\n",
              "AZUL                          CANCELADO         29325\n",
              "GOL                           CANCELADO         15385\n",
              "ABSA                          REALIZADO         12183\n",
              "MAP LINHAS AEREAS             REALIZADO         11370\n",
              "TOTAL                         REALIZADO          9043\n",
              "TAM                           CANCELADO          7695\n",
              "ABSA                          CANCELADO          3806\n",
              "PASSAREDO                     CANCELADO          2473\n",
              "AVIANCA BRASIL                CANCELADO          2382\n",
              "MAP LINHAS AEREAS             CANCELADO          1284\n",
              "AZUL                          NÃO REALIZADO       767\n",
              "AMÉRICA DO SUL LINHAS AÉREAS  REALIZADO           651\n",
              "TOTAL                         CANCELADO           629\n",
              "AMÉRICA DO SUL LINHAS AÉREAS  CANCELADO           378\n",
              "GOL                           NÃO REALIZADO       320\n",
              "MAP LINHAS AEREAS             NÃO INFORMADO       245\n",
              "TAM                           NÃO REALIZADO       156\n",
              "ABSA                          NÃO REALIZADO        72\n",
              "PASSAREDO                     NÃO REALIZADO        37\n",
              "TOTAL                         NÃO REALIZADO        29\n",
              "MAP LINHAS AEREAS             NÃO REALIZADO        11\n",
              "Name: Situacao_Voo, dtype: int64"
            ]
          },
          "metadata": {
            "tags": []
          },
          "execution_count": 116
        }
      ]
    },
    {
      "cell_type": "code",
      "metadata": {
        "id": "6PnoyzN3bFS5",
        "colab": {
          "base_uri": "https://localhost:8080/"
        },
        "outputId": "a35caf82-3df4-4ee7-9b6b-24db9fb13953"
      },
      "source": [
        "voos_brasil.query(\"Nome_Empresa == 'AZUL'\")[\"Situacao_Voo\"].value_counts(normalize=True)"
      ],
      "execution_count": 117,
      "outputs": [
        {
          "output_type": "execute_result",
          "data": {
            "text/plain": [
              "REALIZADO        0.958146\n",
              "CANCELADO        0.040787\n",
              "NÃO REALIZADO    0.001067\n",
              "Name: Situacao_Voo, dtype: float64"
            ]
          },
          "metadata": {
            "tags": []
          },
          "execution_count": 117
        }
      ]
    },
    {
      "cell_type": "code",
      "metadata": {
        "id": "-uzXRF34P5s3",
        "colab": {
          "base_uri": "https://localhost:8080/"
        },
        "outputId": "c86a1bba-e136-402e-9765-7bd32b82fa72"
      },
      "source": [
        "df_completo.info()"
      ],
      "execution_count": 118,
      "outputs": [
        {
          "output_type": "stream",
          "text": [
            "<class 'pandas.core.frame.DataFrame'>\n",
            "DatetimeIndex: 2448390 entries, 2018-01-01 to 2020-11-24\n",
            "Data columns (total 29 columns):\n",
            " #   Column                 Dtype         \n",
            "---  ------                 -----         \n",
            " 0   Cod_Empresa_Aerea      object        \n",
            " 1   Num_Voo                object        \n",
            " 2   Cod_Autorizacao_DI     object        \n",
            " 3   Cod_Tipo_Linha         object        \n",
            " 4   Cod_Aerodromo_Origem   object        \n",
            " 5   Cod_Aerodromo_Destino  object        \n",
            " 6   Partida_Prevista       datetime64[ns]\n",
            " 7   Partida_Real           object        \n",
            " 8   Chegada_Prevista       datetime64[ns]\n",
            " 9   Chegada_Real           object        \n",
            " 10  Situacao_Voo           object        \n",
            " 11  Nome_Empresa           object        \n",
            " 12  Origem_Empresa         object        \n",
            " 13  Sigla_Aeroporto        object        \n",
            " 14  Aeroporto_Origem       object        \n",
            " 15  Cidade_Origem          object        \n",
            " 16  UF_Origem              object        \n",
            " 17  Pais_Origem            object        \n",
            " 18  Continente_Origem      object        \n",
            " 19  Sigla_Aeroporto_Dest   object        \n",
            " 20  Descricao_destino      object        \n",
            " 21  Cidade_Destino         object        \n",
            " 22  UF_Destino             object        \n",
            " 23  Pais_Destino           object        \n",
            " 24  Continente_Destino     object        \n",
            " 25  Ano                    float64       \n",
            " 26  Mes                    float64       \n",
            " 27  Dia                    float64       \n",
            " 28  Data                   object        \n",
            "dtypes: datetime64[ns](2), float64(3), object(24)\n",
            "memory usage: 560.4+ MB\n"
          ],
          "name": "stdout"
        }
      ]
    },
    {
      "cell_type": "code",
      "metadata": {
        "id": "q8UXcxynQCDV"
      },
      "source": [
        "df_completo['Data'] = pd.to_datetime(df_completo['Data'], format=\"%Y/%m/%d\")"
      ],
      "execution_count": 119,
      "outputs": []
    },
    {
      "cell_type": "code",
      "metadata": {
        "id": "y_rd2sfoBY15"
      },
      "source": [
        "df_completo = df_completo.set_index(\"Data\")"
      ],
      "execution_count": 120,
      "outputs": []
    },
    {
      "cell_type": "code",
      "metadata": {
        "id": "0osoVNZMPzoq",
        "colab": {
          "base_uri": "https://localhost:8080/"
        },
        "outputId": "f60c1a46-e9c0-4fa2-8efe-22afef591e40"
      },
      "source": [
        "df_completo.info()"
      ],
      "execution_count": 121,
      "outputs": [
        {
          "output_type": "stream",
          "text": [
            "<class 'pandas.core.frame.DataFrame'>\n",
            "DatetimeIndex: 2448390 entries, 2018-01-01 to 2020-11-24\n",
            "Data columns (total 28 columns):\n",
            " #   Column                 Dtype         \n",
            "---  ------                 -----         \n",
            " 0   Cod_Empresa_Aerea      object        \n",
            " 1   Num_Voo                object        \n",
            " 2   Cod_Autorizacao_DI     object        \n",
            " 3   Cod_Tipo_Linha         object        \n",
            " 4   Cod_Aerodromo_Origem   object        \n",
            " 5   Cod_Aerodromo_Destino  object        \n",
            " 6   Partida_Prevista       datetime64[ns]\n",
            " 7   Partida_Real           object        \n",
            " 8   Chegada_Prevista       datetime64[ns]\n",
            " 9   Chegada_Real           object        \n",
            " 10  Situacao_Voo           object        \n",
            " 11  Nome_Empresa           object        \n",
            " 12  Origem_Empresa         object        \n",
            " 13  Sigla_Aeroporto        object        \n",
            " 14  Aeroporto_Origem       object        \n",
            " 15  Cidade_Origem          object        \n",
            " 16  UF_Origem              object        \n",
            " 17  Pais_Origem            object        \n",
            " 18  Continente_Origem      object        \n",
            " 19  Sigla_Aeroporto_Dest   object        \n",
            " 20  Descricao_destino      object        \n",
            " 21  Cidade_Destino         object        \n",
            " 22  UF_Destino             object        \n",
            " 23  Pais_Destino           object        \n",
            " 24  Continente_Destino     object        \n",
            " 25  Ano                    float64       \n",
            " 26  Mes                    float64       \n",
            " 27  Dia                    float64       \n",
            "dtypes: datetime64[ns](2), float64(3), object(23)\n",
            "memory usage: 541.7+ MB\n"
          ],
          "name": "stdout"
        }
      ]
    },
    {
      "cell_type": "code",
      "metadata": {
        "id": "GRAhvVNna45Q",
        "colab": {
          "base_uri": "https://localhost:8080/"
        },
        "outputId": "5d91b0c5-5916-451b-8755-2ba45ed2699b"
      },
      "source": [
        "df_completo.isnull().sum()"
      ],
      "execution_count": 122,
      "outputs": [
        {
          "output_type": "execute_result",
          "data": {
            "text/plain": [
              "Cod_Empresa_Aerea             0\n",
              "Num_Voo                     292\n",
              "Cod_Autorizacao_DI          848\n",
              "Cod_Tipo_Linha                0\n",
              "Cod_Aerodromo_Origem          0\n",
              "Cod_Aerodromo_Destino         0\n",
              "Partida_Prevista          15019\n",
              "Partida_Real              83915\n",
              "Chegada_Prevista          15019\n",
              "Chegada_Real              83915\n",
              "Situacao_Voo                  0\n",
              "Nome_Empresa              35743\n",
              "Origem_Empresa            38940\n",
              "Sigla_Aeroporto               0\n",
              "Aeroporto_Origem          12979\n",
              "Cidade_Origem             15808\n",
              "UF_Origem                233100\n",
              "Pais_Origem               12979\n",
              "Continente_Origem         12979\n",
              "Sigla_Aeroporto_Dest          0\n",
              "Descricao_destino         12891\n",
              "Cidade_Destino            15525\n",
              "UF_Destino               233377\n",
              "Pais_Destino              12891\n",
              "Continente_Destino        12891\n",
              "Ano                       15019\n",
              "Mes                       15019\n",
              "Dia                       15019\n",
              "dtype: int64"
            ]
          },
          "metadata": {
            "tags": []
          },
          "execution_count": 122
        }
      ]
    },
    {
      "cell_type": "code",
      "metadata": {
        "id": "kO_XG-ecSG8e",
        "colab": {
          "base_uri": "https://localhost:8080/",
          "height": 425
        },
        "outputId": "e3305edc-7a07-4c6a-fbeb-a8b9969fd1fe"
      },
      "source": [
        "df_completo.head()"
      ],
      "execution_count": 123,
      "outputs": [
        {
          "output_type": "execute_result",
          "data": {
            "text/html": [
              "<div>\n",
              "<style scoped>\n",
              "    .dataframe tbody tr th:only-of-type {\n",
              "        vertical-align: middle;\n",
              "    }\n",
              "\n",
              "    .dataframe tbody tr th {\n",
              "        vertical-align: top;\n",
              "    }\n",
              "\n",
              "    .dataframe thead th {\n",
              "        text-align: right;\n",
              "    }\n",
              "</style>\n",
              "<table border=\"1\" class=\"dataframe\">\n",
              "  <thead>\n",
              "    <tr style=\"text-align: right;\">\n",
              "      <th></th>\n",
              "      <th>Cod_Empresa_Aerea</th>\n",
              "      <th>Num_Voo</th>\n",
              "      <th>Cod_Autorizacao_DI</th>\n",
              "      <th>Cod_Tipo_Linha</th>\n",
              "      <th>Cod_Aerodromo_Origem</th>\n",
              "      <th>Cod_Aerodromo_Destino</th>\n",
              "      <th>Partida_Prevista</th>\n",
              "      <th>Partida_Real</th>\n",
              "      <th>Chegada_Prevista</th>\n",
              "      <th>Chegada_Real</th>\n",
              "      <th>Situacao_Voo</th>\n",
              "      <th>Nome_Empresa</th>\n",
              "      <th>Origem_Empresa</th>\n",
              "      <th>Sigla_Aeroporto</th>\n",
              "      <th>Aeroporto_Origem</th>\n",
              "      <th>Cidade_Origem</th>\n",
              "      <th>UF_Origem</th>\n",
              "      <th>Pais_Origem</th>\n",
              "      <th>Continente_Origem</th>\n",
              "      <th>Sigla_Aeroporto_Dest</th>\n",
              "      <th>Descricao_destino</th>\n",
              "      <th>Cidade_Destino</th>\n",
              "      <th>UF_Destino</th>\n",
              "      <th>Pais_Destino</th>\n",
              "      <th>Continente_Destino</th>\n",
              "      <th>Ano</th>\n",
              "      <th>Mes</th>\n",
              "      <th>Dia</th>\n",
              "    </tr>\n",
              "    <tr>\n",
              "      <th>Data</th>\n",
              "      <th></th>\n",
              "      <th></th>\n",
              "      <th></th>\n",
              "      <th></th>\n",
              "      <th></th>\n",
              "      <th></th>\n",
              "      <th></th>\n",
              "      <th></th>\n",
              "      <th></th>\n",
              "      <th></th>\n",
              "      <th></th>\n",
              "      <th></th>\n",
              "      <th></th>\n",
              "      <th></th>\n",
              "      <th></th>\n",
              "      <th></th>\n",
              "      <th></th>\n",
              "      <th></th>\n",
              "      <th></th>\n",
              "      <th></th>\n",
              "      <th></th>\n",
              "      <th></th>\n",
              "      <th></th>\n",
              "      <th></th>\n",
              "      <th></th>\n",
              "      <th></th>\n",
              "      <th></th>\n",
              "      <th></th>\n",
              "    </tr>\n",
              "  </thead>\n",
              "  <tbody>\n",
              "    <tr>\n",
              "      <th>2018-01-01</th>\n",
              "      <td>AAL</td>\n",
              "      <td>1265</td>\n",
              "      <td>0</td>\n",
              "      <td>I</td>\n",
              "      <td>KMIA</td>\n",
              "      <td>SBEG</td>\n",
              "      <td>2018-01-01 20:30:00</td>\n",
              "      <td>2018-01-01 20:30:00</td>\n",
              "      <td>2018-01-02 01:53:00</td>\n",
              "      <td>2018-01-02 01:53:00</td>\n",
              "      <td>REALIZADO</td>\n",
              "      <td>AMERICAN AIRLINES INC</td>\n",
              "      <td>ESTRANGEIRA</td>\n",
              "      <td>SBEG</td>\n",
              "      <td>MIAMI INTERNATIONAL AIRPORT</td>\n",
              "      <td>MIAMI</td>\n",
              "      <td>NaN</td>\n",
              "      <td>ESTADOS UNIDOS DA AMERICA</td>\n",
              "      <td>AMERICA DO NORTE</td>\n",
              "      <td>SBEG</td>\n",
              "      <td>EDUARDO GOMES</td>\n",
              "      <td>MANAUS</td>\n",
              "      <td>AM</td>\n",
              "      <td>BRASIL</td>\n",
              "      <td>AMERICA DO SUL</td>\n",
              "      <td>2018.0</td>\n",
              "      <td>1.0</td>\n",
              "      <td>1.0</td>\n",
              "    </tr>\n",
              "    <tr>\n",
              "      <th>2018-01-02</th>\n",
              "      <td>AAL</td>\n",
              "      <td>1265</td>\n",
              "      <td>0</td>\n",
              "      <td>I</td>\n",
              "      <td>KMIA</td>\n",
              "      <td>SBEG</td>\n",
              "      <td>2018-01-02 20:30:00</td>\n",
              "      <td>2018-01-02 20:30:00</td>\n",
              "      <td>2018-01-03 01:53:00</td>\n",
              "      <td>2018-01-03 01:53:00</td>\n",
              "      <td>REALIZADO</td>\n",
              "      <td>AMERICAN AIRLINES INC</td>\n",
              "      <td>ESTRANGEIRA</td>\n",
              "      <td>SBEG</td>\n",
              "      <td>MIAMI INTERNATIONAL AIRPORT</td>\n",
              "      <td>MIAMI</td>\n",
              "      <td>NaN</td>\n",
              "      <td>ESTADOS UNIDOS DA AMERICA</td>\n",
              "      <td>AMERICA DO NORTE</td>\n",
              "      <td>SBEG</td>\n",
              "      <td>EDUARDO GOMES</td>\n",
              "      <td>MANAUS</td>\n",
              "      <td>AM</td>\n",
              "      <td>BRASIL</td>\n",
              "      <td>AMERICA DO SUL</td>\n",
              "      <td>2018.0</td>\n",
              "      <td>1.0</td>\n",
              "      <td>2.0</td>\n",
              "    </tr>\n",
              "    <tr>\n",
              "      <th>2018-01-03</th>\n",
              "      <td>AAL</td>\n",
              "      <td>1265</td>\n",
              "      <td>0</td>\n",
              "      <td>I</td>\n",
              "      <td>KMIA</td>\n",
              "      <td>SBEG</td>\n",
              "      <td>2018-01-03 20:30:00</td>\n",
              "      <td>2018-01-03 20:30:00</td>\n",
              "      <td>2018-01-04 01:53:00</td>\n",
              "      <td>2018-01-04 01:53:00</td>\n",
              "      <td>REALIZADO</td>\n",
              "      <td>AMERICAN AIRLINES INC</td>\n",
              "      <td>ESTRANGEIRA</td>\n",
              "      <td>SBEG</td>\n",
              "      <td>MIAMI INTERNATIONAL AIRPORT</td>\n",
              "      <td>MIAMI</td>\n",
              "      <td>NaN</td>\n",
              "      <td>ESTADOS UNIDOS DA AMERICA</td>\n",
              "      <td>AMERICA DO NORTE</td>\n",
              "      <td>SBEG</td>\n",
              "      <td>EDUARDO GOMES</td>\n",
              "      <td>MANAUS</td>\n",
              "      <td>AM</td>\n",
              "      <td>BRASIL</td>\n",
              "      <td>AMERICA DO SUL</td>\n",
              "      <td>2018.0</td>\n",
              "      <td>1.0</td>\n",
              "      <td>3.0</td>\n",
              "    </tr>\n",
              "    <tr>\n",
              "      <th>2018-01-04</th>\n",
              "      <td>AAL</td>\n",
              "      <td>1265</td>\n",
              "      <td>0</td>\n",
              "      <td>I</td>\n",
              "      <td>KMIA</td>\n",
              "      <td>SBEG</td>\n",
              "      <td>2018-01-04 20:30:00</td>\n",
              "      <td>2018-01-04 20:30:00</td>\n",
              "      <td>2018-01-05 01:53:00</td>\n",
              "      <td>2018-01-05 01:53:00</td>\n",
              "      <td>REALIZADO</td>\n",
              "      <td>AMERICAN AIRLINES INC</td>\n",
              "      <td>ESTRANGEIRA</td>\n",
              "      <td>SBEG</td>\n",
              "      <td>MIAMI INTERNATIONAL AIRPORT</td>\n",
              "      <td>MIAMI</td>\n",
              "      <td>NaN</td>\n",
              "      <td>ESTADOS UNIDOS DA AMERICA</td>\n",
              "      <td>AMERICA DO NORTE</td>\n",
              "      <td>SBEG</td>\n",
              "      <td>EDUARDO GOMES</td>\n",
              "      <td>MANAUS</td>\n",
              "      <td>AM</td>\n",
              "      <td>BRASIL</td>\n",
              "      <td>AMERICA DO SUL</td>\n",
              "      <td>2018.0</td>\n",
              "      <td>1.0</td>\n",
              "      <td>4.0</td>\n",
              "    </tr>\n",
              "    <tr>\n",
              "      <th>2018-01-05</th>\n",
              "      <td>AAL</td>\n",
              "      <td>1265</td>\n",
              "      <td>0</td>\n",
              "      <td>I</td>\n",
              "      <td>KMIA</td>\n",
              "      <td>SBEG</td>\n",
              "      <td>2018-01-05 20:30:00</td>\n",
              "      <td>2018-01-05 20:30:00</td>\n",
              "      <td>2018-01-06 01:53:00</td>\n",
              "      <td>2018-01-06 01:53:00</td>\n",
              "      <td>REALIZADO</td>\n",
              "      <td>AMERICAN AIRLINES INC</td>\n",
              "      <td>ESTRANGEIRA</td>\n",
              "      <td>SBEG</td>\n",
              "      <td>MIAMI INTERNATIONAL AIRPORT</td>\n",
              "      <td>MIAMI</td>\n",
              "      <td>NaN</td>\n",
              "      <td>ESTADOS UNIDOS DA AMERICA</td>\n",
              "      <td>AMERICA DO NORTE</td>\n",
              "      <td>SBEG</td>\n",
              "      <td>EDUARDO GOMES</td>\n",
              "      <td>MANAUS</td>\n",
              "      <td>AM</td>\n",
              "      <td>BRASIL</td>\n",
              "      <td>AMERICA DO SUL</td>\n",
              "      <td>2018.0</td>\n",
              "      <td>1.0</td>\n",
              "      <td>5.0</td>\n",
              "    </tr>\n",
              "  </tbody>\n",
              "</table>\n",
              "</div>"
            ],
            "text/plain": [
              "           Cod_Empresa_Aerea Num_Voo Cod_Autorizacao_DI  ...     Ano  Mes  Dia\n",
              "Data                                                     ...                  \n",
              "2018-01-01               AAL    1265                  0  ...  2018.0  1.0  1.0\n",
              "2018-01-02               AAL    1265                  0  ...  2018.0  1.0  2.0\n",
              "2018-01-03               AAL    1265                  0  ...  2018.0  1.0  3.0\n",
              "2018-01-04               AAL    1265                  0  ...  2018.0  1.0  4.0\n",
              "2018-01-05               AAL    1265                  0  ...  2018.0  1.0  5.0\n",
              "\n",
              "[5 rows x 28 columns]"
            ]
          },
          "metadata": {
            "tags": []
          },
          "execution_count": 123
        }
      ]
    },
    {
      "cell_type": "markdown",
      "metadata": {
        "id": "ynpt1vfzU3ct"
      },
      "source": [
        "Qauntidade de voos por empresa po ano"
      ]
    },
    {
      "cell_type": "code",
      "metadata": {
        "id": "WPlD5V5jU7Xo",
        "colab": {
          "base_uri": "https://localhost:8080/"
        },
        "outputId": "ce047cd0-b13a-44bb-a1a4-1b15c13b4831"
      },
      "source": [
        "df_completo.groupby([\"Ano\", \"Nome_Empresa\"])[\"Nome_Empresa\"].count().sort_values(ascending=False).head(20)"
      ],
      "execution_count": 124,
      "outputs": [
        {
          "output_type": "execute_result",
          "data": {
            "text/plain": [
              "Ano     Nome_Empresa                       \n",
              "2019.0  AZUL                                   302316\n",
              "2018.0  AZUL                                   277918\n",
              "2019.0  GOL                                    265582\n",
              "2018.0  GOL                                    257986\n",
              "2019.0  TAM                                    250403\n",
              "2018.0  TAM                                    235362\n",
              "2020.0  AZUL                                   133691\n",
              "        GOL                                    113303\n",
              "        TAM                                    103965\n",
              "2018.0  AVIANCA BRASIL                          98448\n",
              "2019.0  AVIANCA BRASIL                          27589\n",
              "2018.0  PASSAREDO                               15121\n",
              "2019.0  PASSAREDO                               13363\n",
              "2018.0  COPA -COMPANIA PANAMENA DE AVIACION     10731\n",
              "        AEROLINEAS ARGENTINAS                    9454\n",
              "2019.0  AEROLINEAS ARGENTINAS                    8885\n",
              "2018.0  AMERICAN AIRLINES INC                    8798\n",
              "2019.0  COPA -COMPANIA PANAMENA DE AVIACION      8087\n",
              "2018.0  TAP AIR PORTUGAL                         7989\n",
              "2020.0  PASSAREDO                                7811\n",
              "Name: Nome_Empresa, dtype: int64"
            ]
          },
          "metadata": {
            "tags": []
          },
          "execution_count": 124
        }
      ]
    },
    {
      "cell_type": "code",
      "metadata": {
        "id": "udBOmIxieIjU"
      },
      "source": [
        "df_agrupado_empresa_ano = df_completo.groupby([\"Ano\", \"Nome_Empresa\"])[\"Cod_Empresa_Aerea\"].count().reset_index()"
      ],
      "execution_count": 125,
      "outputs": []
    },
    {
      "cell_type": "code",
      "metadata": {
        "id": "DaN7PrfRkXgh",
        "colab": {
          "base_uri": "https://localhost:8080/",
          "height": 204
        },
        "outputId": "b7f5515b-2e36-4a4e-8494-f837cdaec1d6"
      },
      "source": [
        "df_agrupado_empresa_ano.head()"
      ],
      "execution_count": 126,
      "outputs": [
        {
          "output_type": "execute_result",
          "data": {
            "text/html": [
              "<div>\n",
              "<style scoped>\n",
              "    .dataframe tbody tr th:only-of-type {\n",
              "        vertical-align: middle;\n",
              "    }\n",
              "\n",
              "    .dataframe tbody tr th {\n",
              "        vertical-align: top;\n",
              "    }\n",
              "\n",
              "    .dataframe thead th {\n",
              "        text-align: right;\n",
              "    }\n",
              "</style>\n",
              "<table border=\"1\" class=\"dataframe\">\n",
              "  <thead>\n",
              "    <tr style=\"text-align: right;\">\n",
              "      <th></th>\n",
              "      <th>Ano</th>\n",
              "      <th>Nome_Empresa</th>\n",
              "      <th>Cod_Empresa_Aerea</th>\n",
              "    </tr>\n",
              "  </thead>\n",
              "  <tbody>\n",
              "    <tr>\n",
              "      <th>0</th>\n",
              "      <td>2017.0</td>\n",
              "      <td>SURINAM AIRWAYS</td>\n",
              "      <td>1</td>\n",
              "    </tr>\n",
              "    <tr>\n",
              "      <th>1</th>\n",
              "      <td>2018.0</td>\n",
              "      <td>ABSA</td>\n",
              "      <td>6737</td>\n",
              "    </tr>\n",
              "    <tr>\n",
              "      <th>2</th>\n",
              "      <td>2018.0</td>\n",
              "      <td>AEROLINEAS ARGENTINAS</td>\n",
              "      <td>9454</td>\n",
              "    </tr>\n",
              "    <tr>\n",
              "      <th>3</th>\n",
              "      <td>2018.0</td>\n",
              "      <td>AEROMEXICO</td>\n",
              "      <td>1140</td>\n",
              "    </tr>\n",
              "    <tr>\n",
              "      <th>4</th>\n",
              "      <td>2018.0</td>\n",
              "      <td>AEROTRANSPORTES MAS DE CARGA S.A. DE C.V.</td>\n",
              "      <td>207</td>\n",
              "    </tr>\n",
              "  </tbody>\n",
              "</table>\n",
              "</div>"
            ],
            "text/plain": [
              "      Ano                               Nome_Empresa  Cod_Empresa_Aerea\n",
              "0  2017.0                            SURINAM AIRWAYS                  1\n",
              "1  2018.0                                       ABSA               6737\n",
              "2  2018.0                      AEROLINEAS ARGENTINAS               9454\n",
              "3  2018.0                                 AEROMEXICO               1140\n",
              "4  2018.0  AEROTRANSPORTES MAS DE CARGA S.A. DE C.V.                207"
            ]
          },
          "metadata": {
            "tags": []
          },
          "execution_count": 126
        }
      ]
    },
    {
      "cell_type": "code",
      "metadata": {
        "id": "-GPAH-fhlSDV",
        "colab": {
          "base_uri": "https://localhost:8080/",
          "height": 359
        },
        "outputId": "ef7db112-f8e0-44ca-900d-888c4b7f4de8"
      },
      "source": [
        "df_agrupado_empresa_ano[\"Qtde\"] = df_agrupado_empresa_ano[\"Cod_Empresa_Aerea\"]\n",
        "df_agrupado_empresa_ano.drop(\"Cod_Empresa_Aerea\", axis=1, inplace=True)\n",
        "df_agrupado_empresa_ano.head(10)"
      ],
      "execution_count": 127,
      "outputs": [
        {
          "output_type": "execute_result",
          "data": {
            "text/html": [
              "<div>\n",
              "<style scoped>\n",
              "    .dataframe tbody tr th:only-of-type {\n",
              "        vertical-align: middle;\n",
              "    }\n",
              "\n",
              "    .dataframe tbody tr th {\n",
              "        vertical-align: top;\n",
              "    }\n",
              "\n",
              "    .dataframe thead th {\n",
              "        text-align: right;\n",
              "    }\n",
              "</style>\n",
              "<table border=\"1\" class=\"dataframe\">\n",
              "  <thead>\n",
              "    <tr style=\"text-align: right;\">\n",
              "      <th></th>\n",
              "      <th>Ano</th>\n",
              "      <th>Nome_Empresa</th>\n",
              "      <th>Qtde</th>\n",
              "    </tr>\n",
              "  </thead>\n",
              "  <tbody>\n",
              "    <tr>\n",
              "      <th>0</th>\n",
              "      <td>2017.0</td>\n",
              "      <td>SURINAM AIRWAYS</td>\n",
              "      <td>1</td>\n",
              "    </tr>\n",
              "    <tr>\n",
              "      <th>1</th>\n",
              "      <td>2018.0</td>\n",
              "      <td>ABSA</td>\n",
              "      <td>6737</td>\n",
              "    </tr>\n",
              "    <tr>\n",
              "      <th>2</th>\n",
              "      <td>2018.0</td>\n",
              "      <td>AEROLINEAS ARGENTINAS</td>\n",
              "      <td>9454</td>\n",
              "    </tr>\n",
              "    <tr>\n",
              "      <th>3</th>\n",
              "      <td>2018.0</td>\n",
              "      <td>AEROMEXICO</td>\n",
              "      <td>1140</td>\n",
              "    </tr>\n",
              "    <tr>\n",
              "      <th>4</th>\n",
              "      <td>2018.0</td>\n",
              "      <td>AEROTRANSPORTES MAS DE CARGA S.A. DE C.V.</td>\n",
              "      <td>207</td>\n",
              "    </tr>\n",
              "    <tr>\n",
              "      <th>5</th>\n",
              "      <td>2018.0</td>\n",
              "      <td>AIR CANADA</td>\n",
              "      <td>730</td>\n",
              "    </tr>\n",
              "    <tr>\n",
              "      <th>6</th>\n",
              "      <td>2018.0</td>\n",
              "      <td>AIR CHINA</td>\n",
              "      <td>418</td>\n",
              "    </tr>\n",
              "    <tr>\n",
              "      <th>7</th>\n",
              "      <td>2018.0</td>\n",
              "      <td>AIR EUROPA S/A</td>\n",
              "      <td>3576</td>\n",
              "    </tr>\n",
              "    <tr>\n",
              "      <th>8</th>\n",
              "      <td>2018.0</td>\n",
              "      <td>AIR FRANCE</td>\n",
              "      <td>2705</td>\n",
              "    </tr>\n",
              "    <tr>\n",
              "      <th>9</th>\n",
              "      <td>2018.0</td>\n",
              "      <td>AIRES AEROVIAS DE INTEGRACION</td>\n",
              "      <td>2</td>\n",
              "    </tr>\n",
              "  </tbody>\n",
              "</table>\n",
              "</div>"
            ],
            "text/plain": [
              "      Ano                               Nome_Empresa  Qtde\n",
              "0  2017.0                            SURINAM AIRWAYS     1\n",
              "1  2018.0                                       ABSA  6737\n",
              "2  2018.0                      AEROLINEAS ARGENTINAS  9454\n",
              "3  2018.0                                 AEROMEXICO  1140\n",
              "4  2018.0  AEROTRANSPORTES MAS DE CARGA S.A. DE C.V.   207\n",
              "5  2018.0                                 AIR CANADA   730\n",
              "6  2018.0                                  AIR CHINA   418\n",
              "7  2018.0                             AIR EUROPA S/A  3576\n",
              "8  2018.0                                 AIR FRANCE  2705\n",
              "9  2018.0              AIRES AEROVIAS DE INTEGRACION     2"
            ]
          },
          "metadata": {
            "tags": []
          },
          "execution_count": 127
        }
      ]
    },
    {
      "cell_type": "code",
      "metadata": {
        "id": "u4FDCrwOCbzR"
      },
      "source": [
        "df_agrupado_empresa_ano.drop(0, inplace=True)"
      ],
      "execution_count": 128,
      "outputs": []
    },
    {
      "cell_type": "code",
      "metadata": {
        "id": "0EX_baamkXXW",
        "colab": {
          "base_uri": "https://localhost:8080/",
          "height": 488
        },
        "outputId": "36b0410b-762e-4565-85e4-bf25536d6e15"
      },
      "source": [
        "sns.factorplot(x='Ano', y='Qtde', data=df_agrupado_empresa_ano, kind='bar')"
      ],
      "execution_count": 129,
      "outputs": [
        {
          "output_type": "stream",
          "text": [
            "/usr/local/lib/python3.6/dist-packages/seaborn/categorical.py:3704: UserWarning:\n",
            "\n",
            "The `factorplot` function has been renamed to `catplot`. The original name will be removed in a future release. Please update your code. Note that the default `kind` in `factorplot` (`'point'`) has changed `'strip'` in `catplot`.\n",
            "\n"
          ],
          "name": "stderr"
        },
        {
          "output_type": "execute_result",
          "data": {
            "text/plain": [
              "<seaborn.axisgrid.FacetGrid at 0x7f23f97de390>"
            ]
          },
          "metadata": {
            "tags": []
          },
          "execution_count": 129
        },
        {
          "output_type": "display_data",
          "data": {
            "image/png": "[encoded data removed]",
            "text/plain": [
              "<Figure size 360x360 with 1 Axes>"
            ]
          },
          "metadata": {
            "tags": [],
            "needs_background": "light"
          }
        }
      ]
    },
    {
      "cell_type": "markdown",
      "metadata": {
        "id": "B0Keyqt_C5Cy"
      },
      "source": [
        "Qauntidade de voos por mes por ano e empresa"
      ]
    },
    {
      "cell_type": "code",
      "metadata": {
        "id": "1owZnZk0C6Zx",
        "colab": {
          "base_uri": "https://localhost:8080/"
        },
        "outputId": "ffe7f294-c8f1-4948-affe-9001b760a5c1"
      },
      "source": [
        "df_mes_empresa = df_completo.groupby([\"Ano\", \"Mes\", \"Nome_Empresa\"])[\"Ano\", \"Mes\"].count()"
      ],
      "execution_count": 130,
      "outputs": [
        {
          "output_type": "stream",
          "text": [
            "/usr/local/lib/python3.6/dist-packages/ipykernel_launcher.py:1: FutureWarning:\n",
            "\n",
            "Indexing with multiple keys (implicitly converted to a tuple of keys) will be deprecated, use a list instead.\n",
            "\n"
          ],
          "name": "stderr"
        }
      ]
    },
    {
      "cell_type": "code",
      "metadata": {
        "id": "4cTXYztgDHMw",
        "colab": {
          "base_uri": "https://localhost:8080/",
          "height": 700
        },
        "outputId": "b3c0e30e-80fa-4568-8a60-c3d2abde1b12"
      },
      "source": [
        "df_mes_empresa.head(20)"
      ],
      "execution_count": 131,
      "outputs": [
        {
          "output_type": "execute_result",
          "data": {
            "text/html": [
              "<div>\n",
              "<style scoped>\n",
              "    .dataframe tbody tr th:only-of-type {\n",
              "        vertical-align: middle;\n",
              "    }\n",
              "\n",
              "    .dataframe tbody tr th {\n",
              "        vertical-align: top;\n",
              "    }\n",
              "\n",
              "    .dataframe thead th {\n",
              "        text-align: right;\n",
              "    }\n",
              "</style>\n",
              "<table border=\"1\" class=\"dataframe\">\n",
              "  <thead>\n",
              "    <tr style=\"text-align: right;\">\n",
              "      <th></th>\n",
              "      <th></th>\n",
              "      <th></th>\n",
              "      <th>Ano</th>\n",
              "      <th>Mes</th>\n",
              "    </tr>\n",
              "    <tr>\n",
              "      <th>Ano</th>\n",
              "      <th>Mes</th>\n",
              "      <th>Nome_Empresa</th>\n",
              "      <th></th>\n",
              "      <th></th>\n",
              "    </tr>\n",
              "  </thead>\n",
              "  <tbody>\n",
              "    <tr>\n",
              "      <th>2017.0</th>\n",
              "      <th>10.0</th>\n",
              "      <th>SURINAM AIRWAYS</th>\n",
              "      <td>1</td>\n",
              "      <td>1</td>\n",
              "    </tr>\n",
              "    <tr>\n",
              "      <th rowspan=\"19\" valign=\"top\">2018.0</th>\n",
              "      <th rowspan=\"19\" valign=\"top\">1.0</th>\n",
              "      <th>ABSA</th>\n",
              "      <td>768</td>\n",
              "      <td>768</td>\n",
              "    </tr>\n",
              "    <tr>\n",
              "      <th>AEROLINEAS ARGENTINAS</th>\n",
              "      <td>1298</td>\n",
              "      <td>1298</td>\n",
              "    </tr>\n",
              "    <tr>\n",
              "      <th>AEROMEXICO</th>\n",
              "      <td>97</td>\n",
              "      <td>97</td>\n",
              "    </tr>\n",
              "    <tr>\n",
              "      <th>AEROTRANSPORTES MAS DE CARGA S.A. DE C.V.</th>\n",
              "      <td>68</td>\n",
              "      <td>68</td>\n",
              "    </tr>\n",
              "    <tr>\n",
              "      <th>AIR CANADA</th>\n",
              "      <td>62</td>\n",
              "      <td>62</td>\n",
              "    </tr>\n",
              "    <tr>\n",
              "      <th>AIR CHINA</th>\n",
              "      <td>33</td>\n",
              "      <td>33</td>\n",
              "    </tr>\n",
              "    <tr>\n",
              "      <th>AIR EUROPA S/A</th>\n",
              "      <td>328</td>\n",
              "      <td>328</td>\n",
              "    </tr>\n",
              "    <tr>\n",
              "      <th>AIR FRANCE</th>\n",
              "      <td>292</td>\n",
              "      <td>292</td>\n",
              "    </tr>\n",
              "    <tr>\n",
              "      <th>ALITALIA</th>\n",
              "      <td>256</td>\n",
              "      <td>256</td>\n",
              "    </tr>\n",
              "    <tr>\n",
              "      <th>AMERICAN AIRLINES INC</th>\n",
              "      <td>1164</td>\n",
              "      <td>1164</td>\n",
              "    </tr>\n",
              "    <tr>\n",
              "      <th>ATLAS AIR INC</th>\n",
              "      <td>93</td>\n",
              "      <td>93</td>\n",
              "    </tr>\n",
              "    <tr>\n",
              "      <th>AUSTRAL LÖNEAS AREAS CIELOS DEL SUR S.A</th>\n",
              "      <td>84</td>\n",
              "      <td>84</td>\n",
              "    </tr>\n",
              "    <tr>\n",
              "      <th>AVIANCA</th>\n",
              "      <td>372</td>\n",
              "      <td>372</td>\n",
              "    </tr>\n",
              "    <tr>\n",
              "      <th>AVIANCA BRASIL</th>\n",
              "      <td>8450</td>\n",
              "      <td>8450</td>\n",
              "    </tr>\n",
              "    <tr>\n",
              "      <th>AVIOR AIRLINES CA</th>\n",
              "      <td>27</td>\n",
              "      <td>27</td>\n",
              "    </tr>\n",
              "    <tr>\n",
              "      <th>AZUL</th>\n",
              "      <td>27559</td>\n",
              "      <td>27559</td>\n",
              "    </tr>\n",
              "    <tr>\n",
              "      <th>BOLIVIANA DE AVIACION</th>\n",
              "      <td>141</td>\n",
              "      <td>141</td>\n",
              "    </tr>\n",
              "    <tr>\n",
              "      <th>BRITISH AIRWAYS PLC</th>\n",
              "      <td>178</td>\n",
              "      <td>178</td>\n",
              "    </tr>\n",
              "    <tr>\n",
              "      <th>CARGOLUX AIRLINES</th>\n",
              "      <td>125</td>\n",
              "      <td>125</td>\n",
              "    </tr>\n",
              "  </tbody>\n",
              "</table>\n",
              "</div>"
            ],
            "text/plain": [
              "                                                         Ano    Mes\n",
              "Ano    Mes  Nome_Empresa                                           \n",
              "2017.0 10.0 SURINAM AIRWAYS                                1      1\n",
              "2018.0 1.0  ABSA                                         768    768\n",
              "            AEROLINEAS ARGENTINAS                       1298   1298\n",
              "            AEROMEXICO                                    97     97\n",
              "            AEROTRANSPORTES MAS DE CARGA S.A. DE C.V.     68     68\n",
              "            AIR CANADA                                    62     62\n",
              "            AIR CHINA                                     33     33\n",
              "            AIR EUROPA S/A                               328    328\n",
              "            AIR FRANCE                                   292    292\n",
              "            ALITALIA                                     256    256\n",
              "            AMERICAN AIRLINES INC                       1164   1164\n",
              "            ATLAS AIR INC                                 93     93\n",
              "            AUSTRAL LÖNEAS AREAS CIELOS DEL SUR S.A      84     84\n",
              "            AVIANCA                                      372    372\n",
              "            AVIANCA BRASIL                              8450   8450\n",
              "            AVIOR AIRLINES CA                             27     27\n",
              "            AZUL                                       27559  27559\n",
              "            BOLIVIANA DE AVIACION                        141    141\n",
              "            BRITISH AIRWAYS PLC                          178    178\n",
              "            CARGOLUX AIRLINES                            125    125"
            ]
          },
          "metadata": {
            "tags": []
          },
          "execution_count": 131
        }
      ]
    },
    {
      "cell_type": "code",
      "metadata": {
        "id": "j3EaQOKUDHra"
      },
      "source": [
        "df_mes_empresa.drop(\"Mes\", axis=1, inplace=True)"
      ],
      "execution_count": 132,
      "outputs": []
    },
    {
      "cell_type": "code",
      "metadata": {
        "id": "1776QXrSH1UB",
        "colab": {
          "base_uri": "https://localhost:8080/",
          "height": 235
        },
        "outputId": "09e6c40c-6ef3-4de6-a8b5-8e63cbd1f456"
      },
      "source": [
        "df_mes_empresa.rename(columns={\"Ano\": \"Qtde\"}, inplace=True)\n",
        "df_mes_empresa.head()"
      ],
      "execution_count": 133,
      "outputs": [
        {
          "output_type": "execute_result",
          "data": {
            "text/html": [
              "<div>\n",
              "<style scoped>\n",
              "    .dataframe tbody tr th:only-of-type {\n",
              "        vertical-align: middle;\n",
              "    }\n",
              "\n",
              "    .dataframe tbody tr th {\n",
              "        vertical-align: top;\n",
              "    }\n",
              "\n",
              "    .dataframe thead th {\n",
              "        text-align: right;\n",
              "    }\n",
              "</style>\n",
              "<table border=\"1\" class=\"dataframe\">\n",
              "  <thead>\n",
              "    <tr style=\"text-align: right;\">\n",
              "      <th></th>\n",
              "      <th></th>\n",
              "      <th></th>\n",
              "      <th>Qtde</th>\n",
              "    </tr>\n",
              "    <tr>\n",
              "      <th>Ano</th>\n",
              "      <th>Mes</th>\n",
              "      <th>Nome_Empresa</th>\n",
              "      <th></th>\n",
              "    </tr>\n",
              "  </thead>\n",
              "  <tbody>\n",
              "    <tr>\n",
              "      <th>2017.0</th>\n",
              "      <th>10.0</th>\n",
              "      <th>SURINAM AIRWAYS</th>\n",
              "      <td>1</td>\n",
              "    </tr>\n",
              "    <tr>\n",
              "      <th rowspan=\"4\" valign=\"top\">2018.0</th>\n",
              "      <th rowspan=\"4\" valign=\"top\">1.0</th>\n",
              "      <th>ABSA</th>\n",
              "      <td>768</td>\n",
              "    </tr>\n",
              "    <tr>\n",
              "      <th>AEROLINEAS ARGENTINAS</th>\n",
              "      <td>1298</td>\n",
              "    </tr>\n",
              "    <tr>\n",
              "      <th>AEROMEXICO</th>\n",
              "      <td>97</td>\n",
              "    </tr>\n",
              "    <tr>\n",
              "      <th>AEROTRANSPORTES MAS DE CARGA S.A. DE C.V.</th>\n",
              "      <td>68</td>\n",
              "    </tr>\n",
              "  </tbody>\n",
              "</table>\n",
              "</div>"
            ],
            "text/plain": [
              "                                                       Qtde\n",
              "Ano    Mes  Nome_Empresa                                   \n",
              "2017.0 10.0 SURINAM AIRWAYS                               1\n",
              "2018.0 1.0  ABSA                                        768\n",
              "            AEROLINEAS ARGENTINAS                      1298\n",
              "            AEROMEXICO                                   97\n",
              "            AEROTRANSPORTES MAS DE CARGA S.A. DE C.V.    68"
            ]
          },
          "metadata": {
            "tags": []
          },
          "execution_count": 133
        }
      ]
    },
    {
      "cell_type": "code",
      "metadata": {
        "id": "RIJ-bjsbLidn"
      },
      "source": [
        "df_mes_empresa = df_mes_empresa.reset_index()"
      ],
      "execution_count": 134,
      "outputs": []
    },
    {
      "cell_type": "code",
      "metadata": {
        "id": "gNgx3bV-DHjA",
        "colab": {
          "base_uri": "https://localhost:8080/",
          "height": 488
        },
        "outputId": "2ecf5500-527d-48a9-a8fd-6bb49ebd918e"
      },
      "source": [
        "sns.factorplot(x='Mes', y='Qtde', data=df_mes_empresa, kind='bar')"
      ],
      "execution_count": 135,
      "outputs": [
        {
          "output_type": "stream",
          "text": [
            "/usr/local/lib/python3.6/dist-packages/seaborn/categorical.py:3704: UserWarning:\n",
            "\n",
            "The `factorplot` function has been renamed to `catplot`. The original name will be removed in a future release. Please update your code. Note that the default `kind` in `factorplot` (`'point'`) has changed `'strip'` in `catplot`.\n",
            "\n"
          ],
          "name": "stderr"
        },
        {
          "output_type": "execute_result",
          "data": {
            "text/plain": [
              "<seaborn.axisgrid.FacetGrid at 0x7f23f974e1d0>"
            ]
          },
          "metadata": {
            "tags": []
          },
          "execution_count": 135
        },
        {
          "output_type": "display_data",
          "data": {
            "image/png": "[encoded data removed]",
            "text/plain": [
              "<Figure size 360x360 with 1 Axes>"
            ]
          },
          "metadata": {
            "tags": [],
            "needs_background": "light"
          }
        }
      ]
    },
    {
      "cell_type": "code",
      "metadata": {
        "colab": {
          "base_uri": "https://localhost:8080/",
          "height": 602
        },
        "id": "0WG2Kx70Lq7d",
        "outputId": "f79332d9-0a80-419f-cdd1-a3f3cb6bceec"
      },
      "source": [
        "sns.countplot(df_mes_empresa.Mes)"
      ],
      "execution_count": 186,
      "outputs": [
        {
          "output_type": "stream",
          "text": [
            "/usr/local/lib/python3.6/dist-packages/seaborn/_decorators.py:43: FutureWarning:\n",
            "\n",
            "Pass the following variable as a keyword arg: x. From version 0.12, the only valid positional argument will be `data`, and passing other arguments without an explicit keyword will result in an error or misinterpretation.\n",
            "\n"
          ],
          "name": "stderr"
        },
        {
          "output_type": "execute_result",
          "data": {
            "text/plain": [
              "<matplotlib.axes._subplots.AxesSubplot at 0x7f23d5338128>"
            ]
          },
          "metadata": {
            "tags": []
          },
          "execution_count": 186
        },
        {
          "output_type": "display_data",
          "data": {
            "image/png": "[encoded data removed]",
            "text/plain": [
              "<Figure size 1080x576 with 1 Axes>"
            ]
          },
          "metadata": {
            "tags": [],
            "needs_background": "light"
          }
        }
      ]
    },
    {
      "cell_type": "markdown",
      "metadata": {
        "id": "Ks5ZWYm-S-l1"
      },
      "source": [
        "Aeroportos com maior número de partidas"
      ]
    },
    {
      "cell_type": "code",
      "metadata": {
        "id": "q3bA5kNWSOff",
        "colab": {
          "base_uri": "https://localhost:8080/",
          "height": 542
        },
        "outputId": "34c77d45-cc00-4d4f-f3a6-fa4e51a79d4d"
      },
      "source": [
        "df_completo.Cidade_Origem.value_counts().head(20).iplot(kind=\"barh\")"
      ],
      "execution_count": 136,
      "outputs": [
        {
          "output_type": "display_data",
          "data": {
            "text/html": [
              "<html>\n",
              "<head><meta charset=\"utf-8\" /></head>\n",
              "<body>\n",
              "    <div>\n",
              "            <script src=\"https://cdnjs.cloudflare.com/ajax/libs/mathjax/2.7.5/MathJax.js?config=TeX-AMS-MML_SVG\"></script><script type=\"text/javascript\">if (window.MathJax) {MathJax.Hub.Config({SVG: {font: \"STIX-Web\"}});}</script>\n",
              "                <script type=\"text/javascript\">window.PlotlyConfig = {MathJaxConfig: 'local'};</script>\n",
              "        <script src=\"https://cdn.plot.ly/plotly-latest.min.js\"></script>    \n",
              "            <div id=\"928b86e8-6cb4-4acf-991a-f8dee12fa486\" class=\"plotly-graph-div\" style=\"height:525px; width:100%;\"></div>\n",
              "            <script type=\"text/javascript\">\n",
              "                \n",
              "                    window.PLOTLYENV=window.PLOTLYENV || {};\n",
              "                    window.PLOTLYENV.BASE_URL='https://plot.ly';\n",
              "                    \n",
              "                if (document.getElementById(\"928b86e8-6cb4-4acf-991a-f8dee12fa486\")) {\n",
              "                    Plotly.newPlot(\n",
              "                        '928b86e8-6cb4-4acf-991a-f8dee12fa486',\n",
              "                        [{\"marker\": {\"color\": \"rgba(255, 153, 51, 0.6)\", \"line\": {\"color\": \"rgba(255, 153, 51, 1.0)\", \"width\": 1}}, \"name\": \"Cidade_Origem\", \"orientation\": \"h\", \"text\": \"\", \"type\": \"bar\", \"x\": [347180, 228897, 207403, 156655, 147957, 122769, 89049, 83401, 74736, 72590, 57589, 38782, 38642, 37024, 35799, 34618, 34458, 31273, 21610, 20831], \"y\": [\"GUARULHOS\", \"RIO DE JANEIRO\", \"S\\u00c3O PAULO\", \"BRAS\\u00cdLIA\", \"CAMPINAS\", \"CONFINS\", \"RECIFE\", \"PORTO ALEGRE\", \"S\\u00c3O JOS\\u00c9 DOS PINHAIS\", \"SALVADOR\", \"FORTALEZA\", \"FLORIAN\\u00d3POLIS\", \"MANAUS\", \"BEL\\u00c9M\", \"GOI\\u00c2NIA\", \"VIT\\u00d3RIA\", \"V\\u00c1RZEA GRANDE\", \"BUENOS AIRES\", \"S\\u00c3O GON\\u00c7ALO DO AMARANTE\", \"FOZ DO IGUA\\u00c7U\"]}],\n",
              "                        {\"legend\": {\"bgcolor\": \"#F5F6F9\", \"font\": {\"color\": \"#4D5663\"}}, \"paper_bgcolor\": \"#F5F6F9\", \"plot_bgcolor\": \"#F5F6F9\", \"template\": {\"data\": {\"bar\": [{\"error_x\": {\"color\": \"#2a3f5f\"}, \"error_y\": {\"color\": \"#2a3f5f\"}, \"marker\": {\"line\": {\"color\": \"#E5ECF6\", \"width\": 0.5}}, \"type\": \"bar\"}], \"barpolar\": [{\"marker\": {\"line\": {\"color\": \"#E5ECF6\", \"width\": 0.5}}, \"type\": \"barpolar\"}], \"carpet\": [{\"aaxis\": {\"endlinecolor\": \"#2a3f5f\", \"gridcolor\": \"white\", \"linecolor\": \"white\", \"minorgridcolor\": \"white\", \"startlinecolor\": \"#2a3f5f\"}, \"baxis\": {\"endlinecolor\": \"#2a3f5f\", \"gridcolor\": \"white\", \"linecolor\": \"white\", \"minorgridcolor\": \"white\", \"startlinecolor\": \"#2a3f5f\"}, \"type\": \"carpet\"}], \"choropleth\": [{\"colorbar\": {\"outlinewidth\": 0, \"ticks\": \"\"}, \"type\": \"choropleth\"}], \"contour\": [{\"colorbar\": {\"outlinewidth\": 0, \"ticks\": \"\"}, \"colorscale\": [[0.0, \"#0d0887\"], [0.1111111111111111, \"#46039f\"], [0.2222222222222222, \"#7201a8\"], [0.3333333333333333, \"#9c179e\"], [0.4444444444444444, \"#bd3786\"], [0.5555555555555556, \"#d8576b\"], [0.6666666666666666, \"#ed7953\"], [0.7777777777777778, \"#fb9f3a\"], [0.8888888888888888, \"#fdca26\"], [1.0, \"#f0f921\"]], \"type\": \"contour\"}], \"contourcarpet\": [{\"colorbar\": {\"outlinewidth\": 0, \"ticks\": \"\"}, \"type\": \"contourcarpet\"}], \"heatmap\": [{\"colorbar\": {\"outlinewidth\": 0, \"ticks\": \"\"}, \"colorscale\": [[0.0, \"#0d0887\"], [0.1111111111111111, \"#46039f\"], [0.2222222222222222, \"#7201a8\"], [0.3333333333333333, \"#9c179e\"], [0.4444444444444444, \"#bd3786\"], [0.5555555555555556, \"#d8576b\"], [0.6666666666666666, \"#ed7953\"], [0.7777777777777778, \"#fb9f3a\"], [0.8888888888888888, \"#fdca26\"], [1.0, \"#f0f921\"]], \"type\": \"heatmap\"}], \"heatmapgl\": [{\"colorbar\": {\"outlinewidth\": 0, \"ticks\": \"\"}, \"colorscale\": [[0.0, \"#0d0887\"], [0.1111111111111111, \"#46039f\"], [0.2222222222222222, \"#7201a8\"], [0.3333333333333333, \"#9c179e\"], [0.4444444444444444, \"#bd3786\"], [0.5555555555555556, \"#d8576b\"], [0.6666666666666666, \"#ed7953\"], [0.7777777777777778, \"#fb9f3a\"], [0.8888888888888888, \"#fdca26\"], [1.0, \"#f0f921\"]], \"type\": \"heatmapgl\"}], \"histogram\": [{\"marker\": {\"colorbar\": {\"outlinewidth\": 0, \"ticks\": \"\"}}, \"type\": \"histogram\"}], \"histogram2d\": [{\"colorbar\": {\"outlinewidth\": 0, \"ticks\": \"\"}, \"colorscale\": [[0.0, \"#0d0887\"], [0.1111111111111111, \"#46039f\"], [0.2222222222222222, \"#7201a8\"], [0.3333333333333333, \"#9c179e\"], [0.4444444444444444, \"#bd3786\"], [0.5555555555555556, \"#d8576b\"], [0.6666666666666666, \"#ed7953\"], [0.7777777777777778, \"#fb9f3a\"], [0.8888888888888888, \"#fdca26\"], [1.0, \"#f0f921\"]], \"type\": \"histogram2d\"}], \"histogram2dcontour\": [{\"colorbar\": {\"outlinewidth\": 0, \"ticks\": \"\"}, \"colorscale\": [[0.0, \"#0d0887\"], [0.1111111111111111, \"#46039f\"], [0.2222222222222222, \"#7201a8\"], [0.3333333333333333, \"#9c179e\"], [0.4444444444444444, \"#bd3786\"], [0.5555555555555556, \"#d8576b\"], [0.6666666666666666, \"#ed7953\"], [0.7777777777777778, \"#fb9f3a\"], [0.8888888888888888, \"#fdca26\"], [1.0, \"#f0f921\"]], \"type\": \"histogram2dcontour\"}], \"mesh3d\": [{\"colorbar\": {\"outlinewidth\": 0, \"ticks\": \"\"}, \"type\": \"mesh3d\"}], \"parcoords\": [{\"line\": {\"colorbar\": {\"outlinewidth\": 0, \"ticks\": \"\"}}, \"type\": \"parcoords\"}], \"pie\": [{\"automargin\": true, \"type\": \"pie\"}], \"scatter\": [{\"marker\": {\"colorbar\": {\"outlinewidth\": 0, \"ticks\": \"\"}}, \"type\": \"scatter\"}], \"scatter3d\": [{\"line\": {\"colorbar\": {\"outlinewidth\": 0, \"ticks\": \"\"}}, \"marker\": {\"colorbar\": {\"outlinewidth\": 0, \"ticks\": \"\"}}, \"type\": \"scatter3d\"}], \"scattercarpet\": [{\"marker\": {\"colorbar\": {\"outlinewidth\": 0, \"ticks\": \"\"}}, \"type\": \"scattercarpet\"}], \"scattergeo\": [{\"marker\": {\"colorbar\": {\"outlinewidth\": 0, \"ticks\": \"\"}}, \"type\": \"scattergeo\"}], \"scattergl\": [{\"marker\": {\"colorbar\": {\"outlinewidth\": 0, \"ticks\": \"\"}}, \"type\": \"scattergl\"}], \"scattermapbox\": [{\"marker\": {\"colorbar\": {\"outlinewidth\": 0, \"ticks\": \"\"}}, \"type\": \"scattermapbox\"}], \"scatterpolar\": [{\"marker\": {\"colorbar\": {\"outlinewidth\": 0, \"ticks\": \"\"}}, \"type\": \"scatterpolar\"}], \"scatterpolargl\": [{\"marker\": {\"colorbar\": {\"outlinewidth\": 0, \"ticks\": \"\"}}, \"type\": \"scatterpolargl\"}], \"scatterternary\": [{\"marker\": {\"colorbar\": {\"outlinewidth\": 0, \"ticks\": \"\"}}, \"type\": \"scatterternary\"}], \"surface\": [{\"colorbar\": {\"outlinewidth\": 0, \"ticks\": \"\"}, \"colorscale\": [[0.0, \"#0d0887\"], [0.1111111111111111, \"#46039f\"], [0.2222222222222222, \"#7201a8\"], [0.3333333333333333, \"#9c179e\"], [0.4444444444444444, \"#bd3786\"], [0.5555555555555556, \"#d8576b\"], [0.6666666666666666, \"#ed7953\"], [0.7777777777777778, \"#fb9f3a\"], [0.8888888888888888, \"#fdca26\"], [1.0, \"#f0f921\"]], \"type\": \"surface\"}], \"table\": [{\"cells\": {\"fill\": {\"color\": \"#EBF0F8\"}, \"line\": {\"color\": \"white\"}}, \"header\": {\"fill\": {\"color\": \"#C8D4E3\"}, \"line\": {\"color\": \"white\"}}, \"type\": \"table\"}]}, \"layout\": {\"annotationdefaults\": {\"arrowcolor\": \"#2a3f5f\", \"arrowhead\": 0, \"arrowwidth\": 1}, \"coloraxis\": {\"colorbar\": {\"outlinewidth\": 0, \"ticks\": \"\"}}, \"colorscale\": {\"diverging\": [[0, \"#8e0152\"], [0.1, \"#c51b7d\"], [0.2, \"#de77ae\"], [0.3, \"#f1b6da\"], [0.4, \"#fde0ef\"], [0.5, \"#f7f7f7\"], [0.6, \"#e6f5d0\"], [0.7, \"#b8e186\"], [0.8, \"#7fbc41\"], [0.9, \"#4d9221\"], [1, \"#276419\"]], \"sequential\": [[0.0, \"#0d0887\"], [0.1111111111111111, \"#46039f\"], [0.2222222222222222, \"#7201a8\"], [0.3333333333333333, \"#9c179e\"], [0.4444444444444444, \"#bd3786\"], [0.5555555555555556, \"#d8576b\"], [0.6666666666666666, \"#ed7953\"], [0.7777777777777778, \"#fb9f3a\"], [0.8888888888888888, \"#fdca26\"], [1.0, \"#f0f921\"]], \"sequentialminus\": [[0.0, \"#0d0887\"], [0.1111111111111111, \"#46039f\"], [0.2222222222222222, \"#7201a8\"], [0.3333333333333333, \"#9c179e\"], [0.4444444444444444, \"#bd3786\"], [0.5555555555555556, \"#d8576b\"], [0.6666666666666666, \"#ed7953\"], [0.7777777777777778, \"#fb9f3a\"], [0.8888888888888888, \"#fdca26\"], [1.0, \"#f0f921\"]]}, \"colorway\": [\"#636efa\", \"#EF553B\", \"#00cc96\", \"#ab63fa\", \"#FFA15A\", \"#19d3f3\", \"#FF6692\", \"#B6E880\", \"#FF97FF\", \"#FECB52\"], \"font\": {\"color\": \"#2a3f5f\"}, \"geo\": {\"bgcolor\": \"white\", \"lakecolor\": \"white\", \"landcolor\": \"#E5ECF6\", \"showlakes\": true, \"showland\": true, \"subunitcolor\": \"white\"}, \"hoverlabel\": {\"align\": \"left\"}, \"hovermode\": \"closest\", \"mapbox\": {\"style\": \"light\"}, \"paper_bgcolor\": \"white\", \"plot_bgcolor\": \"#E5ECF6\", \"polar\": {\"angularaxis\": {\"gridcolor\": \"white\", \"linecolor\": \"white\", \"ticks\": \"\"}, \"bgcolor\": \"#E5ECF6\", \"radialaxis\": {\"gridcolor\": \"white\", \"linecolor\": \"white\", \"ticks\": \"\"}}, \"scene\": {\"xaxis\": {\"backgroundcolor\": \"#E5ECF6\", \"gridcolor\": \"white\", \"gridwidth\": 2, \"linecolor\": \"white\", \"showbackground\": true, \"ticks\": \"\", \"zerolinecolor\": \"white\"}, \"yaxis\": {\"backgroundcolor\": \"#E5ECF6\", \"gridcolor\": \"white\", \"gridwidth\": 2, \"linecolor\": \"white\", \"showbackground\": true, \"ticks\": \"\", \"zerolinecolor\": \"white\"}, \"zaxis\": {\"backgroundcolor\": \"#E5ECF6\", \"gridcolor\": \"white\", \"gridwidth\": 2, \"linecolor\": \"white\", \"showbackground\": true, \"ticks\": \"\", \"zerolinecolor\": \"white\"}}, \"shapedefaults\": {\"line\": {\"color\": \"#2a3f5f\"}}, \"ternary\": {\"aaxis\": {\"gridcolor\": \"white\", \"linecolor\": \"white\", \"ticks\": \"\"}, \"baxis\": {\"gridcolor\": \"white\", \"linecolor\": \"white\", \"ticks\": \"\"}, \"bgcolor\": \"#E5ECF6\", \"caxis\": {\"gridcolor\": \"white\", \"linecolor\": \"white\", \"ticks\": \"\"}}, \"title\": {\"x\": 0.05}, \"xaxis\": {\"automargin\": true, \"gridcolor\": \"white\", \"linecolor\": \"white\", \"ticks\": \"\", \"title\": {\"standoff\": 15}, \"zerolinecolor\": \"white\", \"zerolinewidth\": 2}, \"yaxis\": {\"automargin\": true, \"gridcolor\": \"white\", \"linecolor\": \"white\", \"ticks\": \"\", \"title\": {\"standoff\": 15}, \"zerolinecolor\": \"white\", \"zerolinewidth\": 2}}}, \"title\": {\"font\": {\"color\": \"#4D5663\"}}, \"xaxis\": {\"gridcolor\": \"#E1E5ED\", \"showgrid\": true, \"tickfont\": {\"color\": \"#4D5663\"}, \"title\": {\"font\": {\"color\": \"#4D5663\"}, \"text\": \"\"}, \"zerolinecolor\": \"#E1E5ED\"}, \"yaxis\": {\"gridcolor\": \"#E1E5ED\", \"showgrid\": true, \"tickfont\": {\"color\": \"#4D5663\"}, \"title\": {\"font\": {\"color\": \"#4D5663\"}, \"text\": \"\"}, \"zerolinecolor\": \"#E1E5ED\"}},\n",
              "                        {\"showLink\": true, \"linkText\": \"Export to plot.ly\", \"plotlyServerURL\": \"https://plot.ly\", \"responsive\": true}\n",
              "                    ).then(function(){\n",
              "                            \n",
              "var gd = document.getElementById('928b86e8-6cb4-4acf-991a-f8dee12fa486');\n",
              "var x = new MutationObserver(function (mutations, observer) {{\n",
              "        var display = window.getComputedStyle(gd).display;\n",
              "        if (!display || display === 'none') {{\n",
              "            console.log([gd, 'removed!']);\n",
              "            Plotly.purge(gd);\n",
              "            observer.disconnect();\n",
              "        }}\n",
              "}});\n",
              "\n",
              "// Listen for the removal of the full notebook cells\n",
              "var notebookContainer = gd.closest('#notebook-container');\n",
              "if (notebookContainer) {{\n",
              "    x.observe(notebookContainer, {childList: true});\n",
              "}}\n",
              "\n",
              "// Listen for the clearing of the current output cell\n",
              "var outputEl = gd.closest('.output');\n",
              "if (outputEl) {{\n",
              "    x.observe(outputEl, {childList: true});\n",
              "}}\n",
              "\n",
              "                        })\n",
              "                };\n",
              "                \n",
              "            </script>\n",
              "        </div>\n",
              "</body>\n",
              "</html>"
            ]
          },
          "metadata": {
            "tags": []
          }
        }
      ]
    },
    {
      "cell_type": "markdown",
      "metadata": {
        "id": "SujZM4BnTO4N"
      },
      "source": [
        "Areoportos com maior número de chegada"
      ]
    },
    {
      "cell_type": "code",
      "metadata": {
        "id": "4vXqBwpVSuuV",
        "colab": {
          "base_uri": "https://localhost:8080/",
          "height": 542
        },
        "outputId": "210cc808-94e5-4505-da34-7b980cb13275"
      },
      "source": [
        "df_completo.Cidade_Destino.value_counts().head(20).iplot(kind=\"bar\")"
      ],
      "execution_count": 137,
      "outputs": [
        {
          "output_type": "display_data",
          "data": {
            "text/html": [
              "<html>\n",
              "<head><meta charset=\"utf-8\" /></head>\n",
              "<body>\n",
              "    <div>\n",
              "            <script src=\"https://cdnjs.cloudflare.com/ajax/libs/mathjax/2.7.5/MathJax.js?config=TeX-AMS-MML_SVG\"></script><script type=\"text/javascript\">if (window.MathJax) {MathJax.Hub.Config({SVG: {font: \"STIX-Web\"}});}</script>\n",
              "                <script type=\"text/javascript\">window.PlotlyConfig = {MathJaxConfig: 'local'};</script>\n",
              "        <script src=\"https://cdn.plot.ly/plotly-latest.min.js\"></script>    \n",
              "            <div id=\"afc23eef-e61f-4dfc-a49d-8e1930716d90\" class=\"plotly-graph-div\" style=\"height:525px; width:100%;\"></div>\n",
              "            <script type=\"text/javascript\">\n",
              "                \n",
              "                    window.PLOTLYENV=window.PLOTLYENV || {};\n",
              "                    window.PLOTLYENV.BASE_URL='https://plot.ly';\n",
              "                    \n",
              "                if (document.getElementById(\"afc23eef-e61f-4dfc-a49d-8e1930716d90\")) {\n",
              "                    Plotly.newPlot(\n",
              "                        'afc23eef-e61f-4dfc-a49d-8e1930716d90',\n",
              "                        [{\"marker\": {\"color\": \"rgba(255, 153, 51, 0.6)\", \"line\": {\"color\": \"rgba(255, 153, 51, 1.0)\", \"width\": 1}}, \"name\": \"Cidade_Destino\", \"orientation\": \"v\", \"text\": \"\", \"type\": \"bar\", \"x\": [\"GUARULHOS\", \"RIO DE JANEIRO\", \"S\\u00c3O PAULO\", \"BRAS\\u00cdLIA\", \"CAMPINAS\", \"CONFINS\", \"RECIFE\", \"PORTO ALEGRE\", \"S\\u00c3O JOS\\u00c9 DOS PINHAIS\", \"SALVADOR\", \"FORTALEZA\", \"FLORIAN\\u00d3POLIS\", \"MANAUS\", \"BEL\\u00c9M\", \"GOI\\u00c2NIA\", \"VIT\\u00d3RIA\", \"V\\u00c1RZEA GRANDE\", \"BUENOS AIRES\", \"SANTIAGO DO CHILE\", \"S\\u00c3O GON\\u00c7ALO DO AMARANTE\"], \"y\": [347780, 229153, 208261, 156445, 148412, 122477, 88819, 83505, 74592, 72621, 57417, 38764, 38321, 37178, 35613, 34575, 34377, 31618, 22036, 21578]}],\n",
              "                        {\"legend\": {\"bgcolor\": \"#F5F6F9\", \"font\": {\"color\": \"#4D5663\"}}, \"paper_bgcolor\": \"#F5F6F9\", \"plot_bgcolor\": \"#F5F6F9\", \"template\": {\"data\": {\"bar\": [{\"error_x\": {\"color\": \"#2a3f5f\"}, \"error_y\": {\"color\": \"#2a3f5f\"}, \"marker\": {\"line\": {\"color\": \"#E5ECF6\", \"width\": 0.5}}, \"type\": \"bar\"}], \"barpolar\": [{\"marker\": {\"line\": {\"color\": \"#E5ECF6\", \"width\": 0.5}}, \"type\": \"barpolar\"}], \"carpet\": [{\"aaxis\": {\"endlinecolor\": \"#2a3f5f\", \"gridcolor\": \"white\", \"linecolor\": \"white\", \"minorgridcolor\": \"white\", \"startlinecolor\": \"#2a3f5f\"}, \"baxis\": {\"endlinecolor\": \"#2a3f5f\", \"gridcolor\": \"white\", \"linecolor\": \"white\", \"minorgridcolor\": \"white\", \"startlinecolor\": \"#2a3f5f\"}, \"type\": \"carpet\"}], \"choropleth\": [{\"colorbar\": {\"outlinewidth\": 0, \"ticks\": \"\"}, \"type\": \"choropleth\"}], \"contour\": [{\"colorbar\": {\"outlinewidth\": 0, \"ticks\": \"\"}, \"colorscale\": [[0.0, \"#0d0887\"], [0.1111111111111111, \"#46039f\"], [0.2222222222222222, \"#7201a8\"], [0.3333333333333333, \"#9c179e\"], [0.4444444444444444, \"#bd3786\"], [0.5555555555555556, \"#d8576b\"], [0.6666666666666666, \"#ed7953\"], [0.7777777777777778, \"#fb9f3a\"], [0.8888888888888888, \"#fdca26\"], [1.0, \"#f0f921\"]], \"type\": \"contour\"}], \"contourcarpet\": [{\"colorbar\": {\"outlinewidth\": 0, \"ticks\": \"\"}, \"type\": \"contourcarpet\"}], \"heatmap\": [{\"colorbar\": {\"outlinewidth\": 0, \"ticks\": \"\"}, \"colorscale\": [[0.0, \"#0d0887\"], [0.1111111111111111, \"#46039f\"], [0.2222222222222222, \"#7201a8\"], [0.3333333333333333, \"#9c179e\"], [0.4444444444444444, \"#bd3786\"], [0.5555555555555556, \"#d8576b\"], [0.6666666666666666, \"#ed7953\"], [0.7777777777777778, \"#fb9f3a\"], [0.8888888888888888, \"#fdca26\"], [1.0, \"#f0f921\"]], \"type\": \"heatmap\"}], \"heatmapgl\": [{\"colorbar\": {\"outlinewidth\": 0, \"ticks\": \"\"}, \"colorscale\": [[0.0, \"#0d0887\"], [0.1111111111111111, \"#46039f\"], [0.2222222222222222, \"#7201a8\"], [0.3333333333333333, \"#9c179e\"], [0.4444444444444444, \"#bd3786\"], [0.5555555555555556, \"#d8576b\"], [0.6666666666666666, \"#ed7953\"], [0.7777777777777778, \"#fb9f3a\"], [0.8888888888888888, \"#fdca26\"], [1.0, \"#f0f921\"]], \"type\": \"heatmapgl\"}], \"histogram\": [{\"marker\": {\"colorbar\": {\"outlinewidth\": 0, \"ticks\": \"\"}}, \"type\": \"histogram\"}], \"histogram2d\": [{\"colorbar\": {\"outlinewidth\": 0, \"ticks\": \"\"}, \"colorscale\": [[0.0, \"#0d0887\"], [0.1111111111111111, \"#46039f\"], [0.2222222222222222, \"#7201a8\"], [0.3333333333333333, \"#9c179e\"], [0.4444444444444444, \"#bd3786\"], [0.5555555555555556, \"#d8576b\"], [0.6666666666666666, \"#ed7953\"], [0.7777777777777778, \"#fb9f3a\"], [0.8888888888888888, \"#fdca26\"], [1.0, \"#f0f921\"]], \"type\": \"histogram2d\"}], \"histogram2dcontour\": [{\"colorbar\": {\"outlinewidth\": 0, \"ticks\": \"\"}, \"colorscale\": [[0.0, \"#0d0887\"], [0.1111111111111111, \"#46039f\"], [0.2222222222222222, \"#7201a8\"], [0.3333333333333333, \"#9c179e\"], [0.4444444444444444, \"#bd3786\"], [0.5555555555555556, \"#d8576b\"], [0.6666666666666666, \"#ed7953\"], [0.7777777777777778, \"#fb9f3a\"], [0.8888888888888888, \"#fdca26\"], [1.0, \"#f0f921\"]], \"type\": \"histogram2dcontour\"}], \"mesh3d\": [{\"colorbar\": {\"outlinewidth\": 0, \"ticks\": \"\"}, \"type\": \"mesh3d\"}], \"parcoords\": [{\"line\": {\"colorbar\": {\"outlinewidth\": 0, \"ticks\": \"\"}}, \"type\": \"parcoords\"}], \"pie\": [{\"automargin\": true, \"type\": \"pie\"}], \"scatter\": [{\"marker\": {\"colorbar\": {\"outlinewidth\": 0, \"ticks\": \"\"}}, \"type\": \"scatter\"}], \"scatter3d\": [{\"line\": {\"colorbar\": {\"outlinewidth\": 0, \"ticks\": \"\"}}, \"marker\": {\"colorbar\": {\"outlinewidth\": 0, \"ticks\": \"\"}}, \"type\": \"scatter3d\"}], \"scattercarpet\": [{\"marker\": {\"colorbar\": {\"outlinewidth\": 0, \"ticks\": \"\"}}, \"type\": \"scattercarpet\"}], \"scattergeo\": [{\"marker\": {\"colorbar\": {\"outlinewidth\": 0, \"ticks\": \"\"}}, \"type\": \"scattergeo\"}], \"scattergl\": [{\"marker\": {\"colorbar\": {\"outlinewidth\": 0, \"ticks\": \"\"}}, \"type\": \"scattergl\"}], \"scattermapbox\": [{\"marker\": {\"colorbar\": {\"outlinewidth\": 0, \"ticks\": \"\"}}, \"type\": \"scattermapbox\"}], \"scatterpolar\": [{\"marker\": {\"colorbar\": {\"outlinewidth\": 0, \"ticks\": \"\"}}, \"type\": \"scatterpolar\"}], \"scatterpolargl\": [{\"marker\": {\"colorbar\": {\"outlinewidth\": 0, \"ticks\": \"\"}}, \"type\": \"scatterpolargl\"}], \"scatterternary\": [{\"marker\": {\"colorbar\": {\"outlinewidth\": 0, \"ticks\": \"\"}}, \"type\": \"scatterternary\"}], \"surface\": [{\"colorbar\": {\"outlinewidth\": 0, \"ticks\": \"\"}, \"colorscale\": [[0.0, \"#0d0887\"], [0.1111111111111111, \"#46039f\"], [0.2222222222222222, \"#7201a8\"], [0.3333333333333333, \"#9c179e\"], [0.4444444444444444, \"#bd3786\"], [0.5555555555555556, \"#d8576b\"], [0.6666666666666666, \"#ed7953\"], [0.7777777777777778, \"#fb9f3a\"], [0.8888888888888888, \"#fdca26\"], [1.0, \"#f0f921\"]], \"type\": \"surface\"}], \"table\": [{\"cells\": {\"fill\": {\"color\": \"#EBF0F8\"}, \"line\": {\"color\": \"white\"}}, \"header\": {\"fill\": {\"color\": \"#C8D4E3\"}, \"line\": {\"color\": \"white\"}}, \"type\": \"table\"}]}, \"layout\": {\"annotationdefaults\": {\"arrowcolor\": \"#2a3f5f\", \"arrowhead\": 0, \"arrowwidth\": 1}, \"coloraxis\": {\"colorbar\": {\"outlinewidth\": 0, \"ticks\": \"\"}}, \"colorscale\": {\"diverging\": [[0, \"#8e0152\"], [0.1, \"#c51b7d\"], [0.2, \"#de77ae\"], [0.3, \"#f1b6da\"], [0.4, \"#fde0ef\"], [0.5, \"#f7f7f7\"], [0.6, \"#e6f5d0\"], [0.7, \"#b8e186\"], [0.8, \"#7fbc41\"], [0.9, \"#4d9221\"], [1, \"#276419\"]], \"sequential\": [[0.0, \"#0d0887\"], [0.1111111111111111, \"#46039f\"], [0.2222222222222222, \"#7201a8\"], [0.3333333333333333, \"#9c179e\"], [0.4444444444444444, \"#bd3786\"], [0.5555555555555556, \"#d8576b\"], [0.6666666666666666, \"#ed7953\"], [0.7777777777777778, \"#fb9f3a\"], [0.8888888888888888, \"#fdca26\"], [1.0, \"#f0f921\"]], \"sequentialminus\": [[0.0, \"#0d0887\"], [0.1111111111111111, \"#46039f\"], [0.2222222222222222, \"#7201a8\"], [0.3333333333333333, \"#9c179e\"], [0.4444444444444444, \"#bd3786\"], [0.5555555555555556, \"#d8576b\"], [0.6666666666666666, \"#ed7953\"], [0.7777777777777778, \"#fb9f3a\"], [0.8888888888888888, \"#fdca26\"], [1.0, \"#f0f921\"]]}, \"colorway\": [\"#636efa\", \"#EF553B\", \"#00cc96\", \"#ab63fa\", \"#FFA15A\", \"#19d3f3\", \"#FF6692\", \"#B6E880\", \"#FF97FF\", \"#FECB52\"], \"font\": {\"color\": \"#2a3f5f\"}, \"geo\": {\"bgcolor\": \"white\", \"lakecolor\": \"white\", \"landcolor\": \"#E5ECF6\", \"showlakes\": true, \"showland\": true, \"subunitcolor\": \"white\"}, \"hoverlabel\": {\"align\": \"left\"}, \"hovermode\": \"closest\", \"mapbox\": {\"style\": \"light\"}, \"paper_bgcolor\": \"white\", \"plot_bgcolor\": \"#E5ECF6\", \"polar\": {\"angularaxis\": {\"gridcolor\": \"white\", \"linecolor\": \"white\", \"ticks\": \"\"}, \"bgcolor\": \"#E5ECF6\", \"radialaxis\": {\"gridcolor\": \"white\", \"linecolor\": \"white\", \"ticks\": \"\"}}, \"scene\": {\"xaxis\": {\"backgroundcolor\": \"#E5ECF6\", \"gridcolor\": \"white\", \"gridwidth\": 2, \"linecolor\": \"white\", \"showbackground\": true, \"ticks\": \"\", \"zerolinecolor\": \"white\"}, \"yaxis\": {\"backgroundcolor\": \"#E5ECF6\", \"gridcolor\": \"white\", \"gridwidth\": 2, \"linecolor\": \"white\", \"showbackground\": true, \"ticks\": \"\", \"zerolinecolor\": \"white\"}, \"zaxis\": {\"backgroundcolor\": \"#E5ECF6\", \"gridcolor\": \"white\", \"gridwidth\": 2, \"linecolor\": \"white\", \"showbackground\": true, \"ticks\": \"\", \"zerolinecolor\": \"white\"}}, \"shapedefaults\": {\"line\": {\"color\": \"#2a3f5f\"}}, \"ternary\": {\"aaxis\": {\"gridcolor\": \"white\", \"linecolor\": \"white\", \"ticks\": \"\"}, \"baxis\": {\"gridcolor\": \"white\", \"linecolor\": \"white\", \"ticks\": \"\"}, \"bgcolor\": \"#E5ECF6\", \"caxis\": {\"gridcolor\": \"white\", \"linecolor\": \"white\", \"ticks\": \"\"}}, \"title\": {\"x\": 0.05}, \"xaxis\": {\"automargin\": true, \"gridcolor\": \"white\", \"linecolor\": \"white\", \"ticks\": \"\", \"title\": {\"standoff\": 15}, \"zerolinecolor\": \"white\", \"zerolinewidth\": 2}, \"yaxis\": {\"automargin\": true, \"gridcolor\": \"white\", \"linecolor\": \"white\", \"ticks\": \"\", \"title\": {\"standoff\": 15}, \"zerolinecolor\": \"white\", \"zerolinewidth\": 2}}}, \"title\": {\"font\": {\"color\": \"#4D5663\"}}, \"xaxis\": {\"gridcolor\": \"#E1E5ED\", \"showgrid\": true, \"tickfont\": {\"color\": \"#4D5663\"}, \"title\": {\"font\": {\"color\": \"#4D5663\"}, \"text\": \"\"}, \"zerolinecolor\": \"#E1E5ED\"}, \"yaxis\": {\"gridcolor\": \"#E1E5ED\", \"showgrid\": true, \"tickfont\": {\"color\": \"#4D5663\"}, \"title\": {\"font\": {\"color\": \"#4D5663\"}, \"text\": \"\"}, \"zerolinecolor\": \"#E1E5ED\"}},\n",
              "                        {\"showLink\": true, \"linkText\": \"Export to plot.ly\", \"plotlyServerURL\": \"https://plot.ly\", \"responsive\": true}\n",
              "                    ).then(function(){\n",
              "                            \n",
              "var gd = document.getElementById('afc23eef-e61f-4dfc-a49d-8e1930716d90');\n",
              "var x = new MutationObserver(function (mutations, observer) {{\n",
              "        var display = window.getComputedStyle(gd).display;\n",
              "        if (!display || display === 'none') {{\n",
              "            console.log([gd, 'removed!']);\n",
              "            Plotly.purge(gd);\n",
              "            observer.disconnect();\n",
              "        }}\n",
              "}});\n",
              "\n",
              "// Listen for the removal of the full notebook cells\n",
              "var notebookContainer = gd.closest('#notebook-container');\n",
              "if (notebookContainer) {{\n",
              "    x.observe(notebookContainer, {childList: true});\n",
              "}}\n",
              "\n",
              "// Listen for the clearing of the current output cell\n",
              "var outputEl = gd.closest('.output');\n",
              "if (outputEl) {{\n",
              "    x.observe(outputEl, {childList: true});\n",
              "}}\n",
              "\n",
              "                        })\n",
              "                };\n",
              "                \n",
              "            </script>\n",
              "        </div>\n",
              "</body>\n",
              "</html>"
            ]
          },
          "metadata": {
            "tags": []
          }
        }
      ]
    },
    {
      "cell_type": "markdown",
      "metadata": {
        "id": "-g0xqtVDO-K8"
      },
      "source": [
        "Voos mais frequentes"
      ]
    },
    {
      "cell_type": "code",
      "metadata": {
        "id": "KuasS4WdTM8L",
        "colab": {
          "base_uri": "https://localhost:8080/",
          "height": 235
        },
        "outputId": "9aa4e503-7821-417c-c0e2-0d0daa712880"
      },
      "source": [
        "df_completo[['Cidade_Origem', 'Cidade_Destino']].head()"
      ],
      "execution_count": 138,
      "outputs": [
        {
          "output_type": "execute_result",
          "data": {
            "text/html": [
              "<div>\n",
              "<style scoped>\n",
              "    .dataframe tbody tr th:only-of-type {\n",
              "        vertical-align: middle;\n",
              "    }\n",
              "\n",
              "    .dataframe tbody tr th {\n",
              "        vertical-align: top;\n",
              "    }\n",
              "\n",
              "    .dataframe thead th {\n",
              "        text-align: right;\n",
              "    }\n",
              "</style>\n",
              "<table border=\"1\" class=\"dataframe\">\n",
              "  <thead>\n",
              "    <tr style=\"text-align: right;\">\n",
              "      <th></th>\n",
              "      <th>Cidade_Origem</th>\n",
              "      <th>Cidade_Destino</th>\n",
              "    </tr>\n",
              "    <tr>\n",
              "      <th>Data</th>\n",
              "      <th></th>\n",
              "      <th></th>\n",
              "    </tr>\n",
              "  </thead>\n",
              "  <tbody>\n",
              "    <tr>\n",
              "      <th>2018-01-01</th>\n",
              "      <td>MIAMI</td>\n",
              "      <td>MANAUS</td>\n",
              "    </tr>\n",
              "    <tr>\n",
              "      <th>2018-01-02</th>\n",
              "      <td>MIAMI</td>\n",
              "      <td>MANAUS</td>\n",
              "    </tr>\n",
              "    <tr>\n",
              "      <th>2018-01-03</th>\n",
              "      <td>MIAMI</td>\n",
              "      <td>MANAUS</td>\n",
              "    </tr>\n",
              "    <tr>\n",
              "      <th>2018-01-04</th>\n",
              "      <td>MIAMI</td>\n",
              "      <td>MANAUS</td>\n",
              "    </tr>\n",
              "    <tr>\n",
              "      <th>2018-01-05</th>\n",
              "      <td>MIAMI</td>\n",
              "      <td>MANAUS</td>\n",
              "    </tr>\n",
              "  </tbody>\n",
              "</table>\n",
              "</div>"
            ],
            "text/plain": [
              "           Cidade_Origem Cidade_Destino\n",
              "Data                                   \n",
              "2018-01-01         MIAMI         MANAUS\n",
              "2018-01-02         MIAMI         MANAUS\n",
              "2018-01-03         MIAMI         MANAUS\n",
              "2018-01-04         MIAMI         MANAUS\n",
              "2018-01-05         MIAMI         MANAUS"
            ]
          },
          "metadata": {
            "tags": []
          },
          "execution_count": 138
        }
      ]
    },
    {
      "cell_type": "markdown",
      "metadata": {
        "id": "pE5bfJlE9Zfr"
      },
      "source": [
        "Criando uma nova coluna com a origem e destino do voo"
      ]
    },
    {
      "cell_type": "code",
      "metadata": {
        "id": "nKyZeysXWSBT"
      },
      "source": [
        "df_completo[\"Itinerario\"] = df_completo[\"Cidade_Origem\"] + \"-\" + df_completo[\"Cidade_Destino\"]"
      ],
      "execution_count": 139,
      "outputs": []
    },
    {
      "cell_type": "code",
      "metadata": {
        "id": "R7Yqg5VzWouQ",
        "colab": {
          "base_uri": "https://localhost:8080/",
          "height": 425
        },
        "outputId": "550ec42b-cfef-4bec-fd11-a933b36d5c6c"
      },
      "source": [
        "df_completo.head()"
      ],
      "execution_count": 140,
      "outputs": [
        {
          "output_type": "execute_result",
          "data": {
            "text/html": [
              "<div>\n",
              "<style scoped>\n",
              "    .dataframe tbody tr th:only-of-type {\n",
              "        vertical-align: middle;\n",
              "    }\n",
              "\n",
              "    .dataframe tbody tr th {\n",
              "        vertical-align: top;\n",
              "    }\n",
              "\n",
              "    .dataframe thead th {\n",
              "        text-align: right;\n",
              "    }\n",
              "</style>\n",
              "<table border=\"1\" class=\"dataframe\">\n",
              "  <thead>\n",
              "    <tr style=\"text-align: right;\">\n",
              "      <th></th>\n",
              "      <th>Cod_Empresa_Aerea</th>\n",
              "      <th>Num_Voo</th>\n",
              "      <th>Cod_Autorizacao_DI</th>\n",
              "      <th>Cod_Tipo_Linha</th>\n",
              "      <th>Cod_Aerodromo_Origem</th>\n",
              "      <th>Cod_Aerodromo_Destino</th>\n",
              "      <th>Partida_Prevista</th>\n",
              "      <th>Partida_Real</th>\n",
              "      <th>Chegada_Prevista</th>\n",
              "      <th>Chegada_Real</th>\n",
              "      <th>Situacao_Voo</th>\n",
              "      <th>Nome_Empresa</th>\n",
              "      <th>Origem_Empresa</th>\n",
              "      <th>Sigla_Aeroporto</th>\n",
              "      <th>Aeroporto_Origem</th>\n",
              "      <th>Cidade_Origem</th>\n",
              "      <th>UF_Origem</th>\n",
              "      <th>Pais_Origem</th>\n",
              "      <th>Continente_Origem</th>\n",
              "      <th>Sigla_Aeroporto_Dest</th>\n",
              "      <th>Descricao_destino</th>\n",
              "      <th>Cidade_Destino</th>\n",
              "      <th>UF_Destino</th>\n",
              "      <th>Pais_Destino</th>\n",
              "      <th>Continente_Destino</th>\n",
              "      <th>Ano</th>\n",
              "      <th>Mes</th>\n",
              "      <th>Dia</th>\n",
              "      <th>Itinerario</th>\n",
              "    </tr>\n",
              "    <tr>\n",
              "      <th>Data</th>\n",
              "      <th></th>\n",
              "      <th></th>\n",
              "      <th></th>\n",
              "      <th></th>\n",
              "      <th></th>\n",
              "      <th></th>\n",
              "      <th></th>\n",
              "      <th></th>\n",
              "      <th></th>\n",
              "      <th></th>\n",
              "      <th></th>\n",
              "      <th></th>\n",
              "      <th></th>\n",
              "      <th></th>\n",
              "      <th></th>\n",
              "      <th></th>\n",
              "      <th></th>\n",
              "      <th></th>\n",
              "      <th></th>\n",
              "      <th></th>\n",
              "      <th></th>\n",
              "      <th></th>\n",
              "      <th></th>\n",
              "      <th></th>\n",
              "      <th></th>\n",
              "      <th></th>\n",
              "      <th></th>\n",
              "      <th></th>\n",
              "      <th></th>\n",
              "    </tr>\n",
              "  </thead>\n",
              "  <tbody>\n",
              "    <tr>\n",
              "      <th>2018-01-01</th>\n",
              "      <td>AAL</td>\n",
              "      <td>1265</td>\n",
              "      <td>0</td>\n",
              "      <td>I</td>\n",
              "      <td>KMIA</td>\n",
              "      <td>SBEG</td>\n",
              "      <td>2018-01-01 20:30:00</td>\n",
              "      <td>2018-01-01 20:30:00</td>\n",
              "      <td>2018-01-02 01:53:00</td>\n",
              "      <td>2018-01-02 01:53:00</td>\n",
              "      <td>REALIZADO</td>\n",
              "      <td>AMERICAN AIRLINES INC</td>\n",
              "      <td>ESTRANGEIRA</td>\n",
              "      <td>SBEG</td>\n",
              "      <td>MIAMI INTERNATIONAL AIRPORT</td>\n",
              "      <td>MIAMI</td>\n",
              "      <td>NaN</td>\n",
              "      <td>ESTADOS UNIDOS DA AMERICA</td>\n",
              "      <td>AMERICA DO NORTE</td>\n",
              "      <td>SBEG</td>\n",
              "      <td>EDUARDO GOMES</td>\n",
              "      <td>MANAUS</td>\n",
              "      <td>AM</td>\n",
              "      <td>BRASIL</td>\n",
              "      <td>AMERICA DO SUL</td>\n",
              "      <td>2018.0</td>\n",
              "      <td>1.0</td>\n",
              "      <td>1.0</td>\n",
              "      <td>MIAMI-MANAUS</td>\n",
              "    </tr>\n",
              "    <tr>\n",
              "      <th>2018-01-02</th>\n",
              "      <td>AAL</td>\n",
              "      <td>1265</td>\n",
              "      <td>0</td>\n",
              "      <td>I</td>\n",
              "      <td>KMIA</td>\n",
              "      <td>SBEG</td>\n",
              "      <td>2018-01-02 20:30:00</td>\n",
              "      <td>2018-01-02 20:30:00</td>\n",
              "      <td>2018-01-03 01:53:00</td>\n",
              "      <td>2018-01-03 01:53:00</td>\n",
              "      <td>REALIZADO</td>\n",
              "      <td>AMERICAN AIRLINES INC</td>\n",
              "      <td>ESTRANGEIRA</td>\n",
              "      <td>SBEG</td>\n",
              "      <td>MIAMI INTERNATIONAL AIRPORT</td>\n",
              "      <td>MIAMI</td>\n",
              "      <td>NaN</td>\n",
              "      <td>ESTADOS UNIDOS DA AMERICA</td>\n",
              "      <td>AMERICA DO NORTE</td>\n",
              "      <td>SBEG</td>\n",
              "      <td>EDUARDO GOMES</td>\n",
              "      <td>MANAUS</td>\n",
              "      <td>AM</td>\n",
              "      <td>BRASIL</td>\n",
              "      <td>AMERICA DO SUL</td>\n",
              "      <td>2018.0</td>\n",
              "      <td>1.0</td>\n",
              "      <td>2.0</td>\n",
              "      <td>MIAMI-MANAUS</td>\n",
              "    </tr>\n",
              "    <tr>\n",
              "      <th>2018-01-03</th>\n",
              "      <td>AAL</td>\n",
              "      <td>1265</td>\n",
              "      <td>0</td>\n",
              "      <td>I</td>\n",
              "      <td>KMIA</td>\n",
              "      <td>SBEG</td>\n",
              "      <td>2018-01-03 20:30:00</td>\n",
              "      <td>2018-01-03 20:30:00</td>\n",
              "      <td>2018-01-04 01:53:00</td>\n",
              "      <td>2018-01-04 01:53:00</td>\n",
              "      <td>REALIZADO</td>\n",
              "      <td>AMERICAN AIRLINES INC</td>\n",
              "      <td>ESTRANGEIRA</td>\n",
              "      <td>SBEG</td>\n",
              "      <td>MIAMI INTERNATIONAL AIRPORT</td>\n",
              "      <td>MIAMI</td>\n",
              "      <td>NaN</td>\n",
              "      <td>ESTADOS UNIDOS DA AMERICA</td>\n",
              "      <td>AMERICA DO NORTE</td>\n",
              "      <td>SBEG</td>\n",
              "      <td>EDUARDO GOMES</td>\n",
              "      <td>MANAUS</td>\n",
              "      <td>AM</td>\n",
              "      <td>BRASIL</td>\n",
              "      <td>AMERICA DO SUL</td>\n",
              "      <td>2018.0</td>\n",
              "      <td>1.0</td>\n",
              "      <td>3.0</td>\n",
              "      <td>MIAMI-MANAUS</td>\n",
              "    </tr>\n",
              "    <tr>\n",
              "      <th>2018-01-04</th>\n",
              "      <td>AAL</td>\n",
              "      <td>1265</td>\n",
              "      <td>0</td>\n",
              "      <td>I</td>\n",
              "      <td>KMIA</td>\n",
              "      <td>SBEG</td>\n",
              "      <td>2018-01-04 20:30:00</td>\n",
              "      <td>2018-01-04 20:30:00</td>\n",
              "      <td>2018-01-05 01:53:00</td>\n",
              "      <td>2018-01-05 01:53:00</td>\n",
              "      <td>REALIZADO</td>\n",
              "      <td>AMERICAN AIRLINES INC</td>\n",
              "      <td>ESTRANGEIRA</td>\n",
              "      <td>SBEG</td>\n",
              "      <td>MIAMI INTERNATIONAL AIRPORT</td>\n",
              "      <td>MIAMI</td>\n",
              "      <td>NaN</td>\n",
              "      <td>ESTADOS UNIDOS DA AMERICA</td>\n",
              "      <td>AMERICA DO NORTE</td>\n",
              "      <td>SBEG</td>\n",
              "      <td>EDUARDO GOMES</td>\n",
              "      <td>MANAUS</td>\n",
              "      <td>AM</td>\n",
              "      <td>BRASIL</td>\n",
              "      <td>AMERICA DO SUL</td>\n",
              "      <td>2018.0</td>\n",
              "      <td>1.0</td>\n",
              "      <td>4.0</td>\n",
              "      <td>MIAMI-MANAUS</td>\n",
              "    </tr>\n",
              "    <tr>\n",
              "      <th>2018-01-05</th>\n",
              "      <td>AAL</td>\n",
              "      <td>1265</td>\n",
              "      <td>0</td>\n",
              "      <td>I</td>\n",
              "      <td>KMIA</td>\n",
              "      <td>SBEG</td>\n",
              "      <td>2018-01-05 20:30:00</td>\n",
              "      <td>2018-01-05 20:30:00</td>\n",
              "      <td>2018-01-06 01:53:00</td>\n",
              "      <td>2018-01-06 01:53:00</td>\n",
              "      <td>REALIZADO</td>\n",
              "      <td>AMERICAN AIRLINES INC</td>\n",
              "      <td>ESTRANGEIRA</td>\n",
              "      <td>SBEG</td>\n",
              "      <td>MIAMI INTERNATIONAL AIRPORT</td>\n",
              "      <td>MIAMI</td>\n",
              "      <td>NaN</td>\n",
              "      <td>ESTADOS UNIDOS DA AMERICA</td>\n",
              "      <td>AMERICA DO NORTE</td>\n",
              "      <td>SBEG</td>\n",
              "      <td>EDUARDO GOMES</td>\n",
              "      <td>MANAUS</td>\n",
              "      <td>AM</td>\n",
              "      <td>BRASIL</td>\n",
              "      <td>AMERICA DO SUL</td>\n",
              "      <td>2018.0</td>\n",
              "      <td>1.0</td>\n",
              "      <td>5.0</td>\n",
              "      <td>MIAMI-MANAUS</td>\n",
              "    </tr>\n",
              "  </tbody>\n",
              "</table>\n",
              "</div>"
            ],
            "text/plain": [
              "           Cod_Empresa_Aerea Num_Voo Cod_Autorizacao_DI  ...  Mes  Dia    Itinerario\n",
              "Data                                                     ...                        \n",
              "2018-01-01               AAL    1265                  0  ...  1.0  1.0  MIAMI-MANAUS\n",
              "2018-01-02               AAL    1265                  0  ...  1.0  2.0  MIAMI-MANAUS\n",
              "2018-01-03               AAL    1265                  0  ...  1.0  3.0  MIAMI-MANAUS\n",
              "2018-01-04               AAL    1265                  0  ...  1.0  4.0  MIAMI-MANAUS\n",
              "2018-01-05               AAL    1265                  0  ...  1.0  5.0  MIAMI-MANAUS\n",
              "\n",
              "[5 rows x 29 columns]"
            ]
          },
          "metadata": {
            "tags": []
          },
          "execution_count": 140
        }
      ]
    },
    {
      "cell_type": "code",
      "metadata": {
        "id": "Cr-LRKbEWrAQ",
        "colab": {
          "base_uri": "https://localhost:8080/"
        },
        "outputId": "9fea441f-af2a-46a3-804c-57128a359f3a"
      },
      "source": [
        "df_completo.Itinerario.value_counts().head(20)"
      ],
      "execution_count": 141,
      "outputs": [
        {
          "output_type": "execute_result",
          "data": {
            "text/plain": [
              "RIO DE JANEIRO-SÃO PAULO    53781\n",
              "SÃO PAULO-RIO DE JANEIRO    53744\n",
              "GUARULHOS-RIO DE JANEIRO    21708\n",
              "RIO DE JANEIRO-GUARULHOS    21482\n",
              "GUARULHOS-PORTO ALEGRE      21205\n",
              "PORTO ALEGRE-GUARULHOS      21174\n",
              "BRASÍLIA-RIO DE JANEIRO     19236\n",
              "RIO DE JANEIRO-BRASÍLIA     19132\n",
              "BRASÍLIA-SÃO PAULO          18924\n",
              "SÃO PAULO-BRASÍLIA          18884\n",
              "CONFINS-SÃO PAULO           18347\n",
              "SÃO PAULO-CONFINS           18145\n",
              "PORTO ALEGRE-SÃO PAULO      16127\n",
              "SALVADOR-GUARULHOS          16118\n",
              "CONFINS-GUARULHOS           16117\n",
              "SÃO PAULO-PORTO ALEGRE      16101\n",
              "GUARULHOS-CONFINS           16098\n",
              "GUARULHOS-SALVADOR          16000\n",
              "GUARULHOS-RECIFE            15872\n",
              "RECIFE-GUARULHOS            15860\n",
              "Name: Itinerario, dtype: int64"
            ]
          },
          "metadata": {
            "tags": []
          },
          "execution_count": 141
        }
      ]
    },
    {
      "cell_type": "code",
      "metadata": {
        "id": "y1erlOunX2Vv",
        "colab": {
          "base_uri": "https://localhost:8080/",
          "height": 359
        },
        "outputId": "bbadc8b2-e9f5-4c24-f41b-67d0aaa5b9ba"
      },
      "source": [
        "df_completo.groupby([\"Ano\", \"Itinerario\"])[\"Mes\"].count().sort_values(ascending=False).head(10).reset_index()"
      ],
      "execution_count": 142,
      "outputs": [
        {
          "output_type": "execute_result",
          "data": {
            "text/html": [
              "<div>\n",
              "<style scoped>\n",
              "    .dataframe tbody tr th:only-of-type {\n",
              "        vertical-align: middle;\n",
              "    }\n",
              "\n",
              "    .dataframe tbody tr th {\n",
              "        vertical-align: top;\n",
              "    }\n",
              "\n",
              "    .dataframe thead th {\n",
              "        text-align: right;\n",
              "    }\n",
              "</style>\n",
              "<table border=\"1\" class=\"dataframe\">\n",
              "  <thead>\n",
              "    <tr style=\"text-align: right;\">\n",
              "      <th></th>\n",
              "      <th>Ano</th>\n",
              "      <th>Itinerario</th>\n",
              "      <th>Mes</th>\n",
              "    </tr>\n",
              "  </thead>\n",
              "  <tbody>\n",
              "    <tr>\n",
              "      <th>0</th>\n",
              "      <td>2018.0</td>\n",
              "      <td>RIO DE JANEIRO-SÃO PAULO</td>\n",
              "      <td>23536</td>\n",
              "    </tr>\n",
              "    <tr>\n",
              "      <th>1</th>\n",
              "      <td>2018.0</td>\n",
              "      <td>SÃO PAULO-RIO DE JANEIRO</td>\n",
              "      <td>23485</td>\n",
              "    </tr>\n",
              "    <tr>\n",
              "      <th>2</th>\n",
              "      <td>2019.0</td>\n",
              "      <td>RIO DE JANEIRO-SÃO PAULO</td>\n",
              "      <td>22524</td>\n",
              "    </tr>\n",
              "    <tr>\n",
              "      <th>3</th>\n",
              "      <td>2019.0</td>\n",
              "      <td>SÃO PAULO-RIO DE JANEIRO</td>\n",
              "      <td>22520</td>\n",
              "    </tr>\n",
              "    <tr>\n",
              "      <th>4</th>\n",
              "      <td>2018.0</td>\n",
              "      <td>GUARULHOS-RIO DE JANEIRO</td>\n",
              "      <td>9021</td>\n",
              "    </tr>\n",
              "    <tr>\n",
              "      <th>5</th>\n",
              "      <td>2018.0</td>\n",
              "      <td>RIO DE JANEIRO-GUARULHOS</td>\n",
              "      <td>8967</td>\n",
              "    </tr>\n",
              "    <tr>\n",
              "      <th>6</th>\n",
              "      <td>2018.0</td>\n",
              "      <td>PORTO ALEGRE-GUARULHOS</td>\n",
              "      <td>8608</td>\n",
              "    </tr>\n",
              "    <tr>\n",
              "      <th>7</th>\n",
              "      <td>2018.0</td>\n",
              "      <td>GUARULHOS-PORTO ALEGRE</td>\n",
              "      <td>8592</td>\n",
              "    </tr>\n",
              "    <tr>\n",
              "      <th>8</th>\n",
              "      <td>2019.0</td>\n",
              "      <td>PORTO ALEGRE-GUARULHOS</td>\n",
              "      <td>8513</td>\n",
              "    </tr>\n",
              "    <tr>\n",
              "      <th>9</th>\n",
              "      <td>2019.0</td>\n",
              "      <td>GUARULHOS-PORTO ALEGRE</td>\n",
              "      <td>8488</td>\n",
              "    </tr>\n",
              "  </tbody>\n",
              "</table>\n",
              "</div>"
            ],
            "text/plain": [
              "      Ano                Itinerario    Mes\n",
              "0  2018.0  RIO DE JANEIRO-SÃO PAULO  23536\n",
              "1  2018.0  SÃO PAULO-RIO DE JANEIRO  23485\n",
              "2  2019.0  RIO DE JANEIRO-SÃO PAULO  22524\n",
              "3  2019.0  SÃO PAULO-RIO DE JANEIRO  22520\n",
              "4  2018.0  GUARULHOS-RIO DE JANEIRO   9021\n",
              "5  2018.0  RIO DE JANEIRO-GUARULHOS   8967\n",
              "6  2018.0    PORTO ALEGRE-GUARULHOS   8608\n",
              "7  2018.0    GUARULHOS-PORTO ALEGRE   8592\n",
              "8  2019.0    PORTO ALEGRE-GUARULHOS   8513\n",
              "9  2019.0    GUARULHOS-PORTO ALEGRE   8488"
            ]
          },
          "metadata": {
            "tags": []
          },
          "execution_count": 142
        }
      ]
    },
    {
      "cell_type": "code",
      "metadata": {
        "id": "CKQPetcuW9z_",
        "colab": {
          "base_uri": "https://localhost:8080/"
        },
        "outputId": "ff6c3cb5-65a6-41f9-de0c-5229e0876882"
      },
      "source": [
        "df_completo.Itinerario.value_counts().tail(20)"
      ],
      "execution_count": 143,
      "outputs": [
        {
          "output_type": "execute_result",
          "data": {
            "text/plain": [
              "FLORIANÓPOLIS-VITÓRIA                         1\n",
              "MONTES CLAROS-TEIXEIRA DE FREITAS             1\n",
              "GUARULHOS-ALTAMIRA                            1\n",
              "JUNDIAÍ-MANGARATIBA                           1\n",
              "ACCRA/KOTOKA INTL-RIO DE JANEIRO              1\n",
              "CUZCO-SANTIAGO DO CHILE                       1\n",
              "GOIÂNIA-UBERABA                               1\n",
              "JACKSONVILLE/INTL.FL.-RIO DE JANEIRO          1\n",
              "VÁRZEA GRANDE-PETROLINA                       1\n",
              "PORTO ALEGRE-PORTO                            1\n",
              "CAMPO GRANDE-MANAUS                           1\n",
              "BOA VISTA-SANTARÉM                            1\n",
              "CONFINS-CHEDDI JAGAN INTL                     1\n",
              "SENA MADUREIRA-SÃO PAULO                      1\n",
              "PALMAS-TERESINA                               1\n",
              "PATOS DE MINAS-BRASÍLIA                       1\n",
              "CIDADE DEL ESTE-RIO DE JANEIRO                1\n",
              "RIO DE JANEIRO-TUCUMAN/TEN BENJAMIIM MATIE    1\n",
              "VIRU VIRU-GUAYAQUIL                           1\n",
              "AGUADILLA-MIAMI                               1\n",
              "Name: Itinerario, dtype: int64"
            ]
          },
          "metadata": {
            "tags": []
          },
          "execution_count": 143
        }
      ]
    },
    {
      "cell_type": "markdown",
      "metadata": {
        "id": "hY9-94R0Y9_G"
      },
      "source": [
        "Quantidade de voos por empresa"
      ]
    },
    {
      "cell_type": "code",
      "metadata": {
        "id": "UtTnDfG3XYC2",
        "colab": {
          "base_uri": "https://localhost:8080/"
        },
        "outputId": "c3076756-5136-4a63-f814-a4219a846c58"
      },
      "source": [
        "df_completo.Nome_Empresa.value_counts(normalize=True).head(20)"
      ],
      "execution_count": 144,
      "outputs": [
        {
          "output_type": "execute_result",
          "data": {
            "text/plain": [
              "AZUL                                   0.298003\n",
              "GOL                                    0.265367\n",
              "TAM                                    0.245304\n",
              "AVIANCA BRASIL                         0.052384\n",
              "PASSAREDO                              0.015060\n",
              "AEROLINEAS ARGENTINAS                  0.008879\n",
              "COPA -COMPANIA PANAMENA DE AVIACION    0.008681\n",
              "TAP AIR PORTUGAL                       0.007662\n",
              "AMERICAN AIRLINES INC                  0.006672\n",
              "ABSA                                   0.006657\n",
              "LAN CHILE                              0.005478\n",
              "MAP LINHAS AEREAS                      0.005351\n",
              "TOTAL                                  0.004021\n",
              "UNITED AIRLINES                        0.004006\n",
              "QATAR AIRWAYS                          0.003366\n",
              "LAN CARGO S.A                          0.003076\n",
              "EMIRATES                               0.002996\n",
              "TAM TRANSP.AR.DEL.MERCOS.             0.002972\n",
              "AVIANCA                                0.002854\n",
              "DELTA AIRLINES                         0.002835\n",
              "Name: Nome_Empresa, dtype: float64"
            ]
          },
          "metadata": {
            "tags": []
          },
          "execution_count": 144
        }
      ]
    },
    {
      "cell_type": "markdown",
      "metadata": {
        "id": "1H5xZ62vgVne"
      },
      "source": [
        "Verificar a quantidade de voos com atraso"
      ]
    },
    {
      "cell_type": "code",
      "metadata": {
        "id": "xkwgZWCvZKtH",
        "colab": {
          "base_uri": "https://localhost:8080/",
          "height": 425
        },
        "outputId": "9bb20b81-f70f-41f0-ad9c-a0a75724b85b"
      },
      "source": [
        "df_completo.head()"
      ],
      "execution_count": 145,
      "outputs": [
        {
          "output_type": "execute_result",
          "data": {
            "text/html": [
              "<div>\n",
              "<style scoped>\n",
              "    .dataframe tbody tr th:only-of-type {\n",
              "        vertical-align: middle;\n",
              "    }\n",
              "\n",
              "    .dataframe tbody tr th {\n",
              "        vertical-align: top;\n",
              "    }\n",
              "\n",
              "    .dataframe thead th {\n",
              "        text-align: right;\n",
              "    }\n",
              "</style>\n",
              "<table border=\"1\" class=\"dataframe\">\n",
              "  <thead>\n",
              "    <tr style=\"text-align: right;\">\n",
              "      <th></th>\n",
              "      <th>Cod_Empresa_Aerea</th>\n",
              "      <th>Num_Voo</th>\n",
              "      <th>Cod_Autorizacao_DI</th>\n",
              "      <th>Cod_Tipo_Linha</th>\n",
              "      <th>Cod_Aerodromo_Origem</th>\n",
              "      <th>Cod_Aerodromo_Destino</th>\n",
              "      <th>Partida_Prevista</th>\n",
              "      <th>Partida_Real</th>\n",
              "      <th>Chegada_Prevista</th>\n",
              "      <th>Chegada_Real</th>\n",
              "      <th>Situacao_Voo</th>\n",
              "      <th>Nome_Empresa</th>\n",
              "      <th>Origem_Empresa</th>\n",
              "      <th>Sigla_Aeroporto</th>\n",
              "      <th>Aeroporto_Origem</th>\n",
              "      <th>Cidade_Origem</th>\n",
              "      <th>UF_Origem</th>\n",
              "      <th>Pais_Origem</th>\n",
              "      <th>Continente_Origem</th>\n",
              "      <th>Sigla_Aeroporto_Dest</th>\n",
              "      <th>Descricao_destino</th>\n",
              "      <th>Cidade_Destino</th>\n",
              "      <th>UF_Destino</th>\n",
              "      <th>Pais_Destino</th>\n",
              "      <th>Continente_Destino</th>\n",
              "      <th>Ano</th>\n",
              "      <th>Mes</th>\n",
              "      <th>Dia</th>\n",
              "      <th>Itinerario</th>\n",
              "    </tr>\n",
              "    <tr>\n",
              "      <th>Data</th>\n",
              "      <th></th>\n",
              "      <th></th>\n",
              "      <th></th>\n",
              "      <th></th>\n",
              "      <th></th>\n",
              "      <th></th>\n",
              "      <th></th>\n",
              "      <th></th>\n",
              "      <th></th>\n",
              "      <th></th>\n",
              "      <th></th>\n",
              "      <th></th>\n",
              "      <th></th>\n",
              "      <th></th>\n",
              "      <th></th>\n",
              "      <th></th>\n",
              "      <th></th>\n",
              "      <th></th>\n",
              "      <th></th>\n",
              "      <th></th>\n",
              "      <th></th>\n",
              "      <th></th>\n",
              "      <th></th>\n",
              "      <th></th>\n",
              "      <th></th>\n",
              "      <th></th>\n",
              "      <th></th>\n",
              "      <th></th>\n",
              "      <th></th>\n",
              "    </tr>\n",
              "  </thead>\n",
              "  <tbody>\n",
              "    <tr>\n",
              "      <th>2018-01-01</th>\n",
              "      <td>AAL</td>\n",
              "      <td>1265</td>\n",
              "      <td>0</td>\n",
              "      <td>I</td>\n",
              "      <td>KMIA</td>\n",
              "      <td>SBEG</td>\n",
              "      <td>2018-01-01 20:30:00</td>\n",
              "      <td>2018-01-01 20:30:00</td>\n",
              "      <td>2018-01-02 01:53:00</td>\n",
              "      <td>2018-01-02 01:53:00</td>\n",
              "      <td>REALIZADO</td>\n",
              "      <td>AMERICAN AIRLINES INC</td>\n",
              "      <td>ESTRANGEIRA</td>\n",
              "      <td>SBEG</td>\n",
              "      <td>MIAMI INTERNATIONAL AIRPORT</td>\n",
              "      <td>MIAMI</td>\n",
              "      <td>NaN</td>\n",
              "      <td>ESTADOS UNIDOS DA AMERICA</td>\n",
              "      <td>AMERICA DO NORTE</td>\n",
              "      <td>SBEG</td>\n",
              "      <td>EDUARDO GOMES</td>\n",
              "      <td>MANAUS</td>\n",
              "      <td>AM</td>\n",
              "      <td>BRASIL</td>\n",
              "      <td>AMERICA DO SUL</td>\n",
              "      <td>2018.0</td>\n",
              "      <td>1.0</td>\n",
              "      <td>1.0</td>\n",
              "      <td>MIAMI-MANAUS</td>\n",
              "    </tr>\n",
              "    <tr>\n",
              "      <th>2018-01-02</th>\n",
              "      <td>AAL</td>\n",
              "      <td>1265</td>\n",
              "      <td>0</td>\n",
              "      <td>I</td>\n",
              "      <td>KMIA</td>\n",
              "      <td>SBEG</td>\n",
              "      <td>2018-01-02 20:30:00</td>\n",
              "      <td>2018-01-02 20:30:00</td>\n",
              "      <td>2018-01-03 01:53:00</td>\n",
              "      <td>2018-01-03 01:53:00</td>\n",
              "      <td>REALIZADO</td>\n",
              "      <td>AMERICAN AIRLINES INC</td>\n",
              "      <td>ESTRANGEIRA</td>\n",
              "      <td>SBEG</td>\n",
              "      <td>MIAMI INTERNATIONAL AIRPORT</td>\n",
              "      <td>MIAMI</td>\n",
              "      <td>NaN</td>\n",
              "      <td>ESTADOS UNIDOS DA AMERICA</td>\n",
              "      <td>AMERICA DO NORTE</td>\n",
              "      <td>SBEG</td>\n",
              "      <td>EDUARDO GOMES</td>\n",
              "      <td>MANAUS</td>\n",
              "      <td>AM</td>\n",
              "      <td>BRASIL</td>\n",
              "      <td>AMERICA DO SUL</td>\n",
              "      <td>2018.0</td>\n",
              "      <td>1.0</td>\n",
              "      <td>2.0</td>\n",
              "      <td>MIAMI-MANAUS</td>\n",
              "    </tr>\n",
              "    <tr>\n",
              "      <th>2018-01-03</th>\n",
              "      <td>AAL</td>\n",
              "      <td>1265</td>\n",
              "      <td>0</td>\n",
              "      <td>I</td>\n",
              "      <td>KMIA</td>\n",
              "      <td>SBEG</td>\n",
              "      <td>2018-01-03 20:30:00</td>\n",
              "      <td>2018-01-03 20:30:00</td>\n",
              "      <td>2018-01-04 01:53:00</td>\n",
              "      <td>2018-01-04 01:53:00</td>\n",
              "      <td>REALIZADO</td>\n",
              "      <td>AMERICAN AIRLINES INC</td>\n",
              "      <td>ESTRANGEIRA</td>\n",
              "      <td>SBEG</td>\n",
              "      <td>MIAMI INTERNATIONAL AIRPORT</td>\n",
              "      <td>MIAMI</td>\n",
              "      <td>NaN</td>\n",
              "      <td>ESTADOS UNIDOS DA AMERICA</td>\n",
              "      <td>AMERICA DO NORTE</td>\n",
              "      <td>SBEG</td>\n",
              "      <td>EDUARDO GOMES</td>\n",
              "      <td>MANAUS</td>\n",
              "      <td>AM</td>\n",
              "      <td>BRASIL</td>\n",
              "      <td>AMERICA DO SUL</td>\n",
              "      <td>2018.0</td>\n",
              "      <td>1.0</td>\n",
              "      <td>3.0</td>\n",
              "      <td>MIAMI-MANAUS</td>\n",
              "    </tr>\n",
              "    <tr>\n",
              "      <th>2018-01-04</th>\n",
              "      <td>AAL</td>\n",
              "      <td>1265</td>\n",
              "      <td>0</td>\n",
              "      <td>I</td>\n",
              "      <td>KMIA</td>\n",
              "      <td>SBEG</td>\n",
              "      <td>2018-01-04 20:30:00</td>\n",
              "      <td>2018-01-04 20:30:00</td>\n",
              "      <td>2018-01-05 01:53:00</td>\n",
              "      <td>2018-01-05 01:53:00</td>\n",
              "      <td>REALIZADO</td>\n",
              "      <td>AMERICAN AIRLINES INC</td>\n",
              "      <td>ESTRANGEIRA</td>\n",
              "      <td>SBEG</td>\n",
              "      <td>MIAMI INTERNATIONAL AIRPORT</td>\n",
              "      <td>MIAMI</td>\n",
              "      <td>NaN</td>\n",
              "      <td>ESTADOS UNIDOS DA AMERICA</td>\n",
              "      <td>AMERICA DO NORTE</td>\n",
              "      <td>SBEG</td>\n",
              "      <td>EDUARDO GOMES</td>\n",
              "      <td>MANAUS</td>\n",
              "      <td>AM</td>\n",
              "      <td>BRASIL</td>\n",
              "      <td>AMERICA DO SUL</td>\n",
              "      <td>2018.0</td>\n",
              "      <td>1.0</td>\n",
              "      <td>4.0</td>\n",
              "      <td>MIAMI-MANAUS</td>\n",
              "    </tr>\n",
              "    <tr>\n",
              "      <th>2018-01-05</th>\n",
              "      <td>AAL</td>\n",
              "      <td>1265</td>\n",
              "      <td>0</td>\n",
              "      <td>I</td>\n",
              "      <td>KMIA</td>\n",
              "      <td>SBEG</td>\n",
              "      <td>2018-01-05 20:30:00</td>\n",
              "      <td>2018-01-05 20:30:00</td>\n",
              "      <td>2018-01-06 01:53:00</td>\n",
              "      <td>2018-01-06 01:53:00</td>\n",
              "      <td>REALIZADO</td>\n",
              "      <td>AMERICAN AIRLINES INC</td>\n",
              "      <td>ESTRANGEIRA</td>\n",
              "      <td>SBEG</td>\n",
              "      <td>MIAMI INTERNATIONAL AIRPORT</td>\n",
              "      <td>MIAMI</td>\n",
              "      <td>NaN</td>\n",
              "      <td>ESTADOS UNIDOS DA AMERICA</td>\n",
              "      <td>AMERICA DO NORTE</td>\n",
              "      <td>SBEG</td>\n",
              "      <td>EDUARDO GOMES</td>\n",
              "      <td>MANAUS</td>\n",
              "      <td>AM</td>\n",
              "      <td>BRASIL</td>\n",
              "      <td>AMERICA DO SUL</td>\n",
              "      <td>2018.0</td>\n",
              "      <td>1.0</td>\n",
              "      <td>5.0</td>\n",
              "      <td>MIAMI-MANAUS</td>\n",
              "    </tr>\n",
              "  </tbody>\n",
              "</table>\n",
              "</div>"
            ],
            "text/plain": [
              "           Cod_Empresa_Aerea Num_Voo Cod_Autorizacao_DI  ...  Mes  Dia    Itinerario\n",
              "Data                                                     ...                        \n",
              "2018-01-01               AAL    1265                  0  ...  1.0  1.0  MIAMI-MANAUS\n",
              "2018-01-02               AAL    1265                  0  ...  1.0  2.0  MIAMI-MANAUS\n",
              "2018-01-03               AAL    1265                  0  ...  1.0  3.0  MIAMI-MANAUS\n",
              "2018-01-04               AAL    1265                  0  ...  1.0  4.0  MIAMI-MANAUS\n",
              "2018-01-05               AAL    1265                  0  ...  1.0  5.0  MIAMI-MANAUS\n",
              "\n",
              "[5 rows x 29 columns]"
            ]
          },
          "metadata": {
            "tags": []
          },
          "execution_count": 145
        }
      ]
    },
    {
      "cell_type": "markdown",
      "metadata": {
        "id": "QCx9KbBcGo-m"
      },
      "source": [
        "Alterar o tipo de dados da coluna Partida_Prevista para que possa fazer a comparação com Partida_Real"
      ]
    },
    {
      "cell_type": "code",
      "metadata": {
        "id": "aUMqJtGchAhk",
        "colab": {
          "base_uri": "https://localhost:8080/"
        },
        "outputId": "117a3fed-9b3f-4157-f363-9c2956292bae"
      },
      "source": [
        "df_completo.Partida_Prevista.astype(\"object\")"
      ],
      "execution_count": 146,
      "outputs": [
        {
          "output_type": "execute_result",
          "data": {
            "text/plain": [
              "Data\n",
              "2018-01-01    2018-01-01 20:30:00\n",
              "2018-01-02    2018-01-02 20:30:00\n",
              "2018-01-03    2018-01-03 20:30:00\n",
              "2018-01-04    2018-01-04 20:30:00\n",
              "2018-01-05    2018-01-05 20:30:00\n",
              "                     ...         \n",
              "2020-12-01    2020-12-01 07:50:00\n",
              "2020-11-03    2020-11-03 07:50:00\n",
              "2020-11-10    2020-11-10 07:50:00\n",
              "2020-11-17    2020-11-17 07:50:00\n",
              "2020-11-24    2020-11-24 07:50:00\n",
              "Name: Partida_Prevista, Length: 2448390, dtype: object"
            ]
          },
          "metadata": {
            "tags": []
          },
          "execution_count": 146
        }
      ]
    },
    {
      "cell_type": "markdown",
      "metadata": {
        "id": "OnsSUEysG3AJ"
      },
      "source": [
        "A nova coluna Atraso irá mostrar quais voos tiveram atrasos"
      ]
    },
    {
      "cell_type": "code",
      "metadata": {
        "id": "SqIeHNv4gam2"
      },
      "source": [
        "df_completo[\"Atraso\"] = df_completo['Partida_Prevista'] != df_completo['Partida_Real']"
      ],
      "execution_count": 149,
      "outputs": []
    },
    {
      "cell_type": "code",
      "metadata": {
        "id": "gesc11QHg3W8",
        "colab": {
          "base_uri": "https://localhost:8080/",
          "height": 425
        },
        "outputId": "9386de64-5d69-425f-ef5a-6613ed18cdfa"
      },
      "source": [
        "df_completo.head()"
      ],
      "execution_count": 150,
      "outputs": [
        {
          "output_type": "execute_result",
          "data": {
            "text/html": [
              "<div>\n",
              "<style scoped>\n",
              "    .dataframe tbody tr th:only-of-type {\n",
              "        vertical-align: middle;\n",
              "    }\n",
              "\n",
              "    .dataframe tbody tr th {\n",
              "        vertical-align: top;\n",
              "    }\n",
              "\n",
              "    .dataframe thead th {\n",
              "        text-align: right;\n",
              "    }\n",
              "</style>\n",
              "<table border=\"1\" class=\"dataframe\">\n",
              "  <thead>\n",
              "    <tr style=\"text-align: right;\">\n",
              "      <th></th>\n",
              "      <th>Cod_Empresa_Aerea</th>\n",
              "      <th>Num_Voo</th>\n",
              "      <th>Cod_Autorizacao_DI</th>\n",
              "      <th>Cod_Tipo_Linha</th>\n",
              "      <th>Cod_Aerodromo_Origem</th>\n",
              "      <th>Cod_Aerodromo_Destino</th>\n",
              "      <th>Partida_Prevista</th>\n",
              "      <th>Partida_Real</th>\n",
              "      <th>Chegada_Prevista</th>\n",
              "      <th>Chegada_Real</th>\n",
              "      <th>Situacao_Voo</th>\n",
              "      <th>Nome_Empresa</th>\n",
              "      <th>Origem_Empresa</th>\n",
              "      <th>Sigla_Aeroporto</th>\n",
              "      <th>Aeroporto_Origem</th>\n",
              "      <th>Cidade_Origem</th>\n",
              "      <th>UF_Origem</th>\n",
              "      <th>Pais_Origem</th>\n",
              "      <th>Continente_Origem</th>\n",
              "      <th>Sigla_Aeroporto_Dest</th>\n",
              "      <th>Descricao_destino</th>\n",
              "      <th>Cidade_Destino</th>\n",
              "      <th>UF_Destino</th>\n",
              "      <th>Pais_Destino</th>\n",
              "      <th>Continente_Destino</th>\n",
              "      <th>Ano</th>\n",
              "      <th>Mes</th>\n",
              "      <th>Dia</th>\n",
              "      <th>Itinerario</th>\n",
              "      <th>Atraso</th>\n",
              "    </tr>\n",
              "    <tr>\n",
              "      <th>Data</th>\n",
              "      <th></th>\n",
              "      <th></th>\n",
              "      <th></th>\n",
              "      <th></th>\n",
              "      <th></th>\n",
              "      <th></th>\n",
              "      <th></th>\n",
              "      <th></th>\n",
              "      <th></th>\n",
              "      <th></th>\n",
              "      <th></th>\n",
              "      <th></th>\n",
              "      <th></th>\n",
              "      <th></th>\n",
              "      <th></th>\n",
              "      <th></th>\n",
              "      <th></th>\n",
              "      <th></th>\n",
              "      <th></th>\n",
              "      <th></th>\n",
              "      <th></th>\n",
              "      <th></th>\n",
              "      <th></th>\n",
              "      <th></th>\n",
              "      <th></th>\n",
              "      <th></th>\n",
              "      <th></th>\n",
              "      <th></th>\n",
              "      <th></th>\n",
              "      <th></th>\n",
              "    </tr>\n",
              "  </thead>\n",
              "  <tbody>\n",
              "    <tr>\n",
              "      <th>2018-01-01</th>\n",
              "      <td>AAL</td>\n",
              "      <td>1265</td>\n",
              "      <td>0</td>\n",
              "      <td>I</td>\n",
              "      <td>KMIA</td>\n",
              "      <td>SBEG</td>\n",
              "      <td>2018-01-01 20:30:00</td>\n",
              "      <td>2018-01-01 20:30:00</td>\n",
              "      <td>2018-01-02 01:53:00</td>\n",
              "      <td>2018-01-02 01:53:00</td>\n",
              "      <td>REALIZADO</td>\n",
              "      <td>AMERICAN AIRLINES INC</td>\n",
              "      <td>ESTRANGEIRA</td>\n",
              "      <td>SBEG</td>\n",
              "      <td>MIAMI INTERNATIONAL AIRPORT</td>\n",
              "      <td>MIAMI</td>\n",
              "      <td>NaN</td>\n",
              "      <td>ESTADOS UNIDOS DA AMERICA</td>\n",
              "      <td>AMERICA DO NORTE</td>\n",
              "      <td>SBEG</td>\n",
              "      <td>EDUARDO GOMES</td>\n",
              "      <td>MANAUS</td>\n",
              "      <td>AM</td>\n",
              "      <td>BRASIL</td>\n",
              "      <td>AMERICA DO SUL</td>\n",
              "      <td>2018.0</td>\n",
              "      <td>1.0</td>\n",
              "      <td>1.0</td>\n",
              "      <td>MIAMI-MANAUS</td>\n",
              "      <td>False</td>\n",
              "    </tr>\n",
              "    <tr>\n",
              "      <th>2018-01-02</th>\n",
              "      <td>AAL</td>\n",
              "      <td>1265</td>\n",
              "      <td>0</td>\n",
              "      <td>I</td>\n",
              "      <td>KMIA</td>\n",
              "      <td>SBEG</td>\n",
              "      <td>2018-01-02 20:30:00</td>\n",
              "      <td>2018-01-02 20:30:00</td>\n",
              "      <td>2018-01-03 01:53:00</td>\n",
              "      <td>2018-01-03 01:53:00</td>\n",
              "      <td>REALIZADO</td>\n",
              "      <td>AMERICAN AIRLINES INC</td>\n",
              "      <td>ESTRANGEIRA</td>\n",
              "      <td>SBEG</td>\n",
              "      <td>MIAMI INTERNATIONAL AIRPORT</td>\n",
              "      <td>MIAMI</td>\n",
              "      <td>NaN</td>\n",
              "      <td>ESTADOS UNIDOS DA AMERICA</td>\n",
              "      <td>AMERICA DO NORTE</td>\n",
              "      <td>SBEG</td>\n",
              "      <td>EDUARDO GOMES</td>\n",
              "      <td>MANAUS</td>\n",
              "      <td>AM</td>\n",
              "      <td>BRASIL</td>\n",
              "      <td>AMERICA DO SUL</td>\n",
              "      <td>2018.0</td>\n",
              "      <td>1.0</td>\n",
              "      <td>2.0</td>\n",
              "      <td>MIAMI-MANAUS</td>\n",
              "      <td>False</td>\n",
              "    </tr>\n",
              "    <tr>\n",
              "      <th>2018-01-03</th>\n",
              "      <td>AAL</td>\n",
              "      <td>1265</td>\n",
              "      <td>0</td>\n",
              "      <td>I</td>\n",
              "      <td>KMIA</td>\n",
              "      <td>SBEG</td>\n",
              "      <td>2018-01-03 20:30:00</td>\n",
              "      <td>2018-01-03 20:30:00</td>\n",
              "      <td>2018-01-04 01:53:00</td>\n",
              "      <td>2018-01-04 01:53:00</td>\n",
              "      <td>REALIZADO</td>\n",
              "      <td>AMERICAN AIRLINES INC</td>\n",
              "      <td>ESTRANGEIRA</td>\n",
              "      <td>SBEG</td>\n",
              "      <td>MIAMI INTERNATIONAL AIRPORT</td>\n",
              "      <td>MIAMI</td>\n",
              "      <td>NaN</td>\n",
              "      <td>ESTADOS UNIDOS DA AMERICA</td>\n",
              "      <td>AMERICA DO NORTE</td>\n",
              "      <td>SBEG</td>\n",
              "      <td>EDUARDO GOMES</td>\n",
              "      <td>MANAUS</td>\n",
              "      <td>AM</td>\n",
              "      <td>BRASIL</td>\n",
              "      <td>AMERICA DO SUL</td>\n",
              "      <td>2018.0</td>\n",
              "      <td>1.0</td>\n",
              "      <td>3.0</td>\n",
              "      <td>MIAMI-MANAUS</td>\n",
              "      <td>False</td>\n",
              "    </tr>\n",
              "    <tr>\n",
              "      <th>2018-01-04</th>\n",
              "      <td>AAL</td>\n",
              "      <td>1265</td>\n",
              "      <td>0</td>\n",
              "      <td>I</td>\n",
              "      <td>KMIA</td>\n",
              "      <td>SBEG</td>\n",
              "      <td>2018-01-04 20:30:00</td>\n",
              "      <td>2018-01-04 20:30:00</td>\n",
              "      <td>2018-01-05 01:53:00</td>\n",
              "      <td>2018-01-05 01:53:00</td>\n",
              "      <td>REALIZADO</td>\n",
              "      <td>AMERICAN AIRLINES INC</td>\n",
              "      <td>ESTRANGEIRA</td>\n",
              "      <td>SBEG</td>\n",
              "      <td>MIAMI INTERNATIONAL AIRPORT</td>\n",
              "      <td>MIAMI</td>\n",
              "      <td>NaN</td>\n",
              "      <td>ESTADOS UNIDOS DA AMERICA</td>\n",
              "      <td>AMERICA DO NORTE</td>\n",
              "      <td>SBEG</td>\n",
              "      <td>EDUARDO GOMES</td>\n",
              "      <td>MANAUS</td>\n",
              "      <td>AM</td>\n",
              "      <td>BRASIL</td>\n",
              "      <td>AMERICA DO SUL</td>\n",
              "      <td>2018.0</td>\n",
              "      <td>1.0</td>\n",
              "      <td>4.0</td>\n",
              "      <td>MIAMI-MANAUS</td>\n",
              "      <td>False</td>\n",
              "    </tr>\n",
              "    <tr>\n",
              "      <th>2018-01-05</th>\n",
              "      <td>AAL</td>\n",
              "      <td>1265</td>\n",
              "      <td>0</td>\n",
              "      <td>I</td>\n",
              "      <td>KMIA</td>\n",
              "      <td>SBEG</td>\n",
              "      <td>2018-01-05 20:30:00</td>\n",
              "      <td>2018-01-05 20:30:00</td>\n",
              "      <td>2018-01-06 01:53:00</td>\n",
              "      <td>2018-01-06 01:53:00</td>\n",
              "      <td>REALIZADO</td>\n",
              "      <td>AMERICAN AIRLINES INC</td>\n",
              "      <td>ESTRANGEIRA</td>\n",
              "      <td>SBEG</td>\n",
              "      <td>MIAMI INTERNATIONAL AIRPORT</td>\n",
              "      <td>MIAMI</td>\n",
              "      <td>NaN</td>\n",
              "      <td>ESTADOS UNIDOS DA AMERICA</td>\n",
              "      <td>AMERICA DO NORTE</td>\n",
              "      <td>SBEG</td>\n",
              "      <td>EDUARDO GOMES</td>\n",
              "      <td>MANAUS</td>\n",
              "      <td>AM</td>\n",
              "      <td>BRASIL</td>\n",
              "      <td>AMERICA DO SUL</td>\n",
              "      <td>2018.0</td>\n",
              "      <td>1.0</td>\n",
              "      <td>5.0</td>\n",
              "      <td>MIAMI-MANAUS</td>\n",
              "      <td>False</td>\n",
              "    </tr>\n",
              "  </tbody>\n",
              "</table>\n",
              "</div>"
            ],
            "text/plain": [
              "           Cod_Empresa_Aerea Num_Voo  ...    Itinerario Atraso\n",
              "Data                                  ...                     \n",
              "2018-01-01               AAL    1265  ...  MIAMI-MANAUS  False\n",
              "2018-01-02               AAL    1265  ...  MIAMI-MANAUS  False\n",
              "2018-01-03               AAL    1265  ...  MIAMI-MANAUS  False\n",
              "2018-01-04               AAL    1265  ...  MIAMI-MANAUS  False\n",
              "2018-01-05               AAL    1265  ...  MIAMI-MANAUS  False\n",
              "\n",
              "[5 rows x 30 columns]"
            ]
          },
          "metadata": {
            "tags": []
          },
          "execution_count": 150
        }
      ]
    },
    {
      "cell_type": "code",
      "metadata": {
        "id": "1PcPDWnBeqv1",
        "colab": {
          "base_uri": "https://localhost:8080/",
          "height": 425
        },
        "outputId": "494fc805-d89a-4d21-89f4-6450ca37819b"
      },
      "source": [
        "df_completo.query(\"Atraso == True\").head()"
      ],
      "execution_count": 151,
      "outputs": [
        {
          "output_type": "execute_result",
          "data": {
            "text/html": [
              "<div>\n",
              "<style scoped>\n",
              "    .dataframe tbody tr th:only-of-type {\n",
              "        vertical-align: middle;\n",
              "    }\n",
              "\n",
              "    .dataframe tbody tr th {\n",
              "        vertical-align: top;\n",
              "    }\n",
              "\n",
              "    .dataframe thead th {\n",
              "        text-align: right;\n",
              "    }\n",
              "</style>\n",
              "<table border=\"1\" class=\"dataframe\">\n",
              "  <thead>\n",
              "    <tr style=\"text-align: right;\">\n",
              "      <th></th>\n",
              "      <th>Cod_Empresa_Aerea</th>\n",
              "      <th>Num_Voo</th>\n",
              "      <th>Cod_Autorizacao_DI</th>\n",
              "      <th>Cod_Tipo_Linha</th>\n",
              "      <th>Cod_Aerodromo_Origem</th>\n",
              "      <th>Cod_Aerodromo_Destino</th>\n",
              "      <th>Partida_Prevista</th>\n",
              "      <th>Partida_Real</th>\n",
              "      <th>Chegada_Prevista</th>\n",
              "      <th>Chegada_Real</th>\n",
              "      <th>Situacao_Voo</th>\n",
              "      <th>Nome_Empresa</th>\n",
              "      <th>Origem_Empresa</th>\n",
              "      <th>Sigla_Aeroporto</th>\n",
              "      <th>Aeroporto_Origem</th>\n",
              "      <th>Cidade_Origem</th>\n",
              "      <th>UF_Origem</th>\n",
              "      <th>Pais_Origem</th>\n",
              "      <th>Continente_Origem</th>\n",
              "      <th>Sigla_Aeroporto_Dest</th>\n",
              "      <th>Descricao_destino</th>\n",
              "      <th>Cidade_Destino</th>\n",
              "      <th>UF_Destino</th>\n",
              "      <th>Pais_Destino</th>\n",
              "      <th>Continente_Destino</th>\n",
              "      <th>Ano</th>\n",
              "      <th>Mes</th>\n",
              "      <th>Dia</th>\n",
              "      <th>Itinerario</th>\n",
              "      <th>Atraso</th>\n",
              "    </tr>\n",
              "    <tr>\n",
              "      <th>Data</th>\n",
              "      <th></th>\n",
              "      <th></th>\n",
              "      <th></th>\n",
              "      <th></th>\n",
              "      <th></th>\n",
              "      <th></th>\n",
              "      <th></th>\n",
              "      <th></th>\n",
              "      <th></th>\n",
              "      <th></th>\n",
              "      <th></th>\n",
              "      <th></th>\n",
              "      <th></th>\n",
              "      <th></th>\n",
              "      <th></th>\n",
              "      <th></th>\n",
              "      <th></th>\n",
              "      <th></th>\n",
              "      <th></th>\n",
              "      <th></th>\n",
              "      <th></th>\n",
              "      <th></th>\n",
              "      <th></th>\n",
              "      <th></th>\n",
              "      <th></th>\n",
              "      <th></th>\n",
              "      <th></th>\n",
              "      <th></th>\n",
              "      <th></th>\n",
              "      <th></th>\n",
              "    </tr>\n",
              "  </thead>\n",
              "  <tbody>\n",
              "    <tr>\n",
              "      <th>2018-01-06</th>\n",
              "      <td>AAL</td>\n",
              "      <td>1265</td>\n",
              "      <td>0</td>\n",
              "      <td>I</td>\n",
              "      <td>KMIA</td>\n",
              "      <td>SBEG</td>\n",
              "      <td>2018-01-06 20:30:00</td>\n",
              "      <td>2018-01-06 22:00:00</td>\n",
              "      <td>2018-01-07 01:53:00</td>\n",
              "      <td>2018-01-07 03:13:00</td>\n",
              "      <td>REALIZADO</td>\n",
              "      <td>AMERICAN AIRLINES INC</td>\n",
              "      <td>ESTRANGEIRA</td>\n",
              "      <td>SBEG</td>\n",
              "      <td>MIAMI INTERNATIONAL AIRPORT</td>\n",
              "      <td>MIAMI</td>\n",
              "      <td>NaN</td>\n",
              "      <td>ESTADOS UNIDOS DA AMERICA</td>\n",
              "      <td>AMERICA DO NORTE</td>\n",
              "      <td>SBEG</td>\n",
              "      <td>EDUARDO GOMES</td>\n",
              "      <td>MANAUS</td>\n",
              "      <td>AM</td>\n",
              "      <td>BRASIL</td>\n",
              "      <td>AMERICA DO SUL</td>\n",
              "      <td>2018.0</td>\n",
              "      <td>1.0</td>\n",
              "      <td>6.0</td>\n",
              "      <td>MIAMI-MANAUS</td>\n",
              "      <td>True</td>\n",
              "    </tr>\n",
              "    <tr>\n",
              "      <th>2018-01-20</th>\n",
              "      <td>AAL</td>\n",
              "      <td>1265</td>\n",
              "      <td>0</td>\n",
              "      <td>I</td>\n",
              "      <td>KMIA</td>\n",
              "      <td>SBEG</td>\n",
              "      <td>2018-01-20 20:30:00</td>\n",
              "      <td>2018-01-20 22:00:00</td>\n",
              "      <td>2018-01-21 01:53:00</td>\n",
              "      <td>2018-01-21 03:04:00</td>\n",
              "      <td>REALIZADO</td>\n",
              "      <td>AMERICAN AIRLINES INC</td>\n",
              "      <td>ESTRANGEIRA</td>\n",
              "      <td>SBEG</td>\n",
              "      <td>MIAMI INTERNATIONAL AIRPORT</td>\n",
              "      <td>MIAMI</td>\n",
              "      <td>NaN</td>\n",
              "      <td>ESTADOS UNIDOS DA AMERICA</td>\n",
              "      <td>AMERICA DO NORTE</td>\n",
              "      <td>SBEG</td>\n",
              "      <td>EDUARDO GOMES</td>\n",
              "      <td>MANAUS</td>\n",
              "      <td>AM</td>\n",
              "      <td>BRASIL</td>\n",
              "      <td>AMERICA DO SUL</td>\n",
              "      <td>2018.0</td>\n",
              "      <td>1.0</td>\n",
              "      <td>20.0</td>\n",
              "      <td>MIAMI-MANAUS</td>\n",
              "      <td>True</td>\n",
              "    </tr>\n",
              "    <tr>\n",
              "      <th>2018-01-25</th>\n",
              "      <td>AAL</td>\n",
              "      <td>1265</td>\n",
              "      <td>0</td>\n",
              "      <td>I</td>\n",
              "      <td>KMIA</td>\n",
              "      <td>SBEG</td>\n",
              "      <td>2018-01-25 20:30:00</td>\n",
              "      <td>2018-01-25 23:02:00</td>\n",
              "      <td>2018-01-26 01:53:00</td>\n",
              "      <td>2018-01-26 04:29:00</td>\n",
              "      <td>REALIZADO</td>\n",
              "      <td>AMERICAN AIRLINES INC</td>\n",
              "      <td>ESTRANGEIRA</td>\n",
              "      <td>SBEG</td>\n",
              "      <td>MIAMI INTERNATIONAL AIRPORT</td>\n",
              "      <td>MIAMI</td>\n",
              "      <td>NaN</td>\n",
              "      <td>ESTADOS UNIDOS DA AMERICA</td>\n",
              "      <td>AMERICA DO NORTE</td>\n",
              "      <td>SBEG</td>\n",
              "      <td>EDUARDO GOMES</td>\n",
              "      <td>MANAUS</td>\n",
              "      <td>AM</td>\n",
              "      <td>BRASIL</td>\n",
              "      <td>AMERICA DO SUL</td>\n",
              "      <td>2018.0</td>\n",
              "      <td>1.0</td>\n",
              "      <td>25.0</td>\n",
              "      <td>MIAMI-MANAUS</td>\n",
              "      <td>True</td>\n",
              "    </tr>\n",
              "    <tr>\n",
              "      <th>2018-01-31</th>\n",
              "      <td>AAL</td>\n",
              "      <td>1265</td>\n",
              "      <td>0</td>\n",
              "      <td>I</td>\n",
              "      <td>KMIA</td>\n",
              "      <td>SBEG</td>\n",
              "      <td>2018-01-31 20:30:00</td>\n",
              "      <td>2018-01-31 23:06:00</td>\n",
              "      <td>2018-02-01 01:53:00</td>\n",
              "      <td>2018-02-01 04:18:00</td>\n",
              "      <td>REALIZADO</td>\n",
              "      <td>AMERICAN AIRLINES INC</td>\n",
              "      <td>ESTRANGEIRA</td>\n",
              "      <td>SBEG</td>\n",
              "      <td>MIAMI INTERNATIONAL AIRPORT</td>\n",
              "      <td>MIAMI</td>\n",
              "      <td>NaN</td>\n",
              "      <td>ESTADOS UNIDOS DA AMERICA</td>\n",
              "      <td>AMERICA DO NORTE</td>\n",
              "      <td>SBEG</td>\n",
              "      <td>EDUARDO GOMES</td>\n",
              "      <td>MANAUS</td>\n",
              "      <td>AM</td>\n",
              "      <td>BRASIL</td>\n",
              "      <td>AMERICA DO SUL</td>\n",
              "      <td>2018.0</td>\n",
              "      <td>1.0</td>\n",
              "      <td>31.0</td>\n",
              "      <td>MIAMI-MANAUS</td>\n",
              "      <td>True</td>\n",
              "    </tr>\n",
              "    <tr>\n",
              "      <th>2018-01-01</th>\n",
              "      <td>AAL</td>\n",
              "      <td>213</td>\n",
              "      <td>0</td>\n",
              "      <td>I</td>\n",
              "      <td>KMIA</td>\n",
              "      <td>SBBR</td>\n",
              "      <td>2018-01-01 02:15:00</td>\n",
              "      <td>2018-01-01 03:03:00</td>\n",
              "      <td>2018-01-01 09:55:00</td>\n",
              "      <td>2018-01-01 10:30:00</td>\n",
              "      <td>REALIZADO</td>\n",
              "      <td>AMERICAN AIRLINES INC</td>\n",
              "      <td>ESTRANGEIRA</td>\n",
              "      <td>SBBR</td>\n",
              "      <td>MIAMI INTERNATIONAL AIRPORT</td>\n",
              "      <td>MIAMI</td>\n",
              "      <td>NaN</td>\n",
              "      <td>ESTADOS UNIDOS DA AMERICA</td>\n",
              "      <td>AMERICA DO NORTE</td>\n",
              "      <td>SBBR</td>\n",
              "      <td>PRESIDENTE JUSCELINO KUBITSCHEK</td>\n",
              "      <td>BRASÍLIA</td>\n",
              "      <td>DF</td>\n",
              "      <td>BRASIL</td>\n",
              "      <td>AMERICA DO SUL</td>\n",
              "      <td>2018.0</td>\n",
              "      <td>1.0</td>\n",
              "      <td>1.0</td>\n",
              "      <td>MIAMI-BRASÍLIA</td>\n",
              "      <td>True</td>\n",
              "    </tr>\n",
              "  </tbody>\n",
              "</table>\n",
              "</div>"
            ],
            "text/plain": [
              "           Cod_Empresa_Aerea Num_Voo  ...      Itinerario Atraso\n",
              "Data                                  ...                       \n",
              "2018-01-06               AAL    1265  ...    MIAMI-MANAUS   True\n",
              "2018-01-20               AAL    1265  ...    MIAMI-MANAUS   True\n",
              "2018-01-25               AAL    1265  ...    MIAMI-MANAUS   True\n",
              "2018-01-31               AAL    1265  ...    MIAMI-MANAUS   True\n",
              "2018-01-01               AAL     213  ...  MIAMI-BRASÍLIA   True\n",
              "\n",
              "[5 rows x 30 columns]"
            ]
          },
          "metadata": {
            "tags": []
          },
          "execution_count": 151
        }
      ]
    },
    {
      "cell_type": "markdown",
      "metadata": {
        "id": "0duw35Y6HJtw"
      },
      "source": [
        "Verificando a porcentagem de voos com atraso"
      ]
    },
    {
      "cell_type": "code",
      "metadata": {
        "id": "h-4cWYVthplM",
        "colab": {
          "base_uri": "https://localhost:8080/"
        },
        "outputId": "f1e815c3-8493-4166-88b5-9a65ee718f4d"
      },
      "source": [
        "df_completo.Atraso.value_counts(normalize=True)"
      ],
      "execution_count": 152,
      "outputs": [
        {
          "output_type": "execute_result",
          "data": {
            "text/plain": [
              "True     0.718533\n",
              "False    0.281467\n",
              "Name: Atraso, dtype: float64"
            ]
          },
          "metadata": {
            "tags": []
          },
          "execution_count": 152
        }
      ]
    },
    {
      "cell_type": "code",
      "metadata": {
        "id": "On0g5oKciGUr"
      },
      "source": [
        "voos_atrasados = df_completo.query(\"Atraso == True\")"
      ],
      "execution_count": 153,
      "outputs": []
    },
    {
      "cell_type": "code",
      "metadata": {
        "id": "wICfZT45iN6L",
        "colab": {
          "base_uri": "https://localhost:8080/"
        },
        "outputId": "2f550e47-8cb2-458e-b855-027f7fd6179c"
      },
      "source": [
        "voos_atrasados.Nome_Empresa.value_counts().head(10)"
      ],
      "execution_count": 154,
      "outputs": [
        {
          "output_type": "execute_result",
          "data": {
            "text/plain": [
              "AZUL                          522317\n",
              "TAM                           518600\n",
              "GOL                           516585\n",
              "AVIANCA BRASIL                 34189\n",
              "PASSAREDO                      14808\n",
              "ABSA                           13242\n",
              "LAN CHILE                       8609\n",
              "LAN CARGO S.A                   6569\n",
              "TAM TRANSP.AR.DEL.MERCOS.      5875\n",
              "MAP LINHAS AEREAS               5612\n",
              "Name: Nome_Empresa, dtype: int64"
            ]
          },
          "metadata": {
            "tags": []
          },
          "execution_count": 154
        }
      ]
    },
    {
      "cell_type": "markdown",
      "metadata": {
        "id": "i0zpqzYMjP9b"
      },
      "source": [
        "Quantidade de voos cancelados"
      ]
    },
    {
      "cell_type": "code",
      "metadata": {
        "id": "yDeAI4Wsi8ta",
        "colab": {
          "base_uri": "https://localhost:8080/"
        },
        "outputId": "2f828f47-5b37-4bb9-fc12-51506196ad93"
      },
      "source": [
        "df_completo.Situacao_Voo.value_counts(normalize=True)"
      ],
      "execution_count": 155,
      "outputs": [
        {
          "output_type": "execute_result",
          "data": {
            "text/plain": [
              "REALIZADO        0.965717\n",
              "CANCELADO        0.033399\n",
              "NÃO REALIZADO    0.000650\n",
              "NÃO INFORMADO    0.000234\n",
              "Name: Situacao_Voo, dtype: float64"
            ]
          },
          "metadata": {
            "tags": []
          },
          "execution_count": 155
        }
      ]
    },
    {
      "cell_type": "code",
      "metadata": {
        "id": "cHIaMuowjWxK"
      },
      "source": [
        "voos_cancelados = df_completo.query(\"Situacao_Voo == 'CANCELADO'\")"
      ],
      "execution_count": 156,
      "outputs": []
    },
    {
      "cell_type": "code",
      "metadata": {
        "id": "6rSrbgPpjtU5",
        "colab": {
          "base_uri": "https://localhost:8080/"
        },
        "outputId": "fa9bd95f-9ba9-428f-f61a-2502490ff28e"
      },
      "source": [
        "voos_cancelados.Nome_Empresa.value_counts().head(10)"
      ],
      "execution_count": 157,
      "outputs": [
        {
          "output_type": "execute_result",
          "data": {
            "text/plain": [
              "AZUL                                     29325\n",
              "GOL                                      15385\n",
              "TAM                                       7695\n",
              "ABSA                                      3806\n",
              "LAN CARGO S.A                             2501\n",
              "PASSAREDO                                 2473\n",
              "AVIANCA BRASIL                            2382\n",
              "LINEA AEREA CARGUERA DE COLOMBIA S.A.     1811\n",
              "TAMPA S/A                                 1390\n",
              "QATAR AIRWAYS                             1327\n",
              "Name: Nome_Empresa, dtype: int64"
            ]
          },
          "metadata": {
            "tags": []
          },
          "execution_count": 157
        }
      ]
    },
    {
      "cell_type": "markdown",
      "metadata": {
        "id": "9NpusqbBkdDX"
      },
      "source": [
        "Quantidade de voos nos tres anos"
      ]
    },
    {
      "cell_type": "code",
      "metadata": {
        "id": "XJoJQ2lij24M",
        "colab": {
          "base_uri": "https://localhost:8080/"
        },
        "outputId": "a39cb9b1-49b5-4b44-90a9-89297ab9c35b"
      },
      "source": [
        "df_completo.Ano.value_counts()"
      ],
      "execution_count": 158,
      "outputs": [
        {
          "output_type": "execute_result",
          "data": {
            "text/plain": [
              "2018.0    1022523\n",
              "2019.0     982977\n",
              "2020.0     427870\n",
              "2017.0          1\n",
              "Name: Ano, dtype: int64"
            ]
          },
          "metadata": {
            "tags": []
          },
          "execution_count": 158
        }
      ]
    },
    {
      "cell_type": "code",
      "metadata": {
        "id": "Hf_ey4emkbvs"
      },
      "source": [
        "ano_2018 = df_completo.query(\"Ano == 2018\")\n",
        "ano_2019 = df_completo.query(\"Ano == 2019\")\n",
        "ano_2020 = df_completo.query(\"Ano == 2020\")"
      ],
      "execution_count": 159,
      "outputs": []
    },
    {
      "cell_type": "code",
      "metadata": {
        "id": "Ug3c4v-ulRBI",
        "colab": {
          "base_uri": "https://localhost:8080/"
        },
        "outputId": "0b9d649d-8026-45d7-d1b7-b6771334356b"
      },
      "source": [
        "qtde_2018 = ano_2018.Mes.value_counts().sort_index()\n",
        "qtde_2018"
      ],
      "execution_count": 160,
      "outputs": [
        {
          "output_type": "execute_result",
          "data": {
            "text/plain": [
              "1.0     96803\n",
              "2.0     84256\n",
              "3.0     90826\n",
              "4.0     79774\n",
              "5.0     83750\n",
              "6.0     80308\n",
              "7.0     90178\n",
              "8.0     84420\n",
              "9.0     80909\n",
              "10.0    83638\n",
              "11.0    80037\n",
              "12.0    87624\n",
              "Name: Mes, dtype: int64"
            ]
          },
          "metadata": {
            "tags": []
          },
          "execution_count": 160
        }
      ]
    },
    {
      "cell_type": "code",
      "metadata": {
        "id": "cSqSuayolYpI",
        "colab": {
          "base_uri": "https://localhost:8080/"
        },
        "outputId": "711d2d0c-f0ae-4eac-88d0-82c715b7b11d"
      },
      "source": [
        "qtde_2019 = ano_2019.Mes.value_counts().sort_index()\n",
        "qtde_2019"
      ],
      "execution_count": 161,
      "outputs": [
        {
          "output_type": "execute_result",
          "data": {
            "text/plain": [
              "1.0     91806\n",
              "2.0     79522\n",
              "3.0     83069\n",
              "4.0     77444\n",
              "5.0     76699\n",
              "6.0     74163\n",
              "7.0     85682\n",
              "8.0     80601\n",
              "9.0     80527\n",
              "10.0    84231\n",
              "11.0    81001\n",
              "12.0    88232\n",
              "Name: Mes, dtype: int64"
            ]
          },
          "metadata": {
            "tags": []
          },
          "execution_count": 161
        }
      ]
    },
    {
      "cell_type": "code",
      "metadata": {
        "id": "sjtPMur8lrA3",
        "colab": {
          "base_uri": "https://localhost:8080/"
        },
        "outputId": "153214a0-9bf3-447d-fa86-4c9c8d55ae51"
      },
      "source": [
        "qtde_2020 = ano_2020.Mes.value_counts().sort_index()\n",
        "qtde_2020"
      ],
      "execution_count": 162,
      "outputs": [
        {
          "output_type": "execute_result",
          "data": {
            "text/plain": [
              "1.0     92372\n",
              "2.0     80887\n",
              "3.0     64443\n",
              "4.0      7612\n",
              "5.0      9482\n",
              "6.0     12630\n",
              "7.0     19604\n",
              "8.0     24544\n",
              "9.0     30423\n",
              "10.0    40460\n",
              "11.0    45393\n",
              "12.0       20\n",
              "Name: Mes, dtype: int64"
            ]
          },
          "metadata": {
            "tags": []
          },
          "execution_count": 162
        }
      ]
    },
    {
      "cell_type": "code",
      "metadata": {
        "id": "auTRIQdVqUV0"
      },
      "source": [
        "mes = df_completo.Mes.unique()"
      ],
      "execution_count": 164,
      "outputs": []
    },
    {
      "cell_type": "code",
      "metadata": {
        "id": "Z2IvsoBjrAC-",
        "colab": {
          "base_uri": "https://localhost:8080/"
        },
        "outputId": "7768ab0d-4df6-49af-f156-61dc97d5a5ab"
      },
      "source": [
        "mes"
      ],
      "execution_count": 165,
      "outputs": [
        {
          "output_type": "execute_result",
          "data": {
            "text/plain": [
              "array([ 1., nan,  2.,  3.,  4.,  5.,  6.,  7.,  8.,  9., 10., 11., 12.])"
            ]
          },
          "metadata": {
            "tags": []
          },
          "execution_count": 165
        }
      ]
    },
    {
      "cell_type": "code",
      "metadata": {
        "id": "C8DSyiRlrWeG"
      },
      "source": [
        "mes = mes[:12]"
      ],
      "execution_count": 166,
      "outputs": []
    },
    {
      "cell_type": "code",
      "metadata": {
        "id": "JpTyR0cQsV5V",
        "colab": {
          "base_uri": "https://localhost:8080/"
        },
        "outputId": "5296fb9a-73f4-48d0-e75e-0f5dc5f9e245"
      },
      "source": [
        "mes"
      ],
      "execution_count": 167,
      "outputs": [
        {
          "output_type": "execute_result",
          "data": {
            "text/plain": [
              "array([ 1., nan,  2.,  3.,  4.,  5.,  6.,  7.,  8.,  9., 10., 11.])"
            ]
          },
          "metadata": {
            "tags": []
          },
          "execution_count": 167
        }
      ]
    },
    {
      "cell_type": "code",
      "metadata": {
        "id": "TKhC1fmuv0t6",
        "colab": {
          "base_uri": "https://localhost:8080/",
          "height": 264
        },
        "outputId": "f9854650-cd87-4eb4-d4ba-0ecd9a20c29d"
      },
      "source": [
        "ano_2020.head(2)"
      ],
      "execution_count": 170,
      "outputs": [
        {
          "output_type": "execute_result",
          "data": {
            "text/html": [
              "<div>\n",
              "<style scoped>\n",
              "    .dataframe tbody tr th:only-of-type {\n",
              "        vertical-align: middle;\n",
              "    }\n",
              "\n",
              "    .dataframe tbody tr th {\n",
              "        vertical-align: top;\n",
              "    }\n",
              "\n",
              "    .dataframe thead th {\n",
              "        text-align: right;\n",
              "    }\n",
              "</style>\n",
              "<table border=\"1\" class=\"dataframe\">\n",
              "  <thead>\n",
              "    <tr style=\"text-align: right;\">\n",
              "      <th></th>\n",
              "      <th>Cod_Empresa_Aerea</th>\n",
              "      <th>Num_Voo</th>\n",
              "      <th>Cod_Autorizacao_DI</th>\n",
              "      <th>Cod_Tipo_Linha</th>\n",
              "      <th>Cod_Aerodromo_Origem</th>\n",
              "      <th>Cod_Aerodromo_Destino</th>\n",
              "      <th>Partida_Prevista</th>\n",
              "      <th>Partida_Real</th>\n",
              "      <th>Chegada_Prevista</th>\n",
              "      <th>Chegada_Real</th>\n",
              "      <th>Situacao_Voo</th>\n",
              "      <th>Nome_Empresa</th>\n",
              "      <th>Origem_Empresa</th>\n",
              "      <th>Sigla_Aeroporto</th>\n",
              "      <th>Aeroporto_Origem</th>\n",
              "      <th>Cidade_Origem</th>\n",
              "      <th>UF_Origem</th>\n",
              "      <th>Pais_Origem</th>\n",
              "      <th>Continente_Origem</th>\n",
              "      <th>Sigla_Aeroporto_Dest</th>\n",
              "      <th>Descricao_destino</th>\n",
              "      <th>Cidade_Destino</th>\n",
              "      <th>UF_Destino</th>\n",
              "      <th>Pais_Destino</th>\n",
              "      <th>Continente_Destino</th>\n",
              "      <th>Ano</th>\n",
              "      <th>Mes</th>\n",
              "      <th>Dia</th>\n",
              "      <th>Itinerario</th>\n",
              "      <th>Atraso</th>\n",
              "    </tr>\n",
              "    <tr>\n",
              "      <th>Data</th>\n",
              "      <th></th>\n",
              "      <th></th>\n",
              "      <th></th>\n",
              "      <th></th>\n",
              "      <th></th>\n",
              "      <th></th>\n",
              "      <th></th>\n",
              "      <th></th>\n",
              "      <th></th>\n",
              "      <th></th>\n",
              "      <th></th>\n",
              "      <th></th>\n",
              "      <th></th>\n",
              "      <th></th>\n",
              "      <th></th>\n",
              "      <th></th>\n",
              "      <th></th>\n",
              "      <th></th>\n",
              "      <th></th>\n",
              "      <th></th>\n",
              "      <th></th>\n",
              "      <th></th>\n",
              "      <th></th>\n",
              "      <th></th>\n",
              "      <th></th>\n",
              "      <th></th>\n",
              "      <th></th>\n",
              "      <th></th>\n",
              "      <th></th>\n",
              "      <th></th>\n",
              "    </tr>\n",
              "  </thead>\n",
              "  <tbody>\n",
              "    <tr>\n",
              "      <th>2020-01-01</th>\n",
              "      <td>TAM</td>\n",
              "      <td>8010</td>\n",
              "      <td>0</td>\n",
              "      <td>I</td>\n",
              "      <td>SAEZ</td>\n",
              "      <td>SPJC</td>\n",
              "      <td>2020-01-01 03:55:00</td>\n",
              "      <td>2020-01-01 03:55:00</td>\n",
              "      <td>2020-01-01 08:50:00</td>\n",
              "      <td>2020-01-01 08:50:00</td>\n",
              "      <td>REALIZADO</td>\n",
              "      <td>TAM</td>\n",
              "      <td>BRASILEIRA</td>\n",
              "      <td>SPJC</td>\n",
              "      <td>MINISTRO PISTARINI INTERNATIONAL AIRPORT (EZEI...</td>\n",
              "      <td>BUENOS AIRES</td>\n",
              "      <td>NaN</td>\n",
              "      <td>ARGENTINA</td>\n",
              "      <td>AMERICA DO SUL</td>\n",
              "      <td>SPJC</td>\n",
              "      <td>JORGE CHÃVEZ INTERNATIONAL AIRPORT</td>\n",
              "      <td>LIMA</td>\n",
              "      <td>NaN</td>\n",
              "      <td>PERU</td>\n",
              "      <td>AMERICA DO SUL</td>\n",
              "      <td>2020.0</td>\n",
              "      <td>1.0</td>\n",
              "      <td>1.0</td>\n",
              "      <td>BUENOS AIRES-LIMA</td>\n",
              "      <td>False</td>\n",
              "    </tr>\n",
              "    <tr>\n",
              "      <th>2020-01-01</th>\n",
              "      <td>QTR</td>\n",
              "      <td>774</td>\n",
              "      <td>0</td>\n",
              "      <td>I</td>\n",
              "      <td>SBGR</td>\n",
              "      <td>OTHH</td>\n",
              "      <td>2020-01-01 03:20:00</td>\n",
              "      <td>2020-01-01 03:20:00</td>\n",
              "      <td>2020-01-01 17:55:00</td>\n",
              "      <td>2020-01-01 17:55:00</td>\n",
              "      <td>REALIZADO</td>\n",
              "      <td>QATAR AIRWAYS</td>\n",
              "      <td>ESTRANGEIRA</td>\n",
              "      <td>OTHH</td>\n",
              "      <td>GUARULHOS - GOVERNADOR ANDRÉ FRANCO MONTORO</td>\n",
              "      <td>GUARULHOS</td>\n",
              "      <td>SP</td>\n",
              "      <td>BRASIL</td>\n",
              "      <td>AMERICA DO SUL</td>\n",
              "      <td>OTHH</td>\n",
              "      <td>HAMAD INTERNATIONAL AIRPORT</td>\n",
              "      <td>NaN</td>\n",
              "      <td>NaN</td>\n",
              "      <td>QATAR</td>\n",
              "      <td>ASIA</td>\n",
              "      <td>2020.0</td>\n",
              "      <td>1.0</td>\n",
              "      <td>1.0</td>\n",
              "      <td>NaN</td>\n",
              "      <td>False</td>\n",
              "    </tr>\n",
              "  </tbody>\n",
              "</table>\n",
              "</div>"
            ],
            "text/plain": [
              "           Cod_Empresa_Aerea Num_Voo  ...         Itinerario Atraso\n",
              "Data                                  ...                          \n",
              "2020-01-01               TAM    8010  ...  BUENOS AIRES-LIMA  False\n",
              "2020-01-01               QTR     774  ...                NaN  False\n",
              "\n",
              "[2 rows x 30 columns]"
            ]
          },
          "metadata": {
            "tags": []
          },
          "execution_count": 170
        }
      ]
    },
    {
      "cell_type": "code",
      "metadata": {
        "id": "CVc0l46Tlxo3",
        "colab": {
          "base_uri": "https://localhost:8080/",
          "height": 542
        },
        "outputId": "d6eab683-af64-4f48-86ba-8d0b31349d2d"
      },
      "source": [
        "ano_2020.Mes.value_counts().sort_index().iplot(kind=\"line\")"
      ],
      "execution_count": 171,
      "outputs": [
        {
          "output_type": "display_data",
          "data": {
            "text/html": [
              "<html>\n",
              "<head><meta charset=\"utf-8\" /></head>\n",
              "<body>\n",
              "    <div>\n",
              "            <script src=\"https://cdnjs.cloudflare.com/ajax/libs/mathjax/2.7.5/MathJax.js?config=TeX-AMS-MML_SVG\"></script><script type=\"text/javascript\">if (window.MathJax) {MathJax.Hub.Config({SVG: {font: \"STIX-Web\"}});}</script>\n",
              "                <script type=\"text/javascript\">window.PlotlyConfig = {MathJaxConfig: 'local'};</script>\n",
              "        <script src=\"https://cdn.plot.ly/plotly-latest.min.js\"></script>    \n",
              "            <div id=\"91e0fd11-640f-4ee5-93f8-8d519cd0a820\" class=\"plotly-graph-div\" style=\"height:525px; width:100%;\"></div>\n",
              "            <script type=\"text/javascript\">\n",
              "                \n",
              "                    window.PLOTLYENV=window.PLOTLYENV || {};\n",
              "                    window.PLOTLYENV.BASE_URL='https://plot.ly';\n",
              "                    \n",
              "                if (document.getElementById(\"91e0fd11-640f-4ee5-93f8-8d519cd0a820\")) {\n",
              "                    Plotly.newPlot(\n",
              "                        '91e0fd11-640f-4ee5-93f8-8d519cd0a820',\n",
              "                        [{\"line\": {\"color\": \"rgba(255, 153, 51, 1.0)\", \"dash\": \"solid\", \"shape\": \"linear\", \"width\": 1.3}, \"mode\": \"lines\", \"name\": \"Mes\", \"text\": \"\", \"type\": \"scatter\", \"x\": [1.0, 2.0, 3.0, 4.0, 5.0, 6.0, 7.0, 8.0, 9.0, 10.0, 11.0, 12.0], \"y\": [92372, 80887, 64443, 7612, 9482, 12630, 19604, 24544, 30423, 40460, 45393, 20]}],\n",
              "                        {\"legend\": {\"bgcolor\": \"#F5F6F9\", \"font\": {\"color\": \"#4D5663\"}}, \"paper_bgcolor\": \"#F5F6F9\", \"plot_bgcolor\": \"#F5F6F9\", \"template\": {\"data\": {\"bar\": [{\"error_x\": {\"color\": \"#2a3f5f\"}, \"error_y\": {\"color\": \"#2a3f5f\"}, \"marker\": {\"line\": {\"color\": \"#E5ECF6\", \"width\": 0.5}}, \"type\": \"bar\"}], \"barpolar\": [{\"marker\": {\"line\": {\"color\": \"#E5ECF6\", \"width\": 0.5}}, \"type\": \"barpolar\"}], \"carpet\": [{\"aaxis\": {\"endlinecolor\": \"#2a3f5f\", \"gridcolor\": \"white\", \"linecolor\": \"white\", \"minorgridcolor\": \"white\", \"startlinecolor\": \"#2a3f5f\"}, \"baxis\": {\"endlinecolor\": \"#2a3f5f\", \"gridcolor\": \"white\", \"linecolor\": \"white\", \"minorgridcolor\": \"white\", \"startlinecolor\": \"#2a3f5f\"}, \"type\": \"carpet\"}], \"choropleth\": [{\"colorbar\": {\"outlinewidth\": 0, \"ticks\": \"\"}, \"type\": \"choropleth\"}], \"contour\": [{\"colorbar\": {\"outlinewidth\": 0, \"ticks\": \"\"}, \"colorscale\": [[0.0, \"#0d0887\"], [0.1111111111111111, \"#46039f\"], [0.2222222222222222, \"#7201a8\"], [0.3333333333333333, \"#9c179e\"], [0.4444444444444444, \"#bd3786\"], [0.5555555555555556, \"#d8576b\"], [0.6666666666666666, \"#ed7953\"], [0.7777777777777778, \"#fb9f3a\"], [0.8888888888888888, \"#fdca26\"], [1.0, \"#f0f921\"]], \"type\": \"contour\"}], \"contourcarpet\": [{\"colorbar\": {\"outlinewidth\": 0, \"ticks\": \"\"}, \"type\": \"contourcarpet\"}], \"heatmap\": [{\"colorbar\": {\"outlinewidth\": 0, \"ticks\": \"\"}, \"colorscale\": [[0.0, \"#0d0887\"], [0.1111111111111111, \"#46039f\"], [0.2222222222222222, \"#7201a8\"], [0.3333333333333333, \"#9c179e\"], [0.4444444444444444, \"#bd3786\"], [0.5555555555555556, \"#d8576b\"], [0.6666666666666666, \"#ed7953\"], [0.7777777777777778, \"#fb9f3a\"], [0.8888888888888888, \"#fdca26\"], [1.0, \"#f0f921\"]], \"type\": \"heatmap\"}], \"heatmapgl\": [{\"colorbar\": {\"outlinewidth\": 0, \"ticks\": \"\"}, \"colorscale\": [[0.0, \"#0d0887\"], [0.1111111111111111, \"#46039f\"], [0.2222222222222222, \"#7201a8\"], [0.3333333333333333, \"#9c179e\"], [0.4444444444444444, \"#bd3786\"], [0.5555555555555556, \"#d8576b\"], [0.6666666666666666, \"#ed7953\"], [0.7777777777777778, \"#fb9f3a\"], [0.8888888888888888, \"#fdca26\"], [1.0, \"#f0f921\"]], \"type\": \"heatmapgl\"}], \"histogram\": [{\"marker\": {\"colorbar\": {\"outlinewidth\": 0, \"ticks\": \"\"}}, \"type\": \"histogram\"}], \"histogram2d\": [{\"colorbar\": {\"outlinewidth\": 0, \"ticks\": \"\"}, \"colorscale\": [[0.0, \"#0d0887\"], [0.1111111111111111, \"#46039f\"], [0.2222222222222222, \"#7201a8\"], [0.3333333333333333, \"#9c179e\"], [0.4444444444444444, \"#bd3786\"], [0.5555555555555556, \"#d8576b\"], [0.6666666666666666, \"#ed7953\"], [0.7777777777777778, \"#fb9f3a\"], [0.8888888888888888, \"#fdca26\"], [1.0, \"#f0f921\"]], \"type\": \"histogram2d\"}], \"histogram2dcontour\": [{\"colorbar\": {\"outlinewidth\": 0, \"ticks\": \"\"}, \"colorscale\": [[0.0, \"#0d0887\"], [0.1111111111111111, \"#46039f\"], [0.2222222222222222, \"#7201a8\"], [0.3333333333333333, \"#9c179e\"], [0.4444444444444444, \"#bd3786\"], [0.5555555555555556, \"#d8576b\"], [0.6666666666666666, \"#ed7953\"], [0.7777777777777778, \"#fb9f3a\"], [0.8888888888888888, \"#fdca26\"], [1.0, \"#f0f921\"]], \"type\": \"histogram2dcontour\"}], \"mesh3d\": [{\"colorbar\": {\"outlinewidth\": 0, \"ticks\": \"\"}, \"type\": \"mesh3d\"}], \"parcoords\": [{\"line\": {\"colorbar\": {\"outlinewidth\": 0, \"ticks\": \"\"}}, \"type\": \"parcoords\"}], \"pie\": [{\"automargin\": true, \"type\": \"pie\"}], \"scatter\": [{\"marker\": {\"colorbar\": {\"outlinewidth\": 0, \"ticks\": \"\"}}, \"type\": \"scatter\"}], \"scatter3d\": [{\"line\": {\"colorbar\": {\"outlinewidth\": 0, \"ticks\": \"\"}}, \"marker\": {\"colorbar\": {\"outlinewidth\": 0, \"ticks\": \"\"}}, \"type\": \"scatter3d\"}], \"scattercarpet\": [{\"marker\": {\"colorbar\": {\"outlinewidth\": 0, \"ticks\": \"\"}}, \"type\": \"scattercarpet\"}], \"scattergeo\": [{\"marker\": {\"colorbar\": {\"outlinewidth\": 0, \"ticks\": \"\"}}, \"type\": \"scattergeo\"}], \"scattergl\": [{\"marker\": {\"colorbar\": {\"outlinewidth\": 0, \"ticks\": \"\"}}, \"type\": \"scattergl\"}], \"scattermapbox\": [{\"marker\": {\"colorbar\": {\"outlinewidth\": 0, \"ticks\": \"\"}}, \"type\": \"scattermapbox\"}], \"scatterpolar\": [{\"marker\": {\"colorbar\": {\"outlinewidth\": 0, \"ticks\": \"\"}}, \"type\": \"scatterpolar\"}], \"scatterpolargl\": [{\"marker\": {\"colorbar\": {\"outlinewidth\": 0, \"ticks\": \"\"}}, \"type\": \"scatterpolargl\"}], \"scatterternary\": [{\"marker\": {\"colorbar\": {\"outlinewidth\": 0, \"ticks\": \"\"}}, \"type\": \"scatterternary\"}], \"surface\": [{\"colorbar\": {\"outlinewidth\": 0, \"ticks\": \"\"}, \"colorscale\": [[0.0, \"#0d0887\"], [0.1111111111111111, \"#46039f\"], [0.2222222222222222, \"#7201a8\"], [0.3333333333333333, \"#9c179e\"], [0.4444444444444444, \"#bd3786\"], [0.5555555555555556, \"#d8576b\"], [0.6666666666666666, \"#ed7953\"], [0.7777777777777778, \"#fb9f3a\"], [0.8888888888888888, \"#fdca26\"], [1.0, \"#f0f921\"]], \"type\": \"surface\"}], \"table\": [{\"cells\": {\"fill\": {\"color\": \"#EBF0F8\"}, \"line\": {\"color\": \"white\"}}, \"header\": {\"fill\": {\"color\": \"#C8D4E3\"}, \"line\": {\"color\": \"white\"}}, \"type\": \"table\"}]}, \"layout\": {\"annotationdefaults\": {\"arrowcolor\": \"#2a3f5f\", \"arrowhead\": 0, \"arrowwidth\": 1}, \"coloraxis\": {\"colorbar\": {\"outlinewidth\": 0, \"ticks\": \"\"}}, \"colorscale\": {\"diverging\": [[0, \"#8e0152\"], [0.1, \"#c51b7d\"], [0.2, \"#de77ae\"], [0.3, \"#f1b6da\"], [0.4, \"#fde0ef\"], [0.5, \"#f7f7f7\"], [0.6, \"#e6f5d0\"], [0.7, \"#b8e186\"], [0.8, \"#7fbc41\"], [0.9, \"#4d9221\"], [1, \"#276419\"]], \"sequential\": [[0.0, \"#0d0887\"], [0.1111111111111111, \"#46039f\"], [0.2222222222222222, \"#7201a8\"], [0.3333333333333333, \"#9c179e\"], [0.4444444444444444, \"#bd3786\"], [0.5555555555555556, \"#d8576b\"], [0.6666666666666666, \"#ed7953\"], [0.7777777777777778, \"#fb9f3a\"], [0.8888888888888888, \"#fdca26\"], [1.0, \"#f0f921\"]], \"sequentialminus\": [[0.0, \"#0d0887\"], [0.1111111111111111, \"#46039f\"], [0.2222222222222222, \"#7201a8\"], [0.3333333333333333, \"#9c179e\"], [0.4444444444444444, \"#bd3786\"], [0.5555555555555556, \"#d8576b\"], [0.6666666666666666, \"#ed7953\"], [0.7777777777777778, \"#fb9f3a\"], [0.8888888888888888, \"#fdca26\"], [1.0, \"#f0f921\"]]}, \"colorway\": [\"#636efa\", \"#EF553B\", \"#00cc96\", \"#ab63fa\", \"#FFA15A\", \"#19d3f3\", \"#FF6692\", \"#B6E880\", \"#FF97FF\", \"#FECB52\"], \"font\": {\"color\": \"#2a3f5f\"}, \"geo\": {\"bgcolor\": \"white\", \"lakecolor\": \"white\", \"landcolor\": \"#E5ECF6\", \"showlakes\": true, \"showland\": true, \"subunitcolor\": \"white\"}, \"hoverlabel\": {\"align\": \"left\"}, \"hovermode\": \"closest\", \"mapbox\": {\"style\": \"light\"}, \"paper_bgcolor\": \"white\", \"plot_bgcolor\": \"#E5ECF6\", \"polar\": {\"angularaxis\": {\"gridcolor\": \"white\", \"linecolor\": \"white\", \"ticks\": \"\"}, \"bgcolor\": \"#E5ECF6\", \"radialaxis\": {\"gridcolor\": \"white\", \"linecolor\": \"white\", \"ticks\": \"\"}}, \"scene\": {\"xaxis\": {\"backgroundcolor\": \"#E5ECF6\", \"gridcolor\": \"white\", \"gridwidth\": 2, \"linecolor\": \"white\", \"showbackground\": true, \"ticks\": \"\", \"zerolinecolor\": \"white\"}, \"yaxis\": {\"backgroundcolor\": \"#E5ECF6\", \"gridcolor\": \"white\", \"gridwidth\": 2, \"linecolor\": \"white\", \"showbackground\": true, \"ticks\": \"\", \"zerolinecolor\": \"white\"}, \"zaxis\": {\"backgroundcolor\": \"#E5ECF6\", \"gridcolor\": \"white\", \"gridwidth\": 2, \"linecolor\": \"white\", \"showbackground\": true, \"ticks\": \"\", \"zerolinecolor\": \"white\"}}, \"shapedefaults\": {\"line\": {\"color\": \"#2a3f5f\"}}, \"ternary\": {\"aaxis\": {\"gridcolor\": \"white\", \"linecolor\": \"white\", \"ticks\": \"\"}, \"baxis\": {\"gridcolor\": \"white\", \"linecolor\": \"white\", \"ticks\": \"\"}, \"bgcolor\": \"#E5ECF6\", \"caxis\": {\"gridcolor\": \"white\", \"linecolor\": \"white\", \"ticks\": \"\"}}, \"title\": {\"x\": 0.05}, \"xaxis\": {\"automargin\": true, \"gridcolor\": \"white\", \"linecolor\": \"white\", \"ticks\": \"\", \"title\": {\"standoff\": 15}, \"zerolinecolor\": \"white\", \"zerolinewidth\": 2}, \"yaxis\": {\"automargin\": true, \"gridcolor\": \"white\", \"linecolor\": \"white\", \"ticks\": \"\", \"title\": {\"standoff\": 15}, \"zerolinecolor\": \"white\", \"zerolinewidth\": 2}}}, \"title\": {\"font\": {\"color\": \"#4D5663\"}}, \"xaxis\": {\"gridcolor\": \"#E1E5ED\", \"showgrid\": true, \"tickfont\": {\"color\": \"#4D5663\"}, \"title\": {\"font\": {\"color\": \"#4D5663\"}, \"text\": \"\"}, \"zerolinecolor\": \"#E1E5ED\"}, \"yaxis\": {\"gridcolor\": \"#E1E5ED\", \"showgrid\": true, \"tickfont\": {\"color\": \"#4D5663\"}, \"title\": {\"font\": {\"color\": \"#4D5663\"}, \"text\": \"\"}, \"zerolinecolor\": \"#E1E5ED\"}},\n",
              "                        {\"showLink\": true, \"linkText\": \"Export to plot.ly\", \"plotlyServerURL\": \"https://plot.ly\", \"responsive\": true}\n",
              "                    ).then(function(){\n",
              "                            \n",
              "var gd = document.getElementById('91e0fd11-640f-4ee5-93f8-8d519cd0a820');\n",
              "var x = new MutationObserver(function (mutations, observer) {{\n",
              "        var display = window.getComputedStyle(gd).display;\n",
              "        if (!display || display === 'none') {{\n",
              "            console.log([gd, 'removed!']);\n",
              "            Plotly.purge(gd);\n",
              "            observer.disconnect();\n",
              "        }}\n",
              "}});\n",
              "\n",
              "// Listen for the removal of the full notebook cells\n",
              "var notebookContainer = gd.closest('#notebook-container');\n",
              "if (notebookContainer) {{\n",
              "    x.observe(notebookContainer, {childList: true});\n",
              "}}\n",
              "\n",
              "// Listen for the clearing of the current output cell\n",
              "var outputEl = gd.closest('.output');\n",
              "if (outputEl) {{\n",
              "    x.observe(outputEl, {childList: true});\n",
              "}}\n",
              "\n",
              "                        })\n",
              "                };\n",
              "                \n",
              "            </script>\n",
              "        </div>\n",
              "</body>\n",
              "</html>"
            ]
          },
          "metadata": {
            "tags": []
          }
        }
      ]
    },
    {
      "cell_type": "code",
      "metadata": {
        "id": "DwJSrFTQwLlp",
        "colab": {
          "base_uri": "https://localhost:8080/"
        },
        "outputId": "0c714c2f-867e-41ad-d07b-34dba0f17256"
      },
      "source": [
        "qtde_2020"
      ],
      "execution_count": 172,
      "outputs": [
        {
          "output_type": "execute_result",
          "data": {
            "text/plain": [
              "1.0     92372\n",
              "2.0     80887\n",
              "3.0     64443\n",
              "4.0      7612\n",
              "5.0      9482\n",
              "6.0     12630\n",
              "7.0     19604\n",
              "8.0     24544\n",
              "9.0     30423\n",
              "10.0    40460\n",
              "11.0    45393\n",
              "12.0       20\n",
              "Name: Mes, dtype: int64"
            ]
          },
          "metadata": {
            "tags": []
          },
          "execution_count": 172
        }
      ]
    },
    {
      "cell_type": "code",
      "metadata": {
        "id": "Jc9dqhPkmp9X",
        "colab": {
          "base_uri": "https://localhost:8080/",
          "height": 483
        },
        "outputId": "41553e66-a4dc-4e65-dc90-c234efe765f1"
      },
      "source": [
        "ax = sns.lineplot(x=mes, y=qtde_2018, color=\"red\", label=\"2018\")\n",
        "ax = sns.lineplot(x=mes, y=qtde_2019, color=\"blue\", label=\"2019\")\n",
        "ax = sns.lineplot(x=mes, y=qtde_2020, color=\"green\", label=\"2020\")\n",
        "plt.legend(title=\"Quantidade de voos\")\n",
        "\n",
        "plt.show()"
      ],
      "execution_count": 173,
      "outputs": [
        {
          "output_type": "display_data",
          "data": {
            "image/png": "[encoded data removed]",
            "text/plain": [
              "<Figure size 1080x576 with 1 Axes>"
            ]
          },
          "metadata": {
            "tags": [],
            "needs_background": "light"
          }
        }
      ]
    },
    {
      "cell_type": "code",
      "metadata": {
        "colab": {
          "base_uri": "https://localhost:8080/",
          "height": 602
        },
        "id": "15U0rbEVJRVm",
        "outputId": "a2f0f54a-d7fa-4e8e-e0be-a34238d39f9c"
      },
      "source": [
        "sns.countplot(ano_2018.Mes)"
      ],
      "execution_count": 178,
      "outputs": [
        {
          "output_type": "stream",
          "text": [
            "/usr/local/lib/python3.6/dist-packages/seaborn/_decorators.py:43: FutureWarning:\n",
            "\n",
            "Pass the following variable as a keyword arg: x. From version 0.12, the only valid positional argument will be `data`, and passing other arguments without an explicit keyword will result in an error or misinterpretation.\n",
            "\n"
          ],
          "name": "stderr"
        },
        {
          "output_type": "execute_result",
          "data": {
            "text/plain": [
              "<matplotlib.axes._subplots.AxesSubplot at 0x7f23dad0ddd8>"
            ]
          },
          "metadata": {
            "tags": []
          },
          "execution_count": 178
        },
        {
          "output_type": "display_data",
          "data": {
            "image/png": "[encoded data removed]",
            "text/plain": [
              "<Figure size 1080x576 with 1 Axes>"
            ]
          },
          "metadata": {
            "tags": [],
            "needs_background": "light"
          }
        }
      ]
    },
    {
      "cell_type": "code",
      "metadata": {
        "id": "gwmNSr0epRTc",
        "colab": {
          "base_uri": "https://localhost:8080/",
          "height": 602
        },
        "outputId": "77e5679b-7a6a-4479-aa27-7d165c0ffd64"
      },
      "source": [
        "sns.countplot(ano_2019.Mes)"
      ],
      "execution_count": 176,
      "outputs": [
        {
          "output_type": "stream",
          "text": [
            "/usr/local/lib/python3.6/dist-packages/seaborn/_decorators.py:43: FutureWarning:\n",
            "\n",
            "Pass the following variable as a keyword arg: x. From version 0.12, the only valid positional argument will be `data`, and passing other arguments without an explicit keyword will result in an error or misinterpretation.\n",
            "\n"
          ],
          "name": "stderr"
        },
        {
          "output_type": "execute_result",
          "data": {
            "text/plain": [
              "<matplotlib.axes._subplots.AxesSubplot at 0x7f23dae10470>"
            ]
          },
          "metadata": {
            "tags": []
          },
          "execution_count": 176
        },
        {
          "output_type": "display_data",
          "data": {
            "image/png": "[encoded data removed]",
            "text/plain": [
              "<Figure size 1080x576 with 1 Axes>"
            ]
          },
          "metadata": {
            "tags": [],
            "needs_background": "light"
          }
        }
      ]
    },
    {
      "cell_type": "code",
      "metadata": {
        "colab": {
          "base_uri": "https://localhost:8080/",
          "height": 632
        },
        "id": "via5RkNwI9MZ",
        "outputId": "388b3601-d453-4785-a6c0-5f262b66ddcd"
      },
      "source": [
        "sns.countplot(ano_2020.Mes)\r\n",
        "plt.xticks(rotation=45)"
      ],
      "execution_count": 183,
      "outputs": [
        {
          "output_type": "stream",
          "text": [
            "/usr/local/lib/python3.6/dist-packages/seaborn/_decorators.py:43: FutureWarning:\n",
            "\n",
            "Pass the following variable as a keyword arg: x. From version 0.12, the only valid positional argument will be `data`, and passing other arguments without an explicit keyword will result in an error or misinterpretation.\n",
            "\n"
          ],
          "name": "stderr"
        },
        {
          "output_type": "execute_result",
          "data": {
            "text/plain": [
              "(array([ 0,  1,  2,  3,  4,  5,  6,  7,  8,  9, 10, 11]),\n",
              " <a list of 12 Text major ticklabel objects>)"
            ]
          },
          "metadata": {
            "tags": []
          },
          "execution_count": 183
        },
        {
          "output_type": "display_data",
          "data": {
            "image/png": "[encoded data removed]",
            "text/plain": [
              "<Figure size 1080x576 with 1 Axes>"
            ]
          },
          "metadata": {
            "tags": [],
            "needs_background": "light"
          }
        }
      ]
    },
    {
      "cell_type": "code",
      "metadata": {
        "id": "y7Tk2ddfJN7Q"
      },
      "source": [
        ""
      ],
      "execution_count": null,
      "outputs": []
    }
  ]
}