{
  "nbformat": 4,
  "nbformat_minor": 0,
  "metadata": {
    "colab": {
      "name": "Análise Censo Ensino Superior.ipynb",
      "provenance": [],
      "collapsed_sections": [],
      "mount_file_id": "1ReI8rkBgifxEBnVMkgB4t8afagQlv9QB",
      "authorship_tag": "ABX9TyMt+xTFn+sZtAxXXgtd5gGE",
      "include_colab_link": true
    },
    "kernelspec": {
      "display_name": "Python 3",
      "name": "python3"
    }
  },
  "cells": [
    {
      "cell_type": "markdown",
      "metadata": {
        "id": "view-in-github",
        "colab_type": "text"
      },
      "source": [
        "<a href=\"https://colab.research.google.com/github/allanbraquiel/Data_Science_Projects/blob/master/An%C3%A1lise_Censo_Ensino_Superior.ipynb\" target=\"_parent\"><img src=\"https://colab.research.google.com/assets/colab-badge.svg\" alt=\"Open In Colab\"/></a>"
      ]
    },
    {
      "cell_type": "markdown",
      "metadata": {
        "id": "LC012mT7bK7U"
      },
      "source": [
        "##Projeto de análise do censo so ensino superior de 2009 a 2019"
      ]
    },
    {
      "cell_type": "markdown",
      "metadata": {
        "id": "FUlNKMqLHwmI"
      },
      "source": [
        "# Dicionário dos dados"
      ]
    },
    {
      "cell_type": "markdown",
      "metadata": {
        "id": "6KRGEoNNcDeg"
      },
      "source": [
        "Dados coletados na base de dados no INEP. Para acessar os dados clique no link abaixo:\n",
        "\n",
        "https://www.gov.br/inep/pt-br/areas-de-atuacao/pesquisas-estatisticas-e-indicadores/censo-da-educacao-superior/resultados?_authenticator=73b6b0e03f10cadf5ec8ab8e09e6be4f931e571f\n",
        "\n",
        "\n",
        "\n",
        "*   NU_ANO_CENSO -  Ano de Referência do Censo Superior\n",
        "\n",
        "* TP_CATEGORIA_ADMINISTRATIVA - Tipo da Categoria Administrativa da IES\n",
        "\n",
        ">1. Pública Federal\n",
        ">2. Pública Estadual\n",
        ">3. Pública Municipal\n",
        ">4. Privada com fins lucrativos\n",
        ">5. Privada sem fins lucrativos\n",
        ">6. Privada - Particular em sentido estrito\n",
        ">7. Especial\n",
        ">8. Privada comunitária\n",
        ">9. Privada confessional\n",
        "\n",
        "*   CO_CURSO - Código único de identificação do curso gerado pelo E-MEC\n",
        "\n",
        "*   TP_TURNO - Tipo do turno do curso ao qual o aluno está vinculado\n",
        "\n",
        "> 1. Matutino\n",
        "> 2. Vespertino\n",
        "> 3. Noturno\n",
        "> 4. Integral\n",
        "\n",
        "> (.) Não aplicável (EAD)\n",
        "\n",
        "*   TP_GRAU_ACADEMICO - Tipo do grau acadêmico conferido ao diplomado pelo curso\n",
        "\n",
        "\n",
        "> 1. Bacharelado\n",
        "> 2. Licenciatura\n",
        "> 3. Tecnológico\n",
        "> 4. Bacharelado e Licenciatura\n",
        "\n",
        "> (.) Não aplicável (cursos com nivel acadêmico igual a sequencial de formação específica ou  cursos com área básica de curso)\n",
        "\n",
        "*   TP_MODALIDADE_ENSINO - Tipo da modalidade de ensino do curso\n",
        "\n",
        "\n",
        "> 1. Presencial\n",
        "> 2. Curso a distância\n",
        "\n",
        "\n",
        "*   TP_NIVEL_ACADEMICO - Tipo do nível acadêmico do curso\n",
        "\n",
        "\n",
        "> 1. Graduação\n",
        "\n",
        "> 2. Seqüencial de Formação Específica\n",
        "\n",
        "\n",
        "*   TP_COR_RACA - Tipo da cor/raça do aluno\n",
        "\n",
        "> 0. Aluno não quis declarar cor/raça\n",
        "> 1. Branca\n",
        "> 3. Preta\n",
        "> 3. Parda\n",
        "> 4. Amarela\n",
        "> 5. Indígena\n",
        "> 9. Não dispõe da informação (Não resposta)\n",
        "\n",
        "*   TP_SEXO - Informa o sexo do aluno\n",
        "\n",
        "> 0. Não Informado\n",
        "> 1. Feminino\n",
        "> 2. Masculino  \n",
        "\n",
        "*   NU_IDADE - Idade que o aluno completa no ano de referência do Censo\n",
        "\n",
        "*   TP_NACIONALIDADE - Tipo da nacionalidade do aluno\n",
        "\n",
        "> 1. Brasileira\n",
        "> 2. Brasileira - nascido no exterior ou naturalizado\n",
        "> 3. Estrangeira   \n",
        "\n",
        "*   CO_PAIS_ORIGEM - Código do país de nascimento ou de naturalização do aluno estrangeiro\n",
        "\n",
        "*   CO_UF_NASCIMENTO - Código do IBGE da Unidade da Federação de nascimento do aluno\n",
        "\n",
        "* CO_MUNICIPIO_NASCIMENTO - Código do IBGE do município de nascimento do aluno\n",
        "\n",
        "*   IN_DEFICIENCIA - nforma se o aluno é uma pessoa com deficiência auditiva\n",
        "\n",
        "> 0. Não\n",
        "> 1. Sim \n",
        "\n",
        "> (.) Aluno não possui qualquer tipo de deficiência\n",
        "\n",
        "*   TP_SITUACAO - Tipo de situação de vínculo do aluno no curso\n",
        "\n",
        "> 2. Cursando\n",
        "> 3. Matrícula trancada\n",
        "> 4. Desvinculado do curso\n",
        "> 5. Transferido para outro curso da mesma IES\n",
        "> 6. Formado\n",
        "> 7. Falecido   \n",
        "\n",
        "*   IN_INGRESSO_VESTIBULAR - Informa se o aluno ingressou no curso por vestibular. \n",
        "\n",
        "> 0. Não\n",
        "> 1. Sim\n",
        "\n",
        "*   IN_INGRESSO_ENEM - Informa se o aluno ingressou no curso pelo Enem. \n",
        "\n",
        "> 0. Não\n",
        "> 1. Sim\n",
        "\n",
        "*   IN_RESERVA_ETNICO - Informa se o aluno ingressou por meio de programa de reserva de vagas de cunho etnico\n",
        "\n",
        "> 0. Não (aluno possui outro tipo de reserva de vagas)\n",
        "> 1. Sim (aluno não possui qualquer tipo de reserva de vagas)\n",
        "\n",
        "*   N_RESERVA_ENSINO_PUBLICO -  Informa se o aluno ingressou por meio de programa de reserva de vagas para egressos da escola pública\n",
        "\n",
        "> 0. Não (aluno possui outro tipo de reserva de vagas)\n",
        "> 1. Sim (aluno não possui qualquer tipo de reserva de vagas)\n",
        "\n",
        "*   IN_RESERVA_RENDA_FAMILIAR - Informa se o aluno ingressou por meio de programa de reserva de vagas de cunho social/renda familiar\n",
        "\n",
        "> 0. Não (aluno possui outro tipo de reserva de vagas)\n",
        "> 1. Sim (aluno não possui qualquer tipo de reserva de vagas)\n",
        "\n",
        "*   IN_FINANCIAMENTO_ESTUDANTIL - Informa se o aluno utiliza financiamento estudantil\n",
        "\n",
        "> 0. Não\n",
        "> 1. Sim\n",
        "\n",
        "*   IN_FIN_REEMB_FIES - Informa se o aluno utiliza o Fundo de Financiamento Estudantil (Fies) como forma de financimanto estudantil reembolsável\n",
        "\n",
        "> 0. Não (Aluno possui outro tipo de financiamento)\n",
        "> 1. Sim (.) Aluno não possui qualquer tipo de financiamento\n",
        "\n",
        "*   IN_FIN_NAOREEMB_PROUNI_INTEGR - Informa se o aluno é bolsista integral do Programa Universidade para Todos (Prouni), tipo de financiamento estudantil não reembolsável\n",
        "\n",
        "> 0. Não (Aluno possui outro tipo de financiamento)\n",
        "> 1. Sim (.) Aluno não possui qualquer tipo de financiamento\n",
        "\n",
        "*   IN_FIN_NAOREEMB_PROUNI_PARCIAL - Informa se o aluno é bolsista parcial do Programa Universidade para Todos (Prouni), tipo de financiamento estudantil não reembolsável\n",
        "\n",
        "> 0. Não (Aluno possui outro tipo de financiamento)\n",
        "> 1. Sim (.) Aluno não possui qualquer tipo de financiamento\n",
        "\n",
        "*   IN_BOLSA_ESTAGIO - Informa se o aluno recebe bolsa/remuneraçãopor participar de atividade extracurricular de extensão. \n",
        "\n",
        "> 0. Não (Aluno faz atividade extracurricular de estágio, mas não recebe bolsa)\n",
        "> 1. Sim (.) Aluno não faz atividade extracurricular de estágio\n",
        "\n",
        "\n",
        "* NU_ANO_INGRESSO - Ano de ingresso do aluno curso\n",
        "\n",
        "\n",
        "\n",
        "\n",
        " \n",
        "  \n",
        " \n",
        "  \n",
        "  \n",
        "  \n",
        "  \n",
        " \n",
        " \n"
      ]
    },
    {
      "cell_type": "code",
      "metadata": {
        "id": "MwQib0CpHfWC"
      },
      "source": [
        "import pandas as pd\n",
        "import numpy as np\n",
        "import zipfile\n",
        "import seaborn as sns\n",
        "import matplotlib.pyplot as plt\n",
        "%matplotlib inline\n",
        "\n",
        "import pylab\n",
        "pylab.rcParams['figure.figsize'] = (15.0, 10.0)"
      ],
      "execution_count": 1,
      "outputs": []
    },
    {
      "cell_type": "markdown",
      "metadata": {
        "id": "M8Xwk4HGH30_"
      },
      "source": [
        "# Carregando os dados"
      ]
    },
    {
      "cell_type": "markdown",
      "metadata": {
        "id": "EudHHuS9XPWS"
      },
      "source": [
        "Listando os arquivos que estão dentro do arquivo compactado"
      ]
    },
    {
      "cell_type": "code",
      "metadata": {
        "colab": {
          "base_uri": "https://localhost:8080/"
        },
        "id": "YDcpCrIBIDgX",
        "outputId": "9ef78988-86ce-45a1-a217-58df4d728d2d"
      },
      "source": [
        "with zipfile.ZipFile(\"/content/drive/MyDrive/Colab_Notebooks/Projeto Sigalei/microdados_educacao_superior_2019.zip\") as z:\n",
        "  print(*z.namelist(), sep=\"\\n\")"
      ],
      "execution_count": 2,
      "outputs": [
        {
          "output_type": "stream",
          "text": [
            "Microdados_Educaç╞o_Superior_2019/\n",
            "Microdados_Educaç╞o_Superior_2019/anexos/\n",
            "Microdados_Educaç╞o_Superior_2019/anexos/ANEXO I - Dicionário de Variáveis e Tabelas Auxiliares/\n",
            "Microdados_Educaç╞o_Superior_2019/anexos/ANEXO I - Dicionário de Variáveis e Tabelas Auxiliares/Código_do_País_de_Nascimento_ou_Naturalizaç╞o.xlsx\n",
            "Microdados_Educaç╞o_Superior_2019/anexos/ANEXO I - Dicionário de Variáveis e Tabelas Auxiliares/Dicionário de Variáveis.xls\n",
            "Microdados_Educaç╞o_Superior_2019/anexos/ANEXO II - Questionários do Censo da Educaç╞o Superior/\n",
            "Microdados_Educaç╞o_Superior_2019/anexos/ANEXO II - Questionários do Censo da Educaç╞o Superior/ANEXO II - MαDULO ALUNO 2019.pdf\n",
            "Microdados_Educaç╞o_Superior_2019/anexos/ANEXO II - Questionários do Censo da Educaç╞o Superior/ANEXO II - MαDULO CURSO 2019.pdf\n",
            "Microdados_Educaç╞o_Superior_2019/anexos/ANEXO II - Questionários do Censo da Educaç╞o Superior/ANEXO II - MαDULO DOCENTE 2019.pdf\n",
            "Microdados_Educaç╞o_Superior_2019/anexos/ANEXO II - Questionários do Censo da Educaç╞o Superior/ANEXO II - MαDULO IES 2019.pdf\n",
            "Microdados_Educaç╞o_Superior_2019/dados/\n",
            "Microdados_Educaç╞o_Superior_2019/dados/MD5_microdados_ed_superior_2019.txt\n",
            "Microdados_Educaç╞o_Superior_2019/dados/SUP_ALUNO_2019.CSV\n",
            "Microdados_Educaç╞o_Superior_2019/dados/SUP_CURSO_2019.CSV\n",
            "Microdados_Educaç╞o_Superior_2019/dados/SUP_DOCENTE_2019.CSV\n",
            "Microdados_Educaç╞o_Superior_2019/dados/SUP_IES_2019.CSV\n",
            "Microdados_Educaç╞o_Superior_2019/dados/SUP_LOCAL_OFERTA_2019.CSV\n",
            "Microdados_Educaç╞o_Superior_2019/dados/TB_AUX_CINE_BRASIL_2019.CSV\n",
            "Microdados_Educaç╞o_Superior_2019/filtros/\n",
            "Microdados_Educaç╞o_Superior_2019/filtros/Filtros Censo Ed Superior 2019.pdf\n",
            "Microdados_Educaç╞o_Superior_2019/leia-me/\n",
            "Microdados_Educaç╞o_Superior_2019/leia-me/Leia_me Superior_2019.pdf\n"
          ],
          "name": "stdout"
        }
      ]
    },
    {
      "cell_type": "markdown",
      "metadata": {
        "id": "U2QBHzGvXg1D"
      },
      "source": [
        "Carregando o dataset somente com as colunas para verificar quais colunas serão utilizadas na análise"
      ]
    },
    {
      "cell_type": "code",
      "metadata": {
        "id": "ZLC44x2aIzQ0"
      },
      "source": [
        "with zipfile.ZipFile(\"/content/drive/MyDrive/Colab_Notebooks/Projeto Sigalei/microdados_educacao_superior_2019.zip\") as z:\n",
        "  with z.open(\"Microdados_Educaç╞o_Superior_2019/dados/SUP_ALUNO_2019.CSV\") as f:\n",
        "    df = pd.read_csv(f, sep=\"|\", nrows=0)"
      ],
      "execution_count": 3,
      "outputs": []
    },
    {
      "cell_type": "code",
      "metadata": {
        "colab": {
          "base_uri": "https://localhost:8080/"
        },
        "id": "FFnLDS2BKXs7",
        "outputId": "02be9b21-7fe9-4b51-e788-1a61414fac5f"
      },
      "source": [
        "df.columns.values"
      ],
      "execution_count": 4,
      "outputs": [
        {
          "output_type": "execute_result",
          "data": {
            "text/plain": [
              "array(['NU_ANO_CENSO', 'CO_IES', 'TP_CATEGORIA_ADMINISTRATIVA',\n",
              "       'TP_ORGANIZACAO_ACADEMICA', 'CO_CURSO', 'CO_CURSO_POLO',\n",
              "       'TP_TURNO', 'TP_GRAU_ACADEMICO', 'TP_MODALIDADE_ENSINO',\n",
              "       'TP_NIVEL_ACADEMICO', 'CO_CINE_ROTULO', 'ID_ALUNO',\n",
              "       'CO_ALUNO_CURSO', 'CO_ALUNO_CURSO_ORIGEM', 'TP_COR_RACA',\n",
              "       'TP_SEXO', 'NU_ANO_NASCIMENTO', 'NU_MES_NASCIMENTO',\n",
              "       'NU_DIA_NASCIMENTO', 'NU_IDADE', 'TP_NACIONALIDADE',\n",
              "       'CO_PAIS_ORIGEM', 'CO_UF_NASCIMENTO', 'CO_MUNICIPIO_NASCIMENTO',\n",
              "       'IN_DEFICIENCIA', 'IN_DEFICIENCIA_AUDITIVA',\n",
              "       'IN_DEFICIENCIA_FISICA', 'IN_DEFICIENCIA_INTELECTUAL',\n",
              "       'IN_DEFICIENCIA_MULTIPLA', 'IN_DEFICIENCIA_SURDEZ',\n",
              "       'IN_DEFICIENCIA_SURDOCEGUEIRA', 'IN_DEFICIENCIA_BAIXA_VISAO',\n",
              "       'IN_DEFICIENCIA_CEGUEIRA', 'IN_DEFICIENCIA_SUPERDOTACAO',\n",
              "       'IN_TGD_AUTISMO', 'IN_TGD_SINDROME_ASPERGER',\n",
              "       'IN_TGD_SINDROME_RETT', 'IN_TGD_TRANSTOR_DESINTEGRATIVO',\n",
              "       'TP_SITUACAO', 'QT_CARGA_HORARIA_TOTAL', 'QT_CARGA_HORARIA_INTEG',\n",
              "       'DT_INGRESSO_CURSO', 'IN_INGRESSO_VESTIBULAR', 'IN_INGRESSO_ENEM',\n",
              "       'IN_INGRESSO_AVALIACAO_SERIADA', 'IN_INGRESSO_SELECAO_SIMPLIFICA',\n",
              "       'IN_INGRESSO_OUTRO_TIPO_SELECAO', 'IN_INGRESSO_VAGA_REMANESC',\n",
              "       'IN_INGRESSO_VAGA_PROG_ESPECIAL', 'IN_INGRESSO_TRANSF_EXOFFICIO',\n",
              "       'IN_INGRESSO_DECISAO_JUDICIAL', 'IN_INGRESSO_CONVENIO_PECG',\n",
              "       'IN_INGRESSO_EGRESSO', 'IN_INGRESSO_OUTRA_FORMA',\n",
              "       'IN_RESERVA_VAGAS', 'IN_RESERVA_ETNICO', 'IN_RESERVA_DEFICIENCIA',\n",
              "       'IN_RESERVA_ENSINO_PUBLICO', 'IN_RESERVA_RENDA_FAMILIAR',\n",
              "       'IN_RESERVA_OUTRA', 'IN_FINANCIAMENTO_ESTUDANTIL',\n",
              "       'IN_FIN_REEMB_FIES', 'IN_FIN_REEMB_ESTADUAL',\n",
              "       'IN_FIN_REEMB_MUNICIPAL', 'IN_FIN_REEMB_PROG_IES',\n",
              "       'IN_FIN_REEMB_ENT_EXTERNA', 'IN_FIN_REEMB_OUTRA',\n",
              "       'IN_FIN_NAOREEMB_PROUNI_INTEGR', 'IN_FIN_NAOREEMB_PROUNI_PARCIAL',\n",
              "       'IN_FIN_NAOREEMB_ESTADUAL', 'IN_FIN_NAOREEMB_MUNICIPAL',\n",
              "       'IN_FIN_NAOREEMB_PROG_IES', 'IN_FIN_NAOREEMB_ENT_EXTERNA',\n",
              "       'IN_FIN_NAOREEMB_OUTRA', 'IN_APOIO_SOCIAL', 'IN_APOIO_ALIMENTACAO',\n",
              "       'IN_APOIO_BOLSA_PERMANENCIA', 'IN_APOIO_BOLSA_TRABALHO',\n",
              "       'IN_APOIO_MATERIAL_DIDATICO', 'IN_APOIO_MORADIA',\n",
              "       'IN_APOIO_TRANSPORTE', 'IN_ATIVIDADE_EXTRACURRICULAR',\n",
              "       'IN_COMPLEMENTAR_ESTAGIO', 'IN_COMPLEMENTAR_EXTENSAO',\n",
              "       'IN_COMPLEMENTAR_MONITORIA', 'IN_COMPLEMENTAR_PESQUISA',\n",
              "       'IN_BOLSA_ESTAGIO', 'IN_BOLSA_EXTENSAO', 'IN_BOLSA_MONITORIA',\n",
              "       'IN_BOLSA_PESQUISA', 'TP_ESCOLA_CONCLUSAO_ENS_MEDIO',\n",
              "       'IN_ALUNO_PARFOR', 'TP_SEMESTRE_CONCLUSAO',\n",
              "       'TP_SEMESTRE_REFERENCIA', 'IN_MOBILIDADE_ACADEMICA',\n",
              "       'TP_MOBILIDADE_ACADEMICA', 'TP_MOBILIDADE_ACADEMICA_INTERN',\n",
              "       'CO_IES_DESTINO', 'CO_PAIS_DESTINO', 'IN_MATRICULA',\n",
              "       'IN_CONCLUINTE', 'IN_INGRESSO_TOTAL', 'IN_INGRESSO_VAGA_NOVA',\n",
              "       'IN_INGRESSO_PROCESSO_SELETIVO', 'NU_ANO_INGRESSO'], dtype=object)"
            ]
          },
          "metadata": {
            "tags": []
          },
          "execution_count": 4
        }
      ]
    },
    {
      "cell_type": "markdown",
      "metadata": {
        "id": "Uo2aFt6sYg7u"
      },
      "source": [
        "Selecionando as colunas que serão analisadas"
      ]
    },
    {
      "cell_type": "code",
      "metadata": {
        "id": "3pjfBm4iLR69"
      },
      "source": [
        "colunas = ['NU_ANO_CENSO', 'TP_CATEGORIA_ADMINISTRATIVA', 'CO_CURSO', 'TP_TURNO', 'TP_GRAU_ACADEMICO', 'TP_MODALIDADE_ENSINO', 'TP_NIVEL_ACADEMICO', 'TP_COR_RACA', 'TP_SEXO', 'NU_IDADE', 'TP_NACIONALIDADE', \n",
        "           'CO_PAIS_ORIGEM', 'CO_UF_NASCIMENTO', 'TP_SITUACAO', 'IN_INGRESSO_VESTIBULAR', 'IN_INGRESSO_ENEM', 'IN_RESERVA_ETNICO', \n",
        "           'IN_RESERVA_ENSINO_PUBLICO', 'IN_RESERVA_RENDA_FAMILIAR', 'IN_FINANCIAMENTO_ESTUDANTIL', 'IN_FIN_REEMB_FIES', 'IN_FIN_NAOREEMB_PROUNI_INTEGR', \n",
        "           'IN_FIN_NAOREEMB_PROUNI_PARCIAL', 'IN_BOLSA_ESTAGIO', 'NU_ANO_INGRESSO']"
      ],
      "execution_count": 5,
      "outputs": []
    },
    {
      "cell_type": "markdown",
      "metadata": {
        "id": "FWj94RvMa_lY"
      },
      "source": [
        "Carregando os dados de 2019"
      ]
    },
    {
      "cell_type": "code",
      "metadata": {
        "id": "_jQyCA3JKuJJ"
      },
      "source": [
        "with zipfile.ZipFile(\"/content/drive/MyDrive/Colab_Notebooks/Projeto Sigalei/microdados_educacao_superior_2019.zip\") as z:\n",
        "  with z.open(\"Microdados_Educaç╞o_Superior_2019/dados/SUP_ALUNO_2019.CSV\") as f:\n",
        "    df_2019 = pd.read_csv(f, sep=\"|\", usecols=colunas)"
      ],
      "execution_count": 6,
      "outputs": []
    },
    {
      "cell_type": "code",
      "metadata": {
        "colab": {
          "base_uri": "https://localhost:8080/",
          "height": 217
        },
        "id": "XgS6c8Rxbhoc",
        "outputId": "6343cbd0-0d85-4c16-bfc5-04c53bf49a9c"
      },
      "source": [
        "df_2019.head()"
      ],
      "execution_count": 7,
      "outputs": [
        {
          "output_type": "execute_result",
          "data": {
            "text/html": [
              "<div>\n",
              "<style scoped>\n",
              "    .dataframe tbody tr th:only-of-type {\n",
              "        vertical-align: middle;\n",
              "    }\n",
              "\n",
              "    .dataframe tbody tr th {\n",
              "        vertical-align: top;\n",
              "    }\n",
              "\n",
              "    .dataframe thead th {\n",
              "        text-align: right;\n",
              "    }\n",
              "</style>\n",
              "<table border=\"1\" class=\"dataframe\">\n",
              "  <thead>\n",
              "    <tr style=\"text-align: right;\">\n",
              "      <th></th>\n",
              "      <th>NU_ANO_CENSO</th>\n",
              "      <th>TP_CATEGORIA_ADMINISTRATIVA</th>\n",
              "      <th>CO_CURSO</th>\n",
              "      <th>TP_TURNO</th>\n",
              "      <th>TP_GRAU_ACADEMICO</th>\n",
              "      <th>TP_MODALIDADE_ENSINO</th>\n",
              "      <th>TP_NIVEL_ACADEMICO</th>\n",
              "      <th>TP_COR_RACA</th>\n",
              "      <th>TP_SEXO</th>\n",
              "      <th>NU_IDADE</th>\n",
              "      <th>TP_NACIONALIDADE</th>\n",
              "      <th>CO_PAIS_ORIGEM</th>\n",
              "      <th>CO_UF_NASCIMENTO</th>\n",
              "      <th>TP_SITUACAO</th>\n",
              "      <th>IN_INGRESSO_VESTIBULAR</th>\n",
              "      <th>IN_INGRESSO_ENEM</th>\n",
              "      <th>IN_RESERVA_ETNICO</th>\n",
              "      <th>IN_RESERVA_ENSINO_PUBLICO</th>\n",
              "      <th>IN_RESERVA_RENDA_FAMILIAR</th>\n",
              "      <th>IN_FINANCIAMENTO_ESTUDANTIL</th>\n",
              "      <th>IN_FIN_REEMB_FIES</th>\n",
              "      <th>IN_FIN_NAOREEMB_PROUNI_INTEGR</th>\n",
              "      <th>IN_FIN_NAOREEMB_PROUNI_PARCIAL</th>\n",
              "      <th>IN_BOLSA_ESTAGIO</th>\n",
              "      <th>NU_ANO_INGRESSO</th>\n",
              "    </tr>\n",
              "  </thead>\n",
              "  <tbody>\n",
              "    <tr>\n",
              "      <th>0</th>\n",
              "      <td>2019</td>\n",
              "      <td>1</td>\n",
              "      <td>1</td>\n",
              "      <td>3.0</td>\n",
              "      <td>1.0</td>\n",
              "      <td>1</td>\n",
              "      <td>1</td>\n",
              "      <td>2</td>\n",
              "      <td>1</td>\n",
              "      <td>27</td>\n",
              "      <td>1</td>\n",
              "      <td>76</td>\n",
              "      <td>NaN</td>\n",
              "      <td>2</td>\n",
              "      <td>0</td>\n",
              "      <td>0</td>\n",
              "      <td>NaN</td>\n",
              "      <td>NaN</td>\n",
              "      <td>NaN</td>\n",
              "      <td>NaN</td>\n",
              "      <td>NaN</td>\n",
              "      <td>NaN</td>\n",
              "      <td>NaN</td>\n",
              "      <td>NaN</td>\n",
              "      <td>2017</td>\n",
              "    </tr>\n",
              "    <tr>\n",
              "      <th>1</th>\n",
              "      <td>2019</td>\n",
              "      <td>1</td>\n",
              "      <td>1</td>\n",
              "      <td>3.0</td>\n",
              "      <td>1.0</td>\n",
              "      <td>1</td>\n",
              "      <td>1</td>\n",
              "      <td>3</td>\n",
              "      <td>2</td>\n",
              "      <td>32</td>\n",
              "      <td>1</td>\n",
              "      <td>76</td>\n",
              "      <td>NaN</td>\n",
              "      <td>3</td>\n",
              "      <td>0</td>\n",
              "      <td>1</td>\n",
              "      <td>1.0</td>\n",
              "      <td>1.0</td>\n",
              "      <td>0.0</td>\n",
              "      <td>NaN</td>\n",
              "      <td>NaN</td>\n",
              "      <td>NaN</td>\n",
              "      <td>NaN</td>\n",
              "      <td>NaN</td>\n",
              "      <td>2016</td>\n",
              "    </tr>\n",
              "    <tr>\n",
              "      <th>2</th>\n",
              "      <td>2019</td>\n",
              "      <td>1</td>\n",
              "      <td>1</td>\n",
              "      <td>3.0</td>\n",
              "      <td>1.0</td>\n",
              "      <td>1</td>\n",
              "      <td>1</td>\n",
              "      <td>3</td>\n",
              "      <td>2</td>\n",
              "      <td>31</td>\n",
              "      <td>1</td>\n",
              "      <td>76</td>\n",
              "      <td>NaN</td>\n",
              "      <td>2</td>\n",
              "      <td>0</td>\n",
              "      <td>1</td>\n",
              "      <td>0.0</td>\n",
              "      <td>1.0</td>\n",
              "      <td>0.0</td>\n",
              "      <td>NaN</td>\n",
              "      <td>NaN</td>\n",
              "      <td>NaN</td>\n",
              "      <td>NaN</td>\n",
              "      <td>NaN</td>\n",
              "      <td>2012</td>\n",
              "    </tr>\n",
              "    <tr>\n",
              "      <th>3</th>\n",
              "      <td>2019</td>\n",
              "      <td>1</td>\n",
              "      <td>1</td>\n",
              "      <td>3.0</td>\n",
              "      <td>1.0</td>\n",
              "      <td>1</td>\n",
              "      <td>1</td>\n",
              "      <td>2</td>\n",
              "      <td>1</td>\n",
              "      <td>31</td>\n",
              "      <td>1</td>\n",
              "      <td>76</td>\n",
              "      <td>NaN</td>\n",
              "      <td>4</td>\n",
              "      <td>0</td>\n",
              "      <td>1</td>\n",
              "      <td>1.0</td>\n",
              "      <td>1.0</td>\n",
              "      <td>0.0</td>\n",
              "      <td>NaN</td>\n",
              "      <td>NaN</td>\n",
              "      <td>NaN</td>\n",
              "      <td>NaN</td>\n",
              "      <td>NaN</td>\n",
              "      <td>2015</td>\n",
              "    </tr>\n",
              "    <tr>\n",
              "      <th>4</th>\n",
              "      <td>2019</td>\n",
              "      <td>1</td>\n",
              "      <td>1</td>\n",
              "      <td>3.0</td>\n",
              "      <td>1.0</td>\n",
              "      <td>1</td>\n",
              "      <td>1</td>\n",
              "      <td>3</td>\n",
              "      <td>2</td>\n",
              "      <td>42</td>\n",
              "      <td>1</td>\n",
              "      <td>76</td>\n",
              "      <td>NaN</td>\n",
              "      <td>6</td>\n",
              "      <td>0</td>\n",
              "      <td>1</td>\n",
              "      <td>1.0</td>\n",
              "      <td>1.0</td>\n",
              "      <td>0.0</td>\n",
              "      <td>NaN</td>\n",
              "      <td>NaN</td>\n",
              "      <td>NaN</td>\n",
              "      <td>NaN</td>\n",
              "      <td>NaN</td>\n",
              "      <td>2013</td>\n",
              "    </tr>\n",
              "  </tbody>\n",
              "</table>\n",
              "</div>"
            ],
            "text/plain": [
              "   NU_ANO_CENSO  TP_CATEGORIA_ADMINISTRATIVA  ...  IN_BOLSA_ESTAGIO  NU_ANO_INGRESSO\n",
              "0          2019                            1  ...               NaN             2017\n",
              "1          2019                            1  ...               NaN             2016\n",
              "2          2019                            1  ...               NaN             2012\n",
              "3          2019                            1  ...               NaN             2015\n",
              "4          2019                            1  ...               NaN             2013\n",
              "\n",
              "[5 rows x 25 columns]"
            ]
          },
          "metadata": {
            "tags": []
          },
          "execution_count": 7
        }
      ]
    },
    {
      "cell_type": "code",
      "metadata": {
        "colab": {
          "base_uri": "https://localhost:8080/"
        },
        "id": "iCAtIKbZZJlr",
        "outputId": "8d331487-d24f-4d8e-e6d6-e6ac7b3a782a"
      },
      "source": [
        "with zipfile.ZipFile(\"/content/drive/MyDrive/Colab_Notebooks/Projeto Sigalei/microdados_educacao_superior_2018.zip\") as z:\n",
        "  print(*z.namelist(), sep=\"\\n\")"
      ],
      "execution_count": 8,
      "outputs": [
        {
          "output_type": "stream",
          "text": [
            "microdados_ed_superior_2018/\n",
            "microdados_ed_superior_2018/anexos/\n",
            "microdados_ed_superior_2018/anexos/ANEXO I - Dicionário de Variáveis e Tabelas Auxiliares/\n",
            "microdados_ed_superior_2018/anexos/ANEXO I - Dicionário de Variáveis e Tabelas Auxiliares/Código_do_País_de_Nascimento_ou_Naturalizaç╞o.xlsx\n",
            "microdados_ed_superior_2018/anexos/ANEXO I - Dicionário de Variáveis e Tabelas Auxiliares/Dicionário de Variáveis.xls\n",
            "microdados_ed_superior_2018/anexos/ANEXO II - Questionários do Censo da Educaç╞o Superior/\n",
            "microdados_ed_superior_2018/anexos/ANEXO II - Questionários do Censo da Educaç╞o Superior/ANEXO II - MαDULO ALUNO 2018.pdf\n",
            "microdados_ed_superior_2018/anexos/ANEXO II - Questionários do Censo da Educaç╞o Superior/ANEXO II - MαDULO CURSO 2018.pdf\n",
            "microdados_ed_superior_2018/anexos/ANEXO II - Questionários do Censo da Educaç╞o Superior/ANEXO II - MαDULO DOCENTE 2018.pdf\n",
            "microdados_ed_superior_2018/anexos/ANEXO II - Questionários do Censo da Educaç╞o Superior/ANEXO II - MαDULO IES 2018.pdf\n",
            "microdados_ed_superior_2018/dados/\n",
            "microdados_ed_superior_2018/dados/DM_ALUNO.CSV\n",
            "microdados_ed_superior_2018/dados/DM_CURSO.CSV\n",
            "microdados_ed_superior_2018/dados/DM_DOCENTE.CSV\n",
            "microdados_ed_superior_2018/dados/DM_IES.CSV\n",
            "microdados_ed_superior_2018/dados/DM_LOCAL_OFERTA.CSV\n",
            "microdados_ed_superior_2018/dados/MD5_microdados_ed_superior_2018.txt\n",
            "microdados_ed_superior_2018/dados/TB_AUX_CINE_BRASIL.CSV\n",
            "microdados_ed_superior_2018/filtros/\n",
            "microdados_ed_superior_2018/filtros/Filtros Censo Ed Superior 2018.pdf\n",
            "microdados_ed_superior_2018/leia-me/\n",
            "microdados_ed_superior_2018/leia-me/Leia_me Superior_2018.pdf\n",
            "microdados_ed_superior_2018/leia-me/Nota_informativa.pdf\n"
          ],
          "name": "stdout"
        }
      ]
    },
    {
      "cell_type": "markdown",
      "metadata": {
        "id": "VmNbFZ-Mb1iM"
      },
      "source": [
        "Carregando os dados de 2018"
      ]
    },
    {
      "cell_type": "code",
      "metadata": {
        "id": "z5cluIolbIeu"
      },
      "source": [
        "with zipfile.ZipFile(\"/content/drive/MyDrive/Colab_Notebooks/Projeto Sigalei/microdados_educacao_superior_2018.zip\") as z:\n",
        "  with z.open(\"microdados_ed_superior_2018/dados/DM_ALUNO.CSV\") as f:\n",
        "    df_2018 = pd.read_csv(f, sep=\"|\", usecols=colunas)"
      ],
      "execution_count": 9,
      "outputs": []
    },
    {
      "cell_type": "code",
      "metadata": {
        "colab": {
          "base_uri": "https://localhost:8080/",
          "height": 217
        },
        "id": "N-3nc4OvauEv",
        "outputId": "eed2bd09-7e1b-455f-cded-c668b0bffa8e"
      },
      "source": [
        "df_2018.head()"
      ],
      "execution_count": 10,
      "outputs": [
        {
          "output_type": "execute_result",
          "data": {
            "text/html": [
              "<div>\n",
              "<style scoped>\n",
              "    .dataframe tbody tr th:only-of-type {\n",
              "        vertical-align: middle;\n",
              "    }\n",
              "\n",
              "    .dataframe tbody tr th {\n",
              "        vertical-align: top;\n",
              "    }\n",
              "\n",
              "    .dataframe thead th {\n",
              "        text-align: right;\n",
              "    }\n",
              "</style>\n",
              "<table border=\"1\" class=\"dataframe\">\n",
              "  <thead>\n",
              "    <tr style=\"text-align: right;\">\n",
              "      <th></th>\n",
              "      <th>NU_ANO_CENSO</th>\n",
              "      <th>TP_CATEGORIA_ADMINISTRATIVA</th>\n",
              "      <th>CO_CURSO</th>\n",
              "      <th>TP_TURNO</th>\n",
              "      <th>TP_GRAU_ACADEMICO</th>\n",
              "      <th>TP_MODALIDADE_ENSINO</th>\n",
              "      <th>TP_NIVEL_ACADEMICO</th>\n",
              "      <th>TP_COR_RACA</th>\n",
              "      <th>TP_SEXO</th>\n",
              "      <th>NU_IDADE</th>\n",
              "      <th>TP_NACIONALIDADE</th>\n",
              "      <th>CO_PAIS_ORIGEM</th>\n",
              "      <th>CO_UF_NASCIMENTO</th>\n",
              "      <th>TP_SITUACAO</th>\n",
              "      <th>IN_INGRESSO_VESTIBULAR</th>\n",
              "      <th>IN_INGRESSO_ENEM</th>\n",
              "      <th>IN_RESERVA_ETNICO</th>\n",
              "      <th>IN_RESERVA_ENSINO_PUBLICO</th>\n",
              "      <th>IN_RESERVA_RENDA_FAMILIAR</th>\n",
              "      <th>IN_FINANCIAMENTO_ESTUDANTIL</th>\n",
              "      <th>IN_FIN_REEMB_FIES</th>\n",
              "      <th>IN_FIN_NAOREEMB_PROUNI_INTEGR</th>\n",
              "      <th>IN_FIN_NAOREEMB_PROUNI_PARCIAL</th>\n",
              "      <th>IN_BOLSA_ESTAGIO</th>\n",
              "      <th>NU_ANO_INGRESSO</th>\n",
              "    </tr>\n",
              "  </thead>\n",
              "  <tbody>\n",
              "    <tr>\n",
              "      <th>0</th>\n",
              "      <td>2018</td>\n",
              "      <td>1</td>\n",
              "      <td>1</td>\n",
              "      <td>3.0</td>\n",
              "      <td>1.0</td>\n",
              "      <td>1</td>\n",
              "      <td>1</td>\n",
              "      <td>2</td>\n",
              "      <td>1</td>\n",
              "      <td>26</td>\n",
              "      <td>1</td>\n",
              "      <td>76</td>\n",
              "      <td>NaN</td>\n",
              "      <td>2</td>\n",
              "      <td>0</td>\n",
              "      <td>0</td>\n",
              "      <td>NaN</td>\n",
              "      <td>NaN</td>\n",
              "      <td>NaN</td>\n",
              "      <td>NaN</td>\n",
              "      <td>NaN</td>\n",
              "      <td>NaN</td>\n",
              "      <td>NaN</td>\n",
              "      <td>NaN</td>\n",
              "      <td>2017</td>\n",
              "    </tr>\n",
              "    <tr>\n",
              "      <th>1</th>\n",
              "      <td>2018</td>\n",
              "      <td>1</td>\n",
              "      <td>1</td>\n",
              "      <td>3.0</td>\n",
              "      <td>1.0</td>\n",
              "      <td>1</td>\n",
              "      <td>1</td>\n",
              "      <td>3</td>\n",
              "      <td>2</td>\n",
              "      <td>31</td>\n",
              "      <td>1</td>\n",
              "      <td>76</td>\n",
              "      <td>NaN</td>\n",
              "      <td>3</td>\n",
              "      <td>0</td>\n",
              "      <td>1</td>\n",
              "      <td>1.0</td>\n",
              "      <td>1.0</td>\n",
              "      <td>0.0</td>\n",
              "      <td>NaN</td>\n",
              "      <td>NaN</td>\n",
              "      <td>NaN</td>\n",
              "      <td>NaN</td>\n",
              "      <td>NaN</td>\n",
              "      <td>2016</td>\n",
              "    </tr>\n",
              "    <tr>\n",
              "      <th>2</th>\n",
              "      <td>2018</td>\n",
              "      <td>1</td>\n",
              "      <td>1</td>\n",
              "      <td>3.0</td>\n",
              "      <td>1.0</td>\n",
              "      <td>1</td>\n",
              "      <td>1</td>\n",
              "      <td>3</td>\n",
              "      <td>2</td>\n",
              "      <td>30</td>\n",
              "      <td>1</td>\n",
              "      <td>76</td>\n",
              "      <td>NaN</td>\n",
              "      <td>2</td>\n",
              "      <td>0</td>\n",
              "      <td>1</td>\n",
              "      <td>0.0</td>\n",
              "      <td>1.0</td>\n",
              "      <td>0.0</td>\n",
              "      <td>NaN</td>\n",
              "      <td>NaN</td>\n",
              "      <td>NaN</td>\n",
              "      <td>NaN</td>\n",
              "      <td>NaN</td>\n",
              "      <td>2012</td>\n",
              "    </tr>\n",
              "    <tr>\n",
              "      <th>3</th>\n",
              "      <td>2018</td>\n",
              "      <td>1</td>\n",
              "      <td>1</td>\n",
              "      <td>3.0</td>\n",
              "      <td>1.0</td>\n",
              "      <td>1</td>\n",
              "      <td>1</td>\n",
              "      <td>2</td>\n",
              "      <td>1</td>\n",
              "      <td>30</td>\n",
              "      <td>1</td>\n",
              "      <td>76</td>\n",
              "      <td>NaN</td>\n",
              "      <td>3</td>\n",
              "      <td>0</td>\n",
              "      <td>1</td>\n",
              "      <td>1.0</td>\n",
              "      <td>1.0</td>\n",
              "      <td>0.0</td>\n",
              "      <td>NaN</td>\n",
              "      <td>NaN</td>\n",
              "      <td>NaN</td>\n",
              "      <td>NaN</td>\n",
              "      <td>NaN</td>\n",
              "      <td>2015</td>\n",
              "    </tr>\n",
              "    <tr>\n",
              "      <th>4</th>\n",
              "      <td>2018</td>\n",
              "      <td>1</td>\n",
              "      <td>1</td>\n",
              "      <td>3.0</td>\n",
              "      <td>1.0</td>\n",
              "      <td>1</td>\n",
              "      <td>1</td>\n",
              "      <td>3</td>\n",
              "      <td>2</td>\n",
              "      <td>41</td>\n",
              "      <td>1</td>\n",
              "      <td>76</td>\n",
              "      <td>NaN</td>\n",
              "      <td>2</td>\n",
              "      <td>0</td>\n",
              "      <td>1</td>\n",
              "      <td>NaN</td>\n",
              "      <td>NaN</td>\n",
              "      <td>NaN</td>\n",
              "      <td>NaN</td>\n",
              "      <td>NaN</td>\n",
              "      <td>NaN</td>\n",
              "      <td>NaN</td>\n",
              "      <td>NaN</td>\n",
              "      <td>2013</td>\n",
              "    </tr>\n",
              "  </tbody>\n",
              "</table>\n",
              "</div>"
            ],
            "text/plain": [
              "   NU_ANO_CENSO  TP_CATEGORIA_ADMINISTRATIVA  ...  IN_BOLSA_ESTAGIO  NU_ANO_INGRESSO\n",
              "0          2018                            1  ...               NaN             2017\n",
              "1          2018                            1  ...               NaN             2016\n",
              "2          2018                            1  ...               NaN             2012\n",
              "3          2018                            1  ...               NaN             2015\n",
              "4          2018                            1  ...               NaN             2013\n",
              "\n",
              "[5 rows x 25 columns]"
            ]
          },
          "metadata": {
            "tags": []
          },
          "execution_count": 10
        }
      ]
    },
    {
      "cell_type": "markdown",
      "metadata": {
        "id": "mu-SsDPAb76B"
      },
      "source": [
        "Carregando os dados de 2017"
      ]
    },
    {
      "cell_type": "code",
      "metadata": {
        "colab": {
          "base_uri": "https://localhost:8080/"
        },
        "id": "16eRZaQ8b7nz",
        "outputId": "e9bbf50d-3658-4306-d72e-af6c65c4b5bf"
      },
      "source": [
        "with zipfile.ZipFile(\"/content/drive/MyDrive/Colab_Notebooks/Projeto Sigalei/microdados_educacao_superior_2017.zip\") as z:\n",
        "  print(*z.namelist(), sep=\"\\n\")"
      ],
      "execution_count": 11,
      "outputs": [
        {
          "output_type": "stream",
          "text": [
            "microdados_educacao_superior_2017/\n",
            "microdados_educacao_superior_2017/Microdados_Educacao_Superior_2017/\n",
            "microdados_educacao_superior_2017/Microdados_Educacao_Superior_2017/ANEXOS/\n",
            "microdados_educacao_superior_2017/Microdados_Educacao_Superior_2017/ANEXOS/ANEXO I - Dicionário de Dados e Tabelas Auxiliares/\n",
            "microdados_educacao_superior_2017/Microdados_Educacao_Superior_2017/ANEXOS/ANEXO I - Dicionário de Dados e Tabelas Auxiliares/Código_do_País_de_Nascimento_ou_Naturalizaç╞o.xlsx\n",
            "microdados_educacao_superior_2017/Microdados_Educacao_Superior_2017/ANEXOS/ANEXO I - Dicionário de Dados e Tabelas Auxiliares/Dicionário_de_Dados.xlsx\n",
            "microdados_educacao_superior_2017/Microdados_Educacao_Superior_2017/ANEXOS/ANEXO I - Dicionário de Dados e Tabelas Auxiliares/~$Cópia de DICIONARIO_DM_TODOS_ANOS_v2 (002).xlsx\n",
            "microdados_educacao_superior_2017/Microdados_Educacao_Superior_2017/ANEXOS/ANEXO II - Questionários do Censo da Educaç╞o Superior/\n",
            "microdados_educacao_superior_2017/Microdados_Educacao_Superior_2017/ANEXOS/ANEXO II - Questionários do Censo da Educaç╞o Superior/ANEXO II - MαDULO ALUNO 2017.pdf\n",
            "microdados_educacao_superior_2017/Microdados_Educacao_Superior_2017/ANEXOS/ANEXO II - Questionários do Censo da Educaç╞o Superior/ANEXO II - MαDULO CURSO 2017.pdf\n",
            "microdados_educacao_superior_2017/Microdados_Educacao_Superior_2017/ANEXOS/ANEXO II - Questionários do Censo da Educaç╞o Superior/ANEXO II - MαDULO DOCENTE 2017.pdf\n",
            "microdados_educacao_superior_2017/Microdados_Educacao_Superior_2017/ANEXOS/ANEXO II - Questionários do Censo da Educaç╞o Superior/ANEXO II - MαDULO IES 2017.pdf\n",
            "microdados_educacao_superior_2017/Microdados_Educacao_Superior_2017/DADOS/\n",
            "microdados_educacao_superior_2017/Microdados_Educacao_Superior_2017/DADOS/DM_ALUNO/\n",
            "microdados_educacao_superior_2017/Microdados_Educacao_Superior_2017/DADOS/DM_ALUNO.zip\n",
            "microdados_educacao_superior_2017/Microdados_Educacao_Superior_2017/DADOS/DM_ALUNO/DM_ALUNO.CSV\n",
            "microdados_educacao_superior_2017/Microdados_Educacao_Superior_2017/DADOS/DM_CURSO.zip\n",
            "microdados_educacao_superior_2017/Microdados_Educacao_Superior_2017/DADOS/DM_DOCENTE.zip\n",
            "microdados_educacao_superior_2017/Microdados_Educacao_Superior_2017/DADOS/DM_IES.zip\n",
            "microdados_educacao_superior_2017/Microdados_Educacao_Superior_2017/DADOS/DM_LOCAL_OFERTA.zip\n",
            "microdados_educacao_superior_2017/Microdados_Educacao_Superior_2017/DADOS/md5_microdados_ed_superior_2017.txt\n",
            "microdados_educacao_superior_2017/Microdados_Educacao_Superior_2017/DADOS/TB_AUX_AREA_OCDE.zip\n",
            "microdados_educacao_superior_2017/Microdados_Educacao_Superior_2017/FILTROS/\n",
            "microdados_educacao_superior_2017/Microdados_Educacao_Superior_2017/FILTROS/Filtros_Educacao_Superior_2017.pdf\n",
            "microdados_educacao_superior_2017/Microdados_Educacao_Superior_2017/FILTROS/~$ltros Censo Ed Superior 2017.doc\n",
            "microdados_educacao_superior_2017/Microdados_Educacao_Superior_2017/LEIA-ME/\n",
            "microdados_educacao_superior_2017/Microdados_Educacao_Superior_2017/LEIA-ME/Leia_me Superior_2017.pdf\n"
          ],
          "name": "stdout"
        }
      ]
    },
    {
      "cell_type": "code",
      "metadata": {
        "id": "j3IdGhGgb7cW"
      },
      "source": [
        "with zipfile.ZipFile(\"/content/drive/MyDrive/Colab_Notebooks/Projeto Sigalei/microdados_educacao_superior_2017.zip\") as z:\n",
        "   with z.open(\"microdados_educacao_superior_2017/Microdados_Educacao_Superior_2017/DADOS/DM_ALUNO/DM_ALUNO.CSV\") as f:\n",
        "    df_2017 = pd.read_csv(f, sep=\"|\",usecols=colunas)\n",
        "  "
      ],
      "execution_count": 12,
      "outputs": []
    },
    {
      "cell_type": "code",
      "metadata": {
        "colab": {
          "base_uri": "https://localhost:8080/",
          "height": 217
        },
        "id": "Ur5gc0Zrb7PT",
        "outputId": "a8e0c6c4-f1d9-4286-d499-367bb640b234"
      },
      "source": [
        "df_2017.head()"
      ],
      "execution_count": 13,
      "outputs": [
        {
          "output_type": "execute_result",
          "data": {
            "text/html": [
              "<div>\n",
              "<style scoped>\n",
              "    .dataframe tbody tr th:only-of-type {\n",
              "        vertical-align: middle;\n",
              "    }\n",
              "\n",
              "    .dataframe tbody tr th {\n",
              "        vertical-align: top;\n",
              "    }\n",
              "\n",
              "    .dataframe thead th {\n",
              "        text-align: right;\n",
              "    }\n",
              "</style>\n",
              "<table border=\"1\" class=\"dataframe\">\n",
              "  <thead>\n",
              "    <tr style=\"text-align: right;\">\n",
              "      <th></th>\n",
              "      <th>NU_ANO_CENSO</th>\n",
              "      <th>TP_CATEGORIA_ADMINISTRATIVA</th>\n",
              "      <th>CO_CURSO</th>\n",
              "      <th>TP_TURNO</th>\n",
              "      <th>TP_GRAU_ACADEMICO</th>\n",
              "      <th>TP_MODALIDADE_ENSINO</th>\n",
              "      <th>TP_NIVEL_ACADEMICO</th>\n",
              "      <th>TP_COR_RACA</th>\n",
              "      <th>TP_SEXO</th>\n",
              "      <th>NU_IDADE</th>\n",
              "      <th>TP_NACIONALIDADE</th>\n",
              "      <th>CO_PAIS_ORIGEM</th>\n",
              "      <th>CO_UF_NASCIMENTO</th>\n",
              "      <th>TP_SITUACAO</th>\n",
              "      <th>IN_INGRESSO_VESTIBULAR</th>\n",
              "      <th>IN_INGRESSO_ENEM</th>\n",
              "      <th>IN_RESERVA_ETNICO</th>\n",
              "      <th>IN_RESERVA_ENSINO_PUBLICO</th>\n",
              "      <th>IN_RESERVA_RENDA_FAMILIAR</th>\n",
              "      <th>IN_FINANCIAMENTO_ESTUDANTIL</th>\n",
              "      <th>IN_FIN_REEMB_FIES</th>\n",
              "      <th>IN_FIN_NAOREEMB_PROUNI_INTEGR</th>\n",
              "      <th>IN_FIN_NAOREEMB_PROUNI_PARCIAL</th>\n",
              "      <th>IN_BOLSA_ESTAGIO</th>\n",
              "      <th>NU_ANO_INGRESSO</th>\n",
              "    </tr>\n",
              "  </thead>\n",
              "  <tbody>\n",
              "    <tr>\n",
              "      <th>0</th>\n",
              "      <td>2017</td>\n",
              "      <td>1</td>\n",
              "      <td>1</td>\n",
              "      <td>3.0</td>\n",
              "      <td>1.0</td>\n",
              "      <td>1</td>\n",
              "      <td>1</td>\n",
              "      <td>3</td>\n",
              "      <td>1</td>\n",
              "      <td>25</td>\n",
              "      <td>1</td>\n",
              "      <td>76</td>\n",
              "      <td>NaN</td>\n",
              "      <td>2</td>\n",
              "      <td>0</td>\n",
              "      <td>0</td>\n",
              "      <td>NaN</td>\n",
              "      <td>NaN</td>\n",
              "      <td>NaN</td>\n",
              "      <td>NaN</td>\n",
              "      <td>NaN</td>\n",
              "      <td>NaN</td>\n",
              "      <td>NaN</td>\n",
              "      <td>NaN</td>\n",
              "      <td>2017</td>\n",
              "    </tr>\n",
              "    <tr>\n",
              "      <th>1</th>\n",
              "      <td>2017</td>\n",
              "      <td>1</td>\n",
              "      <td>1</td>\n",
              "      <td>3.0</td>\n",
              "      <td>1.0</td>\n",
              "      <td>1</td>\n",
              "      <td>1</td>\n",
              "      <td>3</td>\n",
              "      <td>2</td>\n",
              "      <td>30</td>\n",
              "      <td>1</td>\n",
              "      <td>76</td>\n",
              "      <td>NaN</td>\n",
              "      <td>3</td>\n",
              "      <td>0</td>\n",
              "      <td>1</td>\n",
              "      <td>1.0</td>\n",
              "      <td>1.0</td>\n",
              "      <td>0.0</td>\n",
              "      <td>NaN</td>\n",
              "      <td>NaN</td>\n",
              "      <td>NaN</td>\n",
              "      <td>NaN</td>\n",
              "      <td>NaN</td>\n",
              "      <td>2016</td>\n",
              "    </tr>\n",
              "    <tr>\n",
              "      <th>2</th>\n",
              "      <td>2017</td>\n",
              "      <td>1</td>\n",
              "      <td>1</td>\n",
              "      <td>3.0</td>\n",
              "      <td>1.0</td>\n",
              "      <td>1</td>\n",
              "      <td>1</td>\n",
              "      <td>3</td>\n",
              "      <td>2</td>\n",
              "      <td>29</td>\n",
              "      <td>1</td>\n",
              "      <td>76</td>\n",
              "      <td>NaN</td>\n",
              "      <td>2</td>\n",
              "      <td>0</td>\n",
              "      <td>1</td>\n",
              "      <td>0.0</td>\n",
              "      <td>1.0</td>\n",
              "      <td>0.0</td>\n",
              "      <td>NaN</td>\n",
              "      <td>NaN</td>\n",
              "      <td>NaN</td>\n",
              "      <td>NaN</td>\n",
              "      <td>NaN</td>\n",
              "      <td>2012</td>\n",
              "    </tr>\n",
              "    <tr>\n",
              "      <th>3</th>\n",
              "      <td>2017</td>\n",
              "      <td>1</td>\n",
              "      <td>1</td>\n",
              "      <td>3.0</td>\n",
              "      <td>1.0</td>\n",
              "      <td>1</td>\n",
              "      <td>1</td>\n",
              "      <td>2</td>\n",
              "      <td>1</td>\n",
              "      <td>29</td>\n",
              "      <td>1</td>\n",
              "      <td>76</td>\n",
              "      <td>NaN</td>\n",
              "      <td>3</td>\n",
              "      <td>0</td>\n",
              "      <td>1</td>\n",
              "      <td>1.0</td>\n",
              "      <td>1.0</td>\n",
              "      <td>0.0</td>\n",
              "      <td>NaN</td>\n",
              "      <td>NaN</td>\n",
              "      <td>NaN</td>\n",
              "      <td>NaN</td>\n",
              "      <td>NaN</td>\n",
              "      <td>2015</td>\n",
              "    </tr>\n",
              "    <tr>\n",
              "      <th>4</th>\n",
              "      <td>2017</td>\n",
              "      <td>1</td>\n",
              "      <td>1</td>\n",
              "      <td>3.0</td>\n",
              "      <td>1.0</td>\n",
              "      <td>1</td>\n",
              "      <td>1</td>\n",
              "      <td>3</td>\n",
              "      <td>2</td>\n",
              "      <td>40</td>\n",
              "      <td>1</td>\n",
              "      <td>76</td>\n",
              "      <td>NaN</td>\n",
              "      <td>2</td>\n",
              "      <td>0</td>\n",
              "      <td>1</td>\n",
              "      <td>1.0</td>\n",
              "      <td>1.0</td>\n",
              "      <td>0.0</td>\n",
              "      <td>NaN</td>\n",
              "      <td>NaN</td>\n",
              "      <td>NaN</td>\n",
              "      <td>NaN</td>\n",
              "      <td>NaN</td>\n",
              "      <td>2013</td>\n",
              "    </tr>\n",
              "  </tbody>\n",
              "</table>\n",
              "</div>"
            ],
            "text/plain": [
              "   NU_ANO_CENSO  TP_CATEGORIA_ADMINISTRATIVA  ...  IN_BOLSA_ESTAGIO  NU_ANO_INGRESSO\n",
              "0          2017                            1  ...               NaN             2017\n",
              "1          2017                            1  ...               NaN             2016\n",
              "2          2017                            1  ...               NaN             2012\n",
              "3          2017                            1  ...               NaN             2015\n",
              "4          2017                            1  ...               NaN             2013\n",
              "\n",
              "[5 rows x 25 columns]"
            ]
          },
          "metadata": {
            "tags": []
          },
          "execution_count": 13
        }
      ]
    },
    {
      "cell_type": "code",
      "metadata": {
        "colab": {
          "base_uri": "https://localhost:8080/"
        },
        "id": "PMaLuG5Ab7DE",
        "outputId": "934709c6-4029-4c7d-de29-fba315820d9f"
      },
      "source": [
        "with zipfile.ZipFile(\"/content/drive/MyDrive/Colab_Notebooks/Projeto Sigalei/microdados_censo_superior_2016.zip\") as z:\n",
        "  print(*z.namelist(), sep=\"\\n\")"
      ],
      "execution_count": 14,
      "outputs": [
        {
          "output_type": "stream",
          "text": [
            "microdados_censo_superior_2016/\n",
            "microdados_censo_superior_2016/ANEXOS/\n",
            "microdados_censo_superior_2016/ANEXOS/ANEXO I - Dicionário de Dados e Tabelas Auxiliares/\n",
            "microdados_censo_superior_2016/ANEXOS/ANEXO I - Dicionário de Dados e Tabelas Auxiliares/Código do País de Nascimento ou Naturalizaç╞o.xlsx\n",
            "microdados_censo_superior_2016/ANEXOS/ANEXO I - Dicionário de Dados e Tabelas Auxiliares/Dicionários de Dados.xls\n",
            "microdados_censo_superior_2016/ANEXOS/ANEXO II -  Questionários do Censo da Educaç╞o Superior/\n",
            "microdados_censo_superior_2016/ANEXOS/ANEXO II -  Questionários do Censo da Educaç╞o Superior/ANEXO II - MαDULO ALUNO 2016.pdf\n",
            "microdados_censo_superior_2016/ANEXOS/ANEXO II -  Questionários do Censo da Educaç╞o Superior/ANEXO II - MαDULO CURSO 2016.pdf\n",
            "microdados_censo_superior_2016/ANEXOS/ANEXO II -  Questionários do Censo da Educaç╞o Superior/ANEXO II - MαDULO DOCENTE 2016.pdf\n",
            "microdados_censo_superior_2016/ANEXOS/ANEXO II -  Questionários do Censo da Educaç╞o Superior/ANEXO II - MαDULO IES 2016.pdf\n",
            "microdados_censo_superior_2016/DADOS/\n",
            "microdados_censo_superior_2016/DADOS/DM_ALUNO/\n",
            "microdados_censo_superior_2016/DADOS/DM_ALUNO.rar\n",
            "microdados_censo_superior_2016/DADOS/DM_ALUNO/DM_ALUNO.CSV\n",
            "microdados_censo_superior_2016/DADOS/DM_CURSO.rar\n",
            "microdados_censo_superior_2016/DADOS/DM_DOCENTE.rar\n",
            "microdados_censo_superior_2016/DADOS/DM_IES.rar\n",
            "microdados_censo_superior_2016/DADOS/DM_LOCAL_OFERTA.rar\n",
            "microdados_censo_superior_2016/DADOS/md5_microdados_ed_superior_2016.txt\n",
            "microdados_censo_superior_2016/FILTROS/\n",
            "microdados_censo_superior_2016/FILTROS/Filtros Censo Ed Superior 2016.pdf\n",
            "microdados_censo_superior_2016/LEIA-ME/\n",
            "microdados_censo_superior_2016/LEIA-ME/Leia_me Superior_2016.pdf\n"
          ],
          "name": "stdout"
        }
      ]
    },
    {
      "cell_type": "code",
      "metadata": {
        "id": "_BWLZq21zE2H"
      },
      "source": [
        "with zipfile.ZipFile(\"/content/drive/MyDrive/Colab_Notebooks/Projeto Sigalei/microdados_censo_superior_2016.zip\") as z:\n",
        "   with z.open(\"microdados_censo_superior_2016/DADOS/DM_ALUNO/DM_ALUNO.CSV\") as f:\n",
        "    df_2016 = pd.read_csv(f, sep=\"|\", nrows=0)"
      ],
      "execution_count": 15,
      "outputs": []
    },
    {
      "cell_type": "code",
      "metadata": {
        "colab": {
          "base_uri": "https://localhost:8080/"
        },
        "id": "DXjhZ_o1zEo6",
        "outputId": "49ad251b-baf4-453a-8812-b410c40bdfee"
      },
      "source": [
        "df_2016.columns.values"
      ],
      "execution_count": 16,
      "outputs": [
        {
          "output_type": "execute_result",
          "data": {
            "text/plain": [
              "array(['CO_IES', 'NO_IES', 'CO_CATEGORIA_ADMINISTRATIVA',\n",
              "       'DS_CATEGORIA_ADMINISTRATIVA', 'CO_ORGANIZACAO_ACADEMICA',\n",
              "       'DS_ORGANIZACAO_ACADEMICA', 'CO_CURSO', 'NO_CURSO',\n",
              "       'CO_CURSO_POLO', 'CO_TURNO_ALUNO', 'DS_TURNO_ALUNO',\n",
              "       'CO_GRAU_ACADEMICO', 'DS_GRAU_ACADEMICO', 'CO_MODALIDADE_ENSINO',\n",
              "       'DS_MODALIDADE_ENSINO', 'CO_NIVEL_ACADEMICO', 'DS_NIVEL_ACADEMICO',\n",
              "       'CO_OCDE', 'NO_OCDE', 'CO_OCDE_AREA_GERAL', 'NO_OCDE_AREA_GERAL',\n",
              "       'CO_OCDE_AREA_ESPECIFICA', 'NO_OCDE_AREA_ESPECIFICA',\n",
              "       'CO_OCDE_AREA_DETALHADA', 'NO_OCDE_AREA_DETALHADA',\n",
              "       'CO_ALUNO_CURSO', 'CO_ALUNO_CURSO_ORIGEM', 'CO_ALUNO',\n",
              "       'CO_COR_RACA_ALUNO', 'DS_COR_RACA_ALUNO', 'IN_SEXO_ALUNO',\n",
              "       'DS_SEXO_ALUNO', 'NU_ANO_ALUNO_NASC', 'NU_MES_ALUNO_NASC',\n",
              "       'NU_DIA_ALUNO_NASC', 'NU_IDADE_ALUNO', 'CO_NACIONALIDADE_ALUNO',\n",
              "       'DS_NACIONALIDADE_ALUNO', 'CO_PAIS_ORIGEM_ALUNO',\n",
              "       'CO_UF_NASCIMENTO', 'CO_MUNICIPIO_NASCIMENTO',\n",
              "       'IN_ALUNO_DEF_TGD_SUPER', 'IN_DEF_AUDITIVA', 'IN_DEF_FISICA',\n",
              "       'IN_DEF_INTELECTUAL', 'IN_DEF_MULTIPLA', 'IN_DEF_SURDEZ',\n",
              "       'IN_DEF_SURDOCEGUEIRA', 'IN_DEF_BAIXA_VISAO', 'IN_DEF_CEGUEIRA',\n",
              "       'IN_DEF_SUPERDOTACAO', 'IN_TGD_AUTISMO_INFANTIL',\n",
              "       'IN_TGD_SINDROME_ASPERGER', 'IN_TGD_SINDROME_RETT',\n",
              "       'IN_TGD_TRANSTOR_DESINTEGRATIVO', 'CO_ALUNO_SITUACAO',\n",
              "       'DS_ALUNO_SITUACAO', 'QT_CARGA_HORARIA_TOTAL',\n",
              "       'QT_CARGA_HORARIA_INTEG', 'DT_INGRESSO_CURSO', 'IN_ING_VESTIBULAR',\n",
              "       'IN_ING_ENEM', 'IN_ING_AVALIACAO_SERIADA',\n",
              "       'IN_ING_SELECAO_SIMPLIFICADA', 'IN_ING_SELECAO_VAGA_REMANESC',\n",
              "       'IN_ING_SELECAO_VAGA_PROG_ESPEC', 'IN_ING_TRANSF_EXOFFICIO',\n",
              "       'IN_ING_DECISAO_JUDICIAL', 'IN_ING_CONVENIO_PECG',\n",
              "       'IN_RESERVA_VAGAS', 'IN_RESERVA_ETNICO', 'IN_RESERVA_DEFICIENCIA',\n",
              "       'IN_RESERVA_ENSINO_PUBLICO', 'IN_RESERVA_RENDA_FAMILIAR',\n",
              "       'IN_RESERVA_OUTRA', 'IN_FINANC_ESTUDANTIL', 'IN_FIN_REEMB_FIES',\n",
              "       'IN_FIN_REEMB_ESTADUAL', 'IN_FIN_REEMB_MUNICIPAL',\n",
              "       'IN_FIN_REEMB_PROG_IES', 'IN_FIN_REEMB_ENT_EXTERNA',\n",
              "       'IN_FIN_REEMB_OUTRA', 'IN_FIN_NAOREEMB_PROUNI_INTEGR',\n",
              "       'IN_FIN_NAOREEMB_PROUNI_PARCIAL', 'IN_FIN_NAOREEMB_ESTADUAL',\n",
              "       'IN_FIN_NAOREEMB_MUNICIPAL', 'IN_FIN_NAOREEMB_PROG_IES',\n",
              "       'IN_FIN_NAOREEMB_ENT_EXTERNA', 'IN_FIN_NAOREEMB_OUTRA',\n",
              "       'IN_APOIO_SOCIAL', 'IN_APOIO_ALIMENTACAO',\n",
              "       'IN_APOIO_BOLSA_PERMANENCIA', 'IN_APOIO_BOLSA_TRABALHO',\n",
              "       'IN_APOIO_MATERIAL_DIDATICO', 'IN_APOIO_MORADIA',\n",
              "       'IN_APOIO_TRANSPORTE', 'IN_ATIVIDADE_EXTRACURRICULAR',\n",
              "       'IN_COMPL_ESTAGIO', 'IN_COMPL_EXTENSAO', 'IN_COMPL_MONITORIA',\n",
              "       'IN_COMPL_PESQUISA', 'IN_BOLSA_ESTAGIO', 'IN_BOLSA_EXTENSAO',\n",
              "       'IN_BOLSA_MONITORIA', 'IN_BOLSA_PESQUISA',\n",
              "       'CO_TIPO_ESCOLA_ENS_MEDIO', 'IN_ALUNO_PARFOR',\n",
              "       'CO_SEMESTRE_CONCLUSAO', 'CO_SEMESTRE_REFERENCIA',\n",
              "       'IN_MOBILIDADE_ACADEMICA', 'CO_MOBILIDADE_ACADEMICA',\n",
              "       'CO_MOBILIDADE_ACADEMICA_INTERN', 'CO_IES_DESTINO',\n",
              "       'CO_PAIS_DESTINO', 'IN_MATRICULA', 'IN_CONCLUINTE',\n",
              "       'IN_INGRESSO_TOTAL', 'IN_INGRESSO_VAGA_NOVA', 'ANO_INGRESSO'],\n",
              "      dtype=object)"
            ]
          },
          "metadata": {
            "tags": []
          },
          "execution_count": 16
        }
      ]
    },
    {
      "cell_type": "code",
      "metadata": {
        "id": "bO-NdfdS0mco"
      },
      "source": [
        "colunas2 = ['CO_CURSO', 'CO_CATEGORIA_ADMINISTRATIVA', 'CO_TURNO_ALUNO', 'CO_GRAU_ACADEMICO', 'CO_MODALIDADE_ENSINO', \n",
        "            'CO_NIVEL_ACADEMICO', 'CO_COR_RACA_ALUNO', 'IN_SEXO_ALUNO', 'NU_IDADE_ALUNO', 'CO_NACIONALIDADE_ALUNO', \n",
        "           'CO_PAIS_ORIGEM_ALUNO', 'CO_UF_NASCIMENTO', 'CO_ALUNO_SITUACAO', 'IN_ING_VESTIBULAR', \n",
        "            'IN_ING_ENEM', 'IN_RESERVA_ETNICO', 'IN_RESERVA_ENSINO_PUBLICO', 'IN_RESERVA_RENDA_FAMILIAR', \n",
        "            'IN_FINANC_ESTUDANTIL', 'IN_FIN_REEMB_FIES', 'IN_FIN_NAOREEMB_PROUNI_INTEGR', \n",
        "           'IN_FIN_NAOREEMB_PROUNI_PARCIAL', 'IN_BOLSA_ESTAGIO', 'ANO_INGRESSO']"
      ],
      "execution_count": 17,
      "outputs": []
    },
    {
      "cell_type": "code",
      "metadata": {
        "id": "lx1sOIEQ0mI8"
      },
      "source": [
        "with zipfile.ZipFile(\"/content/drive/MyDrive/Colab_Notebooks/Projeto Sigalei/microdados_censo_superior_2016.zip\") as z:\n",
        "   with z.open(\"microdados_censo_superior_2016/DADOS/DM_ALUNO/DM_ALUNO.CSV\") as f:\n",
        "    df_2016 = pd.read_csv(f, sep=\"|\", usecols=colunas2)"
      ],
      "execution_count": null,
      "outputs": []
    },
    {
      "cell_type": "code",
      "metadata": {
        "id": "gXChGBOQ02PH"
      },
      "source": [
        "df_2016[\"NU_ANO_CENSO\"] = 2016"
      ],
      "execution_count": null,
      "outputs": []
    },
    {
      "cell_type": "code",
      "metadata": {
        "id": "zNDOOlnp02Cn"
      },
      "source": [
        "df_2016.rename(columns={\"CO_GRAU_ACADEMICO\": \"TP_GRAU_ACADEMICO\", \"CO_CATEGORIA_ADMINISTRATIVA\": \"TP_CATEGORIA_ADMINISTRATIVA\", \"NU_IDADE_ALUNO\": \"NU_IDADE\", \"CO_NIVEL_ACADEMICO\": \"TP_NIVEL_ACADEMICO\",\n",
        "                        \"CO_MODALIDADE_ENSINO\": \"TP_MODALIDADE_ENSINO\", \"CO_TURNO_ALUNO\": \"TP_TURNO\", \"CO_PAIS_ORIGEM_ALUNO\": \"CO_PAIS_ORIGEM\",\n",
        "                        \"CO_NACIONALIDADE_ALUNO\": \"TP_NACIONALIDADE\", \"IN_SEXO_ALUNO\": \"TP_SEXO\", \"IN_ING_VESTIBULAR\": \"IN_INGRESSO_VESTIBULAR\",\n",
        "                        \"CO_COR_RACA_ALUNO\": \"TP_COR_RACA\", \"CO_ALUNO_SITUACAO\": \"TP_SITUACAO\", \"IN_FINANC_ESTUDANTIL\": \"IN_FINANCIAMENTO_ESTUDANTIL\",\n",
        "                        \"ANO_INGRESSO\": \"NU_ANO_INGRESSO\", \"IN_ING_ENEM\": \"IN_INGRESSO_ENEM\"}, inplace=True)"
      ],
      "execution_count": null,
      "outputs": []
    },
    {
      "cell_type": "code",
      "metadata": {
        "id": "_rEmFjA9011A"
      },
      "source": [
        "df_2016.head()"
      ],
      "execution_count": null,
      "outputs": []
    },
    {
      "cell_type": "markdown",
      "metadata": {
        "id": "CuvfQBxMyCdK"
      },
      "source": [
        "Dados 2015"
      ]
    },
    {
      "cell_type": "code",
      "metadata": {
        "id": "znk4qCFIx2BV"
      },
      "source": [
        "with zipfile.ZipFile(\"/content/drive/MyDrive/Colab_Notebooks/Projeto Sigalei/microdados_censo_superior_2015.zip\") as z:\n",
        "  print(*z.namelist(), sep=\"\\n\")"
      ],
      "execution_count": null,
      "outputs": []
    },
    {
      "cell_type": "code",
      "metadata": {
        "id": "E-XcZa-Vx12k"
      },
      "source": [
        "with zipfile.ZipFile(\"/content/drive/MyDrive/Colab_Notebooks/Projeto Sigalei/microdados_censo_superior_2015.zip\") as z:\n",
        "   with z.open(\"microdados_censo_superior_2015/microdados_censo_superior_2015/DADOS/DM_ALUNO/DM_ALUNO.CSV\") as f:\n",
        "    df_2015 = pd.read_csv(f, sep=\"|\",usecols=colunas2)"
      ],
      "execution_count": null,
      "outputs": []
    },
    {
      "cell_type": "code",
      "metadata": {
        "id": "ZIfnHWa0x1sM"
      },
      "source": [
        "df_2015[\"NU_ANO_CENSO\"] = 2015"
      ],
      "execution_count": null,
      "outputs": []
    },
    {
      "cell_type": "code",
      "metadata": {
        "id": "H0U09txix1it"
      },
      "source": [
        "df_2015.rename(columns={\"CO_GRAU_ACADEMICO\": \"TP_GRAU_ACADEMICO\", \"CO_CATEGORIA_ADMINISTRATIVA\": \"TP_CATEGORIA_ADMINISTRATIVA\", \"NU_IDADE_ALUNO\": \"NU_IDADE\", \"CO_NIVEL_ACADEMICO\": \"TP_NIVEL_ACADEMICO\",\n",
        "                        \"CO_MODALIDADE_ENSINO\": \"TP_MODALIDADE_ENSINO\", \"CO_TURNO_ALUNO\": \"TP_TURNO\", \"CO_PAIS_ORIGEM_ALUNO\": \"CO_PAIS_ORIGEM\",\n",
        "                        \"CO_NACIONALIDADE_ALUNO\": \"TP_NACIONALIDADE\", \"IN_SEXO_ALUNO\": \"TP_SEXO\", \"IN_ING_VESTIBULAR\": \"IN_INGRESSO_VESTIBULAR\",\n",
        "                        \"CO_COR_RACA_ALUNO\": \"TP_COR_RACA\", \"CO_ALUNO_SITUACAO\": \"TP_SITUACAO\", \"IN_FINANC_ESTUDANTIL\": \"IN_FINANCIAMENTO_ESTUDANTIL\",\n",
        "                        \"ANO_INGRESSO\": \"NU_ANO_INGRESSO\", \"IN_ING_ENEM\": \"IN_INGRESSO_ENEM\"}, inplace=True)"
      ],
      "execution_count": null,
      "outputs": []
    },
    {
      "cell_type": "code",
      "metadata": {
        "id": "ybyz6cc6x1XC"
      },
      "source": [
        "df_2015.head()"
      ],
      "execution_count": null,
      "outputs": []
    },
    {
      "cell_type": "markdown",
      "metadata": {
        "id": "unEwYVRWEctz"
      },
      "source": [
        "Dados 2014"
      ]
    },
    {
      "cell_type": "code",
      "metadata": {
        "id": "3IF-ouYGx093"
      },
      "source": [
        "with zipfile.ZipFile(\"/content/drive/MyDrive/Colab_Notebooks/Projeto Sigalei/microdados_censo_superior_2014.zip\") as z:\n",
        "  print(*z.namelist(), sep=\"\\n\")"
      ],
      "execution_count": null,
      "outputs": []
    },
    {
      "cell_type": "code",
      "metadata": {
        "id": "ujOWdmfRb6dk"
      },
      "source": [
        "with zipfile.ZipFile(\"/content/drive/MyDrive/Colab_Notebooks/Projeto Sigalei/microdados_censo_superior_2014.zip\") as z:\n",
        "   with z.open(\"microdados_censo_superior_2014/2014/DADOS/DM_ALUNO.CSV\") as f:\n",
        "    df_2014 = pd.read_csv(f, sep=\"|\",usecols=colunas2)"
      ],
      "execution_count": null,
      "outputs": []
    },
    {
      "cell_type": "code",
      "metadata": {
        "id": "3M0L0BmoE20I"
      },
      "source": [
        "df_2014[\"NU_ANO_CENSO\"] = 2014"
      ],
      "execution_count": null,
      "outputs": []
    },
    {
      "cell_type": "code",
      "metadata": {
        "id": "V-OaKk8TE2uh"
      },
      "source": [
        "df_2014.rename(columns={\"CO_GRAU_ACADEMICO\": \"TP_GRAU_ACADEMICO\", \"CO_CATEGORIA_ADMINISTRATIVA\": \"TP_CATEGORIA_ADMINISTRATIVA\", \"NU_IDADE_ALUNO\": \"NU_IDADE\", \"CO_NIVEL_ACADEMICO\": \"TP_NIVEL_ACADEMICO\",\n",
        "                        \"CO_MODALIDADE_ENSINO\": \"TP_MODALIDADE_ENSINO\", \"CO_TURNO_ALUNO\": \"TP_TURNO\", \"CO_PAIS_ORIGEM_ALUNO\": \"CO_PAIS_ORIGEM\",\n",
        "                        \"CO_NACIONALIDADE_ALUNO\": \"TP_NACIONALIDADE\", \"IN_SEXO_ALUNO\": \"TP_SEXO\", \"IN_ING_VESTIBULAR\": \"IN_INGRESSO_VESTIBULAR\",\n",
        "                        \"CO_COR_RACA_ALUNO\": \"TP_COR_RACA\", \"CO_ALUNO_SITUACAO\": \"TP_SITUACAO\", \"IN_FINANC_ESTUDANTIL\": \"IN_FINANCIAMENTO_ESTUDANTIL\",\n",
        "                        \"ANO_INGRESSO\": \"NU_ANO_INGRESSO\", \"IN_ING_ENEM\": \"IN_INGRESSO_ENEM\"}, inplace=True)"
      ],
      "execution_count": null,
      "outputs": []
    },
    {
      "cell_type": "code",
      "metadata": {
        "id": "MhLcwkbaE2oK"
      },
      "source": [
        "df_2014.head()"
      ],
      "execution_count": null,
      "outputs": []
    },
    {
      "cell_type": "markdown",
      "metadata": {
        "id": "cFBh12Q7FMbR"
      },
      "source": [
        "Dados 2013"
      ]
    },
    {
      "cell_type": "code",
      "metadata": {
        "id": "UnNGmCQ7E2ep"
      },
      "source": [
        "with zipfile.ZipFile(\"/content/drive/MyDrive/Colab_Notebooks/Projeto Sigalei/microdados_censo_superior_2013.zip\") as z:\n",
        "  print(*z.namelist(), sep=\"\\n\")"
      ],
      "execution_count": null,
      "outputs": []
    },
    {
      "cell_type": "code",
      "metadata": {
        "id": "HdK7ZscCE2VK"
      },
      "source": [
        "with zipfile.ZipFile(\"/content/drive/MyDrive/Colab_Notebooks/Projeto Sigalei/microdados_censo_superior_2013.zip\") as z:\n",
        "   with z.open(\"microdados_censo_superior_2013/2013/DADOS/DM_ALUNO/DM_ALUNO.CSV\") as f:\n",
        "    df_2013 = pd.read_csv(f, sep=\"|\",usecols=colunas2)"
      ],
      "execution_count": null,
      "outputs": []
    },
    {
      "cell_type": "code",
      "metadata": {
        "id": "jlHGgrxtOXok"
      },
      "source": [
        "df_2013[\"NU_ANO_CENSO\"] = 2013"
      ],
      "execution_count": null,
      "outputs": []
    },
    {
      "cell_type": "code",
      "metadata": {
        "id": "M_aiEZvKOXZz"
      },
      "source": [
        "df_2013.rename(columns={\"CO_GRAU_ACADEMICO\": \"TP_GRAU_ACADEMICO\", \"CO_CATEGORIA_ADMINISTRATIVA\": \"TP_CATEGORIA_ADMINISTRATIVA\", \"NU_IDADE_ALUNO\": \"NU_IDADE\", \"CO_NIVEL_ACADEMICO\": \"TP_NIVEL_ACADEMICO\",\n",
        "                        \"CO_MODALIDADE_ENSINO\": \"TP_MODALIDADE_ENSINO\", \"CO_TURNO_ALUNO\": \"TP_TURNO\", \"CO_PAIS_ORIGEM_ALUNO\": \"CO_PAIS_ORIGEM\",\n",
        "                        \"CO_NACIONALIDADE_ALUNO\": \"TP_NACIONALIDADE\", \"IN_SEXO_ALUNO\": \"TP_SEXO\", \"IN_ING_VESTIBULAR\": \"IN_INGRESSO_VESTIBULAR\",\n",
        "                        \"CO_COR_RACA_ALUNO\": \"TP_COR_RACA\", \"CO_ALUNO_SITUACAO\": \"TP_SITUACAO\", \"IN_FINANC_ESTUDANTIL\": \"IN_FINANCIAMENTO_ESTUDANTIL\",\n",
        "                        \"ANO_INGRESSO\": \"NU_ANO_INGRESSO\", \"IN_ING_ENEM\": \"IN_INGRESSO_ENEM\"}, inplace=True)"
      ],
      "execution_count": null,
      "outputs": []
    },
    {
      "cell_type": "code",
      "metadata": {
        "id": "6OrAL3w7T_Ab"
      },
      "source": [
        "df_2013.head()"
      ],
      "execution_count": null,
      "outputs": []
    },
    {
      "cell_type": "markdown",
      "metadata": {
        "id": "4F7bCaMoOZnu"
      },
      "source": [
        "Dados 2012"
      ]
    },
    {
      "cell_type": "code",
      "metadata": {
        "id": "mZn2WnNWE2GK"
      },
      "source": [
        "with zipfile.ZipFile(\"/content/drive/MyDrive/Colab_Notebooks/Projeto Sigalei/microdados_censo_superior_2012.zip\") as z:\n",
        "  print(*z.namelist(), sep=\"\\n\")"
      ],
      "execution_count": null,
      "outputs": []
    },
    {
      "cell_type": "code",
      "metadata": {
        "id": "jG-pSijQOd-k"
      },
      "source": [
        "with zipfile.ZipFile(\"/content/drive/MyDrive/Colab_Notebooks/Projeto Sigalei/microdados_censo_superior_2012.zip\") as z:\n",
        "   with z.open(\"microdados_censo_superior_2012/2012/DADOS/DM_ALUNO/DM_ALUNO.CSV\") as f:\n",
        "    df_2012 = pd.read_csv(f, sep=\"|\",usecols=colunas2)"
      ],
      "execution_count": null,
      "outputs": []
    },
    {
      "cell_type": "code",
      "metadata": {
        "id": "cNs1VqP8Od8R"
      },
      "source": [
        "df_2012[\"NU_ANO_CENSO\"] = 2012"
      ],
      "execution_count": null,
      "outputs": []
    },
    {
      "cell_type": "code",
      "metadata": {
        "id": "IC62BgpBOd5Z"
      },
      "source": [
        "df_2012.rename(columns={\"CO_GRAU_ACADEMICO\": \"TP_GRAU_ACADEMICO\", \"CO_CATEGORIA_ADMINISTRATIVA\": \"TP_CATEGORIA_ADMINISTRATIVA\", \"NU_IDADE_ALUNO\": \"NU_IDADE\", \"CO_NIVEL_ACADEMICO\": \"TP_NIVEL_ACADEMICO\",\n",
        "                        \"CO_MODALIDADE_ENSINO\": \"TP_MODALIDADE_ENSINO\", \"CO_TURNO_ALUNO\": \"TP_TURNO\", \"CO_PAIS_ORIGEM_ALUNO\": \"CO_PAIS_ORIGEM\",\n",
        "                        \"CO_NACIONALIDADE_ALUNO\": \"TP_NACIONALIDADE\", \"IN_SEXO_ALUNO\": \"TP_SEXO\", \"IN_ING_VESTIBULAR\": \"IN_INGRESSO_VESTIBULAR\",\n",
        "                        \"CO_COR_RACA_ALUNO\": \"TP_COR_RACA\", \"CO_ALUNO_SITUACAO\": \"TP_SITUACAO\", \"IN_FINANC_ESTUDANTIL\": \"IN_FINANCIAMENTO_ESTUDANTIL\",\n",
        "                        \"ANO_INGRESSO\": \"NU_ANO_INGRESSO\", \"IN_ING_ENEM\": \"IN_INGRESSO_ENEM\"}, inplace=True)"
      ],
      "execution_count": null,
      "outputs": []
    },
    {
      "cell_type": "code",
      "metadata": {
        "id": "y10YQ9ZfOd2q"
      },
      "source": [
        "df_2012.head()"
      ],
      "execution_count": null,
      "outputs": []
    },
    {
      "cell_type": "markdown",
      "metadata": {
        "id": "MDDxfYh5f8zh"
      },
      "source": [
        "Dados 2011"
      ]
    },
    {
      "cell_type": "code",
      "metadata": {
        "id": "PPS8uUGFf8c7"
      },
      "source": [
        "with zipfile.ZipFile(\"/content/drive/MyDrive/Colab_Notebooks/Projeto Sigalei/microdados_censo_superior_2011.zip\") as z:\n",
        "  print(*z.namelist(), sep=\"\\n\")"
      ],
      "execution_count": null,
      "outputs": []
    },
    {
      "cell_type": "code",
      "metadata": {
        "id": "UABTQaG_Odyk"
      },
      "source": [
        "with zipfile.ZipFile(\"/content/drive/MyDrive/Colab_Notebooks/Projeto Sigalei/microdados_censo_superior_2011.zip\") as z:\n",
        "   with z.open(\"microdados_censo_superior_2011/2011/DADOS/DM_ALUNO/DM_ALUNO.CSV\") as f:\n",
        "    df_2011 = pd.read_csv(f, sep=\"|\",usecols=colunas2)"
      ],
      "execution_count": null,
      "outputs": []
    },
    {
      "cell_type": "code",
      "metadata": {
        "id": "AamukFQJOdvg"
      },
      "source": [
        "df_2011[\"NU_ANO_CENSO\"] = 2011"
      ],
      "execution_count": null,
      "outputs": []
    },
    {
      "cell_type": "code",
      "metadata": {
        "id": "AOxZq7PjTeih"
      },
      "source": [
        "df_2011.rename(columns={\"CO_GRAU_ACADEMICO\": \"TP_GRAU_ACADEMICO\", \"CO_CATEGORIA_ADMINISTRATIVA\": \"TP_CATEGORIA_ADMINISTRATIVA\", \"NU_IDADE_ALUNO\": \"NU_IDADE\", \"CO_NIVEL_ACADEMICO\": \"TP_NIVEL_ACADEMICO\",\n",
        "                        \"CO_MODALIDADE_ENSINO\": \"TP_MODALIDADE_ENSINO\", \"CO_TURNO_ALUNO\": \"TP_TURNO\", \"CO_PAIS_ORIGEM_ALUNO\": \"CO_PAIS_ORIGEM\",\n",
        "                        \"CO_NACIONALIDADE_ALUNO\": \"TP_NACIONALIDADE\", \"IN_SEXO_ALUNO\": \"TP_SEXO\", \"IN_ING_VESTIBULAR\": \"IN_INGRESSO_VESTIBULAR\",\n",
        "                        \"CO_COR_RACA_ALUNO\": \"TP_COR_RACA\", \"CO_ALUNO_SITUACAO\": \"TP_SITUACAO\", \"IN_FINANC_ESTUDANTIL\": \"IN_FINANCIAMENTO_ESTUDANTIL\",\n",
        "                        \"ANO_INGRESSO\": \"NU_ANO_INGRESSO\", \"IN_ING_ENEM\": \"IN_INGRESSO_ENEM\"}, inplace=True)"
      ],
      "execution_count": null,
      "outputs": []
    },
    {
      "cell_type": "code",
      "metadata": {
        "id": "V3CFljW1MV5R"
      },
      "source": [
        "df_2011.head()"
      ],
      "execution_count": null,
      "outputs": []
    },
    {
      "cell_type": "markdown",
      "metadata": {
        "id": "1YAyFiYZMWOt"
      },
      "source": [
        "Dados 2010"
      ]
    },
    {
      "cell_type": "code",
      "metadata": {
        "id": "DSN9iNJ9MVqL"
      },
      "source": [
        "with zipfile.ZipFile(\"/content/drive/MyDrive/Colab_Notebooks/Projeto Sigalei/microdados_censo_superior_2010.zip\") as z:\n",
        "  print(*z.namelist(), sep=\"\\n\")"
      ],
      "execution_count": null,
      "outputs": []
    },
    {
      "cell_type": "code",
      "metadata": {
        "id": "SZQz2SDOMVbI"
      },
      "source": [
        "with zipfile.ZipFile(\"/content/drive/MyDrive/Colab_Notebooks/Projeto Sigalei/microdados_censo_superior_2010.zip\") as z:\n",
        "   with z.open(\"microdados_censo_superior_2010/DADOS/DM_ALUNO/DM_ALUNO.CSV\") as f:\n",
        "    df_2010 = pd.read_csv(f, sep=\"|\",usecols=colunas2)"
      ],
      "execution_count": null,
      "outputs": []
    },
    {
      "cell_type": "code",
      "metadata": {
        "id": "03IhMCMVMVKM"
      },
      "source": [
        "df_2010[\"NU_ANO_CENSO\"] = 2010"
      ],
      "execution_count": null,
      "outputs": []
    },
    {
      "cell_type": "code",
      "metadata": {
        "id": "CD4aOK53MU6I"
      },
      "source": [
        "df_2010.rename(columns={\"CO_GRAU_ACADEMICO\": \"TP_GRAU_ACADEMICO\", \"CO_CATEGORIA_ADMINISTRATIVA\": \"TP_CATEGORIA_ADMINISTRATIVA\", \"NU_IDADE_ALUNO\": \"NU_IDADE\", \"CO_NIVEL_ACADEMICO\": \"TP_NIVEL_ACADEMICO\",\n",
        "                        \"CO_MODALIDADE_ENSINO\": \"TP_MODALIDADE_ENSINO\", \"CO_TURNO_ALUNO\": \"TP_TURNO\", \"CO_PAIS_ORIGEM_ALUNO\": \"CO_PAIS_ORIGEM\",\n",
        "                        \"CO_NACIONALIDADE_ALUNO\": \"TP_NACIONALIDADE\", \"IN_SEXO_ALUNO\": \"TP_SEXO\", \"IN_ING_VESTIBULAR\": \"IN_INGRESSO_VESTIBULAR\",\n",
        "                        \"CO_COR_RACA_ALUNO\": \"TP_COR_RACA\", \"CO_ALUNO_SITUACAO\": \"TP_SITUACAO\", \"IN_FINANC_ESTUDANTIL\": \"IN_FINANCIAMENTO_ESTUDANTIL\",\n",
        "                        \"ANO_INGRESSO\": \"NU_ANO_INGRESSO\", \"IN_ING_ENEM\": \"IN_INGRESSO_ENEM\"}, inplace=True)"
      ],
      "execution_count": null,
      "outputs": []
    },
    {
      "cell_type": "code",
      "metadata": {
        "id": "FYlVxie7NRSQ"
      },
      "source": [
        "df_2010.head()"
      ],
      "execution_count": null,
      "outputs": []
    },
    {
      "cell_type": "markdown",
      "metadata": {
        "id": "55Hc7RQrNUj3"
      },
      "source": [
        "Dados 2009"
      ]
    },
    {
      "cell_type": "code",
      "metadata": {
        "id": "ssY1hCY_NXl3"
      },
      "source": [
        "with zipfile.ZipFile(\"/content/drive/MyDrive/Colab_Notebooks/Projeto Sigalei/microdados_censo_superior_2009.zip\") as z:\n",
        "  print(*z.namelist(), sep=\"\\n\")"
      ],
      "execution_count": null,
      "outputs": []
    },
    {
      "cell_type": "code",
      "metadata": {
        "id": "JePDFi-5U_ay"
      },
      "source": [
        "colunas3 = ['CO_CURSO', 'CO_GRAU_ACADEMICO', 'CO_CATEGORIA_ADMINISTRATIVA','CO_MODALIDADE_ENSINO', \n",
        "            'CO_NIVEL_ACADEMICO', 'CO_COR_RACA_ALUNO', 'IN_SEXO_ALUNO', 'NU_IDADE_ALUNO', 'CO_NACIONALIDADE_ALUNO', \n",
        "           'CO_PAIS_ORIGEM_ALUNO', 'CO_ALUNO_SITUACAO', 'IN_ING_VESTIBULAR', \n",
        "            'IN_ING_ENEM', 'IN_RESERVA_ETNICO', 'IN_RESERVA_ENSINO_PUBLICO', 'IN_RESERVA_RENDA_FAMILIAR', \n",
        "            'IN_FINANC_ESTUDANTIL', 'IN_FIES', 'IN_PROUNI_INTEGRAL', \n",
        "           'IN_PROUNI_PARCIAL', 'IN_APOIO_BOLSA_TRABALHO', 'ANO_INGRESSO'] "
      ],
      "execution_count": null,
      "outputs": []
    },
    {
      "cell_type": "code",
      "metadata": {
        "id": "h7rvU416NXxq"
      },
      "source": [
        "with zipfile.ZipFile(\"/content/drive/MyDrive/Colab_Notebooks/Projeto Sigalei/microdados_censo_superior_2009.zip\") as z:\n",
        "   with z.open(\"microdados_censo_superior_2009/2009/DADOS/DM_ALUNO/DM_ALUNO.CSV\") as f:\n",
        "    df_2009 = pd.read_csv(f, sep=\"|\",usecols=colunas3)"
      ],
      "execution_count": null,
      "outputs": []
    },
    {
      "cell_type": "code",
      "metadata": {
        "id": "-Jf_4vbBNXbT"
      },
      "source": [
        "df_2009[\"CO_UF_NASCIMENTO\"] = 'null'\n",
        "df_2009[\"CO_TURNO_ALUNO\"] = 'null'\n",
        "df_2009[\"NU_ANO_CENSO\"] = 2009"
      ],
      "execution_count": null,
      "outputs": []
    },
    {
      "cell_type": "code",
      "metadata": {
        "id": "2_aiGVk1NXS6"
      },
      "source": [
        "df_2009.head()"
      ],
      "execution_count": null,
      "outputs": []
    },
    {
      "cell_type": "code",
      "metadata": {
        "id": "FxqJ0T7GYVOL"
      },
      "source": [
        "df_2009.rename(columns={\"CO_GRAU_ACADEMICO\": \"TP_GRAU_ACADEMICO\", \"CO_CATEGORIA_ADMINISTRATIVA\": \"TP_CATEGORIA_ADMINISTRATIVA\", \"NU_IDADE_ALUNO\": \"NU_IDADE\", \"CO_NIVEL_ACADEMICO\": \"TP_NIVEL_ACADEMICO\",\n",
        "                        \"CO_MODALIDADE_ENSINO\": \"TP_MODALIDADE_ENSINO\", \"CO_TURNO_ALUNO\": \"TP_TURNO\", \"CO_PAIS_ORIGEM_ALUNO\": \"CO_PAIS_ORIGEM\",\n",
        "                        \"CO_NACIONALIDADE_ALUNO\": \"TP_NACIONALIDADE\", \"IN_SEXO_ALUNO\": \"TP_SEXO\", \"IN_ING_VESTIBULAR\": \"IN_INGRESSO_VESTIBULAR\",\n",
        "                        \"CO_COR_RACA_ALUNO\": \"TP_COR_RACA\", \"CO_ALUNO_SITUACAO\": \"TP_SITUACAO\", \"IN_FINANC_ESTUDANTIL\": \"IN_FINANCIAMENTO_ESTUDANTIL\",\n",
        "                        \"ANO_INGRESSO\": \"NU_ANO_INGRESSO\", \"IN_ING_ENEM\": \"IN_INGRESSO_ENEM\", \"IN_APOIO_BOLSA_TRABALHO\": \"IN_BOLSA_ESTAGIO\",\n",
        "                        \"IN_PROUNI_PARCIAL\": \"IN_FIN_NAOREEMB_PROUNI_PARCIAL\", \"IN_PROUNI_INTEGRAL\": \"IN_FIN_NAOREEMB_PROUNI_INTEGR\", \"IN_FIES\": \"'IN_FIN_REEMB_FIES\"}, inplace=True)"
      ],
      "execution_count": null,
      "outputs": []
    },
    {
      "cell_type": "markdown",
      "metadata": {
        "id": "AJBtMHqwPXcz"
      },
      "source": [
        "Juntando os dados de todos os anos"
      ]
    },
    {
      "cell_type": "code",
      "metadata": {
        "id": "bfH1Il0vNW7c"
      },
      "source": [
        "anos = [df_2009, df_2010, df_2011, df_2012, df_2013, df_2014, df_2015, df_2016, df_2017, df_2018, df_2019]\n",
        "df_anos = pd.concat(anos)"
      ],
      "execution_count": null,
      "outputs": []
    },
    {
      "cell_type": "code",
      "metadata": {
        "id": "iHFCq0_-NWw-"
      },
      "source": [
        "df_anos.head()"
      ],
      "execution_count": null,
      "outputs": []
    },
    {
      "cell_type": "markdown",
      "metadata": {
        "id": "wcVsW-PPTdzw"
      },
      "source": [
        "Carregando o dataset com o nome dos cursos"
      ]
    },
    {
      "cell_type": "code",
      "metadata": {
        "id": "5Z6WNck-RGzT"
      },
      "source": [
        "with zipfile.ZipFile(\"/content/drive/MyDrive/Colab_Notebooks/Projeto Sigalei/microdados_educacao_superior_2019.zip\") as z:\n",
        "  with z.open(\"Microdados_Educaç╞o_Superior_2019/dados/SUP_CURSO_2019.CSV\") as f:\n",
        "    df_curso = pd.read_csv(f, sep=\"|\",usecols=[\"CO_CURSO\", \"NO_CURSO\"], encoding=\"ISO-8859-1\")"
      ],
      "execution_count": null,
      "outputs": []
    },
    {
      "cell_type": "code",
      "metadata": {
        "id": "JuhJvZW-Odp5"
      },
      "source": [
        "df_curso.head()"
      ],
      "execution_count": null,
      "outputs": []
    },
    {
      "cell_type": "markdown",
      "metadata": {
        "id": "71oUWAt5quMz"
      },
      "source": [
        "# Análise Exploratória"
      ]
    },
    {
      "cell_type": "markdown",
      "metadata": {
        "id": "s-tRARoNVgdS"
      },
      "source": [
        "Juntar os datasets do censo com o nome dos cursos"
      ]
    },
    {
      "cell_type": "code",
      "metadata": {
        "id": "EAAdyEWAVe12"
      },
      "source": [
        "df_completo = pd.merge(df_anos, df_curso, on=\"CO_CURSO\")"
      ],
      "execution_count": null,
      "outputs": []
    },
    {
      "cell_type": "code",
      "metadata": {
        "id": "T7XLmyxDRW4Q"
      },
      "source": [
        "df_completo.head()"
      ],
      "execution_count": null,
      "outputs": []
    },
    {
      "cell_type": "code",
      "metadata": {
        "id": "WrI-3zYza_0v"
      },
      "source": [
        "df_completo.shape"
      ],
      "execution_count": null,
      "outputs": []
    },
    {
      "cell_type": "code",
      "metadata": {
        "id": "pfpGC9NBpwfi"
      },
      "source": [
        "df_completo.describe()"
      ],
      "execution_count": null,
      "outputs": []
    },
    {
      "cell_type": "code",
      "metadata": {
        "id": "UiPyBTrTpzWX"
      },
      "source": [
        "df.info()"
      ],
      "execution_count": null,
      "outputs": []
    },
    {
      "cell_type": "code",
      "metadata": {
        "id": "gSP48gzDq7lY"
      },
      "source": [
        "df.isnull().sum().sort_values(ascending=False)"
      ],
      "execution_count": null,
      "outputs": []
    },
    {
      "cell_type": "markdown",
      "metadata": {
        "id": "dw4IwM9oiVqc"
      },
      "source": [
        "Quantidade de negros"
      ]
    },
    {
      "cell_type": "code",
      "metadata": {
        "id": "QgfrI6Y8bETw"
      },
      "source": [
        "df_completo.TP_COR_RACA.value_counts()"
      ],
      "execution_count": null,
      "outputs": []
    },
    {
      "cell_type": "markdown",
      "metadata": {
        "id": "sEFOrCPy-8fu"
      },
      "source": [
        "Porcentagem de negros"
      ]
    },
    {
      "cell_type": "code",
      "metadata": {
        "id": "k03vwPNgnBPW"
      },
      "source": [
        "df_completo.TP_COR_RACA.value_counts(normalize=True)"
      ],
      "execution_count": null,
      "outputs": []
    },
    {
      "cell_type": "code",
      "metadata": {
        "id": "iEfM7SM1b9xJ"
      },
      "source": [
        "df_completo.TP_COR_RACA.value_counts().plot.pie(wedgeprops=dict(width=0.4), startangle=-40, explode = (0, 0, 0.1, 0, 0, 0, 0), autopct = '%1.2f%%')"
      ],
      "execution_count": null,
      "outputs": []
    },
    {
      "cell_type": "code",
      "metadata": {
        "id": "Acuy2aKwnKGG"
      },
      "source": [
        "df_completo.TP_SEXO.value_counts(normalize=True)"
      ],
      "execution_count": null,
      "outputs": []
    },
    {
      "cell_type": "code",
      "metadata": {
        "id": "CT75DZ_vdtMn"
      },
      "source": [
        "plt.style.use(\"fivethirtyeight\")\n",
        "plt.figure(figsize=(12, 6))\n",
        "sns.barplot(x=df_completo.TP_SEXO.value_counts(), y=df_completo.TP_SEXO.value_counts().index)\n",
        "plt.title(\"Quantidade de alunos por Sexo\")\n",
        "\n",
        "plt.show()"
      ],
      "execution_count": null,
      "outputs": []
    },
    {
      "cell_type": "markdown",
      "metadata": {
        "id": "GG9KnucKAJNZ"
      },
      "source": [
        "Cursos com maior registros de matriculas"
      ]
    },
    {
      "cell_type": "code",
      "metadata": {
        "id": "L5M_N8w8nSgf"
      },
      "source": [
        "df_completo.NO_CURSO.value_counts().head(20)"
      ],
      "execution_count": null,
      "outputs": []
    },
    {
      "cell_type": "code",
      "metadata": {
        "id": "nHx3rGHSADLj"
      },
      "source": [
        "df_completo.NO_CURSO.value_counts().head(20).plot.bar()"
      ],
      "execution_count": null,
      "outputs": []
    },
    {
      "cell_type": "code",
      "metadata": {
        "id": "lgwvu7yhemqP"
      },
      "source": [
        "plt.figure(figsize=(12, 6))\n",
        "sns.barplot(x=df_completo.NO_CURSO.value_counts().head(20), y=df_completo.NO_CURSO.value_counts().head(20).index)\n",
        "plt.title(\"Cursos com maior quantidade de alunos\")\n",
        "plt.show()"
      ],
      "execution_count": null,
      "outputs": []
    },
    {
      "cell_type": "markdown",
      "metadata": {
        "id": "VahMEFNgA9nk"
      },
      "source": [
        "Turno mais frequentado pelos alunos"
      ]
    },
    {
      "cell_type": "code",
      "metadata": {
        "id": "5w4qlvOfox4l"
      },
      "source": [
        "df_completo.TP_TURNO.value_counts()"
      ],
      "execution_count": null,
      "outputs": []
    },
    {
      "cell_type": "markdown",
      "metadata": {
        "id": "8QBw_SXtBTeY"
      },
      "source": [
        "Descrição das idades dos alunos"
      ]
    },
    {
      "cell_type": "code",
      "metadata": {
        "id": "wP_0qwFqo5tM"
      },
      "source": [
        "df_completo.NU_IDADE.describe()"
      ],
      "execution_count": null,
      "outputs": []
    },
    {
      "cell_type": "markdown",
      "metadata": {
        "id": "-FLlalqBbtv2"
      },
      "source": [
        "Distribuição das idades dos aluno"
      ]
    },
    {
      "cell_type": "code",
      "metadata": {
        "id": "Lu3ZAFWpbj7u"
      },
      "source": [
        "df_completo.NU_IDADE.hist(bins=30, figsize=(10, 8))"
      ],
      "execution_count": null,
      "outputs": []
    },
    {
      "cell_type": "markdown",
      "metadata": {
        "id": "Q4rOlU9BO1Ej"
      },
      "source": [
        "Objetivos:\n",
        "\n",
        "Analisar o impacto da presença de pretos e pardos no curso superior\n",
        "\n",
        "Algumas análise que podem ser interessantes\n",
        "- Total de negros matriculados em universidades\n",
        "- Total de negros matriculados em universidades públicas\n",
        "- Total e proporção de negros matriculados por tipo de curso em universidades públicas"
      ]
    },
    {
      "cell_type": "code",
      "metadata": {
        "id": "2qHkkpNm9na3"
      },
      "source": [
        "df_negros = df_completo.query(\"TP_COR_RACA == 2\")"
      ],
      "execution_count": null,
      "outputs": []
    },
    {
      "cell_type": "code",
      "metadata": {
        "id": "zPWa01-8h-CX"
      },
      "source": [
        "df_negros.NO_CURSO.value_counts().head(20)"
      ],
      "execution_count": null,
      "outputs": []
    },
    {
      "cell_type": "code",
      "metadata": {
        "id": "fmqDYHypB2MF"
      },
      "source": [
        "df_negros.NU_IDADE.describe()"
      ],
      "execution_count": null,
      "outputs": []
    },
    {
      "cell_type": "code",
      "metadata": {
        "id": "CmxyPHDsB_Rp"
      },
      "source": [
        "df_negros.TP_SEXO.value_counts(normalize=True)"
      ],
      "execution_count": null,
      "outputs": []
    },
    {
      "cell_type": "code",
      "metadata": {
        "id": "qCxv69w0CXKd"
      },
      "source": [
        "plt.figure(figsize=(12, 8))\n",
        "df_negros.TP_SEXO.value_counts(normalize=True).plot.pie(autopct = '%1.2f%%')"
      ],
      "execution_count": null,
      "outputs": []
    },
    {
      "cell_type": "code",
      "metadata": {
        "id": "7hmgS6XejJR7"
      },
      "source": [
        "df_negros.NO_CURSO.value_counts().head(20)"
      ],
      "execution_count": null,
      "outputs": []
    },
    {
      "cell_type": "code",
      "metadata": {
        "id": "yla35zIQjnZu"
      },
      "source": [
        "plt.figure(figsize=(12, 6))\n",
        "sns.barplot(x=df_negros.NO_CURSO.value_counts().head(20), y=df_negros.NO_CURSO.value_counts().head(20).index)\n",
        "plt.title(\"Cursos com maior presença de alunos negros\")\n",
        "plt.show()"
      ],
      "execution_count": null,
      "outputs": []
    },
    {
      "cell_type": "markdown",
      "metadata": {
        "id": "SQ-OlDBJ85xb"
      },
      "source": [
        "Distribuição de Categoria de Universidades"
      ]
    },
    {
      "cell_type": "markdown",
      "metadata": {
        "id": "p42qDA3x-CB-"
      },
      "source": [
        "Verificando a quantidade de Alunos negros que ingressam em faculdades públicas, de âmbito nacional, estadual e municipal"
      ]
    },
    {
      "cell_type": "code",
      "metadata": {
        "id": "al9jz5ptgpFV"
      },
      "source": [
        "df_completo.query(\"TP_CATEGORIA_ADMINISTRATIVA == 1 or TP_CATEGORIA_ADMINISTRATIVA == 2 or TP_CATEGORIA_ADMINISTRATIVA == 3\")[\"TP_COR_RACA\"].value_counts()"
      ],
      "execution_count": null,
      "outputs": []
    },
    {
      "cell_type": "code",
      "metadata": {
        "id": "Bt2O1ESF7mNI"
      },
      "source": [
        "uni_publica = df_completo.query(\"TP_CATEGORIA_ADMINISTRATIVA == 1 or TP_CATEGORIA_ADMINISTRATIVA == 2 or TP_CATEGORIA_ADMINISTRATIVA == 3\")"
      ],
      "execution_count": null,
      "outputs": []
    },
    {
      "cell_type": "code",
      "metadata": {
        "id": "zic8ZaVXgRf2"
      },
      "source": [
        "uni_publica.TP_COR_RACA.value_counts()"
      ],
      "execution_count": null,
      "outputs": []
    },
    {
      "cell_type": "code",
      "metadata": {
        "id": "Nf4zG834i1HX"
      },
      "source": [
        "uni_publica.TP_COR_RACA.value_counts(normalize=True)"
      ],
      "execution_count": null,
      "outputs": []
    },
    {
      "cell_type": "markdown",
      "metadata": {
        "id": "Jn3s9VP6v2M0"
      },
      "source": [
        "Agrupamento de alunos de escolas publicas por curso e raça"
      ]
    },
    {
      "cell_type": "code",
      "metadata": {
        "id": "ERTXj-CCo8hA"
      },
      "source": [
        "agrupado_publica = uni_publica[['NO_CURSO', 'TP_COR_RACA']].groupby([uni_publica['NO_CURSO'], uni_publica['TP_COR_RACA']])\n",
        "agrupado_publica.sum().head(50)"
      ],
      "execution_count": null,
      "outputs": []
    },
    {
      "cell_type": "markdown",
      "metadata": {
        "id": "4ErPW3GZyhgW"
      },
      "source": [
        "## Resultado da análise"
      ]
    },
    {
      "cell_type": "markdown",
      "metadata": {
        "id": "MrgE_RyuylOS"
      },
      "source": [
        ""
      ]
    },
    {
      "cell_type": "code",
      "metadata": {
        "id": "X0k2y1-_ykT7"
      },
      "source": [
        ""
      ],
      "execution_count": null,
      "outputs": []
    }
  ]
}