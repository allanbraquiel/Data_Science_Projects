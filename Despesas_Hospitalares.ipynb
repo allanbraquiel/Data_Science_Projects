{
  "nbformat": 4,
  "nbformat_minor": 0,
  "metadata": {
    "colab": {
      "name": "Despesas Hospitalares.ipynb",
      "provenance": [],
      "mount_file_id": "1TbAalSds2fuK42xJFnHCgEtfpyGsiz5n",
      "authorship_tag": "ABX9TyM9hHvEsVANQEW4MNmcygtr",
      "include_colab_link": true
    },
    "kernelspec": {
      "name": "python3",
      "display_name": "Python 3"
    }
  },
  "cells": [
    {
      "cell_type": "markdown",
      "metadata": {
        "id": "view-in-github",
        "colab_type": "text"
      },
      "source": [
        "<a href=\"https://colab.research.google.com/github/allanbraquiel/Notebooks/blob/master/Despesas_Hospitalares.ipynb\" target=\"_parent\"><img src=\"https://colab.research.google.com/assets/colab-badge.svg\" alt=\"Open In Colab\"/></a>"
      ]
    },
    {
      "cell_type": "code",
      "metadata": {
        "id": "Kf_aWAHpGL2O",
        "colab_type": "code",
        "colab": {}
      },
      "source": [
        "import pandas as pd\n",
        "import numpy as np"
      ],
      "execution_count": 1,
      "outputs": []
    },
    {
      "cell_type": "code",
      "metadata": {
        "id": "8qKr05HtGpSH",
        "colab_type": "code",
        "colab": {}
      },
      "source": [
        "df = pd.read_csv(\"/content/drive/My Drive/Colab_Notebooks/Projeto Despesas Hospitalares/despesas.csv\")"
      ],
      "execution_count": 2,
      "outputs": []
    },
    {
      "cell_type": "code",
      "metadata": {
        "id": "zQ9KhsWhG-Ic",
        "colab_type": "code",
        "colab": {
          "base_uri": "https://localhost:8080/",
          "height": 359
        },
        "outputId": "fcbbf636-1252-4c73-c9ca-706d693c137b"
      },
      "source": [
        "df.head(10)"
      ],
      "execution_count": 3,
      "outputs": [
        {
          "output_type": "execute_result",
          "data": {
            "text/html": [
              "<div>\n",
              "<style scoped>\n",
              "    .dataframe tbody tr th:only-of-type {\n",
              "        vertical-align: middle;\n",
              "    }\n",
              "\n",
              "    .dataframe tbody tr th {\n",
              "        vertical-align: top;\n",
              "    }\n",
              "\n",
              "    .dataframe thead th {\n",
              "        text-align: right;\n",
              "    }\n",
              "</style>\n",
              "<table border=\"1\" class=\"dataframe\">\n",
              "  <thead>\n",
              "    <tr style=\"text-align: right;\">\n",
              "      <th></th>\n",
              "      <th>idade</th>\n",
              "      <th>sexo</th>\n",
              "      <th>bmi</th>\n",
              "      <th>filhos</th>\n",
              "      <th>fumantes</th>\n",
              "      <th>regiao</th>\n",
              "      <th>gastos</th>\n",
              "    </tr>\n",
              "  </thead>\n",
              "  <tbody>\n",
              "    <tr>\n",
              "      <th>0</th>\n",
              "      <td>19</td>\n",
              "      <td>mulher</td>\n",
              "      <td>27.9</td>\n",
              "      <td>0</td>\n",
              "      <td>sim</td>\n",
              "      <td>sudeste</td>\n",
              "      <td>16884.92</td>\n",
              "    </tr>\n",
              "    <tr>\n",
              "      <th>1</th>\n",
              "      <td>18</td>\n",
              "      <td>homem</td>\n",
              "      <td>33.8</td>\n",
              "      <td>1</td>\n",
              "      <td>nao</td>\n",
              "      <td>sul</td>\n",
              "      <td>1725.55</td>\n",
              "    </tr>\n",
              "    <tr>\n",
              "      <th>2</th>\n",
              "      <td>28</td>\n",
              "      <td>homem</td>\n",
              "      <td>33.0</td>\n",
              "      <td>3</td>\n",
              "      <td>nao</td>\n",
              "      <td>sul</td>\n",
              "      <td>4449.46</td>\n",
              "    </tr>\n",
              "    <tr>\n",
              "      <th>3</th>\n",
              "      <td>33</td>\n",
              "      <td>homem</td>\n",
              "      <td>22.7</td>\n",
              "      <td>0</td>\n",
              "      <td>nao</td>\n",
              "      <td>nordeste</td>\n",
              "      <td>21984.47</td>\n",
              "    </tr>\n",
              "    <tr>\n",
              "      <th>4</th>\n",
              "      <td>32</td>\n",
              "      <td>homem</td>\n",
              "      <td>28.9</td>\n",
              "      <td>0</td>\n",
              "      <td>nao</td>\n",
              "      <td>nordeste</td>\n",
              "      <td>3866.86</td>\n",
              "    </tr>\n",
              "    <tr>\n",
              "      <th>5</th>\n",
              "      <td>31</td>\n",
              "      <td>mulher</td>\n",
              "      <td>25.7</td>\n",
              "      <td>0</td>\n",
              "      <td>nao</td>\n",
              "      <td>sul</td>\n",
              "      <td>3756.62</td>\n",
              "    </tr>\n",
              "    <tr>\n",
              "      <th>6</th>\n",
              "      <td>46</td>\n",
              "      <td>mulher</td>\n",
              "      <td>33.4</td>\n",
              "      <td>1</td>\n",
              "      <td>nao</td>\n",
              "      <td>sul</td>\n",
              "      <td>8240.59</td>\n",
              "    </tr>\n",
              "    <tr>\n",
              "      <th>7</th>\n",
              "      <td>37</td>\n",
              "      <td>mulher</td>\n",
              "      <td>27.7</td>\n",
              "      <td>3</td>\n",
              "      <td>nao</td>\n",
              "      <td>nordeste</td>\n",
              "      <td>7281.51</td>\n",
              "    </tr>\n",
              "    <tr>\n",
              "      <th>8</th>\n",
              "      <td>37</td>\n",
              "      <td>homem</td>\n",
              "      <td>29.8</td>\n",
              "      <td>2</td>\n",
              "      <td>nao</td>\n",
              "      <td>norte</td>\n",
              "      <td>6406.41</td>\n",
              "    </tr>\n",
              "    <tr>\n",
              "      <th>9</th>\n",
              "      <td>60</td>\n",
              "      <td>mulher</td>\n",
              "      <td>25.8</td>\n",
              "      <td>0</td>\n",
              "      <td>nao</td>\n",
              "      <td>nordeste</td>\n",
              "      <td>28923.14</td>\n",
              "    </tr>\n",
              "  </tbody>\n",
              "</table>\n",
              "</div>"
            ],
            "text/plain": [
              "   idade    sexo   bmi  filhos fumantes    regiao    gastos\n",
              "0     19  mulher  27.9       0      sim   sudeste  16884.92\n",
              "1     18   homem  33.8       1      nao       sul   1725.55\n",
              "2     28   homem  33.0       3      nao       sul   4449.46\n",
              "3     33   homem  22.7       0      nao  nordeste  21984.47\n",
              "4     32   homem  28.9       0      nao  nordeste   3866.86\n",
              "5     31  mulher  25.7       0      nao       sul   3756.62\n",
              "6     46  mulher  33.4       1      nao       sul   8240.59\n",
              "7     37  mulher  27.7       3      nao  nordeste   7281.51\n",
              "8     37   homem  29.8       2      nao     norte   6406.41\n",
              "9     60  mulher  25.8       0      nao  nordeste  28923.14"
            ]
          },
          "metadata": {
            "tags": []
          },
          "execution_count": 3
        }
      ]
    },
    {
      "cell_type": "code",
      "metadata": {
        "id": "X_OIvj261no3",
        "colab_type": "code",
        "colab": {
          "base_uri": "https://localhost:8080/",
          "height": 170
        },
        "outputId": "4badf278-476d-4af5-aa33-f964c333bb70"
      },
      "source": [
        "df.gastos.describe()"
      ],
      "execution_count": 4,
      "outputs": [
        {
          "output_type": "execute_result",
          "data": {
            "text/plain": [
              "count     1338.000000\n",
              "mean     13270.422414\n",
              "std      12110.011240\n",
              "min       1121.870000\n",
              "25%       4740.287500\n",
              "50%       9382.030000\n",
              "75%      16639.915000\n",
              "max      63770.430000\n",
              "Name: gastos, dtype: float64"
            ]
          },
          "metadata": {
            "tags": []
          },
          "execution_count": 4
        }
      ]
    },
    {
      "cell_type": "code",
      "metadata": {
        "id": "wqobvWZMG_xr",
        "colab_type": "code",
        "colab": {
          "base_uri": "https://localhost:8080/",
          "height": 255
        },
        "outputId": "f99abbb1-001d-48e5-c4a8-ee37065bc492"
      },
      "source": [
        "df.info()"
      ],
      "execution_count": 5,
      "outputs": [
        {
          "output_type": "stream",
          "text": [
            "<class 'pandas.core.frame.DataFrame'>\n",
            "RangeIndex: 1338 entries, 0 to 1337\n",
            "Data columns (total 7 columns):\n",
            " #   Column    Non-Null Count  Dtype  \n",
            "---  ------    --------------  -----  \n",
            " 0   idade     1338 non-null   int64  \n",
            " 1   sexo      1338 non-null   object \n",
            " 2   bmi       1338 non-null   float64\n",
            " 3   filhos    1338 non-null   int64  \n",
            " 4   fumantes  1338 non-null   object \n",
            " 5   regiao    1338 non-null   object \n",
            " 6   gastos    1338 non-null   float64\n",
            "dtypes: float64(2), int64(2), object(3)\n",
            "memory usage: 73.3+ KB\n"
          ],
          "name": "stdout"
        }
      ]
    },
    {
      "cell_type": "code",
      "metadata": {
        "id": "kvjnYVU-MZQB",
        "colab_type": "code",
        "colab": {}
      },
      "source": [
        "df.sexo = df.sexo.astype(\"category\")\n",
        "df.fumantes = df.fumantes.astype(\"category\")\n",
        "df.regiao = df.regiao.astype(\"category\")"
      ],
      "execution_count": 6,
      "outputs": []
    },
    {
      "cell_type": "code",
      "metadata": {
        "id": "lh4B-bsHM2lP",
        "colab_type": "code",
        "colab": {
          "base_uri": "https://localhost:8080/",
          "height": 255
        },
        "outputId": "023f4dce-7e3c-4aaf-c14c-927e4a53a87b"
      },
      "source": [
        "df.info()"
      ],
      "execution_count": 7,
      "outputs": [
        {
          "output_type": "stream",
          "text": [
            "<class 'pandas.core.frame.DataFrame'>\n",
            "RangeIndex: 1338 entries, 0 to 1337\n",
            "Data columns (total 7 columns):\n",
            " #   Column    Non-Null Count  Dtype   \n",
            "---  ------    --------------  -----   \n",
            " 0   idade     1338 non-null   int64   \n",
            " 1   sexo      1338 non-null   category\n",
            " 2   bmi       1338 non-null   float64 \n",
            " 3   filhos    1338 non-null   int64   \n",
            " 4   fumantes  1338 non-null   category\n",
            " 5   regiao    1338 non-null   category\n",
            " 6   gastos    1338 non-null   float64 \n",
            "dtypes: category(3), float64(2), int64(2)\n",
            "memory usage: 46.2 KB\n"
          ],
          "name": "stdout"
        }
      ]
    },
    {
      "cell_type": "code",
      "metadata": {
        "id": "FuuqnBLpHxxz",
        "colab_type": "code",
        "colab": {}
      },
      "source": [
        "import matplotlib.pyplot as plt\n",
        "%matplotlib inline"
      ],
      "execution_count": 8,
      "outputs": []
    },
    {
      "cell_type": "code",
      "metadata": {
        "id": "9pk0P2HuJG3B",
        "colab_type": "code",
        "colab": {
          "base_uri": "https://localhost:8080/",
          "height": 366
        },
        "outputId": "a7183b1e-88bc-473f-f2c0-c97346e96dad"
      },
      "source": [
        "df.hist()"
      ],
      "execution_count": 9,
      "outputs": [
        {
          "output_type": "execute_result",
          "data": {
            "text/plain": [
              "array([[<matplotlib.axes._subplots.AxesSubplot object at 0x7f1585846a20>,\n",
              "        <matplotlib.axes._subplots.AxesSubplot object at 0x7f158581fcf8>],\n",
              "       [<matplotlib.axes._subplots.AxesSubplot object at 0x7f15857d7f60>,\n",
              "        <matplotlib.axes._subplots.AxesSubplot object at 0x7f1585797208>]],\n",
              "      dtype=object)"
            ]
          },
          "metadata": {
            "tags": []
          },
          "execution_count": 9
        },
        {
          "output_type": "display_data",
          "data": {
            "image/png": "[encoded data removed]",
            "text/plain": [
              "<Figure size 432x288 with 4 Axes>"
            ]
          },
          "metadata": {
            "tags": [],
            "needs_background": "light"
          }
        }
      ]
    },
    {
      "cell_type": "code",
      "metadata": {
        "id": "Fhhflzz7JIap",
        "colab_type": "code",
        "colab": {
          "base_uri": "https://localhost:8080/",
          "height": 102
        },
        "outputId": "528523e9-84c8-4b3f-a3a5-457431496529"
      },
      "source": [
        "df.regiao.value_counts()"
      ],
      "execution_count": 10,
      "outputs": [
        {
          "output_type": "execute_result",
          "data": {
            "text/plain": [
              "sul         364\n",
              "sudeste     325\n",
              "nordeste    325\n",
              "norte       324\n",
              "Name: regiao, dtype: int64"
            ]
          },
          "metadata": {
            "tags": []
          },
          "execution_count": 10
        }
      ]
    },
    {
      "cell_type": "code",
      "metadata": {
        "id": "rU8w-3wPJZVZ",
        "colab_type": "code",
        "colab": {
          "base_uri": "https://localhost:8080/",
          "height": 173
        },
        "outputId": "56785ae6-a8a9-4237-d483-594ab159c4f5"
      },
      "source": [
        "df.corr()"
      ],
      "execution_count": 11,
      "outputs": [
        {
          "output_type": "execute_result",
          "data": {
            "text/html": [
              "<div>\n",
              "<style scoped>\n",
              "    .dataframe tbody tr th:only-of-type {\n",
              "        vertical-align: middle;\n",
              "    }\n",
              "\n",
              "    .dataframe tbody tr th {\n",
              "        vertical-align: top;\n",
              "    }\n",
              "\n",
              "    .dataframe thead th {\n",
              "        text-align: right;\n",
              "    }\n",
              "</style>\n",
              "<table border=\"1\" class=\"dataframe\">\n",
              "  <thead>\n",
              "    <tr style=\"text-align: right;\">\n",
              "      <th></th>\n",
              "      <th>idade</th>\n",
              "      <th>bmi</th>\n",
              "      <th>filhos</th>\n",
              "      <th>gastos</th>\n",
              "    </tr>\n",
              "  </thead>\n",
              "  <tbody>\n",
              "    <tr>\n",
              "      <th>idade</th>\n",
              "      <td>1.000000</td>\n",
              "      <td>0.109341</td>\n",
              "      <td>0.042469</td>\n",
              "      <td>0.299008</td>\n",
              "    </tr>\n",
              "    <tr>\n",
              "      <th>bmi</th>\n",
              "      <td>0.109341</td>\n",
              "      <td>1.000000</td>\n",
              "      <td>0.012645</td>\n",
              "      <td>0.198576</td>\n",
              "    </tr>\n",
              "    <tr>\n",
              "      <th>filhos</th>\n",
              "      <td>0.042469</td>\n",
              "      <td>0.012645</td>\n",
              "      <td>1.000000</td>\n",
              "      <td>0.067998</td>\n",
              "    </tr>\n",
              "    <tr>\n",
              "      <th>gastos</th>\n",
              "      <td>0.299008</td>\n",
              "      <td>0.198576</td>\n",
              "      <td>0.067998</td>\n",
              "      <td>1.000000</td>\n",
              "    </tr>\n",
              "  </tbody>\n",
              "</table>\n",
              "</div>"
            ],
            "text/plain": [
              "           idade       bmi    filhos    gastos\n",
              "idade   1.000000  0.109341  0.042469  0.299008\n",
              "bmi     0.109341  1.000000  0.012645  0.198576\n",
              "filhos  0.042469  0.012645  1.000000  0.067998\n",
              "gastos  0.299008  0.198576  0.067998  1.000000"
            ]
          },
          "metadata": {
            "tags": []
          },
          "execution_count": 11
        }
      ]
    },
    {
      "cell_type": "code",
      "metadata": {
        "id": "5U49n7aMJwAR",
        "colab_type": "code",
        "colab": {
          "base_uri": "https://localhost:8080/",
          "height": 153
        },
        "outputId": "2a82d3aa-6149-451b-82c7-5a4968f16220"
      },
      "source": [
        "df.isnull().sum()"
      ],
      "execution_count": 12,
      "outputs": [
        {
          "output_type": "execute_result",
          "data": {
            "text/plain": [
              "idade       0\n",
              "sexo        0\n",
              "bmi         0\n",
              "filhos      0\n",
              "fumantes    0\n",
              "regiao      0\n",
              "gastos      0\n",
              "dtype: int64"
            ]
          },
          "metadata": {
            "tags": []
          },
          "execution_count": 12
        }
      ]
    },
    {
      "cell_type": "code",
      "metadata": {
        "id": "aIPYlI8FJ9sw",
        "colab_type": "code",
        "colab": {
          "base_uri": "https://localhost:8080/",
          "height": 405
        },
        "outputId": "c8f6323d-4c2c-4b4f-fa4a-159eeadd5746"
      },
      "source": [
        "figure = plt.figure(figsize=(9,6))\n",
        "plt.scatter(df['idade'], df['gastos'])\n",
        "plt.xlabel('Idade')\n",
        "plt.ylabel('Gastos')"
      ],
      "execution_count": 13,
      "outputs": [
        {
          "output_type": "execute_result",
          "data": {
            "text/plain": [
              "Text(0, 0.5, 'Gastos')"
            ]
          },
          "metadata": {
            "tags": []
          },
          "execution_count": 13
        },
        {
          "output_type": "display_data",
          "data": {
            "image/png": "[encoded data removed]",
            "text/plain": [
              "<Figure size 648x432 with 1 Axes>"
            ]
          },
          "metadata": {
            "tags": [],
            "needs_background": "light"
          }
        }
      ]
    },
    {
      "cell_type": "code",
      "metadata": {
        "id": "GrW34HqZKkbw",
        "colab_type": "code",
        "colab": {
          "base_uri": "https://localhost:8080/",
          "height": 405
        },
        "outputId": "856dd672-2cce-420b-af85-397043399edf"
      },
      "source": [
        "figure = plt.figure(figsize=(9,6))\n",
        "plt.scatter(np.log(df['idade']), np.log(df['gastos']))\n",
        "plt.xlabel('idade')\n",
        "plt.ylabel('gastos')"
      ],
      "execution_count": 14,
      "outputs": [
        {
          "output_type": "execute_result",
          "data": {
            "text/plain": [
              "Text(0, 0.5, 'gastos')"
            ]
          },
          "metadata": {
            "tags": []
          },
          "execution_count": 14
        },
        {
          "output_type": "display_data",
          "data": {
            "image/png": "[encoded data removed]",
            "text/plain": [
              "<Figure size 648x432 with 1 Axes>"
            ]
          },
          "metadata": {
            "tags": [],
            "needs_background": "light"
          }
        }
      ]
    },
    {
      "cell_type": "code",
      "metadata": {
        "id": "OUvtl0t6M-9l",
        "colab_type": "code",
        "colab": {}
      },
      "source": [
        "from sklearn.preprocessing import LabelEncoder\n",
        "\n",
        "label_encoder1 = LabelEncoder()\n",
        "label_encoder2 = LabelEncoder()\n",
        "label_encoder3 = LabelEncoder()"
      ],
      "execution_count": 15,
      "outputs": []
    },
    {
      "cell_type": "code",
      "metadata": {
        "id": "VSrFVFQTM-0D",
        "colab_type": "code",
        "colab": {}
      },
      "source": [
        "df.sexo = label_encoder1.fit_transform(df.sexo)\n",
        "df.fumantes = label_encoder2.fit_transform(df.fumantes)\n",
        "df.regiao = label_encoder3.fit_transform(df.regiao)"
      ],
      "execution_count": 16,
      "outputs": []
    },
    {
      "cell_type": "code",
      "metadata": {
        "id": "acr90XJyPHU1",
        "colab_type": "code",
        "colab": {
          "base_uri": "https://localhost:8080/",
          "height": 204
        },
        "outputId": "4fd3ed73-5584-4459-b385-64b465d9ba8b"
      },
      "source": [
        "df.head()"
      ],
      "execution_count": 17,
      "outputs": [
        {
          "output_type": "execute_result",
          "data": {
            "text/html": [
              "<div>\n",
              "<style scoped>\n",
              "    .dataframe tbody tr th:only-of-type {\n",
              "        vertical-align: middle;\n",
              "    }\n",
              "\n",
              "    .dataframe tbody tr th {\n",
              "        vertical-align: top;\n",
              "    }\n",
              "\n",
              "    .dataframe thead th {\n",
              "        text-align: right;\n",
              "    }\n",
              "</style>\n",
              "<table border=\"1\" class=\"dataframe\">\n",
              "  <thead>\n",
              "    <tr style=\"text-align: right;\">\n",
              "      <th></th>\n",
              "      <th>idade</th>\n",
              "      <th>sexo</th>\n",
              "      <th>bmi</th>\n",
              "      <th>filhos</th>\n",
              "      <th>fumantes</th>\n",
              "      <th>regiao</th>\n",
              "      <th>gastos</th>\n",
              "    </tr>\n",
              "  </thead>\n",
              "  <tbody>\n",
              "    <tr>\n",
              "      <th>0</th>\n",
              "      <td>19</td>\n",
              "      <td>1</td>\n",
              "      <td>27.9</td>\n",
              "      <td>0</td>\n",
              "      <td>1</td>\n",
              "      <td>2</td>\n",
              "      <td>16884.92</td>\n",
              "    </tr>\n",
              "    <tr>\n",
              "      <th>1</th>\n",
              "      <td>18</td>\n",
              "      <td>0</td>\n",
              "      <td>33.8</td>\n",
              "      <td>1</td>\n",
              "      <td>0</td>\n",
              "      <td>3</td>\n",
              "      <td>1725.55</td>\n",
              "    </tr>\n",
              "    <tr>\n",
              "      <th>2</th>\n",
              "      <td>28</td>\n",
              "      <td>0</td>\n",
              "      <td>33.0</td>\n",
              "      <td>3</td>\n",
              "      <td>0</td>\n",
              "      <td>3</td>\n",
              "      <td>4449.46</td>\n",
              "    </tr>\n",
              "    <tr>\n",
              "      <th>3</th>\n",
              "      <td>33</td>\n",
              "      <td>0</td>\n",
              "      <td>22.7</td>\n",
              "      <td>0</td>\n",
              "      <td>0</td>\n",
              "      <td>0</td>\n",
              "      <td>21984.47</td>\n",
              "    </tr>\n",
              "    <tr>\n",
              "      <th>4</th>\n",
              "      <td>32</td>\n",
              "      <td>0</td>\n",
              "      <td>28.9</td>\n",
              "      <td>0</td>\n",
              "      <td>0</td>\n",
              "      <td>0</td>\n",
              "      <td>3866.86</td>\n",
              "    </tr>\n",
              "  </tbody>\n",
              "</table>\n",
              "</div>"
            ],
            "text/plain": [
              "   idade  sexo   bmi  filhos  fumantes  regiao    gastos\n",
              "0     19     1  27.9       0         1       2  16884.92\n",
              "1     18     0  33.8       1         0       3   1725.55\n",
              "2     28     0  33.0       3         0       3   4449.46\n",
              "3     33     0  22.7       0         0       0  21984.47\n",
              "4     32     0  28.9       0         0       0   3866.86"
            ]
          },
          "metadata": {
            "tags": []
          },
          "execution_count": 17
        }
      ]
    },
    {
      "cell_type": "code",
      "metadata": {
        "id": "yEZbfu1cPvLX",
        "colab_type": "code",
        "colab": {}
      },
      "source": [
        "x_data = df.drop([\"gastos\"], axis=1)\n",
        "y_data = df[\"gastos\"]"
      ],
      "execution_count": 18,
      "outputs": []
    },
    {
      "cell_type": "code",
      "metadata": {
        "id": "wdNOtp6pQMao",
        "colab_type": "code",
        "colab": {
          "base_uri": "https://localhost:8080/",
          "height": 204
        },
        "outputId": "1e19d31f-7db9-4776-b33a-fb02f5c9ab5c"
      },
      "source": [
        "x_data.head()"
      ],
      "execution_count": 19,
      "outputs": [
        {
          "output_type": "execute_result",
          "data": {
            "text/html": [
              "<div>\n",
              "<style scoped>\n",
              "    .dataframe tbody tr th:only-of-type {\n",
              "        vertical-align: middle;\n",
              "    }\n",
              "\n",
              "    .dataframe tbody tr th {\n",
              "        vertical-align: top;\n",
              "    }\n",
              "\n",
              "    .dataframe thead th {\n",
              "        text-align: right;\n",
              "    }\n",
              "</style>\n",
              "<table border=\"1\" class=\"dataframe\">\n",
              "  <thead>\n",
              "    <tr style=\"text-align: right;\">\n",
              "      <th></th>\n",
              "      <th>idade</th>\n",
              "      <th>sexo</th>\n",
              "      <th>bmi</th>\n",
              "      <th>filhos</th>\n",
              "      <th>fumantes</th>\n",
              "      <th>regiao</th>\n",
              "    </tr>\n",
              "  </thead>\n",
              "  <tbody>\n",
              "    <tr>\n",
              "      <th>0</th>\n",
              "      <td>19</td>\n",
              "      <td>1</td>\n",
              "      <td>27.9</td>\n",
              "      <td>0</td>\n",
              "      <td>1</td>\n",
              "      <td>2</td>\n",
              "    </tr>\n",
              "    <tr>\n",
              "      <th>1</th>\n",
              "      <td>18</td>\n",
              "      <td>0</td>\n",
              "      <td>33.8</td>\n",
              "      <td>1</td>\n",
              "      <td>0</td>\n",
              "      <td>3</td>\n",
              "    </tr>\n",
              "    <tr>\n",
              "      <th>2</th>\n",
              "      <td>28</td>\n",
              "      <td>0</td>\n",
              "      <td>33.0</td>\n",
              "      <td>3</td>\n",
              "      <td>0</td>\n",
              "      <td>3</td>\n",
              "    </tr>\n",
              "    <tr>\n",
              "      <th>3</th>\n",
              "      <td>33</td>\n",
              "      <td>0</td>\n",
              "      <td>22.7</td>\n",
              "      <td>0</td>\n",
              "      <td>0</td>\n",
              "      <td>0</td>\n",
              "    </tr>\n",
              "    <tr>\n",
              "      <th>4</th>\n",
              "      <td>32</td>\n",
              "      <td>0</td>\n",
              "      <td>28.9</td>\n",
              "      <td>0</td>\n",
              "      <td>0</td>\n",
              "      <td>0</td>\n",
              "    </tr>\n",
              "  </tbody>\n",
              "</table>\n",
              "</div>"
            ],
            "text/plain": [
              "   idade  sexo   bmi  filhos  fumantes  regiao\n",
              "0     19     1  27.9       0         1       2\n",
              "1     18     0  33.8       1         0       3\n",
              "2     28     0  33.0       3         0       3\n",
              "3     33     0  22.7       0         0       0\n",
              "4     32     0  28.9       0         0       0"
            ]
          },
          "metadata": {
            "tags": []
          },
          "execution_count": 19
        }
      ]
    },
    {
      "cell_type": "code",
      "metadata": {
        "id": "NxVRFm70QZgv",
        "colab_type": "code",
        "colab": {}
      },
      "source": [
        "x = (x_data - np.min(x_data)) / (np.max(x_data) - np.min(x_data)).values"
      ],
      "execution_count": 20,
      "outputs": []
    },
    {
      "cell_type": "code",
      "metadata": {
        "id": "0WlQN7MiQlp0",
        "colab_type": "code",
        "colab": {
          "base_uri": "https://localhost:8080/",
          "height": 204
        },
        "outputId": "df81d577-890e-4a36-e67e-d7bf60b4247b"
      },
      "source": [
        "x.head()"
      ],
      "execution_count": 21,
      "outputs": [
        {
          "output_type": "execute_result",
          "data": {
            "text/html": [
              "<div>\n",
              "<style scoped>\n",
              "    .dataframe tbody tr th:only-of-type {\n",
              "        vertical-align: middle;\n",
              "    }\n",
              "\n",
              "    .dataframe tbody tr th {\n",
              "        vertical-align: top;\n",
              "    }\n",
              "\n",
              "    .dataframe thead th {\n",
              "        text-align: right;\n",
              "    }\n",
              "</style>\n",
              "<table border=\"1\" class=\"dataframe\">\n",
              "  <thead>\n",
              "    <tr style=\"text-align: right;\">\n",
              "      <th></th>\n",
              "      <th>idade</th>\n",
              "      <th>sexo</th>\n",
              "      <th>bmi</th>\n",
              "      <th>filhos</th>\n",
              "      <th>fumantes</th>\n",
              "      <th>regiao</th>\n",
              "    </tr>\n",
              "  </thead>\n",
              "  <tbody>\n",
              "    <tr>\n",
              "      <th>0</th>\n",
              "      <td>0.021739</td>\n",
              "      <td>1.0</td>\n",
              "      <td>0.320755</td>\n",
              "      <td>0.0</td>\n",
              "      <td>1.0</td>\n",
              "      <td>0.666667</td>\n",
              "    </tr>\n",
              "    <tr>\n",
              "      <th>1</th>\n",
              "      <td>0.000000</td>\n",
              "      <td>0.0</td>\n",
              "      <td>0.479784</td>\n",
              "      <td>0.2</td>\n",
              "      <td>0.0</td>\n",
              "      <td>1.000000</td>\n",
              "    </tr>\n",
              "    <tr>\n",
              "      <th>2</th>\n",
              "      <td>0.217391</td>\n",
              "      <td>0.0</td>\n",
              "      <td>0.458221</td>\n",
              "      <td>0.6</td>\n",
              "      <td>0.0</td>\n",
              "      <td>1.000000</td>\n",
              "    </tr>\n",
              "    <tr>\n",
              "      <th>3</th>\n",
              "      <td>0.326087</td>\n",
              "      <td>0.0</td>\n",
              "      <td>0.180593</td>\n",
              "      <td>0.0</td>\n",
              "      <td>0.0</td>\n",
              "      <td>0.000000</td>\n",
              "    </tr>\n",
              "    <tr>\n",
              "      <th>4</th>\n",
              "      <td>0.304348</td>\n",
              "      <td>0.0</td>\n",
              "      <td>0.347709</td>\n",
              "      <td>0.0</td>\n",
              "      <td>0.0</td>\n",
              "      <td>0.000000</td>\n",
              "    </tr>\n",
              "  </tbody>\n",
              "</table>\n",
              "</div>"
            ],
            "text/plain": [
              "      idade  sexo       bmi  filhos  fumantes    regiao\n",
              "0  0.021739   1.0  0.320755     0.0       1.0  0.666667\n",
              "1  0.000000   0.0  0.479784     0.2       0.0  1.000000\n",
              "2  0.217391   0.0  0.458221     0.6       0.0  1.000000\n",
              "3  0.326087   0.0  0.180593     0.0       0.0  0.000000\n",
              "4  0.304348   0.0  0.347709     0.0       0.0  0.000000"
            ]
          },
          "metadata": {
            "tags": []
          },
          "execution_count": 21
        }
      ]
    },
    {
      "cell_type": "code",
      "metadata": {
        "id": "XhgYiYgGQmAt",
        "colab_type": "code",
        "colab": {
          "base_uri": "https://localhost:8080/",
          "height": 85
        },
        "outputId": "c2e25d75-6470-417f-cea7-a321e06665cb"
      },
      "source": [
        "from sklearn.model_selection import train_test_split\n",
        "\n",
        "x_train, x_test, y_train, y_test = train_test_split(x, y_data, test_size=0.3, random_state=43)\n",
        "\n",
        "print(\"x train: \", x_train.shape)\n",
        "print(\"x test: \", x_test.shape)\n",
        "print(\"y train: \", y_train.shape)\n",
        "print(\"y test: \", y_test.shape)"
      ],
      "execution_count": 22,
      "outputs": [
        {
          "output_type": "stream",
          "text": [
            "x train:  (936, 6)\n",
            "x test:  (402, 6)\n",
            "y train:  (936,)\n",
            "y test:  (402,)\n"
          ],
          "name": "stdout"
        }
      ]
    },
    {
      "cell_type": "code",
      "metadata": {
        "id": "N7R0hzeBQmR7",
        "colab_type": "code",
        "colab": {
          "base_uri": "https://localhost:8080/",
          "height": 34
        },
        "outputId": "ed322c33-fe6b-4518-c721-f4c38506882d"
      },
      "source": [
        "from sklearn.linear_model import LinearRegression\n",
        "\n",
        "modelo = LinearRegression()\n",
        "\n",
        "modelo.fit(x_train, y_train)"
      ],
      "execution_count": 23,
      "outputs": [
        {
          "output_type": "execute_result",
          "data": {
            "text/plain": [
              "LinearRegression(copy_X=True, fit_intercept=True, n_jobs=None, normalize=False)"
            ]
          },
          "metadata": {
            "tags": []
          },
          "execution_count": 23
        }
      ]
    },
    {
      "cell_type": "code",
      "metadata": {
        "id": "VATJw2DDQl3S",
        "colab_type": "code",
        "colab": {
          "base_uri": "https://localhost:8080/",
          "height": 51
        },
        "outputId": "990e915b-57d0-4bff-ff67-ef5f957decab"
      },
      "source": [
        "modelo.coef_"
      ],
      "execution_count": 24,
      "outputs": [
        {
          "output_type": "execute_result",
          "data": {
            "text/plain": [
              "array([10898.73018936,    34.35483682, 11966.53321558,  2560.51784869,\n",
              "       23515.02985559, -1074.64005088])"
            ]
          },
          "metadata": {
            "tags": []
          },
          "execution_count": 24
        }
      ]
    },
    {
      "cell_type": "code",
      "metadata": {
        "id": "Yr01SeZELWDv",
        "colab_type": "code",
        "colab": {
          "base_uri": "https://localhost:8080/",
          "height": 34
        },
        "outputId": "3af13e29-0457-4baa-e633-88ecaa2c443b"
      },
      "source": [
        "modelo.score(x_test, y_test)"
      ],
      "execution_count": 25,
      "outputs": [
        {
          "output_type": "execute_result",
          "data": {
            "text/plain": [
              "0.7503071601966779"
            ]
          },
          "metadata": {
            "tags": []
          },
          "execution_count": 25
        }
      ]
    },
    {
      "cell_type": "code",
      "metadata": {
        "id": "LMCJZMwMTSJY",
        "colab_type": "code",
        "colab": {}
      },
      "source": [
        "slope = modelo.coef_\n",
        "intercept = modelo.intercept_"
      ],
      "execution_count": 26,
      "outputs": []
    },
    {
      "cell_type": "code",
      "metadata": {
        "id": "bK535RBfTSfk",
        "colab_type": "code",
        "colab": {
          "base_uri": "https://localhost:8080/",
          "height": 51
        },
        "outputId": "8d8b10f2-48d9-4dce-9551-3dd9cdb0c546"
      },
      "source": [
        "print(\"b0: \\t{}\".format(intercept))\n",
        "print(\"b1: \\t{}\".format(slope[0]))"
      ],
      "execution_count": 27,
      "outputs": [
        {
          "output_type": "stream",
          "text": [
            "b0: \t-1548.9062951057585\n",
            "b1: \t10898.73018935864\n"
          ],
          "name": "stdout"
        }
      ]
    },
    {
      "cell_type": "code",
      "metadata": {
        "id": "lVBMEXgkR3QQ",
        "colab_type": "code",
        "colab": {}
      },
      "source": [
        "y_pred = modelo.predict(x_test)"
      ],
      "execution_count": 28,
      "outputs": []
    },
    {
      "cell_type": "code",
      "metadata": {
        "id": "XCLvxYQqWWGZ",
        "colab_type": "code",
        "colab": {}
      },
      "source": [
        "from sklearn.metrics import mean_squared_error\n",
        "from math import sqrt"
      ],
      "execution_count": 29,
      "outputs": []
    },
    {
      "cell_type": "code",
      "metadata": {
        "id": "bTAv5qpNWL8M",
        "colab_type": "code",
        "colab": {}
      },
      "source": [
        "rmse = (np.sqrt(mean_squared_error(y_test, y_pred)))"
      ],
      "execution_count": 30,
      "outputs": []
    },
    {
      "cell_type": "code",
      "metadata": {
        "id": "TpbPwwBcWR2r",
        "colab_type": "code",
        "colab": {
          "base_uri": "https://localhost:8080/",
          "height": 68
        },
        "outputId": "e747a30f-f368-42dc-9dc0-ab542f24ab8d"
      },
      "source": [
        "print ('Performance do modelo avaliado com os dados de teste:')\n",
        "print('\\nRMSE é: {} '.format(rmse))"
      ],
      "execution_count": 31,
      "outputs": [
        {
          "output_type": "stream",
          "text": [
            "Performance do modelo avaliado com os dados de teste:\n",
            "\n",
            "RMSE é: 6410.298175048156 \n"
          ],
          "name": "stdout"
        }
      ]
    },
    {
      "cell_type": "code",
      "metadata": {
        "id": "NmGCc9zRtKM5",
        "colab_type": "code",
        "colab": {}
      },
      "source": [
        "# criar um dataframe vazio\n",
        "resultado = pd.DataFrame()"
      ],
      "execution_count": 34,
      "outputs": []
    },
    {
      "cell_type": "code",
      "metadata": {
        "id": "Lk3XuloRWgwD",
        "colab_type": "code",
        "colab": {}
      },
      "source": [
        "resultado['valor_predito_reg_linear'] = modelo.predict(x_test)"
      ],
      "execution_count": 35,
      "outputs": []
    },
    {
      "cell_type": "code",
      "metadata": {
        "id": "WwtQC5k6YKqi",
        "colab_type": "code",
        "colab": {}
      },
      "source": [
        "resultado['valor_real'] = y_test.values"
      ],
      "execution_count": 36,
      "outputs": []
    },
    {
      "cell_type": "code",
      "metadata": {
        "id": "VFYr1ss-WojL",
        "colab_type": "code",
        "colab": {
          "base_uri": "https://localhost:8080/",
          "height": 204
        },
        "outputId": "c84da29c-f3d2-4c0b-e6ea-ae3e728662c0"
      },
      "source": [
        "resultado.head()"
      ],
      "execution_count": 37,
      "outputs": [
        {
          "output_type": "execute_result",
          "data": {
            "text/html": [
              "<div>\n",
              "<style scoped>\n",
              "    .dataframe tbody tr th:only-of-type {\n",
              "        vertical-align: middle;\n",
              "    }\n",
              "\n",
              "    .dataframe tbody tr th {\n",
              "        vertical-align: top;\n",
              "    }\n",
              "\n",
              "    .dataframe thead th {\n",
              "        text-align: right;\n",
              "    }\n",
              "</style>\n",
              "<table border=\"1\" class=\"dataframe\">\n",
              "  <thead>\n",
              "    <tr style=\"text-align: right;\">\n",
              "      <th></th>\n",
              "      <th>valor_predito_reg_linear</th>\n",
              "      <th>valor_real</th>\n",
              "    </tr>\n",
              "  </thead>\n",
              "  <tbody>\n",
              "    <tr>\n",
              "      <th>0</th>\n",
              "      <td>8085.800114</td>\n",
              "      <td>18963.17</td>\n",
              "    </tr>\n",
              "    <tr>\n",
              "      <th>1</th>\n",
              "      <td>5959.482633</td>\n",
              "      <td>13725.47</td>\n",
              "    </tr>\n",
              "    <tr>\n",
              "      <th>2</th>\n",
              "      <td>2729.708259</td>\n",
              "      <td>2457.21</td>\n",
              "    </tr>\n",
              "    <tr>\n",
              "      <th>3</th>\n",
              "      <td>15062.067953</td>\n",
              "      <td>12979.36</td>\n",
              "    </tr>\n",
              "    <tr>\n",
              "      <th>4</th>\n",
              "      <td>27480.647012</td>\n",
              "      <td>18648.42</td>\n",
              "    </tr>\n",
              "  </tbody>\n",
              "</table>\n",
              "</div>"
            ],
            "text/plain": [
              "   valor_predito_reg_linear  valor_real\n",
              "0               8085.800114    18963.17\n",
              "1               5959.482633    13725.47\n",
              "2               2729.708259     2457.21\n",
              "3              15062.067953    12979.36\n",
              "4              27480.647012    18648.42"
            ]
          },
          "metadata": {
            "tags": []
          },
          "execution_count": 37
        }
      ]
    },
    {
      "cell_type": "code",
      "metadata": {
        "id": "_cguHZJ9Wr7j",
        "colab_type": "code",
        "colab": {
          "base_uri": "https://localhost:8080/",
          "height": 542
        },
        "outputId": "db8e185c-288e-4bfd-b501-feafa5596caf"
      },
      "source": [
        "import plotly.graph_objects as go\n",
        "\n",
        "# Create traces\n",
        "fig = go.Figure()\n",
        "\n",
        "# Linha com os dados de teste\n",
        "fig.add_trace(go.Scatter(x=resultado.index,\n",
        "                         y=resultado.valor_real,\n",
        "                         mode='lines+markers',\n",
        "                         name='Valor Real'))\n",
        "\n",
        "# Linha com os dados preditos pela regressão linear\n",
        "fig.add_trace(go.Scatter(x=resultado.index,\n",
        "                         y=resultado.valor_predito_reg_linear,\n",
        "                         mode='lines',\n",
        "                         line = dict(color = '#FEBFB3'),\n",
        "                         name='Valor Predito Regressão Linear'))\n",
        "\n",
        "# Plota a figura\n",
        "fig.show()"
      ],
      "execution_count": 38,
      "outputs": [
        {
          "output_type": "display_data",
          "data": {
            "text/html": [
              "<html>\n",
              "<head><meta charset=\"utf-8\" /></head>\n",
              "<body>\n",
              "    <div>\n",
              "            <script src=\"https://cdnjs.cloudflare.com/ajax/libs/mathjax/2.7.5/MathJax.js?config=TeX-AMS-MML_SVG\"></script><script type=\"text/javascript\">if (window.MathJax) {MathJax.Hub.Config({SVG: {font: \"STIX-Web\"}});}</script>\n",
              "                <script type=\"text/javascript\">window.PlotlyConfig = {MathJaxConfig: 'local'};</script>\n",
              "        <script src=\"https://cdn.plot.ly/plotly-latest.min.js\"></script>    \n",
              "            <div id=\"209de123-032f-4dfc-98d4-caf579570a71\" class=\"plotly-graph-div\" style=\"height:525px; width:100%;\"></div>\n",
              "            <script type=\"text/javascript\">\n",
              "                \n",
              "                    window.PLOTLYENV=window.PLOTLYENV || {};\n",
              "                    \n",
              "                if (document.getElementById(\"209de123-032f-4dfc-98d4-caf579570a71\")) {\n",
              "                    Plotly.newPlot(\n",
              "                        '209de123-032f-4dfc-98d4-caf579570a71',\n",
              "                        [{\"mode\": \"lines+markers\", \"name\": \"Valor Real\", \"type\": \"scatter\", \"x\": [0, 1, 2, 3, 4, 5, 6, 7, 8, 9, 10, 11, 12, 13, 14, 15, 16, 17, 18, 19, 20, 21, 22, 23, 24, 25, 26, 27, 28, 29, 30, 31, 32, 33, 34, 35, 36, 37, 38, 39, 40, 41, 42, 43, 44, 45, 46, 47, 48, 49, 50, 51, 52, 53, 54, 55, 56, 57, 58, 59, 60, 61, 62, 63, 64, 65, 66, 67, 68, 69, 70, 71, 72, 73, 74, 75, 76, 77, 78, 79, 80, 81, 82, 83, 84, 85, 86, 87, 88, 89, 90, 91, 92, 93, 94, 95, 96, 97, 98, 99, 100, 101, 102, 103, 104, 105, 106, 107, 108, 109, 110, 111, 112, 113, 114, 115, 116, 117, 118, 119, 120, 121, 122, 123, 124, 125, 126, 127, 128, 129, 130, 131, 132, 133, 134, 135, 136, 137, 138, 139, 140, 141, 142, 143, 144, 145, 146, 147, 148, 149, 150, 151, 152, 153, 154, 155, 156, 157, 158, 159, 160, 161, 162, 163, 164, 165, 166, 167, 168, 169, 170, 171, 172, 173, 174, 175, 176, 177, 178, 179, 180, 181, 182, 183, 184, 185, 186, 187, 188, 189, 190, 191, 192, 193, 194, 195, 196, 197, 198, 199, 200, 201, 202, 203, 204, 205, 206, 207, 208, 209, 210, 211, 212, 213, 214, 215, 216, 217, 218, 219, 220, 221, 222, 223, 224, 225, 226, 227, 228, 229, 230, 231, 232, 233, 234, 235, 236, 237, 238, 239, 240, 241, 242, 243, 244, 245, 246, 247, 248, 249, 250, 251, 252, 253, 254, 255, 256, 257, 258, 259, 260, 261, 262, 263, 264, 265, 266, 267, 268, 269, 270, 271, 272, 273, 274, 275, 276, 277, 278, 279, 280, 281, 282, 283, 284, 285, 286, 287, 288, 289, 290, 291, 292, 293, 294, 295, 296, 297, 298, 299, 300, 301, 302, 303, 304, 305, 306, 307, 308, 309, 310, 311, 312, 313, 314, 315, 316, 317, 318, 319, 320, 321, 322, 323, 324, 325, 326, 327, 328, 329, 330, 331, 332, 333, 334, 335, 336, 337, 338, 339, 340, 341, 342, 343, 344, 345, 346, 347, 348, 349, 350, 351, 352, 353, 354, 355, 356, 357, 358, 359, 360, 361, 362, 363, 364, 365, 366, 367, 368, 369, 370, 371, 372, 373, 374, 375, 376, 377, 378, 379, 380, 381, 382, 383, 384, 385, 386, 387, 388, 389, 390, 391, 392, 393, 394, 395, 396, 397, 398, 399, 400, 401], \"y\": [18963.17, 13725.47, 2457.21, 12979.36, 18648.42, 6551.75, 7160.33, 19442.35, 8280.62, 1708.93, 34828.65, 14571.89, 11070.54, 7358.18, 1967.02, 4527.18, 4134.08, 17043.34, 2689.5, 17626.24, 4877.98, 12913.99, 2257.48, 9630.4, 14358.36, 6555.07, 18806.15, 48970.25, 3561.89, 9634.54, 13143.34, 38282.75, 16455.71, 3260.2, 10461.98, 2055.32, 4670.64, 25333.33, 11454.02, 11737.85, 17663.14, 34838.87, 4185.1, 10848.13, 8596.83, 25309.49, 11735.88, 11482.63, 17496.31, 5375.04, 3732.63, 2730.11, 6112.35, 22218.11, 2396.1, 1256.3, 6496.89, 15612.19, 35069.37, 8116.27, 39727.61, 23288.93, 14451.84, 5846.92, 7518.03, 5138.26, 51194.56, 2331.52, 8965.8, 12557.61, 10601.63, 19362.0, 8604.48, 27322.73, 12146.97, 1631.67, 8978.19, 9101.8, 7749.16, 34254.05, 8569.86, 5267.82, 7323.73, 41919.1, 2007.95, 37079.37, 11566.3, 9500.57, 45863.21, 16138.76, 18218.16, 41999.52, 40941.29, 13981.85, 8302.54, 34779.62, 13451.12, 1163.46, 11488.32, 11362.76, 1837.24, 32734.19, 8027.97, 36910.61, 2128.43, 9625.92, 4906.41, 7727.25, 13616.36, 10422.92, 28868.66, 2207.7, 9174.14, 10704.47, 37607.53, 26392.26, 3554.2, 14394.4, 4922.92, 1769.53, 1241.57, 5148.55, 19040.88, 2534.39, 46130.53, 12957.12, 7626.99, 5397.62, 19673.34, 2709.24, 10381.48, 1880.49, 7804.16, 4751.07, 6571.54, 9377.9, 11085.59, 12981.35, 13224.69, 12268.63, 12644.59, 20149.32, 27724.29, 11073.18, 11345.52, 2803.7, 7441.05, 37270.15, 4779.6, 2867.12, 16450.89, 4673.39, 36124.57, 8269.04, 3597.6, 2801.26, 19199.94, 17560.38, 19350.37, 6474.01, 2721.32, 9414.92, 8556.91, 12928.79, 19444.27, 6799.46, 43813.87, 38711.0, 5649.72, 11013.71, 6781.35, 10977.21, 21232.18, 37742.58, 13126.68, 25656.58, 46113.51, 7144.86, 2156.75, 4561.19, 15820.7, 43896.38, 14474.68, 5012.47, 14313.85, 2138.07, 12363.55, 4883.87, 9386.16, 4889.04, 30260.0, 18157.88, 13919.82, 37701.88, 5910.94, 8891.14, 33471.97, 34303.17, 18608.26, 2322.62, 7623.52, 13012.21, 12430.95, 43943.88, 9290.14, 5630.46, 11455.28, 9869.81, 28468.92, 9504.31, 8534.67, 8551.35, 10043.25, 33750.29, 6113.23, 4562.84, 10795.94, 39774.28, 11879.1, 8823.28, 18955.22, 26018.95, 6406.41, 1737.38, 3558.62, 3594.17, 13217.09, 2639.04, 47403.88, 1719.44, 13415.04, 5261.47, 21098.55, 35595.59, 9991.04, 10065.41, 17085.27, 12485.8, 18804.75, 17352.68, 17361.77, 2866.09, 12265.51, 2643.27, 7050.02, 1526.31, 1261.44, 6875.96, 3309.79, 11520.1, 7196.87, 9620.33, 9875.68, 3268.85, 1135.94, 18223.45, 14119.62, 47291.06, 7281.51, 3925.76, 11657.72, 35160.13, 11945.13, 2203.74, 10959.69, 5974.38, 3171.61, 38245.59, 20745.99, 9058.73, 8277.52, 1253.94, 40974.16, 48673.56, 2200.83, 27941.29, 17929.3, 4320.41, 14001.29, 16657.72, 46151.12, 42969.85, 60021.4, 2727.4, 1727.54, 9447.25, 27117.99, 8347.16, 43254.42, 21472.48, 6393.6, 47462.89, 2597.78, 25517.11, 7228.22, 9447.38, 9264.8, 4500.34, 4667.61, 9549.57, 42211.14, 1633.04, 7209.49, 9487.64, 10791.96, 10115.01, 3500.61, 40182.25, 7418.52, 11534.87, 2130.68, 41676.08, 31620.0, 29186.48, 1917.32, 7151.09, 7512.27, 10796.35, 1621.88, 1146.8, 9432.93, 37165.16, 15828.82, 9282.48, 20984.09, 6686.43, 49577.66, 10806.84, 15161.53, 14133.04, 4347.02, 39871.7, 4415.16, 10928.85, 1263.25, 11538.42, 3943.6, 18259.22, 5266.37, 45702.02, 9866.3, 2166.73, 7050.64, 1635.73, 3981.98, 3875.73, 11743.93, 8538.29, 24667.42, 12333.83, 6775.96, 9861.03, 7954.52, 3062.51, 1149.4, 5209.58, 2217.47, 14007.22, 6198.75, 4296.27, 8827.21, 14590.63, 40720.55, 38415.47, 14418.28, 13393.76, 21797.0, 46255.11, 7537.16, 24873.38, 5373.36, 24106.91, 41034.22, 1639.56, 52590.83, 47055.53, 8522.0, 11938.26, 12638.2, 24393.62, 8964.06, 10736.87, 3161.45, 47269.85, 38126.25, 11365.95, 9704.67, 1632.04, 6985.51, 1708.0, 4040.56, 3385.4, 14988.43, 3490.55, 12643.38, 12029.29, 4837.58, 4266.17, 16884.92, 11881.36, 10602.39, 6272.48]}, {\"line\": {\"color\": \"#FEBFB3\"}, \"mode\": \"lines\", \"name\": \"Valor Predito Regress\\u00e3o Linear\", \"type\": \"scatter\", \"x\": [0, 1, 2, 3, 4, 5, 6, 7, 8, 9, 10, 11, 12, 13, 14, 15, 16, 17, 18, 19, 20, 21, 22, 23, 24, 25, 26, 27, 28, 29, 30, 31, 32, 33, 34, 35, 36, 37, 38, 39, 40, 41, 42, 43, 44, 45, 46, 47, 48, 49, 50, 51, 52, 53, 54, 55, 56, 57, 58, 59, 60, 61, 62, 63, 64, 65, 66, 67, 68, 69, 70, 71, 72, 73, 74, 75, 76, 77, 78, 79, 80, 81, 82, 83, 84, 85, 86, 87, 88, 89, 90, 91, 92, 93, 94, 95, 96, 97, 98, 99, 100, 101, 102, 103, 104, 105, 106, 107, 108, 109, 110, 111, 112, 113, 114, 115, 116, 117, 118, 119, 120, 121, 122, 123, 124, 125, 126, 127, 128, 129, 130, 131, 132, 133, 134, 135, 136, 137, 138, 139, 140, 141, 142, 143, 144, 145, 146, 147, 148, 149, 150, 151, 152, 153, 154, 155, 156, 157, 158, 159, 160, 161, 162, 163, 164, 165, 166, 167, 168, 169, 170, 171, 172, 173, 174, 175, 176, 177, 178, 179, 180, 181, 182, 183, 184, 185, 186, 187, 188, 189, 190, 191, 192, 193, 194, 195, 196, 197, 198, 199, 200, 201, 202, 203, 204, 205, 206, 207, 208, 209, 210, 211, 212, 213, 214, 215, 216, 217, 218, 219, 220, 221, 222, 223, 224, 225, 226, 227, 228, 229, 230, 231, 232, 233, 234, 235, 236, 237, 238, 239, 240, 241, 242, 243, 244, 245, 246, 247, 248, 249, 250, 251, 252, 253, 254, 255, 256, 257, 258, 259, 260, 261, 262, 263, 264, 265, 266, 267, 268, 269, 270, 271, 272, 273, 274, 275, 276, 277, 278, 279, 280, 281, 282, 283, 284, 285, 286, 287, 288, 289, 290, 291, 292, 293, 294, 295, 296, 297, 298, 299, 300, 301, 302, 303, 304, 305, 306, 307, 308, 309, 310, 311, 312, 313, 314, 315, 316, 317, 318, 319, 320, 321, 322, 323, 324, 325, 326, 327, 328, 329, 330, 331, 332, 333, 334, 335, 336, 337, 338, 339, 340, 341, 342, 343, 344, 345, 346, 347, 348, 349, 350, 351, 352, 353, 354, 355, 356, 357, 358, 359, 360, 361, 362, 363, 364, 365, 366, 367, 368, 369, 370, 371, 372, 373, 374, 375, 376, 377, 378, 379, 380, 381, 382, 383, 384, 385, 386, 387, 388, 389, 390, 391, 392, 393, 394, 395, 396, 397, 398, 399, 400, 401], \"y\": [8085.800114174828, 5959.4826334780455, 2729.708259151086, 15062.067952697145, 27480.647011663837, 9765.205379767802, 10537.916107523959, 7661.600459531373, 9389.151788793894, 1350.615812210358, 27582.78420763021, 24515.3048429649, 9772.017698730444, 9120.453671555826, 2405.060163728257, 5840.295124738878, 3436.3032424355742, 26367.19836959753, 6874.05506454048, 3723.5370021579565, 5609.274700640488, 11383.276146440581, 3152.431222467738, 11598.13295419146, 7456.4407424495, 7022.7102401030115, 10549.061379106943, 39213.62911715366, 2377.6183838031156, 12727.133617921289, 13925.414931902918, 31343.97252591155, 15468.417158339684, 2233.954413868444, 12158.439964902289, 4591.833221804761, 8268.80183413093, 11891.836691464123, 10617.463625363747, 6097.765534549055, 27377.46791128881, 28383.652153848903, 3641.8911886464903, 14005.054895248495, 10849.463191393204, 34108.10946526077, 11992.356011678774, 3184.4188563027164, 27374.96989690091, 7798.225038361799, 915.836847666108, 6846.6153652109515, 9337.321515985544, 31544.5874144053, 2019.1834938342458, 2616.288059048574, 7170.6095306392945, 15929.948712838677, 30230.572622764375, 10796.221732287959, 33400.45946198942, 3685.776873173374, 11079.127725902943, 11268.36939953085, 8155.300932824684, 8907.433173313553, 30711.07012947234, 2517.6503353898906, 8666.367784666401, 12596.146907604649, 12636.271133660768, 29164.989557452594, 8094.552778273453, 12605.074453053969, 11846.551564942394, 4571.375536275622, 12378.802095126752, 8831.129545227031, 10474.592689252871, 27899.95949630681, 14244.508965933024, 6265.942960296312, 2384.8696508751354, 34959.27259033544, 1640.7796306864675, 30482.576593539678, 15364.554945076869, 9101.62371725883, 36590.012841741445, 26439.709948204843, 4806.693135472973, 34706.739460721044, 33739.669865458025, 15463.681381085784, 7244.782537404526, 27550.529401119216, 11096.826782157272, 9342.986869590437, 12910.052902032487, 13566.0205733703, 1257.6128511481293, 26922.276894217226, 9252.315333995692, 14571.218208229986, 3399.324402972733, 10727.335614239428, 3470.575643414517, 10920.169051500356, 10250.467019962027, 9202.70589323834, 36633.51176894986, 3675.061911315046, 11301.497786888913, 11212.338720142357, 31113.864566098942, 12165.912771648522, 4385.981208835157, 13544.492473019685, 7308.897618223249, 3343.8600312208728, -802.7214311171861, 6955.838610605095, 28896.0177097494, 6431.538201169593, 38420.688993105665, 9901.298910937505, 8150.580005790172, 9148.67984692004, 6561.738435451543, 2008.3943885612898, 12936.405773271012, 3822.961201851327, 12289.98434447084, 6951.509109856524, 9595.710947870608, 10222.884401566405, 11506.316187880142, 15155.421893556459, 12328.500358481671, 13694.833109959463, 13880.704405448103, 29937.917347689472, 4587.5927146902, 10384.859022439401, 9566.42456600658, 1195.9508610349562, 9224.033861923235, 30917.62583667728, 5444.187018823824, 3820.993717578678, 25940.63669847815, 8555.68461405623, 29154.274595594266, 7070.216198675736, 7261.386473137578, 3628.039478579605, 29059.309336772334, 26822.66174585808, 28422.72273119432, 10519.118478876573, 3041.3730388411477, 10713.053594447887, 11603.025310704892, 13211.005825781549, 29162.27966709692, 7765.3249402410365, 36015.24892988838, 31901.705644178677, 8163.336595335775, 8542.842136793943, 9855.493263961413, 15028.994862047324, 9229.188204599735, 31091.088416500068, 2824.2432082483583, 9386.00848279623, 37002.42711970509, 7696.087842395422, 2487.1393928817142, 5142.88967306678, 27052.683817954006, 35506.51228641845, 14777.63618288178, 7781.08883787233, 14760.499982392308, 5624.906052231578, 14757.492674306623, 5323.732614130015, 12158.172792226269, 6158.947104742274, 12108.000495704058, 6500.427425135454, 14379.350797321915, 31073.745526555766, 7368.111704143819, 7692.376494119953, 14500.022264496447, 26979.695271298508, 28701.796574795684, 5529.317454423598, 7344.209843015229, 11016.847583316665, 13087.708984691866, 30883.62716616346, 10917.020558989745, 9411.795392352564, 11105.610037264336, 10904.475845411916, 12747.809737207313, 13893.941414913663, 7675.322729475389, 10312.833050264982, 11516.843306990024, 27331.566712889595, 7420.568767809993, 5626.570586306825, 4566.002759842237, 32824.55031941978, 12695.496963883394, 9588.108701001505, 2932.152899364338, 5606.995120009473, 8069.900218631559, 812.1189247455513, 3227.0376448749594, 2752.61695479016, 11819.807267417928, 3878.25414412427, 38497.46958924037, 2210.701296221394, 10318.387111657703, 6738.537350533386, 31612.993112533877, 28248.085700922675, 7282.892274910031, 8281.042226235197, 25395.318853665987, 15712.681149692738, 6798.8116429537695, 26428.432130581656, 28091.314161645314, 3953.4234222963514, 14373.097882252363, 4878.1531459652, 9264.591503621341, 3315.929538945501, 3809.715899955492, 9433.51789324073, 3424.4573825345815, 11027.56599704677, 10708.591547659113, 11309.506310263345, 13912.826665918901, 6719.60198933285, 2956.5351804128823, 26106.942191375878, 14920.777743540448, 38141.97442173166, 8297.221038756536, 6098.552010583743, 11097.875244355033, 10531.014448972865, 13880.270989806115, 2739.672522496111, 14192.592805407998, 6822.360443689662, 5295.66957581444, 30347.6165487845, 30441.94170250961, 14759.666848034101, 9037.759395846599, 2067.956348361613, 33549.27777460059, 38873.94485155421, 2062.321585765158, 15942.137260106474, 8904.148682890966, 8628.408068631321, 12467.271971902912, 26631.365483145142, 37577.07281819187, 34953.370655062965, 37525.156657666834, 4460.58452532505, 4081.480073859264, 9391.999411702716, 8337.069453751914, 12195.237519405793, 35738.54228927589, 31234.374267500993, 8497.777524624713, 38410.88786680928, 2346.4120394898773, 10198.631560640732, 5895.809606686035, 9424.254218213713, 7071.397206913698, 3625.502580752989, 8792.262551419115, 15213.33416950092, 34757.74178568413, 4893.923601385598, 9613.677176800955, 10023.364633593934, 8787.154867066136, 12666.3082140381, 7135.030133171293, 33637.8805433714, 10118.95978919102, 8074.968673591378, 3915.401307148697, 34277.893022457705, 15805.465676998085, 12701.487892789877, 5903.135017172681, 7914.4876748601855, 9145.242229109695, 11052.3751359482, 2281.284273994781, 5472.410088270708, 16139.24490140773, 29318.340954349835, 9319.761563560522, 9110.751394373872, 30433.72130316741, 6398.160789046208, 39587.930205740035, 12428.893690445228, 15283.666387867814, 4603.630342786618, 6077.786897663709, 32711.000679194403, 4975.483527180383, 11580.867313579121, 4229.028384598461, 17224.895597238872, 5636.183869854765, 28338.5583219474, 5911.140088675337, 38032.88061646039, 11719.499823171052, 5167.698811968207, 8160.544269135198, 2494.089790351946, 4813.865072617417, 8548.512676911781, 13863.134789316642, 10660.737715206638, 33005.32567485749, 11670.15892636588, 8955.769160327156, 9260.750715223005, 10108.995525845994, 5626.349046632609, 6085.251411979663, 4331.971575786384, 5932.898367084888, 14212.44200217047, 6654.099210821341, 2678.979664653123, 9387.31893115706, 14667.419771998118, 34813.390894267104, 32150.9608411596, 16270.402523657815, 13912.040189884214, 14351.28120121723, 37802.994196322, 9340.52011869145, 33599.90508654727, 8033.883953649798, 33039.247096039355, 34171.649946012585, 3397.2243726598836, 36619.51887445805, 37713.95282539625, 11163.439877363893, 12182.47437207108, 12396.983305942207, 33698.75468617372, 10680.091641829775, 13571.104224503952, 3299.2820508062605, 38293.01391234828, 30118.720188218293, 14307.881123123248, 13801.780226594365, 1655.4648210660043, 6291.912526088145, 1157.0869731443709, 5404.326859526391, 4151.281762110908, 12754.0657581942, 5822.4583359314, 14254.310092229412, 9367.26096434414, 6787.661184857838, 10339.66323550613, 25359.302588684222, 11978.507407529221, 14575.883838556258, 5208.701096064885]}],\n",
              "                        {\"template\": {\"data\": {\"bar\": [{\"error_x\": {\"color\": \"#2a3f5f\"}, \"error_y\": {\"color\": \"#2a3f5f\"}, \"marker\": {\"line\": {\"color\": \"#E5ECF6\", \"width\": 0.5}}, \"type\": \"bar\"}], \"barpolar\": [{\"marker\": {\"line\": {\"color\": \"#E5ECF6\", \"width\": 0.5}}, \"type\": \"barpolar\"}], \"carpet\": [{\"aaxis\": {\"endlinecolor\": \"#2a3f5f\", \"gridcolor\": \"white\", \"linecolor\": \"white\", \"minorgridcolor\": \"white\", \"startlinecolor\": \"#2a3f5f\"}, \"baxis\": {\"endlinecolor\": \"#2a3f5f\", \"gridcolor\": \"white\", \"linecolor\": \"white\", \"minorgridcolor\": \"white\", \"startlinecolor\": \"#2a3f5f\"}, \"type\": \"carpet\"}], \"choropleth\": [{\"colorbar\": {\"outlinewidth\": 0, \"ticks\": \"\"}, \"type\": \"choropleth\"}], \"contour\": [{\"colorbar\": {\"outlinewidth\": 0, \"ticks\": \"\"}, \"colorscale\": [[0.0, \"#0d0887\"], [0.1111111111111111, \"#46039f\"], [0.2222222222222222, \"#7201a8\"], [0.3333333333333333, \"#9c179e\"], [0.4444444444444444, \"#bd3786\"], [0.5555555555555556, \"#d8576b\"], [0.6666666666666666, \"#ed7953\"], [0.7777777777777778, \"#fb9f3a\"], [0.8888888888888888, \"#fdca26\"], [1.0, \"#f0f921\"]], \"type\": \"contour\"}], \"contourcarpet\": [{\"colorbar\": {\"outlinewidth\": 0, \"ticks\": \"\"}, \"type\": \"contourcarpet\"}], \"heatmap\": [{\"colorbar\": {\"outlinewidth\": 0, \"ticks\": \"\"}, \"colorscale\": [[0.0, \"#0d0887\"], [0.1111111111111111, \"#46039f\"], [0.2222222222222222, \"#7201a8\"], [0.3333333333333333, \"#9c179e\"], [0.4444444444444444, \"#bd3786\"], [0.5555555555555556, \"#d8576b\"], [0.6666666666666666, \"#ed7953\"], [0.7777777777777778, \"#fb9f3a\"], [0.8888888888888888, \"#fdca26\"], [1.0, \"#f0f921\"]], \"type\": \"heatmap\"}], \"heatmapgl\": [{\"colorbar\": {\"outlinewidth\": 0, \"ticks\": \"\"}, \"colorscale\": [[0.0, \"#0d0887\"], [0.1111111111111111, \"#46039f\"], [0.2222222222222222, \"#7201a8\"], [0.3333333333333333, \"#9c179e\"], [0.4444444444444444, \"#bd3786\"], [0.5555555555555556, \"#d8576b\"], [0.6666666666666666, \"#ed7953\"], [0.7777777777777778, \"#fb9f3a\"], [0.8888888888888888, \"#fdca26\"], [1.0, \"#f0f921\"]], \"type\": \"heatmapgl\"}], \"histogram\": [{\"marker\": {\"colorbar\": {\"outlinewidth\": 0, \"ticks\": \"\"}}, \"type\": \"histogram\"}], \"histogram2d\": [{\"colorbar\": {\"outlinewidth\": 0, \"ticks\": \"\"}, \"colorscale\": [[0.0, \"#0d0887\"], [0.1111111111111111, \"#46039f\"], [0.2222222222222222, \"#7201a8\"], [0.3333333333333333, \"#9c179e\"], [0.4444444444444444, \"#bd3786\"], [0.5555555555555556, \"#d8576b\"], [0.6666666666666666, \"#ed7953\"], [0.7777777777777778, \"#fb9f3a\"], [0.8888888888888888, \"#fdca26\"], [1.0, \"#f0f921\"]], \"type\": \"histogram2d\"}], \"histogram2dcontour\": [{\"colorbar\": {\"outlinewidth\": 0, \"ticks\": \"\"}, \"colorscale\": [[0.0, \"#0d0887\"], [0.1111111111111111, \"#46039f\"], [0.2222222222222222, \"#7201a8\"], [0.3333333333333333, \"#9c179e\"], [0.4444444444444444, \"#bd3786\"], [0.5555555555555556, \"#d8576b\"], [0.6666666666666666, \"#ed7953\"], [0.7777777777777778, \"#fb9f3a\"], [0.8888888888888888, \"#fdca26\"], [1.0, \"#f0f921\"]], \"type\": \"histogram2dcontour\"}], \"mesh3d\": [{\"colorbar\": {\"outlinewidth\": 0, \"ticks\": \"\"}, \"type\": \"mesh3d\"}], \"parcoords\": [{\"line\": {\"colorbar\": {\"outlinewidth\": 0, \"ticks\": \"\"}}, \"type\": \"parcoords\"}], \"pie\": [{\"automargin\": true, \"type\": \"pie\"}], \"scatter\": [{\"marker\": {\"colorbar\": {\"outlinewidth\": 0, \"ticks\": \"\"}}, \"type\": \"scatter\"}], \"scatter3d\": [{\"line\": {\"colorbar\": {\"outlinewidth\": 0, \"ticks\": \"\"}}, \"marker\": {\"colorbar\": {\"outlinewidth\": 0, \"ticks\": \"\"}}, \"type\": \"scatter3d\"}], \"scattercarpet\": [{\"marker\": {\"colorbar\": {\"outlinewidth\": 0, \"ticks\": \"\"}}, \"type\": \"scattercarpet\"}], \"scattergeo\": [{\"marker\": {\"colorbar\": {\"outlinewidth\": 0, \"ticks\": \"\"}}, \"type\": \"scattergeo\"}], \"scattergl\": [{\"marker\": {\"colorbar\": {\"outlinewidth\": 0, \"ticks\": \"\"}}, \"type\": \"scattergl\"}], \"scattermapbox\": [{\"marker\": {\"colorbar\": {\"outlinewidth\": 0, \"ticks\": \"\"}}, \"type\": \"scattermapbox\"}], \"scatterpolar\": [{\"marker\": {\"colorbar\": {\"outlinewidth\": 0, \"ticks\": \"\"}}, \"type\": \"scatterpolar\"}], \"scatterpolargl\": [{\"marker\": {\"colorbar\": {\"outlinewidth\": 0, \"ticks\": \"\"}}, \"type\": \"scatterpolargl\"}], \"scatterternary\": [{\"marker\": {\"colorbar\": {\"outlinewidth\": 0, \"ticks\": \"\"}}, \"type\": \"scatterternary\"}], \"surface\": [{\"colorbar\": {\"outlinewidth\": 0, \"ticks\": \"\"}, \"colorscale\": [[0.0, \"#0d0887\"], [0.1111111111111111, \"#46039f\"], [0.2222222222222222, \"#7201a8\"], [0.3333333333333333, \"#9c179e\"], [0.4444444444444444, \"#bd3786\"], [0.5555555555555556, \"#d8576b\"], [0.6666666666666666, \"#ed7953\"], [0.7777777777777778, \"#fb9f3a\"], [0.8888888888888888, \"#fdca26\"], [1.0, \"#f0f921\"]], \"type\": \"surface\"}], \"table\": [{\"cells\": {\"fill\": {\"color\": \"#EBF0F8\"}, \"line\": {\"color\": \"white\"}}, \"header\": {\"fill\": {\"color\": \"#C8D4E3\"}, \"line\": {\"color\": \"white\"}}, \"type\": \"table\"}]}, \"layout\": {\"annotationdefaults\": {\"arrowcolor\": \"#2a3f5f\", \"arrowhead\": 0, \"arrowwidth\": 1}, \"coloraxis\": {\"colorbar\": {\"outlinewidth\": 0, \"ticks\": \"\"}}, \"colorscale\": {\"diverging\": [[0, \"#8e0152\"], [0.1, \"#c51b7d\"], [0.2, \"#de77ae\"], [0.3, \"#f1b6da\"], [0.4, \"#fde0ef\"], [0.5, \"#f7f7f7\"], [0.6, \"#e6f5d0\"], [0.7, \"#b8e186\"], [0.8, \"#7fbc41\"], [0.9, \"#4d9221\"], [1, \"#276419\"]], \"sequential\": [[0.0, \"#0d0887\"], [0.1111111111111111, \"#46039f\"], [0.2222222222222222, \"#7201a8\"], [0.3333333333333333, \"#9c179e\"], [0.4444444444444444, \"#bd3786\"], [0.5555555555555556, \"#d8576b\"], [0.6666666666666666, \"#ed7953\"], [0.7777777777777778, \"#fb9f3a\"], [0.8888888888888888, \"#fdca26\"], [1.0, \"#f0f921\"]], \"sequentialminus\": [[0.0, \"#0d0887\"], [0.1111111111111111, \"#46039f\"], [0.2222222222222222, \"#7201a8\"], [0.3333333333333333, \"#9c179e\"], [0.4444444444444444, \"#bd3786\"], [0.5555555555555556, \"#d8576b\"], [0.6666666666666666, \"#ed7953\"], [0.7777777777777778, \"#fb9f3a\"], [0.8888888888888888, \"#fdca26\"], [1.0, \"#f0f921\"]]}, \"colorway\": [\"#636efa\", \"#EF553B\", \"#00cc96\", \"#ab63fa\", \"#FFA15A\", \"#19d3f3\", \"#FF6692\", \"#B6E880\", \"#FF97FF\", \"#FECB52\"], \"font\": {\"color\": \"#2a3f5f\"}, \"geo\": {\"bgcolor\": \"white\", \"lakecolor\": \"white\", \"landcolor\": \"#E5ECF6\", \"showlakes\": true, \"showland\": true, \"subunitcolor\": \"white\"}, \"hoverlabel\": {\"align\": \"left\"}, \"hovermode\": \"closest\", \"mapbox\": {\"style\": \"light\"}, \"paper_bgcolor\": \"white\", \"plot_bgcolor\": \"#E5ECF6\", \"polar\": {\"angularaxis\": {\"gridcolor\": \"white\", \"linecolor\": \"white\", \"ticks\": \"\"}, \"bgcolor\": \"#E5ECF6\", \"radialaxis\": {\"gridcolor\": \"white\", \"linecolor\": \"white\", \"ticks\": \"\"}}, \"scene\": {\"xaxis\": {\"backgroundcolor\": \"#E5ECF6\", \"gridcolor\": \"white\", \"gridwidth\": 2, \"linecolor\": \"white\", \"showbackground\": true, \"ticks\": \"\", \"zerolinecolor\": \"white\"}, \"yaxis\": {\"backgroundcolor\": \"#E5ECF6\", \"gridcolor\": \"white\", \"gridwidth\": 2, \"linecolor\": \"white\", \"showbackground\": true, \"ticks\": \"\", \"zerolinecolor\": \"white\"}, \"zaxis\": {\"backgroundcolor\": \"#E5ECF6\", \"gridcolor\": \"white\", \"gridwidth\": 2, \"linecolor\": \"white\", \"showbackground\": true, \"ticks\": \"\", \"zerolinecolor\": \"white\"}}, \"shapedefaults\": {\"line\": {\"color\": \"#2a3f5f\"}}, \"ternary\": {\"aaxis\": {\"gridcolor\": \"white\", \"linecolor\": \"white\", \"ticks\": \"\"}, \"baxis\": {\"gridcolor\": \"white\", \"linecolor\": \"white\", \"ticks\": \"\"}, \"bgcolor\": \"#E5ECF6\", \"caxis\": {\"gridcolor\": \"white\", \"linecolor\": \"white\", \"ticks\": \"\"}}, \"title\": {\"x\": 0.05}, \"xaxis\": {\"automargin\": true, \"gridcolor\": \"white\", \"linecolor\": \"white\", \"ticks\": \"\", \"title\": {\"standoff\": 15}, \"zerolinecolor\": \"white\", \"zerolinewidth\": 2}, \"yaxis\": {\"automargin\": true, \"gridcolor\": \"white\", \"linecolor\": \"white\", \"ticks\": \"\", \"title\": {\"standoff\": 15}, \"zerolinecolor\": \"white\", \"zerolinewidth\": 2}}}},\n",
              "                        {\"responsive\": true}\n",
              "                    ).then(function(){\n",
              "                            \n",
              "var gd = document.getElementById('209de123-032f-4dfc-98d4-caf579570a71');\n",
              "var x = new MutationObserver(function (mutations, observer) {{\n",
              "        var display = window.getComputedStyle(gd).display;\n",
              "        if (!display || display === 'none') {{\n",
              "            console.log([gd, 'removed!']);\n",
              "            Plotly.purge(gd);\n",
              "            observer.disconnect();\n",
              "        }}\n",
              "}});\n",
              "\n",
              "// Listen for the removal of the full notebook cells\n",
              "var notebookContainer = gd.closest('#notebook-container');\n",
              "if (notebookContainer) {{\n",
              "    x.observe(notebookContainer, {childList: true});\n",
              "}}\n",
              "\n",
              "// Listen for the clearing of the current output cell\n",
              "var outputEl = gd.closest('.output');\n",
              "if (outputEl) {{\n",
              "    x.observe(outputEl, {childList: true});\n",
              "}}\n",
              "\n",
              "                        })\n",
              "                };\n",
              "                \n",
              "            </script>\n",
              "        </div>\n",
              "</body>\n",
              "</html>"
            ]
          },
          "metadata": {
            "tags": []
          }
        }
      ]
    },
    {
      "cell_type": "code",
      "metadata": {
        "id": "wWJSUbW4YjkH",
        "colab_type": "code",
        "colab": {}
      },
      "source": [
        "from sklearn.tree import DecisionTreeRegressor\n",
        "\n",
        "regressor = DecisionTreeRegressor()"
      ],
      "execution_count": 39,
      "outputs": []
    },
    {
      "cell_type": "code",
      "metadata": {
        "id": "b1rSgGKHY_r4",
        "colab_type": "code",
        "colab": {
          "base_uri": "https://localhost:8080/",
          "height": 119
        },
        "outputId": "8041bcb5-ba68-4fec-872f-1be4b29ce593"
      },
      "source": [
        "regressor.fit(x_train, y_train)"
      ],
      "execution_count": 40,
      "outputs": [
        {
          "output_type": "execute_result",
          "data": {
            "text/plain": [
              "DecisionTreeRegressor(ccp_alpha=0.0, criterion='mse', max_depth=None,\n",
              "                      max_features=None, max_leaf_nodes=None,\n",
              "                      min_impurity_decrease=0.0, min_impurity_split=None,\n",
              "                      min_samples_leaf=1, min_samples_split=2,\n",
              "                      min_weight_fraction_leaf=0.0, presort='deprecated',\n",
              "                      random_state=None, splitter='best')"
            ]
          },
          "metadata": {
            "tags": []
          },
          "execution_count": 40
        }
      ]
    },
    {
      "cell_type": "code",
      "metadata": {
        "id": "Ln_swy-XZGu4",
        "colab_type": "code",
        "colab": {}
      },
      "source": [
        "y_pred = regressor.predict(x_test)"
      ],
      "execution_count": 41,
      "outputs": []
    },
    {
      "cell_type": "code",
      "metadata": {
        "id": "W-8RNW_yZWL4",
        "colab_type": "code",
        "colab": {}
      },
      "source": [
        "resultado[\"valor_predito_arvore\"] = y_pred"
      ],
      "execution_count": 42,
      "outputs": []
    },
    {
      "cell_type": "code",
      "metadata": {
        "id": "Ar5ZVHWeZbRJ",
        "colab_type": "code",
        "colab": {
          "base_uri": "https://localhost:8080/",
          "height": 204
        },
        "outputId": "09749fc6-0291-4f01-e1d2-e82cfcae9ebd"
      },
      "source": [
        "resultado.head()"
      ],
      "execution_count": 43,
      "outputs": [
        {
          "output_type": "execute_result",
          "data": {
            "text/html": [
              "<div>\n",
              "<style scoped>\n",
              "    .dataframe tbody tr th:only-of-type {\n",
              "        vertical-align: middle;\n",
              "    }\n",
              "\n",
              "    .dataframe tbody tr th {\n",
              "        vertical-align: top;\n",
              "    }\n",
              "\n",
              "    .dataframe thead th {\n",
              "        text-align: right;\n",
              "    }\n",
              "</style>\n",
              "<table border=\"1\" class=\"dataframe\">\n",
              "  <thead>\n",
              "    <tr style=\"text-align: right;\">\n",
              "      <th></th>\n",
              "      <th>valor_predito_reg_linear</th>\n",
              "      <th>valor_real</th>\n",
              "      <th>valor_predito_arvore</th>\n",
              "    </tr>\n",
              "  </thead>\n",
              "  <tbody>\n",
              "    <tr>\n",
              "      <th>0</th>\n",
              "      <td>8085.800114</td>\n",
              "      <td>18963.17</td>\n",
              "      <td>4151.03</td>\n",
              "    </tr>\n",
              "    <tr>\n",
              "      <th>1</th>\n",
              "      <td>5959.482633</td>\n",
              "      <td>13725.47</td>\n",
              "      <td>6117.49</td>\n",
              "    </tr>\n",
              "    <tr>\n",
              "      <th>2</th>\n",
              "      <td>2729.708259</td>\n",
              "      <td>2457.21</td>\n",
              "      <td>1906.36</td>\n",
              "    </tr>\n",
              "    <tr>\n",
              "      <th>3</th>\n",
              "      <td>15062.067953</td>\n",
              "      <td>12979.36</td>\n",
              "      <td>13470.86</td>\n",
              "    </tr>\n",
              "    <tr>\n",
              "      <th>4</th>\n",
              "      <td>27480.647012</td>\n",
              "      <td>18648.42</td>\n",
              "      <td>35147.53</td>\n",
              "    </tr>\n",
              "  </tbody>\n",
              "</table>\n",
              "</div>"
            ],
            "text/plain": [
              "   valor_predito_reg_linear  valor_real  valor_predito_arvore\n",
              "0               8085.800114    18963.17               4151.03\n",
              "1               5959.482633    13725.47               6117.49\n",
              "2               2729.708259     2457.21               1906.36\n",
              "3              15062.067953    12979.36              13470.86\n",
              "4              27480.647012    18648.42              35147.53"
            ]
          },
          "metadata": {
            "tags": []
          },
          "execution_count": 43
        }
      ]
    },
    {
      "cell_type": "code",
      "metadata": {
        "id": "fpa1gD5HZctA",
        "colab_type": "code",
        "colab": {
          "base_uri": "https://localhost:8080/",
          "height": 542
        },
        "outputId": "a053cd8f-ca1c-4ad3-c6e3-a5362333418b"
      },
      "source": [
        "fig = go.Figure()\n",
        "\n",
        "# Linha com os dados de teste\n",
        "fig.add_trace(go.Scatter(x=resultado.index,\n",
        "                         y=resultado.valor_real,\n",
        "                         mode='lines+markers',\n",
        "                         name='Valor Real'))\n",
        "\n",
        "# Linha com os dados de teste\n",
        "fig.add_trace(go.Scatter(x=resultado.index,\n",
        "                         y=resultado.valor_predito_reg_linear,\n",
        "                         mode='lines+markers',\n",
        "                         name='Valor Predito Reg Liner'))\n",
        "\n",
        "# Linha com os dados preditos\n",
        "fig.add_trace(go.Scatter(x=resultado.index,\n",
        "                         y=resultado.valor_predito_arvore,\n",
        "                         mode='lines+markers',\n",
        "                         name='Valor Predito Arvore'))\n",
        "# Plota a figura\n",
        "fig.show()"
      ],
      "execution_count": 44,
      "outputs": [
        {
          "output_type": "display_data",
          "data": {
            "text/html": [
              "<html>\n",
              "<head><meta charset=\"utf-8\" /></head>\n",
              "<body>\n",
              "    <div>\n",
              "            <script src=\"https://cdnjs.cloudflare.com/ajax/libs/mathjax/2.7.5/MathJax.js?config=TeX-AMS-MML_SVG\"></script><script type=\"text/javascript\">if (window.MathJax) {MathJax.Hub.Config({SVG: {font: \"STIX-Web\"}});}</script>\n",
              "                <script type=\"text/javascript\">window.PlotlyConfig = {MathJaxConfig: 'local'};</script>\n",
              "        <script src=\"https://cdn.plot.ly/plotly-latest.min.js\"></script>    \n",
              "            <div id=\"74bd4fd8-c118-431a-9846-823d2e50daf0\" class=\"plotly-graph-div\" style=\"height:525px; width:100%;\"></div>\n",
              "            <script type=\"text/javascript\">\n",
              "                \n",
              "                    window.PLOTLYENV=window.PLOTLYENV || {};\n",
              "                    \n",
              "                if (document.getElementById(\"74bd4fd8-c118-431a-9846-823d2e50daf0\")) {\n",
              "                    Plotly.newPlot(\n",
              "                        '74bd4fd8-c118-431a-9846-823d2e50daf0',\n",
              "                        [{\"mode\": \"lines+markers\", \"name\": \"Valor Real\", \"type\": \"scatter\", \"x\": [0, 1, 2, 3, 4, 5, 6, 7, 8, 9, 10, 11, 12, 13, 14, 15, 16, 17, 18, 19, 20, 21, 22, 23, 24, 25, 26, 27, 28, 29, 30, 31, 32, 33, 34, 35, 36, 37, 38, 39, 40, 41, 42, 43, 44, 45, 46, 47, 48, 49, 50, 51, 52, 53, 54, 55, 56, 57, 58, 59, 60, 61, 62, 63, 64, 65, 66, 67, 68, 69, 70, 71, 72, 73, 74, 75, 76, 77, 78, 79, 80, 81, 82, 83, 84, 85, 86, 87, 88, 89, 90, 91, 92, 93, 94, 95, 96, 97, 98, 99, 100, 101, 102, 103, 104, 105, 106, 107, 108, 109, 110, 111, 112, 113, 114, 115, 116, 117, 118, 119, 120, 121, 122, 123, 124, 125, 126, 127, 128, 129, 130, 131, 132, 133, 134, 135, 136, 137, 138, 139, 140, 141, 142, 143, 144, 145, 146, 147, 148, 149, 150, 151, 152, 153, 154, 155, 156, 157, 158, 159, 160, 161, 162, 163, 164, 165, 166, 167, 168, 169, 170, 171, 172, 173, 174, 175, 176, 177, 178, 179, 180, 181, 182, 183, 184, 185, 186, 187, 188, 189, 190, 191, 192, 193, 194, 195, 196, 197, 198, 199, 200, 201, 202, 203, 204, 205, 206, 207, 208, 209, 210, 211, 212, 213, 214, 215, 216, 217, 218, 219, 220, 221, 222, 223, 224, 225, 226, 227, 228, 229, 230, 231, 232, 233, 234, 235, 236, 237, 238, 239, 240, 241, 242, 243, 244, 245, 246, 247, 248, 249, 250, 251, 252, 253, 254, 255, 256, 257, 258, 259, 260, 261, 262, 263, 264, 265, 266, 267, 268, 269, 270, 271, 272, 273, 274, 275, 276, 277, 278, 279, 280, 281, 282, 283, 284, 285, 286, 287, 288, 289, 290, 291, 292, 293, 294, 295, 296, 297, 298, 299, 300, 301, 302, 303, 304, 305, 306, 307, 308, 309, 310, 311, 312, 313, 314, 315, 316, 317, 318, 319, 320, 321, 322, 323, 324, 325, 326, 327, 328, 329, 330, 331, 332, 333, 334, 335, 336, 337, 338, 339, 340, 341, 342, 343, 344, 345, 346, 347, 348, 349, 350, 351, 352, 353, 354, 355, 356, 357, 358, 359, 360, 361, 362, 363, 364, 365, 366, 367, 368, 369, 370, 371, 372, 373, 374, 375, 376, 377, 378, 379, 380, 381, 382, 383, 384, 385, 386, 387, 388, 389, 390, 391, 392, 393, 394, 395, 396, 397, 398, 399, 400, 401], \"y\": [18963.17, 13725.47, 2457.21, 12979.36, 18648.42, 6551.75, 7160.33, 19442.35, 8280.62, 1708.93, 34828.65, 14571.89, 11070.54, 7358.18, 1967.02, 4527.18, 4134.08, 17043.34, 2689.5, 17626.24, 4877.98, 12913.99, 2257.48, 9630.4, 14358.36, 6555.07, 18806.15, 48970.25, 3561.89, 9634.54, 13143.34, 38282.75, 16455.71, 3260.2, 10461.98, 2055.32, 4670.64, 25333.33, 11454.02, 11737.85, 17663.14, 34838.87, 4185.1, 10848.13, 8596.83, 25309.49, 11735.88, 11482.63, 17496.31, 5375.04, 3732.63, 2730.11, 6112.35, 22218.11, 2396.1, 1256.3, 6496.89, 15612.19, 35069.37, 8116.27, 39727.61, 23288.93, 14451.84, 5846.92, 7518.03, 5138.26, 51194.56, 2331.52, 8965.8, 12557.61, 10601.63, 19362.0, 8604.48, 27322.73, 12146.97, 1631.67, 8978.19, 9101.8, 7749.16, 34254.05, 8569.86, 5267.82, 7323.73, 41919.1, 2007.95, 37079.37, 11566.3, 9500.57, 45863.21, 16138.76, 18218.16, 41999.52, 40941.29, 13981.85, 8302.54, 34779.62, 13451.12, 1163.46, 11488.32, 11362.76, 1837.24, 32734.19, 8027.97, 36910.61, 2128.43, 9625.92, 4906.41, 7727.25, 13616.36, 10422.92, 28868.66, 2207.7, 9174.14, 10704.47, 37607.53, 26392.26, 3554.2, 14394.4, 4922.92, 1769.53, 1241.57, 5148.55, 19040.88, 2534.39, 46130.53, 12957.12, 7626.99, 5397.62, 19673.34, 2709.24, 10381.48, 1880.49, 7804.16, 4751.07, 6571.54, 9377.9, 11085.59, 12981.35, 13224.69, 12268.63, 12644.59, 20149.32, 27724.29, 11073.18, 11345.52, 2803.7, 7441.05, 37270.15, 4779.6, 2867.12, 16450.89, 4673.39, 36124.57, 8269.04, 3597.6, 2801.26, 19199.94, 17560.38, 19350.37, 6474.01, 2721.32, 9414.92, 8556.91, 12928.79, 19444.27, 6799.46, 43813.87, 38711.0, 5649.72, 11013.71, 6781.35, 10977.21, 21232.18, 37742.58, 13126.68, 25656.58, 46113.51, 7144.86, 2156.75, 4561.19, 15820.7, 43896.38, 14474.68, 5012.47, 14313.85, 2138.07, 12363.55, 4883.87, 9386.16, 4889.04, 30260.0, 18157.88, 13919.82, 37701.88, 5910.94, 8891.14, 33471.97, 34303.17, 18608.26, 2322.62, 7623.52, 13012.21, 12430.95, 43943.88, 9290.14, 5630.46, 11455.28, 9869.81, 28468.92, 9504.31, 8534.67, 8551.35, 10043.25, 33750.29, 6113.23, 4562.84, 10795.94, 39774.28, 11879.1, 8823.28, 18955.22, 26018.95, 6406.41, 1737.38, 3558.62, 3594.17, 13217.09, 2639.04, 47403.88, 1719.44, 13415.04, 5261.47, 21098.55, 35595.59, 9991.04, 10065.41, 17085.27, 12485.8, 18804.75, 17352.68, 17361.77, 2866.09, 12265.51, 2643.27, 7050.02, 1526.31, 1261.44, 6875.96, 3309.79, 11520.1, 7196.87, 9620.33, 9875.68, 3268.85, 1135.94, 18223.45, 14119.62, 47291.06, 7281.51, 3925.76, 11657.72, 35160.13, 11945.13, 2203.74, 10959.69, 5974.38, 3171.61, 38245.59, 20745.99, 9058.73, 8277.52, 1253.94, 40974.16, 48673.56, 2200.83, 27941.29, 17929.3, 4320.41, 14001.29, 16657.72, 46151.12, 42969.85, 60021.4, 2727.4, 1727.54, 9447.25, 27117.99, 8347.16, 43254.42, 21472.48, 6393.6, 47462.89, 2597.78, 25517.11, 7228.22, 9447.38, 9264.8, 4500.34, 4667.61, 9549.57, 42211.14, 1633.04, 7209.49, 9487.64, 10791.96, 10115.01, 3500.61, 40182.25, 7418.52, 11534.87, 2130.68, 41676.08, 31620.0, 29186.48, 1917.32, 7151.09, 7512.27, 10796.35, 1621.88, 1146.8, 9432.93, 37165.16, 15828.82, 9282.48, 20984.09, 6686.43, 49577.66, 10806.84, 15161.53, 14133.04, 4347.02, 39871.7, 4415.16, 10928.85, 1263.25, 11538.42, 3943.6, 18259.22, 5266.37, 45702.02, 9866.3, 2166.73, 7050.64, 1635.73, 3981.98, 3875.73, 11743.93, 8538.29, 24667.42, 12333.83, 6775.96, 9861.03, 7954.52, 3062.51, 1149.4, 5209.58, 2217.47, 14007.22, 6198.75, 4296.27, 8827.21, 14590.63, 40720.55, 38415.47, 14418.28, 13393.76, 21797.0, 46255.11, 7537.16, 24873.38, 5373.36, 24106.91, 41034.22, 1639.56, 52590.83, 47055.53, 8522.0, 11938.26, 12638.2, 24393.62, 8964.06, 10736.87, 3161.45, 47269.85, 38126.25, 11365.95, 9704.67, 1632.04, 6985.51, 1708.0, 4040.56, 3385.4, 14988.43, 3490.55, 12643.38, 12029.29, 4837.58, 4266.17, 16884.92, 11881.36, 10602.39, 6272.48]}, {\"mode\": \"lines+markers\", \"name\": \"Valor Predito Reg Liner\", \"type\": \"scatter\", \"x\": [0, 1, 2, 3, 4, 5, 6, 7, 8, 9, 10, 11, 12, 13, 14, 15, 16, 17, 18, 19, 20, 21, 22, 23, 24, 25, 26, 27, 28, 29, 30, 31, 32, 33, 34, 35, 36, 37, 38, 39, 40, 41, 42, 43, 44, 45, 46, 47, 48, 49, 50, 51, 52, 53, 54, 55, 56, 57, 58, 59, 60, 61, 62, 63, 64, 65, 66, 67, 68, 69, 70, 71, 72, 73, 74, 75, 76, 77, 78, 79, 80, 81, 82, 83, 84, 85, 86, 87, 88, 89, 90, 91, 92, 93, 94, 95, 96, 97, 98, 99, 100, 101, 102, 103, 104, 105, 106, 107, 108, 109, 110, 111, 112, 113, 114, 115, 116, 117, 118, 119, 120, 121, 122, 123, 124, 125, 126, 127, 128, 129, 130, 131, 132, 133, 134, 135, 136, 137, 138, 139, 140, 141, 142, 143, 144, 145, 146, 147, 148, 149, 150, 151, 152, 153, 154, 155, 156, 157, 158, 159, 160, 161, 162, 163, 164, 165, 166, 167, 168, 169, 170, 171, 172, 173, 174, 175, 176, 177, 178, 179, 180, 181, 182, 183, 184, 185, 186, 187, 188, 189, 190, 191, 192, 193, 194, 195, 196, 197, 198, 199, 200, 201, 202, 203, 204, 205, 206, 207, 208, 209, 210, 211, 212, 213, 214, 215, 216, 217, 218, 219, 220, 221, 222, 223, 224, 225, 226, 227, 228, 229, 230, 231, 232, 233, 234, 235, 236, 237, 238, 239, 240, 241, 242, 243, 244, 245, 246, 247, 248, 249, 250, 251, 252, 253, 254, 255, 256, 257, 258, 259, 260, 261, 262, 263, 264, 265, 266, 267, 268, 269, 270, 271, 272, 273, 274, 275, 276, 277, 278, 279, 280, 281, 282, 283, 284, 285, 286, 287, 288, 289, 290, 291, 292, 293, 294, 295, 296, 297, 298, 299, 300, 301, 302, 303, 304, 305, 306, 307, 308, 309, 310, 311, 312, 313, 314, 315, 316, 317, 318, 319, 320, 321, 322, 323, 324, 325, 326, 327, 328, 329, 330, 331, 332, 333, 334, 335, 336, 337, 338, 339, 340, 341, 342, 343, 344, 345, 346, 347, 348, 349, 350, 351, 352, 353, 354, 355, 356, 357, 358, 359, 360, 361, 362, 363, 364, 365, 366, 367, 368, 369, 370, 371, 372, 373, 374, 375, 376, 377, 378, 379, 380, 381, 382, 383, 384, 385, 386, 387, 388, 389, 390, 391, 392, 393, 394, 395, 396, 397, 398, 399, 400, 401], \"y\": [8085.800114174828, 5959.4826334780455, 2729.708259151086, 15062.067952697145, 27480.647011663837, 9765.205379767802, 10537.916107523959, 7661.600459531373, 9389.151788793894, 1350.615812210358, 27582.78420763021, 24515.3048429649, 9772.017698730444, 9120.453671555826, 2405.060163728257, 5840.295124738878, 3436.3032424355742, 26367.19836959753, 6874.05506454048, 3723.5370021579565, 5609.274700640488, 11383.276146440581, 3152.431222467738, 11598.13295419146, 7456.4407424495, 7022.7102401030115, 10549.061379106943, 39213.62911715366, 2377.6183838031156, 12727.133617921289, 13925.414931902918, 31343.97252591155, 15468.417158339684, 2233.954413868444, 12158.439964902289, 4591.833221804761, 8268.80183413093, 11891.836691464123, 10617.463625363747, 6097.765534549055, 27377.46791128881, 28383.652153848903, 3641.8911886464903, 14005.054895248495, 10849.463191393204, 34108.10946526077, 11992.356011678774, 3184.4188563027164, 27374.96989690091, 7798.225038361799, 915.836847666108, 6846.6153652109515, 9337.321515985544, 31544.5874144053, 2019.1834938342458, 2616.288059048574, 7170.6095306392945, 15929.948712838677, 30230.572622764375, 10796.221732287959, 33400.45946198942, 3685.776873173374, 11079.127725902943, 11268.36939953085, 8155.300932824684, 8907.433173313553, 30711.07012947234, 2517.6503353898906, 8666.367784666401, 12596.146907604649, 12636.271133660768, 29164.989557452594, 8094.552778273453, 12605.074453053969, 11846.551564942394, 4571.375536275622, 12378.802095126752, 8831.129545227031, 10474.592689252871, 27899.95949630681, 14244.508965933024, 6265.942960296312, 2384.8696508751354, 34959.27259033544, 1640.7796306864675, 30482.576593539678, 15364.554945076869, 9101.62371725883, 36590.012841741445, 26439.709948204843, 4806.693135472973, 34706.739460721044, 33739.669865458025, 15463.681381085784, 7244.782537404526, 27550.529401119216, 11096.826782157272, 9342.986869590437, 12910.052902032487, 13566.0205733703, 1257.6128511481293, 26922.276894217226, 9252.315333995692, 14571.218208229986, 3399.324402972733, 10727.335614239428, 3470.575643414517, 10920.169051500356, 10250.467019962027, 9202.70589323834, 36633.51176894986, 3675.061911315046, 11301.497786888913, 11212.338720142357, 31113.864566098942, 12165.912771648522, 4385.981208835157, 13544.492473019685, 7308.897618223249, 3343.8600312208728, -802.7214311171861, 6955.838610605095, 28896.0177097494, 6431.538201169593, 38420.688993105665, 9901.298910937505, 8150.580005790172, 9148.67984692004, 6561.738435451543, 2008.3943885612898, 12936.405773271012, 3822.961201851327, 12289.98434447084, 6951.509109856524, 9595.710947870608, 10222.884401566405, 11506.316187880142, 15155.421893556459, 12328.500358481671, 13694.833109959463, 13880.704405448103, 29937.917347689472, 4587.5927146902, 10384.859022439401, 9566.42456600658, 1195.9508610349562, 9224.033861923235, 30917.62583667728, 5444.187018823824, 3820.993717578678, 25940.63669847815, 8555.68461405623, 29154.274595594266, 7070.216198675736, 7261.386473137578, 3628.039478579605, 29059.309336772334, 26822.66174585808, 28422.72273119432, 10519.118478876573, 3041.3730388411477, 10713.053594447887, 11603.025310704892, 13211.005825781549, 29162.27966709692, 7765.3249402410365, 36015.24892988838, 31901.705644178677, 8163.336595335775, 8542.842136793943, 9855.493263961413, 15028.994862047324, 9229.188204599735, 31091.088416500068, 2824.2432082483583, 9386.00848279623, 37002.42711970509, 7696.087842395422, 2487.1393928817142, 5142.88967306678, 27052.683817954006, 35506.51228641845, 14777.63618288178, 7781.08883787233, 14760.499982392308, 5624.906052231578, 14757.492674306623, 5323.732614130015, 12158.172792226269, 6158.947104742274, 12108.000495704058, 6500.427425135454, 14379.350797321915, 31073.745526555766, 7368.111704143819, 7692.376494119953, 14500.022264496447, 26979.695271298508, 28701.796574795684, 5529.317454423598, 7344.209843015229, 11016.847583316665, 13087.708984691866, 30883.62716616346, 10917.020558989745, 9411.795392352564, 11105.610037264336, 10904.475845411916, 12747.809737207313, 13893.941414913663, 7675.322729475389, 10312.833050264982, 11516.843306990024, 27331.566712889595, 7420.568767809993, 5626.570586306825, 4566.002759842237, 32824.55031941978, 12695.496963883394, 9588.108701001505, 2932.152899364338, 5606.995120009473, 8069.900218631559, 812.1189247455513, 3227.0376448749594, 2752.61695479016, 11819.807267417928, 3878.25414412427, 38497.46958924037, 2210.701296221394, 10318.387111657703, 6738.537350533386, 31612.993112533877, 28248.085700922675, 7282.892274910031, 8281.042226235197, 25395.318853665987, 15712.681149692738, 6798.8116429537695, 26428.432130581656, 28091.314161645314, 3953.4234222963514, 14373.097882252363, 4878.1531459652, 9264.591503621341, 3315.929538945501, 3809.715899955492, 9433.51789324073, 3424.4573825345815, 11027.56599704677, 10708.591547659113, 11309.506310263345, 13912.826665918901, 6719.60198933285, 2956.5351804128823, 26106.942191375878, 14920.777743540448, 38141.97442173166, 8297.221038756536, 6098.552010583743, 11097.875244355033, 10531.014448972865, 13880.270989806115, 2739.672522496111, 14192.592805407998, 6822.360443689662, 5295.66957581444, 30347.6165487845, 30441.94170250961, 14759.666848034101, 9037.759395846599, 2067.956348361613, 33549.27777460059, 38873.94485155421, 2062.321585765158, 15942.137260106474, 8904.148682890966, 8628.408068631321, 12467.271971902912, 26631.365483145142, 37577.07281819187, 34953.370655062965, 37525.156657666834, 4460.58452532505, 4081.480073859264, 9391.999411702716, 8337.069453751914, 12195.237519405793, 35738.54228927589, 31234.374267500993, 8497.777524624713, 38410.88786680928, 2346.4120394898773, 10198.631560640732, 5895.809606686035, 9424.254218213713, 7071.397206913698, 3625.502580752989, 8792.262551419115, 15213.33416950092, 34757.74178568413, 4893.923601385598, 9613.677176800955, 10023.364633593934, 8787.154867066136, 12666.3082140381, 7135.030133171293, 33637.8805433714, 10118.95978919102, 8074.968673591378, 3915.401307148697, 34277.893022457705, 15805.465676998085, 12701.487892789877, 5903.135017172681, 7914.4876748601855, 9145.242229109695, 11052.3751359482, 2281.284273994781, 5472.410088270708, 16139.24490140773, 29318.340954349835, 9319.761563560522, 9110.751394373872, 30433.72130316741, 6398.160789046208, 39587.930205740035, 12428.893690445228, 15283.666387867814, 4603.630342786618, 6077.786897663709, 32711.000679194403, 4975.483527180383, 11580.867313579121, 4229.028384598461, 17224.895597238872, 5636.183869854765, 28338.5583219474, 5911.140088675337, 38032.88061646039, 11719.499823171052, 5167.698811968207, 8160.544269135198, 2494.089790351946, 4813.865072617417, 8548.512676911781, 13863.134789316642, 10660.737715206638, 33005.32567485749, 11670.15892636588, 8955.769160327156, 9260.750715223005, 10108.995525845994, 5626.349046632609, 6085.251411979663, 4331.971575786384, 5932.898367084888, 14212.44200217047, 6654.099210821341, 2678.979664653123, 9387.31893115706, 14667.419771998118, 34813.390894267104, 32150.9608411596, 16270.402523657815, 13912.040189884214, 14351.28120121723, 37802.994196322, 9340.52011869145, 33599.90508654727, 8033.883953649798, 33039.247096039355, 34171.649946012585, 3397.2243726598836, 36619.51887445805, 37713.95282539625, 11163.439877363893, 12182.47437207108, 12396.983305942207, 33698.75468617372, 10680.091641829775, 13571.104224503952, 3299.2820508062605, 38293.01391234828, 30118.720188218293, 14307.881123123248, 13801.780226594365, 1655.4648210660043, 6291.912526088145, 1157.0869731443709, 5404.326859526391, 4151.281762110908, 12754.0657581942, 5822.4583359314, 14254.310092229412, 9367.26096434414, 6787.661184857838, 10339.66323550613, 25359.302588684222, 11978.507407529221, 14575.883838556258, 5208.701096064885]}, {\"mode\": \"lines+markers\", \"name\": \"Valor Predito Arvore\", \"type\": \"scatter\", \"x\": [0, 1, 2, 3, 4, 5, 6, 7, 8, 9, 10, 11, 12, 13, 14, 15, 16, 17, 18, 19, 20, 21, 22, 23, 24, 25, 26, 27, 28, 29, 30, 31, 32, 33, 34, 35, 36, 37, 38, 39, 40, 41, 42, 43, 44, 45, 46, 47, 48, 49, 50, 51, 52, 53, 54, 55, 56, 57, 58, 59, 60, 61, 62, 63, 64, 65, 66, 67, 68, 69, 70, 71, 72, 73, 74, 75, 76, 77, 78, 79, 80, 81, 82, 83, 84, 85, 86, 87, 88, 89, 90, 91, 92, 93, 94, 95, 96, 97, 98, 99, 100, 101, 102, 103, 104, 105, 106, 107, 108, 109, 110, 111, 112, 113, 114, 115, 116, 117, 118, 119, 120, 121, 122, 123, 124, 125, 126, 127, 128, 129, 130, 131, 132, 133, 134, 135, 136, 137, 138, 139, 140, 141, 142, 143, 144, 145, 146, 147, 148, 149, 150, 151, 152, 153, 154, 155, 156, 157, 158, 159, 160, 161, 162, 163, 164, 165, 166, 167, 168, 169, 170, 171, 172, 173, 174, 175, 176, 177, 178, 179, 180, 181, 182, 183, 184, 185, 186, 187, 188, 189, 190, 191, 192, 193, 194, 195, 196, 197, 198, 199, 200, 201, 202, 203, 204, 205, 206, 207, 208, 209, 210, 211, 212, 213, 214, 215, 216, 217, 218, 219, 220, 221, 222, 223, 224, 225, 226, 227, 228, 229, 230, 231, 232, 233, 234, 235, 236, 237, 238, 239, 240, 241, 242, 243, 244, 245, 246, 247, 248, 249, 250, 251, 252, 253, 254, 255, 256, 257, 258, 259, 260, 261, 262, 263, 264, 265, 266, 267, 268, 269, 270, 271, 272, 273, 274, 275, 276, 277, 278, 279, 280, 281, 282, 283, 284, 285, 286, 287, 288, 289, 290, 291, 292, 293, 294, 295, 296, 297, 298, 299, 300, 301, 302, 303, 304, 305, 306, 307, 308, 309, 310, 311, 312, 313, 314, 315, 316, 317, 318, 319, 320, 321, 322, 323, 324, 325, 326, 327, 328, 329, 330, 331, 332, 333, 334, 335, 336, 337, 338, 339, 340, 341, 342, 343, 344, 345, 346, 347, 348, 349, 350, 351, 352, 353, 354, 355, 356, 357, 358, 359, 360, 361, 362, 363, 364, 365, 366, 367, 368, 369, 370, 371, 372, 373, 374, 375, 376, 377, 378, 379, 380, 381, 382, 383, 384, 385, 386, 387, 388, 389, 390, 391, 392, 393, 394, 395, 396, 397, 398, 399, 400, 401], \"y\": [4151.03, 6117.49, 1906.36, 13470.86, 35147.53, 6079.67, 6289.75, 4433.92, 8283.68, 1705.62, 36397.58, 15817.99, 11837.16, 6500.24, 1964.78, 4237.13, 3736.46, 16232.85, 3766.88, 3972.92, 24671.66, 12124.99, 1906.36, 9048.03, 5377.46, 6067.13, 7441.5, 48675.52, 25081.77, 11411.69, 13143.86, 55135.4, 16069.08, 2302.3, 10231.5, 2261.57, 5152.13, 9048.03, 11658.12, 5257.51, 20167.34, 34806.47, 4571.41, 10370.91, 6289.75, 24915.22, 12129.61, 1629.83, 18972.5, 6402.29, 2680.95, 2136.88, 7261.74, 23244.79, 2395.17, 1744.47, 6770.19, 15019.76, 18767.74, 12797.21, 39725.52, 4133.64, 14449.85, 4536.26, 7624.63, 3987.93, 39241.44, 1842.52, 8582.3, 13143.86, 10435.07, 26125.67, 8603.82, 14001.13, 13041.92, 1631.82, 8968.33, 9095.07, 8059.68, 34166.27, 20878.78, 5272.18, 11774.16, 41097.16, 2154.36, 55135.4, 20709.02, 9095.07, 63770.43, 16115.3, 3227.12, 42303.69, 39836.52, 13974.46, 8211.1, 36397.58, 24513.09, 1141.45, 11187.66, 10085.85, 1832.09, 16776.3, 8516.83, 11674.13, 1639.56, 11150.78, 4719.74, 8310.84, 13129.6, 9863.47, 28101.33, 2211.13, 8798.59, 11842.44, 58571.07, 8871.15, 3757.84, 13047.33, 4433.92, 1906.36, 1242.26, 16796.41, 19107.78, 2523.17, 43578.94, 24513.09, 7726.85, 5400.98, 3556.92, 2709.11, 11436.74, 2020.18, 8125.78, 4746.34, 6082.41, 9391.35, 10702.64, 13470.8, 13112.6, 11289.11, 13228.85, 21659.93, 1725.55, 11842.44, 10959.33, 22493.66, 6849.03, 39983.43, 4571.41, 3947.41, 15518.18, 5152.13, 36021.01, 7147.11, 3591.48, 2304.0, 18972.5, 35147.53, 19719.69, 5709.16, 2523.17, 8944.12, 20878.78, 11881.97, 17179.52, 4915.06, 45008.96, 58571.07, 5415.66, 22192.44, 5920.1, 11033.66, 8703.46, 38709.18, 2464.62, 9617.66, 63770.43, 7201.7, 2741.95, 3481.87, 19023.26, 42560.43, 27000.98, 5245.23, 13887.2, 2136.88, 10085.85, 5472.45, 9391.35, 5478.04, 13041.92, 4438.26, 14235.07, 35491.64, 5415.66, 8211.1, 30063.58, 33732.69, 20167.34, 2498.41, 7624.63, 12523.6, 10435.07, 35491.64, 9288.03, 12404.88, 11842.44, 10594.5, 8765.25, 10982.5, 7742.11, 20878.78, 8871.15, 36898.73, 5425.02, 4350.51, 2473.33, 40419.02, 11512.41, 8516.83, 2464.62, 3579.83, 20420.6, 1731.68, 3353.47, 12609.89, 13041.92, 11272.33, 46599.11, 1720.35, 13129.6, 5257.51, 18767.74, 34166.27, 10197.77, 10577.09, 16577.78, 11090.72, 4846.92, 17748.51, 16776.3, 3353.28, 20463.0, 2362.23, 6571.02, 16586.5, 1261.86, 7729.65, 12609.89, 30284.64, 7160.09, 10141.14, 9283.56, 3556.92, 1136.4, 16297.85, 14235.07, 47928.03, 6311.95, 3579.83, 11658.12, 12094.48, 10976.25, 11774.16, 12235.84, 5484.47, 3766.88, 19515.54, 18310.74, 9048.03, 8703.46, 1743.21, 41097.16, 48173.36, 2198.19, 14235.07, 7633.72, 12404.88, 14001.13, 16115.3, 44202.65, 42111.66, 43921.18, 2523.17, 1725.55, 9617.66, 27346.04, 8825.09, 44260.75, 18310.74, 6282.24, 44400.41, 2585.27, 10942.13, 7133.9, 9617.66, 9644.25, 5354.07, 18903.49, 9877.61, 42111.66, 1633.96, 7201.7, 27346.04, 10577.09, 20878.78, 3591.48, 38709.18, 6082.41, 11165.42, 2205.98, 42111.66, 27000.98, 13430.27, 2404.73, 7201.7, 8582.3, 10594.5, 16586.5, 1141.45, 8733.23, 37484.45, 8162.72, 8444.47, 20009.63, 8252.28, 46599.11, 11163.57, 15019.76, 1631.82, 3857.76, 40419.02, 5003.85, 10338.93, 1261.86, 11576.13, 3857.76, 26125.67, 5272.18, 44202.65, 9283.56, 2020.55, 7045.5, 1632.56, 4349.46, 4151.03, 11944.59, 8059.68, 24180.93, 10965.45, 6500.24, 8932.08, 7682.67, 3857.76, 1141.45, 4827.9, 2217.6, 11674.13, 6203.9, 4005.42, 10493.95, 13607.37, 42760.5, 38709.18, 30166.62, 13390.56, 12646.21, 44400.41, 7201.7, 24869.84, 5377.46, 24869.84, 39556.49, 1639.56, 45008.96, 46889.26, 7441.5, 11353.23, 13228.85, 21223.68, 8765.25, 9563.03, 3172.02, 44400.41, 39611.76, 12646.21, 8733.23, 1632.56, 7173.36, 1705.62, 4337.74, 3176.82, 16085.13, 18903.49, 12269.69, 11830.61, 5325.65, 4686.39, 16297.85, 12105.32, 11576.13, 6117.49]}],\n",
              "                        {\"template\": {\"data\": {\"bar\": [{\"error_x\": {\"color\": \"#2a3f5f\"}, \"error_y\": {\"color\": \"#2a3f5f\"}, \"marker\": {\"line\": {\"color\": \"#E5ECF6\", \"width\": 0.5}}, \"type\": \"bar\"}], \"barpolar\": [{\"marker\": {\"line\": {\"color\": \"#E5ECF6\", \"width\": 0.5}}, \"type\": \"barpolar\"}], \"carpet\": [{\"aaxis\": {\"endlinecolor\": \"#2a3f5f\", \"gridcolor\": \"white\", \"linecolor\": \"white\", \"minorgridcolor\": \"white\", \"startlinecolor\": \"#2a3f5f\"}, \"baxis\": {\"endlinecolor\": \"#2a3f5f\", \"gridcolor\": \"white\", \"linecolor\": \"white\", \"minorgridcolor\": \"white\", \"startlinecolor\": \"#2a3f5f\"}, \"type\": \"carpet\"}], \"choropleth\": [{\"colorbar\": {\"outlinewidth\": 0, \"ticks\": \"\"}, \"type\": \"choropleth\"}], \"contour\": [{\"colorbar\": {\"outlinewidth\": 0, \"ticks\": \"\"}, \"colorscale\": [[0.0, \"#0d0887\"], [0.1111111111111111, \"#46039f\"], [0.2222222222222222, \"#7201a8\"], [0.3333333333333333, \"#9c179e\"], [0.4444444444444444, \"#bd3786\"], [0.5555555555555556, \"#d8576b\"], [0.6666666666666666, \"#ed7953\"], [0.7777777777777778, \"#fb9f3a\"], [0.8888888888888888, \"#fdca26\"], [1.0, \"#f0f921\"]], \"type\": \"contour\"}], \"contourcarpet\": [{\"colorbar\": {\"outlinewidth\": 0, \"ticks\": \"\"}, \"type\": \"contourcarpet\"}], \"heatmap\": [{\"colorbar\": {\"outlinewidth\": 0, \"ticks\": \"\"}, \"colorscale\": [[0.0, \"#0d0887\"], [0.1111111111111111, \"#46039f\"], [0.2222222222222222, \"#7201a8\"], [0.3333333333333333, \"#9c179e\"], [0.4444444444444444, \"#bd3786\"], [0.5555555555555556, \"#d8576b\"], [0.6666666666666666, \"#ed7953\"], [0.7777777777777778, \"#fb9f3a\"], [0.8888888888888888, \"#fdca26\"], [1.0, \"#f0f921\"]], \"type\": \"heatmap\"}], \"heatmapgl\": [{\"colorbar\": {\"outlinewidth\": 0, \"ticks\": \"\"}, \"colorscale\": [[0.0, \"#0d0887\"], [0.1111111111111111, \"#46039f\"], [0.2222222222222222, \"#7201a8\"], [0.3333333333333333, \"#9c179e\"], [0.4444444444444444, \"#bd3786\"], [0.5555555555555556, \"#d8576b\"], [0.6666666666666666, \"#ed7953\"], [0.7777777777777778, \"#fb9f3a\"], [0.8888888888888888, \"#fdca26\"], [1.0, \"#f0f921\"]], \"type\": \"heatmapgl\"}], \"histogram\": [{\"marker\": {\"colorbar\": {\"outlinewidth\": 0, \"ticks\": \"\"}}, \"type\": \"histogram\"}], \"histogram2d\": [{\"colorbar\": {\"outlinewidth\": 0, \"ticks\": \"\"}, \"colorscale\": [[0.0, \"#0d0887\"], [0.1111111111111111, \"#46039f\"], [0.2222222222222222, \"#7201a8\"], [0.3333333333333333, \"#9c179e\"], [0.4444444444444444, \"#bd3786\"], [0.5555555555555556, \"#d8576b\"], [0.6666666666666666, \"#ed7953\"], [0.7777777777777778, \"#fb9f3a\"], [0.8888888888888888, \"#fdca26\"], [1.0, \"#f0f921\"]], \"type\": \"histogram2d\"}], \"histogram2dcontour\": [{\"colorbar\": {\"outlinewidth\": 0, \"ticks\": \"\"}, \"colorscale\": [[0.0, \"#0d0887\"], [0.1111111111111111, \"#46039f\"], [0.2222222222222222, \"#7201a8\"], [0.3333333333333333, \"#9c179e\"], [0.4444444444444444, \"#bd3786\"], [0.5555555555555556, \"#d8576b\"], [0.6666666666666666, \"#ed7953\"], [0.7777777777777778, \"#fb9f3a\"], [0.8888888888888888, \"#fdca26\"], [1.0, \"#f0f921\"]], \"type\": \"histogram2dcontour\"}], \"mesh3d\": [{\"colorbar\": {\"outlinewidth\": 0, \"ticks\": \"\"}, \"type\": \"mesh3d\"}], \"parcoords\": [{\"line\": {\"colorbar\": {\"outlinewidth\": 0, \"ticks\": \"\"}}, \"type\": \"parcoords\"}], \"pie\": [{\"automargin\": true, \"type\": \"pie\"}], \"scatter\": [{\"marker\": {\"colorbar\": {\"outlinewidth\": 0, \"ticks\": \"\"}}, \"type\": \"scatter\"}], \"scatter3d\": [{\"line\": {\"colorbar\": {\"outlinewidth\": 0, \"ticks\": \"\"}}, \"marker\": {\"colorbar\": {\"outlinewidth\": 0, \"ticks\": \"\"}}, \"type\": \"scatter3d\"}], \"scattercarpet\": [{\"marker\": {\"colorbar\": {\"outlinewidth\": 0, \"ticks\": \"\"}}, \"type\": \"scattercarpet\"}], \"scattergeo\": [{\"marker\": {\"colorbar\": {\"outlinewidth\": 0, \"ticks\": \"\"}}, \"type\": \"scattergeo\"}], \"scattergl\": [{\"marker\": {\"colorbar\": {\"outlinewidth\": 0, \"ticks\": \"\"}}, \"type\": \"scattergl\"}], \"scattermapbox\": [{\"marker\": {\"colorbar\": {\"outlinewidth\": 0, \"ticks\": \"\"}}, \"type\": \"scattermapbox\"}], \"scatterpolar\": [{\"marker\": {\"colorbar\": {\"outlinewidth\": 0, \"ticks\": \"\"}}, \"type\": \"scatterpolar\"}], \"scatterpolargl\": [{\"marker\": {\"colorbar\": {\"outlinewidth\": 0, \"ticks\": \"\"}}, \"type\": \"scatterpolargl\"}], \"scatterternary\": [{\"marker\": {\"colorbar\": {\"outlinewidth\": 0, \"ticks\": \"\"}}, \"type\": \"scatterternary\"}], \"surface\": [{\"colorbar\": {\"outlinewidth\": 0, \"ticks\": \"\"}, \"colorscale\": [[0.0, \"#0d0887\"], [0.1111111111111111, \"#46039f\"], [0.2222222222222222, \"#7201a8\"], [0.3333333333333333, \"#9c179e\"], [0.4444444444444444, \"#bd3786\"], [0.5555555555555556, \"#d8576b\"], [0.6666666666666666, \"#ed7953\"], [0.7777777777777778, \"#fb9f3a\"], [0.8888888888888888, \"#fdca26\"], [1.0, \"#f0f921\"]], \"type\": \"surface\"}], \"table\": [{\"cells\": {\"fill\": {\"color\": \"#EBF0F8\"}, \"line\": {\"color\": \"white\"}}, \"header\": {\"fill\": {\"color\": \"#C8D4E3\"}, \"line\": {\"color\": \"white\"}}, \"type\": \"table\"}]}, \"layout\": {\"annotationdefaults\": {\"arrowcolor\": \"#2a3f5f\", \"arrowhead\": 0, \"arrowwidth\": 1}, \"coloraxis\": {\"colorbar\": {\"outlinewidth\": 0, \"ticks\": \"\"}}, \"colorscale\": {\"diverging\": [[0, \"#8e0152\"], [0.1, \"#c51b7d\"], [0.2, \"#de77ae\"], [0.3, \"#f1b6da\"], [0.4, \"#fde0ef\"], [0.5, \"#f7f7f7\"], [0.6, \"#e6f5d0\"], [0.7, \"#b8e186\"], [0.8, \"#7fbc41\"], [0.9, \"#4d9221\"], [1, \"#276419\"]], \"sequential\": [[0.0, \"#0d0887\"], [0.1111111111111111, \"#46039f\"], [0.2222222222222222, \"#7201a8\"], [0.3333333333333333, \"#9c179e\"], [0.4444444444444444, \"#bd3786\"], [0.5555555555555556, \"#d8576b\"], [0.6666666666666666, \"#ed7953\"], [0.7777777777777778, \"#fb9f3a\"], [0.8888888888888888, \"#fdca26\"], [1.0, \"#f0f921\"]], \"sequentialminus\": [[0.0, \"#0d0887\"], [0.1111111111111111, \"#46039f\"], [0.2222222222222222, \"#7201a8\"], [0.3333333333333333, \"#9c179e\"], [0.4444444444444444, \"#bd3786\"], [0.5555555555555556, \"#d8576b\"], [0.6666666666666666, \"#ed7953\"], [0.7777777777777778, \"#fb9f3a\"], [0.8888888888888888, \"#fdca26\"], [1.0, \"#f0f921\"]]}, \"colorway\": [\"#636efa\", \"#EF553B\", \"#00cc96\", \"#ab63fa\", \"#FFA15A\", \"#19d3f3\", \"#FF6692\", \"#B6E880\", \"#FF97FF\", \"#FECB52\"], \"font\": {\"color\": \"#2a3f5f\"}, \"geo\": {\"bgcolor\": \"white\", \"lakecolor\": \"white\", \"landcolor\": \"#E5ECF6\", \"showlakes\": true, \"showland\": true, \"subunitcolor\": \"white\"}, \"hoverlabel\": {\"align\": \"left\"}, \"hovermode\": \"closest\", \"mapbox\": {\"style\": \"light\"}, \"paper_bgcolor\": \"white\", \"plot_bgcolor\": \"#E5ECF6\", \"polar\": {\"angularaxis\": {\"gridcolor\": \"white\", \"linecolor\": \"white\", \"ticks\": \"\"}, \"bgcolor\": \"#E5ECF6\", \"radialaxis\": {\"gridcolor\": \"white\", \"linecolor\": \"white\", \"ticks\": \"\"}}, \"scene\": {\"xaxis\": {\"backgroundcolor\": \"#E5ECF6\", \"gridcolor\": \"white\", \"gridwidth\": 2, \"linecolor\": \"white\", \"showbackground\": true, \"ticks\": \"\", \"zerolinecolor\": \"white\"}, \"yaxis\": {\"backgroundcolor\": \"#E5ECF6\", \"gridcolor\": \"white\", \"gridwidth\": 2, \"linecolor\": \"white\", \"showbackground\": true, \"ticks\": \"\", \"zerolinecolor\": \"white\"}, \"zaxis\": {\"backgroundcolor\": \"#E5ECF6\", \"gridcolor\": \"white\", \"gridwidth\": 2, \"linecolor\": \"white\", \"showbackground\": true, \"ticks\": \"\", \"zerolinecolor\": \"white\"}}, \"shapedefaults\": {\"line\": {\"color\": \"#2a3f5f\"}}, \"ternary\": {\"aaxis\": {\"gridcolor\": \"white\", \"linecolor\": \"white\", \"ticks\": \"\"}, \"baxis\": {\"gridcolor\": \"white\", \"linecolor\": \"white\", \"ticks\": \"\"}, \"bgcolor\": \"#E5ECF6\", \"caxis\": {\"gridcolor\": \"white\", \"linecolor\": \"white\", \"ticks\": \"\"}}, \"title\": {\"x\": 0.05}, \"xaxis\": {\"automargin\": true, \"gridcolor\": \"white\", \"linecolor\": \"white\", \"ticks\": \"\", \"title\": {\"standoff\": 15}, \"zerolinecolor\": \"white\", \"zerolinewidth\": 2}, \"yaxis\": {\"automargin\": true, \"gridcolor\": \"white\", \"linecolor\": \"white\", \"ticks\": \"\", \"title\": {\"standoff\": 15}, \"zerolinecolor\": \"white\", \"zerolinewidth\": 2}}}},\n",
              "                        {\"responsive\": true}\n",
              "                    ).then(function(){\n",
              "                            \n",
              "var gd = document.getElementById('74bd4fd8-c118-431a-9846-823d2e50daf0');\n",
              "var x = new MutationObserver(function (mutations, observer) {{\n",
              "        var display = window.getComputedStyle(gd).display;\n",
              "        if (!display || display === 'none') {{\n",
              "            console.log([gd, 'removed!']);\n",
              "            Plotly.purge(gd);\n",
              "            observer.disconnect();\n",
              "        }}\n",
              "}});\n",
              "\n",
              "// Listen for the removal of the full notebook cells\n",
              "var notebookContainer = gd.closest('#notebook-container');\n",
              "if (notebookContainer) {{\n",
              "    x.observe(notebookContainer, {childList: true});\n",
              "}}\n",
              "\n",
              "// Listen for the clearing of the current output cell\n",
              "var outputEl = gd.closest('.output');\n",
              "if (outputEl) {{\n",
              "    x.observe(outputEl, {childList: true});\n",
              "}}\n",
              "\n",
              "                        })\n",
              "                };\n",
              "                \n",
              "            </script>\n",
              "        </div>\n",
              "</body>\n",
              "</html>"
            ]
          },
          "metadata": {
            "tags": []
          }
        }
      ]
    },
    {
      "cell_type": "code",
      "metadata": {
        "id": "WZEW3jGxZwLv",
        "colab_type": "code",
        "colab": {}
      },
      "source": [
        "from sklearn.ensemble import RandomForestRegressor\n",
        "\n",
        "rf_regressor = RandomForestRegressor()"
      ],
      "execution_count": 45,
      "outputs": []
    },
    {
      "cell_type": "code",
      "metadata": {
        "id": "3KPEoL3DaImf",
        "colab_type": "code",
        "colab": {
          "base_uri": "https://localhost:8080/",
          "height": 136
        },
        "outputId": "85432a2b-5227-40fc-8363-db2a67317936"
      },
      "source": [
        "rf_regressor.fit(x_train, y_train)"
      ],
      "execution_count": 46,
      "outputs": [
        {
          "output_type": "execute_result",
          "data": {
            "text/plain": [
              "RandomForestRegressor(bootstrap=True, ccp_alpha=0.0, criterion='mse',\n",
              "                      max_depth=None, max_features='auto', max_leaf_nodes=None,\n",
              "                      max_samples=None, min_impurity_decrease=0.0,\n",
              "                      min_impurity_split=None, min_samples_leaf=1,\n",
              "                      min_samples_split=2, min_weight_fraction_leaf=0.0,\n",
              "                      n_estimators=100, n_jobs=None, oob_score=False,\n",
              "                      random_state=None, verbose=0, warm_start=False)"
            ]
          },
          "metadata": {
            "tags": []
          },
          "execution_count": 46
        }
      ]
    },
    {
      "cell_type": "code",
      "metadata": {
        "id": "k7K5FJT2aQRf",
        "colab_type": "code",
        "colab": {}
      },
      "source": [
        "y_pred = rf_regressor.predict(x_test)"
      ],
      "execution_count": 47,
      "outputs": []
    },
    {
      "cell_type": "code",
      "metadata": {
        "id": "jBl0EmFKaZBH",
        "colab_type": "code",
        "colab": {}
      },
      "source": [
        "resultado[\"random_forest\"] = y_pred"
      ],
      "execution_count": 48,
      "outputs": []
    },
    {
      "cell_type": "code",
      "metadata": {
        "id": "CMMjXOqAaqa3",
        "colab_type": "code",
        "colab": {
          "base_uri": "https://localhost:8080/",
          "height": 204
        },
        "outputId": "8b5539ce-811b-4a07-8cc7-c4a52f294c05"
      },
      "source": [
        "resultado.head()"
      ],
      "execution_count": 49,
      "outputs": [
        {
          "output_type": "execute_result",
          "data": {
            "text/html": [
              "<div>\n",
              "<style scoped>\n",
              "    .dataframe tbody tr th:only-of-type {\n",
              "        vertical-align: middle;\n",
              "    }\n",
              "\n",
              "    .dataframe tbody tr th {\n",
              "        vertical-align: top;\n",
              "    }\n",
              "\n",
              "    .dataframe thead th {\n",
              "        text-align: right;\n",
              "    }\n",
              "</style>\n",
              "<table border=\"1\" class=\"dataframe\">\n",
              "  <thead>\n",
              "    <tr style=\"text-align: right;\">\n",
              "      <th></th>\n",
              "      <th>valor_predito_reg_linear</th>\n",
              "      <th>valor_real</th>\n",
              "      <th>valor_predito_arvore</th>\n",
              "      <th>random_forest</th>\n",
              "    </tr>\n",
              "  </thead>\n",
              "  <tbody>\n",
              "    <tr>\n",
              "      <th>0</th>\n",
              "      <td>8085.800114</td>\n",
              "      <td>18963.17</td>\n",
              "      <td>4151.03</td>\n",
              "      <td>3824.6369</td>\n",
              "    </tr>\n",
              "    <tr>\n",
              "      <th>1</th>\n",
              "      <td>5959.482633</td>\n",
              "      <td>13725.47</td>\n",
              "      <td>6117.49</td>\n",
              "      <td>6876.2810</td>\n",
              "    </tr>\n",
              "    <tr>\n",
              "      <th>2</th>\n",
              "      <td>2729.708259</td>\n",
              "      <td>2457.21</td>\n",
              "      <td>1906.36</td>\n",
              "      <td>2532.1526</td>\n",
              "    </tr>\n",
              "    <tr>\n",
              "      <th>3</th>\n",
              "      <td>15062.067953</td>\n",
              "      <td>12979.36</td>\n",
              "      <td>13470.86</td>\n",
              "      <td>13947.0134</td>\n",
              "    </tr>\n",
              "    <tr>\n",
              "      <th>4</th>\n",
              "      <td>27480.647012</td>\n",
              "      <td>18648.42</td>\n",
              "      <td>35147.53</td>\n",
              "      <td>27102.2125</td>\n",
              "    </tr>\n",
              "  </tbody>\n",
              "</table>\n",
              "</div>"
            ],
            "text/plain": [
              "   valor_predito_reg_linear  valor_real  valor_predito_arvore  random_forest\n",
              "0               8085.800114    18963.17               4151.03      3824.6369\n",
              "1               5959.482633    13725.47               6117.49      6876.2810\n",
              "2               2729.708259     2457.21               1906.36      2532.1526\n",
              "3              15062.067953    12979.36              13470.86     13947.0134\n",
              "4              27480.647012    18648.42              35147.53     27102.2125"
            ]
          },
          "metadata": {
            "tags": []
          },
          "execution_count": 49
        }
      ]
    },
    {
      "cell_type": "code",
      "metadata": {
        "id": "i1yEwntaatOH",
        "colab_type": "code",
        "colab": {
          "base_uri": "https://localhost:8080/",
          "height": 542
        },
        "outputId": "94eb97e7-6087-4996-fef7-d458f743c0c5"
      },
      "source": [
        "import plotly.graph_objects as go\n",
        "\n",
        "# Create traces\n",
        "fig = go.Figure()\n",
        "\n",
        "# Linha com os dados de teste\n",
        "fig.add_trace(go.Scatter(x=resultado.index,\n",
        "                         y=resultado.valor_real,\n",
        "                         mode='markers',\n",
        "                         name='Valor Real'))\n",
        "\n",
        "# Linha com os dados preditos pela arvore\n",
        "fig.add_trace(go.Scatter(x=resultado.index,\n",
        "                         y=resultado.valor_predito_arvore,\n",
        "                         mode='lines',\n",
        "                         line = dict(color = '#B2FF66'),\n",
        "                         name='Valor Predito Árvore'))\n",
        "\n",
        "# Linha com os dados preditos pela regressão linear\n",
        "fig.add_trace(go.Scatter(x=resultado.index,\n",
        "                         y=resultado.valor_predito_reg_linear,\n",
        "                         mode='lines',\n",
        "                         line = dict(color = '#17BECF'),\n",
        "                         name='Valor Predito Regressão Linear'))\n",
        "\n",
        "\n",
        "# Linha com os dados preditos pela Random Forest\n",
        "fig.add_trace(go.Scatter(x=resultado.index,\n",
        "                         y=resultado.random_forest,\n",
        "                         mode='lines',\n",
        "                         line = dict(color = '#7F7F7F'),\n",
        "                         name='Valor Predito Random Forest'))\n",
        "\n",
        "# Plota a figura\n",
        "fig.show()"
      ],
      "execution_count": 50,
      "outputs": [
        {
          "output_type": "display_data",
          "data": {
            "text/html": [
              "<html>\n",
              "<head><meta charset=\"utf-8\" /></head>\n",
              "<body>\n",
              "    <div>\n",
              "            <script src=\"https://cdnjs.cloudflare.com/ajax/libs/mathjax/2.7.5/MathJax.js?config=TeX-AMS-MML_SVG\"></script><script type=\"text/javascript\">if (window.MathJax) {MathJax.Hub.Config({SVG: {font: \"STIX-Web\"}});}</script>\n",
              "                <script type=\"text/javascript\">window.PlotlyConfig = {MathJaxConfig: 'local'};</script>\n",
              "        <script src=\"https://cdn.plot.ly/plotly-latest.min.js\"></script>    \n",
              "            <div id=\"391afa6e-90cd-41c6-bec7-a5566803a3cb\" class=\"plotly-graph-div\" style=\"height:525px; width:100%;\"></div>\n",
              "            <script type=\"text/javascript\">\n",
              "                \n",
              "                    window.PLOTLYENV=window.PLOTLYENV || {};\n",
              "                    \n",
              "                if (document.getElementById(\"391afa6e-90cd-41c6-bec7-a5566803a3cb\")) {\n",
              "                    Plotly.newPlot(\n",
              "                        '391afa6e-90cd-41c6-bec7-a5566803a3cb',\n",
              "                        [{\"mode\": \"markers\", \"name\": \"Valor Real\", \"type\": \"scatter\", \"x\": [0, 1, 2, 3, 4, 5, 6, 7, 8, 9, 10, 11, 12, 13, 14, 15, 16, 17, 18, 19, 20, 21, 22, 23, 24, 25, 26, 27, 28, 29, 30, 31, 32, 33, 34, 35, 36, 37, 38, 39, 40, 41, 42, 43, 44, 45, 46, 47, 48, 49, 50, 51, 52, 53, 54, 55, 56, 57, 58, 59, 60, 61, 62, 63, 64, 65, 66, 67, 68, 69, 70, 71, 72, 73, 74, 75, 76, 77, 78, 79, 80, 81, 82, 83, 84, 85, 86, 87, 88, 89, 90, 91, 92, 93, 94, 95, 96, 97, 98, 99, 100, 101, 102, 103, 104, 105, 106, 107, 108, 109, 110, 111, 112, 113, 114, 115, 116, 117, 118, 119, 120, 121, 122, 123, 124, 125, 126, 127, 128, 129, 130, 131, 132, 133, 134, 135, 136, 137, 138, 139, 140, 141, 142, 143, 144, 145, 146, 147, 148, 149, 150, 151, 152, 153, 154, 155, 156, 157, 158, 159, 160, 161, 162, 163, 164, 165, 166, 167, 168, 169, 170, 171, 172, 173, 174, 175, 176, 177, 178, 179, 180, 181, 182, 183, 184, 185, 186, 187, 188, 189, 190, 191, 192, 193, 194, 195, 196, 197, 198, 199, 200, 201, 202, 203, 204, 205, 206, 207, 208, 209, 210, 211, 212, 213, 214, 215, 216, 217, 218, 219, 220, 221, 222, 223, 224, 225, 226, 227, 228, 229, 230, 231, 232, 233, 234, 235, 236, 237, 238, 239, 240, 241, 242, 243, 244, 245, 246, 247, 248, 249, 250, 251, 252, 253, 254, 255, 256, 257, 258, 259, 260, 261, 262, 263, 264, 265, 266, 267, 268, 269, 270, 271, 272, 273, 274, 275, 276, 277, 278, 279, 280, 281, 282, 283, 284, 285, 286, 287, 288, 289, 290, 291, 292, 293, 294, 295, 296, 297, 298, 299, 300, 301, 302, 303, 304, 305, 306, 307, 308, 309, 310, 311, 312, 313, 314, 315, 316, 317, 318, 319, 320, 321, 322, 323, 324, 325, 326, 327, 328, 329, 330, 331, 332, 333, 334, 335, 336, 337, 338, 339, 340, 341, 342, 343, 344, 345, 346, 347, 348, 349, 350, 351, 352, 353, 354, 355, 356, 357, 358, 359, 360, 361, 362, 363, 364, 365, 366, 367, 368, 369, 370, 371, 372, 373, 374, 375, 376, 377, 378, 379, 380, 381, 382, 383, 384, 385, 386, 387, 388, 389, 390, 391, 392, 393, 394, 395, 396, 397, 398, 399, 400, 401], \"y\": [18963.17, 13725.47, 2457.21, 12979.36, 18648.42, 6551.75, 7160.33, 19442.35, 8280.62, 1708.93, 34828.65, 14571.89, 11070.54, 7358.18, 1967.02, 4527.18, 4134.08, 17043.34, 2689.5, 17626.24, 4877.98, 12913.99, 2257.48, 9630.4, 14358.36, 6555.07, 18806.15, 48970.25, 3561.89, 9634.54, 13143.34, 38282.75, 16455.71, 3260.2, 10461.98, 2055.32, 4670.64, 25333.33, 11454.02, 11737.85, 17663.14, 34838.87, 4185.1, 10848.13, 8596.83, 25309.49, 11735.88, 11482.63, 17496.31, 5375.04, 3732.63, 2730.11, 6112.35, 22218.11, 2396.1, 1256.3, 6496.89, 15612.19, 35069.37, 8116.27, 39727.61, 23288.93, 14451.84, 5846.92, 7518.03, 5138.26, 51194.56, 2331.52, 8965.8, 12557.61, 10601.63, 19362.0, 8604.48, 27322.73, 12146.97, 1631.67, 8978.19, 9101.8, 7749.16, 34254.05, 8569.86, 5267.82, 7323.73, 41919.1, 2007.95, 37079.37, 11566.3, 9500.57, 45863.21, 16138.76, 18218.16, 41999.52, 40941.29, 13981.85, 8302.54, 34779.62, 13451.12, 1163.46, 11488.32, 11362.76, 1837.24, 32734.19, 8027.97, 36910.61, 2128.43, 9625.92, 4906.41, 7727.25, 13616.36, 10422.92, 28868.66, 2207.7, 9174.14, 10704.47, 37607.53, 26392.26, 3554.2, 14394.4, 4922.92, 1769.53, 1241.57, 5148.55, 19040.88, 2534.39, 46130.53, 12957.12, 7626.99, 5397.62, 19673.34, 2709.24, 10381.48, 1880.49, 7804.16, 4751.07, 6571.54, 9377.9, 11085.59, 12981.35, 13224.69, 12268.63, 12644.59, 20149.32, 27724.29, 11073.18, 11345.52, 2803.7, 7441.05, 37270.15, 4779.6, 2867.12, 16450.89, 4673.39, 36124.57, 8269.04, 3597.6, 2801.26, 19199.94, 17560.38, 19350.37, 6474.01, 2721.32, 9414.92, 8556.91, 12928.79, 19444.27, 6799.46, 43813.87, 38711.0, 5649.72, 11013.71, 6781.35, 10977.21, 21232.18, 37742.58, 13126.68, 25656.58, 46113.51, 7144.86, 2156.75, 4561.19, 15820.7, 43896.38, 14474.68, 5012.47, 14313.85, 2138.07, 12363.55, 4883.87, 9386.16, 4889.04, 30260.0, 18157.88, 13919.82, 37701.88, 5910.94, 8891.14, 33471.97, 34303.17, 18608.26, 2322.62, 7623.52, 13012.21, 12430.95, 43943.88, 9290.14, 5630.46, 11455.28, 9869.81, 28468.92, 9504.31, 8534.67, 8551.35, 10043.25, 33750.29, 6113.23, 4562.84, 10795.94, 39774.28, 11879.1, 8823.28, 18955.22, 26018.95, 6406.41, 1737.38, 3558.62, 3594.17, 13217.09, 2639.04, 47403.88, 1719.44, 13415.04, 5261.47, 21098.55, 35595.59, 9991.04, 10065.41, 17085.27, 12485.8, 18804.75, 17352.68, 17361.77, 2866.09, 12265.51, 2643.27, 7050.02, 1526.31, 1261.44, 6875.96, 3309.79, 11520.1, 7196.87, 9620.33, 9875.68, 3268.85, 1135.94, 18223.45, 14119.62, 47291.06, 7281.51, 3925.76, 11657.72, 35160.13, 11945.13, 2203.74, 10959.69, 5974.38, 3171.61, 38245.59, 20745.99, 9058.73, 8277.52, 1253.94, 40974.16, 48673.56, 2200.83, 27941.29, 17929.3, 4320.41, 14001.29, 16657.72, 46151.12, 42969.85, 60021.4, 2727.4, 1727.54, 9447.25, 27117.99, 8347.16, 43254.42, 21472.48, 6393.6, 47462.89, 2597.78, 25517.11, 7228.22, 9447.38, 9264.8, 4500.34, 4667.61, 9549.57, 42211.14, 1633.04, 7209.49, 9487.64, 10791.96, 10115.01, 3500.61, 40182.25, 7418.52, 11534.87, 2130.68, 41676.08, 31620.0, 29186.48, 1917.32, 7151.09, 7512.27, 10796.35, 1621.88, 1146.8, 9432.93, 37165.16, 15828.82, 9282.48, 20984.09, 6686.43, 49577.66, 10806.84, 15161.53, 14133.04, 4347.02, 39871.7, 4415.16, 10928.85, 1263.25, 11538.42, 3943.6, 18259.22, 5266.37, 45702.02, 9866.3, 2166.73, 7050.64, 1635.73, 3981.98, 3875.73, 11743.93, 8538.29, 24667.42, 12333.83, 6775.96, 9861.03, 7954.52, 3062.51, 1149.4, 5209.58, 2217.47, 14007.22, 6198.75, 4296.27, 8827.21, 14590.63, 40720.55, 38415.47, 14418.28, 13393.76, 21797.0, 46255.11, 7537.16, 24873.38, 5373.36, 24106.91, 41034.22, 1639.56, 52590.83, 47055.53, 8522.0, 11938.26, 12638.2, 24393.62, 8964.06, 10736.87, 3161.45, 47269.85, 38126.25, 11365.95, 9704.67, 1632.04, 6985.51, 1708.0, 4040.56, 3385.4, 14988.43, 3490.55, 12643.38, 12029.29, 4837.58, 4266.17, 16884.92, 11881.36, 10602.39, 6272.48]}, {\"line\": {\"color\": \"#B2FF66\"}, \"mode\": \"lines\", \"name\": \"Valor Predito \\u00c1rvore\", \"type\": \"scatter\", \"x\": [0, 1, 2, 3, 4, 5, 6, 7, 8, 9, 10, 11, 12, 13, 14, 15, 16, 17, 18, 19, 20, 21, 22, 23, 24, 25, 26, 27, 28, 29, 30, 31, 32, 33, 34, 35, 36, 37, 38, 39, 40, 41, 42, 43, 44, 45, 46, 47, 48, 49, 50, 51, 52, 53, 54, 55, 56, 57, 58, 59, 60, 61, 62, 63, 64, 65, 66, 67, 68, 69, 70, 71, 72, 73, 74, 75, 76, 77, 78, 79, 80, 81, 82, 83, 84, 85, 86, 87, 88, 89, 90, 91, 92, 93, 94, 95, 96, 97, 98, 99, 100, 101, 102, 103, 104, 105, 106, 107, 108, 109, 110, 111, 112, 113, 114, 115, 116, 117, 118, 119, 120, 121, 122, 123, 124, 125, 126, 127, 128, 129, 130, 131, 132, 133, 134, 135, 136, 137, 138, 139, 140, 141, 142, 143, 144, 145, 146, 147, 148, 149, 150, 151, 152, 153, 154, 155, 156, 157, 158, 159, 160, 161, 162, 163, 164, 165, 166, 167, 168, 169, 170, 171, 172, 173, 174, 175, 176, 177, 178, 179, 180, 181, 182, 183, 184, 185, 186, 187, 188, 189, 190, 191, 192, 193, 194, 195, 196, 197, 198, 199, 200, 201, 202, 203, 204, 205, 206, 207, 208, 209, 210, 211, 212, 213, 214, 215, 216, 217, 218, 219, 220, 221, 222, 223, 224, 225, 226, 227, 228, 229, 230, 231, 232, 233, 234, 235, 236, 237, 238, 239, 240, 241, 242, 243, 244, 245, 246, 247, 248, 249, 250, 251, 252, 253, 254, 255, 256, 257, 258, 259, 260, 261, 262, 263, 264, 265, 266, 267, 268, 269, 270, 271, 272, 273, 274, 275, 276, 277, 278, 279, 280, 281, 282, 283, 284, 285, 286, 287, 288, 289, 290, 291, 292, 293, 294, 295, 296, 297, 298, 299, 300, 301, 302, 303, 304, 305, 306, 307, 308, 309, 310, 311, 312, 313, 314, 315, 316, 317, 318, 319, 320, 321, 322, 323, 324, 325, 326, 327, 328, 329, 330, 331, 332, 333, 334, 335, 336, 337, 338, 339, 340, 341, 342, 343, 344, 345, 346, 347, 348, 349, 350, 351, 352, 353, 354, 355, 356, 357, 358, 359, 360, 361, 362, 363, 364, 365, 366, 367, 368, 369, 370, 371, 372, 373, 374, 375, 376, 377, 378, 379, 380, 381, 382, 383, 384, 385, 386, 387, 388, 389, 390, 391, 392, 393, 394, 395, 396, 397, 398, 399, 400, 401], \"y\": [4151.03, 6117.49, 1906.36, 13470.86, 35147.53, 6079.67, 6289.75, 4433.92, 8283.68, 1705.62, 36397.58, 15817.99, 11837.16, 6500.24, 1964.78, 4237.13, 3736.46, 16232.85, 3766.88, 3972.92, 24671.66, 12124.99, 1906.36, 9048.03, 5377.46, 6067.13, 7441.5, 48675.52, 25081.77, 11411.69, 13143.86, 55135.4, 16069.08, 2302.3, 10231.5, 2261.57, 5152.13, 9048.03, 11658.12, 5257.51, 20167.34, 34806.47, 4571.41, 10370.91, 6289.75, 24915.22, 12129.61, 1629.83, 18972.5, 6402.29, 2680.95, 2136.88, 7261.74, 23244.79, 2395.17, 1744.47, 6770.19, 15019.76, 18767.74, 12797.21, 39725.52, 4133.64, 14449.85, 4536.26, 7624.63, 3987.93, 39241.44, 1842.52, 8582.3, 13143.86, 10435.07, 26125.67, 8603.82, 14001.13, 13041.92, 1631.82, 8968.33, 9095.07, 8059.68, 34166.27, 20878.78, 5272.18, 11774.16, 41097.16, 2154.36, 55135.4, 20709.02, 9095.07, 63770.43, 16115.3, 3227.12, 42303.69, 39836.52, 13974.46, 8211.1, 36397.58, 24513.09, 1141.45, 11187.66, 10085.85, 1832.09, 16776.3, 8516.83, 11674.13, 1639.56, 11150.78, 4719.74, 8310.84, 13129.6, 9863.47, 28101.33, 2211.13, 8798.59, 11842.44, 58571.07, 8871.15, 3757.84, 13047.33, 4433.92, 1906.36, 1242.26, 16796.41, 19107.78, 2523.17, 43578.94, 24513.09, 7726.85, 5400.98, 3556.92, 2709.11, 11436.74, 2020.18, 8125.78, 4746.34, 6082.41, 9391.35, 10702.64, 13470.8, 13112.6, 11289.11, 13228.85, 21659.93, 1725.55, 11842.44, 10959.33, 22493.66, 6849.03, 39983.43, 4571.41, 3947.41, 15518.18, 5152.13, 36021.01, 7147.11, 3591.48, 2304.0, 18972.5, 35147.53, 19719.69, 5709.16, 2523.17, 8944.12, 20878.78, 11881.97, 17179.52, 4915.06, 45008.96, 58571.07, 5415.66, 22192.44, 5920.1, 11033.66, 8703.46, 38709.18, 2464.62, 9617.66, 63770.43, 7201.7, 2741.95, 3481.87, 19023.26, 42560.43, 27000.98, 5245.23, 13887.2, 2136.88, 10085.85, 5472.45, 9391.35, 5478.04, 13041.92, 4438.26, 14235.07, 35491.64, 5415.66, 8211.1, 30063.58, 33732.69, 20167.34, 2498.41, 7624.63, 12523.6, 10435.07, 35491.64, 9288.03, 12404.88, 11842.44, 10594.5, 8765.25, 10982.5, 7742.11, 20878.78, 8871.15, 36898.73, 5425.02, 4350.51, 2473.33, 40419.02, 11512.41, 8516.83, 2464.62, 3579.83, 20420.6, 1731.68, 3353.47, 12609.89, 13041.92, 11272.33, 46599.11, 1720.35, 13129.6, 5257.51, 18767.74, 34166.27, 10197.77, 10577.09, 16577.78, 11090.72, 4846.92, 17748.51, 16776.3, 3353.28, 20463.0, 2362.23, 6571.02, 16586.5, 1261.86, 7729.65, 12609.89, 30284.64, 7160.09, 10141.14, 9283.56, 3556.92, 1136.4, 16297.85, 14235.07, 47928.03, 6311.95, 3579.83, 11658.12, 12094.48, 10976.25, 11774.16, 12235.84, 5484.47, 3766.88, 19515.54, 18310.74, 9048.03, 8703.46, 1743.21, 41097.16, 48173.36, 2198.19, 14235.07, 7633.72, 12404.88, 14001.13, 16115.3, 44202.65, 42111.66, 43921.18, 2523.17, 1725.55, 9617.66, 27346.04, 8825.09, 44260.75, 18310.74, 6282.24, 44400.41, 2585.27, 10942.13, 7133.9, 9617.66, 9644.25, 5354.07, 18903.49, 9877.61, 42111.66, 1633.96, 7201.7, 27346.04, 10577.09, 20878.78, 3591.48, 38709.18, 6082.41, 11165.42, 2205.98, 42111.66, 27000.98, 13430.27, 2404.73, 7201.7, 8582.3, 10594.5, 16586.5, 1141.45, 8733.23, 37484.45, 8162.72, 8444.47, 20009.63, 8252.28, 46599.11, 11163.57, 15019.76, 1631.82, 3857.76, 40419.02, 5003.85, 10338.93, 1261.86, 11576.13, 3857.76, 26125.67, 5272.18, 44202.65, 9283.56, 2020.55, 7045.5, 1632.56, 4349.46, 4151.03, 11944.59, 8059.68, 24180.93, 10965.45, 6500.24, 8932.08, 7682.67, 3857.76, 1141.45, 4827.9, 2217.6, 11674.13, 6203.9, 4005.42, 10493.95, 13607.37, 42760.5, 38709.18, 30166.62, 13390.56, 12646.21, 44400.41, 7201.7, 24869.84, 5377.46, 24869.84, 39556.49, 1639.56, 45008.96, 46889.26, 7441.5, 11353.23, 13228.85, 21223.68, 8765.25, 9563.03, 3172.02, 44400.41, 39611.76, 12646.21, 8733.23, 1632.56, 7173.36, 1705.62, 4337.74, 3176.82, 16085.13, 18903.49, 12269.69, 11830.61, 5325.65, 4686.39, 16297.85, 12105.32, 11576.13, 6117.49]}, {\"line\": {\"color\": \"#17BECF\"}, \"mode\": \"lines\", \"name\": \"Valor Predito Regress\\u00e3o Linear\", \"type\": \"scatter\", \"x\": [0, 1, 2, 3, 4, 5, 6, 7, 8, 9, 10, 11, 12, 13, 14, 15, 16, 17, 18, 19, 20, 21, 22, 23, 24, 25, 26, 27, 28, 29, 30, 31, 32, 33, 34, 35, 36, 37, 38, 39, 40, 41, 42, 43, 44, 45, 46, 47, 48, 49, 50, 51, 52, 53, 54, 55, 56, 57, 58, 59, 60, 61, 62, 63, 64, 65, 66, 67, 68, 69, 70, 71, 72, 73, 74, 75, 76, 77, 78, 79, 80, 81, 82, 83, 84, 85, 86, 87, 88, 89, 90, 91, 92, 93, 94, 95, 96, 97, 98, 99, 100, 101, 102, 103, 104, 105, 106, 107, 108, 109, 110, 111, 112, 113, 114, 115, 116, 117, 118, 119, 120, 121, 122, 123, 124, 125, 126, 127, 128, 129, 130, 131, 132, 133, 134, 135, 136, 137, 138, 139, 140, 141, 142, 143, 144, 145, 146, 147, 148, 149, 150, 151, 152, 153, 154, 155, 156, 157, 158, 159, 160, 161, 162, 163, 164, 165, 166, 167, 168, 169, 170, 171, 172, 173, 174, 175, 176, 177, 178, 179, 180, 181, 182, 183, 184, 185, 186, 187, 188, 189, 190, 191, 192, 193, 194, 195, 196, 197, 198, 199, 200, 201, 202, 203, 204, 205, 206, 207, 208, 209, 210, 211, 212, 213, 214, 215, 216, 217, 218, 219, 220, 221, 222, 223, 224, 225, 226, 227, 228, 229, 230, 231, 232, 233, 234, 235, 236, 237, 238, 239, 240, 241, 242, 243, 244, 245, 246, 247, 248, 249, 250, 251, 252, 253, 254, 255, 256, 257, 258, 259, 260, 261, 262, 263, 264, 265, 266, 267, 268, 269, 270, 271, 272, 273, 274, 275, 276, 277, 278, 279, 280, 281, 282, 283, 284, 285, 286, 287, 288, 289, 290, 291, 292, 293, 294, 295, 296, 297, 298, 299, 300, 301, 302, 303, 304, 305, 306, 307, 308, 309, 310, 311, 312, 313, 314, 315, 316, 317, 318, 319, 320, 321, 322, 323, 324, 325, 326, 327, 328, 329, 330, 331, 332, 333, 334, 335, 336, 337, 338, 339, 340, 341, 342, 343, 344, 345, 346, 347, 348, 349, 350, 351, 352, 353, 354, 355, 356, 357, 358, 359, 360, 361, 362, 363, 364, 365, 366, 367, 368, 369, 370, 371, 372, 373, 374, 375, 376, 377, 378, 379, 380, 381, 382, 383, 384, 385, 386, 387, 388, 389, 390, 391, 392, 393, 394, 395, 396, 397, 398, 399, 400, 401], \"y\": [8085.800114174828, 5959.4826334780455, 2729.708259151086, 15062.067952697145, 27480.647011663837, 9765.205379767802, 10537.916107523959, 7661.600459531373, 9389.151788793894, 1350.615812210358, 27582.78420763021, 24515.3048429649, 9772.017698730444, 9120.453671555826, 2405.060163728257, 5840.295124738878, 3436.3032424355742, 26367.19836959753, 6874.05506454048, 3723.5370021579565, 5609.274700640488, 11383.276146440581, 3152.431222467738, 11598.13295419146, 7456.4407424495, 7022.7102401030115, 10549.061379106943, 39213.62911715366, 2377.6183838031156, 12727.133617921289, 13925.414931902918, 31343.97252591155, 15468.417158339684, 2233.954413868444, 12158.439964902289, 4591.833221804761, 8268.80183413093, 11891.836691464123, 10617.463625363747, 6097.765534549055, 27377.46791128881, 28383.652153848903, 3641.8911886464903, 14005.054895248495, 10849.463191393204, 34108.10946526077, 11992.356011678774, 3184.4188563027164, 27374.96989690091, 7798.225038361799, 915.836847666108, 6846.6153652109515, 9337.321515985544, 31544.5874144053, 2019.1834938342458, 2616.288059048574, 7170.6095306392945, 15929.948712838677, 30230.572622764375, 10796.221732287959, 33400.45946198942, 3685.776873173374, 11079.127725902943, 11268.36939953085, 8155.300932824684, 8907.433173313553, 30711.07012947234, 2517.6503353898906, 8666.367784666401, 12596.146907604649, 12636.271133660768, 29164.989557452594, 8094.552778273453, 12605.074453053969, 11846.551564942394, 4571.375536275622, 12378.802095126752, 8831.129545227031, 10474.592689252871, 27899.95949630681, 14244.508965933024, 6265.942960296312, 2384.8696508751354, 34959.27259033544, 1640.7796306864675, 30482.576593539678, 15364.554945076869, 9101.62371725883, 36590.012841741445, 26439.709948204843, 4806.693135472973, 34706.739460721044, 33739.669865458025, 15463.681381085784, 7244.782537404526, 27550.529401119216, 11096.826782157272, 9342.986869590437, 12910.052902032487, 13566.0205733703, 1257.6128511481293, 26922.276894217226, 9252.315333995692, 14571.218208229986, 3399.324402972733, 10727.335614239428, 3470.575643414517, 10920.169051500356, 10250.467019962027, 9202.70589323834, 36633.51176894986, 3675.061911315046, 11301.497786888913, 11212.338720142357, 31113.864566098942, 12165.912771648522, 4385.981208835157, 13544.492473019685, 7308.897618223249, 3343.8600312208728, -802.7214311171861, 6955.838610605095, 28896.0177097494, 6431.538201169593, 38420.688993105665, 9901.298910937505, 8150.580005790172, 9148.67984692004, 6561.738435451543, 2008.3943885612898, 12936.405773271012, 3822.961201851327, 12289.98434447084, 6951.509109856524, 9595.710947870608, 10222.884401566405, 11506.316187880142, 15155.421893556459, 12328.500358481671, 13694.833109959463, 13880.704405448103, 29937.917347689472, 4587.5927146902, 10384.859022439401, 9566.42456600658, 1195.9508610349562, 9224.033861923235, 30917.62583667728, 5444.187018823824, 3820.993717578678, 25940.63669847815, 8555.68461405623, 29154.274595594266, 7070.216198675736, 7261.386473137578, 3628.039478579605, 29059.309336772334, 26822.66174585808, 28422.72273119432, 10519.118478876573, 3041.3730388411477, 10713.053594447887, 11603.025310704892, 13211.005825781549, 29162.27966709692, 7765.3249402410365, 36015.24892988838, 31901.705644178677, 8163.336595335775, 8542.842136793943, 9855.493263961413, 15028.994862047324, 9229.188204599735, 31091.088416500068, 2824.2432082483583, 9386.00848279623, 37002.42711970509, 7696.087842395422, 2487.1393928817142, 5142.88967306678, 27052.683817954006, 35506.51228641845, 14777.63618288178, 7781.08883787233, 14760.499982392308, 5624.906052231578, 14757.492674306623, 5323.732614130015, 12158.172792226269, 6158.947104742274, 12108.000495704058, 6500.427425135454, 14379.350797321915, 31073.745526555766, 7368.111704143819, 7692.376494119953, 14500.022264496447, 26979.695271298508, 28701.796574795684, 5529.317454423598, 7344.209843015229, 11016.847583316665, 13087.708984691866, 30883.62716616346, 10917.020558989745, 9411.795392352564, 11105.610037264336, 10904.475845411916, 12747.809737207313, 13893.941414913663, 7675.322729475389, 10312.833050264982, 11516.843306990024, 27331.566712889595, 7420.568767809993, 5626.570586306825, 4566.002759842237, 32824.55031941978, 12695.496963883394, 9588.108701001505, 2932.152899364338, 5606.995120009473, 8069.900218631559, 812.1189247455513, 3227.0376448749594, 2752.61695479016, 11819.807267417928, 3878.25414412427, 38497.46958924037, 2210.701296221394, 10318.387111657703, 6738.537350533386, 31612.993112533877, 28248.085700922675, 7282.892274910031, 8281.042226235197, 25395.318853665987, 15712.681149692738, 6798.8116429537695, 26428.432130581656, 28091.314161645314, 3953.4234222963514, 14373.097882252363, 4878.1531459652, 9264.591503621341, 3315.929538945501, 3809.715899955492, 9433.51789324073, 3424.4573825345815, 11027.56599704677, 10708.591547659113, 11309.506310263345, 13912.826665918901, 6719.60198933285, 2956.5351804128823, 26106.942191375878, 14920.777743540448, 38141.97442173166, 8297.221038756536, 6098.552010583743, 11097.875244355033, 10531.014448972865, 13880.270989806115, 2739.672522496111, 14192.592805407998, 6822.360443689662, 5295.66957581444, 30347.6165487845, 30441.94170250961, 14759.666848034101, 9037.759395846599, 2067.956348361613, 33549.27777460059, 38873.94485155421, 2062.321585765158, 15942.137260106474, 8904.148682890966, 8628.408068631321, 12467.271971902912, 26631.365483145142, 37577.07281819187, 34953.370655062965, 37525.156657666834, 4460.58452532505, 4081.480073859264, 9391.999411702716, 8337.069453751914, 12195.237519405793, 35738.54228927589, 31234.374267500993, 8497.777524624713, 38410.88786680928, 2346.4120394898773, 10198.631560640732, 5895.809606686035, 9424.254218213713, 7071.397206913698, 3625.502580752989, 8792.262551419115, 15213.33416950092, 34757.74178568413, 4893.923601385598, 9613.677176800955, 10023.364633593934, 8787.154867066136, 12666.3082140381, 7135.030133171293, 33637.8805433714, 10118.95978919102, 8074.968673591378, 3915.401307148697, 34277.893022457705, 15805.465676998085, 12701.487892789877, 5903.135017172681, 7914.4876748601855, 9145.242229109695, 11052.3751359482, 2281.284273994781, 5472.410088270708, 16139.24490140773, 29318.340954349835, 9319.761563560522, 9110.751394373872, 30433.72130316741, 6398.160789046208, 39587.930205740035, 12428.893690445228, 15283.666387867814, 4603.630342786618, 6077.786897663709, 32711.000679194403, 4975.483527180383, 11580.867313579121, 4229.028384598461, 17224.895597238872, 5636.183869854765, 28338.5583219474, 5911.140088675337, 38032.88061646039, 11719.499823171052, 5167.698811968207, 8160.544269135198, 2494.089790351946, 4813.865072617417, 8548.512676911781, 13863.134789316642, 10660.737715206638, 33005.32567485749, 11670.15892636588, 8955.769160327156, 9260.750715223005, 10108.995525845994, 5626.349046632609, 6085.251411979663, 4331.971575786384, 5932.898367084888, 14212.44200217047, 6654.099210821341, 2678.979664653123, 9387.31893115706, 14667.419771998118, 34813.390894267104, 32150.9608411596, 16270.402523657815, 13912.040189884214, 14351.28120121723, 37802.994196322, 9340.52011869145, 33599.90508654727, 8033.883953649798, 33039.247096039355, 34171.649946012585, 3397.2243726598836, 36619.51887445805, 37713.95282539625, 11163.439877363893, 12182.47437207108, 12396.983305942207, 33698.75468617372, 10680.091641829775, 13571.104224503952, 3299.2820508062605, 38293.01391234828, 30118.720188218293, 14307.881123123248, 13801.780226594365, 1655.4648210660043, 6291.912526088145, 1157.0869731443709, 5404.326859526391, 4151.281762110908, 12754.0657581942, 5822.4583359314, 14254.310092229412, 9367.26096434414, 6787.661184857838, 10339.66323550613, 25359.302588684222, 11978.507407529221, 14575.883838556258, 5208.701096064885]}, {\"line\": {\"color\": \"#7F7F7F\"}, \"mode\": \"lines\", \"name\": \"Valor Predito Random Forest\", \"type\": \"scatter\", \"x\": [0, 1, 2, 3, 4, 5, 6, 7, 8, 9, 10, 11, 12, 13, 14, 15, 16, 17, 18, 19, 20, 21, 22, 23, 24, 25, 26, 27, 28, 29, 30, 31, 32, 33, 34, 35, 36, 37, 38, 39, 40, 41, 42, 43, 44, 45, 46, 47, 48, 49, 50, 51, 52, 53, 54, 55, 56, 57, 58, 59, 60, 61, 62, 63, 64, 65, 66, 67, 68, 69, 70, 71, 72, 73, 74, 75, 76, 77, 78, 79, 80, 81, 82, 83, 84, 85, 86, 87, 88, 89, 90, 91, 92, 93, 94, 95, 96, 97, 98, 99, 100, 101, 102, 103, 104, 105, 106, 107, 108, 109, 110, 111, 112, 113, 114, 115, 116, 117, 118, 119, 120, 121, 122, 123, 124, 125, 126, 127, 128, 129, 130, 131, 132, 133, 134, 135, 136, 137, 138, 139, 140, 141, 142, 143, 144, 145, 146, 147, 148, 149, 150, 151, 152, 153, 154, 155, 156, 157, 158, 159, 160, 161, 162, 163, 164, 165, 166, 167, 168, 169, 170, 171, 172, 173, 174, 175, 176, 177, 178, 179, 180, 181, 182, 183, 184, 185, 186, 187, 188, 189, 190, 191, 192, 193, 194, 195, 196, 197, 198, 199, 200, 201, 202, 203, 204, 205, 206, 207, 208, 209, 210, 211, 212, 213, 214, 215, 216, 217, 218, 219, 220, 221, 222, 223, 224, 225, 226, 227, 228, 229, 230, 231, 232, 233, 234, 235, 236, 237, 238, 239, 240, 241, 242, 243, 244, 245, 246, 247, 248, 249, 250, 251, 252, 253, 254, 255, 256, 257, 258, 259, 260, 261, 262, 263, 264, 265, 266, 267, 268, 269, 270, 271, 272, 273, 274, 275, 276, 277, 278, 279, 280, 281, 282, 283, 284, 285, 286, 287, 288, 289, 290, 291, 292, 293, 294, 295, 296, 297, 298, 299, 300, 301, 302, 303, 304, 305, 306, 307, 308, 309, 310, 311, 312, 313, 314, 315, 316, 317, 318, 319, 320, 321, 322, 323, 324, 325, 326, 327, 328, 329, 330, 331, 332, 333, 334, 335, 336, 337, 338, 339, 340, 341, 342, 343, 344, 345, 346, 347, 348, 349, 350, 351, 352, 353, 354, 355, 356, 357, 358, 359, 360, 361, 362, 363, 364, 365, 366, 367, 368, 369, 370, 371, 372, 373, 374, 375, 376, 377, 378, 379, 380, 381, 382, 383, 384, 385, 386, 387, 388, 389, 390, 391, 392, 393, 394, 395, 396, 397, 398, 399, 400, 401], \"y\": [3824.636899999998, 6876.280999999999, 2532.152600000001, 13947.013400000005, 27102.212499999987, 10153.339799999994, 8128.743800000002, 4631.870300000002, 8708.245900000007, 1852.280799999999, 36098.813300000016, 15316.652999999998, 11649.329599999995, 7083.443700000004, 1977.954499999997, 4850.157000000006, 4378.346299999997, 17856.609100000012, 3368.3980999999976, 4935.354800000004, 11603.1705, 13242.62879999999, 2503.8696999999997, 9588.366700000002, 4885.683299999999, 6146.149600000002, 9364.693699999998, 48119.322300000014, 8968.003400000001, 13984.6225, 13199.700300000011, 47258.63059999997, 16920.660400000008, 4253.838699999998, 12456.0417, 2638.0248999999994, 5053.136000000004, 9882.74270000001, 11789.379299999995, 8322.605600000003, 19753.5108, 34477.15639999999, 5334.746399999995, 10367.509500000002, 12173.984500000013, 25257.53149999999, 12249.8224, 1653.6843000000006, 18383.11790000001, 6517.440200000004, 5520.232399999997, 3089.3535, 9775.639700000002, 22992.18990000001, 2833.6038000000017, 3061.5487000000007, 6629.089199999995, 15816.704200000004, 21048.25050000001, 10192.580999999998, 41950.00480000002, 6283.823300000003, 14773.04750000001, 7887.596900000001, 10600.425499999994, 4651.271900000002, 38824.157299999984, 2214.3226999999997, 10042.302000000009, 14424.713500000003, 12036.601099999994, 21215.12349999999, 10314.478899999986, 15783.968199999996, 12583.331100000003, 2093.258700000001, 9033.809799999995, 9811.612499999994, 7481.670899999998, 34121.39609999998, 9704.335800000004, 5280.936399999999, 5577.657859999993, 41894.567900000045, 2498.518299999998, 43282.31429999999, 17215.1965, 10524.806399999996, 51474.47020000001, 16396.126800000016, 3692.0115999999985, 44813.49549999998, 40758.917800000054, 14034.090399999988, 11349.945099999997, 36092.41560000002, 18913.483100000016, 1860.9301000000007, 12638.140300000005, 11607.887700000003, 1848.081699999998, 16340.484000000008, 8808.945899999999, 13925.535100000005, 3788.31845, 16281.458900000009, 5883.2905, 9758.321999999998, 14573.264200000007, 11517.545699999991, 28758.7476, 5446.828099999997, 9210.817000000005, 11858.015500000003, 42294.429, 10246.090799999994, 3824.3564000000024, 16499.90220000001, 4831.7457, 2153.164399999998, 1275.5779999999995, 8826.524200000002, 19142.669299999987, 3091.953600000002, 45614.276400000024, 15930.076500000014, 10054.234899999994, 6739.97849999999, 4079.5585000000015, 3248.219599999994, 10743.3142, 5718.429700000003, 8200.567500000006, 4809.999300000001, 6858.198900000005, 9607.336600000002, 11807.0746, 13412.285000000007, 16137.33019999999, 12251.683799999977, 13413.101399999994, 21065.21049999999, 1905.7030000000002, 11526.964599999996, 11844.851799999995, 12929.230299999997, 8027.837200000002, 38253.07100000003, 5126.731599999996, 4038.6469000000006, 16661.266699999993, 4776.097200000006, 36060.33510000002, 8597.465199999995, 3836.0921999999987, 3636.8586000000014, 19105.980699999993, 18894.038399999998, 19399.316099999985, 6550.933899999999, 2694.433600000002, 9325.139000000001, 10705.778999999997, 15629.792399999986, 18213.239300000012, 10810.741200000013, 44708.94410000002, 46295.26829999998, 6312.049100000001, 17001.221299999994, 7741.879199999996, 10971.081400000003, 9688.083100000007, 38383.94280000003, 2481.7612999999965, 10214.525299999994, 49286.70940000002, 6541.743799999999, 3141.719099999996, 10427.785160000003, 18056.020700000015, 42900.297700000025, 23498.577099999984, 5398.647499999995, 14713.9349, 2155.6480000000015, 13043.041900000002, 5162.582699999998, 9310.449600000004, 5330.201899999996, 12738.8148, 7002.368800000008, 17694.19229999999, 41472.78230000001, 5978.514999999997, 10865.008799999996, 18501.392200000002, 35345.273, 18480.901400000017, 2538.6943, 8830.351200000001, 16556.436500000007, 12656.784399999999, 43547.8338, 9470.316200000003, 8089.243400000004, 11660.533399999991, 11729.068799999992, 8870.4368, 12442.175700000003, 14716.82830000001, 10802.174700000001, 10243.783200000003, 35396.22049999997, 6949.533900000006, 4383.4193000000005, 3336.378799999997, 41945.0039, 11682.521, 8998.807899999996, 2707.309099999998, 4819.781900000004, 9161.4569, 1782.0141999999976, 3753.335899999999, 7001.816799999996, 13446.0224, 5468.432100000002, 47899.7341, 1825.8011000000015, 15834.135700000015, 7772.6170000000075, 20642.53810000001, 35390.359200000006, 12231.476, 10828.231099999999, 18804.612500000014, 15721.437399999995, 5767.794799999999, 19662.550400000007, 17247.328799999992, 4151.402700000004, 15555.991699999991, 3123.0027, 6846.101300000007, 9089.602899999998, 3700.9848999999945, 6775.950499999994, 8728.518700000004, 19944.832099999985, 9150.471099999999, 11224.740599999992, 9604.214900000003, 5026.975300000001, 3409.797200000001, 17760.575300000015, 14769.398900000006, 46712.78369999997, 6916.3649, 5702.944099999998, 11657.349000000002, 11322.160299999996, 11591.037299999998, 9061.567659999993, 17138.924799999997, 5785.144099999998, 4916.002400000004, 21143.1596, 20539.736799999977, 9088.01890000001, 9278.401700000002, 2033.9058000000011, 42749.478000000025, 47904.67320000001, 4358.456149999999, 15418.763800000017, 7601.134699999994, 8562.713099999999, 14925.885599999974, 16557.026600000023, 45130.83650000001, 45024.18429999999, 44231.65890000003, 3434.185000000002, 1834.2227999999993, 13663.306499999997, 16484.280600000006, 8923.145299999998, 43870.20760000001, 19549.98299999998, 6630.367499999998, 45629.14790000002, 2728.102199999998, 11991.222599999997, 10041.561100000006, 14113.302999999998, 9256.986699999994, 10517.639899999998, 7952.003399999994, 9580.931799999998, 43892.25089999999, 2763.2648000000017, 7425.026999999997, 18342.814700000006, 11125.670599999996, 12821.2848, 3726.4980000000005, 39589.036100000034, 15466.40300000001, 11354.3666, 2485.8451000000005, 44000.7821, 15956.936000000003, 11491.574699999996, 2868.4006999999997, 7316.369499999997, 8542.0397, 11263.130500000003, 5220.4801000000025, 1728.4606999999999, 10544.615499999998, 38039.806400000016, 8064.489800000005, 13376.491600000001, 20359.102299999966, 6851.536500000005, 47653.70430000003, 11345.882499999992, 19410.52709999999, 2093.258700000001, 5131.444700000004, 41199.053700000004, 4736.706899999998, 14399.14369999999, 3527.546099999994, 11726.268099999994, 6092.547100000004, 20442.71309999999, 5442.7867, 44276.199, 10325.391200000005, 2375.471799999996, 7002.880199999998, 1974.5119999999984, 4012.415199999999, 4003.931599999998, 11904.121099999997, 8413.528900000007, 23611.72250000001, 13744.83989999999, 6540.882199999998, 13446.535699999993, 8169.568200000003, 4554.362900000002, 1820.3163000000004, 6568.751100000006, 2989.817499999999, 14138.967500000004, 6589.970600000003, 8796.802599999994, 9853.322599999992, 14272.344800000003, 45456.850200000015, 39194.292300000045, 20876.031700000003, 13705.820800000005, 13750.789300000006, 45609.56560000002, 7259.209899999995, 23961.766100000008, 5190.846100000004, 24186.840200000006, 40525.995800000026, 2787.6272999999983, 45678.33169999998, 46766.34259999993, 10932.726299999997, 11937.172299999995, 13335.149899999995, 24349.44399999998, 8988.001700000004, 10624.447100000007, 3168.245400000001, 45778.727200000016, 39344.902699999955, 13390.434299999997, 10721.909599999999, 1662.6015999999986, 10583.933599999998, 1839.3921999999989, 9208.266800000007, 3162.025299999998, 20607.457500000022, 11416.312800000009, 12554.286499999982, 11870.395300000002, 4903.191000000005, 4568.423500000005, 16985.334900000016, 12243.673399999998, 12077.7714, 6533.339899999995]}],\n",
              "                        {\"template\": {\"data\": {\"bar\": [{\"error_x\": {\"color\": \"#2a3f5f\"}, \"error_y\": {\"color\": \"#2a3f5f\"}, \"marker\": {\"line\": {\"color\": \"#E5ECF6\", \"width\": 0.5}}, \"type\": \"bar\"}], \"barpolar\": [{\"marker\": {\"line\": {\"color\": \"#E5ECF6\", \"width\": 0.5}}, \"type\": \"barpolar\"}], \"carpet\": [{\"aaxis\": {\"endlinecolor\": \"#2a3f5f\", \"gridcolor\": \"white\", \"linecolor\": \"white\", \"minorgridcolor\": \"white\", \"startlinecolor\": \"#2a3f5f\"}, \"baxis\": {\"endlinecolor\": \"#2a3f5f\", \"gridcolor\": \"white\", \"linecolor\": \"white\", \"minorgridcolor\": \"white\", \"startlinecolor\": \"#2a3f5f\"}, \"type\": \"carpet\"}], \"choropleth\": [{\"colorbar\": {\"outlinewidth\": 0, \"ticks\": \"\"}, \"type\": \"choropleth\"}], \"contour\": [{\"colorbar\": {\"outlinewidth\": 0, \"ticks\": \"\"}, \"colorscale\": [[0.0, \"#0d0887\"], [0.1111111111111111, \"#46039f\"], [0.2222222222222222, \"#7201a8\"], [0.3333333333333333, \"#9c179e\"], [0.4444444444444444, \"#bd3786\"], [0.5555555555555556, \"#d8576b\"], [0.6666666666666666, \"#ed7953\"], [0.7777777777777778, \"#fb9f3a\"], [0.8888888888888888, \"#fdca26\"], [1.0, \"#f0f921\"]], \"type\": \"contour\"}], \"contourcarpet\": [{\"colorbar\": {\"outlinewidth\": 0, \"ticks\": \"\"}, \"type\": \"contourcarpet\"}], \"heatmap\": [{\"colorbar\": {\"outlinewidth\": 0, \"ticks\": \"\"}, \"colorscale\": [[0.0, \"#0d0887\"], [0.1111111111111111, \"#46039f\"], [0.2222222222222222, \"#7201a8\"], [0.3333333333333333, \"#9c179e\"], [0.4444444444444444, \"#bd3786\"], [0.5555555555555556, \"#d8576b\"], [0.6666666666666666, \"#ed7953\"], [0.7777777777777778, \"#fb9f3a\"], [0.8888888888888888, \"#fdca26\"], [1.0, \"#f0f921\"]], \"type\": \"heatmap\"}], \"heatmapgl\": [{\"colorbar\": {\"outlinewidth\": 0, \"ticks\": \"\"}, \"colorscale\": [[0.0, \"#0d0887\"], [0.1111111111111111, \"#46039f\"], [0.2222222222222222, \"#7201a8\"], [0.3333333333333333, \"#9c179e\"], [0.4444444444444444, \"#bd3786\"], [0.5555555555555556, \"#d8576b\"], [0.6666666666666666, \"#ed7953\"], [0.7777777777777778, \"#fb9f3a\"], [0.8888888888888888, \"#fdca26\"], [1.0, \"#f0f921\"]], \"type\": \"heatmapgl\"}], \"histogram\": [{\"marker\": {\"colorbar\": {\"outlinewidth\": 0, \"ticks\": \"\"}}, \"type\": \"histogram\"}], \"histogram2d\": [{\"colorbar\": {\"outlinewidth\": 0, \"ticks\": \"\"}, \"colorscale\": [[0.0, \"#0d0887\"], [0.1111111111111111, \"#46039f\"], [0.2222222222222222, \"#7201a8\"], [0.3333333333333333, \"#9c179e\"], [0.4444444444444444, \"#bd3786\"], [0.5555555555555556, \"#d8576b\"], [0.6666666666666666, \"#ed7953\"], [0.7777777777777778, \"#fb9f3a\"], [0.8888888888888888, \"#fdca26\"], [1.0, \"#f0f921\"]], \"type\": \"histogram2d\"}], \"histogram2dcontour\": [{\"colorbar\": {\"outlinewidth\": 0, \"ticks\": \"\"}, \"colorscale\": [[0.0, \"#0d0887\"], [0.1111111111111111, \"#46039f\"], [0.2222222222222222, \"#7201a8\"], [0.3333333333333333, \"#9c179e\"], [0.4444444444444444, \"#bd3786\"], [0.5555555555555556, \"#d8576b\"], [0.6666666666666666, \"#ed7953\"], [0.7777777777777778, \"#fb9f3a\"], [0.8888888888888888, \"#fdca26\"], [1.0, \"#f0f921\"]], \"type\": \"histogram2dcontour\"}], \"mesh3d\": [{\"colorbar\": {\"outlinewidth\": 0, \"ticks\": \"\"}, \"type\": \"mesh3d\"}], \"parcoords\": [{\"line\": {\"colorbar\": {\"outlinewidth\": 0, \"ticks\": \"\"}}, \"type\": \"parcoords\"}], \"pie\": [{\"automargin\": true, \"type\": \"pie\"}], \"scatter\": [{\"marker\": {\"colorbar\": {\"outlinewidth\": 0, \"ticks\": \"\"}}, \"type\": \"scatter\"}], \"scatter3d\": [{\"line\": {\"colorbar\": {\"outlinewidth\": 0, \"ticks\": \"\"}}, \"marker\": {\"colorbar\": {\"outlinewidth\": 0, \"ticks\": \"\"}}, \"type\": \"scatter3d\"}], \"scattercarpet\": [{\"marker\": {\"colorbar\": {\"outlinewidth\": 0, \"ticks\": \"\"}}, \"type\": \"scattercarpet\"}], \"scattergeo\": [{\"marker\": {\"colorbar\": {\"outlinewidth\": 0, \"ticks\": \"\"}}, \"type\": \"scattergeo\"}], \"scattergl\": [{\"marker\": {\"colorbar\": {\"outlinewidth\": 0, \"ticks\": \"\"}}, \"type\": \"scattergl\"}], \"scattermapbox\": [{\"marker\": {\"colorbar\": {\"outlinewidth\": 0, \"ticks\": \"\"}}, \"type\": \"scattermapbox\"}], \"scatterpolar\": [{\"marker\": {\"colorbar\": {\"outlinewidth\": 0, \"ticks\": \"\"}}, \"type\": \"scatterpolar\"}], \"scatterpolargl\": [{\"marker\": {\"colorbar\": {\"outlinewidth\": 0, \"ticks\": \"\"}}, \"type\": \"scatterpolargl\"}], \"scatterternary\": [{\"marker\": {\"colorbar\": {\"outlinewidth\": 0, \"ticks\": \"\"}}, \"type\": \"scatterternary\"}], \"surface\": [{\"colorbar\": {\"outlinewidth\": 0, \"ticks\": \"\"}, \"colorscale\": [[0.0, \"#0d0887\"], [0.1111111111111111, \"#46039f\"], [0.2222222222222222, \"#7201a8\"], [0.3333333333333333, \"#9c179e\"], [0.4444444444444444, \"#bd3786\"], [0.5555555555555556, \"#d8576b\"], [0.6666666666666666, \"#ed7953\"], [0.7777777777777778, \"#fb9f3a\"], [0.8888888888888888, \"#fdca26\"], [1.0, \"#f0f921\"]], \"type\": \"surface\"}], \"table\": [{\"cells\": {\"fill\": {\"color\": \"#EBF0F8\"}, \"line\": {\"color\": \"white\"}}, \"header\": {\"fill\": {\"color\": \"#C8D4E3\"}, \"line\": {\"color\": \"white\"}}, \"type\": \"table\"}]}, \"layout\": {\"annotationdefaults\": {\"arrowcolor\": \"#2a3f5f\", \"arrowhead\": 0, \"arrowwidth\": 1}, \"coloraxis\": {\"colorbar\": {\"outlinewidth\": 0, \"ticks\": \"\"}}, \"colorscale\": {\"diverging\": [[0, \"#8e0152\"], [0.1, \"#c51b7d\"], [0.2, \"#de77ae\"], [0.3, \"#f1b6da\"], [0.4, \"#fde0ef\"], [0.5, \"#f7f7f7\"], [0.6, \"#e6f5d0\"], [0.7, \"#b8e186\"], [0.8, \"#7fbc41\"], [0.9, \"#4d9221\"], [1, \"#276419\"]], \"sequential\": [[0.0, \"#0d0887\"], [0.1111111111111111, \"#46039f\"], [0.2222222222222222, \"#7201a8\"], [0.3333333333333333, \"#9c179e\"], [0.4444444444444444, \"#bd3786\"], [0.5555555555555556, \"#d8576b\"], [0.6666666666666666, \"#ed7953\"], [0.7777777777777778, \"#fb9f3a\"], [0.8888888888888888, \"#fdca26\"], [1.0, \"#f0f921\"]], \"sequentialminus\": [[0.0, \"#0d0887\"], [0.1111111111111111, \"#46039f\"], [0.2222222222222222, \"#7201a8\"], [0.3333333333333333, \"#9c179e\"], [0.4444444444444444, \"#bd3786\"], [0.5555555555555556, \"#d8576b\"], [0.6666666666666666, \"#ed7953\"], [0.7777777777777778, \"#fb9f3a\"], [0.8888888888888888, \"#fdca26\"], [1.0, \"#f0f921\"]]}, \"colorway\": [\"#636efa\", \"#EF553B\", \"#00cc96\", \"#ab63fa\", \"#FFA15A\", \"#19d3f3\", \"#FF6692\", \"#B6E880\", \"#FF97FF\", \"#FECB52\"], \"font\": {\"color\": \"#2a3f5f\"}, \"geo\": {\"bgcolor\": \"white\", \"lakecolor\": \"white\", \"landcolor\": \"#E5ECF6\", \"showlakes\": true, \"showland\": true, \"subunitcolor\": \"white\"}, \"hoverlabel\": {\"align\": \"left\"}, \"hovermode\": \"closest\", \"mapbox\": {\"style\": \"light\"}, \"paper_bgcolor\": \"white\", \"plot_bgcolor\": \"#E5ECF6\", \"polar\": {\"angularaxis\": {\"gridcolor\": \"white\", \"linecolor\": \"white\", \"ticks\": \"\"}, \"bgcolor\": \"#E5ECF6\", \"radialaxis\": {\"gridcolor\": \"white\", \"linecolor\": \"white\", \"ticks\": \"\"}}, \"scene\": {\"xaxis\": {\"backgroundcolor\": \"#E5ECF6\", \"gridcolor\": \"white\", \"gridwidth\": 2, \"linecolor\": \"white\", \"showbackground\": true, \"ticks\": \"\", \"zerolinecolor\": \"white\"}, \"yaxis\": {\"backgroundcolor\": \"#E5ECF6\", \"gridcolor\": \"white\", \"gridwidth\": 2, \"linecolor\": \"white\", \"showbackground\": true, \"ticks\": \"\", \"zerolinecolor\": \"white\"}, \"zaxis\": {\"backgroundcolor\": \"#E5ECF6\", \"gridcolor\": \"white\", \"gridwidth\": 2, \"linecolor\": \"white\", \"showbackground\": true, \"ticks\": \"\", \"zerolinecolor\": \"white\"}}, \"shapedefaults\": {\"line\": {\"color\": \"#2a3f5f\"}}, \"ternary\": {\"aaxis\": {\"gridcolor\": \"white\", \"linecolor\": \"white\", \"ticks\": \"\"}, \"baxis\": {\"gridcolor\": \"white\", \"linecolor\": \"white\", \"ticks\": \"\"}, \"bgcolor\": \"#E5ECF6\", \"caxis\": {\"gridcolor\": \"white\", \"linecolor\": \"white\", \"ticks\": \"\"}}, \"title\": {\"x\": 0.05}, \"xaxis\": {\"automargin\": true, \"gridcolor\": \"white\", \"linecolor\": \"white\", \"ticks\": \"\", \"title\": {\"standoff\": 15}, \"zerolinecolor\": \"white\", \"zerolinewidth\": 2}, \"yaxis\": {\"automargin\": true, \"gridcolor\": \"white\", \"linecolor\": \"white\", \"ticks\": \"\", \"title\": {\"standoff\": 15}, \"zerolinecolor\": \"white\", \"zerolinewidth\": 2}}}},\n",
              "                        {\"responsive\": true}\n",
              "                    ).then(function(){\n",
              "                            \n",
              "var gd = document.getElementById('391afa6e-90cd-41c6-bec7-a5566803a3cb');\n",
              "var x = new MutationObserver(function (mutations, observer) {{\n",
              "        var display = window.getComputedStyle(gd).display;\n",
              "        if (!display || display === 'none') {{\n",
              "            console.log([gd, 'removed!']);\n",
              "            Plotly.purge(gd);\n",
              "            observer.disconnect();\n",
              "        }}\n",
              "}});\n",
              "\n",
              "// Listen for the removal of the full notebook cells\n",
              "var notebookContainer = gd.closest('#notebook-container');\n",
              "if (notebookContainer) {{\n",
              "    x.observe(notebookContainer, {childList: true});\n",
              "}}\n",
              "\n",
              "// Listen for the clearing of the current output cell\n",
              "var outputEl = gd.closest('.output');\n",
              "if (outputEl) {{\n",
              "    x.observe(outputEl, {childList: true});\n",
              "}}\n",
              "\n",
              "                        })\n",
              "                };\n",
              "                \n",
              "            </script>\n",
              "        </div>\n",
              "</body>\n",
              "</html>"
            ]
          },
          "metadata": {
            "tags": []
          }
        }
      ]
    },
    {
      "cell_type": "code",
      "metadata": {
        "id": "J8a9VoHna87m",
        "colab_type": "code",
        "colab": {
          "base_uri": "https://localhost:8080/",
          "height": 204
        },
        "outputId": "9bb2369c-07ac-41f1-c367-9fd75dc59aba"
      },
      "source": [
        "x.head()"
      ],
      "execution_count": 51,
      "outputs": [
        {
          "output_type": "execute_result",
          "data": {
            "text/html": [
              "<div>\n",
              "<style scoped>\n",
              "    .dataframe tbody tr th:only-of-type {\n",
              "        vertical-align: middle;\n",
              "    }\n",
              "\n",
              "    .dataframe tbody tr th {\n",
              "        vertical-align: top;\n",
              "    }\n",
              "\n",
              "    .dataframe thead th {\n",
              "        text-align: right;\n",
              "    }\n",
              "</style>\n",
              "<table border=\"1\" class=\"dataframe\">\n",
              "  <thead>\n",
              "    <tr style=\"text-align: right;\">\n",
              "      <th></th>\n",
              "      <th>idade</th>\n",
              "      <th>sexo</th>\n",
              "      <th>bmi</th>\n",
              "      <th>filhos</th>\n",
              "      <th>fumantes</th>\n",
              "      <th>regiao</th>\n",
              "    </tr>\n",
              "  </thead>\n",
              "  <tbody>\n",
              "    <tr>\n",
              "      <th>0</th>\n",
              "      <td>0.021739</td>\n",
              "      <td>1.0</td>\n",
              "      <td>0.320755</td>\n",
              "      <td>0.0</td>\n",
              "      <td>1.0</td>\n",
              "      <td>0.666667</td>\n",
              "    </tr>\n",
              "    <tr>\n",
              "      <th>1</th>\n",
              "      <td>0.000000</td>\n",
              "      <td>0.0</td>\n",
              "      <td>0.479784</td>\n",
              "      <td>0.2</td>\n",
              "      <td>0.0</td>\n",
              "      <td>1.000000</td>\n",
              "    </tr>\n",
              "    <tr>\n",
              "      <th>2</th>\n",
              "      <td>0.217391</td>\n",
              "      <td>0.0</td>\n",
              "      <td>0.458221</td>\n",
              "      <td>0.6</td>\n",
              "      <td>0.0</td>\n",
              "      <td>1.000000</td>\n",
              "    </tr>\n",
              "    <tr>\n",
              "      <th>3</th>\n",
              "      <td>0.326087</td>\n",
              "      <td>0.0</td>\n",
              "      <td>0.180593</td>\n",
              "      <td>0.0</td>\n",
              "      <td>0.0</td>\n",
              "      <td>0.000000</td>\n",
              "    </tr>\n",
              "    <tr>\n",
              "      <th>4</th>\n",
              "      <td>0.304348</td>\n",
              "      <td>0.0</td>\n",
              "      <td>0.347709</td>\n",
              "      <td>0.0</td>\n",
              "      <td>0.0</td>\n",
              "      <td>0.000000</td>\n",
              "    </tr>\n",
              "  </tbody>\n",
              "</table>\n",
              "</div>"
            ],
            "text/plain": [
              "      idade  sexo       bmi  filhos  fumantes    regiao\n",
              "0  0.021739   1.0  0.320755     0.0       1.0  0.666667\n",
              "1  0.000000   0.0  0.479784     0.2       0.0  1.000000\n",
              "2  0.217391   0.0  0.458221     0.6       0.0  1.000000\n",
              "3  0.326087   0.0  0.180593     0.0       0.0  0.000000\n",
              "4  0.304348   0.0  0.347709     0.0       0.0  0.000000"
            ]
          },
          "metadata": {
            "tags": []
          },
          "execution_count": 51
        }
      ]
    },
    {
      "cell_type": "code",
      "metadata": {
        "id": "x5Yj-KuldQA3",
        "colab_type": "code",
        "colab": {}
      },
      "source": [
        "x[\"gastos\"] = y_data"
      ],
      "execution_count": 52,
      "outputs": []
    },
    {
      "cell_type": "code",
      "metadata": {
        "id": "C9rV30DUdqNr",
        "colab_type": "code",
        "colab": {
          "base_uri": "https://localhost:8080/",
          "height": 204
        },
        "outputId": "19d42fa2-39d6-4cf4-bb38-1cba35b08900"
      },
      "source": [
        "x.head()"
      ],
      "execution_count": 53,
      "outputs": [
        {
          "output_type": "execute_result",
          "data": {
            "text/html": [
              "<div>\n",
              "<style scoped>\n",
              "    .dataframe tbody tr th:only-of-type {\n",
              "        vertical-align: middle;\n",
              "    }\n",
              "\n",
              "    .dataframe tbody tr th {\n",
              "        vertical-align: top;\n",
              "    }\n",
              "\n",
              "    .dataframe thead th {\n",
              "        text-align: right;\n",
              "    }\n",
              "</style>\n",
              "<table border=\"1\" class=\"dataframe\">\n",
              "  <thead>\n",
              "    <tr style=\"text-align: right;\">\n",
              "      <th></th>\n",
              "      <th>idade</th>\n",
              "      <th>sexo</th>\n",
              "      <th>bmi</th>\n",
              "      <th>filhos</th>\n",
              "      <th>fumantes</th>\n",
              "      <th>regiao</th>\n",
              "      <th>gastos</th>\n",
              "    </tr>\n",
              "  </thead>\n",
              "  <tbody>\n",
              "    <tr>\n",
              "      <th>0</th>\n",
              "      <td>0.021739</td>\n",
              "      <td>1.0</td>\n",
              "      <td>0.320755</td>\n",
              "      <td>0.0</td>\n",
              "      <td>1.0</td>\n",
              "      <td>0.666667</td>\n",
              "      <td>16884.92</td>\n",
              "    </tr>\n",
              "    <tr>\n",
              "      <th>1</th>\n",
              "      <td>0.000000</td>\n",
              "      <td>0.0</td>\n",
              "      <td>0.479784</td>\n",
              "      <td>0.2</td>\n",
              "      <td>0.0</td>\n",
              "      <td>1.000000</td>\n",
              "      <td>1725.55</td>\n",
              "    </tr>\n",
              "    <tr>\n",
              "      <th>2</th>\n",
              "      <td>0.217391</td>\n",
              "      <td>0.0</td>\n",
              "      <td>0.458221</td>\n",
              "      <td>0.6</td>\n",
              "      <td>0.0</td>\n",
              "      <td>1.000000</td>\n",
              "      <td>4449.46</td>\n",
              "    </tr>\n",
              "    <tr>\n",
              "      <th>3</th>\n",
              "      <td>0.326087</td>\n",
              "      <td>0.0</td>\n",
              "      <td>0.180593</td>\n",
              "      <td>0.0</td>\n",
              "      <td>0.0</td>\n",
              "      <td>0.000000</td>\n",
              "      <td>21984.47</td>\n",
              "    </tr>\n",
              "    <tr>\n",
              "      <th>4</th>\n",
              "      <td>0.304348</td>\n",
              "      <td>0.0</td>\n",
              "      <td>0.347709</td>\n",
              "      <td>0.0</td>\n",
              "      <td>0.0</td>\n",
              "      <td>0.000000</td>\n",
              "      <td>3866.86</td>\n",
              "    </tr>\n",
              "  </tbody>\n",
              "</table>\n",
              "</div>"
            ],
            "text/plain": [
              "      idade  sexo       bmi  filhos  fumantes    regiao    gastos\n",
              "0  0.021739   1.0  0.320755     0.0       1.0  0.666667  16884.92\n",
              "1  0.000000   0.0  0.479784     0.2       0.0  1.000000   1725.55\n",
              "2  0.217391   0.0  0.458221     0.6       0.0  1.000000   4449.46\n",
              "3  0.326087   0.0  0.180593     0.0       0.0  0.000000  21984.47\n",
              "4  0.304348   0.0  0.347709     0.0       0.0  0.000000   3866.86"
            ]
          },
          "metadata": {
            "tags": []
          },
          "execution_count": 53
        }
      ]
    },
    {
      "cell_type": "code",
      "metadata": {
        "id": "nGKEtDFVdrsb",
        "colab_type": "code",
        "colab": {}
      },
      "source": [
        "x.to_csv(\"data.csv\", index=False)"
      ],
      "execution_count": 54,
      "outputs": []
    },
    {
      "cell_type": "code",
      "metadata": {
        "id": "fRw8KwDNd0WT",
        "colab_type": "code",
        "colab": {
          "base_uri": "https://localhost:8080/",
          "height": 204
        },
        "outputId": "102c52db-991a-4b10-d2b0-fe4ed498bdc0"
      },
      "source": [
        "df.head()"
      ],
      "execution_count": 55,
      "outputs": [
        {
          "output_type": "execute_result",
          "data": {
            "text/html": [
              "<div>\n",
              "<style scoped>\n",
              "    .dataframe tbody tr th:only-of-type {\n",
              "        vertical-align: middle;\n",
              "    }\n",
              "\n",
              "    .dataframe tbody tr th {\n",
              "        vertical-align: top;\n",
              "    }\n",
              "\n",
              "    .dataframe thead th {\n",
              "        text-align: right;\n",
              "    }\n",
              "</style>\n",
              "<table border=\"1\" class=\"dataframe\">\n",
              "  <thead>\n",
              "    <tr style=\"text-align: right;\">\n",
              "      <th></th>\n",
              "      <th>idade</th>\n",
              "      <th>sexo</th>\n",
              "      <th>bmi</th>\n",
              "      <th>filhos</th>\n",
              "      <th>fumantes</th>\n",
              "      <th>regiao</th>\n",
              "      <th>gastos</th>\n",
              "    </tr>\n",
              "  </thead>\n",
              "  <tbody>\n",
              "    <tr>\n",
              "      <th>0</th>\n",
              "      <td>19</td>\n",
              "      <td>1</td>\n",
              "      <td>27.9</td>\n",
              "      <td>0</td>\n",
              "      <td>1</td>\n",
              "      <td>2</td>\n",
              "      <td>16884.92</td>\n",
              "    </tr>\n",
              "    <tr>\n",
              "      <th>1</th>\n",
              "      <td>18</td>\n",
              "      <td>0</td>\n",
              "      <td>33.8</td>\n",
              "      <td>1</td>\n",
              "      <td>0</td>\n",
              "      <td>3</td>\n",
              "      <td>1725.55</td>\n",
              "    </tr>\n",
              "    <tr>\n",
              "      <th>2</th>\n",
              "      <td>28</td>\n",
              "      <td>0</td>\n",
              "      <td>33.0</td>\n",
              "      <td>3</td>\n",
              "      <td>0</td>\n",
              "      <td>3</td>\n",
              "      <td>4449.46</td>\n",
              "    </tr>\n",
              "    <tr>\n",
              "      <th>3</th>\n",
              "      <td>33</td>\n",
              "      <td>0</td>\n",
              "      <td>22.7</td>\n",
              "      <td>0</td>\n",
              "      <td>0</td>\n",
              "      <td>0</td>\n",
              "      <td>21984.47</td>\n",
              "    </tr>\n",
              "    <tr>\n",
              "      <th>4</th>\n",
              "      <td>32</td>\n",
              "      <td>0</td>\n",
              "      <td>28.9</td>\n",
              "      <td>0</td>\n",
              "      <td>0</td>\n",
              "      <td>0</td>\n",
              "      <td>3866.86</td>\n",
              "    </tr>\n",
              "  </tbody>\n",
              "</table>\n",
              "</div>"
            ],
            "text/plain": [
              "   idade  sexo   bmi  filhos  fumantes  regiao    gastos\n",
              "0     19     1  27.9       0         1       2  16884.92\n",
              "1     18     0  33.8       1         0       3   1725.55\n",
              "2     28     0  33.0       3         0       3   4449.46\n",
              "3     33     0  22.7       0         0       0  21984.47\n",
              "4     32     0  28.9       0         0       0   3866.86"
            ]
          },
          "metadata": {
            "tags": []
          },
          "execution_count": 55
        }
      ]
    },
    {
      "cell_type": "code",
      "metadata": {
        "id": "SjhvYudip4wM",
        "colab_type": "code",
        "colab": {}
      },
      "source": [
        "df.to_csv(\"data2.csv\", index=False)"
      ],
      "execution_count": 56,
      "outputs": []
    }
  ]
}