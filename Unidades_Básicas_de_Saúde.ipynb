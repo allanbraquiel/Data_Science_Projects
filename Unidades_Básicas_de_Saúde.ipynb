{
  "nbformat": 4,
  "nbformat_minor": 0,
  "metadata": {
    "colab": {
      "name": "Unidades Básicas de Saúde",
      "provenance": [],
      "collapsed_sections": [],
      "mount_file_id": "1DiH4CD-WlOCPINfN5iQOVIXEspXGktIF",
      "authorship_tag": "ABX9TyMtMvNcdbM7gbTohZBoFcjz",
      "include_colab_link": true
    },
    "kernelspec": {
      "name": "python3",
      "display_name": "Python 3"
    }
  },
  "cells": [
    {
      "cell_type": "markdown",
      "metadata": {
        "id": "view-in-github",
        "colab_type": "text"
      },
      "source": [
        "<a href=\"https://colab.research.google.com/github/allanbraquiel/Notebooks/blob/master/Unidades_B%C3%A1sicas_de_Sa%C3%BAde.ipynb\" target=\"_parent\"><img src=\"https://colab.research.google.com/assets/colab-badge.svg\" alt=\"Open In Colab\"/></a>"
      ]
    },
    {
      "cell_type": "code",
      "metadata": {
        "id": "NSKTduddYYu0",
        "colab_type": "code",
        "colab": {}
      },
      "source": [
        "import pandas as pd"
      ],
      "execution_count": 0,
      "outputs": []
    },
    {
      "cell_type": "code",
      "metadata": {
        "id": "E7LjIphrYoVR",
        "colab_type": "code",
        "colab": {}
      },
      "source": [
        "df_ubs_func = pd.read_csv(\"/content/drive/My Drive/Colab Files/ubs_funcionamentonone.csv.csv\", sep=\",\", encoding=\"utf-8\")"
      ],
      "execution_count": 0,
      "outputs": []
    },
    {
      "cell_type": "code",
      "metadata": {
        "id": "HEziGZVHYsfO",
        "colab_type": "code",
        "colab": {
          "base_uri": "https://localhost:8080/",
          "height": 323
        },
        "outputId": "c5fcaff8-61a7-4868-adf2-1a2186c60e8e"
      },
      "source": [
        "df_ubs_func.head()"
      ],
      "execution_count": 5,
      "outputs": [
        {
          "output_type": "execute_result",
          "data": {
            "text/html": [
              "<div>\n",
              "<style scoped>\n",
              "    .dataframe tbody tr th:only-of-type {\n",
              "        vertical-align: middle;\n",
              "    }\n",
              "\n",
              "    .dataframe tbody tr th {\n",
              "        vertical-align: top;\n",
              "    }\n",
              "\n",
              "    .dataframe thead th {\n",
              "        text-align: right;\n",
              "    }\n",
              "</style>\n",
              "<table border=\"1\" class=\"dataframe\">\n",
              "  <thead>\n",
              "    <tr style=\"text-align: right;\">\n",
              "      <th></th>\n",
              "      <th>gid</th>\n",
              "      <th>co_cnes</th>\n",
              "      <th>lat</th>\n",
              "      <th>long</th>\n",
              "      <th>no_fantasia</th>\n",
              "      <th>no_logradouro</th>\n",
              "      <th>nu_endereco</th>\n",
              "      <th>no_bairro</th>\n",
              "      <th>nu_telefone</th>\n",
              "      <th>co_cep</th>\n",
              "      <th>uf</th>\n",
              "      <th>cidade</th>\n",
              "      <th>ano_ubs_det</th>\n",
              "      <th>mes_ubs_det</th>\n",
              "    </tr>\n",
              "  </thead>\n",
              "  <tbody>\n",
              "    <tr>\n",
              "      <th>0</th>\n",
              "      <td>27</td>\n",
              "      <td>2105462</td>\n",
              "      <td>-15.342934</td>\n",
              "      <td>-43.670329</td>\n",
              "      <td>UAPS NOVA ESPERANCA</td>\n",
              "      <td>AV JOAO TEIXEIRA FILHO</td>\n",
              "      <td>566</td>\n",
              "      <td>CENTRO</td>\n",
              "      <td>(38)38331252</td>\n",
              "      <td>39508000.0</td>\n",
              "      <td>MG</td>\n",
              "      <td>Jaíba</td>\n",
              "      <td>2016</td>\n",
              "      <td>5</td>\n",
              "    </tr>\n",
              "    <tr>\n",
              "      <th>1</th>\n",
              "      <td>331</td>\n",
              "      <td>2576368</td>\n",
              "      <td>-23.598461</td>\n",
              "      <td>-51.632051</td>\n",
              "      <td>UBS LAZARO DE PAULA RODRIGUES</td>\n",
              "      <td>RUA MARUMBI</td>\n",
              "      <td>S/N</td>\n",
              "      <td>CENTRO</td>\n",
              "      <td>(43)34327398</td>\n",
              "      <td>86900000.0</td>\n",
              "      <td>PR</td>\n",
              "      <td>Jandaia do Sul</td>\n",
              "      <td>2016</td>\n",
              "      <td>5</td>\n",
              "    </tr>\n",
              "    <tr>\n",
              "      <th>2</th>\n",
              "      <td>273</td>\n",
              "      <td>2478234</td>\n",
              "      <td>-3.499682</td>\n",
              "      <td>-40.277123</td>\n",
              "      <td>CENTRO DE SAUDE DA FAMILIA DO MIRIM ANTONIO BI...</td>\n",
              "      <td>ALTO ALEGRE</td>\n",
              "      <td>S/N</td>\n",
              "      <td>ALTO ALEGRE</td>\n",
              "      <td>8836431065</td>\n",
              "      <td>62140000.0</td>\n",
              "      <td>CE</td>\n",
              "      <td>Massapê</td>\n",
              "      <td>2016</td>\n",
              "      <td>5</td>\n",
              "    </tr>\n",
              "    <tr>\n",
              "      <th>3</th>\n",
              "      <td>46</td>\n",
              "      <td>2412802</td>\n",
              "      <td>-13.277739</td>\n",
              "      <td>-41.385155</td>\n",
              "      <td>US DA FAMILIA DE IRACEMA COSTA E SILVA</td>\n",
              "      <td>TRAVESSA ITAMAR MAGALHAES</td>\n",
              "      <td>25</td>\n",
              "      <td>CENTRO</td>\n",
              "      <td>77 34135203</td>\n",
              "      <td>46760000.0</td>\n",
              "      <td>BA</td>\n",
              "      <td>Ibicoara</td>\n",
              "      <td>2016</td>\n",
              "      <td>5</td>\n",
              "    </tr>\n",
              "    <tr>\n",
              "      <th>4</th>\n",
              "      <td>330</td>\n",
              "      <td>2756161</td>\n",
              "      <td>-7.115000</td>\n",
              "      <td>-34.863000</td>\n",
              "      <td>USF INTEGRADA SANTA CLARA</td>\n",
              "      <td>RUA NEVINHA RAPOSO</td>\n",
              "      <td>53</td>\n",
              "      <td>CASTELO BRANCO</td>\n",
              "      <td>(83)32147126</td>\n",
              "      <td>58050520.0</td>\n",
              "      <td>PB</td>\n",
              "      <td>João Pessoa</td>\n",
              "      <td>2016</td>\n",
              "      <td>5</td>\n",
              "    </tr>\n",
              "  </tbody>\n",
              "</table>\n",
              "</div>"
            ],
            "text/plain": [
              "   gid  co_cnes        lat  ...          cidade ano_ubs_det mes_ubs_det\n",
              "0   27  2105462 -15.342934  ...           Jaíba        2016           5\n",
              "1  331  2576368 -23.598461  ...  Jandaia do Sul        2016           5\n",
              "2  273  2478234  -3.499682  ...         Massapê        2016           5\n",
              "3   46  2412802 -13.277739  ...        Ibicoara        2016           5\n",
              "4  330  2756161  -7.115000  ...     João Pessoa        2016           5\n",
              "\n",
              "[5 rows x 14 columns]"
            ]
          },
          "metadata": {
            "tags": []
          },
          "execution_count": 5
        }
      ]
    },
    {
      "cell_type": "code",
      "metadata": {
        "id": "-wyg45xwZqoW",
        "colab_type": "code",
        "colab": {
          "base_uri": "https://localhost:8080/",
          "height": 759
        },
        "outputId": "50d46ba5-7ea6-44b3-ddb4-1cce02fd6b0c"
      },
      "source": [
        "df_ubs_func.query(\"cidade == 'Goiânia'\")"
      ],
      "execution_count": 6,
      "outputs": [
        {
          "output_type": "execute_result",
          "data": {
            "text/html": [
              "<div>\n",
              "<style scoped>\n",
              "    .dataframe tbody tr th:only-of-type {\n",
              "        vertical-align: middle;\n",
              "    }\n",
              "\n",
              "    .dataframe tbody tr th {\n",
              "        vertical-align: top;\n",
              "    }\n",
              "\n",
              "    .dataframe thead th {\n",
              "        text-align: right;\n",
              "    }\n",
              "</style>\n",
              "<table border=\"1\" class=\"dataframe\">\n",
              "  <thead>\n",
              "    <tr style=\"text-align: right;\">\n",
              "      <th></th>\n",
              "      <th>gid</th>\n",
              "      <th>co_cnes</th>\n",
              "      <th>lat</th>\n",
              "      <th>long</th>\n",
              "      <th>no_fantasia</th>\n",
              "      <th>no_logradouro</th>\n",
              "      <th>nu_endereco</th>\n",
              "      <th>no_bairro</th>\n",
              "      <th>nu_telefone</th>\n",
              "      <th>co_cep</th>\n",
              "      <th>uf</th>\n",
              "      <th>cidade</th>\n",
              "      <th>ano_ubs_det</th>\n",
              "      <th>mes_ubs_det</th>\n",
              "    </tr>\n",
              "  </thead>\n",
              "  <tbody>\n",
              "    <tr>\n",
              "      <th>364</th>\n",
              "      <td>2232</td>\n",
              "      <td>2338572</td>\n",
              "      <td>-16.657248</td>\n",
              "      <td>-49.244306</td>\n",
              "      <td>CENTRO DE SAUDE MARINHO LEMOS</td>\n",
              "      <td>AV ARMANDO DE GODOY</td>\n",
              "      <td>S/N</td>\n",
              "      <td>ST NEGRAO DE LIMA</td>\n",
              "      <td>62 - 35241815</td>\n",
              "      <td>74650010.0</td>\n",
              "      <td>GO</td>\n",
              "      <td>Goiânia</td>\n",
              "      <td>2016</td>\n",
              "      <td>5</td>\n",
              "    </tr>\n",
              "    <tr>\n",
              "      <th>1660</th>\n",
              "      <td>3938</td>\n",
              "      <td>2506777</td>\n",
              "      <td>-16.647055</td>\n",
              "      <td>-49.297693</td>\n",
              "      <td>CENTRO DE SAUDE BENEDITO DOS SANTOS VIEIRA</td>\n",
              "      <td>AV PERIM</td>\n",
              "      <td>S/N</td>\n",
              "      <td>SETOR PERIM</td>\n",
              "      <td>(62)5242416</td>\n",
              "      <td>74580260.0</td>\n",
              "      <td>GO</td>\n",
              "      <td>Goiânia</td>\n",
              "      <td>2016</td>\n",
              "      <td>5</td>\n",
              "    </tr>\n",
              "    <tr>\n",
              "      <th>1823</th>\n",
              "      <td>4034</td>\n",
              "      <td>2339358</td>\n",
              "      <td>-16.730558</td>\n",
              "      <td>-49.315481</td>\n",
              "      <td>CENTRO DE SAUDE VILA BOA</td>\n",
              "      <td>RUA ALMIRANTE BARROSO</td>\n",
              "      <td>S/N</td>\n",
              "      <td>JD VILA BOA</td>\n",
              "      <td>(62) 3524-8273</td>\n",
              "      <td>74360470.0</td>\n",
              "      <td>GO</td>\n",
              "      <td>Goiânia</td>\n",
              "      <td>2016</td>\n",
              "      <td>5</td>\n",
              "    </tr>\n",
              "    <tr>\n",
              "      <th>2844</th>\n",
              "      <td>5882</td>\n",
              "      <td>2339390</td>\n",
              "      <td>-16.690239</td>\n",
              "      <td>-49.353719</td>\n",
              "      <td>CENTRO DE SAUDE PARQUE INDUSTRIAL JOAO BRAZ</td>\n",
              "      <td>RUA RODRIGUES ALVES C RUA OLIMPIA</td>\n",
              "      <td>S/N</td>\n",
              "      <td>PQ IND JOAO BRAZ</td>\n",
              "      <td>(62) 35736056 / 3674</td>\n",
              "      <td>74483510.0</td>\n",
              "      <td>GO</td>\n",
              "      <td>Goiânia</td>\n",
              "      <td>2016</td>\n",
              "      <td>5</td>\n",
              "    </tr>\n",
              "    <tr>\n",
              "      <th>3565</th>\n",
              "      <td>7088</td>\n",
              "      <td>3238458</td>\n",
              "      <td>-16.673310</td>\n",
              "      <td>-49.255814</td>\n",
              "      <td>USF PARQUE SANTA RITA</td>\n",
              "      <td>AVENIDA AMERICANO DO BRASIL</td>\n",
              "      <td>S/N</td>\n",
              "      <td>PARQUE SANTA RITA</td>\n",
              "      <td>(62) 3256-6233</td>\n",
              "      <td>74823030.0</td>\n",
              "      <td>GO</td>\n",
              "      <td>Goiânia</td>\n",
              "      <td>2016</td>\n",
              "      <td>5</td>\n",
              "    </tr>\n",
              "    <tr>\n",
              "      <th>...</th>\n",
              "      <td>...</td>\n",
              "      <td>...</td>\n",
              "      <td>...</td>\n",
              "      <td>...</td>\n",
              "      <td>...</td>\n",
              "      <td>...</td>\n",
              "      <td>...</td>\n",
              "      <td>...</td>\n",
              "      <td>...</td>\n",
              "      <td>...</td>\n",
              "      <td>...</td>\n",
              "      <td>...</td>\n",
              "      <td>...</td>\n",
              "      <td>...</td>\n",
              "    </tr>\n",
              "    <tr>\n",
              "      <th>36187</th>\n",
              "      <td>47683</td>\n",
              "      <td>3503038</td>\n",
              "      <td>-16.675630</td>\n",
              "      <td>-49.262700</td>\n",
              "      <td>CMAC II CENTRAL DE MEDICAMENTOS DE ALTO CUSTO ...</td>\n",
              "      <td>AV TOCANTINS</td>\n",
              "      <td>777</td>\n",
              "      <td>CENTRO</td>\n",
              "      <td>NaN</td>\n",
              "      <td>74015010.0</td>\n",
              "      <td>GO</td>\n",
              "      <td>Goiânia</td>\n",
              "      <td>2016</td>\n",
              "      <td>5</td>\n",
              "    </tr>\n",
              "    <tr>\n",
              "      <th>36426</th>\n",
              "      <td>48157</td>\n",
              "      <td>6949231</td>\n",
              "      <td>-16.672650</td>\n",
              "      <td>-49.310250</td>\n",
              "      <td>USF JARDIM GUANABARA III</td>\n",
              "      <td>RUA GB 14 ESQ COM GB 37</td>\n",
              "      <td>S/N</td>\n",
              "      <td>JARDIM GUANABARA III</td>\n",
              "      <td>062 - 35245050</td>\n",
              "      <td>74683130.0</td>\n",
              "      <td>GO</td>\n",
              "      <td>Goiânia</td>\n",
              "      <td>2016</td>\n",
              "      <td>5</td>\n",
              "    </tr>\n",
              "    <tr>\n",
              "      <th>37197</th>\n",
              "      <td>49382</td>\n",
              "      <td>7381549</td>\n",
              "      <td>-16.673950</td>\n",
              "      <td>-49.252370</td>\n",
              "      <td>CENTRO DE SAUDE CAMPUS SAMAMBAIA</td>\n",
              "      <td>AVENIDA PAU BRASIL</td>\n",
              "      <td>2</td>\n",
              "      <td>CAMPUS SAMAMBAIA</td>\n",
              "      <td>62 - 35211868</td>\n",
              "      <td>74605901.0</td>\n",
              "      <td>GO</td>\n",
              "      <td>Goiânia</td>\n",
              "      <td>2016</td>\n",
              "      <td>5</td>\n",
              "    </tr>\n",
              "    <tr>\n",
              "      <th>37409</th>\n",
              "      <td>48986</td>\n",
              "      <td>7247214</td>\n",
              "      <td>-16.533120</td>\n",
              "      <td>-49.225500</td>\n",
              "      <td>USF ANTONIO CARLOS PIRES</td>\n",
              "      <td>RUA ACP 04 ESQUINA ACP 02</td>\n",
              "      <td>S/N</td>\n",
              "      <td>ANTONIO CARLOS PIRES</td>\n",
              "      <td>62 - 32070072</td>\n",
              "      <td>74693178.0</td>\n",
              "      <td>GO</td>\n",
              "      <td>Goiânia</td>\n",
              "      <td>2016</td>\n",
              "      <td>5</td>\n",
              "    </tr>\n",
              "    <tr>\n",
              "      <th>39651</th>\n",
              "      <td>1169</td>\n",
              "      <td>2506823</td>\n",
              "      <td>-16.659651</td>\n",
              "      <td>-49.307156</td>\n",
              "      <td>CENTRO DE SAUDE ESPLANADA DO ANICUNS</td>\n",
              "      <td>RUA SAO GOTARDO ESQ COM ALA PROGRESSO</td>\n",
              "      <td>S/N</td>\n",
              "      <td>ESPLANADA DO ANICUNS</td>\n",
              "      <td>62- 35241961</td>\n",
              "      <td>74433170.0</td>\n",
              "      <td>GO</td>\n",
              "      <td>Goiânia</td>\n",
              "      <td>2016</td>\n",
              "      <td>5</td>\n",
              "    </tr>\n",
              "  </tbody>\n",
              "</table>\n",
              "<p>85 rows × 14 columns</p>\n",
              "</div>"
            ],
            "text/plain": [
              "         gid  co_cnes        lat  ...   cidade ano_ubs_det mes_ubs_det\n",
              "364     2232  2338572 -16.657248  ...  Goiânia        2016           5\n",
              "1660    3938  2506777 -16.647055  ...  Goiânia        2016           5\n",
              "1823    4034  2339358 -16.730558  ...  Goiânia        2016           5\n",
              "2844    5882  2339390 -16.690239  ...  Goiânia        2016           5\n",
              "3565    7088  3238458 -16.673310  ...  Goiânia        2016           5\n",
              "...      ...      ...        ...  ...      ...         ...         ...\n",
              "36187  47683  3503038 -16.675630  ...  Goiânia        2016           5\n",
              "36426  48157  6949231 -16.672650  ...  Goiânia        2016           5\n",
              "37197  49382  7381549 -16.673950  ...  Goiânia        2016           5\n",
              "37409  48986  7247214 -16.533120  ...  Goiânia        2016           5\n",
              "39651   1169  2506823 -16.659651  ...  Goiânia        2016           5\n",
              "\n",
              "[85 rows x 14 columns]"
            ]
          },
          "metadata": {
            "tags": []
          },
          "execution_count": 6
        }
      ]
    },
    {
      "cell_type": "code",
      "metadata": {
        "id": "4uVZu90DZs5d",
        "colab_type": "code",
        "colab": {}
      },
      "source": [
        "df_goiania_func = df_ubs_func.query(\"cidade == 'Goiânia'\")"
      ],
      "execution_count": 0,
      "outputs": []
    },
    {
      "cell_type": "code",
      "metadata": {
        "id": "AvyV_ntQZvH1",
        "colab_type": "code",
        "colab": {
          "base_uri": "https://localhost:8080/",
          "height": 340
        },
        "outputId": "b56350d8-867b-4b76-e6ab-4e0238e8a90e"
      },
      "source": [
        "df_goiania_func.info()"
      ],
      "execution_count": 8,
      "outputs": [
        {
          "output_type": "stream",
          "text": [
            "<class 'pandas.core.frame.DataFrame'>\n",
            "Int64Index: 85 entries, 364 to 39651\n",
            "Data columns (total 14 columns):\n",
            "gid              85 non-null int64\n",
            "co_cnes          85 non-null int64\n",
            "lat              85 non-null float64\n",
            "long             85 non-null float64\n",
            "no_fantasia      85 non-null object\n",
            "no_logradouro    85 non-null object\n",
            "nu_endereco      85 non-null object\n",
            "no_bairro        85 non-null object\n",
            "nu_telefone      82 non-null object\n",
            "co_cep           85 non-null float64\n",
            "uf               85 non-null object\n",
            "cidade           85 non-null object\n",
            "ano_ubs_det      85 non-null int64\n",
            "mes_ubs_det      85 non-null int64\n",
            "dtypes: float64(3), int64(4), object(7)\n",
            "memory usage: 10.0+ KB\n"
          ],
          "name": "stdout"
        }
      ]
    },
    {
      "cell_type": "code",
      "metadata": {
        "id": "mZF2WrR5Zx2l",
        "colab_type": "code",
        "colab": {}
      },
      "source": [
        "df_ubs_exi = pd.read_csv(\"/content/drive/My Drive/Colab Files/ubs_existentesnone.csv.csv\")"
      ],
      "execution_count": 0,
      "outputs": []
    },
    {
      "cell_type": "code",
      "metadata": {
        "id": "PFWIVKYtaIhk",
        "colab_type": "code",
        "colab": {
          "base_uri": "https://localhost:8080/",
          "height": 359
        },
        "outputId": "6241d79d-8e34-43cb-fe7f-8c8261805c01"
      },
      "source": [
        "df_ubs_exi.head(10)"
      ],
      "execution_count": 10,
      "outputs": [
        {
          "output_type": "execute_result",
          "data": {
            "text/html": [
              "<div>\n",
              "<style scoped>\n",
              "    .dataframe tbody tr th:only-of-type {\n",
              "        vertical-align: middle;\n",
              "    }\n",
              "\n",
              "    .dataframe tbody tr th {\n",
              "        vertical-align: top;\n",
              "    }\n",
              "\n",
              "    .dataframe thead th {\n",
              "        text-align: right;\n",
              "    }\n",
              "</style>\n",
              "<table border=\"1\" class=\"dataframe\">\n",
              "  <thead>\n",
              "    <tr style=\"text-align: right;\">\n",
              "      <th></th>\n",
              "      <th>no_cidade</th>\n",
              "      <th>nome_da_nidade</th>\n",
              "      <th>gid</th>\n",
              "      <th>valor</th>\n",
              "      <th>taxa</th>\n",
              "    </tr>\n",
              "  </thead>\n",
              "  <tbody>\n",
              "    <tr>\n",
              "      <th>0</th>\n",
              "      <td>Palminópolis</td>\n",
              "      <td>&lt;i&gt;Palminópolis&lt;/i&gt;</td>\n",
              "      <td>7616</td>\n",
              "      <td>&lt;b&gt;2&lt;/b&gt;</td>\n",
              "      <td>2</td>\n",
              "    </tr>\n",
              "    <tr>\n",
              "      <th>1</th>\n",
              "      <td>Ituberá</td>\n",
              "      <td>&lt;i&gt;Ituberá&lt;/i&gt;</td>\n",
              "      <td>7965</td>\n",
              "      <td>&lt;b&gt;13&lt;/b&gt;</td>\n",
              "      <td>13</td>\n",
              "    </tr>\n",
              "    <tr>\n",
              "      <th>2</th>\n",
              "      <td>Piau</td>\n",
              "      <td>&lt;i&gt;Piau&lt;/i&gt;</td>\n",
              "      <td>10796</td>\n",
              "      <td>&lt;b&gt;2&lt;/b&gt;</td>\n",
              "      <td>2</td>\n",
              "    </tr>\n",
              "    <tr>\n",
              "      <th>3</th>\n",
              "      <td>João Neiva</td>\n",
              "      <td>&lt;i&gt;João Neiva&lt;/i&gt;</td>\n",
              "      <td>11105</td>\n",
              "      <td>&lt;b&gt;10&lt;/b&gt;</td>\n",
              "      <td>10</td>\n",
              "    </tr>\n",
              "    <tr>\n",
              "      <th>4</th>\n",
              "      <td>Pato Branco</td>\n",
              "      <td>&lt;i&gt;Pato Branco&lt;/i&gt;</td>\n",
              "      <td>5990</td>\n",
              "      <td>&lt;b&gt;15&lt;/b&gt;</td>\n",
              "      <td>15</td>\n",
              "    </tr>\n",
              "    <tr>\n",
              "      <th>5</th>\n",
              "      <td>Mesópolis</td>\n",
              "      <td>&lt;i&gt;Mesópolis&lt;/i&gt;</td>\n",
              "      <td>8604</td>\n",
              "      <td>&lt;b&gt;1&lt;/b&gt;</td>\n",
              "      <td>1</td>\n",
              "    </tr>\n",
              "    <tr>\n",
              "      <th>6</th>\n",
              "      <td>Vitor Meireles</td>\n",
              "      <td>&lt;i&gt;Vitor Meireles&lt;/i&gt;</td>\n",
              "      <td>6421</td>\n",
              "      <td>&lt;b&gt;2&lt;/b&gt;</td>\n",
              "      <td>2</td>\n",
              "    </tr>\n",
              "    <tr>\n",
              "      <th>7</th>\n",
              "      <td>Ivorá</td>\n",
              "      <td>&lt;i&gt;Ivorá&lt;/i&gt;</td>\n",
              "      <td>9488</td>\n",
              "      <td>&lt;b&gt;1&lt;/b&gt;</td>\n",
              "      <td>1</td>\n",
              "    </tr>\n",
              "    <tr>\n",
              "      <th>8</th>\n",
              "      <td>Doutor Severiano</td>\n",
              "      <td>&lt;i&gt;Doutor Severiano&lt;/i&gt;</td>\n",
              "      <td>6462</td>\n",
              "      <td>&lt;b&gt;7&lt;/b&gt;</td>\n",
              "      <td>7</td>\n",
              "    </tr>\n",
              "    <tr>\n",
              "      <th>9</th>\n",
              "      <td>Nova Olinda do Norte</td>\n",
              "      <td>&lt;i&gt;Nova Olinda do Norte&lt;/i&gt;</td>\n",
              "      <td>10177</td>\n",
              "      <td>&lt;b&gt;10&lt;/b&gt;</td>\n",
              "      <td>10</td>\n",
              "    </tr>\n",
              "  </tbody>\n",
              "</table>\n",
              "</div>"
            ],
            "text/plain": [
              "              no_cidade               nome_da_nidade    gid      valor  taxa\n",
              "0          Palminópolis          <i>Palminópolis</i>   7616   <b>2</b>     2\n",
              "1               Ituberá               <i>Ituberá</i>   7965  <b>13</b>    13\n",
              "2                  Piau                  <i>Piau</i>  10796   <b>2</b>     2\n",
              "3            João Neiva            <i>João Neiva</i>  11105  <b>10</b>    10\n",
              "4           Pato Branco           <i>Pato Branco</i>   5990  <b>15</b>    15\n",
              "5             Mesópolis             <i>Mesópolis</i>   8604   <b>1</b>     1\n",
              "6        Vitor Meireles        <i>Vitor Meireles</i>   6421   <b>2</b>     2\n",
              "7                 Ivorá                 <i>Ivorá</i>   9488   <b>1</b>     1\n",
              "8      Doutor Severiano      <i>Doutor Severiano</i>   6462   <b>7</b>     7\n",
              "9  Nova Olinda do Norte  <i>Nova Olinda do Norte</i>  10177  <b>10</b>    10"
            ]
          },
          "metadata": {
            "tags": []
          },
          "execution_count": 10
        }
      ]
    },
    {
      "cell_type": "code",
      "metadata": {
        "id": "x6UmlOwIaL78",
        "colab_type": "code",
        "colab": {}
      },
      "source": [
        "df_goiania_exi = df_ubs_exi.query(\"no_cidade == 'Goiânia'\")"
      ],
      "execution_count": 0,
      "outputs": []
    },
    {
      "cell_type": "code",
      "metadata": {
        "id": "tIav6Co_aOUV",
        "colab_type": "code",
        "colab": {
          "base_uri": "https://localhost:8080/",
          "height": 80
        },
        "outputId": "e5e231af-b640-44bc-c033-a67b6e7d073f"
      },
      "source": [
        "df_goiania_exi.head(10)"
      ],
      "execution_count": 12,
      "outputs": [
        {
          "output_type": "execute_result",
          "data": {
            "text/html": [
              "<div>\n",
              "<style scoped>\n",
              "    .dataframe tbody tr th:only-of-type {\n",
              "        vertical-align: middle;\n",
              "    }\n",
              "\n",
              "    .dataframe tbody tr th {\n",
              "        vertical-align: top;\n",
              "    }\n",
              "\n",
              "    .dataframe thead th {\n",
              "        text-align: right;\n",
              "    }\n",
              "</style>\n",
              "<table border=\"1\" class=\"dataframe\">\n",
              "  <thead>\n",
              "    <tr style=\"text-align: right;\">\n",
              "      <th></th>\n",
              "      <th>no_cidade</th>\n",
              "      <th>nome_da_nidade</th>\n",
              "      <th>gid</th>\n",
              "      <th>valor</th>\n",
              "      <th>taxa</th>\n",
              "    </tr>\n",
              "  </thead>\n",
              "  <tbody>\n",
              "    <tr>\n",
              "      <th>4408</th>\n",
              "      <td>Goiânia</td>\n",
              "      <td>&lt;i&gt;Goiânia&lt;/i&gt;</td>\n",
              "      <td>7535</td>\n",
              "      <td>&lt;b&gt;85&lt;/b&gt;</td>\n",
              "      <td>85</td>\n",
              "    </tr>\n",
              "  </tbody>\n",
              "</table>\n",
              "</div>"
            ],
            "text/plain": [
              "     no_cidade  nome_da_nidade   gid      valor  taxa\n",
              "4408   Goiânia  <i>Goiânia</i>  7535  <b>85</b>    85"
            ]
          },
          "metadata": {
            "tags": []
          },
          "execution_count": 12
        }
      ]
    },
    {
      "cell_type": "code",
      "metadata": {
        "id": "0VS_q73yaTh8",
        "colab_type": "code",
        "colab": {}
      },
      "source": [
        "import matplotlib.pyplot as plt"
      ],
      "execution_count": 0,
      "outputs": []
    },
    {
      "cell_type": "code",
      "metadata": {
        "id": "7O8sDXRSaZTM",
        "colab_type": "code",
        "colab": {
          "base_uri": "https://localhost:8080/",
          "height": 204
        },
        "outputId": "da9ff58a-0a04-4955-a6f3-9b4d511cd961"
      },
      "source": [
        "pip install folium"
      ],
      "execution_count": 15,
      "outputs": [
        {
          "output_type": "stream",
          "text": [
            "Requirement already satisfied: folium in /usr/local/lib/python3.6/dist-packages (0.8.3)\n",
            "Requirement already satisfied: requests in /usr/local/lib/python3.6/dist-packages (from folium) (2.21.0)\n",
            "Requirement already satisfied: numpy in /usr/local/lib/python3.6/dist-packages (from folium) (1.17.5)\n",
            "Requirement already satisfied: branca>=0.3.0 in /usr/local/lib/python3.6/dist-packages (from folium) (0.3.1)\n",
            "Requirement already satisfied: jinja2 in /usr/local/lib/python3.6/dist-packages (from folium) (2.11.1)\n",
            "Requirement already satisfied: six in /usr/local/lib/python3.6/dist-packages (from folium) (1.12.0)\n",
            "Requirement already satisfied: certifi>=2017.4.17 in /usr/local/lib/python3.6/dist-packages (from requests->folium) (2019.11.28)\n",
            "Requirement already satisfied: idna<2.9,>=2.5 in /usr/local/lib/python3.6/dist-packages (from requests->folium) (2.8)\n",
            "Requirement already satisfied: chardet<3.1.0,>=3.0.2 in /usr/local/lib/python3.6/dist-packages (from requests->folium) (3.0.4)\n",
            "Requirement already satisfied: urllib3<1.25,>=1.21.1 in /usr/local/lib/python3.6/dist-packages (from requests->folium) (1.24.3)\n",
            "Requirement already satisfied: MarkupSafe>=0.23 in /usr/local/lib/python3.6/dist-packages (from jinja2->folium) (1.1.1)\n"
          ],
          "name": "stdout"
        }
      ]
    },
    {
      "cell_type": "code",
      "metadata": {
        "id": "y6n3dJkead-8",
        "colab_type": "code",
        "colab": {}
      },
      "source": [
        "import folium"
      ],
      "execution_count": 0,
      "outputs": []
    },
    {
      "cell_type": "code",
      "metadata": {
        "id": "kuGbejM4ag_0",
        "colab_type": "code",
        "colab": {}
      },
      "source": [
        "mapa = folium.Map(location=[-16.657248, -49.244306])"
      ],
      "execution_count": 0,
      "outputs": []
    },
    {
      "cell_type": "code",
      "metadata": {
        "id": "YO6CjANFaizD",
        "colab_type": "code",
        "colab": {
          "base_uri": "https://localhost:8080/",
          "height": 808
        },
        "outputId": "21a30426-bb13-448c-81e1-a73b2d51e288"
      },
      "source": [
        "mapa"
      ],
      "execution_count": 18,
      "outputs": [
        {
          "output_type": "execute_result",
          "data": {
            "text/html": [
              "<div style=\"width:100%;\"><div style=\"position:relative;width:100%;height:0;padding-bottom:60%;\"><iframe src=\"data:text/html;charset=utf-8;base64,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\" style=\"position:absolute;width:100%;height:100%;left:0;top:0;border:none !important;\" allowfullscreen webkitallowfullscreen mozallowfullscreen></iframe></div></div>"
            ],
            "text/plain": [
              "<folium.folium.Map at 0x7fbad1c6f048>"
            ]
          },
          "metadata": {
            "tags": []
          },
          "execution_count": 18
        }
      ]
    },
    {
      "cell_type": "code",
      "metadata": {
        "id": "T0jPi5URaklk",
        "colab_type": "code",
        "colab": {
          "base_uri": "https://localhost:8080/",
          "height": 808
        },
        "outputId": "edf27cad-8deb-4122-e751-84837c559e30"
      },
      "source": [
        "folium.Map(\n",
        "    location=[-16.657248, -49.244306],\n",
        "    tiles=\"Stamen Terrain\"\n",
        ")"
      ],
      "execution_count": 19,
      "outputs": [
        {
          "output_type": "execute_result",
          "data": {
            "text/html": [
              "<div style=\"width:100%;\"><div style=\"position:relative;width:100%;height:0;padding-bottom:60%;\"><iframe src=\"data:text/html;charset=utf-8;base64,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\" style=\"position:absolute;width:100%;height:100%;left:0;top:0;border:none !important;\" allowfullscreen webkitallowfullscreen mozallowfullscreen></iframe></div></div>"
            ],
            "text/plain": [
              "<folium.folium.Map at 0x7fbad1c90be0>"
            ]
          },
          "metadata": {
            "tags": []
          },
          "execution_count": 19
        }
      ]
    },
    {
      "cell_type": "code",
      "metadata": {
        "id": "3rW0oWseaoTT",
        "colab_type": "code",
        "colab": {
          "base_uri": "https://localhost:8080/",
          "height": 808
        },
        "outputId": "7a030de0-1930-4937-a848-954c121504b0"
      },
      "source": [
        "folium.Map(\n",
        "    location=[-16.657248, -49.244306],\n",
        "    tiles=\"Stamen Terrain\",\n",
        "    zoom_start=10\n",
        ")"
      ],
      "execution_count": 20,
      "outputs": [
        {
          "output_type": "execute_result",
          "data": {
            "text/html": [
              "<div style=\"width:100%;\"><div style=\"position:relative;width:100%;height:0;padding-bottom:60%;\"><iframe src=\"data:text/html;charset=utf-8;base64,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\" style=\"position:absolute;width:100%;height:100%;left:0;top:0;border:none !important;\" allowfullscreen webkitallowfullscreen mozallowfullscreen></iframe></div></div>"
            ],
            "text/plain": [
              "<folium.folium.Map at 0x7fbad1c908d0>"
            ]
          },
          "metadata": {
            "tags": []
          },
          "execution_count": 20
        }
      ]
    },
    {
      "cell_type": "code",
      "metadata": {
        "id": "BPi18K3xaqzD",
        "colab_type": "code",
        "colab": {}
      },
      "source": [
        "mapa = folium.Map(\n",
        "    location=[-16.657248, -49.244306],\n",
        "    tiles=\"Stamen Terrain\",\n",
        "    zoom_start=10\n",
        ")"
      ],
      "execution_count": 0,
      "outputs": []
    },
    {
      "cell_type": "code",
      "metadata": {
        "id": "FXKmuxaUatHs",
        "colab_type": "code",
        "colab": {
          "base_uri": "https://localhost:8080/",
          "height": 34
        },
        "outputId": "0446a742-c605-4620-905c-7b0851c70d25"
      },
      "source": [
        "folium.Marker(\n",
        "    [-16.657248, -49.244306],\n",
        "    popup=\"<i>CENTRO DE SAUDE MARINHO LEMOS</i>\",\n",
        "    tooltip=\"Clique aqui:\",\n",
        "    ).add_to(mapa)"
      ],
      "execution_count": 22,
      "outputs": [
        {
          "output_type": "execute_result",
          "data": {
            "text/plain": [
              "<folium.map.Marker at 0x7fbad1c88b38>"
            ]
          },
          "metadata": {
            "tags": []
          },
          "execution_count": 22
        }
      ]
    },
    {
      "cell_type": "code",
      "metadata": {
        "id": "yI1Wiymdavr8",
        "colab_type": "code",
        "colab": {
          "base_uri": "https://localhost:8080/",
          "height": 808
        },
        "outputId": "71e79e81-d19d-49b5-d61d-001440d0a6e2"
      },
      "source": [
        "mapa"
      ],
      "execution_count": 23,
      "outputs": [
        {
          "output_type": "execute_result",
          "data": {
            "text/html": [
              "<div style=\"width:100%;\"><div style=\"position:relative;width:100%;height:0;padding-bottom:60%;\"><iframe src=\"data:text/html;charset=utf-8;base64,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\" style=\"position:absolute;width:100%;height:100%;left:0;top:0;border:none !important;\" allowfullscreen webkitallowfullscreen mozallowfullscreen></iframe></div></div>"
            ],
            "text/plain": [
              "<folium.folium.Map at 0x7fbad1c88be0>"
            ]
          },
          "metadata": {
            "tags": []
          },
          "execution_count": 23
        }
      ]
    },
    {
      "cell_type": "code",
      "metadata": {
        "id": "s1jHwJaiazKs",
        "colab_type": "code",
        "colab": {
          "base_uri": "https://localhost:8080/",
          "height": 34
        },
        "outputId": "915c8132-d08d-429c-d31a-82ff3fc517dd"
      },
      "source": [
        "folium.Marker(\n",
        "    [-16.657248, -49.244306],\n",
        "    popup=\"<i>CENTRO DE SAUDE MARINHO LEMOS</i>\",\n",
        "    tooltip=\"Clique aqui:\",\n",
        "    icon=folium.Icon(color=\"green\")\n",
        "    ).add_to(mapa)"
      ],
      "execution_count": 24,
      "outputs": [
        {
          "output_type": "execute_result",
          "data": {
            "text/plain": [
              "<folium.map.Marker at 0x7fbad25fbf60>"
            ]
          },
          "metadata": {
            "tags": []
          },
          "execution_count": 24
        }
      ]
    },
    {
      "cell_type": "code",
      "metadata": {
        "id": "Ew-trwrYa129",
        "colab_type": "code",
        "colab": {
          "base_uri": "https://localhost:8080/",
          "height": 808
        },
        "outputId": "567f0f14-bf8e-4350-af88-99bb3d981ecf"
      },
      "source": [
        "mapa"
      ],
      "execution_count": 25,
      "outputs": [
        {
          "output_type": "execute_result",
          "data": {
            "text/html": [
              "<div style=\"width:100%;\"><div style=\"position:relative;width:100%;height:0;padding-bottom:60%;\"><iframe src=\"data:text/html;charset=utf-8;base64,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\" style=\"position:absolute;width:100%;height:100%;left:0;top:0;border:none !important;\" allowfullscreen webkitallowfullscreen mozallowfullscreen></iframe></div></div>"
            ],
            "text/plain": [
              "<folium.folium.Map at 0x7fbad1c88be0>"
            ]
          },
          "metadata": {
            "tags": []
          },
          "execution_count": 25
        }
      ]
    },
    {
      "cell_type": "code",
      "metadata": {
        "id": "esVRSFkya5M0",
        "colab_type": "code",
        "colab": {
          "base_uri": "https://localhost:8080/",
          "height": 34
        },
        "outputId": "300a8c49-b269-4f7e-be75-ca2553a6ca03"
      },
      "source": [
        "folium.CircleMarker(\n",
        "    [-16.657248, -49.244306],\n",
        "    radius=50,\n",
        "    color=\"#3186cc\",\n",
        "    fill=True,\n",
        "    fill_color=\"#3186cc\"\n",
        ").add_to(mapa)"
      ],
      "execution_count": 26,
      "outputs": [
        {
          "output_type": "execute_result",
          "data": {
            "text/plain": [
              "<folium.vector_layers.CircleMarker at 0x7fbad1c1c3c8>"
            ]
          },
          "metadata": {
            "tags": []
          },
          "execution_count": 26
        }
      ]
    },
    {
      "cell_type": "code",
      "metadata": {
        "id": "FcyJtvp0a7Lc",
        "colab_type": "code",
        "colab": {
          "base_uri": "https://localhost:8080/",
          "height": 808
        },
        "outputId": "93c32d6c-fb57-4269-eec9-56a33410032d"
      },
      "source": [
        "mapa"
      ],
      "execution_count": 27,
      "outputs": [
        {
          "output_type": "execute_result",
          "data": {
            "text/html": [
              "<div style=\"width:100%;\"><div style=\"position:relative;width:100%;height:0;padding-bottom:60%;\"><iframe src=\"data:text/html;charset=utf-8;base64,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\" style=\"position:absolute;width:100%;height:100%;left:0;top:0;border:none !important;\" allowfullscreen webkitallowfullscreen mozallowfullscreen></iframe></div></div>"
            ],
            "text/plain": [
              "<folium.folium.Map at 0x7fbad1c88be0>"
            ]
          },
          "metadata": {
            "tags": []
          },
          "execution_count": 27
        }
      ]
    },
    {
      "cell_type": "code",
      "metadata": {
        "id": "hidrY5T3a85D",
        "colab_type": "code",
        "colab": {
          "base_uri": "https://localhost:8080/",
          "height": 808
        },
        "outputId": "76ff6155-30b0-4d15-f8f9-2f8350dd97da"
      },
      "source": [
        "mapa.add_child(folium.LatLngPopup())"
      ],
      "execution_count": 28,
      "outputs": [
        {
          "output_type": "execute_result",
          "data": {
            "text/html": [
              "<div style=\"width:100%;\"><div style=\"position:relative;width:100%;height:0;padding-bottom:60%;\"><iframe src=\"data:text/html;charset=utf-8;base64,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\" style=\"position:absolute;width:100%;height:100%;left:0;top:0;border:none !important;\" allowfullscreen webkitallowfullscreen mozallowfullscreen></iframe></div></div>"
            ],
            "text/plain": [
              "<folium.folium.Map at 0x7fbad1c88be0>"
            ]
          },
          "metadata": {
            "tags": []
          },
          "execution_count": 28
        }
      ]
    },
    {
      "cell_type": "code",
      "metadata": {
        "id": "Tqh7p3xIa_iL",
        "colab_type": "code",
        "colab": {}
      },
      "source": [
        "from folium import plugins"
      ],
      "execution_count": 0,
      "outputs": []
    },
    {
      "cell_type": "code",
      "metadata": {
        "id": "kj-Mf4O2hjA1",
        "colab_type": "code",
        "colab": {}
      },
      "source": [
        "df_goiania = df_ubs_func.query(\"cidade == 'Goiânia'\")"
      ],
      "execution_count": 0,
      "outputs": []
    },
    {
      "cell_type": "code",
      "metadata": {
        "id": "WMmt9KRAbBeL",
        "colab_type": "code",
        "colab": {
          "base_uri": "https://localhost:8080/",
          "height": 210
        },
        "outputId": "dafb9364-9faa-430d-9d8c-8e5e6bb06207"
      },
      "source": [
        "df_goiania.head(3)"
      ],
      "execution_count": 32,
      "outputs": [
        {
          "output_type": "execute_result",
          "data": {
            "text/html": [
              "<div>\n",
              "<style scoped>\n",
              "    .dataframe tbody tr th:only-of-type {\n",
              "        vertical-align: middle;\n",
              "    }\n",
              "\n",
              "    .dataframe tbody tr th {\n",
              "        vertical-align: top;\n",
              "    }\n",
              "\n",
              "    .dataframe thead th {\n",
              "        text-align: right;\n",
              "    }\n",
              "</style>\n",
              "<table border=\"1\" class=\"dataframe\">\n",
              "  <thead>\n",
              "    <tr style=\"text-align: right;\">\n",
              "      <th></th>\n",
              "      <th>gid</th>\n",
              "      <th>co_cnes</th>\n",
              "      <th>lat</th>\n",
              "      <th>long</th>\n",
              "      <th>no_fantasia</th>\n",
              "      <th>no_logradouro</th>\n",
              "      <th>nu_endereco</th>\n",
              "      <th>no_bairro</th>\n",
              "      <th>nu_telefone</th>\n",
              "      <th>co_cep</th>\n",
              "      <th>uf</th>\n",
              "      <th>cidade</th>\n",
              "      <th>ano_ubs_det</th>\n",
              "      <th>mes_ubs_det</th>\n",
              "    </tr>\n",
              "  </thead>\n",
              "  <tbody>\n",
              "    <tr>\n",
              "      <th>364</th>\n",
              "      <td>2232</td>\n",
              "      <td>2338572</td>\n",
              "      <td>-16.657248</td>\n",
              "      <td>-49.244306</td>\n",
              "      <td>CENTRO DE SAUDE MARINHO LEMOS</td>\n",
              "      <td>AV ARMANDO DE GODOY</td>\n",
              "      <td>S/N</td>\n",
              "      <td>ST NEGRAO DE LIMA</td>\n",
              "      <td>62 - 35241815</td>\n",
              "      <td>74650010.0</td>\n",
              "      <td>GO</td>\n",
              "      <td>Goiânia</td>\n",
              "      <td>2016</td>\n",
              "      <td>5</td>\n",
              "    </tr>\n",
              "    <tr>\n",
              "      <th>1660</th>\n",
              "      <td>3938</td>\n",
              "      <td>2506777</td>\n",
              "      <td>-16.647055</td>\n",
              "      <td>-49.297693</td>\n",
              "      <td>CENTRO DE SAUDE BENEDITO DOS SANTOS VIEIRA</td>\n",
              "      <td>AV PERIM</td>\n",
              "      <td>S/N</td>\n",
              "      <td>SETOR PERIM</td>\n",
              "      <td>(62)5242416</td>\n",
              "      <td>74580260.0</td>\n",
              "      <td>GO</td>\n",
              "      <td>Goiânia</td>\n",
              "      <td>2016</td>\n",
              "      <td>5</td>\n",
              "    </tr>\n",
              "    <tr>\n",
              "      <th>1823</th>\n",
              "      <td>4034</td>\n",
              "      <td>2339358</td>\n",
              "      <td>-16.730558</td>\n",
              "      <td>-49.315481</td>\n",
              "      <td>CENTRO DE SAUDE VILA BOA</td>\n",
              "      <td>RUA ALMIRANTE BARROSO</td>\n",
              "      <td>S/N</td>\n",
              "      <td>JD VILA BOA</td>\n",
              "      <td>(62) 3524-8273</td>\n",
              "      <td>74360470.0</td>\n",
              "      <td>GO</td>\n",
              "      <td>Goiânia</td>\n",
              "      <td>2016</td>\n",
              "      <td>5</td>\n",
              "    </tr>\n",
              "  </tbody>\n",
              "</table>\n",
              "</div>"
            ],
            "text/plain": [
              "       gid  co_cnes        lat  ...   cidade ano_ubs_det mes_ubs_det\n",
              "364   2232  2338572 -16.657248  ...  Goiânia        2016           5\n",
              "1660  3938  2506777 -16.647055  ...  Goiânia        2016           5\n",
              "1823  4034  2339358 -16.730558  ...  Goiânia        2016           5\n",
              "\n",
              "[3 rows x 14 columns]"
            ]
          },
          "metadata": {
            "tags": []
          },
          "execution_count": 32
        }
      ]
    },
    {
      "cell_type": "code",
      "metadata": {
        "id": "E6-RCF54kqr0",
        "colab_type": "code",
        "colab": {
          "base_uri": "https://localhost:8080/",
          "height": 272
        },
        "outputId": "44535ab8-9cbb-4b52-da53-77b50418c7a4"
      },
      "source": [
        "df_goiania.isnull().sum()"
      ],
      "execution_count": 45,
      "outputs": [
        {
          "output_type": "execute_result",
          "data": {
            "text/plain": [
              "gid              0\n",
              "co_cnes          0\n",
              "lat              0\n",
              "long             0\n",
              "no_fantasia      0\n",
              "no_logradouro    0\n",
              "nu_endereco      0\n",
              "no_bairro        0\n",
              "nu_telefone      0\n",
              "co_cep           0\n",
              "uf               0\n",
              "cidade           0\n",
              "ano_ubs_det      0\n",
              "mes_ubs_det      0\n",
              "dtype: int64"
            ]
          },
          "metadata": {
            "tags": []
          },
          "execution_count": 45
        }
      ]
    },
    {
      "cell_type": "code",
      "metadata": {
        "id": "8WMDdMXIkp-0",
        "colab_type": "code",
        "colab": {
          "base_uri": "https://localhost:8080/",
          "height": 119
        },
        "outputId": "2d6487b6-1402-4eb3-e8d2-0a3b8fafb629"
      },
      "source": [
        "df_goiania[\"nu_telefone\"] = df_goiania[\"nu_telefone\"].fillna(0)"
      ],
      "execution_count": 44,
      "outputs": [
        {
          "output_type": "stream",
          "text": [
            "/usr/local/lib/python3.6/dist-packages/ipykernel_launcher.py:1: SettingWithCopyWarning: \n",
            "A value is trying to be set on a copy of a slice from a DataFrame.\n",
            "Try using .loc[row_indexer,col_indexer] = value instead\n",
            "\n",
            "See the caveats in the documentation: http://pandas.pydata.org/pandas-docs/stable/user_guide/indexing.html#returning-a-view-versus-a-copy\n",
            "  \"\"\"Entry point for launching an IPython kernel.\n"
          ],
          "name": "stderr"
        }
      ]
    },
    {
      "cell_type": "code",
      "metadata": {
        "id": "j0UBXjrFbDQb",
        "colab_type": "code",
        "colab": {}
      },
      "source": [
        "coordenadas = []\n",
        "for lat, long, fant in zip(df_goiania.lat, df_goiania.long, df_goiania.no_fantasia):\n",
        "    coordenadas.append([lat, long, fant])"
      ],
      "execution_count": 0,
      "outputs": []
    },
    {
      "cell_type": "code",
      "metadata": {
        "id": "IsUarx5Yhm8F",
        "colab_type": "code",
        "colab": {}
      },
      "source": [
        "mapa2 = folium.Map(location=[-15.788497, -47.879873], zoom_start=5, tiles=\"Stamen Terrain\")"
      ],
      "execution_count": 0,
      "outputs": []
    },
    {
      "cell_type": "code",
      "metadata": {
        "id": "0-flCnlNk3Fq",
        "colab_type": "code",
        "colab": {
          "base_uri": "https://localhost:8080/",
          "height": 808
        },
        "outputId": "d8ab32eb-7b7c-48bd-9078-da0eeb6ad64a"
      },
      "source": [
        "mapa2"
      ],
      "execution_count": 48,
      "outputs": [
        {
          "output_type": "execute_result",
          "data": {
            "text/html": [
              "<div style=\"width:100%;\"><div style=\"position:relative;width:100%;height:0;padding-bottom:60%;\"><iframe src=\"data:text/html;charset=utf-8;base64,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\" style=\"position:absolute;width:100%;height:100%;left:0;top:0;border:none !important;\" allowfullscreen webkitallowfullscreen mozallowfullscreen></iframe></div></div>"
            ],
            "text/plain": [
              "<folium.folium.Map at 0x7fbad1ba9048>"
            ]
          },
          "metadata": {
            "tags": []
          },
          "execution_count": 48
        }
      ]
    },
    {
      "cell_type": "code",
      "metadata": {
        "id": "IcejYKOyh9ve",
        "colab_type": "code",
        "colab": {}
      },
      "source": [
        "#mapa2.add_child(plugins.HeatMap(coordenadas))"
      ],
      "execution_count": 0,
      "outputs": []
    },
    {
      "cell_type": "code",
      "metadata": {
        "id": "VFbHA133iAmW",
        "colab_type": "code",
        "colab": {}
      },
      "source": [
        "mapa3 = folium.Map(location=[-15.788497, -47.879873], zoom_start=5, tiles=\"Stamen Terrain\")"
      ],
      "execution_count": 0,
      "outputs": []
    },
    {
      "cell_type": "code",
      "metadata": {
        "id": "dd9fBtnJii92",
        "colab_type": "code",
        "colab": {}
      },
      "source": [
        "#mapa3.add_child(plugins.HeatMap(coordenadas))"
      ],
      "execution_count": 0,
      "outputs": []
    },
    {
      "cell_type": "code",
      "metadata": {
        "id": "deac00sXingl",
        "colab_type": "code",
        "colab": {
          "base_uri": "https://localhost:8080/",
          "height": 808
        },
        "outputId": "119a54c9-8859-46e5-83a0-dd128f1faf43"
      },
      "source": [
        "mapa_goiania = folium.Map(\n",
        "    location=[-16.6424613,-49.4025598],\n",
        "    zoom_start=10\n",
        ")\n",
        "mapa_goiania"
      ],
      "execution_count": 53,
      "outputs": [
        {
          "output_type": "execute_result",
          "data": {
            "text/html": [
              "<div style=\"width:100%;\"><div style=\"position:relative;width:100%;height:0;padding-bottom:60%;\"><iframe src=\"data:text/html;charset=utf-8;base64,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\" style=\"position:absolute;width:100%;height:100%;left:0;top:0;border:none !important;\" allowfullscreen webkitallowfullscreen mozallowfullscreen></iframe></div></div>"
            ],
            "text/plain": [
              "<folium.folium.Map at 0x7fbad1bc74a8>"
            ]
          },
          "metadata": {
            "tags": []
          },
          "execution_count": 53
        }
      ]
    },
    {
      "cell_type": "code",
      "metadata": {
        "id": "iG3oHPv9lSAi",
        "colab_type": "code",
        "colab": {
          "base_uri": "https://localhost:8080/",
          "height": 357
        },
        "outputId": "92ceae66-3129-479a-91ba-d58ec77342ae"
      },
      "source": [
        "df_goiania.head()"
      ],
      "execution_count": 54,
      "outputs": [
        {
          "output_type": "execute_result",
          "data": {
            "text/html": [
              "<div>\n",
              "<style scoped>\n",
              "    .dataframe tbody tr th:only-of-type {\n",
              "        vertical-align: middle;\n",
              "    }\n",
              "\n",
              "    .dataframe tbody tr th {\n",
              "        vertical-align: top;\n",
              "    }\n",
              "\n",
              "    .dataframe thead th {\n",
              "        text-align: right;\n",
              "    }\n",
              "</style>\n",
              "<table border=\"1\" class=\"dataframe\">\n",
              "  <thead>\n",
              "    <tr style=\"text-align: right;\">\n",
              "      <th></th>\n",
              "      <th>gid</th>\n",
              "      <th>co_cnes</th>\n",
              "      <th>lat</th>\n",
              "      <th>long</th>\n",
              "      <th>no_fantasia</th>\n",
              "      <th>no_logradouro</th>\n",
              "      <th>nu_endereco</th>\n",
              "      <th>no_bairro</th>\n",
              "      <th>nu_telefone</th>\n",
              "      <th>co_cep</th>\n",
              "      <th>uf</th>\n",
              "      <th>cidade</th>\n",
              "      <th>ano_ubs_det</th>\n",
              "      <th>mes_ubs_det</th>\n",
              "    </tr>\n",
              "  </thead>\n",
              "  <tbody>\n",
              "    <tr>\n",
              "      <th>364</th>\n",
              "      <td>2232</td>\n",
              "      <td>2338572</td>\n",
              "      <td>-16.657248</td>\n",
              "      <td>-49.244306</td>\n",
              "      <td>CENTRO DE SAUDE MARINHO LEMOS</td>\n",
              "      <td>AV ARMANDO DE GODOY</td>\n",
              "      <td>S/N</td>\n",
              "      <td>ST NEGRAO DE LIMA</td>\n",
              "      <td>62 - 35241815</td>\n",
              "      <td>74650010.0</td>\n",
              "      <td>GO</td>\n",
              "      <td>Goiânia</td>\n",
              "      <td>2016</td>\n",
              "      <td>5</td>\n",
              "    </tr>\n",
              "    <tr>\n",
              "      <th>1660</th>\n",
              "      <td>3938</td>\n",
              "      <td>2506777</td>\n",
              "      <td>-16.647055</td>\n",
              "      <td>-49.297693</td>\n",
              "      <td>CENTRO DE SAUDE BENEDITO DOS SANTOS VIEIRA</td>\n",
              "      <td>AV PERIM</td>\n",
              "      <td>S/N</td>\n",
              "      <td>SETOR PERIM</td>\n",
              "      <td>(62)5242416</td>\n",
              "      <td>74580260.0</td>\n",
              "      <td>GO</td>\n",
              "      <td>Goiânia</td>\n",
              "      <td>2016</td>\n",
              "      <td>5</td>\n",
              "    </tr>\n",
              "    <tr>\n",
              "      <th>1823</th>\n",
              "      <td>4034</td>\n",
              "      <td>2339358</td>\n",
              "      <td>-16.730558</td>\n",
              "      <td>-49.315481</td>\n",
              "      <td>CENTRO DE SAUDE VILA BOA</td>\n",
              "      <td>RUA ALMIRANTE BARROSO</td>\n",
              "      <td>S/N</td>\n",
              "      <td>JD VILA BOA</td>\n",
              "      <td>(62) 3524-8273</td>\n",
              "      <td>74360470.0</td>\n",
              "      <td>GO</td>\n",
              "      <td>Goiânia</td>\n",
              "      <td>2016</td>\n",
              "      <td>5</td>\n",
              "    </tr>\n",
              "    <tr>\n",
              "      <th>2844</th>\n",
              "      <td>5882</td>\n",
              "      <td>2339390</td>\n",
              "      <td>-16.690239</td>\n",
              "      <td>-49.353719</td>\n",
              "      <td>CENTRO DE SAUDE PARQUE INDUSTRIAL JOAO BRAZ</td>\n",
              "      <td>RUA RODRIGUES ALVES C RUA OLIMPIA</td>\n",
              "      <td>S/N</td>\n",
              "      <td>PQ IND JOAO BRAZ</td>\n",
              "      <td>(62) 35736056 / 3674</td>\n",
              "      <td>74483510.0</td>\n",
              "      <td>GO</td>\n",
              "      <td>Goiânia</td>\n",
              "      <td>2016</td>\n",
              "      <td>5</td>\n",
              "    </tr>\n",
              "    <tr>\n",
              "      <th>3565</th>\n",
              "      <td>7088</td>\n",
              "      <td>3238458</td>\n",
              "      <td>-16.673310</td>\n",
              "      <td>-49.255814</td>\n",
              "      <td>USF PARQUE SANTA RITA</td>\n",
              "      <td>AVENIDA AMERICANO DO BRASIL</td>\n",
              "      <td>S/N</td>\n",
              "      <td>PARQUE SANTA RITA</td>\n",
              "      <td>(62) 3256-6233</td>\n",
              "      <td>74823030.0</td>\n",
              "      <td>GO</td>\n",
              "      <td>Goiânia</td>\n",
              "      <td>2016</td>\n",
              "      <td>5</td>\n",
              "    </tr>\n",
              "  </tbody>\n",
              "</table>\n",
              "</div>"
            ],
            "text/plain": [
              "       gid  co_cnes        lat  ...   cidade ano_ubs_det mes_ubs_det\n",
              "364   2232  2338572 -16.657248  ...  Goiânia        2016           5\n",
              "1660  3938  2506777 -16.647055  ...  Goiânia        2016           5\n",
              "1823  4034  2339358 -16.730558  ...  Goiânia        2016           5\n",
              "2844  5882  2339390 -16.690239  ...  Goiânia        2016           5\n",
              "3565  7088  3238458 -16.673310  ...  Goiânia        2016           5\n",
              "\n",
              "[5 rows x 14 columns]"
            ]
          },
          "metadata": {
            "tags": []
          },
          "execution_count": 54
        }
      ]
    },
    {
      "cell_type": "code",
      "metadata": {
        "id": "ZAhTezzflUZ6",
        "colab_type": "code",
        "colab": {
          "base_uri": "https://localhost:8080/",
          "height": 808
        },
        "outputId": "13f8995c-1245-4715-e5a7-fe3d3d4c5841"
      },
      "source": [
        "for _, position in df_goiania.iterrows():\n",
        "    folium.Marker(\n",
        "        location=[position[\"lat\"], position[\"long\"]],\n",
        "        popup=position[\"no_fantasia\"]\n",
        "    ).add_to(mapa_goiania)\n",
        "\n",
        "mapa_goiania"
      ],
      "execution_count": 55,
      "outputs": [
        {
          "output_type": "execute_result",
          "data": {
            "text/html": [
              "<div style=\"width:100%;\"><div style=\"position:relative;width:100%;height:0;padding-bottom:60%;\"><iframe src=\"data:text/html;charset=utf-8;base64,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\" style=\"position:absolute;width:100%;height:100%;left:0;top:0;border:none !important;\" allowfullscreen webkitallowfullscreen mozallowfullscreen></iframe></div></div>"
            ],
            "text/plain": [
              "<folium.folium.Map at 0x7fbad1bc74a8>"
            ]
          },
          "metadata": {
            "tags": []
          },
          "execution_count": 55
        }
      ]
    },
    {
      "cell_type": "code",
      "metadata": {
        "id": "1roNoYP_lWaS",
        "colab_type": "code",
        "colab": {
          "base_uri": "https://localhost:8080/",
          "height": 97
        },
        "outputId": "6abf5e5f-726a-46a5-8bd2-534f8a845279"
      },
      "source": [
        "df_goiania.query(\"no_fantasia == 'USF JARDIM CURITIBA I'\")"
      ],
      "execution_count": 56,
      "outputs": [
        {
          "output_type": "execute_result",
          "data": {
            "text/html": [
              "<div>\n",
              "<style scoped>\n",
              "    .dataframe tbody tr th:only-of-type {\n",
              "        vertical-align: middle;\n",
              "    }\n",
              "\n",
              "    .dataframe tbody tr th {\n",
              "        vertical-align: top;\n",
              "    }\n",
              "\n",
              "    .dataframe thead th {\n",
              "        text-align: right;\n",
              "    }\n",
              "</style>\n",
              "<table border=\"1\" class=\"dataframe\">\n",
              "  <thead>\n",
              "    <tr style=\"text-align: right;\">\n",
              "      <th></th>\n",
              "      <th>gid</th>\n",
              "      <th>co_cnes</th>\n",
              "      <th>lat</th>\n",
              "      <th>long</th>\n",
              "      <th>no_fantasia</th>\n",
              "      <th>no_logradouro</th>\n",
              "      <th>nu_endereco</th>\n",
              "      <th>no_bairro</th>\n",
              "      <th>nu_telefone</th>\n",
              "      <th>co_cep</th>\n",
              "      <th>uf</th>\n",
              "      <th>cidade</th>\n",
              "      <th>ano_ubs_det</th>\n",
              "      <th>mes_ubs_det</th>\n",
              "    </tr>\n",
              "  </thead>\n",
              "  <tbody>\n",
              "    <tr>\n",
              "      <th>34725</th>\n",
              "      <td>46123</td>\n",
              "      <td>6823904</td>\n",
              "      <td>-16.67331</td>\n",
              "      <td>-49.255814</td>\n",
              "      <td>USF JARDIM CURITIBA I</td>\n",
              "      <td>RUA JC ESQ C AV DO POVO</td>\n",
              "      <td>S/N</td>\n",
              "      <td>JARDIM CURITIBA II</td>\n",
              "      <td>062 - 35243441</td>\n",
              "      <td>74480440.0</td>\n",
              "      <td>GO</td>\n",
              "      <td>Goiânia</td>\n",
              "      <td>2016</td>\n",
              "      <td>5</td>\n",
              "    </tr>\n",
              "  </tbody>\n",
              "</table>\n",
              "</div>"
            ],
            "text/plain": [
              "         gid  co_cnes       lat  ...   cidade ano_ubs_det mes_ubs_det\n",
              "34725  46123  6823904 -16.67331  ...  Goiânia        2016           5\n",
              "\n",
              "[1 rows x 14 columns]"
            ]
          },
          "metadata": {
            "tags": []
          },
          "execution_count": 56
        }
      ]
    },
    {
      "cell_type": "code",
      "metadata": {
        "id": "fweAyfzSlc4a",
        "colab_type": "code",
        "colab": {}
      },
      "source": [
        ""
      ],
      "execution_count": 0,
      "outputs": []
    }
  ]
}