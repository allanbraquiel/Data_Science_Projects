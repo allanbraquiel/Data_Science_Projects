{
  "nbformat": 4,
  "nbformat_minor": 0,
  "metadata": {
    "colab": {
      "name": "Projeto Sigalei.ipynb",
      "provenance": [],
      "collapsed_sections": [],
      "mount_file_id": "1ReI8rkBgifxEBnVMkgB4t8afagQlv9QB",
      "authorship_tag": "ABX9TyO2NjAvjNRM69NopO+T5Qw0",
      "include_colab_link": true
    },
    "kernelspec": {
      "display_name": "Python 3",
      "name": "python3"
    },
    "accelerator": "GPU"
  },
  "cells": [
    {
      "cell_type": "markdown",
      "metadata": {
        "id": "view-in-github",
        "colab_type": "text"
      },
      "source": [
        "<a href=\"https://colab.research.google.com/github/allanbraquiel/Data_Science_Projects/blob/master/Projeto_Sigalei.ipynb\" target=\"_parent\"><img src=\"https://colab.research.google.com/assets/colab-badge.svg\" alt=\"Open In Colab\"/></a>"
      ]
    },
    {
      "cell_type": "markdown",
      "metadata": {
        "id": "LC012mT7bK7U"
      },
      "source": [
        "##Projeto de análise do censo so ensino superior de 2009 a 2019"
      ]
    },
    {
      "cell_type": "markdown",
      "metadata": {
        "id": "FUlNKMqLHwmI"
      },
      "source": [
        "# Dicionário dos dados"
      ]
    },
    {
      "cell_type": "markdown",
      "metadata": {
        "id": "6KRGEoNNcDeg"
      },
      "source": [
        "Dados coletados na base de dados no INEP. Para acessar os dados clique no link abaixo:\n",
        "\n",
        "https://www.gov.br/inep/pt-br/areas-de-atuacao/pesquisas-estatisticas-e-indicadores/censo-da-educacao-superior/resultados?_authenticator=73b6b0e03f10cadf5ec8ab8e09e6be4f931e571f\n",
        "\n",
        "\n",
        "\n",
        "*   NU_ANO_CENSO -  Ano de Referência do Censo Superior\n",
        "\n",
        "* TP_CATEGORIA_ADMINISTRATIVA - Tipo da Categoria Administrativa da IES\n",
        "\n",
        ">1. Pública Federal\n",
        ">2. Pública Estadual\n",
        ">3. Pública Municipal\n",
        ">4. Privada com fins lucrativos\n",
        ">5. Privada sem fins lucrativos\n",
        ">6. Privada - Particular em sentido estrito\n",
        ">7. Especial\n",
        ">8. Privada comunitária\n",
        ">9. Privada confessional\n",
        "\n",
        "*   CO_CURSO - Código único de identificação do curso gerado pelo E-MEC\n",
        "\n",
        "*   TP_TURNO - Tipo do turno do curso ao qual o aluno está vinculado\n",
        "\n",
        "> 1. Matutino\n",
        "> 2. Vespertino\n",
        "> 3. Noturno\n",
        "> 4. Integral\n",
        "\n",
        "> (.) Não aplicável (EAD)\n",
        "\n",
        "*   TP_GRAU_ACADEMICO - Tipo do grau acadêmico conferido ao diplomado pelo curso\n",
        "\n",
        "\n",
        "> 1. Bacharelado\n",
        "> 2. Licenciatura\n",
        "> 3. Tecnológico\n",
        "> 4. Bacharelado e Licenciatura\n",
        "\n",
        "> (.) Não aplicável (cursos com nivel acadêmico igual a sequencial de formação específica ou  cursos com área básica de curso)\n",
        "\n",
        "*   TP_MODALIDADE_ENSINO - Tipo da modalidade de ensino do curso\n",
        "\n",
        "\n",
        "> 1. Presencial\n",
        "> 2. Curso a distância\n",
        "\n",
        "\n",
        "*   TP_NIVEL_ACADEMICO - Tipo do nível acadêmico do curso\n",
        "\n",
        "\n",
        "> 1. Graduação\n",
        "\n",
        "> 2. Seqüencial de Formação Específica\n",
        "\n",
        "\n",
        "*   TP_COR_RACA - Tipo da cor/raça do aluno\n",
        "\n",
        "> 0. Aluno não quis declarar cor/raça\n",
        "> 1. Branca\n",
        "> 3. Preta\n",
        "> 3. Parda\n",
        "> 4. Amarela\n",
        "> 5. Indígena\n",
        "> 9. Não dispõe da informação (Não resposta)\n",
        "\n",
        "*   TP_SEXO - Informa o sexo do aluno\n",
        "\n",
        "> 0. Não Informado\n",
        "> 1. Feminino\n",
        "> 2. Masculino  \n",
        "\n",
        "*   NU_IDADE - Idade que o aluno completa no ano de referência do Censo\n",
        "\n",
        "*   TP_NACIONALIDADE - Tipo da nacionalidade do aluno\n",
        "\n",
        "> 1. Brasileira\n",
        "> 2. Brasileira - nascido no exterior ou naturalizado\n",
        "> 3. Estrangeira   \n",
        "\n",
        "*   CO_PAIS_ORIGEM - Código do país de nascimento ou de naturalização do aluno estrangeiro\n",
        "\n",
        "*   CO_UF_NASCIMENTO - Código do IBGE da Unidade da Federação de nascimento do aluno\n",
        "\n",
        "* CO_MUNICIPIO_NASCIMENTO - Código do IBGE do município de nascimento do aluno\n",
        "\n",
        "*   IN_DEFICIENCIA - nforma se o aluno é uma pessoa com deficiência auditiva\n",
        "\n",
        "> 0. Não\n",
        "> 1. Sim \n",
        "\n",
        "> (.) Aluno não possui qualquer tipo de deficiência\n",
        "\n",
        "*   TP_SITUACAO - Tipo de situação de vínculo do aluno no curso\n",
        "\n",
        "> 2. Cursando\n",
        "> 3. Matrícula trancada\n",
        "> 4. Desvinculado do curso\n",
        "> 5. Transferido para outro curso da mesma IES\n",
        "> 6. Formado\n",
        "> 7. Falecido   \n",
        "\n",
        "*   IN_INGRESSO_VESTIBULAR - Informa se o aluno ingressou no curso por vestibular. \n",
        "\n",
        "> 0. Não\n",
        "> 1. Sim\n",
        "\n",
        "*   IN_INGRESSO_ENEM - Informa se o aluno ingressou no curso pelo Enem. \n",
        "\n",
        "> 0. Não\n",
        "> 1. Sim\n",
        "\n",
        "*   IN_RESERVA_ETNICO - Informa se o aluno ingressou por meio de programa de reserva de vagas de cunho etnico\n",
        "\n",
        "> 0. Não (aluno possui outro tipo de reserva de vagas)\n",
        "> 1. Sim (aluno não possui qualquer tipo de reserva de vagas)\n",
        "\n",
        "*   N_RESERVA_ENSINO_PUBLICO -  Informa se o aluno ingressou por meio de programa de reserva de vagas para egressos da escola pública\n",
        "\n",
        "> 0. Não (aluno possui outro tipo de reserva de vagas)\n",
        "> 1. Sim (aluno não possui qualquer tipo de reserva de vagas)\n",
        "\n",
        "*   IN_RESERVA_RENDA_FAMILIAR - Informa se o aluno ingressou por meio de programa de reserva de vagas de cunho social/renda familiar\n",
        "\n",
        "> 0. Não (aluno possui outro tipo de reserva de vagas)\n",
        "> 1. Sim (aluno não possui qualquer tipo de reserva de vagas)\n",
        "\n",
        "*   IN_FINANCIAMENTO_ESTUDANTIL - Informa se o aluno utiliza financiamento estudantil\n",
        "\n",
        "> 0. Não\n",
        "> 1. Sim\n",
        "\n",
        "*   IN_FIN_REEMB_FIES - Informa se o aluno utiliza o Fundo de Financiamento Estudantil (Fies) como forma de financimanto estudantil reembolsável\n",
        "\n",
        "> 0. Não (Aluno possui outro tipo de financiamento)\n",
        "> 1. Sim (.) Aluno não possui qualquer tipo de financiamento\n",
        "\n",
        "*   IN_FIN_NAOREEMB_PROUNI_INTEGR - Informa se o aluno é bolsista integral do Programa Universidade para Todos (Prouni), tipo de financiamento estudantil não reembolsável\n",
        "\n",
        "> 0. Não (Aluno possui outro tipo de financiamento)\n",
        "> 1. Sim (.) Aluno não possui qualquer tipo de financiamento\n",
        "\n",
        "*   IN_FIN_NAOREEMB_PROUNI_PARCIAL - Informa se o aluno é bolsista parcial do Programa Universidade para Todos (Prouni), tipo de financiamento estudantil não reembolsável\n",
        "\n",
        "> 0. Não (Aluno possui outro tipo de financiamento)\n",
        "> 1. Sim (.) Aluno não possui qualquer tipo de financiamento\n",
        "\n",
        "*   IN_BOLSA_ESTAGIO - Informa se o aluno recebe bolsa/remuneraçãopor participar de atividade extracurricular de extensão. \n",
        "\n",
        "> 0. Não (Aluno faz atividade extracurricular de estágio, mas não recebe bolsa)\n",
        "> 1. Sim (.) Aluno não faz atividade extracurricular de estágio\n",
        "\n",
        "\n",
        "* NU_ANO_INGRESSO - Ano de ingresso do aluno curso\n",
        "\n",
        "\n",
        "\n",
        "\n",
        " \n",
        "  \n",
        " \n",
        "  \n",
        "  \n",
        "  \n",
        "  \n",
        " \n",
        " \n"
      ]
    },
    {
      "cell_type": "markdown",
      "metadata": {
        "id": "M8Xwk4HGH30_"
      },
      "source": [
        "# Carregando os dados"
      ]
    },
    {
      "cell_type": "code",
      "metadata": {
        "id": "MwQib0CpHfWC"
      },
      "source": [
        "import pandas as pd\n",
        "import numpy as np\n",
        "import zipfile\n",
        "import seaborn as sns\n",
        "import matplotlib.pyplot as plt\n",
        "%matplotlib inline\n",
        "\n",
        "import pylab\n",
        "pylab.rcParams['figure.figsize'] = (15.0, 10.0)"
      ],
      "execution_count": 1,
      "outputs": []
    },
    {
      "cell_type": "markdown",
      "metadata": {
        "id": "EudHHuS9XPWS"
      },
      "source": [
        "Listando os arquivos que estão dentro do arquivo compactado"
      ]
    },
    {
      "cell_type": "code",
      "metadata": {
        "colab": {
          "base_uri": "https://localhost:8080/"
        },
        "id": "YDcpCrIBIDgX",
        "outputId": "ff54dcd8-97a8-424d-9c8c-0a85078fe5da"
      },
      "source": [
        "with zipfile.ZipFile(\"/content/drive/MyDrive/Colab_Notebooks/Projeto Sigalei/microdados_educacao_superior_2019.zip\") as z:\n",
        "  print(*z.namelist(), sep=\"\\n\")"
      ],
      "execution_count": 2,
      "outputs": [
        {
          "output_type": "stream",
          "text": [
            "Microdados_Educaç╞o_Superior_2019/\n",
            "Microdados_Educaç╞o_Superior_2019/anexos/\n",
            "Microdados_Educaç╞o_Superior_2019/anexos/ANEXO I - Dicionário de Variáveis e Tabelas Auxiliares/\n",
            "Microdados_Educaç╞o_Superior_2019/anexos/ANEXO I - Dicionário de Variáveis e Tabelas Auxiliares/Código_do_País_de_Nascimento_ou_Naturalizaç╞o.xlsx\n",
            "Microdados_Educaç╞o_Superior_2019/anexos/ANEXO I - Dicionário de Variáveis e Tabelas Auxiliares/Dicionário de Variáveis.xls\n",
            "Microdados_Educaç╞o_Superior_2019/anexos/ANEXO II - Questionários do Censo da Educaç╞o Superior/\n",
            "Microdados_Educaç╞o_Superior_2019/anexos/ANEXO II - Questionários do Censo da Educaç╞o Superior/ANEXO II - MαDULO ALUNO 2019.pdf\n",
            "Microdados_Educaç╞o_Superior_2019/anexos/ANEXO II - Questionários do Censo da Educaç╞o Superior/ANEXO II - MαDULO CURSO 2019.pdf\n",
            "Microdados_Educaç╞o_Superior_2019/anexos/ANEXO II - Questionários do Censo da Educaç╞o Superior/ANEXO II - MαDULO DOCENTE 2019.pdf\n",
            "Microdados_Educaç╞o_Superior_2019/anexos/ANEXO II - Questionários do Censo da Educaç╞o Superior/ANEXO II - MαDULO IES 2019.pdf\n",
            "Microdados_Educaç╞o_Superior_2019/dados/\n",
            "Microdados_Educaç╞o_Superior_2019/dados/MD5_microdados_ed_superior_2019.txt\n",
            "Microdados_Educaç╞o_Superior_2019/dados/SUP_ALUNO_2019.CSV\n",
            "Microdados_Educaç╞o_Superior_2019/dados/SUP_CURSO_2019.CSV\n",
            "Microdados_Educaç╞o_Superior_2019/dados/SUP_DOCENTE_2019.CSV\n",
            "Microdados_Educaç╞o_Superior_2019/dados/SUP_IES_2019.CSV\n",
            "Microdados_Educaç╞o_Superior_2019/dados/SUP_LOCAL_OFERTA_2019.CSV\n",
            "Microdados_Educaç╞o_Superior_2019/dados/TB_AUX_CINE_BRASIL_2019.CSV\n",
            "Microdados_Educaç╞o_Superior_2019/filtros/\n",
            "Microdados_Educaç╞o_Superior_2019/filtros/Filtros Censo Ed Superior 2019.pdf\n",
            "Microdados_Educaç╞o_Superior_2019/leia-me/\n",
            "Microdados_Educaç╞o_Superior_2019/leia-me/Leia_me Superior_2019.pdf\n"
          ],
          "name": "stdout"
        }
      ]
    },
    {
      "cell_type": "markdown",
      "metadata": {
        "id": "U2QBHzGvXg1D"
      },
      "source": [
        "Carregando o dataset somente com as colunas para verificar quais colunas serão utilizadas na análise"
      ]
    },
    {
      "cell_type": "code",
      "metadata": {
        "id": "ZLC44x2aIzQ0"
      },
      "source": [
        "with zipfile.ZipFile(\"/content/drive/MyDrive/Colab_Notebooks/Projeto Sigalei/microdados_educacao_superior_2019.zip\") as z:\n",
        "  with z.open(\"Microdados_Educaç╞o_Superior_2019/dados/SUP_ALUNO_2019.CSV\") as f:\n",
        "    df = pd.read_csv(f, sep=\"|\", nrows=0)"
      ],
      "execution_count": 3,
      "outputs": []
    },
    {
      "cell_type": "code",
      "metadata": {
        "colab": {
          "base_uri": "https://localhost:8080/"
        },
        "id": "FFnLDS2BKXs7",
        "outputId": "82626ec2-2dcb-492d-a1bf-fb6a5cd151ac"
      },
      "source": [
        "df.columns.values"
      ],
      "execution_count": 4,
      "outputs": [
        {
          "output_type": "execute_result",
          "data": {
            "text/plain": [
              "array(['NU_ANO_CENSO', 'CO_IES', 'TP_CATEGORIA_ADMINISTRATIVA',\n",
              "       'TP_ORGANIZACAO_ACADEMICA', 'CO_CURSO', 'CO_CURSO_POLO',\n",
              "       'TP_TURNO', 'TP_GRAU_ACADEMICO', 'TP_MODALIDADE_ENSINO',\n",
              "       'TP_NIVEL_ACADEMICO', 'CO_CINE_ROTULO', 'ID_ALUNO',\n",
              "       'CO_ALUNO_CURSO', 'CO_ALUNO_CURSO_ORIGEM', 'TP_COR_RACA',\n",
              "       'TP_SEXO', 'NU_ANO_NASCIMENTO', 'NU_MES_NASCIMENTO',\n",
              "       'NU_DIA_NASCIMENTO', 'NU_IDADE', 'TP_NACIONALIDADE',\n",
              "       'CO_PAIS_ORIGEM', 'CO_UF_NASCIMENTO', 'CO_MUNICIPIO_NASCIMENTO',\n",
              "       'IN_DEFICIENCIA', 'IN_DEFICIENCIA_AUDITIVA',\n",
              "       'IN_DEFICIENCIA_FISICA', 'IN_DEFICIENCIA_INTELECTUAL',\n",
              "       'IN_DEFICIENCIA_MULTIPLA', 'IN_DEFICIENCIA_SURDEZ',\n",
              "       'IN_DEFICIENCIA_SURDOCEGUEIRA', 'IN_DEFICIENCIA_BAIXA_VISAO',\n",
              "       'IN_DEFICIENCIA_CEGUEIRA', 'IN_DEFICIENCIA_SUPERDOTACAO',\n",
              "       'IN_TGD_AUTISMO', 'IN_TGD_SINDROME_ASPERGER',\n",
              "       'IN_TGD_SINDROME_RETT', 'IN_TGD_TRANSTOR_DESINTEGRATIVO',\n",
              "       'TP_SITUACAO', 'QT_CARGA_HORARIA_TOTAL', 'QT_CARGA_HORARIA_INTEG',\n",
              "       'DT_INGRESSO_CURSO', 'IN_INGRESSO_VESTIBULAR', 'IN_INGRESSO_ENEM',\n",
              "       'IN_INGRESSO_AVALIACAO_SERIADA', 'IN_INGRESSO_SELECAO_SIMPLIFICA',\n",
              "       'IN_INGRESSO_OUTRO_TIPO_SELECAO', 'IN_INGRESSO_VAGA_REMANESC',\n",
              "       'IN_INGRESSO_VAGA_PROG_ESPECIAL', 'IN_INGRESSO_TRANSF_EXOFFICIO',\n",
              "       'IN_INGRESSO_DECISAO_JUDICIAL', 'IN_INGRESSO_CONVENIO_PECG',\n",
              "       'IN_INGRESSO_EGRESSO', 'IN_INGRESSO_OUTRA_FORMA',\n",
              "       'IN_RESERVA_VAGAS', 'IN_RESERVA_ETNICO', 'IN_RESERVA_DEFICIENCIA',\n",
              "       'IN_RESERVA_ENSINO_PUBLICO', 'IN_RESERVA_RENDA_FAMILIAR',\n",
              "       'IN_RESERVA_OUTRA', 'IN_FINANCIAMENTO_ESTUDANTIL',\n",
              "       'IN_FIN_REEMB_FIES', 'IN_FIN_REEMB_ESTADUAL',\n",
              "       'IN_FIN_REEMB_MUNICIPAL', 'IN_FIN_REEMB_PROG_IES',\n",
              "       'IN_FIN_REEMB_ENT_EXTERNA', 'IN_FIN_REEMB_OUTRA',\n",
              "       'IN_FIN_NAOREEMB_PROUNI_INTEGR', 'IN_FIN_NAOREEMB_PROUNI_PARCIAL',\n",
              "       'IN_FIN_NAOREEMB_ESTADUAL', 'IN_FIN_NAOREEMB_MUNICIPAL',\n",
              "       'IN_FIN_NAOREEMB_PROG_IES', 'IN_FIN_NAOREEMB_ENT_EXTERNA',\n",
              "       'IN_FIN_NAOREEMB_OUTRA', 'IN_APOIO_SOCIAL', 'IN_APOIO_ALIMENTACAO',\n",
              "       'IN_APOIO_BOLSA_PERMANENCIA', 'IN_APOIO_BOLSA_TRABALHO',\n",
              "       'IN_APOIO_MATERIAL_DIDATICO', 'IN_APOIO_MORADIA',\n",
              "       'IN_APOIO_TRANSPORTE', 'IN_ATIVIDADE_EXTRACURRICULAR',\n",
              "       'IN_COMPLEMENTAR_ESTAGIO', 'IN_COMPLEMENTAR_EXTENSAO',\n",
              "       'IN_COMPLEMENTAR_MONITORIA', 'IN_COMPLEMENTAR_PESQUISA',\n",
              "       'IN_BOLSA_ESTAGIO', 'IN_BOLSA_EXTENSAO', 'IN_BOLSA_MONITORIA',\n",
              "       'IN_BOLSA_PESQUISA', 'TP_ESCOLA_CONCLUSAO_ENS_MEDIO',\n",
              "       'IN_ALUNO_PARFOR', 'TP_SEMESTRE_CONCLUSAO',\n",
              "       'TP_SEMESTRE_REFERENCIA', 'IN_MOBILIDADE_ACADEMICA',\n",
              "       'TP_MOBILIDADE_ACADEMICA', 'TP_MOBILIDADE_ACADEMICA_INTERN',\n",
              "       'CO_IES_DESTINO', 'CO_PAIS_DESTINO', 'IN_MATRICULA',\n",
              "       'IN_CONCLUINTE', 'IN_INGRESSO_TOTAL', 'IN_INGRESSO_VAGA_NOVA',\n",
              "       'IN_INGRESSO_PROCESSO_SELETIVO', 'NU_ANO_INGRESSO'], dtype=object)"
            ]
          },
          "metadata": {
            "tags": []
          },
          "execution_count": 4
        }
      ]
    },
    {
      "cell_type": "markdown",
      "metadata": {
        "id": "Uo2aFt6sYg7u"
      },
      "source": [
        "Selecionando as colunas que serão analisadas"
      ]
    },
    {
      "cell_type": "code",
      "metadata": {
        "id": "3pjfBm4iLR69"
      },
      "source": [
        "colunas = ['NU_ANO_CENSO', 'TP_CATEGORIA_ADMINISTRATIVA', 'CO_CURSO', 'TP_TURNO', 'TP_GRAU_ACADEMICO', 'TP_MODALIDADE_ENSINO', 'TP_NIVEL_ACADEMICO', 'TP_COR_RACA', 'TP_SEXO', 'NU_IDADE', 'TP_NACIONALIDADE', \n",
        "           'CO_PAIS_ORIGEM', 'CO_UF_NASCIMENTO', 'TP_SITUACAO', 'IN_INGRESSO_VESTIBULAR', 'IN_INGRESSO_ENEM', 'IN_RESERVA_ETNICO', \n",
        "           'IN_RESERVA_ENSINO_PUBLICO', 'IN_RESERVA_RENDA_FAMILIAR', 'IN_FINANCIAMENTO_ESTUDANTIL', 'IN_FIN_REEMB_FIES', 'IN_FIN_NAOREEMB_PROUNI_INTEGR', \n",
        "           'IN_FIN_NAOREEMB_PROUNI_PARCIAL', 'IN_BOLSA_ESTAGIO', 'NU_ANO_INGRESSO']"
      ],
      "execution_count": 5,
      "outputs": []
    },
    {
      "cell_type": "markdown",
      "metadata": {
        "id": "FWj94RvMa_lY"
      },
      "source": [
        "Carregando os dados de 2019"
      ]
    },
    {
      "cell_type": "code",
      "metadata": {
        "id": "_jQyCA3JKuJJ"
      },
      "source": [
        "with zipfile.ZipFile(\"/content/drive/MyDrive/Colab_Notebooks/Projeto Sigalei/microdados_educacao_superior_2019.zip\") as z:\n",
        "  with z.open(\"Microdados_Educaç╞o_Superior_2019/dados/SUP_ALUNO_2019.CSV\") as f:\n",
        "    df_2019 = pd.read_csv(f, sep=\"|\", usecols=colunas, nrows=500)"
      ],
      "execution_count": 6,
      "outputs": []
    },
    {
      "cell_type": "code",
      "metadata": {
        "colab": {
          "base_uri": "https://localhost:8080/",
          "height": 217
        },
        "id": "XgS6c8Rxbhoc",
        "outputId": "e98f3d49-67f5-4921-a624-0a5d25d98ac4"
      },
      "source": [
        "df_2019.head()"
      ],
      "execution_count": 7,
      "outputs": [
        {
          "output_type": "execute_result",
          "data": {
            "text/html": [
              "<div>\n",
              "<style scoped>\n",
              "    .dataframe tbody tr th:only-of-type {\n",
              "        vertical-align: middle;\n",
              "    }\n",
              "\n",
              "    .dataframe tbody tr th {\n",
              "        vertical-align: top;\n",
              "    }\n",
              "\n",
              "    .dataframe thead th {\n",
              "        text-align: right;\n",
              "    }\n",
              "</style>\n",
              "<table border=\"1\" class=\"dataframe\">\n",
              "  <thead>\n",
              "    <tr style=\"text-align: right;\">\n",
              "      <th></th>\n",
              "      <th>NU_ANO_CENSO</th>\n",
              "      <th>TP_CATEGORIA_ADMINISTRATIVA</th>\n",
              "      <th>CO_CURSO</th>\n",
              "      <th>TP_TURNO</th>\n",
              "      <th>TP_GRAU_ACADEMICO</th>\n",
              "      <th>TP_MODALIDADE_ENSINO</th>\n",
              "      <th>TP_NIVEL_ACADEMICO</th>\n",
              "      <th>TP_COR_RACA</th>\n",
              "      <th>TP_SEXO</th>\n",
              "      <th>NU_IDADE</th>\n",
              "      <th>TP_NACIONALIDADE</th>\n",
              "      <th>CO_PAIS_ORIGEM</th>\n",
              "      <th>CO_UF_NASCIMENTO</th>\n",
              "      <th>TP_SITUACAO</th>\n",
              "      <th>IN_INGRESSO_VESTIBULAR</th>\n",
              "      <th>IN_INGRESSO_ENEM</th>\n",
              "      <th>IN_RESERVA_ETNICO</th>\n",
              "      <th>IN_RESERVA_ENSINO_PUBLICO</th>\n",
              "      <th>IN_RESERVA_RENDA_FAMILIAR</th>\n",
              "      <th>IN_FINANCIAMENTO_ESTUDANTIL</th>\n",
              "      <th>IN_FIN_REEMB_FIES</th>\n",
              "      <th>IN_FIN_NAOREEMB_PROUNI_INTEGR</th>\n",
              "      <th>IN_FIN_NAOREEMB_PROUNI_PARCIAL</th>\n",
              "      <th>IN_BOLSA_ESTAGIO</th>\n",
              "      <th>NU_ANO_INGRESSO</th>\n",
              "    </tr>\n",
              "  </thead>\n",
              "  <tbody>\n",
              "    <tr>\n",
              "      <th>0</th>\n",
              "      <td>2019</td>\n",
              "      <td>1</td>\n",
              "      <td>1</td>\n",
              "      <td>3</td>\n",
              "      <td>1</td>\n",
              "      <td>1</td>\n",
              "      <td>1</td>\n",
              "      <td>2</td>\n",
              "      <td>1</td>\n",
              "      <td>27</td>\n",
              "      <td>1</td>\n",
              "      <td>76</td>\n",
              "      <td>NaN</td>\n",
              "      <td>2</td>\n",
              "      <td>0</td>\n",
              "      <td>0</td>\n",
              "      <td>NaN</td>\n",
              "      <td>NaN</td>\n",
              "      <td>NaN</td>\n",
              "      <td>NaN</td>\n",
              "      <td>NaN</td>\n",
              "      <td>NaN</td>\n",
              "      <td>NaN</td>\n",
              "      <td>NaN</td>\n",
              "      <td>2017</td>\n",
              "    </tr>\n",
              "    <tr>\n",
              "      <th>1</th>\n",
              "      <td>2019</td>\n",
              "      <td>1</td>\n",
              "      <td>1</td>\n",
              "      <td>3</td>\n",
              "      <td>1</td>\n",
              "      <td>1</td>\n",
              "      <td>1</td>\n",
              "      <td>3</td>\n",
              "      <td>2</td>\n",
              "      <td>32</td>\n",
              "      <td>1</td>\n",
              "      <td>76</td>\n",
              "      <td>NaN</td>\n",
              "      <td>3</td>\n",
              "      <td>0</td>\n",
              "      <td>1</td>\n",
              "      <td>1.0</td>\n",
              "      <td>1.0</td>\n",
              "      <td>0.0</td>\n",
              "      <td>NaN</td>\n",
              "      <td>NaN</td>\n",
              "      <td>NaN</td>\n",
              "      <td>NaN</td>\n",
              "      <td>NaN</td>\n",
              "      <td>2016</td>\n",
              "    </tr>\n",
              "    <tr>\n",
              "      <th>2</th>\n",
              "      <td>2019</td>\n",
              "      <td>1</td>\n",
              "      <td>1</td>\n",
              "      <td>3</td>\n",
              "      <td>1</td>\n",
              "      <td>1</td>\n",
              "      <td>1</td>\n",
              "      <td>3</td>\n",
              "      <td>2</td>\n",
              "      <td>31</td>\n",
              "      <td>1</td>\n",
              "      <td>76</td>\n",
              "      <td>NaN</td>\n",
              "      <td>2</td>\n",
              "      <td>0</td>\n",
              "      <td>1</td>\n",
              "      <td>0.0</td>\n",
              "      <td>1.0</td>\n",
              "      <td>0.0</td>\n",
              "      <td>NaN</td>\n",
              "      <td>NaN</td>\n",
              "      <td>NaN</td>\n",
              "      <td>NaN</td>\n",
              "      <td>NaN</td>\n",
              "      <td>2012</td>\n",
              "    </tr>\n",
              "    <tr>\n",
              "      <th>3</th>\n",
              "      <td>2019</td>\n",
              "      <td>1</td>\n",
              "      <td>1</td>\n",
              "      <td>3</td>\n",
              "      <td>1</td>\n",
              "      <td>1</td>\n",
              "      <td>1</td>\n",
              "      <td>2</td>\n",
              "      <td>1</td>\n",
              "      <td>31</td>\n",
              "      <td>1</td>\n",
              "      <td>76</td>\n",
              "      <td>NaN</td>\n",
              "      <td>4</td>\n",
              "      <td>0</td>\n",
              "      <td>1</td>\n",
              "      <td>1.0</td>\n",
              "      <td>1.0</td>\n",
              "      <td>0.0</td>\n",
              "      <td>NaN</td>\n",
              "      <td>NaN</td>\n",
              "      <td>NaN</td>\n",
              "      <td>NaN</td>\n",
              "      <td>NaN</td>\n",
              "      <td>2015</td>\n",
              "    </tr>\n",
              "    <tr>\n",
              "      <th>4</th>\n",
              "      <td>2019</td>\n",
              "      <td>1</td>\n",
              "      <td>1</td>\n",
              "      <td>3</td>\n",
              "      <td>1</td>\n",
              "      <td>1</td>\n",
              "      <td>1</td>\n",
              "      <td>3</td>\n",
              "      <td>2</td>\n",
              "      <td>42</td>\n",
              "      <td>1</td>\n",
              "      <td>76</td>\n",
              "      <td>NaN</td>\n",
              "      <td>6</td>\n",
              "      <td>0</td>\n",
              "      <td>1</td>\n",
              "      <td>1.0</td>\n",
              "      <td>1.0</td>\n",
              "      <td>0.0</td>\n",
              "      <td>NaN</td>\n",
              "      <td>NaN</td>\n",
              "      <td>NaN</td>\n",
              "      <td>NaN</td>\n",
              "      <td>NaN</td>\n",
              "      <td>2013</td>\n",
              "    </tr>\n",
              "  </tbody>\n",
              "</table>\n",
              "</div>"
            ],
            "text/plain": [
              "   NU_ANO_CENSO  TP_CATEGORIA_ADMINISTRATIVA  ...  IN_BOLSA_ESTAGIO  NU_ANO_INGRESSO\n",
              "0          2019                            1  ...               NaN             2017\n",
              "1          2019                            1  ...               NaN             2016\n",
              "2          2019                            1  ...               NaN             2012\n",
              "3          2019                            1  ...               NaN             2015\n",
              "4          2019                            1  ...               NaN             2013\n",
              "\n",
              "[5 rows x 25 columns]"
            ]
          },
          "metadata": {
            "tags": []
          },
          "execution_count": 7
        }
      ]
    },
    {
      "cell_type": "code",
      "metadata": {
        "colab": {
          "base_uri": "https://localhost:8080/"
        },
        "id": "iCAtIKbZZJlr",
        "outputId": "dfc57101-2d70-4895-cc85-28f0830ab1b0"
      },
      "source": [
        "with zipfile.ZipFile(\"/content/drive/MyDrive/Colab_Notebooks/Projeto Sigalei/microdados_educacao_superior_2018.zip\") as z:\n",
        "  print(*z.namelist(), sep=\"\\n\")"
      ],
      "execution_count": 8,
      "outputs": [
        {
          "output_type": "stream",
          "text": [
            "microdados_ed_superior_2018/\n",
            "microdados_ed_superior_2018/anexos/\n",
            "microdados_ed_superior_2018/anexos/ANEXO I - Dicionário de Variáveis e Tabelas Auxiliares/\n",
            "microdados_ed_superior_2018/anexos/ANEXO I - Dicionário de Variáveis e Tabelas Auxiliares/Código_do_País_de_Nascimento_ou_Naturalizaç╞o.xlsx\n",
            "microdados_ed_superior_2018/anexos/ANEXO I - Dicionário de Variáveis e Tabelas Auxiliares/Dicionário de Variáveis.xls\n",
            "microdados_ed_superior_2018/anexos/ANEXO II - Questionários do Censo da Educaç╞o Superior/\n",
            "microdados_ed_superior_2018/anexos/ANEXO II - Questionários do Censo da Educaç╞o Superior/ANEXO II - MαDULO ALUNO 2018.pdf\n",
            "microdados_ed_superior_2018/anexos/ANEXO II - Questionários do Censo da Educaç╞o Superior/ANEXO II - MαDULO CURSO 2018.pdf\n",
            "microdados_ed_superior_2018/anexos/ANEXO II - Questionários do Censo da Educaç╞o Superior/ANEXO II - MαDULO DOCENTE 2018.pdf\n",
            "microdados_ed_superior_2018/anexos/ANEXO II - Questionários do Censo da Educaç╞o Superior/ANEXO II - MαDULO IES 2018.pdf\n",
            "microdados_ed_superior_2018/dados/\n",
            "microdados_ed_superior_2018/dados/DM_ALUNO.CSV\n",
            "microdados_ed_superior_2018/dados/DM_CURSO.CSV\n",
            "microdados_ed_superior_2018/dados/DM_DOCENTE.CSV\n",
            "microdados_ed_superior_2018/dados/DM_IES.CSV\n",
            "microdados_ed_superior_2018/dados/DM_LOCAL_OFERTA.CSV\n",
            "microdados_ed_superior_2018/dados/MD5_microdados_ed_superior_2018.txt\n",
            "microdados_ed_superior_2018/dados/TB_AUX_CINE_BRASIL.CSV\n",
            "microdados_ed_superior_2018/filtros/\n",
            "microdados_ed_superior_2018/filtros/Filtros Censo Ed Superior 2018.pdf\n",
            "microdados_ed_superior_2018/leia-me/\n",
            "microdados_ed_superior_2018/leia-me/Leia_me Superior_2018.pdf\n",
            "microdados_ed_superior_2018/leia-me/Nota_informativa.pdf\n"
          ],
          "name": "stdout"
        }
      ]
    },
    {
      "cell_type": "markdown",
      "metadata": {
        "id": "VmNbFZ-Mb1iM"
      },
      "source": [
        "Carregando os dados de 2018"
      ]
    },
    {
      "cell_type": "code",
      "metadata": {
        "id": "z5cluIolbIeu"
      },
      "source": [
        "with zipfile.ZipFile(\"/content/drive/MyDrive/Colab_Notebooks/Projeto Sigalei/microdados_educacao_superior_2018.zip\") as z:\n",
        "  with z.open(\"microdados_ed_superior_2018/dados/DM_ALUNO.CSV\") as f:\n",
        "    df_2018 = pd.read_csv(f, sep=\"|\", usecols=colunas, nrows=500)"
      ],
      "execution_count": 9,
      "outputs": []
    },
    {
      "cell_type": "code",
      "metadata": {
        "colab": {
          "base_uri": "https://localhost:8080/",
          "height": 217
        },
        "id": "N-3nc4OvauEv",
        "outputId": "e4fba014-2dab-4c60-a64c-e7e145ec188a"
      },
      "source": [
        "df_2018.head()"
      ],
      "execution_count": 10,
      "outputs": [
        {
          "output_type": "execute_result",
          "data": {
            "text/html": [
              "<div>\n",
              "<style scoped>\n",
              "    .dataframe tbody tr th:only-of-type {\n",
              "        vertical-align: middle;\n",
              "    }\n",
              "\n",
              "    .dataframe tbody tr th {\n",
              "        vertical-align: top;\n",
              "    }\n",
              "\n",
              "    .dataframe thead th {\n",
              "        text-align: right;\n",
              "    }\n",
              "</style>\n",
              "<table border=\"1\" class=\"dataframe\">\n",
              "  <thead>\n",
              "    <tr style=\"text-align: right;\">\n",
              "      <th></th>\n",
              "      <th>NU_ANO_CENSO</th>\n",
              "      <th>TP_CATEGORIA_ADMINISTRATIVA</th>\n",
              "      <th>CO_CURSO</th>\n",
              "      <th>TP_TURNO</th>\n",
              "      <th>TP_GRAU_ACADEMICO</th>\n",
              "      <th>TP_MODALIDADE_ENSINO</th>\n",
              "      <th>TP_NIVEL_ACADEMICO</th>\n",
              "      <th>TP_COR_RACA</th>\n",
              "      <th>TP_SEXO</th>\n",
              "      <th>NU_IDADE</th>\n",
              "      <th>TP_NACIONALIDADE</th>\n",
              "      <th>CO_PAIS_ORIGEM</th>\n",
              "      <th>CO_UF_NASCIMENTO</th>\n",
              "      <th>TP_SITUACAO</th>\n",
              "      <th>IN_INGRESSO_VESTIBULAR</th>\n",
              "      <th>IN_INGRESSO_ENEM</th>\n",
              "      <th>IN_RESERVA_ETNICO</th>\n",
              "      <th>IN_RESERVA_ENSINO_PUBLICO</th>\n",
              "      <th>IN_RESERVA_RENDA_FAMILIAR</th>\n",
              "      <th>IN_FINANCIAMENTO_ESTUDANTIL</th>\n",
              "      <th>IN_FIN_REEMB_FIES</th>\n",
              "      <th>IN_FIN_NAOREEMB_PROUNI_INTEGR</th>\n",
              "      <th>IN_FIN_NAOREEMB_PROUNI_PARCIAL</th>\n",
              "      <th>IN_BOLSA_ESTAGIO</th>\n",
              "      <th>NU_ANO_INGRESSO</th>\n",
              "    </tr>\n",
              "  </thead>\n",
              "  <tbody>\n",
              "    <tr>\n",
              "      <th>0</th>\n",
              "      <td>2018</td>\n",
              "      <td>1</td>\n",
              "      <td>1</td>\n",
              "      <td>3</td>\n",
              "      <td>1</td>\n",
              "      <td>1</td>\n",
              "      <td>1</td>\n",
              "      <td>2</td>\n",
              "      <td>1</td>\n",
              "      <td>26</td>\n",
              "      <td>1</td>\n",
              "      <td>76</td>\n",
              "      <td>NaN</td>\n",
              "      <td>2</td>\n",
              "      <td>0</td>\n",
              "      <td>0</td>\n",
              "      <td>NaN</td>\n",
              "      <td>NaN</td>\n",
              "      <td>NaN</td>\n",
              "      <td>NaN</td>\n",
              "      <td>NaN</td>\n",
              "      <td>NaN</td>\n",
              "      <td>NaN</td>\n",
              "      <td>NaN</td>\n",
              "      <td>2017</td>\n",
              "    </tr>\n",
              "    <tr>\n",
              "      <th>1</th>\n",
              "      <td>2018</td>\n",
              "      <td>1</td>\n",
              "      <td>1</td>\n",
              "      <td>3</td>\n",
              "      <td>1</td>\n",
              "      <td>1</td>\n",
              "      <td>1</td>\n",
              "      <td>3</td>\n",
              "      <td>2</td>\n",
              "      <td>31</td>\n",
              "      <td>1</td>\n",
              "      <td>76</td>\n",
              "      <td>NaN</td>\n",
              "      <td>3</td>\n",
              "      <td>0</td>\n",
              "      <td>1</td>\n",
              "      <td>1.0</td>\n",
              "      <td>1.0</td>\n",
              "      <td>0.0</td>\n",
              "      <td>NaN</td>\n",
              "      <td>NaN</td>\n",
              "      <td>NaN</td>\n",
              "      <td>NaN</td>\n",
              "      <td>NaN</td>\n",
              "      <td>2016</td>\n",
              "    </tr>\n",
              "    <tr>\n",
              "      <th>2</th>\n",
              "      <td>2018</td>\n",
              "      <td>1</td>\n",
              "      <td>1</td>\n",
              "      <td>3</td>\n",
              "      <td>1</td>\n",
              "      <td>1</td>\n",
              "      <td>1</td>\n",
              "      <td>3</td>\n",
              "      <td>2</td>\n",
              "      <td>30</td>\n",
              "      <td>1</td>\n",
              "      <td>76</td>\n",
              "      <td>NaN</td>\n",
              "      <td>2</td>\n",
              "      <td>0</td>\n",
              "      <td>1</td>\n",
              "      <td>0.0</td>\n",
              "      <td>1.0</td>\n",
              "      <td>0.0</td>\n",
              "      <td>NaN</td>\n",
              "      <td>NaN</td>\n",
              "      <td>NaN</td>\n",
              "      <td>NaN</td>\n",
              "      <td>NaN</td>\n",
              "      <td>2012</td>\n",
              "    </tr>\n",
              "    <tr>\n",
              "      <th>3</th>\n",
              "      <td>2018</td>\n",
              "      <td>1</td>\n",
              "      <td>1</td>\n",
              "      <td>3</td>\n",
              "      <td>1</td>\n",
              "      <td>1</td>\n",
              "      <td>1</td>\n",
              "      <td>2</td>\n",
              "      <td>1</td>\n",
              "      <td>30</td>\n",
              "      <td>1</td>\n",
              "      <td>76</td>\n",
              "      <td>NaN</td>\n",
              "      <td>3</td>\n",
              "      <td>0</td>\n",
              "      <td>1</td>\n",
              "      <td>1.0</td>\n",
              "      <td>1.0</td>\n",
              "      <td>0.0</td>\n",
              "      <td>NaN</td>\n",
              "      <td>NaN</td>\n",
              "      <td>NaN</td>\n",
              "      <td>NaN</td>\n",
              "      <td>NaN</td>\n",
              "      <td>2015</td>\n",
              "    </tr>\n",
              "    <tr>\n",
              "      <th>4</th>\n",
              "      <td>2018</td>\n",
              "      <td>1</td>\n",
              "      <td>1</td>\n",
              "      <td>3</td>\n",
              "      <td>1</td>\n",
              "      <td>1</td>\n",
              "      <td>1</td>\n",
              "      <td>3</td>\n",
              "      <td>2</td>\n",
              "      <td>41</td>\n",
              "      <td>1</td>\n",
              "      <td>76</td>\n",
              "      <td>NaN</td>\n",
              "      <td>2</td>\n",
              "      <td>0</td>\n",
              "      <td>1</td>\n",
              "      <td>NaN</td>\n",
              "      <td>NaN</td>\n",
              "      <td>NaN</td>\n",
              "      <td>NaN</td>\n",
              "      <td>NaN</td>\n",
              "      <td>NaN</td>\n",
              "      <td>NaN</td>\n",
              "      <td>NaN</td>\n",
              "      <td>2013</td>\n",
              "    </tr>\n",
              "  </tbody>\n",
              "</table>\n",
              "</div>"
            ],
            "text/plain": [
              "   NU_ANO_CENSO  TP_CATEGORIA_ADMINISTRATIVA  ...  IN_BOLSA_ESTAGIO  NU_ANO_INGRESSO\n",
              "0          2018                            1  ...               NaN             2017\n",
              "1          2018                            1  ...               NaN             2016\n",
              "2          2018                            1  ...               NaN             2012\n",
              "3          2018                            1  ...               NaN             2015\n",
              "4          2018                            1  ...               NaN             2013\n",
              "\n",
              "[5 rows x 25 columns]"
            ]
          },
          "metadata": {
            "tags": []
          },
          "execution_count": 10
        }
      ]
    },
    {
      "cell_type": "markdown",
      "metadata": {
        "id": "mu-SsDPAb76B"
      },
      "source": [
        "Carregando os dados de 2017"
      ]
    },
    {
      "cell_type": "code",
      "metadata": {
        "colab": {
          "base_uri": "https://localhost:8080/"
        },
        "id": "16eRZaQ8b7nz",
        "outputId": "25fff381-ab65-418e-bcca-047eefcb24a9"
      },
      "source": [
        "with zipfile.ZipFile(\"/content/drive/MyDrive/Colab_Notebooks/Projeto Sigalei/microdados_educacao_superior_2017.zip\") as z:\n",
        "  print(*z.namelist(), sep=\"\\n\")"
      ],
      "execution_count": 11,
      "outputs": [
        {
          "output_type": "stream",
          "text": [
            "microdados_educacao_superior_2017/\n",
            "microdados_educacao_superior_2017/Microdados_Educacao_Superior_2017/\n",
            "microdados_educacao_superior_2017/Microdados_Educacao_Superior_2017/ANEXOS/\n",
            "microdados_educacao_superior_2017/Microdados_Educacao_Superior_2017/ANEXOS/ANEXO I - Dicionário de Dados e Tabelas Auxiliares/\n",
            "microdados_educacao_superior_2017/Microdados_Educacao_Superior_2017/ANEXOS/ANEXO I - Dicionário de Dados e Tabelas Auxiliares/Código_do_País_de_Nascimento_ou_Naturalizaç╞o.xlsx\n",
            "microdados_educacao_superior_2017/Microdados_Educacao_Superior_2017/ANEXOS/ANEXO I - Dicionário de Dados e Tabelas Auxiliares/Dicionário_de_Dados.xlsx\n",
            "microdados_educacao_superior_2017/Microdados_Educacao_Superior_2017/ANEXOS/ANEXO I - Dicionário de Dados e Tabelas Auxiliares/~$Cópia de DICIONARIO_DM_TODOS_ANOS_v2 (002).xlsx\n",
            "microdados_educacao_superior_2017/Microdados_Educacao_Superior_2017/ANEXOS/ANEXO II - Questionários do Censo da Educaç╞o Superior/\n",
            "microdados_educacao_superior_2017/Microdados_Educacao_Superior_2017/ANEXOS/ANEXO II - Questionários do Censo da Educaç╞o Superior/ANEXO II - MαDULO ALUNO 2017.pdf\n",
            "microdados_educacao_superior_2017/Microdados_Educacao_Superior_2017/ANEXOS/ANEXO II - Questionários do Censo da Educaç╞o Superior/ANEXO II - MαDULO CURSO 2017.pdf\n",
            "microdados_educacao_superior_2017/Microdados_Educacao_Superior_2017/ANEXOS/ANEXO II - Questionários do Censo da Educaç╞o Superior/ANEXO II - MαDULO DOCENTE 2017.pdf\n",
            "microdados_educacao_superior_2017/Microdados_Educacao_Superior_2017/ANEXOS/ANEXO II - Questionários do Censo da Educaç╞o Superior/ANEXO II - MαDULO IES 2017.pdf\n",
            "microdados_educacao_superior_2017/Microdados_Educacao_Superior_2017/DADOS/\n",
            "microdados_educacao_superior_2017/Microdados_Educacao_Superior_2017/DADOS/DM_ALUNO/\n",
            "microdados_educacao_superior_2017/Microdados_Educacao_Superior_2017/DADOS/DM_ALUNO.zip\n",
            "microdados_educacao_superior_2017/Microdados_Educacao_Superior_2017/DADOS/DM_ALUNO/DM_ALUNO.CSV\n",
            "microdados_educacao_superior_2017/Microdados_Educacao_Superior_2017/DADOS/DM_CURSO.zip\n",
            "microdados_educacao_superior_2017/Microdados_Educacao_Superior_2017/DADOS/DM_DOCENTE.zip\n",
            "microdados_educacao_superior_2017/Microdados_Educacao_Superior_2017/DADOS/DM_IES.zip\n",
            "microdados_educacao_superior_2017/Microdados_Educacao_Superior_2017/DADOS/DM_LOCAL_OFERTA.zip\n",
            "microdados_educacao_superior_2017/Microdados_Educacao_Superior_2017/DADOS/md5_microdados_ed_superior_2017.txt\n",
            "microdados_educacao_superior_2017/Microdados_Educacao_Superior_2017/DADOS/TB_AUX_AREA_OCDE.zip\n",
            "microdados_educacao_superior_2017/Microdados_Educacao_Superior_2017/FILTROS/\n",
            "microdados_educacao_superior_2017/Microdados_Educacao_Superior_2017/FILTROS/Filtros_Educacao_Superior_2017.pdf\n",
            "microdados_educacao_superior_2017/Microdados_Educacao_Superior_2017/FILTROS/~$ltros Censo Ed Superior 2017.doc\n",
            "microdados_educacao_superior_2017/Microdados_Educacao_Superior_2017/LEIA-ME/\n",
            "microdados_educacao_superior_2017/Microdados_Educacao_Superior_2017/LEIA-ME/Leia_me Superior_2017.pdf\n"
          ],
          "name": "stdout"
        }
      ]
    },
    {
      "cell_type": "code",
      "metadata": {
        "id": "j3IdGhGgb7cW"
      },
      "source": [
        "with zipfile.ZipFile(\"/content/drive/MyDrive/Colab_Notebooks/Projeto Sigalei/microdados_educacao_superior_2017.zip\") as z:\n",
        "   with z.open(\"microdados_educacao_superior_2017/Microdados_Educacao_Superior_2017/DADOS/DM_ALUNO/DM_ALUNO.CSV\") as f:\n",
        "    df_2017 = pd.read_csv(f, sep=\"|\",usecols=colunas, nrows=500)\n",
        "  "
      ],
      "execution_count": 12,
      "outputs": []
    },
    {
      "cell_type": "code",
      "metadata": {
        "colab": {
          "base_uri": "https://localhost:8080/",
          "height": 217
        },
        "id": "Ur5gc0Zrb7PT",
        "outputId": "68e18afc-8cec-4f5c-9187-33f63b49abd6"
      },
      "source": [
        "df_2017.head()"
      ],
      "execution_count": 13,
      "outputs": [
        {
          "output_type": "execute_result",
          "data": {
            "text/html": [
              "<div>\n",
              "<style scoped>\n",
              "    .dataframe tbody tr th:only-of-type {\n",
              "        vertical-align: middle;\n",
              "    }\n",
              "\n",
              "    .dataframe tbody tr th {\n",
              "        vertical-align: top;\n",
              "    }\n",
              "\n",
              "    .dataframe thead th {\n",
              "        text-align: right;\n",
              "    }\n",
              "</style>\n",
              "<table border=\"1\" class=\"dataframe\">\n",
              "  <thead>\n",
              "    <tr style=\"text-align: right;\">\n",
              "      <th></th>\n",
              "      <th>NU_ANO_CENSO</th>\n",
              "      <th>TP_CATEGORIA_ADMINISTRATIVA</th>\n",
              "      <th>CO_CURSO</th>\n",
              "      <th>TP_TURNO</th>\n",
              "      <th>TP_GRAU_ACADEMICO</th>\n",
              "      <th>TP_MODALIDADE_ENSINO</th>\n",
              "      <th>TP_NIVEL_ACADEMICO</th>\n",
              "      <th>TP_COR_RACA</th>\n",
              "      <th>TP_SEXO</th>\n",
              "      <th>NU_IDADE</th>\n",
              "      <th>TP_NACIONALIDADE</th>\n",
              "      <th>CO_PAIS_ORIGEM</th>\n",
              "      <th>CO_UF_NASCIMENTO</th>\n",
              "      <th>TP_SITUACAO</th>\n",
              "      <th>IN_INGRESSO_VESTIBULAR</th>\n",
              "      <th>IN_INGRESSO_ENEM</th>\n",
              "      <th>IN_RESERVA_ETNICO</th>\n",
              "      <th>IN_RESERVA_ENSINO_PUBLICO</th>\n",
              "      <th>IN_RESERVA_RENDA_FAMILIAR</th>\n",
              "      <th>IN_FINANCIAMENTO_ESTUDANTIL</th>\n",
              "      <th>IN_FIN_REEMB_FIES</th>\n",
              "      <th>IN_FIN_NAOREEMB_PROUNI_INTEGR</th>\n",
              "      <th>IN_FIN_NAOREEMB_PROUNI_PARCIAL</th>\n",
              "      <th>IN_BOLSA_ESTAGIO</th>\n",
              "      <th>NU_ANO_INGRESSO</th>\n",
              "    </tr>\n",
              "  </thead>\n",
              "  <tbody>\n",
              "    <tr>\n",
              "      <th>0</th>\n",
              "      <td>2017</td>\n",
              "      <td>1</td>\n",
              "      <td>1</td>\n",
              "      <td>3</td>\n",
              "      <td>1</td>\n",
              "      <td>1</td>\n",
              "      <td>1</td>\n",
              "      <td>3</td>\n",
              "      <td>1</td>\n",
              "      <td>25</td>\n",
              "      <td>1</td>\n",
              "      <td>76</td>\n",
              "      <td>NaN</td>\n",
              "      <td>2</td>\n",
              "      <td>0</td>\n",
              "      <td>0</td>\n",
              "      <td>NaN</td>\n",
              "      <td>NaN</td>\n",
              "      <td>NaN</td>\n",
              "      <td>NaN</td>\n",
              "      <td>NaN</td>\n",
              "      <td>NaN</td>\n",
              "      <td>NaN</td>\n",
              "      <td>NaN</td>\n",
              "      <td>2017</td>\n",
              "    </tr>\n",
              "    <tr>\n",
              "      <th>1</th>\n",
              "      <td>2017</td>\n",
              "      <td>1</td>\n",
              "      <td>1</td>\n",
              "      <td>3</td>\n",
              "      <td>1</td>\n",
              "      <td>1</td>\n",
              "      <td>1</td>\n",
              "      <td>3</td>\n",
              "      <td>2</td>\n",
              "      <td>30</td>\n",
              "      <td>1</td>\n",
              "      <td>76</td>\n",
              "      <td>NaN</td>\n",
              "      <td>3</td>\n",
              "      <td>0</td>\n",
              "      <td>1</td>\n",
              "      <td>1.0</td>\n",
              "      <td>1.0</td>\n",
              "      <td>0.0</td>\n",
              "      <td>NaN</td>\n",
              "      <td>NaN</td>\n",
              "      <td>NaN</td>\n",
              "      <td>NaN</td>\n",
              "      <td>NaN</td>\n",
              "      <td>2016</td>\n",
              "    </tr>\n",
              "    <tr>\n",
              "      <th>2</th>\n",
              "      <td>2017</td>\n",
              "      <td>1</td>\n",
              "      <td>1</td>\n",
              "      <td>3</td>\n",
              "      <td>1</td>\n",
              "      <td>1</td>\n",
              "      <td>1</td>\n",
              "      <td>3</td>\n",
              "      <td>2</td>\n",
              "      <td>29</td>\n",
              "      <td>1</td>\n",
              "      <td>76</td>\n",
              "      <td>NaN</td>\n",
              "      <td>2</td>\n",
              "      <td>0</td>\n",
              "      <td>1</td>\n",
              "      <td>0.0</td>\n",
              "      <td>1.0</td>\n",
              "      <td>0.0</td>\n",
              "      <td>NaN</td>\n",
              "      <td>NaN</td>\n",
              "      <td>NaN</td>\n",
              "      <td>NaN</td>\n",
              "      <td>NaN</td>\n",
              "      <td>2012</td>\n",
              "    </tr>\n",
              "    <tr>\n",
              "      <th>3</th>\n",
              "      <td>2017</td>\n",
              "      <td>1</td>\n",
              "      <td>1</td>\n",
              "      <td>3</td>\n",
              "      <td>1</td>\n",
              "      <td>1</td>\n",
              "      <td>1</td>\n",
              "      <td>2</td>\n",
              "      <td>1</td>\n",
              "      <td>29</td>\n",
              "      <td>1</td>\n",
              "      <td>76</td>\n",
              "      <td>NaN</td>\n",
              "      <td>3</td>\n",
              "      <td>0</td>\n",
              "      <td>1</td>\n",
              "      <td>1.0</td>\n",
              "      <td>1.0</td>\n",
              "      <td>0.0</td>\n",
              "      <td>NaN</td>\n",
              "      <td>NaN</td>\n",
              "      <td>NaN</td>\n",
              "      <td>NaN</td>\n",
              "      <td>NaN</td>\n",
              "      <td>2015</td>\n",
              "    </tr>\n",
              "    <tr>\n",
              "      <th>4</th>\n",
              "      <td>2017</td>\n",
              "      <td>1</td>\n",
              "      <td>1</td>\n",
              "      <td>3</td>\n",
              "      <td>1</td>\n",
              "      <td>1</td>\n",
              "      <td>1</td>\n",
              "      <td>3</td>\n",
              "      <td>2</td>\n",
              "      <td>40</td>\n",
              "      <td>1</td>\n",
              "      <td>76</td>\n",
              "      <td>NaN</td>\n",
              "      <td>2</td>\n",
              "      <td>0</td>\n",
              "      <td>1</td>\n",
              "      <td>1.0</td>\n",
              "      <td>1.0</td>\n",
              "      <td>0.0</td>\n",
              "      <td>NaN</td>\n",
              "      <td>NaN</td>\n",
              "      <td>NaN</td>\n",
              "      <td>NaN</td>\n",
              "      <td>NaN</td>\n",
              "      <td>2013</td>\n",
              "    </tr>\n",
              "  </tbody>\n",
              "</table>\n",
              "</div>"
            ],
            "text/plain": [
              "   NU_ANO_CENSO  TP_CATEGORIA_ADMINISTRATIVA  ...  IN_BOLSA_ESTAGIO  NU_ANO_INGRESSO\n",
              "0          2017                            1  ...               NaN             2017\n",
              "1          2017                            1  ...               NaN             2016\n",
              "2          2017                            1  ...               NaN             2012\n",
              "3          2017                            1  ...               NaN             2015\n",
              "4          2017                            1  ...               NaN             2013\n",
              "\n",
              "[5 rows x 25 columns]"
            ]
          },
          "metadata": {
            "tags": []
          },
          "execution_count": 13
        }
      ]
    },
    {
      "cell_type": "code",
      "metadata": {
        "colab": {
          "base_uri": "https://localhost:8080/"
        },
        "id": "PMaLuG5Ab7DE",
        "outputId": "4012868b-be53-41a8-c609-987d5b8eb159"
      },
      "source": [
        "with zipfile.ZipFile(\"/content/drive/MyDrive/Colab_Notebooks/Projeto Sigalei/microdados_censo_superior_2016.zip\") as z:\n",
        "  print(*z.namelist(), sep=\"\\n\")"
      ],
      "execution_count": 14,
      "outputs": [
        {
          "output_type": "stream",
          "text": [
            "microdados_censo_superior_2016/\n",
            "microdados_censo_superior_2016/ANEXOS/\n",
            "microdados_censo_superior_2016/ANEXOS/ANEXO I - Dicionário de Dados e Tabelas Auxiliares/\n",
            "microdados_censo_superior_2016/ANEXOS/ANEXO I - Dicionário de Dados e Tabelas Auxiliares/Código do País de Nascimento ou Naturalizaç╞o.xlsx\n",
            "microdados_censo_superior_2016/ANEXOS/ANEXO I - Dicionário de Dados e Tabelas Auxiliares/Dicionários de Dados.xls\n",
            "microdados_censo_superior_2016/ANEXOS/ANEXO II -  Questionários do Censo da Educaç╞o Superior/\n",
            "microdados_censo_superior_2016/ANEXOS/ANEXO II -  Questionários do Censo da Educaç╞o Superior/ANEXO II - MαDULO ALUNO 2016.pdf\n",
            "microdados_censo_superior_2016/ANEXOS/ANEXO II -  Questionários do Censo da Educaç╞o Superior/ANEXO II - MαDULO CURSO 2016.pdf\n",
            "microdados_censo_superior_2016/ANEXOS/ANEXO II -  Questionários do Censo da Educaç╞o Superior/ANEXO II - MαDULO DOCENTE 2016.pdf\n",
            "microdados_censo_superior_2016/ANEXOS/ANEXO II -  Questionários do Censo da Educaç╞o Superior/ANEXO II - MαDULO IES 2016.pdf\n",
            "microdados_censo_superior_2016/DADOS/\n",
            "microdados_censo_superior_2016/DADOS/DM_ALUNO/\n",
            "microdados_censo_superior_2016/DADOS/DM_ALUNO.rar\n",
            "microdados_censo_superior_2016/DADOS/DM_ALUNO/DM_ALUNO.CSV\n",
            "microdados_censo_superior_2016/DADOS/DM_CURSO.rar\n",
            "microdados_censo_superior_2016/DADOS/DM_DOCENTE.rar\n",
            "microdados_censo_superior_2016/DADOS/DM_IES.rar\n",
            "microdados_censo_superior_2016/DADOS/DM_LOCAL_OFERTA.rar\n",
            "microdados_censo_superior_2016/DADOS/md5_microdados_ed_superior_2016.txt\n",
            "microdados_censo_superior_2016/FILTROS/\n",
            "microdados_censo_superior_2016/FILTROS/Filtros Censo Ed Superior 2016.pdf\n",
            "microdados_censo_superior_2016/LEIA-ME/\n",
            "microdados_censo_superior_2016/LEIA-ME/Leia_me Superior_2016.pdf\n"
          ],
          "name": "stdout"
        }
      ]
    },
    {
      "cell_type": "code",
      "metadata": {
        "id": "_BWLZq21zE2H"
      },
      "source": [
        "with zipfile.ZipFile(\"/content/drive/MyDrive/Colab_Notebooks/Projeto Sigalei/microdados_censo_superior_2016.zip\") as z:\n",
        "   with z.open(\"microdados_censo_superior_2016/DADOS/DM_ALUNO/DM_ALUNO.CSV\") as f:\n",
        "    df_2016 = pd.read_csv(f, sep=\"|\", nrows=0)"
      ],
      "execution_count": 15,
      "outputs": []
    },
    {
      "cell_type": "code",
      "metadata": {
        "colab": {
          "base_uri": "https://localhost:8080/"
        },
        "id": "DXjhZ_o1zEo6",
        "outputId": "e2d18f78-6508-4df9-80f8-ca24918d915e"
      },
      "source": [
        "df_2016.columns.values"
      ],
      "execution_count": 16,
      "outputs": [
        {
          "output_type": "execute_result",
          "data": {
            "text/plain": [
              "array(['CO_IES', 'NO_IES', 'CO_CATEGORIA_ADMINISTRATIVA',\n",
              "       'DS_CATEGORIA_ADMINISTRATIVA', 'CO_ORGANIZACAO_ACADEMICA',\n",
              "       'DS_ORGANIZACAO_ACADEMICA', 'CO_CURSO', 'NO_CURSO',\n",
              "       'CO_CURSO_POLO', 'CO_TURNO_ALUNO', 'DS_TURNO_ALUNO',\n",
              "       'CO_GRAU_ACADEMICO', 'DS_GRAU_ACADEMICO', 'CO_MODALIDADE_ENSINO',\n",
              "       'DS_MODALIDADE_ENSINO', 'CO_NIVEL_ACADEMICO', 'DS_NIVEL_ACADEMICO',\n",
              "       'CO_OCDE', 'NO_OCDE', 'CO_OCDE_AREA_GERAL', 'NO_OCDE_AREA_GERAL',\n",
              "       'CO_OCDE_AREA_ESPECIFICA', 'NO_OCDE_AREA_ESPECIFICA',\n",
              "       'CO_OCDE_AREA_DETALHADA', 'NO_OCDE_AREA_DETALHADA',\n",
              "       'CO_ALUNO_CURSO', 'CO_ALUNO_CURSO_ORIGEM', 'CO_ALUNO',\n",
              "       'CO_COR_RACA_ALUNO', 'DS_COR_RACA_ALUNO', 'IN_SEXO_ALUNO',\n",
              "       'DS_SEXO_ALUNO', 'NU_ANO_ALUNO_NASC', 'NU_MES_ALUNO_NASC',\n",
              "       'NU_DIA_ALUNO_NASC', 'NU_IDADE_ALUNO', 'CO_NACIONALIDADE_ALUNO',\n",
              "       'DS_NACIONALIDADE_ALUNO', 'CO_PAIS_ORIGEM_ALUNO',\n",
              "       'CO_UF_NASCIMENTO', 'CO_MUNICIPIO_NASCIMENTO',\n",
              "       'IN_ALUNO_DEF_TGD_SUPER', 'IN_DEF_AUDITIVA', 'IN_DEF_FISICA',\n",
              "       'IN_DEF_INTELECTUAL', 'IN_DEF_MULTIPLA', 'IN_DEF_SURDEZ',\n",
              "       'IN_DEF_SURDOCEGUEIRA', 'IN_DEF_BAIXA_VISAO', 'IN_DEF_CEGUEIRA',\n",
              "       'IN_DEF_SUPERDOTACAO', 'IN_TGD_AUTISMO_INFANTIL',\n",
              "       'IN_TGD_SINDROME_ASPERGER', 'IN_TGD_SINDROME_RETT',\n",
              "       'IN_TGD_TRANSTOR_DESINTEGRATIVO', 'CO_ALUNO_SITUACAO',\n",
              "       'DS_ALUNO_SITUACAO', 'QT_CARGA_HORARIA_TOTAL',\n",
              "       'QT_CARGA_HORARIA_INTEG', 'DT_INGRESSO_CURSO', 'IN_ING_VESTIBULAR',\n",
              "       'IN_ING_ENEM', 'IN_ING_AVALIACAO_SERIADA',\n",
              "       'IN_ING_SELECAO_SIMPLIFICADA', 'IN_ING_SELECAO_VAGA_REMANESC',\n",
              "       'IN_ING_SELECAO_VAGA_PROG_ESPEC', 'IN_ING_TRANSF_EXOFFICIO',\n",
              "       'IN_ING_DECISAO_JUDICIAL', 'IN_ING_CONVENIO_PECG',\n",
              "       'IN_RESERVA_VAGAS', 'IN_RESERVA_ETNICO', 'IN_RESERVA_DEFICIENCIA',\n",
              "       'IN_RESERVA_ENSINO_PUBLICO', 'IN_RESERVA_RENDA_FAMILIAR',\n",
              "       'IN_RESERVA_OUTRA', 'IN_FINANC_ESTUDANTIL', 'IN_FIN_REEMB_FIES',\n",
              "       'IN_FIN_REEMB_ESTADUAL', 'IN_FIN_REEMB_MUNICIPAL',\n",
              "       'IN_FIN_REEMB_PROG_IES', 'IN_FIN_REEMB_ENT_EXTERNA',\n",
              "       'IN_FIN_REEMB_OUTRA', 'IN_FIN_NAOREEMB_PROUNI_INTEGR',\n",
              "       'IN_FIN_NAOREEMB_PROUNI_PARCIAL', 'IN_FIN_NAOREEMB_ESTADUAL',\n",
              "       'IN_FIN_NAOREEMB_MUNICIPAL', 'IN_FIN_NAOREEMB_PROG_IES',\n",
              "       'IN_FIN_NAOREEMB_ENT_EXTERNA', 'IN_FIN_NAOREEMB_OUTRA',\n",
              "       'IN_APOIO_SOCIAL', 'IN_APOIO_ALIMENTACAO',\n",
              "       'IN_APOIO_BOLSA_PERMANENCIA', 'IN_APOIO_BOLSA_TRABALHO',\n",
              "       'IN_APOIO_MATERIAL_DIDATICO', 'IN_APOIO_MORADIA',\n",
              "       'IN_APOIO_TRANSPORTE', 'IN_ATIVIDADE_EXTRACURRICULAR',\n",
              "       'IN_COMPL_ESTAGIO', 'IN_COMPL_EXTENSAO', 'IN_COMPL_MONITORIA',\n",
              "       'IN_COMPL_PESQUISA', 'IN_BOLSA_ESTAGIO', 'IN_BOLSA_EXTENSAO',\n",
              "       'IN_BOLSA_MONITORIA', 'IN_BOLSA_PESQUISA',\n",
              "       'CO_TIPO_ESCOLA_ENS_MEDIO', 'IN_ALUNO_PARFOR',\n",
              "       'CO_SEMESTRE_CONCLUSAO', 'CO_SEMESTRE_REFERENCIA',\n",
              "       'IN_MOBILIDADE_ACADEMICA', 'CO_MOBILIDADE_ACADEMICA',\n",
              "       'CO_MOBILIDADE_ACADEMICA_INTERN', 'CO_IES_DESTINO',\n",
              "       'CO_PAIS_DESTINO', 'IN_MATRICULA', 'IN_CONCLUINTE',\n",
              "       'IN_INGRESSO_TOTAL', 'IN_INGRESSO_VAGA_NOVA', 'ANO_INGRESSO'],\n",
              "      dtype=object)"
            ]
          },
          "metadata": {
            "tags": []
          },
          "execution_count": 16
        }
      ]
    },
    {
      "cell_type": "code",
      "metadata": {
        "id": "bO-NdfdS0mco"
      },
      "source": [
        "colunas2 = ['CO_CURSO', 'CO_CATEGORIA_ADMINISTRATIVA', 'CO_TURNO_ALUNO', 'CO_GRAU_ACADEMICO', 'CO_MODALIDADE_ENSINO', \n",
        "            'CO_NIVEL_ACADEMICO', 'CO_COR_RACA_ALUNO', 'IN_SEXO_ALUNO', 'NU_IDADE_ALUNO', 'CO_NACIONALIDADE_ALUNO', \n",
        "           'CO_PAIS_ORIGEM_ALUNO', 'CO_UF_NASCIMENTO', 'CO_ALUNO_SITUACAO', 'IN_ING_VESTIBULAR', \n",
        "            'IN_ING_ENEM', 'IN_RESERVA_ETNICO', 'IN_RESERVA_ENSINO_PUBLICO', 'IN_RESERVA_RENDA_FAMILIAR', \n",
        "            'IN_FINANC_ESTUDANTIL', 'IN_FIN_REEMB_FIES', 'IN_FIN_NAOREEMB_PROUNI_INTEGR', \n",
        "           'IN_FIN_NAOREEMB_PROUNI_PARCIAL', 'IN_BOLSA_ESTAGIO', 'ANO_INGRESSO']"
      ],
      "execution_count": 17,
      "outputs": []
    },
    {
      "cell_type": "code",
      "metadata": {
        "id": "lx1sOIEQ0mI8"
      },
      "source": [
        "with zipfile.ZipFile(\"/content/drive/MyDrive/Colab_Notebooks/Projeto Sigalei/microdados_censo_superior_2016.zip\") as z:\n",
        "   with z.open(\"microdados_censo_superior_2016/DADOS/DM_ALUNO/DM_ALUNO.CSV\") as f:\n",
        "    df_2016 = pd.read_csv(f, sep=\"|\", usecols=colunas2, nrows=500)"
      ],
      "execution_count": 18,
      "outputs": []
    },
    {
      "cell_type": "code",
      "metadata": {
        "id": "gXChGBOQ02PH"
      },
      "source": [
        "df_2016[\"NU_ANO_CENSO\"] = 2016"
      ],
      "execution_count": 19,
      "outputs": []
    },
    {
      "cell_type": "code",
      "metadata": {
        "id": "zNDOOlnp02Cn"
      },
      "source": [
        "df_2016.rename(columns={\"CO_GRAU_ACADEMICO\": \"TP_GRAU_ACADEMICO\", \"CO_CATEGORIA_ADMINISTRATIVA\": \"TP_CATEGORIA_ADMINISTRATIVA\", \"NU_IDADE_ALUNO\": \"NU_IDADE\", \"CO_NIVEL_ACADEMICO\": \"TP_NIVEL_ACADEMICO\",\n",
        "                        \"CO_MODALIDADE_ENSINO\": \"TP_MODALIDADE_ENSINO\", \"CO_TURNO_ALUNO\": \"TP_TURNO\", \"CO_PAIS_ORIGEM_ALUNO\": \"CO_PAIS_ORIGEM\",\n",
        "                        \"CO_NACIONALIDADE_ALUNO\": \"TP_NACIONALIDADE\", \"IN_SEXO_ALUNO\": \"TP_SEXO\", \"IN_ING_VESTIBULAR\": \"IN_INGRESSO_VESTIBULAR\",\n",
        "                        \"CO_COR_RACA_ALUNO\": \"TP_COR_RACA\", \"CO_ALUNO_SITUACAO\": \"TP_SITUACAO\", \"IN_FINANC_ESTUDANTIL\": \"IN_FINANCIAMENTO_ESTUDANTIL\",\n",
        "                        \"ANO_INGRESSO\": \"NU_ANO_INGRESSO\", \"IN_ING_ENEM\": \"IN_INGRESSO_ENEM\"}, inplace=True)"
      ],
      "execution_count": 20,
      "outputs": []
    },
    {
      "cell_type": "code",
      "metadata": {
        "colab": {
          "base_uri": "https://localhost:8080/",
          "height": 217
        },
        "id": "_rEmFjA9011A",
        "outputId": "b9390fa4-2ebd-410e-ae21-a5a640dfe09b"
      },
      "source": [
        "df_2016.head()"
      ],
      "execution_count": 21,
      "outputs": [
        {
          "output_type": "execute_result",
          "data": {
            "text/html": [
              "<div>\n",
              "<style scoped>\n",
              "    .dataframe tbody tr th:only-of-type {\n",
              "        vertical-align: middle;\n",
              "    }\n",
              "\n",
              "    .dataframe tbody tr th {\n",
              "        vertical-align: top;\n",
              "    }\n",
              "\n",
              "    .dataframe thead th {\n",
              "        text-align: right;\n",
              "    }\n",
              "</style>\n",
              "<table border=\"1\" class=\"dataframe\">\n",
              "  <thead>\n",
              "    <tr style=\"text-align: right;\">\n",
              "      <th></th>\n",
              "      <th>TP_CATEGORIA_ADMINISTRATIVA</th>\n",
              "      <th>CO_CURSO</th>\n",
              "      <th>TP_TURNO</th>\n",
              "      <th>TP_GRAU_ACADEMICO</th>\n",
              "      <th>TP_MODALIDADE_ENSINO</th>\n",
              "      <th>TP_NIVEL_ACADEMICO</th>\n",
              "      <th>TP_COR_RACA</th>\n",
              "      <th>TP_SEXO</th>\n",
              "      <th>NU_IDADE</th>\n",
              "      <th>TP_NACIONALIDADE</th>\n",
              "      <th>CO_PAIS_ORIGEM</th>\n",
              "      <th>CO_UF_NASCIMENTO</th>\n",
              "      <th>TP_SITUACAO</th>\n",
              "      <th>IN_INGRESSO_VESTIBULAR</th>\n",
              "      <th>IN_INGRESSO_ENEM</th>\n",
              "      <th>IN_RESERVA_ETNICO</th>\n",
              "      <th>IN_RESERVA_ENSINO_PUBLICO</th>\n",
              "      <th>IN_RESERVA_RENDA_FAMILIAR</th>\n",
              "      <th>IN_FINANCIAMENTO_ESTUDANTIL</th>\n",
              "      <th>IN_FIN_REEMB_FIES</th>\n",
              "      <th>IN_FIN_NAOREEMB_PROUNI_INTEGR</th>\n",
              "      <th>IN_FIN_NAOREEMB_PROUNI_PARCIAL</th>\n",
              "      <th>IN_BOLSA_ESTAGIO</th>\n",
              "      <th>NU_ANO_INGRESSO</th>\n",
              "      <th>NU_ANO_CENSO</th>\n",
              "    </tr>\n",
              "  </thead>\n",
              "  <tbody>\n",
              "    <tr>\n",
              "      <th>0</th>\n",
              "      <td>1</td>\n",
              "      <td>1</td>\n",
              "      <td>3</td>\n",
              "      <td>1</td>\n",
              "      <td>1</td>\n",
              "      <td>1</td>\n",
              "      <td>3</td>\n",
              "      <td>0</td>\n",
              "      <td>29</td>\n",
              "      <td>1</td>\n",
              "      <td>76</td>\n",
              "      <td>NaN</td>\n",
              "      <td>2</td>\n",
              "      <td>0</td>\n",
              "      <td>1</td>\n",
              "      <td>1.0</td>\n",
              "      <td>1.0</td>\n",
              "      <td>0.0</td>\n",
              "      <td>NaN</td>\n",
              "      <td>NaN</td>\n",
              "      <td>NaN</td>\n",
              "      <td>NaN</td>\n",
              "      <td>NaN</td>\n",
              "      <td>2016</td>\n",
              "      <td>2016</td>\n",
              "    </tr>\n",
              "    <tr>\n",
              "      <th>1</th>\n",
              "      <td>1</td>\n",
              "      <td>1</td>\n",
              "      <td>3</td>\n",
              "      <td>1</td>\n",
              "      <td>1</td>\n",
              "      <td>1</td>\n",
              "      <td>3</td>\n",
              "      <td>0</td>\n",
              "      <td>28</td>\n",
              "      <td>1</td>\n",
              "      <td>76</td>\n",
              "      <td>NaN</td>\n",
              "      <td>2</td>\n",
              "      <td>0</td>\n",
              "      <td>1</td>\n",
              "      <td>0.0</td>\n",
              "      <td>1.0</td>\n",
              "      <td>0.0</td>\n",
              "      <td>NaN</td>\n",
              "      <td>NaN</td>\n",
              "      <td>NaN</td>\n",
              "      <td>NaN</td>\n",
              "      <td>NaN</td>\n",
              "      <td>2012</td>\n",
              "      <td>2016</td>\n",
              "    </tr>\n",
              "    <tr>\n",
              "      <th>2</th>\n",
              "      <td>1</td>\n",
              "      <td>1</td>\n",
              "      <td>3</td>\n",
              "      <td>1</td>\n",
              "      <td>1</td>\n",
              "      <td>1</td>\n",
              "      <td>2</td>\n",
              "      <td>1</td>\n",
              "      <td>28</td>\n",
              "      <td>1</td>\n",
              "      <td>76</td>\n",
              "      <td>NaN</td>\n",
              "      <td>3</td>\n",
              "      <td>0</td>\n",
              "      <td>1</td>\n",
              "      <td>1.0</td>\n",
              "      <td>1.0</td>\n",
              "      <td>0.0</td>\n",
              "      <td>NaN</td>\n",
              "      <td>NaN</td>\n",
              "      <td>NaN</td>\n",
              "      <td>NaN</td>\n",
              "      <td>NaN</td>\n",
              "      <td>2015</td>\n",
              "      <td>2016</td>\n",
              "    </tr>\n",
              "    <tr>\n",
              "      <th>3</th>\n",
              "      <td>1</td>\n",
              "      <td>1</td>\n",
              "      <td>3</td>\n",
              "      <td>1</td>\n",
              "      <td>1</td>\n",
              "      <td>1</td>\n",
              "      <td>3</td>\n",
              "      <td>0</td>\n",
              "      <td>39</td>\n",
              "      <td>1</td>\n",
              "      <td>76</td>\n",
              "      <td>NaN</td>\n",
              "      <td>3</td>\n",
              "      <td>0</td>\n",
              "      <td>1</td>\n",
              "      <td>NaN</td>\n",
              "      <td>NaN</td>\n",
              "      <td>NaN</td>\n",
              "      <td>NaN</td>\n",
              "      <td>NaN</td>\n",
              "      <td>NaN</td>\n",
              "      <td>NaN</td>\n",
              "      <td>NaN</td>\n",
              "      <td>2013</td>\n",
              "      <td>2016</td>\n",
              "    </tr>\n",
              "    <tr>\n",
              "      <th>4</th>\n",
              "      <td>1</td>\n",
              "      <td>1</td>\n",
              "      <td>1</td>\n",
              "      <td>1</td>\n",
              "      <td>1</td>\n",
              "      <td>1</td>\n",
              "      <td>3</td>\n",
              "      <td>0</td>\n",
              "      <td>33</td>\n",
              "      <td>1</td>\n",
              "      <td>76</td>\n",
              "      <td>NaN</td>\n",
              "      <td>4</td>\n",
              "      <td>0</td>\n",
              "      <td>1</td>\n",
              "      <td>NaN</td>\n",
              "      <td>NaN</td>\n",
              "      <td>NaN</td>\n",
              "      <td>NaN</td>\n",
              "      <td>NaN</td>\n",
              "      <td>NaN</td>\n",
              "      <td>NaN</td>\n",
              "      <td>NaN</td>\n",
              "      <td>2011</td>\n",
              "      <td>2016</td>\n",
              "    </tr>\n",
              "  </tbody>\n",
              "</table>\n",
              "</div>"
            ],
            "text/plain": [
              "   TP_CATEGORIA_ADMINISTRATIVA  CO_CURSO  ...  NU_ANO_INGRESSO  NU_ANO_CENSO\n",
              "0                            1         1  ...             2016          2016\n",
              "1                            1         1  ...             2012          2016\n",
              "2                            1         1  ...             2015          2016\n",
              "3                            1         1  ...             2013          2016\n",
              "4                            1         1  ...             2011          2016\n",
              "\n",
              "[5 rows x 25 columns]"
            ]
          },
          "metadata": {
            "tags": []
          },
          "execution_count": 21
        }
      ]
    },
    {
      "cell_type": "markdown",
      "metadata": {
        "id": "CuvfQBxMyCdK"
      },
      "source": [
        "Dados 2015"
      ]
    },
    {
      "cell_type": "code",
      "metadata": {
        "colab": {
          "base_uri": "https://localhost:8080/"
        },
        "id": "znk4qCFIx2BV",
        "outputId": "4c507b1b-462a-44cf-9fc1-1a71f4fb9046"
      },
      "source": [
        "with zipfile.ZipFile(\"/content/drive/MyDrive/Colab_Notebooks/Projeto Sigalei/microdados_censo_superior_2015.zip\") as z:\n",
        "  print(*z.namelist(), sep=\"\\n\")"
      ],
      "execution_count": 22,
      "outputs": [
        {
          "output_type": "stream",
          "text": [
            "microdados_censo_superior_2015/\n",
            "microdados_censo_superior_2015/microdados_censo_superior_2015/\n",
            "microdados_censo_superior_2015/microdados_censo_superior_2015/ANEXOS/\n",
            "microdados_censo_superior_2015/microdados_censo_superior_2015/ANEXOS/ANEXO I/\n",
            "microdados_censo_superior_2015/microdados_censo_superior_2015/ANEXOS/ANEXO II/\n",
            "microdados_censo_superior_2015/microdados_censo_superior_2015/ANEXOS/ANEXO II/ANEXO II - MαDULO ALUNO 2015.pdf\n",
            "microdados_censo_superior_2015/microdados_censo_superior_2015/ANEXOS/ANEXO II/ANEXO II - MαDULO CURSO 2015.pdf\n",
            "microdados_censo_superior_2015/microdados_censo_superior_2015/ANEXOS/ANEXO II/ANEXO II - MαDULO DOCENTE 2015.pdf\n",
            "microdados_censo_superior_2015/microdados_censo_superior_2015/ANEXOS/ANEXO II/ANEXO II - MαDULO IES 2015.pdf\n",
            "microdados_censo_superior_2015/microdados_censo_superior_2015/ANEXOS/ANEXO I/ANEXO I.xls\n",
            "microdados_censo_superior_2015/microdados_censo_superior_2015/ANEXOS/ANEXO I/Código do País de Nascimento ou Naturalizaç╞o.xls\n",
            "microdados_censo_superior_2015/microdados_censo_superior_2015/DADOS/\n",
            "microdados_censo_superior_2015/microdados_censo_superior_2015/DADOS/DM_ALUNO/\n",
            "microdados_censo_superior_2015/microdados_censo_superior_2015/DADOS/DM_ALUNO.rar\n",
            "microdados_censo_superior_2015/microdados_censo_superior_2015/DADOS/DM_ALUNO/DM_ALUNO.CSV\n",
            "microdados_censo_superior_2015/microdados_censo_superior_2015/DADOS/DM_CURSO.rar\n",
            "microdados_censo_superior_2015/microdados_censo_superior_2015/DADOS/DM_DOCENTE.rar\n",
            "microdados_censo_superior_2015/microdados_censo_superior_2015/DADOS/DM_IES.rar\n",
            "microdados_censo_superior_2015/microdados_censo_superior_2015/DADOS/DM_LOCAL_OFERTA.rar\n",
            "microdados_censo_superior_2015/microdados_censo_superior_2015/DADOS/md5_microdados_ed_sup_2015.txt\n",
            "microdados_censo_superior_2015/microdados_censo_superior_2015/FILTROS/\n",
            "microdados_censo_superior_2015/microdados_censo_superior_2015/FILTROS/Filtros Censo Ed Superior 2015.pdf\n",
            "microdados_censo_superior_2015/microdados_censo_superior_2015/LEIA-ME/\n",
            "microdados_censo_superior_2015/microdados_censo_superior_2015/LEIA-ME/Leia_me Superior_2015.pdf\n"
          ],
          "name": "stdout"
        }
      ]
    },
    {
      "cell_type": "code",
      "metadata": {
        "id": "E-XcZa-Vx12k"
      },
      "source": [
        "with zipfile.ZipFile(\"/content/drive/MyDrive/Colab_Notebooks/Projeto Sigalei/microdados_censo_superior_2015.zip\") as z:\n",
        "   with z.open(\"microdados_censo_superior_2015/microdados_censo_superior_2015/DADOS/DM_ALUNO/DM_ALUNO.CSV\") as f:\n",
        "    df_2015 = pd.read_csv(f, sep=\"|\",usecols=colunas2, nrows=500)"
      ],
      "execution_count": 23,
      "outputs": []
    },
    {
      "cell_type": "code",
      "metadata": {
        "id": "ZIfnHWa0x1sM"
      },
      "source": [
        "df_2015[\"NU_ANO_CENSO\"] = 2015"
      ],
      "execution_count": 24,
      "outputs": []
    },
    {
      "cell_type": "code",
      "metadata": {
        "id": "H0U09txix1it"
      },
      "source": [
        "df_2015.rename(columns={\"CO_GRAU_ACADEMICO\": \"TP_GRAU_ACADEMICO\", \"CO_CATEGORIA_ADMINISTRATIVA\": \"TP_CATEGORIA_ADMINISTRATIVA\", \"NU_IDADE_ALUNO\": \"NU_IDADE\", \"CO_NIVEL_ACADEMICO\": \"TP_NIVEL_ACADEMICO\",\n",
        "                        \"CO_MODALIDADE_ENSINO\": \"TP_MODALIDADE_ENSINO\", \"CO_TURNO_ALUNO\": \"TP_TURNO\", \"CO_PAIS_ORIGEM_ALUNO\": \"CO_PAIS_ORIGEM\",\n",
        "                        \"CO_NACIONALIDADE_ALUNO\": \"TP_NACIONALIDADE\", \"IN_SEXO_ALUNO\": \"TP_SEXO\", \"IN_ING_VESTIBULAR\": \"IN_INGRESSO_VESTIBULAR\",\n",
        "                        \"CO_COR_RACA_ALUNO\": \"TP_COR_RACA\", \"CO_ALUNO_SITUACAO\": \"TP_SITUACAO\", \"IN_FINANC_ESTUDANTIL\": \"IN_FINANCIAMENTO_ESTUDANTIL\",\n",
        "                        \"ANO_INGRESSO\": \"NU_ANO_INGRESSO\", \"IN_ING_ENEM\": \"IN_INGRESSO_ENEM\"}, inplace=True)"
      ],
      "execution_count": 25,
      "outputs": []
    },
    {
      "cell_type": "code",
      "metadata": {
        "colab": {
          "base_uri": "https://localhost:8080/",
          "height": 217
        },
        "id": "ybyz6cc6x1XC",
        "outputId": "a2a7820b-019f-4d67-e238-b715164e6df2"
      },
      "source": [
        "df_2015.head()"
      ],
      "execution_count": 26,
      "outputs": [
        {
          "output_type": "execute_result",
          "data": {
            "text/html": [
              "<div>\n",
              "<style scoped>\n",
              "    .dataframe tbody tr th:only-of-type {\n",
              "        vertical-align: middle;\n",
              "    }\n",
              "\n",
              "    .dataframe tbody tr th {\n",
              "        vertical-align: top;\n",
              "    }\n",
              "\n",
              "    .dataframe thead th {\n",
              "        text-align: right;\n",
              "    }\n",
              "</style>\n",
              "<table border=\"1\" class=\"dataframe\">\n",
              "  <thead>\n",
              "    <tr style=\"text-align: right;\">\n",
              "      <th></th>\n",
              "      <th>TP_CATEGORIA_ADMINISTRATIVA</th>\n",
              "      <th>CO_CURSO</th>\n",
              "      <th>TP_TURNO</th>\n",
              "      <th>TP_GRAU_ACADEMICO</th>\n",
              "      <th>TP_MODALIDADE_ENSINO</th>\n",
              "      <th>TP_NIVEL_ACADEMICO</th>\n",
              "      <th>TP_COR_RACA</th>\n",
              "      <th>TP_SEXO</th>\n",
              "      <th>NU_IDADE</th>\n",
              "      <th>TP_NACIONALIDADE</th>\n",
              "      <th>CO_PAIS_ORIGEM</th>\n",
              "      <th>CO_UF_NASCIMENTO</th>\n",
              "      <th>TP_SITUACAO</th>\n",
              "      <th>IN_INGRESSO_VESTIBULAR</th>\n",
              "      <th>IN_INGRESSO_ENEM</th>\n",
              "      <th>IN_RESERVA_ETNICO</th>\n",
              "      <th>IN_RESERVA_ENSINO_PUBLICO</th>\n",
              "      <th>IN_RESERVA_RENDA_FAMILIAR</th>\n",
              "      <th>IN_FINANCIAMENTO_ESTUDANTIL</th>\n",
              "      <th>IN_FIN_REEMB_FIES</th>\n",
              "      <th>IN_FIN_NAOREEMB_PROUNI_INTEGR</th>\n",
              "      <th>IN_FIN_NAOREEMB_PROUNI_PARCIAL</th>\n",
              "      <th>IN_BOLSA_ESTAGIO</th>\n",
              "      <th>NU_ANO_INGRESSO</th>\n",
              "      <th>NU_ANO_CENSO</th>\n",
              "    </tr>\n",
              "  </thead>\n",
              "  <tbody>\n",
              "    <tr>\n",
              "      <th>0</th>\n",
              "      <td>1</td>\n",
              "      <td>44</td>\n",
              "      <td>4.0</td>\n",
              "      <td>1</td>\n",
              "      <td>1</td>\n",
              "      <td>1</td>\n",
              "      <td>2</td>\n",
              "      <td>1</td>\n",
              "      <td>24</td>\n",
              "      <td>1</td>\n",
              "      <td>10</td>\n",
              "      <td>51.0</td>\n",
              "      <td>2</td>\n",
              "      <td>0</td>\n",
              "      <td>1</td>\n",
              "      <td>1.0</td>\n",
              "      <td>1.0</td>\n",
              "      <td>0.0</td>\n",
              "      <td>NaN</td>\n",
              "      <td>NaN</td>\n",
              "      <td>NaN</td>\n",
              "      <td>NaN</td>\n",
              "      <td>NaN</td>\n",
              "      <td>2012</td>\n",
              "      <td>2015</td>\n",
              "    </tr>\n",
              "    <tr>\n",
              "      <th>1</th>\n",
              "      <td>1</td>\n",
              "      <td>116560</td>\n",
              "      <td>1.0</td>\n",
              "      <td>1</td>\n",
              "      <td>1</td>\n",
              "      <td>1</td>\n",
              "      <td>1</td>\n",
              "      <td>0</td>\n",
              "      <td>31</td>\n",
              "      <td>1</td>\n",
              "      <td>10</td>\n",
              "      <td>51.0</td>\n",
              "      <td>3</td>\n",
              "      <td>0</td>\n",
              "      <td>1</td>\n",
              "      <td>NaN</td>\n",
              "      <td>NaN</td>\n",
              "      <td>NaN</td>\n",
              "      <td>NaN</td>\n",
              "      <td>NaN</td>\n",
              "      <td>NaN</td>\n",
              "      <td>NaN</td>\n",
              "      <td>NaN</td>\n",
              "      <td>2010</td>\n",
              "      <td>2015</td>\n",
              "    </tr>\n",
              "    <tr>\n",
              "      <th>2</th>\n",
              "      <td>1</td>\n",
              "      <td>2</td>\n",
              "      <td>3.0</td>\n",
              "      <td>1</td>\n",
              "      <td>1</td>\n",
              "      <td>1</td>\n",
              "      <td>2</td>\n",
              "      <td>1</td>\n",
              "      <td>28</td>\n",
              "      <td>1</td>\n",
              "      <td>10</td>\n",
              "      <td>51.0</td>\n",
              "      <td>2</td>\n",
              "      <td>0</td>\n",
              "      <td>1</td>\n",
              "      <td>1.0</td>\n",
              "      <td>1.0</td>\n",
              "      <td>0.0</td>\n",
              "      <td>NaN</td>\n",
              "      <td>NaN</td>\n",
              "      <td>NaN</td>\n",
              "      <td>NaN</td>\n",
              "      <td>NaN</td>\n",
              "      <td>2015</td>\n",
              "      <td>2015</td>\n",
              "    </tr>\n",
              "    <tr>\n",
              "      <th>3</th>\n",
              "      <td>1</td>\n",
              "      <td>1103742</td>\n",
              "      <td>3.0</td>\n",
              "      <td>1</td>\n",
              "      <td>1</td>\n",
              "      <td>1</td>\n",
              "      <td>3</td>\n",
              "      <td>0</td>\n",
              "      <td>23</td>\n",
              "      <td>1</td>\n",
              "      <td>10</td>\n",
              "      <td>51.0</td>\n",
              "      <td>2</td>\n",
              "      <td>1</td>\n",
              "      <td>1</td>\n",
              "      <td>NaN</td>\n",
              "      <td>NaN</td>\n",
              "      <td>NaN</td>\n",
              "      <td>NaN</td>\n",
              "      <td>NaN</td>\n",
              "      <td>NaN</td>\n",
              "      <td>NaN</td>\n",
              "      <td>NaN</td>\n",
              "      <td>2010</td>\n",
              "      <td>2015</td>\n",
              "    </tr>\n",
              "    <tr>\n",
              "      <th>4</th>\n",
              "      <td>1</td>\n",
              "      <td>44</td>\n",
              "      <td>4.0</td>\n",
              "      <td>1</td>\n",
              "      <td>1</td>\n",
              "      <td>1</td>\n",
              "      <td>1</td>\n",
              "      <td>1</td>\n",
              "      <td>23</td>\n",
              "      <td>1</td>\n",
              "      <td>10</td>\n",
              "      <td>35.0</td>\n",
              "      <td>2</td>\n",
              "      <td>1</td>\n",
              "      <td>1</td>\n",
              "      <td>NaN</td>\n",
              "      <td>NaN</td>\n",
              "      <td>NaN</td>\n",
              "      <td>NaN</td>\n",
              "      <td>NaN</td>\n",
              "      <td>NaN</td>\n",
              "      <td>NaN</td>\n",
              "      <td>NaN</td>\n",
              "      <td>2010</td>\n",
              "      <td>2015</td>\n",
              "    </tr>\n",
              "  </tbody>\n",
              "</table>\n",
              "</div>"
            ],
            "text/plain": [
              "   TP_CATEGORIA_ADMINISTRATIVA  CO_CURSO  ...  NU_ANO_INGRESSO  NU_ANO_CENSO\n",
              "0                            1        44  ...             2012          2015\n",
              "1                            1    116560  ...             2010          2015\n",
              "2                            1         2  ...             2015          2015\n",
              "3                            1   1103742  ...             2010          2015\n",
              "4                            1        44  ...             2010          2015\n",
              "\n",
              "[5 rows x 25 columns]"
            ]
          },
          "metadata": {
            "tags": []
          },
          "execution_count": 26
        }
      ]
    },
    {
      "cell_type": "markdown",
      "metadata": {
        "id": "unEwYVRWEctz"
      },
      "source": [
        "Dados 2014"
      ]
    },
    {
      "cell_type": "code",
      "metadata": {
        "colab": {
          "base_uri": "https://localhost:8080/"
        },
        "id": "3IF-ouYGx093",
        "outputId": "a138dd3a-88b5-4f88-ffc4-0dd3e42b5416"
      },
      "source": [
        "with zipfile.ZipFile(\"/content/drive/MyDrive/Colab_Notebooks/Projeto Sigalei/microdados_censo_superior_2014.zip\") as z:\n",
        "  print(*z.namelist(), sep=\"\\n\")"
      ],
      "execution_count": 27,
      "outputs": [
        {
          "output_type": "stream",
          "text": [
            "microdados_censo_superior_2014/\n",
            "microdados_censo_superior_2014/2014/\n",
            "microdados_censo_superior_2014/2014/ANEXOS/\n",
            "microdados_censo_superior_2014/2014/ANEXOS/ANEXO I/\n",
            "microdados_censo_superior_2014/2014/ANEXOS/ANEXO II/\n",
            "microdados_censo_superior_2014/2014/ANEXOS/ANEXO II/ANEXO II - MαDULO ALUNO 2014.pdf\n",
            "microdados_censo_superior_2014/2014/ANEXOS/ANEXO II/ANEXO II - MαDULO CURSO 2014.pdf\n",
            "microdados_censo_superior_2014/2014/ANEXOS/ANEXO II/ANEXO II - MαDULO DOCENTE 2014.pdf\n",
            "microdados_censo_superior_2014/2014/ANEXOS/ANEXO II/ANEXO II - MαDULO IES 2014.pdf\n",
            "microdados_censo_superior_2014/2014/ANEXOS/ANEXO I/ANEXO I - 2014.xlsx\n",
            "microdados_censo_superior_2014/2014/DADOS/\n",
            "microdados_censo_superior_2014/2014/DADOS/DM_ALUNO.CSV\n",
            "microdados_censo_superior_2014/2014/DADOS/DM_CURSO.CSV\n",
            "microdados_censo_superior_2014/2014/DADOS/DM_DOCENTE.CSV\n",
            "microdados_censo_superior_2014/2014/DADOS/DM_IES.CSV\n",
            "microdados_censo_superior_2014/2014/DADOS/DM_LOCAL_OFERTA.CSV\n",
            "microdados_censo_superior_2014/2014/DADOS/md5_microdados_ed_superior_2014.txt\n",
            "microdados_censo_superior_2014/2014/FILTROS/\n",
            "microdados_censo_superior_2014/2014/FILTROS/Filtros Censo Ed Superior 2014.pdf\n",
            "microdados_censo_superior_2014/2014/LEIA-ME/\n",
            "microdados_censo_superior_2014/2014/LEIA-ME/LEIA-ME 2014.pdf\n",
            "microdados_censo_superior_2014/2014/LEIA-ME/Thumbs.db\n",
            "microdados_censo_superior_2014/2014/~$ltros Censo Ed Superior 2014.doc\n"
          ],
          "name": "stdout"
        }
      ]
    },
    {
      "cell_type": "code",
      "metadata": {
        "id": "ujOWdmfRb6dk"
      },
      "source": [
        "with zipfile.ZipFile(\"/content/drive/MyDrive/Colab_Notebooks/Projeto Sigalei/microdados_censo_superior_2014.zip\") as z:\n",
        "   with z.open(\"microdados_censo_superior_2014/2014/DADOS/DM_ALUNO.CSV\") as f:\n",
        "    df_2014 = pd.read_csv(f, sep=\"|\",usecols=colunas2, nrows=500)"
      ],
      "execution_count": 28,
      "outputs": []
    },
    {
      "cell_type": "code",
      "metadata": {
        "id": "3M0L0BmoE20I"
      },
      "source": [
        "df_2014[\"NU_ANO_CENSO\"] = 2014"
      ],
      "execution_count": 29,
      "outputs": []
    },
    {
      "cell_type": "code",
      "metadata": {
        "id": "V-OaKk8TE2uh"
      },
      "source": [
        "df_2014.rename(columns={\"CO_GRAU_ACADEMICO\": \"TP_GRAU_ACADEMICO\", \"CO_CATEGORIA_ADMINISTRATIVA\": \"TP_CATEGORIA_ADMINISTRATIVA\", \"NU_IDADE_ALUNO\": \"NU_IDADE\", \"CO_NIVEL_ACADEMICO\": \"TP_NIVEL_ACADEMICO\",\n",
        "                        \"CO_MODALIDADE_ENSINO\": \"TP_MODALIDADE_ENSINO\", \"CO_TURNO_ALUNO\": \"TP_TURNO\", \"CO_PAIS_ORIGEM_ALUNO\": \"CO_PAIS_ORIGEM\",\n",
        "                        \"CO_NACIONALIDADE_ALUNO\": \"TP_NACIONALIDADE\", \"IN_SEXO_ALUNO\": \"TP_SEXO\", \"IN_ING_VESTIBULAR\": \"IN_INGRESSO_VESTIBULAR\",\n",
        "                        \"CO_COR_RACA_ALUNO\": \"TP_COR_RACA\", \"CO_ALUNO_SITUACAO\": \"TP_SITUACAO\", \"IN_FINANC_ESTUDANTIL\": \"IN_FINANCIAMENTO_ESTUDANTIL\",\n",
        "                        \"ANO_INGRESSO\": \"NU_ANO_INGRESSO\", \"IN_ING_ENEM\": \"IN_INGRESSO_ENEM\"}, inplace=True)"
      ],
      "execution_count": 30,
      "outputs": []
    },
    {
      "cell_type": "code",
      "metadata": {
        "colab": {
          "base_uri": "https://localhost:8080/",
          "height": 217
        },
        "id": "MhLcwkbaE2oK",
        "outputId": "242b415c-b9c9-4ee4-ca58-e656f2840ca8"
      },
      "source": [
        "df_2014.head()"
      ],
      "execution_count": 31,
      "outputs": [
        {
          "output_type": "execute_result",
          "data": {
            "text/html": [
              "<div>\n",
              "<style scoped>\n",
              "    .dataframe tbody tr th:only-of-type {\n",
              "        vertical-align: middle;\n",
              "    }\n",
              "\n",
              "    .dataframe tbody tr th {\n",
              "        vertical-align: top;\n",
              "    }\n",
              "\n",
              "    .dataframe thead th {\n",
              "        text-align: right;\n",
              "    }\n",
              "</style>\n",
              "<table border=\"1\" class=\"dataframe\">\n",
              "  <thead>\n",
              "    <tr style=\"text-align: right;\">\n",
              "      <th></th>\n",
              "      <th>TP_CATEGORIA_ADMINISTRATIVA</th>\n",
              "      <th>CO_CURSO</th>\n",
              "      <th>TP_TURNO</th>\n",
              "      <th>TP_GRAU_ACADEMICO</th>\n",
              "      <th>TP_MODALIDADE_ENSINO</th>\n",
              "      <th>TP_NIVEL_ACADEMICO</th>\n",
              "      <th>TP_COR_RACA</th>\n",
              "      <th>TP_SEXO</th>\n",
              "      <th>NU_IDADE</th>\n",
              "      <th>TP_NACIONALIDADE</th>\n",
              "      <th>CO_PAIS_ORIGEM</th>\n",
              "      <th>CO_UF_NASCIMENTO</th>\n",
              "      <th>TP_SITUACAO</th>\n",
              "      <th>IN_INGRESSO_VESTIBULAR</th>\n",
              "      <th>IN_INGRESSO_ENEM</th>\n",
              "      <th>IN_RESERVA_ETNICO</th>\n",
              "      <th>IN_RESERVA_ENSINO_PUBLICO</th>\n",
              "      <th>IN_RESERVA_RENDA_FAMILIAR</th>\n",
              "      <th>IN_FINANCIAMENTO_ESTUDANTIL</th>\n",
              "      <th>IN_FIN_REEMB_FIES</th>\n",
              "      <th>IN_FIN_NAOREEMB_PROUNI_INTEGR</th>\n",
              "      <th>IN_FIN_NAOREEMB_PROUNI_PARCIAL</th>\n",
              "      <th>IN_BOLSA_ESTAGIO</th>\n",
              "      <th>NU_ANO_INGRESSO</th>\n",
              "      <th>NU_ANO_CENSO</th>\n",
              "    </tr>\n",
              "  </thead>\n",
              "  <tbody>\n",
              "    <tr>\n",
              "      <th>0</th>\n",
              "      <td>1</td>\n",
              "      <td>1</td>\n",
              "      <td>1</td>\n",
              "      <td>1</td>\n",
              "      <td>1</td>\n",
              "      <td>1</td>\n",
              "      <td>3</td>\n",
              "      <td>1</td>\n",
              "      <td>21</td>\n",
              "      <td>1</td>\n",
              "      <td>10</td>\n",
              "      <td>NaN</td>\n",
              "      <td>6</td>\n",
              "      <td>0</td>\n",
              "      <td>0</td>\n",
              "      <td>NaN</td>\n",
              "      <td>NaN</td>\n",
              "      <td>NaN</td>\n",
              "      <td>NaN</td>\n",
              "      <td>NaN</td>\n",
              "      <td>NaN</td>\n",
              "      <td>NaN</td>\n",
              "      <td>NaN</td>\n",
              "      <td>2014</td>\n",
              "      <td>2014</td>\n",
              "    </tr>\n",
              "    <tr>\n",
              "      <th>1</th>\n",
              "      <td>1</td>\n",
              "      <td>1</td>\n",
              "      <td>1</td>\n",
              "      <td>1</td>\n",
              "      <td>1</td>\n",
              "      <td>1</td>\n",
              "      <td>2</td>\n",
              "      <td>0</td>\n",
              "      <td>22</td>\n",
              "      <td>1</td>\n",
              "      <td>10</td>\n",
              "      <td>51.0</td>\n",
              "      <td>6</td>\n",
              "      <td>0</td>\n",
              "      <td>1</td>\n",
              "      <td>1.0</td>\n",
              "      <td>1.0</td>\n",
              "      <td>0.0</td>\n",
              "      <td>NaN</td>\n",
              "      <td>NaN</td>\n",
              "      <td>NaN</td>\n",
              "      <td>NaN</td>\n",
              "      <td>NaN</td>\n",
              "      <td>2012</td>\n",
              "      <td>2014</td>\n",
              "    </tr>\n",
              "    <tr>\n",
              "      <th>2</th>\n",
              "      <td>1</td>\n",
              "      <td>1</td>\n",
              "      <td>3</td>\n",
              "      <td>1</td>\n",
              "      <td>1</td>\n",
              "      <td>1</td>\n",
              "      <td>2</td>\n",
              "      <td>0</td>\n",
              "      <td>23</td>\n",
              "      <td>1</td>\n",
              "      <td>10</td>\n",
              "      <td>NaN</td>\n",
              "      <td>2</td>\n",
              "      <td>0</td>\n",
              "      <td>0</td>\n",
              "      <td>NaN</td>\n",
              "      <td>NaN</td>\n",
              "      <td>NaN</td>\n",
              "      <td>NaN</td>\n",
              "      <td>NaN</td>\n",
              "      <td>NaN</td>\n",
              "      <td>NaN</td>\n",
              "      <td>NaN</td>\n",
              "      <td>2014</td>\n",
              "      <td>2014</td>\n",
              "    </tr>\n",
              "    <tr>\n",
              "      <th>3</th>\n",
              "      <td>1</td>\n",
              "      <td>1</td>\n",
              "      <td>3</td>\n",
              "      <td>1</td>\n",
              "      <td>1</td>\n",
              "      <td>1</td>\n",
              "      <td>0</td>\n",
              "      <td>1</td>\n",
              "      <td>21</td>\n",
              "      <td>1</td>\n",
              "      <td>10</td>\n",
              "      <td>51.0</td>\n",
              "      <td>6</td>\n",
              "      <td>0</td>\n",
              "      <td>0</td>\n",
              "      <td>NaN</td>\n",
              "      <td>NaN</td>\n",
              "      <td>NaN</td>\n",
              "      <td>NaN</td>\n",
              "      <td>NaN</td>\n",
              "      <td>NaN</td>\n",
              "      <td>NaN</td>\n",
              "      <td>NaN</td>\n",
              "      <td>2012</td>\n",
              "      <td>2014</td>\n",
              "    </tr>\n",
              "    <tr>\n",
              "      <th>4</th>\n",
              "      <td>1</td>\n",
              "      <td>1</td>\n",
              "      <td>3</td>\n",
              "      <td>1</td>\n",
              "      <td>1</td>\n",
              "      <td>1</td>\n",
              "      <td>3</td>\n",
              "      <td>1</td>\n",
              "      <td>48</td>\n",
              "      <td>1</td>\n",
              "      <td>10</td>\n",
              "      <td>51.0</td>\n",
              "      <td>2</td>\n",
              "      <td>0</td>\n",
              "      <td>1</td>\n",
              "      <td>0.0</td>\n",
              "      <td>1.0</td>\n",
              "      <td>0.0</td>\n",
              "      <td>NaN</td>\n",
              "      <td>NaN</td>\n",
              "      <td>NaN</td>\n",
              "      <td>NaN</td>\n",
              "      <td>NaN</td>\n",
              "      <td>2012</td>\n",
              "      <td>2014</td>\n",
              "    </tr>\n",
              "  </tbody>\n",
              "</table>\n",
              "</div>"
            ],
            "text/plain": [
              "   TP_CATEGORIA_ADMINISTRATIVA  CO_CURSO  ...  NU_ANO_INGRESSO  NU_ANO_CENSO\n",
              "0                            1         1  ...             2014          2014\n",
              "1                            1         1  ...             2012          2014\n",
              "2                            1         1  ...             2014          2014\n",
              "3                            1         1  ...             2012          2014\n",
              "4                            1         1  ...             2012          2014\n",
              "\n",
              "[5 rows x 25 columns]"
            ]
          },
          "metadata": {
            "tags": []
          },
          "execution_count": 31
        }
      ]
    },
    {
      "cell_type": "markdown",
      "metadata": {
        "id": "cFBh12Q7FMbR"
      },
      "source": [
        "Dados 2013"
      ]
    },
    {
      "cell_type": "code",
      "metadata": {
        "colab": {
          "base_uri": "https://localhost:8080/"
        },
        "id": "UnNGmCQ7E2ep",
        "outputId": "ef0406de-148a-400f-f3e1-5c5310d6cc31"
      },
      "source": [
        "with zipfile.ZipFile(\"/content/drive/MyDrive/Colab_Notebooks/Projeto Sigalei/microdados_censo_superior_2013.zip\") as z:\n",
        "  print(*z.namelist(), sep=\"\\n\")"
      ],
      "execution_count": 32,
      "outputs": [
        {
          "output_type": "stream",
          "text": [
            "microdados_censo_superior_2013/\n",
            "microdados_censo_superior_2013/2013/\n",
            "microdados_censo_superior_2013/2013/ANEXOS/\n",
            "microdados_censo_superior_2013/2013/ANEXOS/ANEXO I/\n",
            "microdados_censo_superior_2013/2013/ANEXOS/ANEXO II/\n",
            "microdados_censo_superior_2013/2013/ANEXOS/ANEXO II/ANEXO II - MαDULO ALUNO 2013.pdf\n",
            "microdados_censo_superior_2013/2013/ANEXOS/ANEXO II/ANEXO II - MαDULO CURSO 2013.pdf\n",
            "microdados_censo_superior_2013/2013/ANEXOS/ANEXO II/ANEXO II - MαDULO DOCENTE 2013.pdf\n",
            "microdados_censo_superior_2013/2013/ANEXOS/ANEXO II/ANEXO II - MαDULO IES 2013.pdf\n",
            "microdados_censo_superior_2013/2013/ANEXOS/ANEXO I/ANEXO I - 2013.xlsx\n",
            "microdados_censo_superior_2013/2013/DADOS/\n",
            "microdados_censo_superior_2013/2013/DADOS/DM_ALUNO/\n",
            "microdados_censo_superior_2013/2013/DADOS/DM_ALUNO.rar\n",
            "microdados_censo_superior_2013/2013/DADOS/DM_ALUNO/DM_ALUNO.CSV\n",
            "microdados_censo_superior_2013/2013/DADOS/DM_CURSO.rar\n",
            "microdados_censo_superior_2013/2013/DADOS/DM_DOCENTE.rar\n",
            "microdados_censo_superior_2013/2013/DADOS/DM_IES.rar\n",
            "microdados_censo_superior_2013/2013/DADOS/DM_LOCAL_OFERTA.rar\n",
            "microdados_censo_superior_2013/2013/DADOS/md5_microdados_ed_superior_2013.txt\n",
            "microdados_censo_superior_2013/2013/FILTROS/\n",
            "microdados_censo_superior_2013/2013/FILTROS/Filtros Censo Ed Superior 2013.pdf\n",
            "microdados_censo_superior_2013/2013/LEIA-ME/\n",
            "microdados_censo_superior_2013/2013/LEIA-ME/LEIA-ME 2013.pdf\n",
            "microdados_censo_superior_2013/2013/LEIA-ME/Thumbs.db\n"
          ],
          "name": "stdout"
        }
      ]
    },
    {
      "cell_type": "code",
      "metadata": {
        "id": "HdK7ZscCE2VK"
      },
      "source": [
        "with zipfile.ZipFile(\"/content/drive/MyDrive/Colab_Notebooks/Projeto Sigalei/microdados_censo_superior_2013.zip\") as z:\n",
        "   with z.open(\"microdados_censo_superior_2013/2013/DADOS/DM_ALUNO/DM_ALUNO.CSV\") as f:\n",
        "    df_2013 = pd.read_csv(f, sep=\"|\",usecols=colunas2, nrows=500)"
      ],
      "execution_count": 33,
      "outputs": []
    },
    {
      "cell_type": "code",
      "metadata": {
        "id": "jlHGgrxtOXok"
      },
      "source": [
        "df_2013[\"NU_ANO_CENSO\"] = 2013"
      ],
      "execution_count": 34,
      "outputs": []
    },
    {
      "cell_type": "code",
      "metadata": {
        "id": "M_aiEZvKOXZz"
      },
      "source": [
        "df_2013.rename(columns={\"CO_GRAU_ACADEMICO\": \"TP_GRAU_ACADEMICO\", \"CO_CATEGORIA_ADMINISTRATIVA\": \"TP_CATEGORIA_ADMINISTRATIVA\", \"NU_IDADE_ALUNO\": \"NU_IDADE\", \"CO_NIVEL_ACADEMICO\": \"TP_NIVEL_ACADEMICO\",\n",
        "                        \"CO_MODALIDADE_ENSINO\": \"TP_MODALIDADE_ENSINO\", \"CO_TURNO_ALUNO\": \"TP_TURNO\", \"CO_PAIS_ORIGEM_ALUNO\": \"CO_PAIS_ORIGEM\",\n",
        "                        \"CO_NACIONALIDADE_ALUNO\": \"TP_NACIONALIDADE\", \"IN_SEXO_ALUNO\": \"TP_SEXO\", \"IN_ING_VESTIBULAR\": \"IN_INGRESSO_VESTIBULAR\",\n",
        "                        \"CO_COR_RACA_ALUNO\": \"TP_COR_RACA\", \"CO_ALUNO_SITUACAO\": \"TP_SITUACAO\", \"IN_FINANC_ESTUDANTIL\": \"IN_FINANCIAMENTO_ESTUDANTIL\",\n",
        "                        \"ANO_INGRESSO\": \"NU_ANO_INGRESSO\", \"IN_ING_ENEM\": \"IN_INGRESSO_ENEM\"}, inplace=True)"
      ],
      "execution_count": 35,
      "outputs": []
    },
    {
      "cell_type": "code",
      "metadata": {
        "colab": {
          "base_uri": "https://localhost:8080/",
          "height": 217
        },
        "id": "6OrAL3w7T_Ab",
        "outputId": "f92ca382-8b02-4ea2-f86d-50d0377a58ee"
      },
      "source": [
        "df_2013.head()"
      ],
      "execution_count": 36,
      "outputs": [
        {
          "output_type": "execute_result",
          "data": {
            "text/html": [
              "<div>\n",
              "<style scoped>\n",
              "    .dataframe tbody tr th:only-of-type {\n",
              "        vertical-align: middle;\n",
              "    }\n",
              "\n",
              "    .dataframe tbody tr th {\n",
              "        vertical-align: top;\n",
              "    }\n",
              "\n",
              "    .dataframe thead th {\n",
              "        text-align: right;\n",
              "    }\n",
              "</style>\n",
              "<table border=\"1\" class=\"dataframe\">\n",
              "  <thead>\n",
              "    <tr style=\"text-align: right;\">\n",
              "      <th></th>\n",
              "      <th>TP_CATEGORIA_ADMINISTRATIVA</th>\n",
              "      <th>CO_CURSO</th>\n",
              "      <th>TP_TURNO</th>\n",
              "      <th>TP_GRAU_ACADEMICO</th>\n",
              "      <th>TP_MODALIDADE_ENSINO</th>\n",
              "      <th>TP_NIVEL_ACADEMICO</th>\n",
              "      <th>TP_COR_RACA</th>\n",
              "      <th>TP_SEXO</th>\n",
              "      <th>NU_IDADE</th>\n",
              "      <th>TP_NACIONALIDADE</th>\n",
              "      <th>CO_PAIS_ORIGEM</th>\n",
              "      <th>CO_UF_NASCIMENTO</th>\n",
              "      <th>TP_SITUACAO</th>\n",
              "      <th>IN_FINANCIAMENTO_ESTUDANTIL</th>\n",
              "      <th>IN_INGRESSO_VESTIBULAR</th>\n",
              "      <th>IN_INGRESSO_ENEM</th>\n",
              "      <th>IN_RESERVA_ETNICO</th>\n",
              "      <th>IN_RESERVA_ENSINO_PUBLICO</th>\n",
              "      <th>IN_RESERVA_RENDA_FAMILIAR</th>\n",
              "      <th>IN_FIN_REEMB_FIES</th>\n",
              "      <th>IN_FIN_NAOREEMB_PROUNI_INTEGR</th>\n",
              "      <th>IN_FIN_NAOREEMB_PROUNI_PARCIAL</th>\n",
              "      <th>IN_BOLSA_ESTAGIO</th>\n",
              "      <th>NU_ANO_INGRESSO</th>\n",
              "      <th>NU_ANO_CENSO</th>\n",
              "    </tr>\n",
              "  </thead>\n",
              "  <tbody>\n",
              "    <tr>\n",
              "      <th>0</th>\n",
              "      <td>1</td>\n",
              "      <td>1</td>\n",
              "      <td>1</td>\n",
              "      <td>1</td>\n",
              "      <td>1</td>\n",
              "      <td>1</td>\n",
              "      <td>1</td>\n",
              "      <td>0</td>\n",
              "      <td>23</td>\n",
              "      <td>1</td>\n",
              "      <td>10</td>\n",
              "      <td>51.0</td>\n",
              "      <td>2</td>\n",
              "      <td>NaN</td>\n",
              "      <td>0</td>\n",
              "      <td>0</td>\n",
              "      <td>NaN</td>\n",
              "      <td>NaN</td>\n",
              "      <td>NaN</td>\n",
              "      <td>NaN</td>\n",
              "      <td>NaN</td>\n",
              "      <td>NaN</td>\n",
              "      <td>NaN</td>\n",
              "      <td>2010</td>\n",
              "      <td>2013</td>\n",
              "    </tr>\n",
              "    <tr>\n",
              "      <th>1</th>\n",
              "      <td>1</td>\n",
              "      <td>1</td>\n",
              "      <td>1</td>\n",
              "      <td>1</td>\n",
              "      <td>1</td>\n",
              "      <td>1</td>\n",
              "      <td>3</td>\n",
              "      <td>0</td>\n",
              "      <td>25</td>\n",
              "      <td>1</td>\n",
              "      <td>10</td>\n",
              "      <td>35.0</td>\n",
              "      <td>2</td>\n",
              "      <td>NaN</td>\n",
              "      <td>0</td>\n",
              "      <td>1</td>\n",
              "      <td>NaN</td>\n",
              "      <td>NaN</td>\n",
              "      <td>NaN</td>\n",
              "      <td>NaN</td>\n",
              "      <td>NaN</td>\n",
              "      <td>NaN</td>\n",
              "      <td>NaN</td>\n",
              "      <td>2012</td>\n",
              "      <td>2013</td>\n",
              "    </tr>\n",
              "    <tr>\n",
              "      <th>2</th>\n",
              "      <td>1</td>\n",
              "      <td>1</td>\n",
              "      <td>1</td>\n",
              "      <td>1</td>\n",
              "      <td>1</td>\n",
              "      <td>1</td>\n",
              "      <td>3</td>\n",
              "      <td>0</td>\n",
              "      <td>36</td>\n",
              "      <td>1</td>\n",
              "      <td>10</td>\n",
              "      <td>41.0</td>\n",
              "      <td>2</td>\n",
              "      <td>NaN</td>\n",
              "      <td>0</td>\n",
              "      <td>1</td>\n",
              "      <td>1.0</td>\n",
              "      <td>1.0</td>\n",
              "      <td>0.0</td>\n",
              "      <td>NaN</td>\n",
              "      <td>NaN</td>\n",
              "      <td>NaN</td>\n",
              "      <td>NaN</td>\n",
              "      <td>2013</td>\n",
              "      <td>2013</td>\n",
              "    </tr>\n",
              "    <tr>\n",
              "      <th>3</th>\n",
              "      <td>1</td>\n",
              "      <td>1</td>\n",
              "      <td>1</td>\n",
              "      <td>1</td>\n",
              "      <td>1</td>\n",
              "      <td>1</td>\n",
              "      <td>3</td>\n",
              "      <td>0</td>\n",
              "      <td>30</td>\n",
              "      <td>1</td>\n",
              "      <td>10</td>\n",
              "      <td>NaN</td>\n",
              "      <td>3</td>\n",
              "      <td>NaN</td>\n",
              "      <td>0</td>\n",
              "      <td>1</td>\n",
              "      <td>NaN</td>\n",
              "      <td>NaN</td>\n",
              "      <td>NaN</td>\n",
              "      <td>NaN</td>\n",
              "      <td>NaN</td>\n",
              "      <td>NaN</td>\n",
              "      <td>NaN</td>\n",
              "      <td>2011</td>\n",
              "      <td>2013</td>\n",
              "    </tr>\n",
              "    <tr>\n",
              "      <th>4</th>\n",
              "      <td>1</td>\n",
              "      <td>1</td>\n",
              "      <td>1</td>\n",
              "      <td>1</td>\n",
              "      <td>1</td>\n",
              "      <td>1</td>\n",
              "      <td>2</td>\n",
              "      <td>1</td>\n",
              "      <td>36</td>\n",
              "      <td>1</td>\n",
              "      <td>10</td>\n",
              "      <td>51.0</td>\n",
              "      <td>2</td>\n",
              "      <td>NaN</td>\n",
              "      <td>0</td>\n",
              "      <td>1</td>\n",
              "      <td>NaN</td>\n",
              "      <td>NaN</td>\n",
              "      <td>NaN</td>\n",
              "      <td>NaN</td>\n",
              "      <td>NaN</td>\n",
              "      <td>NaN</td>\n",
              "      <td>NaN</td>\n",
              "      <td>2012</td>\n",
              "      <td>2013</td>\n",
              "    </tr>\n",
              "  </tbody>\n",
              "</table>\n",
              "</div>"
            ],
            "text/plain": [
              "   TP_CATEGORIA_ADMINISTRATIVA  CO_CURSO  ...  NU_ANO_INGRESSO  NU_ANO_CENSO\n",
              "0                            1         1  ...             2010          2013\n",
              "1                            1         1  ...             2012          2013\n",
              "2                            1         1  ...             2013          2013\n",
              "3                            1         1  ...             2011          2013\n",
              "4                            1         1  ...             2012          2013\n",
              "\n",
              "[5 rows x 25 columns]"
            ]
          },
          "metadata": {
            "tags": []
          },
          "execution_count": 36
        }
      ]
    },
    {
      "cell_type": "markdown",
      "metadata": {
        "id": "4F7bCaMoOZnu"
      },
      "source": [
        "Dados 2012"
      ]
    },
    {
      "cell_type": "code",
      "metadata": {
        "colab": {
          "base_uri": "https://localhost:8080/"
        },
        "id": "mZn2WnNWE2GK",
        "outputId": "e6c48183-2ece-4176-8462-304efeeda4ad"
      },
      "source": [
        "with zipfile.ZipFile(\"/content/drive/MyDrive/Colab_Notebooks/Projeto Sigalei/microdados_censo_superior_2012.zip\") as z:\n",
        "  print(*z.namelist(), sep=\"\\n\")"
      ],
      "execution_count": 37,
      "outputs": [
        {
          "output_type": "stream",
          "text": [
            "microdados_censo_superior_2012/\n",
            "microdados_censo_superior_2012/2012/\n",
            "microdados_censo_superior_2012/2012/ANEXOS/\n",
            "microdados_censo_superior_2012/2012/ANEXOS/ANEXO I/\n",
            "microdados_censo_superior_2012/2012/ANEXOS/ANEXO II/\n",
            "microdados_censo_superior_2012/2012/ANEXOS/ANEXO II/ANEXO II - MαDULO ALUNO 2012.pdf\n",
            "microdados_censo_superior_2012/2012/ANEXOS/ANEXO II/ANEXO II - MαDULO CURSO 2012.pdf\n",
            "microdados_censo_superior_2012/2012/ANEXOS/ANEXO II/ANEXO II - MαDULO DOCENTE 2012.pdf\n",
            "microdados_censo_superior_2012/2012/ANEXOS/ANEXO II/ANEXO II - MαDULO IES 2012.pdf\n",
            "microdados_censo_superior_2012/2012/ANEXOS/ANEXO I/ANEXO I - 2012.xlsx\n",
            "microdados_censo_superior_2012/2012/DADOS/\n",
            "microdados_censo_superior_2012/2012/DADOS/DM_ALUNO/\n",
            "microdados_censo_superior_2012/2012/DADOS/DM_ALUNO.rar\n",
            "microdados_censo_superior_2012/2012/DADOS/DM_ALUNO/DM_ALUNO.CSV\n",
            "microdados_censo_superior_2012/2012/DADOS/DM_CURSO.rar\n",
            "microdados_censo_superior_2012/2012/DADOS/DM_DOCENTE.rar\n",
            "microdados_censo_superior_2012/2012/DADOS/DM_IES.rar\n",
            "microdados_censo_superior_2012/2012/DADOS/DM_LOCAL_OFERTA.rar\n",
            "microdados_censo_superior_2012/2012/DADOS/md5_microdados_ed_superior_2012.txt\n",
            "microdados_censo_superior_2012/2012/FILTROS/\n",
            "microdados_censo_superior_2012/2012/FILTROS/Filtros Censo Ed Superior 2012.pdf\n",
            "microdados_censo_superior_2012/2012/LEIA-ME/\n",
            "microdados_censo_superior_2012/2012/LEIA-ME/LEIA-ME 2012.pdf\n"
          ],
          "name": "stdout"
        }
      ]
    },
    {
      "cell_type": "code",
      "metadata": {
        "id": "jG-pSijQOd-k"
      },
      "source": [
        "with zipfile.ZipFile(\"/content/drive/MyDrive/Colab_Notebooks/Projeto Sigalei/microdados_censo_superior_2012.zip\") as z:\n",
        "   with z.open(\"microdados_censo_superior_2012/2012/DADOS/DM_ALUNO/DM_ALUNO.CSV\") as f:\n",
        "    df_2012 = pd.read_csv(f, sep=\"|\",usecols=colunas2, nrows=500)"
      ],
      "execution_count": 38,
      "outputs": []
    },
    {
      "cell_type": "code",
      "metadata": {
        "id": "cNs1VqP8Od8R"
      },
      "source": [
        "df_2012[\"NU_ANO_CENSO\"] = 2012"
      ],
      "execution_count": 39,
      "outputs": []
    },
    {
      "cell_type": "code",
      "metadata": {
        "id": "IC62BgpBOd5Z"
      },
      "source": [
        "df_2012.rename(columns={\"CO_GRAU_ACADEMICO\": \"TP_GRAU_ACADEMICO\", \"CO_CATEGORIA_ADMINISTRATIVA\": \"TP_CATEGORIA_ADMINISTRATIVA\", \"NU_IDADE_ALUNO\": \"NU_IDADE\", \"CO_NIVEL_ACADEMICO\": \"TP_NIVEL_ACADEMICO\",\n",
        "                        \"CO_MODALIDADE_ENSINO\": \"TP_MODALIDADE_ENSINO\", \"CO_TURNO_ALUNO\": \"TP_TURNO\", \"CO_PAIS_ORIGEM_ALUNO\": \"CO_PAIS_ORIGEM\",\n",
        "                        \"CO_NACIONALIDADE_ALUNO\": \"TP_NACIONALIDADE\", \"IN_SEXO_ALUNO\": \"TP_SEXO\", \"IN_ING_VESTIBULAR\": \"IN_INGRESSO_VESTIBULAR\",\n",
        "                        \"CO_COR_RACA_ALUNO\": \"TP_COR_RACA\", \"CO_ALUNO_SITUACAO\": \"TP_SITUACAO\", \"IN_FINANC_ESTUDANTIL\": \"IN_FINANCIAMENTO_ESTUDANTIL\",\n",
        "                        \"ANO_INGRESSO\": \"NU_ANO_INGRESSO\", \"IN_ING_ENEM\": \"IN_INGRESSO_ENEM\"}, inplace=True)"
      ],
      "execution_count": 40,
      "outputs": []
    },
    {
      "cell_type": "code",
      "metadata": {
        "colab": {
          "base_uri": "https://localhost:8080/",
          "height": 217
        },
        "id": "y10YQ9ZfOd2q",
        "outputId": "47df501e-833d-42ea-b5ee-af977672610b"
      },
      "source": [
        "df_2012.head()"
      ],
      "execution_count": 41,
      "outputs": [
        {
          "output_type": "execute_result",
          "data": {
            "text/html": [
              "<div>\n",
              "<style scoped>\n",
              "    .dataframe tbody tr th:only-of-type {\n",
              "        vertical-align: middle;\n",
              "    }\n",
              "\n",
              "    .dataframe tbody tr th {\n",
              "        vertical-align: top;\n",
              "    }\n",
              "\n",
              "    .dataframe thead th {\n",
              "        text-align: right;\n",
              "    }\n",
              "</style>\n",
              "<table border=\"1\" class=\"dataframe\">\n",
              "  <thead>\n",
              "    <tr style=\"text-align: right;\">\n",
              "      <th></th>\n",
              "      <th>TP_CATEGORIA_ADMINISTRATIVA</th>\n",
              "      <th>CO_CURSO</th>\n",
              "      <th>TP_TURNO</th>\n",
              "      <th>TP_GRAU_ACADEMICO</th>\n",
              "      <th>TP_MODALIDADE_ENSINO</th>\n",
              "      <th>TP_NIVEL_ACADEMICO</th>\n",
              "      <th>TP_COR_RACA</th>\n",
              "      <th>TP_SEXO</th>\n",
              "      <th>NU_IDADE</th>\n",
              "      <th>TP_NACIONALIDADE</th>\n",
              "      <th>CO_PAIS_ORIGEM</th>\n",
              "      <th>CO_UF_NASCIMENTO</th>\n",
              "      <th>TP_SITUACAO</th>\n",
              "      <th>IN_FINANCIAMENTO_ESTUDANTIL</th>\n",
              "      <th>IN_INGRESSO_VESTIBULAR</th>\n",
              "      <th>IN_INGRESSO_ENEM</th>\n",
              "      <th>IN_RESERVA_ETNICO</th>\n",
              "      <th>IN_RESERVA_ENSINO_PUBLICO</th>\n",
              "      <th>IN_RESERVA_RENDA_FAMILIAR</th>\n",
              "      <th>IN_FIN_REEMB_FIES</th>\n",
              "      <th>IN_FIN_NAOREEMB_PROUNI_INTEGR</th>\n",
              "      <th>IN_FIN_NAOREEMB_PROUNI_PARCIAL</th>\n",
              "      <th>IN_BOLSA_ESTAGIO</th>\n",
              "      <th>NU_ANO_INGRESSO</th>\n",
              "      <th>NU_ANO_CENSO</th>\n",
              "    </tr>\n",
              "  </thead>\n",
              "  <tbody>\n",
              "    <tr>\n",
              "      <th>0</th>\n",
              "      <td>4</td>\n",
              "      <td>68161</td>\n",
              "      <td>3.0</td>\n",
              "      <td>1.0</td>\n",
              "      <td>1</td>\n",
              "      <td>1</td>\n",
              "      <td>3</td>\n",
              "      <td>1</td>\n",
              "      <td>33</td>\n",
              "      <td>1</td>\n",
              "      <td>10</td>\n",
              "      <td>52.0</td>\n",
              "      <td>4</td>\n",
              "      <td>0.0</td>\n",
              "      <td>1</td>\n",
              "      <td>0</td>\n",
              "      <td>NaN</td>\n",
              "      <td>NaN</td>\n",
              "      <td>NaN</td>\n",
              "      <td>NaN</td>\n",
              "      <td>NaN</td>\n",
              "      <td>NaN</td>\n",
              "      <td>NaN</td>\n",
              "      <td>2009</td>\n",
              "      <td>2012</td>\n",
              "    </tr>\n",
              "    <tr>\n",
              "      <th>1</th>\n",
              "      <td>4</td>\n",
              "      <td>100878</td>\n",
              "      <td>4.0</td>\n",
              "      <td>1.0</td>\n",
              "      <td>1</td>\n",
              "      <td>1</td>\n",
              "      <td>0</td>\n",
              "      <td>1</td>\n",
              "      <td>23</td>\n",
              "      <td>1</td>\n",
              "      <td>10</td>\n",
              "      <td>11.0</td>\n",
              "      <td>2</td>\n",
              "      <td>0.0</td>\n",
              "      <td>1</td>\n",
              "      <td>0</td>\n",
              "      <td>NaN</td>\n",
              "      <td>NaN</td>\n",
              "      <td>NaN</td>\n",
              "      <td>NaN</td>\n",
              "      <td>NaN</td>\n",
              "      <td>NaN</td>\n",
              "      <td>NaN</td>\n",
              "      <td>2010</td>\n",
              "      <td>2012</td>\n",
              "    </tr>\n",
              "    <tr>\n",
              "      <th>2</th>\n",
              "      <td>2</td>\n",
              "      <td>60839</td>\n",
              "      <td>3.0</td>\n",
              "      <td>3.0</td>\n",
              "      <td>1</td>\n",
              "      <td>1</td>\n",
              "      <td>1</td>\n",
              "      <td>1</td>\n",
              "      <td>20</td>\n",
              "      <td>1</td>\n",
              "      <td>10</td>\n",
              "      <td>35.0</td>\n",
              "      <td>2</td>\n",
              "      <td>0.0</td>\n",
              "      <td>1</td>\n",
              "      <td>0</td>\n",
              "      <td>NaN</td>\n",
              "      <td>NaN</td>\n",
              "      <td>NaN</td>\n",
              "      <td>NaN</td>\n",
              "      <td>NaN</td>\n",
              "      <td>NaN</td>\n",
              "      <td>NaN</td>\n",
              "      <td>2010</td>\n",
              "      <td>2012</td>\n",
              "    </tr>\n",
              "    <tr>\n",
              "      <th>3</th>\n",
              "      <td>1</td>\n",
              "      <td>123308</td>\n",
              "      <td>2.0</td>\n",
              "      <td>3.0</td>\n",
              "      <td>1</td>\n",
              "      <td>1</td>\n",
              "      <td>1</td>\n",
              "      <td>1</td>\n",
              "      <td>28</td>\n",
              "      <td>1</td>\n",
              "      <td>10</td>\n",
              "      <td>NaN</td>\n",
              "      <td>2</td>\n",
              "      <td>NaN</td>\n",
              "      <td>0</td>\n",
              "      <td>1</td>\n",
              "      <td>NaN</td>\n",
              "      <td>NaN</td>\n",
              "      <td>NaN</td>\n",
              "      <td>NaN</td>\n",
              "      <td>NaN</td>\n",
              "      <td>NaN</td>\n",
              "      <td>NaN</td>\n",
              "      <td>2011</td>\n",
              "      <td>2012</td>\n",
              "    </tr>\n",
              "    <tr>\n",
              "      <th>4</th>\n",
              "      <td>4</td>\n",
              "      <td>83274</td>\n",
              "      <td>3.0</td>\n",
              "      <td>1.0</td>\n",
              "      <td>1</td>\n",
              "      <td>1</td>\n",
              "      <td>0</td>\n",
              "      <td>0</td>\n",
              "      <td>23</td>\n",
              "      <td>1</td>\n",
              "      <td>10</td>\n",
              "      <td>35.0</td>\n",
              "      <td>2</td>\n",
              "      <td>0.0</td>\n",
              "      <td>0</td>\n",
              "      <td>0</td>\n",
              "      <td>NaN</td>\n",
              "      <td>NaN</td>\n",
              "      <td>NaN</td>\n",
              "      <td>NaN</td>\n",
              "      <td>NaN</td>\n",
              "      <td>NaN</td>\n",
              "      <td>NaN</td>\n",
              "      <td>2010</td>\n",
              "      <td>2012</td>\n",
              "    </tr>\n",
              "  </tbody>\n",
              "</table>\n",
              "</div>"
            ],
            "text/plain": [
              "   TP_CATEGORIA_ADMINISTRATIVA  CO_CURSO  ...  NU_ANO_INGRESSO  NU_ANO_CENSO\n",
              "0                            4     68161  ...             2009          2012\n",
              "1                            4    100878  ...             2010          2012\n",
              "2                            2     60839  ...             2010          2012\n",
              "3                            1    123308  ...             2011          2012\n",
              "4                            4     83274  ...             2010          2012\n",
              "\n",
              "[5 rows x 25 columns]"
            ]
          },
          "metadata": {
            "tags": []
          },
          "execution_count": 41
        }
      ]
    },
    {
      "cell_type": "markdown",
      "metadata": {
        "id": "MDDxfYh5f8zh"
      },
      "source": [
        "Dados 2011"
      ]
    },
    {
      "cell_type": "code",
      "metadata": {
        "colab": {
          "base_uri": "https://localhost:8080/"
        },
        "id": "PPS8uUGFf8c7",
        "outputId": "ac6788ea-e96e-44a8-fe25-6fdda1b0123a"
      },
      "source": [
        "with zipfile.ZipFile(\"/content/drive/MyDrive/Colab_Notebooks/Projeto Sigalei/microdados_censo_superior_2011.zip\") as z:\n",
        "  print(*z.namelist(), sep=\"\\n\")"
      ],
      "execution_count": 42,
      "outputs": [
        {
          "output_type": "stream",
          "text": [
            "microdados_censo_superior_2011/\n",
            "microdados_censo_superior_2011/2011/\n",
            "microdados_censo_superior_2011/2011/ANEXOS/\n",
            "microdados_censo_superior_2011/2011/ANEXOS/ANEXO I/\n",
            "microdados_censo_superior_2011/2011/ANEXOS/ANEXO II/\n",
            "microdados_censo_superior_2011/2011/ANEXOS/ANEXO II/ANEXO II - MαDULO ALUNO 2011.pdf\n",
            "microdados_censo_superior_2011/2011/ANEXOS/ANEXO II/ANEXO II - MαDULO CURSO 2011.pdf\n",
            "microdados_censo_superior_2011/2011/ANEXOS/ANEXO II/ANEXO II - MαDULO DOCENTE 2011.pdf\n",
            "microdados_censo_superior_2011/2011/ANEXOS/ANEXO II/ANEXO II - MαDULO IES 2011.pdf\n",
            "microdados_censo_superior_2011/2011/ANEXOS/ANEXO I/ANEXO I - 2011.xlsx\n",
            "microdados_censo_superior_2011/2011/DADOS/\n",
            "microdados_censo_superior_2011/2011/DADOS/DM_ALUNO/\n",
            "microdados_censo_superior_2011/2011/DADOS/DM_ALUNO.rar\n",
            "microdados_censo_superior_2011/2011/DADOS/DM_ALUNO/DM_ALUNO.CSV\n",
            "microdados_censo_superior_2011/2011/DADOS/DM_CURSO.rar\n",
            "microdados_censo_superior_2011/2011/DADOS/DM_DOCENTE.rar\n",
            "microdados_censo_superior_2011/2011/DADOS/DM_IES.rar\n",
            "microdados_censo_superior_2011/2011/DADOS/DM_LOCAL_OFERTA.rar\n",
            "microdados_censo_superior_2011/2011/DADOS/md5_microdados_ed_superior_2011.txt\n",
            "microdados_censo_superior_2011/2011/FILTROS/\n",
            "microdados_censo_superior_2011/2011/FILTROS/Filtros Censo Ed Superior 2011.pdf\n",
            "microdados_censo_superior_2011/2011/LEIA-ME/\n",
            "microdados_censo_superior_2011/2011/LEIA-ME/LEIA-ME 2011.pdf\n"
          ],
          "name": "stdout"
        }
      ]
    },
    {
      "cell_type": "code",
      "metadata": {
        "id": "UABTQaG_Odyk"
      },
      "source": [
        "with zipfile.ZipFile(\"/content/drive/MyDrive/Colab_Notebooks/Projeto Sigalei/microdados_censo_superior_2011.zip\") as z:\n",
        "   with z.open(\"microdados_censo_superior_2011/2011/DADOS/DM_ALUNO/DM_ALUNO.CSV\") as f:\n",
        "    df_2011 = pd.read_csv(f, sep=\"|\",usecols=colunas2, nrows=500)"
      ],
      "execution_count": 43,
      "outputs": []
    },
    {
      "cell_type": "code",
      "metadata": {
        "id": "AamukFQJOdvg"
      },
      "source": [
        "df_2011[\"NU_ANO_CENSO\"] = 2011"
      ],
      "execution_count": 44,
      "outputs": []
    },
    {
      "cell_type": "code",
      "metadata": {
        "id": "AOxZq7PjTeih"
      },
      "source": [
        "df_2011.rename(columns={\"CO_GRAU_ACADEMICO\": \"TP_GRAU_ACADEMICO\", \"CO_CATEGORIA_ADMINISTRATIVA\": \"TP_CATEGORIA_ADMINISTRATIVA\", \"NU_IDADE_ALUNO\": \"NU_IDADE\", \"CO_NIVEL_ACADEMICO\": \"TP_NIVEL_ACADEMICO\",\n",
        "                        \"CO_MODALIDADE_ENSINO\": \"TP_MODALIDADE_ENSINO\", \"CO_TURNO_ALUNO\": \"TP_TURNO\", \"CO_PAIS_ORIGEM_ALUNO\": \"CO_PAIS_ORIGEM\",\n",
        "                        \"CO_NACIONALIDADE_ALUNO\": \"TP_NACIONALIDADE\", \"IN_SEXO_ALUNO\": \"TP_SEXO\", \"IN_ING_VESTIBULAR\": \"IN_INGRESSO_VESTIBULAR\",\n",
        "                        \"CO_COR_RACA_ALUNO\": \"TP_COR_RACA\", \"CO_ALUNO_SITUACAO\": \"TP_SITUACAO\", \"IN_FINANC_ESTUDANTIL\": \"IN_FINANCIAMENTO_ESTUDANTIL\",\n",
        "                        \"ANO_INGRESSO\": \"NU_ANO_INGRESSO\", \"IN_ING_ENEM\": \"IN_INGRESSO_ENEM\"}, inplace=True)"
      ],
      "execution_count": 45,
      "outputs": []
    },
    {
      "cell_type": "code",
      "metadata": {
        "colab": {
          "base_uri": "https://localhost:8080/",
          "height": 217
        },
        "id": "V3CFljW1MV5R",
        "outputId": "804f1698-c3fb-4f45-f6d1-17245930587f"
      },
      "source": [
        "df_2011.head()"
      ],
      "execution_count": 46,
      "outputs": [
        {
          "output_type": "execute_result",
          "data": {
            "text/html": [
              "<div>\n",
              "<style scoped>\n",
              "    .dataframe tbody tr th:only-of-type {\n",
              "        vertical-align: middle;\n",
              "    }\n",
              "\n",
              "    .dataframe tbody tr th {\n",
              "        vertical-align: top;\n",
              "    }\n",
              "\n",
              "    .dataframe thead th {\n",
              "        text-align: right;\n",
              "    }\n",
              "</style>\n",
              "<table border=\"1\" class=\"dataframe\">\n",
              "  <thead>\n",
              "    <tr style=\"text-align: right;\">\n",
              "      <th></th>\n",
              "      <th>TP_CATEGORIA_ADMINISTRATIVA</th>\n",
              "      <th>CO_CURSO</th>\n",
              "      <th>TP_GRAU_ACADEMICO</th>\n",
              "      <th>TP_MODALIDADE_ENSINO</th>\n",
              "      <th>TP_NIVEL_ACADEMICO</th>\n",
              "      <th>TP_COR_RACA</th>\n",
              "      <th>TP_SEXO</th>\n",
              "      <th>NU_IDADE</th>\n",
              "      <th>TP_NACIONALIDADE</th>\n",
              "      <th>CO_PAIS_ORIGEM</th>\n",
              "      <th>CO_UF_NASCIMENTO</th>\n",
              "      <th>TP_SITUACAO</th>\n",
              "      <th>IN_FINANCIAMENTO_ESTUDANTIL</th>\n",
              "      <th>TP_TURNO</th>\n",
              "      <th>IN_INGRESSO_VESTIBULAR</th>\n",
              "      <th>IN_INGRESSO_ENEM</th>\n",
              "      <th>IN_RESERVA_ETNICO</th>\n",
              "      <th>IN_RESERVA_ENSINO_PUBLICO</th>\n",
              "      <th>IN_RESERVA_RENDA_FAMILIAR</th>\n",
              "      <th>IN_FIN_REEMB_FIES</th>\n",
              "      <th>IN_FIN_NAOREEMB_PROUNI_INTEGR</th>\n",
              "      <th>IN_FIN_NAOREEMB_PROUNI_PARCIAL</th>\n",
              "      <th>IN_BOLSA_ESTAGIO</th>\n",
              "      <th>NU_ANO_INGRESSO</th>\n",
              "      <th>NU_ANO_CENSO</th>\n",
              "    </tr>\n",
              "  </thead>\n",
              "  <tbody>\n",
              "    <tr>\n",
              "      <th>0</th>\n",
              "      <td>4</td>\n",
              "      <td>67701</td>\n",
              "      <td>2.0</td>\n",
              "      <td>1</td>\n",
              "      <td>1</td>\n",
              "      <td>0</td>\n",
              "      <td>1</td>\n",
              "      <td>45</td>\n",
              "      <td>1</td>\n",
              "      <td>10</td>\n",
              "      <td>31.0</td>\n",
              "      <td>2</td>\n",
              "      <td>1</td>\n",
              "      <td>3.0</td>\n",
              "      <td>0</td>\n",
              "      <td>1</td>\n",
              "      <td>NaN</td>\n",
              "      <td>NaN</td>\n",
              "      <td>NaN</td>\n",
              "      <td>0.0</td>\n",
              "      <td>0.0</td>\n",
              "      <td>1.0</td>\n",
              "      <td>NaN</td>\n",
              "      <td>2010</td>\n",
              "      <td>2011</td>\n",
              "    </tr>\n",
              "    <tr>\n",
              "      <th>1</th>\n",
              "      <td>4</td>\n",
              "      <td>75010</td>\n",
              "      <td>2.0</td>\n",
              "      <td>1</td>\n",
              "      <td>1</td>\n",
              "      <td>3</td>\n",
              "      <td>1</td>\n",
              "      <td>24</td>\n",
              "      <td>1</td>\n",
              "      <td>10</td>\n",
              "      <td>26.0</td>\n",
              "      <td>6</td>\n",
              "      <td>1</td>\n",
              "      <td>3.0</td>\n",
              "      <td>0</td>\n",
              "      <td>1</td>\n",
              "      <td>NaN</td>\n",
              "      <td>NaN</td>\n",
              "      <td>NaN</td>\n",
              "      <td>0.0</td>\n",
              "      <td>1.0</td>\n",
              "      <td>0.0</td>\n",
              "      <td>0.0</td>\n",
              "      <td>2007</td>\n",
              "      <td>2011</td>\n",
              "    </tr>\n",
              "    <tr>\n",
              "      <th>2</th>\n",
              "      <td>4</td>\n",
              "      <td>20022</td>\n",
              "      <td>1.0</td>\n",
              "      <td>1</td>\n",
              "      <td>1</td>\n",
              "      <td>0</td>\n",
              "      <td>1</td>\n",
              "      <td>52</td>\n",
              "      <td>1</td>\n",
              "      <td>10</td>\n",
              "      <td>35.0</td>\n",
              "      <td>2</td>\n",
              "      <td>0</td>\n",
              "      <td>3.0</td>\n",
              "      <td>1</td>\n",
              "      <td>0</td>\n",
              "      <td>NaN</td>\n",
              "      <td>NaN</td>\n",
              "      <td>NaN</td>\n",
              "      <td>NaN</td>\n",
              "      <td>NaN</td>\n",
              "      <td>NaN</td>\n",
              "      <td>NaN</td>\n",
              "      <td>2010</td>\n",
              "      <td>2011</td>\n",
              "    </tr>\n",
              "    <tr>\n",
              "      <th>3</th>\n",
              "      <td>4</td>\n",
              "      <td>74012</td>\n",
              "      <td>1.0</td>\n",
              "      <td>1</td>\n",
              "      <td>1</td>\n",
              "      <td>1</td>\n",
              "      <td>0</td>\n",
              "      <td>23</td>\n",
              "      <td>1</td>\n",
              "      <td>10</td>\n",
              "      <td>35.0</td>\n",
              "      <td>4</td>\n",
              "      <td>0</td>\n",
              "      <td>3.0</td>\n",
              "      <td>1</td>\n",
              "      <td>0</td>\n",
              "      <td>NaN</td>\n",
              "      <td>NaN</td>\n",
              "      <td>NaN</td>\n",
              "      <td>NaN</td>\n",
              "      <td>NaN</td>\n",
              "      <td>NaN</td>\n",
              "      <td>NaN</td>\n",
              "      <td>2009</td>\n",
              "      <td>2011</td>\n",
              "    </tr>\n",
              "    <tr>\n",
              "      <th>4</th>\n",
              "      <td>3</td>\n",
              "      <td>122404</td>\n",
              "      <td>2.0</td>\n",
              "      <td>1</td>\n",
              "      <td>1</td>\n",
              "      <td>1</td>\n",
              "      <td>1</td>\n",
              "      <td>19</td>\n",
              "      <td>1</td>\n",
              "      <td>10</td>\n",
              "      <td>41.0</td>\n",
              "      <td>2</td>\n",
              "      <td>0</td>\n",
              "      <td>3.0</td>\n",
              "      <td>1</td>\n",
              "      <td>0</td>\n",
              "      <td>NaN</td>\n",
              "      <td>NaN</td>\n",
              "      <td>NaN</td>\n",
              "      <td>NaN</td>\n",
              "      <td>NaN</td>\n",
              "      <td>NaN</td>\n",
              "      <td>NaN</td>\n",
              "      <td>2010</td>\n",
              "      <td>2011</td>\n",
              "    </tr>\n",
              "  </tbody>\n",
              "</table>\n",
              "</div>"
            ],
            "text/plain": [
              "   TP_CATEGORIA_ADMINISTRATIVA  CO_CURSO  ...  NU_ANO_INGRESSO  NU_ANO_CENSO\n",
              "0                            4     67701  ...             2010          2011\n",
              "1                            4     75010  ...             2007          2011\n",
              "2                            4     20022  ...             2010          2011\n",
              "3                            4     74012  ...             2009          2011\n",
              "4                            3    122404  ...             2010          2011\n",
              "\n",
              "[5 rows x 25 columns]"
            ]
          },
          "metadata": {
            "tags": []
          },
          "execution_count": 46
        }
      ]
    },
    {
      "cell_type": "markdown",
      "metadata": {
        "id": "1YAyFiYZMWOt"
      },
      "source": [
        "Dados 2010"
      ]
    },
    {
      "cell_type": "code",
      "metadata": {
        "colab": {
          "base_uri": "https://localhost:8080/"
        },
        "id": "DSN9iNJ9MVqL",
        "outputId": "8e95d604-807a-4f58-8a99-5474c8349e70"
      },
      "source": [
        "with zipfile.ZipFile(\"/content/drive/MyDrive/Colab_Notebooks/Projeto Sigalei/microdados_censo_superior_2010.zip\") as z:\n",
        "  print(*z.namelist(), sep=\"\\n\")"
      ],
      "execution_count": 47,
      "outputs": [
        {
          "output_type": "stream",
          "text": [
            "microdados_censo_superior_2010/\n",
            "microdados_censo_superior_2010/ANEXOS/\n",
            "microdados_censo_superior_2010/ANEXOS/ANEXO I/\n",
            "microdados_censo_superior_2010/ANEXOS/ANEXO II/\n",
            "microdados_censo_superior_2010/ANEXOS/ANEXO II/ANEXO II - MαDULO ALUNO 2010.pdf\n",
            "microdados_censo_superior_2010/ANEXOS/ANEXO II/ANEXO II - MαDULO CURSO 2010.pdf\n",
            "microdados_censo_superior_2010/ANEXOS/ANEXO II/ANEXO II - MαDULO DOCENTE 2010.pdf\n",
            "microdados_censo_superior_2010/ANEXOS/ANEXO II/ANEXO II - MαDULO IES 2010.pdf\n",
            "microdados_censo_superior_2010/ANEXOS/ANEXO I/ANEXO I - 2010.xlsx\n",
            "microdados_censo_superior_2010/DADOS/\n",
            "microdados_censo_superior_2010/DADOS/DM_ALUNO/\n",
            "microdados_censo_superior_2010/DADOS/DM_ALUNO.rar\n",
            "microdados_censo_superior_2010/DADOS/DM_ALUNO/DM_ALUNO.CSV\n",
            "microdados_censo_superior_2010/DADOS/DM_CURSO.rar\n",
            "microdados_censo_superior_2010/DADOS/DM_DOCENTE.rar\n",
            "microdados_censo_superior_2010/DADOS/DM_IES.rar\n",
            "microdados_censo_superior_2010/DADOS/DM_LOCAL_OFERTA.rar\n",
            "microdados_censo_superior_2010/DADOS/md5_microdados_ed_superior_2010.txt\n",
            "microdados_censo_superior_2010/FILTROS/\n",
            "microdados_censo_superior_2010/FILTROS/Filtros Censo Ed Superior 2010.pdf\n",
            "microdados_censo_superior_2010/LEIA-ME/\n",
            "microdados_censo_superior_2010/LEIA-ME/LEIA-ME 2010.pdf\n"
          ],
          "name": "stdout"
        }
      ]
    },
    {
      "cell_type": "code",
      "metadata": {
        "id": "SZQz2SDOMVbI"
      },
      "source": [
        "with zipfile.ZipFile(\"/content/drive/MyDrive/Colab_Notebooks/Projeto Sigalei/microdados_censo_superior_2010.zip\") as z:\n",
        "   with z.open(\"microdados_censo_superior_2010/DADOS/DM_ALUNO/DM_ALUNO.CSV\") as f:\n",
        "    df_2010 = pd.read_csv(f, sep=\"|\",usecols=colunas2, nrows=500)"
      ],
      "execution_count": 48,
      "outputs": []
    },
    {
      "cell_type": "code",
      "metadata": {
        "id": "03IhMCMVMVKM"
      },
      "source": [
        "df_2010[\"NU_ANO_CENSO\"] = 2010"
      ],
      "execution_count": 49,
      "outputs": []
    },
    {
      "cell_type": "code",
      "metadata": {
        "id": "CD4aOK53MU6I"
      },
      "source": [
        "df_2010.rename(columns={\"CO_GRAU_ACADEMICO\": \"TP_GRAU_ACADEMICO\", \"CO_CATEGORIA_ADMINISTRATIVA\": \"TP_CATEGORIA_ADMINISTRATIVA\", \"NU_IDADE_ALUNO\": \"NU_IDADE\", \"CO_NIVEL_ACADEMICO\": \"TP_NIVEL_ACADEMICO\",\n",
        "                        \"CO_MODALIDADE_ENSINO\": \"TP_MODALIDADE_ENSINO\", \"CO_TURNO_ALUNO\": \"TP_TURNO\", \"CO_PAIS_ORIGEM_ALUNO\": \"CO_PAIS_ORIGEM\",\n",
        "                        \"CO_NACIONALIDADE_ALUNO\": \"TP_NACIONALIDADE\", \"IN_SEXO_ALUNO\": \"TP_SEXO\", \"IN_ING_VESTIBULAR\": \"IN_INGRESSO_VESTIBULAR\",\n",
        "                        \"CO_COR_RACA_ALUNO\": \"TP_COR_RACA\", \"CO_ALUNO_SITUACAO\": \"TP_SITUACAO\", \"IN_FINANC_ESTUDANTIL\": \"IN_FINANCIAMENTO_ESTUDANTIL\",\n",
        "                        \"ANO_INGRESSO\": \"NU_ANO_INGRESSO\", \"IN_ING_ENEM\": \"IN_INGRESSO_ENEM\"}, inplace=True)"
      ],
      "execution_count": 50,
      "outputs": []
    },
    {
      "cell_type": "code",
      "metadata": {
        "colab": {
          "base_uri": "https://localhost:8080/",
          "height": 217
        },
        "id": "FYlVxie7NRSQ",
        "outputId": "3d2385f1-3fce-4a4a-a774-8abc88c89253"
      },
      "source": [
        "df_2010.head()"
      ],
      "execution_count": 51,
      "outputs": [
        {
          "output_type": "execute_result",
          "data": {
            "text/html": [
              "<div>\n",
              "<style scoped>\n",
              "    .dataframe tbody tr th:only-of-type {\n",
              "        vertical-align: middle;\n",
              "    }\n",
              "\n",
              "    .dataframe tbody tr th {\n",
              "        vertical-align: top;\n",
              "    }\n",
              "\n",
              "    .dataframe thead th {\n",
              "        text-align: right;\n",
              "    }\n",
              "</style>\n",
              "<table border=\"1\" class=\"dataframe\">\n",
              "  <thead>\n",
              "    <tr style=\"text-align: right;\">\n",
              "      <th></th>\n",
              "      <th>TP_CATEGORIA_ADMINISTRATIVA</th>\n",
              "      <th>CO_CURSO</th>\n",
              "      <th>TP_GRAU_ACADEMICO</th>\n",
              "      <th>TP_MODALIDADE_ENSINO</th>\n",
              "      <th>TP_NIVEL_ACADEMICO</th>\n",
              "      <th>TP_COR_RACA</th>\n",
              "      <th>TP_SEXO</th>\n",
              "      <th>NU_IDADE</th>\n",
              "      <th>TP_NACIONALIDADE</th>\n",
              "      <th>CO_PAIS_ORIGEM</th>\n",
              "      <th>CO_UF_NASCIMENTO</th>\n",
              "      <th>TP_SITUACAO</th>\n",
              "      <th>IN_FINANCIAMENTO_ESTUDANTIL</th>\n",
              "      <th>TP_TURNO</th>\n",
              "      <th>IN_INGRESSO_VESTIBULAR</th>\n",
              "      <th>IN_INGRESSO_ENEM</th>\n",
              "      <th>IN_RESERVA_ETNICO</th>\n",
              "      <th>IN_RESERVA_ENSINO_PUBLICO</th>\n",
              "      <th>IN_RESERVA_RENDA_FAMILIAR</th>\n",
              "      <th>IN_FIN_REEMB_FIES</th>\n",
              "      <th>IN_FIN_NAOREEMB_PROUNI_INTEGR</th>\n",
              "      <th>IN_FIN_NAOREEMB_PROUNI_PARCIAL</th>\n",
              "      <th>IN_BOLSA_ESTAGIO</th>\n",
              "      <th>NU_ANO_INGRESSO</th>\n",
              "      <th>NU_ANO_CENSO</th>\n",
              "    </tr>\n",
              "  </thead>\n",
              "  <tbody>\n",
              "    <tr>\n",
              "      <th>0</th>\n",
              "      <td>1</td>\n",
              "      <td>1</td>\n",
              "      <td>1</td>\n",
              "      <td>1</td>\n",
              "      <td>1</td>\n",
              "      <td>1</td>\n",
              "      <td>1</td>\n",
              "      <td>21</td>\n",
              "      <td>1</td>\n",
              "      <td>10</td>\n",
              "      <td>51.0</td>\n",
              "      <td>2</td>\n",
              "      <td>0</td>\n",
              "      <td>3</td>\n",
              "      <td>0</td>\n",
              "      <td>0</td>\n",
              "      <td>NaN</td>\n",
              "      <td>NaN</td>\n",
              "      <td>NaN</td>\n",
              "      <td>NaN</td>\n",
              "      <td>NaN</td>\n",
              "      <td>NaN</td>\n",
              "      <td>NaN</td>\n",
              "      <td>2007</td>\n",
              "      <td>2010</td>\n",
              "    </tr>\n",
              "    <tr>\n",
              "      <th>1</th>\n",
              "      <td>1</td>\n",
              "      <td>1</td>\n",
              "      <td>1</td>\n",
              "      <td>1</td>\n",
              "      <td>1</td>\n",
              "      <td>0</td>\n",
              "      <td>0</td>\n",
              "      <td>30</td>\n",
              "      <td>1</td>\n",
              "      <td>10</td>\n",
              "      <td>51.0</td>\n",
              "      <td>2</td>\n",
              "      <td>0</td>\n",
              "      <td>3</td>\n",
              "      <td>0</td>\n",
              "      <td>0</td>\n",
              "      <td>NaN</td>\n",
              "      <td>NaN</td>\n",
              "      <td>NaN</td>\n",
              "      <td>NaN</td>\n",
              "      <td>NaN</td>\n",
              "      <td>NaN</td>\n",
              "      <td>NaN</td>\n",
              "      <td>2007</td>\n",
              "      <td>2010</td>\n",
              "    </tr>\n",
              "    <tr>\n",
              "      <th>2</th>\n",
              "      <td>1</td>\n",
              "      <td>1</td>\n",
              "      <td>1</td>\n",
              "      <td>1</td>\n",
              "      <td>1</td>\n",
              "      <td>3</td>\n",
              "      <td>1</td>\n",
              "      <td>26</td>\n",
              "      <td>1</td>\n",
              "      <td>10</td>\n",
              "      <td>51.0</td>\n",
              "      <td>6</td>\n",
              "      <td>0</td>\n",
              "      <td>3</td>\n",
              "      <td>0</td>\n",
              "      <td>0</td>\n",
              "      <td>NaN</td>\n",
              "      <td>NaN</td>\n",
              "      <td>NaN</td>\n",
              "      <td>NaN</td>\n",
              "      <td>NaN</td>\n",
              "      <td>NaN</td>\n",
              "      <td>NaN</td>\n",
              "      <td>2004</td>\n",
              "      <td>2010</td>\n",
              "    </tr>\n",
              "    <tr>\n",
              "      <th>3</th>\n",
              "      <td>1</td>\n",
              "      <td>1</td>\n",
              "      <td>1</td>\n",
              "      <td>1</td>\n",
              "      <td>1</td>\n",
              "      <td>1</td>\n",
              "      <td>0</td>\n",
              "      <td>21</td>\n",
              "      <td>1</td>\n",
              "      <td>10</td>\n",
              "      <td>51.0</td>\n",
              "      <td>6</td>\n",
              "      <td>0</td>\n",
              "      <td>1</td>\n",
              "      <td>0</td>\n",
              "      <td>0</td>\n",
              "      <td>NaN</td>\n",
              "      <td>NaN</td>\n",
              "      <td>NaN</td>\n",
              "      <td>NaN</td>\n",
              "      <td>NaN</td>\n",
              "      <td>NaN</td>\n",
              "      <td>NaN</td>\n",
              "      <td>2006</td>\n",
              "      <td>2010</td>\n",
              "    </tr>\n",
              "    <tr>\n",
              "      <th>4</th>\n",
              "      <td>1</td>\n",
              "      <td>1</td>\n",
              "      <td>1</td>\n",
              "      <td>1</td>\n",
              "      <td>1</td>\n",
              "      <td>6</td>\n",
              "      <td>0</td>\n",
              "      <td>35</td>\n",
              "      <td>1</td>\n",
              "      <td>10</td>\n",
              "      <td>43.0</td>\n",
              "      <td>3</td>\n",
              "      <td>0</td>\n",
              "      <td>3</td>\n",
              "      <td>0</td>\n",
              "      <td>0</td>\n",
              "      <td>NaN</td>\n",
              "      <td>NaN</td>\n",
              "      <td>NaN</td>\n",
              "      <td>NaN</td>\n",
              "      <td>NaN</td>\n",
              "      <td>NaN</td>\n",
              "      <td>NaN</td>\n",
              "      <td>2004</td>\n",
              "      <td>2010</td>\n",
              "    </tr>\n",
              "  </tbody>\n",
              "</table>\n",
              "</div>"
            ],
            "text/plain": [
              "   TP_CATEGORIA_ADMINISTRATIVA  CO_CURSO  ...  NU_ANO_INGRESSO  NU_ANO_CENSO\n",
              "0                            1         1  ...             2007          2010\n",
              "1                            1         1  ...             2007          2010\n",
              "2                            1         1  ...             2004          2010\n",
              "3                            1         1  ...             2006          2010\n",
              "4                            1         1  ...             2004          2010\n",
              "\n",
              "[5 rows x 25 columns]"
            ]
          },
          "metadata": {
            "tags": []
          },
          "execution_count": 51
        }
      ]
    },
    {
      "cell_type": "markdown",
      "metadata": {
        "id": "55Hc7RQrNUj3"
      },
      "source": [
        "Dados 2009"
      ]
    },
    {
      "cell_type": "code",
      "metadata": {
        "colab": {
          "base_uri": "https://localhost:8080/"
        },
        "id": "ssY1hCY_NXl3",
        "outputId": "90124567-b5a8-49ca-e331-3129cc5e38bc"
      },
      "source": [
        "with zipfile.ZipFile(\"/content/drive/MyDrive/Colab_Notebooks/Projeto Sigalei/microdados_censo_superior_2009.zip\") as z:\n",
        "  print(*z.namelist(), sep=\"\\n\")"
      ],
      "execution_count": 52,
      "outputs": [
        {
          "output_type": "stream",
          "text": [
            "microdados_censo_superior_2009/\n",
            "microdados_censo_superior_2009/2009/\n",
            "microdados_censo_superior_2009/2009/ANEXOS/\n",
            "microdados_censo_superior_2009/2009/ANEXOS/ANEXO I/\n",
            "microdados_censo_superior_2009/2009/ANEXOS/ANEXO II/\n",
            "microdados_censo_superior_2009/2009/ANEXOS/ANEXO II/ANEXO II - MαDULO ALUNO 2009.pdf\n",
            "microdados_censo_superior_2009/2009/ANEXOS/ANEXO II/ANEXO II - MαDULO CURSO 2009.pdf\n",
            "microdados_censo_superior_2009/2009/ANEXOS/ANEXO II/ANEXO II - MαDULO DOCENTE 2009.pdf\n",
            "microdados_censo_superior_2009/2009/ANEXOS/ANEXO II/ANEXO II - MαDULO IES 2009.pdf\n",
            "microdados_censo_superior_2009/2009/ANEXOS/ANEXO I/ANEXO I - 2009.xlsx\n",
            "microdados_censo_superior_2009/2009/DADOS/\n",
            "microdados_censo_superior_2009/2009/DADOS/DM_ALUNO/\n",
            "microdados_censo_superior_2009/2009/DADOS/DM_ALUNO.rar\n",
            "microdados_censo_superior_2009/2009/DADOS/DM_ALUNO/DM_ALUNO.CSV\n",
            "microdados_censo_superior_2009/2009/DADOS/DM_CURSO.rar\n",
            "microdados_censo_superior_2009/2009/DADOS/DM_DOCENTE.rar\n",
            "microdados_censo_superior_2009/2009/DADOS/DM_IES.rar\n",
            "microdados_censo_superior_2009/2009/DADOS/DM_UNIDADE_FUNCIONAMENTO.rar\n",
            "microdados_censo_superior_2009/2009/DADOS/DM_VAGAS_INSCRITOS_EAD.rar\n",
            "microdados_censo_superior_2009/2009/DADOS/md5_microdados_ed_superior_2009.txt\n",
            "microdados_censo_superior_2009/2009/FILTROS/\n",
            "microdados_censo_superior_2009/2009/FILTROS/Filtros Censo Ed Superior 2009.pdf\n",
            "microdados_censo_superior_2009/2009/LEIA-ME/\n",
            "microdados_censo_superior_2009/2009/LEIA-ME/LEIA-ME 2009.pdf\n"
          ],
          "name": "stdout"
        }
      ]
    },
    {
      "cell_type": "code",
      "metadata": {
        "id": "JePDFi-5U_ay"
      },
      "source": [
        "colunas3 = ['CO_CURSO', 'CO_GRAU_ACADEMICO', 'CO_CATEGORIA_ADMINISTRATIVA','CO_MODALIDADE_ENSINO', \n",
        "            'CO_NIVEL_ACADEMICO', 'CO_COR_RACA_ALUNO', 'IN_SEXO_ALUNO', 'NU_IDADE_ALUNO', 'CO_NACIONALIDADE_ALUNO', \n",
        "           'CO_PAIS_ORIGEM_ALUNO', 'CO_ALUNO_SITUACAO', 'IN_ING_VESTIBULAR', \n",
        "            'IN_ING_ENEM', 'IN_RESERVA_ETNICO', 'IN_RESERVA_ENSINO_PUBLICO', 'IN_RESERVA_RENDA_FAMILIAR', \n",
        "            'IN_FINANC_ESTUDANTIL', 'IN_FIES', 'IN_PROUNI_INTEGRAL', \n",
        "           'IN_PROUNI_PARCIAL', 'IN_APOIO_BOLSA_TRABALHO', 'ANO_INGRESSO'] "
      ],
      "execution_count": 53,
      "outputs": []
    },
    {
      "cell_type": "code",
      "metadata": {
        "id": "h7rvU416NXxq"
      },
      "source": [
        "with zipfile.ZipFile(\"/content/drive/MyDrive/Colab_Notebooks/Projeto Sigalei/microdados_censo_superior_2009.zip\") as z:\n",
        "   with z.open(\"microdados_censo_superior_2009/2009/DADOS/DM_ALUNO/DM_ALUNO.CSV\") as f:\n",
        "    df_2009 = pd.read_csv(f, sep=\"|\",usecols=colunas3, nrows=500)"
      ],
      "execution_count": 54,
      "outputs": []
    },
    {
      "cell_type": "code",
      "metadata": {
        "id": "-Jf_4vbBNXbT"
      },
      "source": [
        "df_2009[\"CO_UF_NASCIMENTO\"] = 'null'\n",
        "df_2009[\"CO_TURNO_ALUNO\"] = 'null'\n",
        "df_2009[\"NU_ANO_CENSO\"] = 2009"
      ],
      "execution_count": 55,
      "outputs": []
    },
    {
      "cell_type": "code",
      "metadata": {
        "colab": {
          "base_uri": "https://localhost:8080/",
          "height": 217
        },
        "id": "2_aiGVk1NXS6",
        "outputId": "f07266ed-ce50-46b8-ddca-e1e49d0778d7"
      },
      "source": [
        "df_2009.head()"
      ],
      "execution_count": 56,
      "outputs": [
        {
          "output_type": "execute_result",
          "data": {
            "text/html": [
              "<div>\n",
              "<style scoped>\n",
              "    .dataframe tbody tr th:only-of-type {\n",
              "        vertical-align: middle;\n",
              "    }\n",
              "\n",
              "    .dataframe tbody tr th {\n",
              "        vertical-align: top;\n",
              "    }\n",
              "\n",
              "    .dataframe thead th {\n",
              "        text-align: right;\n",
              "    }\n",
              "</style>\n",
              "<table border=\"1\" class=\"dataframe\">\n",
              "  <thead>\n",
              "    <tr style=\"text-align: right;\">\n",
              "      <th></th>\n",
              "      <th>CO_CATEGORIA_ADMINISTRATIVA</th>\n",
              "      <th>CO_CURSO</th>\n",
              "      <th>CO_NIVEL_ACADEMICO</th>\n",
              "      <th>CO_MODALIDADE_ENSINO</th>\n",
              "      <th>CO_GRAU_ACADEMICO</th>\n",
              "      <th>CO_ALUNO_SITUACAO</th>\n",
              "      <th>IN_ING_VESTIBULAR</th>\n",
              "      <th>IN_ING_ENEM</th>\n",
              "      <th>IN_APOIO_BOLSA_TRABALHO</th>\n",
              "      <th>IN_RESERVA_ENSINO_PUBLICO</th>\n",
              "      <th>IN_RESERVA_ETNICO</th>\n",
              "      <th>IN_RESERVA_RENDA_FAMILIAR</th>\n",
              "      <th>IN_FINANC_ESTUDANTIL</th>\n",
              "      <th>IN_PROUNI_INTEGRAL</th>\n",
              "      <th>IN_PROUNI_PARCIAL</th>\n",
              "      <th>IN_FIES</th>\n",
              "      <th>IN_SEXO_ALUNO</th>\n",
              "      <th>CO_COR_RACA_ALUNO</th>\n",
              "      <th>CO_NACIONALIDADE_ALUNO</th>\n",
              "      <th>CO_PAIS_ORIGEM_ALUNO</th>\n",
              "      <th>NU_IDADE_ALUNO</th>\n",
              "      <th>ANO_INGRESSO</th>\n",
              "      <th>CO_UF_NASCIMENTO</th>\n",
              "      <th>CO_TURNO_ALUNO</th>\n",
              "      <th>NU_ANO_CENSO</th>\n",
              "    </tr>\n",
              "  </thead>\n",
              "  <tbody>\n",
              "    <tr>\n",
              "      <th>0</th>\n",
              "      <td>4</td>\n",
              "      <td>18471</td>\n",
              "      <td>1</td>\n",
              "      <td>1</td>\n",
              "      <td>1</td>\n",
              "      <td>2</td>\n",
              "      <td>1</td>\n",
              "      <td>0</td>\n",
              "      <td>0</td>\n",
              "      <td>0</td>\n",
              "      <td>0</td>\n",
              "      <td>0</td>\n",
              "      <td>1</td>\n",
              "      <td>0</td>\n",
              "      <td>0</td>\n",
              "      <td>0</td>\n",
              "      <td>1</td>\n",
              "      <td>2</td>\n",
              "      <td>1</td>\n",
              "      <td>10</td>\n",
              "      <td>18</td>\n",
              "      <td>2009</td>\n",
              "      <td>null</td>\n",
              "      <td>null</td>\n",
              "      <td>2009</td>\n",
              "    </tr>\n",
              "    <tr>\n",
              "      <th>1</th>\n",
              "      <td>1</td>\n",
              "      <td>40171</td>\n",
              "      <td>1</td>\n",
              "      <td>1</td>\n",
              "      <td>1</td>\n",
              "      <td>2</td>\n",
              "      <td>1</td>\n",
              "      <td>0</td>\n",
              "      <td>0</td>\n",
              "      <td>0</td>\n",
              "      <td>0</td>\n",
              "      <td>0</td>\n",
              "      <td>0</td>\n",
              "      <td>0</td>\n",
              "      <td>0</td>\n",
              "      <td>0</td>\n",
              "      <td>0</td>\n",
              "      <td>6</td>\n",
              "      <td>1</td>\n",
              "      <td>10</td>\n",
              "      <td>18</td>\n",
              "      <td>2009</td>\n",
              "      <td>null</td>\n",
              "      <td>null</td>\n",
              "      <td>2009</td>\n",
              "    </tr>\n",
              "    <tr>\n",
              "      <th>2</th>\n",
              "      <td>4</td>\n",
              "      <td>82227</td>\n",
              "      <td>1</td>\n",
              "      <td>1</td>\n",
              "      <td>1</td>\n",
              "      <td>2</td>\n",
              "      <td>1</td>\n",
              "      <td>0</td>\n",
              "      <td>0</td>\n",
              "      <td>0</td>\n",
              "      <td>0</td>\n",
              "      <td>0</td>\n",
              "      <td>0</td>\n",
              "      <td>0</td>\n",
              "      <td>0</td>\n",
              "      <td>0</td>\n",
              "      <td>1</td>\n",
              "      <td>0</td>\n",
              "      <td>1</td>\n",
              "      <td>10</td>\n",
              "      <td>30</td>\n",
              "      <td>2009</td>\n",
              "      <td>null</td>\n",
              "      <td>null</td>\n",
              "      <td>2009</td>\n",
              "    </tr>\n",
              "    <tr>\n",
              "      <th>3</th>\n",
              "      <td>6</td>\n",
              "      <td>15474</td>\n",
              "      <td>1</td>\n",
              "      <td>1</td>\n",
              "      <td>1</td>\n",
              "      <td>4</td>\n",
              "      <td>1</td>\n",
              "      <td>0</td>\n",
              "      <td>0</td>\n",
              "      <td>0</td>\n",
              "      <td>0</td>\n",
              "      <td>0</td>\n",
              "      <td>0</td>\n",
              "      <td>0</td>\n",
              "      <td>0</td>\n",
              "      <td>0</td>\n",
              "      <td>0</td>\n",
              "      <td>6</td>\n",
              "      <td>1</td>\n",
              "      <td>10</td>\n",
              "      <td>19</td>\n",
              "      <td>2009</td>\n",
              "      <td>null</td>\n",
              "      <td>null</td>\n",
              "      <td>2009</td>\n",
              "    </tr>\n",
              "    <tr>\n",
              "      <th>4</th>\n",
              "      <td>4</td>\n",
              "      <td>86830</td>\n",
              "      <td>1</td>\n",
              "      <td>1</td>\n",
              "      <td>1</td>\n",
              "      <td>2</td>\n",
              "      <td>1</td>\n",
              "      <td>0</td>\n",
              "      <td>0</td>\n",
              "      <td>0</td>\n",
              "      <td>0</td>\n",
              "      <td>0</td>\n",
              "      <td>0</td>\n",
              "      <td>0</td>\n",
              "      <td>0</td>\n",
              "      <td>0</td>\n",
              "      <td>1</td>\n",
              "      <td>1</td>\n",
              "      <td>1</td>\n",
              "      <td>10</td>\n",
              "      <td>22</td>\n",
              "      <td>2009</td>\n",
              "      <td>null</td>\n",
              "      <td>null</td>\n",
              "      <td>2009</td>\n",
              "    </tr>\n",
              "  </tbody>\n",
              "</table>\n",
              "</div>"
            ],
            "text/plain": [
              "   CO_CATEGORIA_ADMINISTRATIVA  CO_CURSO  ...  CO_TURNO_ALUNO  NU_ANO_CENSO\n",
              "0                            4     18471  ...            null          2009\n",
              "1                            1     40171  ...            null          2009\n",
              "2                            4     82227  ...            null          2009\n",
              "3                            6     15474  ...            null          2009\n",
              "4                            4     86830  ...            null          2009\n",
              "\n",
              "[5 rows x 25 columns]"
            ]
          },
          "metadata": {
            "tags": []
          },
          "execution_count": 56
        }
      ]
    },
    {
      "cell_type": "code",
      "metadata": {
        "id": "FxqJ0T7GYVOL"
      },
      "source": [
        "df_2009.rename(columns={\"CO_GRAU_ACADEMICO\": \"TP_GRAU_ACADEMICO\", \"CO_CATEGORIA_ADMINISTRATIVA\": \"TP_CATEGORIA_ADMINISTRATIVA\", \"NU_IDADE_ALUNO\": \"NU_IDADE\", \"CO_NIVEL_ACADEMICO\": \"TP_NIVEL_ACADEMICO\",\n",
        "                        \"CO_MODALIDADE_ENSINO\": \"TP_MODALIDADE_ENSINO\", \"CO_TURNO_ALUNO\": \"TP_TURNO\", \"CO_PAIS_ORIGEM_ALUNO\": \"CO_PAIS_ORIGEM\",\n",
        "                        \"CO_NACIONALIDADE_ALUNO\": \"TP_NACIONALIDADE\", \"IN_SEXO_ALUNO\": \"TP_SEXO\", \"IN_ING_VESTIBULAR\": \"IN_INGRESSO_VESTIBULAR\",\n",
        "                        \"CO_COR_RACA_ALUNO\": \"TP_COR_RACA\", \"CO_ALUNO_SITUACAO\": \"TP_SITUACAO\", \"IN_FINANC_ESTUDANTIL\": \"IN_FINANCIAMENTO_ESTUDANTIL\",\n",
        "                        \"ANO_INGRESSO\": \"NU_ANO_INGRESSO\", \"IN_ING_ENEM\": \"IN_INGRESSO_ENEM\", \"IN_APOIO_BOLSA_TRABALHO\": \"IN_BOLSA_ESTAGIO\",\n",
        "                        \"IN_PROUNI_PARCIAL\": \"IN_FIN_NAOREEMB_PROUNI_PARCIAL\", \"IN_PROUNI_INTEGRAL\": \"IN_FIN_NAOREEMB_PROUNI_INTEGR\", \"IN_FIES\": \"'IN_FIN_REEMB_FIES\"}, inplace=True)"
      ],
      "execution_count": 57,
      "outputs": []
    },
    {
      "cell_type": "markdown",
      "metadata": {
        "id": "AJBtMHqwPXcz"
      },
      "source": [
        "Juntando os dados de todos os anos"
      ]
    },
    {
      "cell_type": "code",
      "metadata": {
        "id": "bfH1Il0vNW7c"
      },
      "source": [
        "anos = [df_2009, df_2010, df_2011, df_2012, df_2013, df_2014, df_2015, df_2016, df_2017, df_2018, df_2019]\n",
        "df_anos = pd.concat(anos)"
      ],
      "execution_count": 58,
      "outputs": []
    },
    {
      "cell_type": "code",
      "metadata": {
        "colab": {
          "base_uri": "https://localhost:8080/",
          "height": 217
        },
        "id": "iHFCq0_-NWw-",
        "outputId": "d97b2f1e-786e-4cdc-9f69-ebeb9ae6052c"
      },
      "source": [
        "df_anos.head()"
      ],
      "execution_count": 59,
      "outputs": [
        {
          "output_type": "execute_result",
          "data": {
            "text/html": [
              "<div>\n",
              "<style scoped>\n",
              "    .dataframe tbody tr th:only-of-type {\n",
              "        vertical-align: middle;\n",
              "    }\n",
              "\n",
              "    .dataframe tbody tr th {\n",
              "        vertical-align: top;\n",
              "    }\n",
              "\n",
              "    .dataframe thead th {\n",
              "        text-align: right;\n",
              "    }\n",
              "</style>\n",
              "<table border=\"1\" class=\"dataframe\">\n",
              "  <thead>\n",
              "    <tr style=\"text-align: right;\">\n",
              "      <th></th>\n",
              "      <th>TP_CATEGORIA_ADMINISTRATIVA</th>\n",
              "      <th>CO_CURSO</th>\n",
              "      <th>TP_NIVEL_ACADEMICO</th>\n",
              "      <th>TP_MODALIDADE_ENSINO</th>\n",
              "      <th>TP_GRAU_ACADEMICO</th>\n",
              "      <th>TP_SITUACAO</th>\n",
              "      <th>IN_INGRESSO_VESTIBULAR</th>\n",
              "      <th>IN_INGRESSO_ENEM</th>\n",
              "      <th>IN_BOLSA_ESTAGIO</th>\n",
              "      <th>IN_RESERVA_ENSINO_PUBLICO</th>\n",
              "      <th>IN_RESERVA_ETNICO</th>\n",
              "      <th>IN_RESERVA_RENDA_FAMILIAR</th>\n",
              "      <th>IN_FINANCIAMENTO_ESTUDANTIL</th>\n",
              "      <th>IN_FIN_NAOREEMB_PROUNI_INTEGR</th>\n",
              "      <th>IN_FIN_NAOREEMB_PROUNI_PARCIAL</th>\n",
              "      <th>'IN_FIN_REEMB_FIES</th>\n",
              "      <th>TP_SEXO</th>\n",
              "      <th>TP_COR_RACA</th>\n",
              "      <th>TP_NACIONALIDADE</th>\n",
              "      <th>CO_PAIS_ORIGEM</th>\n",
              "      <th>NU_IDADE</th>\n",
              "      <th>NU_ANO_INGRESSO</th>\n",
              "      <th>CO_UF_NASCIMENTO</th>\n",
              "      <th>TP_TURNO</th>\n",
              "      <th>NU_ANO_CENSO</th>\n",
              "      <th>IN_FIN_REEMB_FIES</th>\n",
              "    </tr>\n",
              "  </thead>\n",
              "  <tbody>\n",
              "    <tr>\n",
              "      <th>0</th>\n",
              "      <td>4</td>\n",
              "      <td>18471</td>\n",
              "      <td>1</td>\n",
              "      <td>1</td>\n",
              "      <td>1.0</td>\n",
              "      <td>2</td>\n",
              "      <td>1</td>\n",
              "      <td>0</td>\n",
              "      <td>0.0</td>\n",
              "      <td>0.0</td>\n",
              "      <td>0.0</td>\n",
              "      <td>0.0</td>\n",
              "      <td>1.0</td>\n",
              "      <td>0.0</td>\n",
              "      <td>0.0</td>\n",
              "      <td>0.0</td>\n",
              "      <td>1</td>\n",
              "      <td>2</td>\n",
              "      <td>1</td>\n",
              "      <td>10</td>\n",
              "      <td>18</td>\n",
              "      <td>2009</td>\n",
              "      <td>null</td>\n",
              "      <td>null</td>\n",
              "      <td>2009</td>\n",
              "      <td>NaN</td>\n",
              "    </tr>\n",
              "    <tr>\n",
              "      <th>1</th>\n",
              "      <td>1</td>\n",
              "      <td>40171</td>\n",
              "      <td>1</td>\n",
              "      <td>1</td>\n",
              "      <td>1.0</td>\n",
              "      <td>2</td>\n",
              "      <td>1</td>\n",
              "      <td>0</td>\n",
              "      <td>0.0</td>\n",
              "      <td>0.0</td>\n",
              "      <td>0.0</td>\n",
              "      <td>0.0</td>\n",
              "      <td>0.0</td>\n",
              "      <td>0.0</td>\n",
              "      <td>0.0</td>\n",
              "      <td>0.0</td>\n",
              "      <td>0</td>\n",
              "      <td>6</td>\n",
              "      <td>1</td>\n",
              "      <td>10</td>\n",
              "      <td>18</td>\n",
              "      <td>2009</td>\n",
              "      <td>null</td>\n",
              "      <td>null</td>\n",
              "      <td>2009</td>\n",
              "      <td>NaN</td>\n",
              "    </tr>\n",
              "    <tr>\n",
              "      <th>2</th>\n",
              "      <td>4</td>\n",
              "      <td>82227</td>\n",
              "      <td>1</td>\n",
              "      <td>1</td>\n",
              "      <td>1.0</td>\n",
              "      <td>2</td>\n",
              "      <td>1</td>\n",
              "      <td>0</td>\n",
              "      <td>0.0</td>\n",
              "      <td>0.0</td>\n",
              "      <td>0.0</td>\n",
              "      <td>0.0</td>\n",
              "      <td>0.0</td>\n",
              "      <td>0.0</td>\n",
              "      <td>0.0</td>\n",
              "      <td>0.0</td>\n",
              "      <td>1</td>\n",
              "      <td>0</td>\n",
              "      <td>1</td>\n",
              "      <td>10</td>\n",
              "      <td>30</td>\n",
              "      <td>2009</td>\n",
              "      <td>null</td>\n",
              "      <td>null</td>\n",
              "      <td>2009</td>\n",
              "      <td>NaN</td>\n",
              "    </tr>\n",
              "    <tr>\n",
              "      <th>3</th>\n",
              "      <td>6</td>\n",
              "      <td>15474</td>\n",
              "      <td>1</td>\n",
              "      <td>1</td>\n",
              "      <td>1.0</td>\n",
              "      <td>4</td>\n",
              "      <td>1</td>\n",
              "      <td>0</td>\n",
              "      <td>0.0</td>\n",
              "      <td>0.0</td>\n",
              "      <td>0.0</td>\n",
              "      <td>0.0</td>\n",
              "      <td>0.0</td>\n",
              "      <td>0.0</td>\n",
              "      <td>0.0</td>\n",
              "      <td>0.0</td>\n",
              "      <td>0</td>\n",
              "      <td>6</td>\n",
              "      <td>1</td>\n",
              "      <td>10</td>\n",
              "      <td>19</td>\n",
              "      <td>2009</td>\n",
              "      <td>null</td>\n",
              "      <td>null</td>\n",
              "      <td>2009</td>\n",
              "      <td>NaN</td>\n",
              "    </tr>\n",
              "    <tr>\n",
              "      <th>4</th>\n",
              "      <td>4</td>\n",
              "      <td>86830</td>\n",
              "      <td>1</td>\n",
              "      <td>1</td>\n",
              "      <td>1.0</td>\n",
              "      <td>2</td>\n",
              "      <td>1</td>\n",
              "      <td>0</td>\n",
              "      <td>0.0</td>\n",
              "      <td>0.0</td>\n",
              "      <td>0.0</td>\n",
              "      <td>0.0</td>\n",
              "      <td>0.0</td>\n",
              "      <td>0.0</td>\n",
              "      <td>0.0</td>\n",
              "      <td>0.0</td>\n",
              "      <td>1</td>\n",
              "      <td>1</td>\n",
              "      <td>1</td>\n",
              "      <td>10</td>\n",
              "      <td>22</td>\n",
              "      <td>2009</td>\n",
              "      <td>null</td>\n",
              "      <td>null</td>\n",
              "      <td>2009</td>\n",
              "      <td>NaN</td>\n",
              "    </tr>\n",
              "  </tbody>\n",
              "</table>\n",
              "</div>"
            ],
            "text/plain": [
              "   TP_CATEGORIA_ADMINISTRATIVA  CO_CURSO  ...  NU_ANO_CENSO  IN_FIN_REEMB_FIES\n",
              "0                            4     18471  ...          2009                NaN\n",
              "1                            1     40171  ...          2009                NaN\n",
              "2                            4     82227  ...          2009                NaN\n",
              "3                            6     15474  ...          2009                NaN\n",
              "4                            4     86830  ...          2009                NaN\n",
              "\n",
              "[5 rows x 26 columns]"
            ]
          },
          "metadata": {
            "tags": []
          },
          "execution_count": 59
        }
      ]
    },
    {
      "cell_type": "markdown",
      "metadata": {
        "id": "wcVsW-PPTdzw"
      },
      "source": [
        "Carregando o dataset com o nome dos cursos"
      ]
    },
    {
      "cell_type": "code",
      "metadata": {
        "id": "5Z6WNck-RGzT"
      },
      "source": [
        "with zipfile.ZipFile(\"/content/drive/MyDrive/Colab_Notebooks/Projeto Sigalei/microdados_educacao_superior_2019.zip\") as z:\n",
        "  with z.open(\"Microdados_Educaç╞o_Superior_2019/dados/SUP_CURSO_2019.CSV\") as f:\n",
        "    df_curso = pd.read_csv(f, sep=\"|\",usecols=[\"CO_CURSO\", \"NO_CURSO\"], encoding=\"ISO-8859-1\")"
      ],
      "execution_count": 60,
      "outputs": []
    },
    {
      "cell_type": "code",
      "metadata": {
        "colab": {
          "base_uri": "https://localhost:8080/",
          "height": 197
        },
        "id": "JuhJvZW-Odp5",
        "outputId": "f11071e0-c667-4a11-a7df-090bc7d811c0"
      },
      "source": [
        "df_curso.head()"
      ],
      "execution_count": 61,
      "outputs": [
        {
          "output_type": "execute_result",
          "data": {
            "text/html": [
              "<div>\n",
              "<style scoped>\n",
              "    .dataframe tbody tr th:only-of-type {\n",
              "        vertical-align: middle;\n",
              "    }\n",
              "\n",
              "    .dataframe tbody tr th {\n",
              "        vertical-align: top;\n",
              "    }\n",
              "\n",
              "    .dataframe thead th {\n",
              "        text-align: right;\n",
              "    }\n",
              "</style>\n",
              "<table border=\"1\" class=\"dataframe\">\n",
              "  <thead>\n",
              "    <tr style=\"text-align: right;\">\n",
              "      <th></th>\n",
              "      <th>CO_CURSO</th>\n",
              "      <th>NO_CURSO</th>\n",
              "    </tr>\n",
              "  </thead>\n",
              "  <tbody>\n",
              "    <tr>\n",
              "      <th>0</th>\n",
              "      <td>1</td>\n",
              "      <td>DIREITO</td>\n",
              "    </tr>\n",
              "    <tr>\n",
              "      <th>1</th>\n",
              "      <td>2</td>\n",
              "      <td>CIÊNCIAS ECONÔMICAS</td>\n",
              "    </tr>\n",
              "    <tr>\n",
              "      <th>2</th>\n",
              "      <td>3</td>\n",
              "      <td>ENGENHARIA CIVIL</td>\n",
              "    </tr>\n",
              "    <tr>\n",
              "      <th>3</th>\n",
              "      <td>6</td>\n",
              "      <td>PEDAGOGIA</td>\n",
              "    </tr>\n",
              "    <tr>\n",
              "      <th>4</th>\n",
              "      <td>7</td>\n",
              "      <td>SERVIÇO SOCIAL</td>\n",
              "    </tr>\n",
              "  </tbody>\n",
              "</table>\n",
              "</div>"
            ],
            "text/plain": [
              "   CO_CURSO             NO_CURSO\n",
              "0         1              DIREITO\n",
              "1         2  CIÊNCIAS ECONÔMICAS\n",
              "2         3     ENGENHARIA CIVIL\n",
              "3         6            PEDAGOGIA\n",
              "4         7       SERVIÇO SOCIAL"
            ]
          },
          "metadata": {
            "tags": []
          },
          "execution_count": 61
        }
      ]
    },
    {
      "cell_type": "markdown",
      "metadata": {
        "id": "71oUWAt5quMz"
      },
      "source": [
        "# Análise Exploratória"
      ]
    },
    {
      "cell_type": "markdown",
      "metadata": {
        "id": "s-tRARoNVgdS"
      },
      "source": [
        "Juntar os datasets do censo com o nome dos cursos"
      ]
    },
    {
      "cell_type": "code",
      "metadata": {
        "id": "EAAdyEWAVe12"
      },
      "source": [
        "df_completo = pd.merge(df_anos, df_curso, on=\"CO_CURSO\")"
      ],
      "execution_count": 62,
      "outputs": []
    },
    {
      "cell_type": "code",
      "metadata": {
        "colab": {
          "base_uri": "https://localhost:8080/",
          "height": 234
        },
        "id": "T7XLmyxDRW4Q",
        "outputId": "dbb02817-e1c0-4b91-bfcd-cdfeb713a9bc"
      },
      "source": [
        "df_completo.head()"
      ],
      "execution_count": 63,
      "outputs": [
        {
          "output_type": "execute_result",
          "data": {
            "text/html": [
              "<div>\n",
              "<style scoped>\n",
              "    .dataframe tbody tr th:only-of-type {\n",
              "        vertical-align: middle;\n",
              "    }\n",
              "\n",
              "    .dataframe tbody tr th {\n",
              "        vertical-align: top;\n",
              "    }\n",
              "\n",
              "    .dataframe thead th {\n",
              "        text-align: right;\n",
              "    }\n",
              "</style>\n",
              "<table border=\"1\" class=\"dataframe\">\n",
              "  <thead>\n",
              "    <tr style=\"text-align: right;\">\n",
              "      <th></th>\n",
              "      <th>TP_CATEGORIA_ADMINISTRATIVA</th>\n",
              "      <th>CO_CURSO</th>\n",
              "      <th>TP_NIVEL_ACADEMICO</th>\n",
              "      <th>TP_MODALIDADE_ENSINO</th>\n",
              "      <th>TP_GRAU_ACADEMICO</th>\n",
              "      <th>TP_SITUACAO</th>\n",
              "      <th>IN_INGRESSO_VESTIBULAR</th>\n",
              "      <th>IN_INGRESSO_ENEM</th>\n",
              "      <th>IN_BOLSA_ESTAGIO</th>\n",
              "      <th>IN_RESERVA_ENSINO_PUBLICO</th>\n",
              "      <th>IN_RESERVA_ETNICO</th>\n",
              "      <th>IN_RESERVA_RENDA_FAMILIAR</th>\n",
              "      <th>IN_FINANCIAMENTO_ESTUDANTIL</th>\n",
              "      <th>IN_FIN_NAOREEMB_PROUNI_INTEGR</th>\n",
              "      <th>IN_FIN_NAOREEMB_PROUNI_PARCIAL</th>\n",
              "      <th>'IN_FIN_REEMB_FIES</th>\n",
              "      <th>TP_SEXO</th>\n",
              "      <th>TP_COR_RACA</th>\n",
              "      <th>TP_NACIONALIDADE</th>\n",
              "      <th>CO_PAIS_ORIGEM</th>\n",
              "      <th>NU_IDADE</th>\n",
              "      <th>NU_ANO_INGRESSO</th>\n",
              "      <th>CO_UF_NASCIMENTO</th>\n",
              "      <th>TP_TURNO</th>\n",
              "      <th>NU_ANO_CENSO</th>\n",
              "      <th>IN_FIN_REEMB_FIES</th>\n",
              "      <th>NO_CURSO</th>\n",
              "    </tr>\n",
              "  </thead>\n",
              "  <tbody>\n",
              "    <tr>\n",
              "      <th>0</th>\n",
              "      <td>4</td>\n",
              "      <td>18471</td>\n",
              "      <td>1</td>\n",
              "      <td>1</td>\n",
              "      <td>1.0</td>\n",
              "      <td>2</td>\n",
              "      <td>1</td>\n",
              "      <td>0</td>\n",
              "      <td>0.0</td>\n",
              "      <td>0.0</td>\n",
              "      <td>0.0</td>\n",
              "      <td>0.0</td>\n",
              "      <td>1.0</td>\n",
              "      <td>0.0</td>\n",
              "      <td>0.0</td>\n",
              "      <td>0.0</td>\n",
              "      <td>1</td>\n",
              "      <td>2</td>\n",
              "      <td>1</td>\n",
              "      <td>10</td>\n",
              "      <td>18</td>\n",
              "      <td>2009</td>\n",
              "      <td>null</td>\n",
              "      <td>null</td>\n",
              "      <td>2009</td>\n",
              "      <td>NaN</td>\n",
              "      <td>ARQUITETURA E URBANISMO</td>\n",
              "    </tr>\n",
              "    <tr>\n",
              "      <th>1</th>\n",
              "      <td>4</td>\n",
              "      <td>82227</td>\n",
              "      <td>1</td>\n",
              "      <td>1</td>\n",
              "      <td>1.0</td>\n",
              "      <td>2</td>\n",
              "      <td>1</td>\n",
              "      <td>0</td>\n",
              "      <td>0.0</td>\n",
              "      <td>0.0</td>\n",
              "      <td>0.0</td>\n",
              "      <td>0.0</td>\n",
              "      <td>0.0</td>\n",
              "      <td>0.0</td>\n",
              "      <td>0.0</td>\n",
              "      <td>0.0</td>\n",
              "      <td>1</td>\n",
              "      <td>0</td>\n",
              "      <td>1</td>\n",
              "      <td>10</td>\n",
              "      <td>30</td>\n",
              "      <td>2009</td>\n",
              "      <td>null</td>\n",
              "      <td>null</td>\n",
              "      <td>2009</td>\n",
              "      <td>NaN</td>\n",
              "      <td>ODONTOLOGIA</td>\n",
              "    </tr>\n",
              "    <tr>\n",
              "      <th>2</th>\n",
              "      <td>6</td>\n",
              "      <td>15474</td>\n",
              "      <td>1</td>\n",
              "      <td>1</td>\n",
              "      <td>1.0</td>\n",
              "      <td>4</td>\n",
              "      <td>1</td>\n",
              "      <td>0</td>\n",
              "      <td>0.0</td>\n",
              "      <td>0.0</td>\n",
              "      <td>0.0</td>\n",
              "      <td>0.0</td>\n",
              "      <td>0.0</td>\n",
              "      <td>0.0</td>\n",
              "      <td>0.0</td>\n",
              "      <td>0.0</td>\n",
              "      <td>0</td>\n",
              "      <td>6</td>\n",
              "      <td>1</td>\n",
              "      <td>10</td>\n",
              "      <td>19</td>\n",
              "      <td>2009</td>\n",
              "      <td>null</td>\n",
              "      <td>null</td>\n",
              "      <td>2009</td>\n",
              "      <td>NaN</td>\n",
              "      <td>ADMINISTRAÇÃO</td>\n",
              "    </tr>\n",
              "    <tr>\n",
              "      <th>3</th>\n",
              "      <td>4</td>\n",
              "      <td>86830</td>\n",
              "      <td>1</td>\n",
              "      <td>1</td>\n",
              "      <td>1.0</td>\n",
              "      <td>2</td>\n",
              "      <td>1</td>\n",
              "      <td>0</td>\n",
              "      <td>0.0</td>\n",
              "      <td>0.0</td>\n",
              "      <td>0.0</td>\n",
              "      <td>0.0</td>\n",
              "      <td>0.0</td>\n",
              "      <td>0.0</td>\n",
              "      <td>0.0</td>\n",
              "      <td>0.0</td>\n",
              "      <td>1</td>\n",
              "      <td>1</td>\n",
              "      <td>1</td>\n",
              "      <td>10</td>\n",
              "      <td>22</td>\n",
              "      <td>2009</td>\n",
              "      <td>null</td>\n",
              "      <td>null</td>\n",
              "      <td>2009</td>\n",
              "      <td>NaN</td>\n",
              "      <td>ENFERMAGEM</td>\n",
              "    </tr>\n",
              "    <tr>\n",
              "      <th>4</th>\n",
              "      <td>4</td>\n",
              "      <td>73476</td>\n",
              "      <td>1</td>\n",
              "      <td>1</td>\n",
              "      <td>1.0</td>\n",
              "      <td>2</td>\n",
              "      <td>0</td>\n",
              "      <td>0</td>\n",
              "      <td>0.0</td>\n",
              "      <td>0.0</td>\n",
              "      <td>0.0</td>\n",
              "      <td>0.0</td>\n",
              "      <td>0.0</td>\n",
              "      <td>0.0</td>\n",
              "      <td>0.0</td>\n",
              "      <td>0.0</td>\n",
              "      <td>0</td>\n",
              "      <td>2</td>\n",
              "      <td>1</td>\n",
              "      <td>10</td>\n",
              "      <td>18</td>\n",
              "      <td>2009</td>\n",
              "      <td>null</td>\n",
              "      <td>null</td>\n",
              "      <td>2009</td>\n",
              "      <td>NaN</td>\n",
              "      <td>ADMINISTRAÇÃO</td>\n",
              "    </tr>\n",
              "  </tbody>\n",
              "</table>\n",
              "</div>"
            ],
            "text/plain": [
              "   TP_CATEGORIA_ADMINISTRATIVA  ...                 NO_CURSO\n",
              "0                            4  ...  ARQUITETURA E URBANISMO\n",
              "1                            4  ...              ODONTOLOGIA\n",
              "2                            6  ...            ADMINISTRAÇÃO\n",
              "3                            4  ...               ENFERMAGEM\n",
              "4                            4  ...            ADMINISTRAÇÃO\n",
              "\n",
              "[5 rows x 27 columns]"
            ]
          },
          "metadata": {
            "tags": []
          },
          "execution_count": 63
        }
      ]
    },
    {
      "cell_type": "code",
      "metadata": {
        "colab": {
          "base_uri": "https://localhost:8080/"
        },
        "id": "WrI-3zYza_0v",
        "outputId": "6ff60fda-e0a3-4ea7-b7d1-05b3e442abd6"
      },
      "source": [
        "df_completo.shape"
      ],
      "execution_count": 64,
      "outputs": [
        {
          "output_type": "execute_result",
          "data": {
            "text/plain": [
              "(5142, 27)"
            ]
          },
          "metadata": {
            "tags": []
          },
          "execution_count": 64
        }
      ]
    },
    {
      "cell_type": "code",
      "metadata": {
        "colab": {
          "base_uri": "https://localhost:8080/",
          "height": 307
        },
        "id": "pfpGC9NBpwfi",
        "outputId": "119f3a93-6c21-4fce-f9c3-89de1bcf8d00"
      },
      "source": [
        "df_completo.describe()"
      ],
      "execution_count": 65,
      "outputs": [
        {
          "output_type": "execute_result",
          "data": {
            "text/html": [
              "<div>\n",
              "<style scoped>\n",
              "    .dataframe tbody tr th:only-of-type {\n",
              "        vertical-align: middle;\n",
              "    }\n",
              "\n",
              "    .dataframe tbody tr th {\n",
              "        vertical-align: top;\n",
              "    }\n",
              "\n",
              "    .dataframe thead th {\n",
              "        text-align: right;\n",
              "    }\n",
              "</style>\n",
              "<table border=\"1\" class=\"dataframe\">\n",
              "  <thead>\n",
              "    <tr style=\"text-align: right;\">\n",
              "      <th></th>\n",
              "      <th>TP_CATEGORIA_ADMINISTRATIVA</th>\n",
              "      <th>CO_CURSO</th>\n",
              "      <th>TP_NIVEL_ACADEMICO</th>\n",
              "      <th>TP_MODALIDADE_ENSINO</th>\n",
              "      <th>TP_GRAU_ACADEMICO</th>\n",
              "      <th>TP_SITUACAO</th>\n",
              "      <th>IN_INGRESSO_VESTIBULAR</th>\n",
              "      <th>IN_INGRESSO_ENEM</th>\n",
              "      <th>IN_BOLSA_ESTAGIO</th>\n",
              "      <th>IN_RESERVA_ENSINO_PUBLICO</th>\n",
              "      <th>IN_RESERVA_ETNICO</th>\n",
              "      <th>IN_RESERVA_RENDA_FAMILIAR</th>\n",
              "      <th>IN_FINANCIAMENTO_ESTUDANTIL</th>\n",
              "      <th>IN_FIN_NAOREEMB_PROUNI_INTEGR</th>\n",
              "      <th>IN_FIN_NAOREEMB_PROUNI_PARCIAL</th>\n",
              "      <th>'IN_FIN_REEMB_FIES</th>\n",
              "      <th>TP_SEXO</th>\n",
              "      <th>TP_COR_RACA</th>\n",
              "      <th>TP_NACIONALIDADE</th>\n",
              "      <th>CO_PAIS_ORIGEM</th>\n",
              "      <th>NU_IDADE</th>\n",
              "      <th>NU_ANO_INGRESSO</th>\n",
              "      <th>NU_ANO_CENSO</th>\n",
              "      <th>IN_FIN_REEMB_FIES</th>\n",
              "    </tr>\n",
              "  </thead>\n",
              "  <tbody>\n",
              "    <tr>\n",
              "      <th>count</th>\n",
              "      <td>5142.000000</td>\n",
              "      <td>5.142000e+03</td>\n",
              "      <td>5142.0</td>\n",
              "      <td>5142.000000</td>\n",
              "      <td>5141.000000</td>\n",
              "      <td>5142.000000</td>\n",
              "      <td>5142.000000</td>\n",
              "      <td>5142.000000</td>\n",
              "      <td>431.000000</td>\n",
              "      <td>1607.000000</td>\n",
              "      <td>1607.000000</td>\n",
              "      <td>1607.000000</td>\n",
              "      <td>1569.000000</td>\n",
              "      <td>574.000000</td>\n",
              "      <td>574.000000</td>\n",
              "      <td>401.000000</td>\n",
              "      <td>5142.000000</td>\n",
              "      <td>5142.000000</td>\n",
              "      <td>5142.000000</td>\n",
              "      <td>5142.000000</td>\n",
              "      <td>5142.000000</td>\n",
              "      <td>5142.000000</td>\n",
              "      <td>5142.000000</td>\n",
              "      <td>173.000000</td>\n",
              "    </tr>\n",
              "    <tr>\n",
              "      <th>mean</th>\n",
              "      <td>1.647025</td>\n",
              "      <td>7.318611e+04</td>\n",
              "      <td>1.0</td>\n",
              "      <td>1.023532</td>\n",
              "      <td>1.178759</td>\n",
              "      <td>2.832166</td>\n",
              "      <td>0.249708</td>\n",
              "      <td>0.601711</td>\n",
              "      <td>0.020882</td>\n",
              "      <td>0.740510</td>\n",
              "      <td>0.479154</td>\n",
              "      <td>0.324829</td>\n",
              "      <td>0.154876</td>\n",
              "      <td>0.162021</td>\n",
              "      <td>0.092334</td>\n",
              "      <td>0.009975</td>\n",
              "      <td>0.811746</td>\n",
              "      <td>2.288215</td>\n",
              "      <td>1.003695</td>\n",
              "      <td>36.063399</td>\n",
              "      <td>26.746402</td>\n",
              "      <td>2011.635356</td>\n",
              "      <td>2014.248736</td>\n",
              "      <td>0.144509</td>\n",
              "    </tr>\n",
              "    <tr>\n",
              "      <th>std</th>\n",
              "      <td>1.328422</td>\n",
              "      <td>2.976674e+05</td>\n",
              "      <td>0.0</td>\n",
              "      <td>0.151600</td>\n",
              "      <td>0.486135</td>\n",
              "      <td>1.352640</td>\n",
              "      <td>0.432886</td>\n",
              "      <td>0.489593</td>\n",
              "      <td>0.143154</td>\n",
              "      <td>0.438491</td>\n",
              "      <td>0.499721</td>\n",
              "      <td>0.468457</td>\n",
              "      <td>0.361902</td>\n",
              "      <td>0.368791</td>\n",
              "      <td>0.289750</td>\n",
              "      <td>0.099500</td>\n",
              "      <td>0.710300</td>\n",
              "      <td>1.656500</td>\n",
              "      <td>0.084755</td>\n",
              "      <td>34.664607</td>\n",
              "      <td>7.701483</td>\n",
              "      <td>3.696713</td>\n",
              "      <td>3.106640</td>\n",
              "      <td>0.352625</td>\n",
              "    </tr>\n",
              "    <tr>\n",
              "      <th>min</th>\n",
              "      <td>1.000000</td>\n",
              "      <td>1.000000e+00</td>\n",
              "      <td>1.0</td>\n",
              "      <td>1.000000</td>\n",
              "      <td>1.000000</td>\n",
              "      <td>1.000000</td>\n",
              "      <td>0.000000</td>\n",
              "      <td>0.000000</td>\n",
              "      <td>0.000000</td>\n",
              "      <td>0.000000</td>\n",
              "      <td>0.000000</td>\n",
              "      <td>0.000000</td>\n",
              "      <td>0.000000</td>\n",
              "      <td>0.000000</td>\n",
              "      <td>0.000000</td>\n",
              "      <td>0.000000</td>\n",
              "      <td>0.000000</td>\n",
              "      <td>0.000000</td>\n",
              "      <td>1.000000</td>\n",
              "      <td>10.000000</td>\n",
              "      <td>16.000000</td>\n",
              "      <td>1988.000000</td>\n",
              "      <td>2009.000000</td>\n",
              "      <td>0.000000</td>\n",
              "    </tr>\n",
              "    <tr>\n",
              "      <th>25%</th>\n",
              "      <td>1.000000</td>\n",
              "      <td>1.000000e+00</td>\n",
              "      <td>1.0</td>\n",
              "      <td>1.000000</td>\n",
              "      <td>1.000000</td>\n",
              "      <td>2.000000</td>\n",
              "      <td>0.000000</td>\n",
              "      <td>0.000000</td>\n",
              "      <td>0.000000</td>\n",
              "      <td>0.000000</td>\n",
              "      <td>0.000000</td>\n",
              "      <td>0.000000</td>\n",
              "      <td>0.000000</td>\n",
              "      <td>0.000000</td>\n",
              "      <td>0.000000</td>\n",
              "      <td>0.000000</td>\n",
              "      <td>0.000000</td>\n",
              "      <td>1.000000</td>\n",
              "      <td>1.000000</td>\n",
              "      <td>10.000000</td>\n",
              "      <td>21.000000</td>\n",
              "      <td>2009.000000</td>\n",
              "      <td>2012.000000</td>\n",
              "      <td>0.000000</td>\n",
              "    </tr>\n",
              "    <tr>\n",
              "      <th>50%</th>\n",
              "      <td>1.000000</td>\n",
              "      <td>1.000000e+00</td>\n",
              "      <td>1.0</td>\n",
              "      <td>1.000000</td>\n",
              "      <td>1.000000</td>\n",
              "      <td>2.000000</td>\n",
              "      <td>0.000000</td>\n",
              "      <td>1.000000</td>\n",
              "      <td>0.000000</td>\n",
              "      <td>1.000000</td>\n",
              "      <td>0.000000</td>\n",
              "      <td>0.000000</td>\n",
              "      <td>0.000000</td>\n",
              "      <td>0.000000</td>\n",
              "      <td>0.000000</td>\n",
              "      <td>0.000000</td>\n",
              "      <td>1.000000</td>\n",
              "      <td>2.000000</td>\n",
              "      <td>1.000000</td>\n",
              "      <td>10.000000</td>\n",
              "      <td>24.000000</td>\n",
              "      <td>2011.000000</td>\n",
              "      <td>2014.000000</td>\n",
              "      <td>0.000000</td>\n",
              "    </tr>\n",
              "    <tr>\n",
              "      <th>75%</th>\n",
              "      <td>1.000000</td>\n",
              "      <td>2.175125e+04</td>\n",
              "      <td>1.0</td>\n",
              "      <td>1.000000</td>\n",
              "      <td>1.000000</td>\n",
              "      <td>3.000000</td>\n",
              "      <td>0.000000</td>\n",
              "      <td>1.000000</td>\n",
              "      <td>0.000000</td>\n",
              "      <td>1.000000</td>\n",
              "      <td>1.000000</td>\n",
              "      <td>1.000000</td>\n",
              "      <td>0.000000</td>\n",
              "      <td>0.000000</td>\n",
              "      <td>0.000000</td>\n",
              "      <td>0.000000</td>\n",
              "      <td>1.000000</td>\n",
              "      <td>3.000000</td>\n",
              "      <td>1.000000</td>\n",
              "      <td>76.000000</td>\n",
              "      <td>31.000000</td>\n",
              "      <td>2014.000000</td>\n",
              "      <td>2017.000000</td>\n",
              "      <td>0.000000</td>\n",
              "    </tr>\n",
              "    <tr>\n",
              "      <th>max</th>\n",
              "      <td>6.000000</td>\n",
              "      <td>5.000568e+06</td>\n",
              "      <td>1.0</td>\n",
              "      <td>2.000000</td>\n",
              "      <td>4.000000</td>\n",
              "      <td>7.000000</td>\n",
              "      <td>1.000000</td>\n",
              "      <td>1.000000</td>\n",
              "      <td>1.000000</td>\n",
              "      <td>1.000000</td>\n",
              "      <td>1.000000</td>\n",
              "      <td>1.000000</td>\n",
              "      <td>1.000000</td>\n",
              "      <td>1.000000</td>\n",
              "      <td>1.000000</td>\n",
              "      <td>1.000000</td>\n",
              "      <td>2.000000</td>\n",
              "      <td>6.000000</td>\n",
              "      <td>3.000000</td>\n",
              "      <td>600.000000</td>\n",
              "      <td>84.000000</td>\n",
              "      <td>2019.000000</td>\n",
              "      <td>2019.000000</td>\n",
              "      <td>1.000000</td>\n",
              "    </tr>\n",
              "  </tbody>\n",
              "</table>\n",
              "</div>"
            ],
            "text/plain": [
              "       TP_CATEGORIA_ADMINISTRATIVA  ...  IN_FIN_REEMB_FIES\n",
              "count                  5142.000000  ...         173.000000\n",
              "mean                      1.647025  ...           0.144509\n",
              "std                       1.328422  ...           0.352625\n",
              "min                       1.000000  ...           0.000000\n",
              "25%                       1.000000  ...           0.000000\n",
              "50%                       1.000000  ...           0.000000\n",
              "75%                       1.000000  ...           0.000000\n",
              "max                       6.000000  ...           1.000000\n",
              "\n",
              "[8 rows x 24 columns]"
            ]
          },
          "metadata": {
            "tags": []
          },
          "execution_count": 65
        }
      ]
    },
    {
      "cell_type": "code",
      "metadata": {
        "id": "UiPyBTrTpzWX",
        "colab": {
          "base_uri": "https://localhost:8080/"
        },
        "outputId": "31f073dd-03a8-4a8a-fda3-7b046ee9990c"
      },
      "source": [
        "df.info()"
      ],
      "execution_count": 66,
      "outputs": [
        {
          "output_type": "stream",
          "text": [
            "<class 'pandas.core.frame.DataFrame'>\n",
            "Index: 0 entries\n",
            "Columns: 105 entries, NU_ANO_CENSO to NU_ANO_INGRESSO\n",
            "dtypes: object(105)\n",
            "memory usage: 0.0+ bytes\n"
          ],
          "name": "stdout"
        }
      ]
    },
    {
      "cell_type": "code",
      "metadata": {
        "id": "gSP48gzDq7lY",
        "colab": {
          "base_uri": "https://localhost:8080/"
        },
        "outputId": "3435b3cb-b7a9-4796-e1e9-83a95912354c"
      },
      "source": [
        "df.isnull().sum().sort_values()"
      ],
      "execution_count": 67,
      "outputs": [
        {
          "output_type": "execute_result",
          "data": {
            "text/plain": [
              "NU_ANO_CENSO                   0\n",
              "IN_APOIO_ALIMENTACAO           0\n",
              "IN_APOIO_SOCIAL                0\n",
              "IN_FIN_NAOREEMB_OUTRA          0\n",
              "IN_FIN_NAOREEMB_ENT_EXTERNA    0\n",
              "                              ..\n",
              "IN_DEFICIENCIA_SURDEZ          0\n",
              "IN_DEFICIENCIA_MULTIPLA        0\n",
              "IN_DEFICIENCIA_INTELECTUAL     0\n",
              "IN_INGRESSO_CONVENIO_PECG      0\n",
              "NU_ANO_INGRESSO                0\n",
              "Length: 105, dtype: int64"
            ]
          },
          "metadata": {
            "tags": []
          },
          "execution_count": 67
        }
      ]
    },
    {
      "cell_type": "markdown",
      "metadata": {
        "id": "dw4IwM9oiVqc"
      },
      "source": [
        "Quantidade alunos por raça, onde o número 2 representam os negros"
      ]
    },
    {
      "cell_type": "code",
      "metadata": {
        "id": "QgfrI6Y8bETw",
        "colab": {
          "base_uri": "https://localhost:8080/"
        },
        "outputId": "190a4d43-864c-47b8-b065-4c01ea252e17"
      },
      "source": [
        "df_completo.TP_COR_RACA.value_counts()"
      ],
      "execution_count": 68,
      "outputs": [
        {
          "output_type": "execute_result",
          "data": {
            "text/plain": [
              "1    1821\n",
              "3    1771\n",
              "6     532\n",
              "2     453\n",
              "0     440\n",
              "4      91\n",
              "5      34\n",
              "Name: TP_COR_RACA, dtype: int64"
            ]
          },
          "metadata": {
            "tags": []
          },
          "execution_count": 68
        }
      ]
    },
    {
      "cell_type": "markdown",
      "metadata": {
        "id": "sEFOrCPy-8fu"
      },
      "source": [
        "Porcentagem de alunos por raça"
      ]
    },
    {
      "cell_type": "code",
      "metadata": {
        "id": "k03vwPNgnBPW",
        "colab": {
          "base_uri": "https://localhost:8080/"
        },
        "outputId": "974cc7a5-99ec-46c7-e03b-0048f885a21a"
      },
      "source": [
        "df_completo.TP_COR_RACA.value_counts(normalize=True).sort_index()"
      ],
      "execution_count": 69,
      "outputs": [
        {
          "output_type": "execute_result",
          "data": {
            "text/plain": [
              "0    0.085570\n",
              "1    0.354142\n",
              "2    0.088098\n",
              "3    0.344419\n",
              "4    0.017697\n",
              "5    0.006612\n",
              "6    0.103462\n",
              "Name: TP_COR_RACA, dtype: float64"
            ]
          },
          "metadata": {
            "tags": []
          },
          "execution_count": 69
        }
      ]
    },
    {
      "cell_type": "code",
      "metadata": {
        "id": "iEfM7SM1b9xJ",
        "colab": {
          "base_uri": "https://localhost:8080/",
          "height": 398
        },
        "outputId": "5c7ce930-a4e0-45e6-d962-3c527dc38ba7"
      },
      "source": [
        "plt.style.use(\"fivethirtyeight\")\n",
        "plt.figure(figsize=(12, 6))\n",
        "df_completo.TP_COR_RACA.value_counts().sort_index().plot.pie(wedgeprops=dict(width=0.4), startangle=-40, explode = (0, 0, 0.1, 0, 0, 0, 0), autopct = '%1.2f%%')"
      ],
      "execution_count": 70,
      "outputs": [
        {
          "output_type": "execute_result",
          "data": {
            "text/plain": [
              "<matplotlib.axes._subplots.AxesSubplot at 0x7f8449d20940>"
            ]
          },
          "metadata": {
            "tags": []
          },
          "execution_count": 70
        },
        {
          "output_type": "display_data",
          "data": {
            "image/png": "[encoded data removed]",
            "text/plain": [
              "<Figure size 864x432 with 1 Axes>"
            ]
          },
          "metadata": {
            "tags": []
          }
        }
      ]
    },
    {
      "cell_type": "markdown",
      "metadata": {
        "id": "ClzCU3RzuSMV"
      },
      "source": [
        "Neste gráfico acima, podemos observar em destaque a poecentagem de alunos negros em um contexto geral de alunos matriculados no Ensino Superior"
      ]
    },
    {
      "cell_type": "code",
      "metadata": {
        "id": "Acuy2aKwnKGG",
        "colab": {
          "base_uri": "https://localhost:8080/"
        },
        "outputId": "fbf59c25-48b9-426a-8a1d-1f8595f10271"
      },
      "source": [
        "df_completo.TP_SEXO.value_counts().sort_index()"
      ],
      "execution_count": 71,
      "outputs": [
        {
          "output_type": "execute_result",
          "data": {
            "text/plain": [
              "0    1872\n",
              "1    2366\n",
              "2     904\n",
              "Name: TP_SEXO, dtype: int64"
            ]
          },
          "metadata": {
            "tags": []
          },
          "execution_count": 71
        }
      ]
    },
    {
      "cell_type": "code",
      "metadata": {
        "id": "CT75DZ_vdtMn",
        "colab": {
          "base_uri": "https://localhost:8080/",
          "height": 458
        },
        "outputId": "aaf724c5-0fb1-4700-9614-843aee7881b3"
      },
      "source": [
        "plt.style.use(\"fivethirtyeight\")\n",
        "plt.figure(figsize=(12, 6))\n",
        "sns.barplot(y=df_completo.TP_SEXO.value_counts().sort_index(), x=df_completo.TP_SEXO.value_counts().sort_index().index, palette=\"Set1\")\n",
        "plt.title(\"Quantidade de alunos por Sexo\")\n",
        "plt.legend()\n",
        "plt.xlabel(\"Sexo\")\n",
        "plt.ylabel(\"Quantidade de alunos\")\n",
        "\n",
        "plt.show()"
      ],
      "execution_count": 72,
      "outputs": [
        {
          "output_type": "stream",
          "text": [
            "No handles with labels found to put in legend.\n"
          ],
          "name": "stderr"
        },
        {
          "output_type": "display_data",
          "data": {
            "image/png": "[encoded data removed]",
            "text/plain": [
              "<Figure size 864x432 with 1 Axes>"
            ]
          },
          "metadata": {
            "tags": []
          }
        }
      ]
    },
    {
      "cell_type": "markdown",
      "metadata": {
        "id": "EXJw2WhjwSZw"
      },
      "source": [
        "Podemos ver neste gráfico que existe uma predominância de alunos de sexo feminino, no entanto existe uma quantidade muito grande de alunos que referiram não informar o sexo"
      ]
    },
    {
      "cell_type": "markdown",
      "metadata": {
        "id": "GG9KnucKAJNZ"
      },
      "source": [
        "Cursos com maior registros de matriculas"
      ]
    },
    {
      "cell_type": "code",
      "metadata": {
        "id": "L5M_N8w8nSgf",
        "colab": {
          "base_uri": "https://localhost:8080/"
        },
        "outputId": "360a4eb0-3e76-431b-b4d7-6cfd21575ca5"
      },
      "source": [
        "df_completo.NO_CURSO.value_counts().head(20)"
      ],
      "execution_count": 73,
      "outputs": [
        {
          "output_type": "execute_result",
          "data": {
            "text/plain": [
              "DIREITO                   3222\n",
              "PEDAGOGIA                  212\n",
              "ADMINISTRAÇÃO              193\n",
              "CIÊNCIAS ECONÔMICAS        179\n",
              "CIÊNCIAS CONTÁBEIS          95\n",
              "SERVIÇO SOCIAL              88\n",
              "ENGENHARIA CIVIL            87\n",
              "ENFERMAGEM                  63\n",
              "EDUCAÇÃO FÍSICA             49\n",
              "CIÊNCIAS BIOLÓGICAS         36\n",
              "GEOGRAFIA                   33\n",
              "PSICOLOGIA                  29\n",
              "FISIOTERAPIA                29\n",
              "QUÍMICA                     28\n",
              "ENGENHARIA DE PRODUÇÃO      26\n",
              "HISTÓRIA                    23\n",
              "SAÚDE COLETIVA              22\n",
              "SISTEMAS DE INFORMAÇÃO      21\n",
              "AGRONOMIA                   21\n",
              "MATEMÁTICA                  21\n",
              "Name: NO_CURSO, dtype: int64"
            ]
          },
          "metadata": {
            "tags": []
          },
          "execution_count": 73
        }
      ]
    },
    {
      "cell_type": "code",
      "metadata": {
        "id": "lgwvu7yhemqP",
        "colab": {
          "base_uri": "https://localhost:8080/",
          "height": 441
        },
        "outputId": "605a4459-b697-4e1b-8249-ae9cab09ae11"
      },
      "source": [
        "plt.figure(figsize=(12, 6))\n",
        "sns.barplot(x=df_completo.NO_CURSO.value_counts().head(20), y=df_completo.NO_CURSO.value_counts().head(20).index)\n",
        "plt.title(\"Cursos com maior quantidade de alunos\")\n",
        "plt.show()"
      ],
      "execution_count": 74,
      "outputs": [
        {
          "output_type": "display_data",
          "data": {
            "image/png": "[encoded data removed]",
            "text/plain": [
              "<Figure size 864x432 with 1 Axes>"
            ]
          },
          "metadata": {
            "tags": []
          }
        }
      ]
    },
    {
      "cell_type": "markdown",
      "metadata": {
        "id": "VahMEFNgA9nk"
      },
      "source": [
        "Turno mais frequentado pelos alunos"
      ]
    },
    {
      "cell_type": "code",
      "metadata": {
        "id": "5w4qlvOfox4l",
        "colab": {
          "base_uri": "https://localhost:8080/"
        },
        "outputId": "14c986d4-eb02-440e-da0b-7172f64a1029"
      },
      "source": [
        "df_completo.TP_TURNO.value_counts()"
      ],
      "execution_count": 75,
      "outputs": [
        {
          "output_type": "execute_result",
          "data": {
            "text/plain": [
              "3.0     2521\n",
              "1.0     1784\n",
              "null     401\n",
              "4        260\n",
              "2.0      105\n",
              "Name: TP_TURNO, dtype: int64"
            ]
          },
          "metadata": {
            "tags": []
          },
          "execution_count": 75
        }
      ]
    },
    {
      "cell_type": "code",
      "metadata": {
        "colab": {
          "base_uri": "https://localhost:8080/"
        },
        "id": "5_goYR4V3OZU",
        "outputId": "85e52806-a979-401a-c6d9-aadb251c8919"
      },
      "source": [
        "df_completo.TP_TURNO.isnull().sum()"
      ],
      "execution_count": 76,
      "outputs": [
        {
          "output_type": "execute_result",
          "data": {
            "text/plain": [
              "71"
            ]
          },
          "metadata": {
            "tags": []
          },
          "execution_count": 76
        }
      ]
    },
    {
      "cell_type": "markdown",
      "metadata": {
        "id": "zlODnHiW4HYr"
      },
      "source": [
        "Transformando os valores null em zero (não informado)"
      ]
    },
    {
      "cell_type": "code",
      "metadata": {
        "id": "SW7ad2Tk3NyG"
      },
      "source": [
        "df_completo.TP_TURNO = df_completo.TP_TURNO.replace('null', 0)"
      ],
      "execution_count": 77,
      "outputs": []
    },
    {
      "cell_type": "code",
      "metadata": {
        "id": "9byJgMsX2IWy"
      },
      "source": [
        "df_completo.TP_TURNO.fillna(0, inplace=True)"
      ],
      "execution_count": 78,
      "outputs": []
    },
    {
      "cell_type": "code",
      "metadata": {
        "colab": {
          "base_uri": "https://localhost:8080/",
          "height": 415
        },
        "id": "1Q63vddc1pT1",
        "outputId": "8b6f6bfd-d65c-4fd5-9a08-bc43ed5c1c56"
      },
      "source": [
        "plt.figure(figsize=(12, 6))\n",
        "df_completo.TP_TURNO.value_counts().plot.barh()"
      ],
      "execution_count": 79,
      "outputs": [
        {
          "output_type": "execute_result",
          "data": {
            "text/plain": [
              "<matplotlib.axes._subplots.AxesSubplot at 0x7f84484b5fd0>"
            ]
          },
          "metadata": {
            "tags": []
          },
          "execution_count": 79
        },
        {
          "output_type": "display_data",
          "data": {
            "image/png": "[encoded data removed]",
            "text/plain": [
              "<Figure size 864x432 with 1 Axes>"
            ]
          },
          "metadata": {
            "tags": []
          }
        }
      ]
    },
    {
      "cell_type": "markdown",
      "metadata": {
        "id": "S3hZwPsd1kYQ"
      },
      "source": [
        "De acordo com estes dados, a maioria dos alunos estudam no período Noturno (3) em seguida no período Matutino (1)"
      ]
    },
    {
      "cell_type": "markdown",
      "metadata": {
        "id": "8QBw_SXtBTeY"
      },
      "source": [
        "Descrição das idades dos alunos"
      ]
    },
    {
      "cell_type": "code",
      "metadata": {
        "id": "wP_0qwFqo5tM",
        "colab": {
          "base_uri": "https://localhost:8080/"
        },
        "outputId": "657249b5-7eb4-4572-c2a6-af3e897b6c5a"
      },
      "source": [
        "df_completo.NU_IDADE.describe()"
      ],
      "execution_count": 80,
      "outputs": [
        {
          "output_type": "execute_result",
          "data": {
            "text/plain": [
              "count    5142.000000\n",
              "mean       26.746402\n",
              "std         7.701483\n",
              "min        16.000000\n",
              "25%        21.000000\n",
              "50%        24.000000\n",
              "75%        31.000000\n",
              "max        84.000000\n",
              "Name: NU_IDADE, dtype: float64"
            ]
          },
          "metadata": {
            "tags": []
          },
          "execution_count": 80
        }
      ]
    },
    {
      "cell_type": "markdown",
      "metadata": {
        "id": "-FLlalqBbtv2"
      },
      "source": [
        "Distribuição das idades dos aluno"
      ]
    },
    {
      "cell_type": "code",
      "metadata": {
        "id": "Lu3ZAFWpbj7u",
        "colab": {
          "base_uri": "https://localhost:8080/",
          "height": 532
        },
        "outputId": "5d5ce61b-1a16-4ce3-e63d-39957eb1bdfb"
      },
      "source": [
        "plt.style.use(\"fivethirtyeight\")\n",
        "plt.figure(figsize=(12, 6))\n",
        "df_completo.NU_IDADE.hist(bins=30, figsize=(10, 8))"
      ],
      "execution_count": 81,
      "outputs": [
        {
          "output_type": "execute_result",
          "data": {
            "text/plain": [
              "<matplotlib.axes._subplots.AxesSubplot at 0x7f84484a6160>"
            ]
          },
          "metadata": {
            "tags": []
          },
          "execution_count": 81
        },
        {
          "output_type": "display_data",
          "data": {
            "image/png": "[encoded data removed]",
            "text/plain": [
              "<Figure size 720x576 with 1 Axes>"
            ]
          },
          "metadata": {
            "tags": []
          }
        }
      ]
    },
    {
      "cell_type": "markdown",
      "metadata": {
        "id": "E5v1QMG54-bS"
      },
      "source": [
        "Com este hitograma fica claro que existe uma maior concentração de alunos entre 20 e 25 anos"
      ]
    },
    {
      "cell_type": "markdown",
      "metadata": {
        "id": "Q4rOlU9BO1Ej"
      },
      "source": [
        "Total de negros matriculados em universidades"
      ]
    },
    {
      "cell_type": "code",
      "metadata": {
        "id": "2qHkkpNm9na3"
      },
      "source": [
        "df_negros = df_completo.query(\"TP_COR_RACA == 2\")"
      ],
      "execution_count": 82,
      "outputs": []
    },
    {
      "cell_type": "code",
      "metadata": {
        "colab": {
          "base_uri": "https://localhost:8080/"
        },
        "id": "xBIFhoqy5PjN",
        "outputId": "5cf095b4-f917-4fc0-b782-ee059d03040e"
      },
      "source": [
        "total_alunos = df_completo.shape[0]\n",
        "total_negros = df_negros.shape[0]\n",
        "percent_negros = (total_negros / total_alunos) * 100\n",
        "\n",
        "print(f\"Quantidade de pessoas matriculadas: {total_alunos}\\n\",\n",
        "      f\"Quantidade de negros matriculados: {total_negros}\\n\",\n",
        "      f\"Porcentagem de negros: {percent_negros:.2f}%\")"
      ],
      "execution_count": 83,
      "outputs": [
        {
          "output_type": "stream",
          "text": [
            "Quantidade de pessoas matriculadas: 5142\n",
            " Quantidade de negros matriculados: 453\n",
            " Porcentagem de negros: 8.81%\n"
          ],
          "name": "stdout"
        }
      ]
    },
    {
      "cell_type": "markdown",
      "metadata": {
        "id": "oNivL5oV9iHe"
      },
      "source": [
        "Cursos mas frequentados por negros"
      ]
    },
    {
      "cell_type": "code",
      "metadata": {
        "id": "zPWa01-8h-CX",
        "colab": {
          "base_uri": "https://localhost:8080/"
        },
        "outputId": "bce2d9fd-00e2-441a-af8f-8c14189681a8"
      },
      "source": [
        "df_negros.NO_CURSO.value_counts().head(20)"
      ],
      "execution_count": 84,
      "outputs": [
        {
          "output_type": "execute_result",
          "data": {
            "text/plain": [
              "DIREITO                                                  285\n",
              "PEDAGOGIA                                                 18\n",
              "CIÊNCIAS ECONÔMICAS                                       16\n",
              "ADMINISTRAÇÃO                                             15\n",
              "SERVIÇO SOCIAL                                            15\n",
              "CIÊNCIAS CONTÁBEIS                                        11\n",
              "CIÊNCIAS SOCIAIS                                           7\n",
              "SAÚDE COLETIVA                                             7\n",
              "MATEMÁTICA                                                 6\n",
              "QUÍMICA                                                    6\n",
              "HISTÓRIA                                                   5\n",
              "GEOGRAFIA                                                  5\n",
              "CIÊNCIA E TECNOLOGIA DE ALIMENTOS                          5\n",
              "ARQUITETURA E URBANISMO                                    4\n",
              "ENFERMAGEM                                                 4\n",
              "FÍSICA                                                     3\n",
              "ENGENHARIA CIVIL                                           3\n",
              "LETRAS PORTUGUÊS E ESPANHOL E RESPECTIVAS LITERATURAS      2\n",
              "LETRAS PORTUGUÊS E FRANCÊS                                 2\n",
              "FILOSOFIA                                                  2\n",
              "Name: NO_CURSO, dtype: int64"
            ]
          },
          "metadata": {
            "tags": []
          },
          "execution_count": 84
        }
      ]
    },
    {
      "cell_type": "code",
      "metadata": {
        "colab": {
          "base_uri": "https://localhost:8080/",
          "height": 441
        },
        "id": "YA0TRXm69yml",
        "outputId": "d243a080-90d2-4f64-a142-aa3562e1d1b7"
      },
      "source": [
        "plt.figure(figsize=(12, 6))\n",
        "sns.barplot(x=df_negros.NO_CURSO.value_counts().head(20), y=df_negros.NO_CURSO.value_counts().head(20).index)\n",
        "plt.title(\"Cursos mais frequentados por negros\")\n",
        "plt.show()"
      ],
      "execution_count": 85,
      "outputs": [
        {
          "output_type": "display_data",
          "data": {
            "image/png": "[encoded data removed]",
            "text/plain": [
              "<Figure size 864x432 with 1 Axes>"
            ]
          },
          "metadata": {
            "tags": []
          }
        }
      ]
    },
    {
      "cell_type": "markdown",
      "metadata": {
        "id": "2LHR-jZp-KJA"
      },
      "source": [
        "Idade em que os negros entram na faculdade"
      ]
    },
    {
      "cell_type": "code",
      "metadata": {
        "id": "fmqDYHypB2MF",
        "colab": {
          "base_uri": "https://localhost:8080/"
        },
        "outputId": "38974246-ffa8-404f-d634-9caa919ff240"
      },
      "source": [
        "df_nao_negros = df_completo.query(\"TP_COR_RACA != 2\")\n",
        "\n",
        "idade_geral = df_nao_negros.NU_IDADE.mean()\n",
        "idade_negros = df_negros.NU_IDADE.mean()\n",
        "\n",
        "print(\"Média de idade dos alunos que no momento que ingressam na faculdade\\n\",\n",
        "      f\"Não negros: {idade_geral:.1f}\\n\",\n",
        "      f\"Negros: {idade_negros:.1f}\")"
      ],
      "execution_count": 86,
      "outputs": [
        {
          "output_type": "stream",
          "text": [
            "Média de idade dos alunos que no momento que ingressam na faculdade\n",
            " Não negros: 26.6\n",
            " Negros: 28.3\n"
          ],
          "name": "stdout"
        }
      ]
    },
    {
      "cell_type": "code",
      "metadata": {
        "id": "CmxyPHDsB_Rp",
        "colab": {
          "base_uri": "https://localhost:8080/"
        },
        "outputId": "227f16e3-8802-4c9f-e778-09913237f554"
      },
      "source": [
        "df_negros.TP_SEXO.value_counts(normalize=True)"
      ],
      "execution_count": 87,
      "outputs": [
        {
          "output_type": "execute_result",
          "data": {
            "text/plain": [
              "1    0.437086\n",
              "0    0.379691\n",
              "2    0.183223\n",
              "Name: TP_SEXO, dtype: float64"
            ]
          },
          "metadata": {
            "tags": []
          },
          "execution_count": 87
        }
      ]
    },
    {
      "cell_type": "code",
      "metadata": {
        "colab": {
          "base_uri": "https://localhost:8080/",
          "height": 441
        },
        "id": "juX9IAK3AMd4",
        "outputId": "b62fb2e3-4211-498f-b577-a62d571f065d"
      },
      "source": [
        "plt.style.use(\"fivethirtyeight\")\n",
        "plt.figure(figsize=(12, 6))\n",
        "sns.barplot(y=df_negros.TP_SEXO.value_counts().sort_index(), x=df_negros.TP_SEXO.value_counts().sort_index().index, palette=\"Set1\")\n",
        "plt.title(\"Quantidade de alunos negros por Sexo\")\n",
        "plt.xlabel(\"Sexo\")\n",
        "plt.ylabel(\"Quantidade de alunos\")\n",
        "\n",
        "plt.show()"
      ],
      "execution_count": 88,
      "outputs": [
        {
          "output_type": "display_data",
          "data": {
            "image/png": "[encoded data removed]",
            "text/plain": [
              "<Figure size 864x432 with 1 Axes>"
            ]
          },
          "metadata": {
            "tags": []
          }
        }
      ]
    },
    {
      "cell_type": "markdown",
      "metadata": {
        "id": "8J_MB8rrAa5z"
      },
      "source": [
        "Assim como vemos dos alunos de foram geral, os alunos negros também tem maior predominância do sexo feminino"
      ]
    },
    {
      "cell_type": "markdown",
      "metadata": {
        "id": "SQ-OlDBJ85xb"
      },
      "source": [
        "Distribuição de Categoria de Universidades"
      ]
    },
    {
      "cell_type": "markdown",
      "metadata": {
        "id": "p42qDA3x-CB-"
      },
      "source": [
        "Verificando a quantidade de Alunos negros que ingressam em faculdades públicas, de âmbito nacional, estadual e municipal"
      ]
    },
    {
      "cell_type": "code",
      "metadata": {
        "id": "Bt2O1ESF7mNI"
      },
      "source": [
        "uni_publica = df_completo.query(\"TP_CATEGORIA_ADMINISTRATIVA == 1 or TP_CATEGORIA_ADMINISTRATIVA == 2 or TP_CATEGORIA_ADMINISTRATIVA == 3\")"
      ],
      "execution_count": 89,
      "outputs": []
    },
    {
      "cell_type": "code",
      "metadata": {
        "id": "zic8ZaVXgRf2",
        "colab": {
          "base_uri": "https://localhost:8080/"
        },
        "outputId": "aa991846-5bf6-489d-df19-2d1d3eae99c3"
      },
      "source": [
        "uni_publica_negros = uni_publica.query(\"TP_COR_RACA == 2\")\n",
        "uni_publica_nao_negros = uni_publica.query(\"TP_COR_RACA != 2\")\n",
        "percent_negros_publica = (uni_publica_negros.shape[0] / uni_publica.shape[0]) * 100\n",
        "\n",
        "print(f\"Quantidade alunos em Faculdades Públicas\\n\",\n",
        "      f\"Total de alunos: {uni_publica.shape[0]}\\n\",\n",
        "      f\"Não negros: {uni_publica_nao_negros.shape[0]}\\n\",\n",
        "      f\"Negros: {uni_publica_negros.shape[0]}\\n\",\n",
        "      f\"Porcentagem de negros: {percent_negros_publica:.2f}%\")"
      ],
      "execution_count": 90,
      "outputs": [
        {
          "output_type": "stream",
          "text": [
            "Quantidade alunos em Faculdades Públicas\n",
            " Total de alunos: 4234\n",
            " Não negros: 3806\n",
            " Negros: 428\n",
            " Porcentagem de negros: 10.11%\n"
          ],
          "name": "stdout"
        }
      ]
    },
    {
      "cell_type": "code",
      "metadata": {
        "id": "Nf4zG834i1HX",
        "colab": {
          "base_uri": "https://localhost:8080/",
          "height": 398
        },
        "outputId": "9096ce24-7c69-4926-a2dd-af6d4d6b36eb"
      },
      "source": [
        "plt.style.use(\"fivethirtyeight\")\n",
        "plt.figure(figsize=(12, 6))\n",
        "uni_publica.TP_COR_RACA.value_counts().sort_index().plot.pie(wedgeprops=dict(width=0.4), startangle=-40, explode = (0, 0, 0.1, 0, 0, 0, 0), autopct = '%1.2f%%')"
      ],
      "execution_count": 91,
      "outputs": [
        {
          "output_type": "execute_result",
          "data": {
            "text/plain": [
              "<matplotlib.axes._subplots.AxesSubplot at 0x7f8446a72e80>"
            ]
          },
          "metadata": {
            "tags": []
          },
          "execution_count": 91
        },
        {
          "output_type": "display_data",
          "data": {
            "image/png": "[encoded data removed]",
            "text/plain": [
              "<Figure size 864x432 with 1 Axes>"
            ]
          },
          "metadata": {
            "tags": []
          }
        }
      ]
    },
    {
      "cell_type": "markdown",
      "metadata": {
        "id": "7yRkabFGJ9D9"
      },
      "source": [
        "Em faculdades Públicas o percentual de negros éum pouco maior que o percentual de alunos de uma forma geral, incluindo também faculdades particulares"
      ]
    },
    {
      "cell_type": "code",
      "metadata": {
        "colab": {
          "base_uri": "https://localhost:8080/"
        },
        "id": "JY78x3Z5Lflu",
        "outputId": "6e0c8ea8-3e99-45e3-9b08-8d2035adc2c1"
      },
      "source": [
        "uni_publica_negros.NO_CURSO.value_counts().head(10)"
      ],
      "execution_count": 92,
      "outputs": [
        {
          "output_type": "execute_result",
          "data": {
            "text/plain": [
              "DIREITO                282\n",
              "CIÊNCIAS ECONÔMICAS     16\n",
              "PEDAGOGIA               15\n",
              "SERVIÇO SOCIAL          14\n",
              "CIÊNCIAS CONTÁBEIS      11\n",
              "ADMINISTRAÇÃO            8\n",
              "CIÊNCIAS SOCIAIS         7\n",
              "SAÚDE COLETIVA           7\n",
              "QUÍMICA                  6\n",
              "MATEMÁTICA               5\n",
              "Name: NO_CURSO, dtype: int64"
            ]
          },
          "metadata": {
            "tags": []
          },
          "execution_count": 92
        }
      ]
    },
    {
      "cell_type": "code",
      "metadata": {
        "colab": {
          "base_uri": "https://localhost:8080/"
        },
        "id": "jKpOhXIqLfZT",
        "outputId": "66289e81-ba75-40e9-93d5-e5fed0bf561e"
      },
      "source": [
        "uni_publica_nao_negros.NO_CURSO.value_counts().head(10)"
      ],
      "execution_count": 93,
      "outputs": [
        {
          "output_type": "execute_result",
          "data": {
            "text/plain": [
              "DIREITO                2810\n",
              "CIÊNCIAS ECONÔMICAS     162\n",
              "PEDAGOGIA               124\n",
              "ENGENHARIA CIVIL         71\n",
              "SERVIÇO SOCIAL           58\n",
              "CIÊNCIAS CONTÁBEIS       32\n",
              "EDUCAÇÃO FÍSICA          29\n",
              "CIÊNCIAS BIOLÓGICAS      28\n",
              "GEOGRAFIA                25\n",
              "ADMINISTRAÇÃO            22\n",
              "Name: NO_CURSO, dtype: int64"
            ]
          },
          "metadata": {
            "tags": []
          },
          "execution_count": 93
        }
      ]
    },
    {
      "cell_type": "code",
      "metadata": {
        "colab": {
          "base_uri": "https://localhost:8080/",
          "height": 441
        },
        "id": "qGU5Y-MlLfMQ",
        "outputId": "034fc317-ebbd-4441-e30d-c46dfaccaf3a"
      },
      "source": [
        "plt.figure(figsize=(12, 6))\n",
        "sns.barplot(x=uni_publica.NO_CURSO.value_counts().head(20), y=uni_publica.NO_CURSO.value_counts().head(20).index)\n",
        "plt.title(\"Cursos mais frequentados em faculdades publicas\")\n",
        "plt.show()"
      ],
      "execution_count": 94,
      "outputs": [
        {
          "output_type": "display_data",
          "data": {
            "image/png": "[encoded data removed]",
            "text/plain": [
              "<Figure size 864x432 with 1 Axes>"
            ]
          },
          "metadata": {
            "tags": []
          }
        }
      ]
    },
    {
      "cell_type": "code",
      "metadata": {
        "colab": {
          "base_uri": "https://localhost:8080/"
        },
        "id": "fxHsbGtSLe0a",
        "outputId": "57fdb4b5-dc66-4359-efad-eaf1813fd084"
      },
      "source": [
        "uni_publica[\"NEGRO\"] = 'nan'"
      ],
      "execution_count": 95,
      "outputs": [
        {
          "output_type": "stream",
          "text": [
            "/usr/local/lib/python3.6/dist-packages/ipykernel_launcher.py:1: SettingWithCopyWarning: \n",
            "A value is trying to be set on a copy of a slice from a DataFrame.\n",
            "Try using .loc[row_indexer,col_indexer] = value instead\n",
            "\n",
            "See the caveats in the documentation: https://pandas.pydata.org/pandas-docs/stable/user_guide/indexing.html#returning-a-view-versus-a-copy\n",
            "  \"\"\"Entry point for launching an IPython kernel.\n"
          ],
          "name": "stderr"
        }
      ]
    },
    {
      "cell_type": "code",
      "metadata": {
        "colab": {
          "base_uri": "https://localhost:8080/",
          "height": 267
        },
        "id": "0Lynqe_INeV1",
        "outputId": "5e9f1908-6fab-46c1-be63-d8fa192437ec"
      },
      "source": [
        "uni_publica.head()"
      ],
      "execution_count": 96,
      "outputs": [
        {
          "output_type": "execute_result",
          "data": {
            "text/html": [
              "<div>\n",
              "<style scoped>\n",
              "    .dataframe tbody tr th:only-of-type {\n",
              "        vertical-align: middle;\n",
              "    }\n",
              "\n",
              "    .dataframe tbody tr th {\n",
              "        vertical-align: top;\n",
              "    }\n",
              "\n",
              "    .dataframe thead th {\n",
              "        text-align: right;\n",
              "    }\n",
              "</style>\n",
              "<table border=\"1\" class=\"dataframe\">\n",
              "  <thead>\n",
              "    <tr style=\"text-align: right;\">\n",
              "      <th></th>\n",
              "      <th>TP_CATEGORIA_ADMINISTRATIVA</th>\n",
              "      <th>CO_CURSO</th>\n",
              "      <th>TP_NIVEL_ACADEMICO</th>\n",
              "      <th>TP_MODALIDADE_ENSINO</th>\n",
              "      <th>TP_GRAU_ACADEMICO</th>\n",
              "      <th>TP_SITUACAO</th>\n",
              "      <th>IN_INGRESSO_VESTIBULAR</th>\n",
              "      <th>IN_INGRESSO_ENEM</th>\n",
              "      <th>IN_BOLSA_ESTAGIO</th>\n",
              "      <th>IN_RESERVA_ENSINO_PUBLICO</th>\n",
              "      <th>IN_RESERVA_ETNICO</th>\n",
              "      <th>IN_RESERVA_RENDA_FAMILIAR</th>\n",
              "      <th>IN_FINANCIAMENTO_ESTUDANTIL</th>\n",
              "      <th>IN_FIN_NAOREEMB_PROUNI_INTEGR</th>\n",
              "      <th>IN_FIN_NAOREEMB_PROUNI_PARCIAL</th>\n",
              "      <th>'IN_FIN_REEMB_FIES</th>\n",
              "      <th>TP_SEXO</th>\n",
              "      <th>TP_COR_RACA</th>\n",
              "      <th>TP_NACIONALIDADE</th>\n",
              "      <th>CO_PAIS_ORIGEM</th>\n",
              "      <th>NU_IDADE</th>\n",
              "      <th>NU_ANO_INGRESSO</th>\n",
              "      <th>CO_UF_NASCIMENTO</th>\n",
              "      <th>TP_TURNO</th>\n",
              "      <th>NU_ANO_CENSO</th>\n",
              "      <th>IN_FIN_REEMB_FIES</th>\n",
              "      <th>NO_CURSO</th>\n",
              "      <th>NEGRO</th>\n",
              "    </tr>\n",
              "  </thead>\n",
              "  <tbody>\n",
              "    <tr>\n",
              "      <th>6</th>\n",
              "      <td>2</td>\n",
              "      <td>86244</td>\n",
              "      <td>1</td>\n",
              "      <td>1</td>\n",
              "      <td>2.0</td>\n",
              "      <td>2</td>\n",
              "      <td>1</td>\n",
              "      <td>0</td>\n",
              "      <td>0.0</td>\n",
              "      <td>0.0</td>\n",
              "      <td>0.0</td>\n",
              "      <td>0.0</td>\n",
              "      <td>0.0</td>\n",
              "      <td>0.0</td>\n",
              "      <td>0.0</td>\n",
              "      <td>0.0</td>\n",
              "      <td>0</td>\n",
              "      <td>0</td>\n",
              "      <td>1</td>\n",
              "      <td>10</td>\n",
              "      <td>26</td>\n",
              "      <td>2009</td>\n",
              "      <td>null</td>\n",
              "      <td>0.0</td>\n",
              "      <td>2009</td>\n",
              "      <td>NaN</td>\n",
              "      <td>CIÊNCIAS BIOLÓGICAS</td>\n",
              "      <td>nan</td>\n",
              "    </tr>\n",
              "    <tr>\n",
              "      <th>9</th>\n",
              "      <td>3</td>\n",
              "      <td>16103</td>\n",
              "      <td>1</td>\n",
              "      <td>1</td>\n",
              "      <td>2.0</td>\n",
              "      <td>6</td>\n",
              "      <td>1</td>\n",
              "      <td>1</td>\n",
              "      <td>0.0</td>\n",
              "      <td>0.0</td>\n",
              "      <td>0.0</td>\n",
              "      <td>0.0</td>\n",
              "      <td>0.0</td>\n",
              "      <td>0.0</td>\n",
              "      <td>0.0</td>\n",
              "      <td>0.0</td>\n",
              "      <td>0</td>\n",
              "      <td>6</td>\n",
              "      <td>1</td>\n",
              "      <td>10</td>\n",
              "      <td>23</td>\n",
              "      <td>2006</td>\n",
              "      <td>null</td>\n",
              "      <td>0.0</td>\n",
              "      <td>2009</td>\n",
              "      <td>NaN</td>\n",
              "      <td>HISTÓRIA</td>\n",
              "      <td>nan</td>\n",
              "    </tr>\n",
              "    <tr>\n",
              "      <th>17</th>\n",
              "      <td>1</td>\n",
              "      <td>83927</td>\n",
              "      <td>1</td>\n",
              "      <td>1</td>\n",
              "      <td>2.0</td>\n",
              "      <td>4</td>\n",
              "      <td>1</td>\n",
              "      <td>0</td>\n",
              "      <td>0.0</td>\n",
              "      <td>0.0</td>\n",
              "      <td>0.0</td>\n",
              "      <td>0.0</td>\n",
              "      <td>0.0</td>\n",
              "      <td>0.0</td>\n",
              "      <td>0.0</td>\n",
              "      <td>0.0</td>\n",
              "      <td>0</td>\n",
              "      <td>1</td>\n",
              "      <td>1</td>\n",
              "      <td>10</td>\n",
              "      <td>21</td>\n",
              "      <td>2009</td>\n",
              "      <td>null</td>\n",
              "      <td>0.0</td>\n",
              "      <td>2009</td>\n",
              "      <td>NaN</td>\n",
              "      <td>CIÊNCIAS BIOLÓGICAS</td>\n",
              "      <td>nan</td>\n",
              "    </tr>\n",
              "    <tr>\n",
              "      <th>20</th>\n",
              "      <td>2</td>\n",
              "      <td>120595</td>\n",
              "      <td>1</td>\n",
              "      <td>1</td>\n",
              "      <td>1.0</td>\n",
              "      <td>2</td>\n",
              "      <td>1</td>\n",
              "      <td>0</td>\n",
              "      <td>0.0</td>\n",
              "      <td>0.0</td>\n",
              "      <td>0.0</td>\n",
              "      <td>0.0</td>\n",
              "      <td>0.0</td>\n",
              "      <td>0.0</td>\n",
              "      <td>0.0</td>\n",
              "      <td>0.0</td>\n",
              "      <td>0</td>\n",
              "      <td>6</td>\n",
              "      <td>1</td>\n",
              "      <td>10</td>\n",
              "      <td>48</td>\n",
              "      <td>2009</td>\n",
              "      <td>null</td>\n",
              "      <td>0.0</td>\n",
              "      <td>2009</td>\n",
              "      <td>NaN</td>\n",
              "      <td>ADMINISTRAÇÃO</td>\n",
              "      <td>nan</td>\n",
              "    </tr>\n",
              "    <tr>\n",
              "      <th>27</th>\n",
              "      <td>1</td>\n",
              "      <td>11426</td>\n",
              "      <td>1</td>\n",
              "      <td>1</td>\n",
              "      <td>4.0</td>\n",
              "      <td>3</td>\n",
              "      <td>1</td>\n",
              "      <td>0</td>\n",
              "      <td>0.0</td>\n",
              "      <td>0.0</td>\n",
              "      <td>0.0</td>\n",
              "      <td>0.0</td>\n",
              "      <td>0.0</td>\n",
              "      <td>0.0</td>\n",
              "      <td>0.0</td>\n",
              "      <td>0.0</td>\n",
              "      <td>0</td>\n",
              "      <td>6</td>\n",
              "      <td>1</td>\n",
              "      <td>10</td>\n",
              "      <td>17</td>\n",
              "      <td>2009</td>\n",
              "      <td>null</td>\n",
              "      <td>0.0</td>\n",
              "      <td>2009</td>\n",
              "      <td>NaN</td>\n",
              "      <td>CIÊNCIAS BIOLÓGICAS</td>\n",
              "      <td>nan</td>\n",
              "    </tr>\n",
              "  </tbody>\n",
              "</table>\n",
              "</div>"
            ],
            "text/plain": [
              "    TP_CATEGORIA_ADMINISTRATIVA  CO_CURSO  ...             NO_CURSO  NEGRO\n",
              "6                             2     86244  ...  CIÊNCIAS BIOLÓGICAS    nan\n",
              "9                             3     16103  ...             HISTÓRIA    nan\n",
              "17                            1     83927  ...  CIÊNCIAS BIOLÓGICAS    nan\n",
              "20                            2    120595  ...        ADMINISTRAÇÃO    nan\n",
              "27                            1     11426  ...  CIÊNCIAS BIOLÓGICAS    nan\n",
              "\n",
              "[5 rows x 28 columns]"
            ]
          },
          "metadata": {
            "tags": []
          },
          "execution_count": 96
        }
      ]
    },
    {
      "cell_type": "code",
      "metadata": {
        "id": "q7QGXOwkRUvo"
      },
      "source": [
        "dicionario = {0: \"Não Negro\", 1: \"Não Negro\", 2: \"Negro\", 3: \"Não Negro\", 4: \"Não Negro\", 5: \"Não Negro\", 6: \"Não Negro\"}"
      ],
      "execution_count": 97,
      "outputs": []
    },
    {
      "cell_type": "code",
      "metadata": {
        "colab": {
          "base_uri": "https://localhost:8080/",
          "height": 407
        },
        "id": "9N3uLYUYSDWr",
        "outputId": "db0b5c5f-67a4-40ea-ad1b-fcc996927005"
      },
      "source": [
        "uni_publica[\"NEGRO\"] = uni_publica['TP_COR_RACA'].map(dicionario)\n",
        "uni_publica.head() "
      ],
      "execution_count": 98,
      "outputs": [
        {
          "output_type": "stream",
          "text": [
            "/usr/local/lib/python3.6/dist-packages/ipykernel_launcher.py:1: SettingWithCopyWarning: \n",
            "A value is trying to be set on a copy of a slice from a DataFrame.\n",
            "Try using .loc[row_indexer,col_indexer] = value instead\n",
            "\n",
            "See the caveats in the documentation: https://pandas.pydata.org/pandas-docs/stable/user_guide/indexing.html#returning-a-view-versus-a-copy\n",
            "  \"\"\"Entry point for launching an IPython kernel.\n"
          ],
          "name": "stderr"
        },
        {
          "output_type": "execute_result",
          "data": {
            "text/html": [
              "<div>\n",
              "<style scoped>\n",
              "    .dataframe tbody tr th:only-of-type {\n",
              "        vertical-align: middle;\n",
              "    }\n",
              "\n",
              "    .dataframe tbody tr th {\n",
              "        vertical-align: top;\n",
              "    }\n",
              "\n",
              "    .dataframe thead th {\n",
              "        text-align: right;\n",
              "    }\n",
              "</style>\n",
              "<table border=\"1\" class=\"dataframe\">\n",
              "  <thead>\n",
              "    <tr style=\"text-align: right;\">\n",
              "      <th></th>\n",
              "      <th>TP_CATEGORIA_ADMINISTRATIVA</th>\n",
              "      <th>CO_CURSO</th>\n",
              "      <th>TP_NIVEL_ACADEMICO</th>\n",
              "      <th>TP_MODALIDADE_ENSINO</th>\n",
              "      <th>TP_GRAU_ACADEMICO</th>\n",
              "      <th>TP_SITUACAO</th>\n",
              "      <th>IN_INGRESSO_VESTIBULAR</th>\n",
              "      <th>IN_INGRESSO_ENEM</th>\n",
              "      <th>IN_BOLSA_ESTAGIO</th>\n",
              "      <th>IN_RESERVA_ENSINO_PUBLICO</th>\n",
              "      <th>IN_RESERVA_ETNICO</th>\n",
              "      <th>IN_RESERVA_RENDA_FAMILIAR</th>\n",
              "      <th>IN_FINANCIAMENTO_ESTUDANTIL</th>\n",
              "      <th>IN_FIN_NAOREEMB_PROUNI_INTEGR</th>\n",
              "      <th>IN_FIN_NAOREEMB_PROUNI_PARCIAL</th>\n",
              "      <th>'IN_FIN_REEMB_FIES</th>\n",
              "      <th>TP_SEXO</th>\n",
              "      <th>TP_COR_RACA</th>\n",
              "      <th>TP_NACIONALIDADE</th>\n",
              "      <th>CO_PAIS_ORIGEM</th>\n",
              "      <th>NU_IDADE</th>\n",
              "      <th>NU_ANO_INGRESSO</th>\n",
              "      <th>CO_UF_NASCIMENTO</th>\n",
              "      <th>TP_TURNO</th>\n",
              "      <th>NU_ANO_CENSO</th>\n",
              "      <th>IN_FIN_REEMB_FIES</th>\n",
              "      <th>NO_CURSO</th>\n",
              "      <th>NEGRO</th>\n",
              "    </tr>\n",
              "  </thead>\n",
              "  <tbody>\n",
              "    <tr>\n",
              "      <th>6</th>\n",
              "      <td>2</td>\n",
              "      <td>86244</td>\n",
              "      <td>1</td>\n",
              "      <td>1</td>\n",
              "      <td>2.0</td>\n",
              "      <td>2</td>\n",
              "      <td>1</td>\n",
              "      <td>0</td>\n",
              "      <td>0.0</td>\n",
              "      <td>0.0</td>\n",
              "      <td>0.0</td>\n",
              "      <td>0.0</td>\n",
              "      <td>0.0</td>\n",
              "      <td>0.0</td>\n",
              "      <td>0.0</td>\n",
              "      <td>0.0</td>\n",
              "      <td>0</td>\n",
              "      <td>0</td>\n",
              "      <td>1</td>\n",
              "      <td>10</td>\n",
              "      <td>26</td>\n",
              "      <td>2009</td>\n",
              "      <td>null</td>\n",
              "      <td>0.0</td>\n",
              "      <td>2009</td>\n",
              "      <td>NaN</td>\n",
              "      <td>CIÊNCIAS BIOLÓGICAS</td>\n",
              "      <td>Não Negro</td>\n",
              "    </tr>\n",
              "    <tr>\n",
              "      <th>9</th>\n",
              "      <td>3</td>\n",
              "      <td>16103</td>\n",
              "      <td>1</td>\n",
              "      <td>1</td>\n",
              "      <td>2.0</td>\n",
              "      <td>6</td>\n",
              "      <td>1</td>\n",
              "      <td>1</td>\n",
              "      <td>0.0</td>\n",
              "      <td>0.0</td>\n",
              "      <td>0.0</td>\n",
              "      <td>0.0</td>\n",
              "      <td>0.0</td>\n",
              "      <td>0.0</td>\n",
              "      <td>0.0</td>\n",
              "      <td>0.0</td>\n",
              "      <td>0</td>\n",
              "      <td>6</td>\n",
              "      <td>1</td>\n",
              "      <td>10</td>\n",
              "      <td>23</td>\n",
              "      <td>2006</td>\n",
              "      <td>null</td>\n",
              "      <td>0.0</td>\n",
              "      <td>2009</td>\n",
              "      <td>NaN</td>\n",
              "      <td>HISTÓRIA</td>\n",
              "      <td>Não Negro</td>\n",
              "    </tr>\n",
              "    <tr>\n",
              "      <th>17</th>\n",
              "      <td>1</td>\n",
              "      <td>83927</td>\n",
              "      <td>1</td>\n",
              "      <td>1</td>\n",
              "      <td>2.0</td>\n",
              "      <td>4</td>\n",
              "      <td>1</td>\n",
              "      <td>0</td>\n",
              "      <td>0.0</td>\n",
              "      <td>0.0</td>\n",
              "      <td>0.0</td>\n",
              "      <td>0.0</td>\n",
              "      <td>0.0</td>\n",
              "      <td>0.0</td>\n",
              "      <td>0.0</td>\n",
              "      <td>0.0</td>\n",
              "      <td>0</td>\n",
              "      <td>1</td>\n",
              "      <td>1</td>\n",
              "      <td>10</td>\n",
              "      <td>21</td>\n",
              "      <td>2009</td>\n",
              "      <td>null</td>\n",
              "      <td>0.0</td>\n",
              "      <td>2009</td>\n",
              "      <td>NaN</td>\n",
              "      <td>CIÊNCIAS BIOLÓGICAS</td>\n",
              "      <td>Não Negro</td>\n",
              "    </tr>\n",
              "    <tr>\n",
              "      <th>20</th>\n",
              "      <td>2</td>\n",
              "      <td>120595</td>\n",
              "      <td>1</td>\n",
              "      <td>1</td>\n",
              "      <td>1.0</td>\n",
              "      <td>2</td>\n",
              "      <td>1</td>\n",
              "      <td>0</td>\n",
              "      <td>0.0</td>\n",
              "      <td>0.0</td>\n",
              "      <td>0.0</td>\n",
              "      <td>0.0</td>\n",
              "      <td>0.0</td>\n",
              "      <td>0.0</td>\n",
              "      <td>0.0</td>\n",
              "      <td>0.0</td>\n",
              "      <td>0</td>\n",
              "      <td>6</td>\n",
              "      <td>1</td>\n",
              "      <td>10</td>\n",
              "      <td>48</td>\n",
              "      <td>2009</td>\n",
              "      <td>null</td>\n",
              "      <td>0.0</td>\n",
              "      <td>2009</td>\n",
              "      <td>NaN</td>\n",
              "      <td>ADMINISTRAÇÃO</td>\n",
              "      <td>Não Negro</td>\n",
              "    </tr>\n",
              "    <tr>\n",
              "      <th>27</th>\n",
              "      <td>1</td>\n",
              "      <td>11426</td>\n",
              "      <td>1</td>\n",
              "      <td>1</td>\n",
              "      <td>4.0</td>\n",
              "      <td>3</td>\n",
              "      <td>1</td>\n",
              "      <td>0</td>\n",
              "      <td>0.0</td>\n",
              "      <td>0.0</td>\n",
              "      <td>0.0</td>\n",
              "      <td>0.0</td>\n",
              "      <td>0.0</td>\n",
              "      <td>0.0</td>\n",
              "      <td>0.0</td>\n",
              "      <td>0.0</td>\n",
              "      <td>0</td>\n",
              "      <td>6</td>\n",
              "      <td>1</td>\n",
              "      <td>10</td>\n",
              "      <td>17</td>\n",
              "      <td>2009</td>\n",
              "      <td>null</td>\n",
              "      <td>0.0</td>\n",
              "      <td>2009</td>\n",
              "      <td>NaN</td>\n",
              "      <td>CIÊNCIAS BIOLÓGICAS</td>\n",
              "      <td>Não Negro</td>\n",
              "    </tr>\n",
              "  </tbody>\n",
              "</table>\n",
              "</div>"
            ],
            "text/plain": [
              "    TP_CATEGORIA_ADMINISTRATIVA  CO_CURSO  ...             NO_CURSO      NEGRO\n",
              "6                             2     86244  ...  CIÊNCIAS BIOLÓGICAS  Não Negro\n",
              "9                             3     16103  ...             HISTÓRIA  Não Negro\n",
              "17                            1     83927  ...  CIÊNCIAS BIOLÓGICAS  Não Negro\n",
              "20                            2    120595  ...        ADMINISTRAÇÃO  Não Negro\n",
              "27                            1     11426  ...  CIÊNCIAS BIOLÓGICAS  Não Negro\n",
              "\n",
              "[5 rows x 28 columns]"
            ]
          },
          "metadata": {
            "tags": []
          },
          "execution_count": 98
        }
      ]
    },
    {
      "cell_type": "code",
      "metadata": {
        "colab": {
          "base_uri": "https://localhost:8080/",
          "height": 557
        },
        "id": "wbu_8i6_TI3L",
        "outputId": "62a174fa-0940-4b4a-ee54-3709418170ca"
      },
      "source": [
        "plt.figure(figsize=(18, 8))\n",
        "sns.barplot(x=uni_publica.NO_CURSO.value_counts().head(10), y=uni_publica.NO_CURSO.value_counts().head(10).index, palette=\"Spectral\")\n",
        "sns.barplot(x=uni_publica_negros.NO_CURSO.value_counts().head(10), y=uni_publica_negros.NO_CURSO.value_counts().head(10).index, palette=\"Blues_r\")\n",
        "plt.title(\"Cursos mais frequentados em faculdades publicas\")\n",
        "plt.show()"
      ],
      "execution_count": 99,
      "outputs": [
        {
          "output_type": "display_data",
          "data": {
            "image/png": "[encoded data removed]",
            "text/plain": [
              "<Figure size 1296x576 with 1 Axes>"
            ]
          },
          "metadata": {
            "tags": []
          }
        }
      ]
    },
    {
      "cell_type": "markdown",
      "metadata": {
        "id": "zIZzCGQQ4T39"
      },
      "source": [
        "Neste gráfico podemos observar na parte mais escura das barras, a proporção de alunos negros em comparação a todos os alunos matriculados em universidades públicas."
      ]
    },
    {
      "cell_type": "markdown",
      "metadata": {
        "id": "eJVBII8CVUpz"
      },
      "source": [
        "##Conclusão"
      ]
    },
    {
      "cell_type": "code",
      "metadata": {
        "colab": {
          "base_uri": "https://localhost:8080/"
        },
        "id": "aeelsR4eVYD2",
        "outputId": "ac0cc26f-e19e-4521-e38b-f020fb4d49dd"
      },
      "source": [
        "print(f\"Quantidade de negros matriculados em Universidades: {df_negros.shape[0]}\\n\",\n",
        "      f\"Quantidade de negros em universidades publicas: {uni_publica_negros.shape[0]}\\n\",\n",
        "      f\"Quantidade de negros em cursos de graduação: \\n {uni_publica_negros.NO_CURSO.value_counts().head(20)}\")"
      ],
      "execution_count": 169,
      "outputs": [
        {
          "output_type": "stream",
          "text": [
            "Quantidade de negros matriculados em Universidades: 453\n",
            " Quantidade de negros em universidades publicas: 428\n",
            " Quantidade de negros em cursos de graduação: \n",
            " DIREITO                              282\n",
            "CIÊNCIAS ECONÔMICAS                   16\n",
            "PEDAGOGIA                             15\n",
            "SERVIÇO SOCIAL                        14\n",
            "CIÊNCIAS CONTÁBEIS                    11\n",
            "ADMINISTRAÇÃO                          8\n",
            "CIÊNCIAS SOCIAIS                       7\n",
            "SAÚDE COLETIVA                         7\n",
            "QUÍMICA                                6\n",
            "MATEMÁTICA                             5\n",
            "CIÊNCIA E TECNOLOGIA DE ALIMENTOS      5\n",
            "GEOGRAFIA                              5\n",
            "HISTÓRIA                               5\n",
            "ENGENHARIA CIVIL                       3\n",
            "ARQUITETURA E URBANISMO                3\n",
            "FÍSICA                                 3\n",
            "ENGENHARIA ELÉTRICA                    2\n",
            "ENFERMAGEM                             2\n",
            "FILOSOFIA                              2\n",
            "LETRAS - LÍNGUA PORTUGUESA             2\n",
            "Name: NO_CURSO, dtype: int64\n"
          ],
          "name": "stdout"
        }
      ]
    },
    {
      "cell_type": "markdown",
      "metadata": {
        "id": "5jZ9e5Y33MDm"
      },
      "source": [
        "***Observação importante***\n",
        "\n",
        "Devido a limitação da ferramenta, os dados não foram carregados em sua totalidade apenas uma pequena amostra de 500 registros por ano, tendo em vista que o objetivo desta análise é explorar os dados de uma forma geral, ou seja, para uma análise mais profunda com resultados mais objetivos esta plataforma não seria a mais adequada para a exploração de todo o conjunto de dados disponíveis.\n"
      ]
    },
    {
      "cell_type": "code",
      "metadata": {
        "id": "59bVbAbF3dT8"
      },
      "source": [
        ""
      ],
      "execution_count": null,
      "outputs": []
    }
  ]
}