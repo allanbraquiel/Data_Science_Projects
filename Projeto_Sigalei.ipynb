{
  "nbformat": 4,
  "nbformat_minor": 0,
  "metadata": {
    "colab": {
      "name": "Projeto Sigalei.ipynb",
      "provenance": [],
      "collapsed_sections": [],
      "mount_file_id": "1ReI8rkBgifxEBnVMkgB4t8afagQlv9QB",
      "authorship_tag": "ABX9TyOSx205iiPbxaZzm0q/70y/",
      "include_colab_link": true
    },
    "kernelspec": {
      "display_name": "Python 3",
      "name": "python3"
    },
    "accelerator": "GPU"
  },
  "cells": [
    {
      "cell_type": "markdown",
      "metadata": {
        "id": "view-in-github",
        "colab_type": "text"
      },
      "source": [
        "<a href=\"https://colab.research.google.com/github/allanbraquiel/Data_Science_Projects/blob/master/Projeto_Sigalei.ipynb\" target=\"_parent\"><img src=\"https://colab.research.google.com/assets/colab-badge.svg\" alt=\"Open In Colab\"/></a>"
      ]
    },
    {
      "cell_type": "markdown",
      "metadata": {
        "id": "LC012mT7bK7U"
      },
      "source": [
        "##Projeto de análise do censo so ensino superior de 2009 a 2019"
      ]
    },
    {
      "cell_type": "markdown",
      "metadata": {
        "id": "FUlNKMqLHwmI"
      },
      "source": [
        "# Dicionário dos dados"
      ]
    },
    {
      "cell_type": "markdown",
      "metadata": {
        "id": "6KRGEoNNcDeg"
      },
      "source": [
        "Dados coletados na base de dados no INEP. Para acessar os dados clique no link abaixo:\n",
        "\n",
        "https://www.gov.br/inep/pt-br/areas-de-atuacao/pesquisas-estatisticas-e-indicadores/censo-da-educacao-superior/resultados?_authenticator=73b6b0e03f10cadf5ec8ab8e09e6be4f931e571f\n",
        "\n",
        "\n",
        "\n",
        "*   NU_ANO_CENSO -  Ano de Referência do Censo Superior\n",
        "\n",
        "* TP_CATEGORIA_ADMINISTRATIVA - Tipo da Categoria Administrativa da IES\n",
        "\n",
        ">1. Pública Federal\n",
        ">2. Pública Estadual\n",
        ">3. Pública Municipal\n",
        ">4. Privada com fins lucrativos\n",
        ">5. Privada sem fins lucrativos\n",
        ">6. Privada - Particular em sentido estrito\n",
        ">7. Especial\n",
        ">8. Privada comunitária\n",
        ">9. Privada confessional\n",
        "\n",
        "*   CO_CURSO - Código único de identificação do curso gerado pelo E-MEC\n",
        "\n",
        "*   TP_TURNO - Tipo do turno do curso ao qual o aluno está vinculado\n",
        "\n",
        "> 1. Matutino\n",
        "> 2. Vespertino\n",
        "> 3. Noturno\n",
        "> 4. Integral\n",
        "\n",
        "> (.) Não aplicável (EAD)\n",
        "\n",
        "*   TP_GRAU_ACADEMICO - Tipo do grau acadêmico conferido ao diplomado pelo curso\n",
        "\n",
        "\n",
        "> 1. Bacharelado\n",
        "> 2. Licenciatura\n",
        "> 3. Tecnológico\n",
        "> 4. Bacharelado e Licenciatura\n",
        "\n",
        "> (.) Não aplicável (cursos com nivel acadêmico igual a sequencial de formação específica ou  cursos com área básica de curso)\n",
        "\n",
        "*   TP_MODALIDADE_ENSINO - Tipo da modalidade de ensino do curso\n",
        "\n",
        "\n",
        "> 1. Presencial\n",
        "> 2. Curso a distância\n",
        "\n",
        "\n",
        "*   TP_NIVEL_ACADEMICO - Tipo do nível acadêmico do curso\n",
        "\n",
        "\n",
        "> 1. Graduação\n",
        "\n",
        "> 2. Seqüencial de Formação Específica\n",
        "\n",
        "\n",
        "*   TP_COR_RACA - Tipo da cor/raça do aluno\n",
        "\n",
        "> 0. Aluno não quis declarar cor/raça\n",
        "> 1. Branca\n",
        "> 3. Preta\n",
        "> 3. Parda\n",
        "> 4. Amarela\n",
        "> 5. Indígena\n",
        "> 9. Não dispõe da informação (Não resposta)\n",
        "\n",
        "*   TP_SEXO - Informa o sexo do aluno\n",
        "\n",
        "> 0. Não Informado\n",
        "> 1. Feminino\n",
        "> 2. Masculino  \n",
        "\n",
        "*   NU_IDADE - Idade que o aluno completa no ano de referência do Censo\n",
        "\n",
        "*   TP_NACIONALIDADE - Tipo da nacionalidade do aluno\n",
        "\n",
        "> 1. Brasileira\n",
        "> 2. Brasileira - nascido no exterior ou naturalizado\n",
        "> 3. Estrangeira   \n",
        "\n",
        "*   CO_PAIS_ORIGEM - Código do país de nascimento ou de naturalização do aluno estrangeiro\n",
        "\n",
        "*   CO_UF_NASCIMENTO - Código do IBGE da Unidade da Federação de nascimento do aluno\n",
        "\n",
        "* CO_MUNICIPIO_NASCIMENTO - Código do IBGE do município de nascimento do aluno\n",
        "\n",
        "*   IN_DEFICIENCIA - nforma se o aluno é uma pessoa com deficiência auditiva\n",
        "\n",
        "> 0. Não\n",
        "> 1. Sim \n",
        "\n",
        "> (.) Aluno não possui qualquer tipo de deficiência\n",
        "\n",
        "*   TP_SITUACAO - Tipo de situação de vínculo do aluno no curso\n",
        "\n",
        "> 2. Cursando\n",
        "> 3. Matrícula trancada\n",
        "> 4. Desvinculado do curso\n",
        "> 5. Transferido para outro curso da mesma IES\n",
        "> 6. Formado\n",
        "> 7. Falecido   \n",
        "\n",
        "*   IN_INGRESSO_VESTIBULAR - Informa se o aluno ingressou no curso por vestibular. \n",
        "\n",
        "> 0. Não\n",
        "> 1. Sim\n",
        "\n",
        "*   IN_INGRESSO_ENEM - Informa se o aluno ingressou no curso pelo Enem. \n",
        "\n",
        "> 0. Não\n",
        "> 1. Sim\n",
        "\n",
        "*   IN_RESERVA_ETNICO - Informa se o aluno ingressou por meio de programa de reserva de vagas de cunho etnico\n",
        "\n",
        "> 0. Não (aluno possui outro tipo de reserva de vagas)\n",
        "> 1. Sim (aluno não possui qualquer tipo de reserva de vagas)\n",
        "\n",
        "*   N_RESERVA_ENSINO_PUBLICO -  Informa se o aluno ingressou por meio de programa de reserva de vagas para egressos da escola pública\n",
        "\n",
        "> 0. Não (aluno possui outro tipo de reserva de vagas)\n",
        "> 1. Sim (aluno não possui qualquer tipo de reserva de vagas)\n",
        "\n",
        "*   IN_RESERVA_RENDA_FAMILIAR - Informa se o aluno ingressou por meio de programa de reserva de vagas de cunho social/renda familiar\n",
        "\n",
        "> 0. Não (aluno possui outro tipo de reserva de vagas)\n",
        "> 1. Sim (aluno não possui qualquer tipo de reserva de vagas)\n",
        "\n",
        "*   IN_FINANCIAMENTO_ESTUDANTIL - Informa se o aluno utiliza financiamento estudantil\n",
        "\n",
        "> 0. Não\n",
        "> 1. Sim\n",
        "\n",
        "*   IN_FIN_REEMB_FIES - Informa se o aluno utiliza o Fundo de Financiamento Estudantil (Fies) como forma de financimanto estudantil reembolsável\n",
        "\n",
        "> 0. Não (Aluno possui outro tipo de financiamento)\n",
        "> 1. Sim (.) Aluno não possui qualquer tipo de financiamento\n",
        "\n",
        "*   IN_FIN_NAOREEMB_PROUNI_INTEGR - Informa se o aluno é bolsista integral do Programa Universidade para Todos (Prouni), tipo de financiamento estudantil não reembolsável\n",
        "\n",
        "> 0. Não (Aluno possui outro tipo de financiamento)\n",
        "> 1. Sim (.) Aluno não possui qualquer tipo de financiamento\n",
        "\n",
        "*   IN_FIN_NAOREEMB_PROUNI_PARCIAL - Informa se o aluno é bolsista parcial do Programa Universidade para Todos (Prouni), tipo de financiamento estudantil não reembolsável\n",
        "\n",
        "> 0. Não (Aluno possui outro tipo de financiamento)\n",
        "> 1. Sim (.) Aluno não possui qualquer tipo de financiamento\n",
        "\n",
        "*   IN_BOLSA_ESTAGIO - Informa se o aluno recebe bolsa/remuneraçãopor participar de atividade extracurricular de extensão. \n",
        "\n",
        "> 0. Não (Aluno faz atividade extracurricular de estágio, mas não recebe bolsa)\n",
        "> 1. Sim (.) Aluno não faz atividade extracurricular de estágio\n",
        "\n",
        "\n",
        "* NU_ANO_INGRESSO - Ano de ingresso do aluno curso\n",
        "\n",
        "\n",
        "\n",
        "\n",
        " \n",
        "  \n",
        " \n",
        "  \n",
        "  \n",
        "  \n",
        "  \n",
        " \n",
        " \n"
      ]
    },
    {
      "cell_type": "code",
      "metadata": {
        "id": "MwQib0CpHfWC"
      },
      "source": [
        "import pandas as pd\n",
        "import numpy as np\n",
        "import zipfile\n",
        "import seaborn as sns\n",
        "import matplotlib.pyplot as plt\n",
        "%matplotlib inline\n",
        "\n",
        "import pylab\n",
        "pylab.rcParams['figure.figsize'] = (15.0, 10.0)"
      ],
      "execution_count": 3,
      "outputs": []
    },
    {
      "cell_type": "markdown",
      "metadata": {
        "id": "M8Xwk4HGH30_"
      },
      "source": [
        "# Carregando os dados"
      ]
    },
    {
      "cell_type": "markdown",
      "metadata": {
        "id": "EudHHuS9XPWS"
      },
      "source": [
        "Listando os arquivos que estão dentro do arquivo compactado"
      ]
    },
    {
      "cell_type": "code",
      "metadata": {
        "colab": {
          "base_uri": "https://localhost:8080/"
        },
        "id": "YDcpCrIBIDgX",
        "outputId": "99738566-d78d-4ae9-f762-a8ddbeb17ce3"
      },
      "source": [
        "with zipfile.ZipFile(\"/content/drive/MyDrive/Colab_Notebooks/Projeto Sigalei/microdados_educacao_superior_2019.zip\") as z:\n",
        "  print(*z.namelist(), sep=\"\\n\")"
      ],
      "execution_count": 4,
      "outputs": [
        {
          "output_type": "stream",
          "text": [
            "Microdados_Educaç╞o_Superior_2019/\n",
            "Microdados_Educaç╞o_Superior_2019/anexos/\n",
            "Microdados_Educaç╞o_Superior_2019/anexos/ANEXO I - Dicionário de Variáveis e Tabelas Auxiliares/\n",
            "Microdados_Educaç╞o_Superior_2019/anexos/ANEXO I - Dicionário de Variáveis e Tabelas Auxiliares/Código_do_País_de_Nascimento_ou_Naturalizaç╞o.xlsx\n",
            "Microdados_Educaç╞o_Superior_2019/anexos/ANEXO I - Dicionário de Variáveis e Tabelas Auxiliares/Dicionário de Variáveis.xls\n",
            "Microdados_Educaç╞o_Superior_2019/anexos/ANEXO II - Questionários do Censo da Educaç╞o Superior/\n",
            "Microdados_Educaç╞o_Superior_2019/anexos/ANEXO II - Questionários do Censo da Educaç╞o Superior/ANEXO II - MαDULO ALUNO 2019.pdf\n",
            "Microdados_Educaç╞o_Superior_2019/anexos/ANEXO II - Questionários do Censo da Educaç╞o Superior/ANEXO II - MαDULO CURSO 2019.pdf\n",
            "Microdados_Educaç╞o_Superior_2019/anexos/ANEXO II - Questionários do Censo da Educaç╞o Superior/ANEXO II - MαDULO DOCENTE 2019.pdf\n",
            "Microdados_Educaç╞o_Superior_2019/anexos/ANEXO II - Questionários do Censo da Educaç╞o Superior/ANEXO II - MαDULO IES 2019.pdf\n",
            "Microdados_Educaç╞o_Superior_2019/dados/\n",
            "Microdados_Educaç╞o_Superior_2019/dados/MD5_microdados_ed_superior_2019.txt\n",
            "Microdados_Educaç╞o_Superior_2019/dados/SUP_ALUNO_2019.CSV\n",
            "Microdados_Educaç╞o_Superior_2019/dados/SUP_CURSO_2019.CSV\n",
            "Microdados_Educaç╞o_Superior_2019/dados/SUP_DOCENTE_2019.CSV\n",
            "Microdados_Educaç╞o_Superior_2019/dados/SUP_IES_2019.CSV\n",
            "Microdados_Educaç╞o_Superior_2019/dados/SUP_LOCAL_OFERTA_2019.CSV\n",
            "Microdados_Educaç╞o_Superior_2019/dados/TB_AUX_CINE_BRASIL_2019.CSV\n",
            "Microdados_Educaç╞o_Superior_2019/filtros/\n",
            "Microdados_Educaç╞o_Superior_2019/filtros/Filtros Censo Ed Superior 2019.pdf\n",
            "Microdados_Educaç╞o_Superior_2019/leia-me/\n",
            "Microdados_Educaç╞o_Superior_2019/leia-me/Leia_me Superior_2019.pdf\n"
          ],
          "name": "stdout"
        }
      ]
    },
    {
      "cell_type": "markdown",
      "metadata": {
        "id": "U2QBHzGvXg1D"
      },
      "source": [
        "Carregando o dataset somente com as colunas para verificar quais colunas serão utilizadas na análise"
      ]
    },
    {
      "cell_type": "code",
      "metadata": {
        "id": "ZLC44x2aIzQ0"
      },
      "source": [
        "with zipfile.ZipFile(\"/content/drive/MyDrive/Colab_Notebooks/Projeto Sigalei/microdados_educacao_superior_2019.zip\") as z:\n",
        "  with z.open(\"Microdados_Educaç╞o_Superior_2019/dados/SUP_ALUNO_2019.CSV\") as f:\n",
        "    df = pd.read_csv(f, sep=\"|\", nrows=0)"
      ],
      "execution_count": 5,
      "outputs": []
    },
    {
      "cell_type": "code",
      "metadata": {
        "colab": {
          "base_uri": "https://localhost:8080/"
        },
        "id": "FFnLDS2BKXs7",
        "outputId": "a4fdb84e-6ce0-4a44-b9a9-8a19634f6489"
      },
      "source": [
        "df.columns.values"
      ],
      "execution_count": 6,
      "outputs": [
        {
          "output_type": "execute_result",
          "data": {
            "text/plain": [
              "array(['NU_ANO_CENSO', 'CO_IES', 'TP_CATEGORIA_ADMINISTRATIVA',\n",
              "       'TP_ORGANIZACAO_ACADEMICA', 'CO_CURSO', 'CO_CURSO_POLO',\n",
              "       'TP_TURNO', 'TP_GRAU_ACADEMICO', 'TP_MODALIDADE_ENSINO',\n",
              "       'TP_NIVEL_ACADEMICO', 'CO_CINE_ROTULO', 'ID_ALUNO',\n",
              "       'CO_ALUNO_CURSO', 'CO_ALUNO_CURSO_ORIGEM', 'TP_COR_RACA',\n",
              "       'TP_SEXO', 'NU_ANO_NASCIMENTO', 'NU_MES_NASCIMENTO',\n",
              "       'NU_DIA_NASCIMENTO', 'NU_IDADE', 'TP_NACIONALIDADE',\n",
              "       'CO_PAIS_ORIGEM', 'CO_UF_NASCIMENTO', 'CO_MUNICIPIO_NASCIMENTO',\n",
              "       'IN_DEFICIENCIA', 'IN_DEFICIENCIA_AUDITIVA',\n",
              "       'IN_DEFICIENCIA_FISICA', 'IN_DEFICIENCIA_INTELECTUAL',\n",
              "       'IN_DEFICIENCIA_MULTIPLA', 'IN_DEFICIENCIA_SURDEZ',\n",
              "       'IN_DEFICIENCIA_SURDOCEGUEIRA', 'IN_DEFICIENCIA_BAIXA_VISAO',\n",
              "       'IN_DEFICIENCIA_CEGUEIRA', 'IN_DEFICIENCIA_SUPERDOTACAO',\n",
              "       'IN_TGD_AUTISMO', 'IN_TGD_SINDROME_ASPERGER',\n",
              "       'IN_TGD_SINDROME_RETT', 'IN_TGD_TRANSTOR_DESINTEGRATIVO',\n",
              "       'TP_SITUACAO', 'QT_CARGA_HORARIA_TOTAL', 'QT_CARGA_HORARIA_INTEG',\n",
              "       'DT_INGRESSO_CURSO', 'IN_INGRESSO_VESTIBULAR', 'IN_INGRESSO_ENEM',\n",
              "       'IN_INGRESSO_AVALIACAO_SERIADA', 'IN_INGRESSO_SELECAO_SIMPLIFICA',\n",
              "       'IN_INGRESSO_OUTRO_TIPO_SELECAO', 'IN_INGRESSO_VAGA_REMANESC',\n",
              "       'IN_INGRESSO_VAGA_PROG_ESPECIAL', 'IN_INGRESSO_TRANSF_EXOFFICIO',\n",
              "       'IN_INGRESSO_DECISAO_JUDICIAL', 'IN_INGRESSO_CONVENIO_PECG',\n",
              "       'IN_INGRESSO_EGRESSO', 'IN_INGRESSO_OUTRA_FORMA',\n",
              "       'IN_RESERVA_VAGAS', 'IN_RESERVA_ETNICO', 'IN_RESERVA_DEFICIENCIA',\n",
              "       'IN_RESERVA_ENSINO_PUBLICO', 'IN_RESERVA_RENDA_FAMILIAR',\n",
              "       'IN_RESERVA_OUTRA', 'IN_FINANCIAMENTO_ESTUDANTIL',\n",
              "       'IN_FIN_REEMB_FIES', 'IN_FIN_REEMB_ESTADUAL',\n",
              "       'IN_FIN_REEMB_MUNICIPAL', 'IN_FIN_REEMB_PROG_IES',\n",
              "       'IN_FIN_REEMB_ENT_EXTERNA', 'IN_FIN_REEMB_OUTRA',\n",
              "       'IN_FIN_NAOREEMB_PROUNI_INTEGR', 'IN_FIN_NAOREEMB_PROUNI_PARCIAL',\n",
              "       'IN_FIN_NAOREEMB_ESTADUAL', 'IN_FIN_NAOREEMB_MUNICIPAL',\n",
              "       'IN_FIN_NAOREEMB_PROG_IES', 'IN_FIN_NAOREEMB_ENT_EXTERNA',\n",
              "       'IN_FIN_NAOREEMB_OUTRA', 'IN_APOIO_SOCIAL', 'IN_APOIO_ALIMENTACAO',\n",
              "       'IN_APOIO_BOLSA_PERMANENCIA', 'IN_APOIO_BOLSA_TRABALHO',\n",
              "       'IN_APOIO_MATERIAL_DIDATICO', 'IN_APOIO_MORADIA',\n",
              "       'IN_APOIO_TRANSPORTE', 'IN_ATIVIDADE_EXTRACURRICULAR',\n",
              "       'IN_COMPLEMENTAR_ESTAGIO', 'IN_COMPLEMENTAR_EXTENSAO',\n",
              "       'IN_COMPLEMENTAR_MONITORIA', 'IN_COMPLEMENTAR_PESQUISA',\n",
              "       'IN_BOLSA_ESTAGIO', 'IN_BOLSA_EXTENSAO', 'IN_BOLSA_MONITORIA',\n",
              "       'IN_BOLSA_PESQUISA', 'TP_ESCOLA_CONCLUSAO_ENS_MEDIO',\n",
              "       'IN_ALUNO_PARFOR', 'TP_SEMESTRE_CONCLUSAO',\n",
              "       'TP_SEMESTRE_REFERENCIA', 'IN_MOBILIDADE_ACADEMICA',\n",
              "       'TP_MOBILIDADE_ACADEMICA', 'TP_MOBILIDADE_ACADEMICA_INTERN',\n",
              "       'CO_IES_DESTINO', 'CO_PAIS_DESTINO', 'IN_MATRICULA',\n",
              "       'IN_CONCLUINTE', 'IN_INGRESSO_TOTAL', 'IN_INGRESSO_VAGA_NOVA',\n",
              "       'IN_INGRESSO_PROCESSO_SELETIVO', 'NU_ANO_INGRESSO'], dtype=object)"
            ]
          },
          "metadata": {
            "tags": []
          },
          "execution_count": 6
        }
      ]
    },
    {
      "cell_type": "markdown",
      "metadata": {
        "id": "Uo2aFt6sYg7u"
      },
      "source": [
        "Selecionando as colunas que serão analisadas"
      ]
    },
    {
      "cell_type": "code",
      "metadata": {
        "id": "3pjfBm4iLR69"
      },
      "source": [
        "colunas = ['NU_ANO_CENSO', 'TP_CATEGORIA_ADMINISTRATIVA', 'CO_CURSO', 'TP_TURNO', 'TP_GRAU_ACADEMICO', 'TP_MODALIDADE_ENSINO', 'TP_NIVEL_ACADEMICO', 'TP_COR_RACA', 'TP_SEXO', 'NU_IDADE', 'TP_NACIONALIDADE', \n",
        "           'CO_PAIS_ORIGEM', 'CO_UF_NASCIMENTO', 'TP_SITUACAO', 'IN_INGRESSO_VESTIBULAR', 'IN_INGRESSO_ENEM', 'IN_RESERVA_ETNICO', \n",
        "           'IN_RESERVA_ENSINO_PUBLICO', 'IN_RESERVA_RENDA_FAMILIAR', 'IN_FINANCIAMENTO_ESTUDANTIL', 'IN_FIN_REEMB_FIES', 'IN_FIN_NAOREEMB_PROUNI_INTEGR', \n",
        "           'IN_FIN_NAOREEMB_PROUNI_PARCIAL', 'IN_BOLSA_ESTAGIO', 'NU_ANO_INGRESSO']"
      ],
      "execution_count": 7,
      "outputs": []
    },
    {
      "cell_type": "markdown",
      "metadata": {
        "id": "FWj94RvMa_lY"
      },
      "source": [
        "Carregando os dados de 2019"
      ]
    },
    {
      "cell_type": "code",
      "metadata": {
        "id": "_jQyCA3JKuJJ"
      },
      "source": [
        "with zipfile.ZipFile(\"/content/drive/MyDrive/Colab_Notebooks/Projeto Sigalei/microdados_educacao_superior_2019.zip\") as z:\n",
        "  with z.open(\"Microdados_Educaç╞o_Superior_2019/dados/SUP_ALUNO_2019.CSV\") as f:\n",
        "    df_2019 = pd.read_csv(f, sep=\"|\", usecols=colunas, nrows=1000)"
      ],
      "execution_count": 8,
      "outputs": []
    },
    {
      "cell_type": "code",
      "metadata": {
        "colab": {
          "base_uri": "https://localhost:8080/",
          "height": 217
        },
        "id": "XgS6c8Rxbhoc",
        "outputId": "ec57614b-f0d2-4290-b5de-2da8ec5da34f"
      },
      "source": [
        "df_2019.head()"
      ],
      "execution_count": 9,
      "outputs": [
        {
          "output_type": "execute_result",
          "data": {
            "text/html": [
              "<div>\n",
              "<style scoped>\n",
              "    .dataframe tbody tr th:only-of-type {\n",
              "        vertical-align: middle;\n",
              "    }\n",
              "\n",
              "    .dataframe tbody tr th {\n",
              "        vertical-align: top;\n",
              "    }\n",
              "\n",
              "    .dataframe thead th {\n",
              "        text-align: right;\n",
              "    }\n",
              "</style>\n",
              "<table border=\"1\" class=\"dataframe\">\n",
              "  <thead>\n",
              "    <tr style=\"text-align: right;\">\n",
              "      <th></th>\n",
              "      <th>NU_ANO_CENSO</th>\n",
              "      <th>TP_CATEGORIA_ADMINISTRATIVA</th>\n",
              "      <th>CO_CURSO</th>\n",
              "      <th>TP_TURNO</th>\n",
              "      <th>TP_GRAU_ACADEMICO</th>\n",
              "      <th>TP_MODALIDADE_ENSINO</th>\n",
              "      <th>TP_NIVEL_ACADEMICO</th>\n",
              "      <th>TP_COR_RACA</th>\n",
              "      <th>TP_SEXO</th>\n",
              "      <th>NU_IDADE</th>\n",
              "      <th>TP_NACIONALIDADE</th>\n",
              "      <th>CO_PAIS_ORIGEM</th>\n",
              "      <th>CO_UF_NASCIMENTO</th>\n",
              "      <th>TP_SITUACAO</th>\n",
              "      <th>IN_INGRESSO_VESTIBULAR</th>\n",
              "      <th>IN_INGRESSO_ENEM</th>\n",
              "      <th>IN_RESERVA_ETNICO</th>\n",
              "      <th>IN_RESERVA_ENSINO_PUBLICO</th>\n",
              "      <th>IN_RESERVA_RENDA_FAMILIAR</th>\n",
              "      <th>IN_FINANCIAMENTO_ESTUDANTIL</th>\n",
              "      <th>IN_FIN_REEMB_FIES</th>\n",
              "      <th>IN_FIN_NAOREEMB_PROUNI_INTEGR</th>\n",
              "      <th>IN_FIN_NAOREEMB_PROUNI_PARCIAL</th>\n",
              "      <th>IN_BOLSA_ESTAGIO</th>\n",
              "      <th>NU_ANO_INGRESSO</th>\n",
              "    </tr>\n",
              "  </thead>\n",
              "  <tbody>\n",
              "    <tr>\n",
              "      <th>0</th>\n",
              "      <td>2019</td>\n",
              "      <td>1</td>\n",
              "      <td>1</td>\n",
              "      <td>3</td>\n",
              "      <td>1</td>\n",
              "      <td>1</td>\n",
              "      <td>1</td>\n",
              "      <td>2</td>\n",
              "      <td>1</td>\n",
              "      <td>27</td>\n",
              "      <td>1</td>\n",
              "      <td>76</td>\n",
              "      <td>NaN</td>\n",
              "      <td>2</td>\n",
              "      <td>0</td>\n",
              "      <td>0</td>\n",
              "      <td>NaN</td>\n",
              "      <td>NaN</td>\n",
              "      <td>NaN</td>\n",
              "      <td>NaN</td>\n",
              "      <td>NaN</td>\n",
              "      <td>NaN</td>\n",
              "      <td>NaN</td>\n",
              "      <td>NaN</td>\n",
              "      <td>2017</td>\n",
              "    </tr>\n",
              "    <tr>\n",
              "      <th>1</th>\n",
              "      <td>2019</td>\n",
              "      <td>1</td>\n",
              "      <td>1</td>\n",
              "      <td>3</td>\n",
              "      <td>1</td>\n",
              "      <td>1</td>\n",
              "      <td>1</td>\n",
              "      <td>3</td>\n",
              "      <td>2</td>\n",
              "      <td>32</td>\n",
              "      <td>1</td>\n",
              "      <td>76</td>\n",
              "      <td>NaN</td>\n",
              "      <td>3</td>\n",
              "      <td>0</td>\n",
              "      <td>1</td>\n",
              "      <td>1.0</td>\n",
              "      <td>1.0</td>\n",
              "      <td>0.0</td>\n",
              "      <td>NaN</td>\n",
              "      <td>NaN</td>\n",
              "      <td>NaN</td>\n",
              "      <td>NaN</td>\n",
              "      <td>NaN</td>\n",
              "      <td>2016</td>\n",
              "    </tr>\n",
              "    <tr>\n",
              "      <th>2</th>\n",
              "      <td>2019</td>\n",
              "      <td>1</td>\n",
              "      <td>1</td>\n",
              "      <td>3</td>\n",
              "      <td>1</td>\n",
              "      <td>1</td>\n",
              "      <td>1</td>\n",
              "      <td>3</td>\n",
              "      <td>2</td>\n",
              "      <td>31</td>\n",
              "      <td>1</td>\n",
              "      <td>76</td>\n",
              "      <td>NaN</td>\n",
              "      <td>2</td>\n",
              "      <td>0</td>\n",
              "      <td>1</td>\n",
              "      <td>0.0</td>\n",
              "      <td>1.0</td>\n",
              "      <td>0.0</td>\n",
              "      <td>NaN</td>\n",
              "      <td>NaN</td>\n",
              "      <td>NaN</td>\n",
              "      <td>NaN</td>\n",
              "      <td>NaN</td>\n",
              "      <td>2012</td>\n",
              "    </tr>\n",
              "    <tr>\n",
              "      <th>3</th>\n",
              "      <td>2019</td>\n",
              "      <td>1</td>\n",
              "      <td>1</td>\n",
              "      <td>3</td>\n",
              "      <td>1</td>\n",
              "      <td>1</td>\n",
              "      <td>1</td>\n",
              "      <td>2</td>\n",
              "      <td>1</td>\n",
              "      <td>31</td>\n",
              "      <td>1</td>\n",
              "      <td>76</td>\n",
              "      <td>NaN</td>\n",
              "      <td>4</td>\n",
              "      <td>0</td>\n",
              "      <td>1</td>\n",
              "      <td>1.0</td>\n",
              "      <td>1.0</td>\n",
              "      <td>0.0</td>\n",
              "      <td>NaN</td>\n",
              "      <td>NaN</td>\n",
              "      <td>NaN</td>\n",
              "      <td>NaN</td>\n",
              "      <td>NaN</td>\n",
              "      <td>2015</td>\n",
              "    </tr>\n",
              "    <tr>\n",
              "      <th>4</th>\n",
              "      <td>2019</td>\n",
              "      <td>1</td>\n",
              "      <td>1</td>\n",
              "      <td>3</td>\n",
              "      <td>1</td>\n",
              "      <td>1</td>\n",
              "      <td>1</td>\n",
              "      <td>3</td>\n",
              "      <td>2</td>\n",
              "      <td>42</td>\n",
              "      <td>1</td>\n",
              "      <td>76</td>\n",
              "      <td>NaN</td>\n",
              "      <td>6</td>\n",
              "      <td>0</td>\n",
              "      <td>1</td>\n",
              "      <td>1.0</td>\n",
              "      <td>1.0</td>\n",
              "      <td>0.0</td>\n",
              "      <td>NaN</td>\n",
              "      <td>NaN</td>\n",
              "      <td>NaN</td>\n",
              "      <td>NaN</td>\n",
              "      <td>NaN</td>\n",
              "      <td>2013</td>\n",
              "    </tr>\n",
              "  </tbody>\n",
              "</table>\n",
              "</div>"
            ],
            "text/plain": [
              "   NU_ANO_CENSO  TP_CATEGORIA_ADMINISTRATIVA  ...  IN_BOLSA_ESTAGIO  NU_ANO_INGRESSO\n",
              "0          2019                            1  ...               NaN             2017\n",
              "1          2019                            1  ...               NaN             2016\n",
              "2          2019                            1  ...               NaN             2012\n",
              "3          2019                            1  ...               NaN             2015\n",
              "4          2019                            1  ...               NaN             2013\n",
              "\n",
              "[5 rows x 25 columns]"
            ]
          },
          "metadata": {
            "tags": []
          },
          "execution_count": 9
        }
      ]
    },
    {
      "cell_type": "code",
      "metadata": {
        "colab": {
          "base_uri": "https://localhost:8080/"
        },
        "id": "iCAtIKbZZJlr",
        "outputId": "57a86be5-ef58-48dd-c993-a75743122359"
      },
      "source": [
        "with zipfile.ZipFile(\"/content/drive/MyDrive/Colab_Notebooks/Projeto Sigalei/microdados_educacao_superior_2018.zip\") as z:\n",
        "  print(*z.namelist(), sep=\"\\n\")"
      ],
      "execution_count": 10,
      "outputs": [
        {
          "output_type": "stream",
          "text": [
            "microdados_ed_superior_2018/\n",
            "microdados_ed_superior_2018/anexos/\n",
            "microdados_ed_superior_2018/anexos/ANEXO I - Dicionário de Variáveis e Tabelas Auxiliares/\n",
            "microdados_ed_superior_2018/anexos/ANEXO I - Dicionário de Variáveis e Tabelas Auxiliares/Código_do_País_de_Nascimento_ou_Naturalizaç╞o.xlsx\n",
            "microdados_ed_superior_2018/anexos/ANEXO I - Dicionário de Variáveis e Tabelas Auxiliares/Dicionário de Variáveis.xls\n",
            "microdados_ed_superior_2018/anexos/ANEXO II - Questionários do Censo da Educaç╞o Superior/\n",
            "microdados_ed_superior_2018/anexos/ANEXO II - Questionários do Censo da Educaç╞o Superior/ANEXO II - MαDULO ALUNO 2018.pdf\n",
            "microdados_ed_superior_2018/anexos/ANEXO II - Questionários do Censo da Educaç╞o Superior/ANEXO II - MαDULO CURSO 2018.pdf\n",
            "microdados_ed_superior_2018/anexos/ANEXO II - Questionários do Censo da Educaç╞o Superior/ANEXO II - MαDULO DOCENTE 2018.pdf\n",
            "microdados_ed_superior_2018/anexos/ANEXO II - Questionários do Censo da Educaç╞o Superior/ANEXO II - MαDULO IES 2018.pdf\n",
            "microdados_ed_superior_2018/dados/\n",
            "microdados_ed_superior_2018/dados/DM_ALUNO.CSV\n",
            "microdados_ed_superior_2018/dados/DM_CURSO.CSV\n",
            "microdados_ed_superior_2018/dados/DM_DOCENTE.CSV\n",
            "microdados_ed_superior_2018/dados/DM_IES.CSV\n",
            "microdados_ed_superior_2018/dados/DM_LOCAL_OFERTA.CSV\n",
            "microdados_ed_superior_2018/dados/MD5_microdados_ed_superior_2018.txt\n",
            "microdados_ed_superior_2018/dados/TB_AUX_CINE_BRASIL.CSV\n",
            "microdados_ed_superior_2018/filtros/\n",
            "microdados_ed_superior_2018/filtros/Filtros Censo Ed Superior 2018.pdf\n",
            "microdados_ed_superior_2018/leia-me/\n",
            "microdados_ed_superior_2018/leia-me/Leia_me Superior_2018.pdf\n",
            "microdados_ed_superior_2018/leia-me/Nota_informativa.pdf\n"
          ],
          "name": "stdout"
        }
      ]
    },
    {
      "cell_type": "markdown",
      "metadata": {
        "id": "VmNbFZ-Mb1iM"
      },
      "source": [
        "Carregando os dados de 2018"
      ]
    },
    {
      "cell_type": "code",
      "metadata": {
        "id": "z5cluIolbIeu"
      },
      "source": [
        "with zipfile.ZipFile(\"/content/drive/MyDrive/Colab_Notebooks/Projeto Sigalei/microdados_educacao_superior_2018.zip\") as z:\n",
        "  with z.open(\"microdados_ed_superior_2018/dados/DM_ALUNO.CSV\") as f:\n",
        "    df_2018 = pd.read_csv(f, sep=\"|\", usecols=colunas, nrows=1000)"
      ],
      "execution_count": 11,
      "outputs": []
    },
    {
      "cell_type": "code",
      "metadata": {
        "colab": {
          "base_uri": "https://localhost:8080/",
          "height": 217
        },
        "id": "N-3nc4OvauEv",
        "outputId": "7c19f6bc-b29e-4ee7-8a27-0a61e7fa5c58"
      },
      "source": [
        "df_2018.head()"
      ],
      "execution_count": 12,
      "outputs": [
        {
          "output_type": "execute_result",
          "data": {
            "text/html": [
              "<div>\n",
              "<style scoped>\n",
              "    .dataframe tbody tr th:only-of-type {\n",
              "        vertical-align: middle;\n",
              "    }\n",
              "\n",
              "    .dataframe tbody tr th {\n",
              "        vertical-align: top;\n",
              "    }\n",
              "\n",
              "    .dataframe thead th {\n",
              "        text-align: right;\n",
              "    }\n",
              "</style>\n",
              "<table border=\"1\" class=\"dataframe\">\n",
              "  <thead>\n",
              "    <tr style=\"text-align: right;\">\n",
              "      <th></th>\n",
              "      <th>NU_ANO_CENSO</th>\n",
              "      <th>TP_CATEGORIA_ADMINISTRATIVA</th>\n",
              "      <th>CO_CURSO</th>\n",
              "      <th>TP_TURNO</th>\n",
              "      <th>TP_GRAU_ACADEMICO</th>\n",
              "      <th>TP_MODALIDADE_ENSINO</th>\n",
              "      <th>TP_NIVEL_ACADEMICO</th>\n",
              "      <th>TP_COR_RACA</th>\n",
              "      <th>TP_SEXO</th>\n",
              "      <th>NU_IDADE</th>\n",
              "      <th>TP_NACIONALIDADE</th>\n",
              "      <th>CO_PAIS_ORIGEM</th>\n",
              "      <th>CO_UF_NASCIMENTO</th>\n",
              "      <th>TP_SITUACAO</th>\n",
              "      <th>IN_INGRESSO_VESTIBULAR</th>\n",
              "      <th>IN_INGRESSO_ENEM</th>\n",
              "      <th>IN_RESERVA_ETNICO</th>\n",
              "      <th>IN_RESERVA_ENSINO_PUBLICO</th>\n",
              "      <th>IN_RESERVA_RENDA_FAMILIAR</th>\n",
              "      <th>IN_FINANCIAMENTO_ESTUDANTIL</th>\n",
              "      <th>IN_FIN_REEMB_FIES</th>\n",
              "      <th>IN_FIN_NAOREEMB_PROUNI_INTEGR</th>\n",
              "      <th>IN_FIN_NAOREEMB_PROUNI_PARCIAL</th>\n",
              "      <th>IN_BOLSA_ESTAGIO</th>\n",
              "      <th>NU_ANO_INGRESSO</th>\n",
              "    </tr>\n",
              "  </thead>\n",
              "  <tbody>\n",
              "    <tr>\n",
              "      <th>0</th>\n",
              "      <td>2018</td>\n",
              "      <td>1</td>\n",
              "      <td>1</td>\n",
              "      <td>3</td>\n",
              "      <td>1</td>\n",
              "      <td>1</td>\n",
              "      <td>1</td>\n",
              "      <td>2</td>\n",
              "      <td>1</td>\n",
              "      <td>26</td>\n",
              "      <td>1</td>\n",
              "      <td>76</td>\n",
              "      <td>NaN</td>\n",
              "      <td>2</td>\n",
              "      <td>0</td>\n",
              "      <td>0</td>\n",
              "      <td>NaN</td>\n",
              "      <td>NaN</td>\n",
              "      <td>NaN</td>\n",
              "      <td>NaN</td>\n",
              "      <td>NaN</td>\n",
              "      <td>NaN</td>\n",
              "      <td>NaN</td>\n",
              "      <td>NaN</td>\n",
              "      <td>2017</td>\n",
              "    </tr>\n",
              "    <tr>\n",
              "      <th>1</th>\n",
              "      <td>2018</td>\n",
              "      <td>1</td>\n",
              "      <td>1</td>\n",
              "      <td>3</td>\n",
              "      <td>1</td>\n",
              "      <td>1</td>\n",
              "      <td>1</td>\n",
              "      <td>3</td>\n",
              "      <td>2</td>\n",
              "      <td>31</td>\n",
              "      <td>1</td>\n",
              "      <td>76</td>\n",
              "      <td>NaN</td>\n",
              "      <td>3</td>\n",
              "      <td>0</td>\n",
              "      <td>1</td>\n",
              "      <td>1.0</td>\n",
              "      <td>1.0</td>\n",
              "      <td>0.0</td>\n",
              "      <td>NaN</td>\n",
              "      <td>NaN</td>\n",
              "      <td>NaN</td>\n",
              "      <td>NaN</td>\n",
              "      <td>NaN</td>\n",
              "      <td>2016</td>\n",
              "    </tr>\n",
              "    <tr>\n",
              "      <th>2</th>\n",
              "      <td>2018</td>\n",
              "      <td>1</td>\n",
              "      <td>1</td>\n",
              "      <td>3</td>\n",
              "      <td>1</td>\n",
              "      <td>1</td>\n",
              "      <td>1</td>\n",
              "      <td>3</td>\n",
              "      <td>2</td>\n",
              "      <td>30</td>\n",
              "      <td>1</td>\n",
              "      <td>76</td>\n",
              "      <td>NaN</td>\n",
              "      <td>2</td>\n",
              "      <td>0</td>\n",
              "      <td>1</td>\n",
              "      <td>0.0</td>\n",
              "      <td>1.0</td>\n",
              "      <td>0.0</td>\n",
              "      <td>NaN</td>\n",
              "      <td>NaN</td>\n",
              "      <td>NaN</td>\n",
              "      <td>NaN</td>\n",
              "      <td>NaN</td>\n",
              "      <td>2012</td>\n",
              "    </tr>\n",
              "    <tr>\n",
              "      <th>3</th>\n",
              "      <td>2018</td>\n",
              "      <td>1</td>\n",
              "      <td>1</td>\n",
              "      <td>3</td>\n",
              "      <td>1</td>\n",
              "      <td>1</td>\n",
              "      <td>1</td>\n",
              "      <td>2</td>\n",
              "      <td>1</td>\n",
              "      <td>30</td>\n",
              "      <td>1</td>\n",
              "      <td>76</td>\n",
              "      <td>NaN</td>\n",
              "      <td>3</td>\n",
              "      <td>0</td>\n",
              "      <td>1</td>\n",
              "      <td>1.0</td>\n",
              "      <td>1.0</td>\n",
              "      <td>0.0</td>\n",
              "      <td>NaN</td>\n",
              "      <td>NaN</td>\n",
              "      <td>NaN</td>\n",
              "      <td>NaN</td>\n",
              "      <td>NaN</td>\n",
              "      <td>2015</td>\n",
              "    </tr>\n",
              "    <tr>\n",
              "      <th>4</th>\n",
              "      <td>2018</td>\n",
              "      <td>1</td>\n",
              "      <td>1</td>\n",
              "      <td>3</td>\n",
              "      <td>1</td>\n",
              "      <td>1</td>\n",
              "      <td>1</td>\n",
              "      <td>3</td>\n",
              "      <td>2</td>\n",
              "      <td>41</td>\n",
              "      <td>1</td>\n",
              "      <td>76</td>\n",
              "      <td>NaN</td>\n",
              "      <td>2</td>\n",
              "      <td>0</td>\n",
              "      <td>1</td>\n",
              "      <td>NaN</td>\n",
              "      <td>NaN</td>\n",
              "      <td>NaN</td>\n",
              "      <td>NaN</td>\n",
              "      <td>NaN</td>\n",
              "      <td>NaN</td>\n",
              "      <td>NaN</td>\n",
              "      <td>NaN</td>\n",
              "      <td>2013</td>\n",
              "    </tr>\n",
              "  </tbody>\n",
              "</table>\n",
              "</div>"
            ],
            "text/plain": [
              "   NU_ANO_CENSO  TP_CATEGORIA_ADMINISTRATIVA  ...  IN_BOLSA_ESTAGIO  NU_ANO_INGRESSO\n",
              "0          2018                            1  ...               NaN             2017\n",
              "1          2018                            1  ...               NaN             2016\n",
              "2          2018                            1  ...               NaN             2012\n",
              "3          2018                            1  ...               NaN             2015\n",
              "4          2018                            1  ...               NaN             2013\n",
              "\n",
              "[5 rows x 25 columns]"
            ]
          },
          "metadata": {
            "tags": []
          },
          "execution_count": 12
        }
      ]
    },
    {
      "cell_type": "markdown",
      "metadata": {
        "id": "mu-SsDPAb76B"
      },
      "source": [
        "Carregando os dados de 2017"
      ]
    },
    {
      "cell_type": "code",
      "metadata": {
        "colab": {
          "base_uri": "https://localhost:8080/"
        },
        "id": "16eRZaQ8b7nz",
        "outputId": "72491d50-840b-4dcb-b916-3d0d773728d5"
      },
      "source": [
        "with zipfile.ZipFile(\"/content/drive/MyDrive/Colab_Notebooks/Projeto Sigalei/microdados_educacao_superior_2017.zip\") as z:\n",
        "  print(*z.namelist(), sep=\"\\n\")"
      ],
      "execution_count": 13,
      "outputs": [
        {
          "output_type": "stream",
          "text": [
            "microdados_educacao_superior_2017/\n",
            "microdados_educacao_superior_2017/Microdados_Educacao_Superior_2017/\n",
            "microdados_educacao_superior_2017/Microdados_Educacao_Superior_2017/ANEXOS/\n",
            "microdados_educacao_superior_2017/Microdados_Educacao_Superior_2017/ANEXOS/ANEXO I - Dicionário de Dados e Tabelas Auxiliares/\n",
            "microdados_educacao_superior_2017/Microdados_Educacao_Superior_2017/ANEXOS/ANEXO I - Dicionário de Dados e Tabelas Auxiliares/Código_do_País_de_Nascimento_ou_Naturalizaç╞o.xlsx\n",
            "microdados_educacao_superior_2017/Microdados_Educacao_Superior_2017/ANEXOS/ANEXO I - Dicionário de Dados e Tabelas Auxiliares/Dicionário_de_Dados.xlsx\n",
            "microdados_educacao_superior_2017/Microdados_Educacao_Superior_2017/ANEXOS/ANEXO I - Dicionário de Dados e Tabelas Auxiliares/~$Cópia de DICIONARIO_DM_TODOS_ANOS_v2 (002).xlsx\n",
            "microdados_educacao_superior_2017/Microdados_Educacao_Superior_2017/ANEXOS/ANEXO II - Questionários do Censo da Educaç╞o Superior/\n",
            "microdados_educacao_superior_2017/Microdados_Educacao_Superior_2017/ANEXOS/ANEXO II - Questionários do Censo da Educaç╞o Superior/ANEXO II - MαDULO ALUNO 2017.pdf\n",
            "microdados_educacao_superior_2017/Microdados_Educacao_Superior_2017/ANEXOS/ANEXO II - Questionários do Censo da Educaç╞o Superior/ANEXO II - MαDULO CURSO 2017.pdf\n",
            "microdados_educacao_superior_2017/Microdados_Educacao_Superior_2017/ANEXOS/ANEXO II - Questionários do Censo da Educaç╞o Superior/ANEXO II - MαDULO DOCENTE 2017.pdf\n",
            "microdados_educacao_superior_2017/Microdados_Educacao_Superior_2017/ANEXOS/ANEXO II - Questionários do Censo da Educaç╞o Superior/ANEXO II - MαDULO IES 2017.pdf\n",
            "microdados_educacao_superior_2017/Microdados_Educacao_Superior_2017/DADOS/\n",
            "microdados_educacao_superior_2017/Microdados_Educacao_Superior_2017/DADOS/DM_ALUNO/\n",
            "microdados_educacao_superior_2017/Microdados_Educacao_Superior_2017/DADOS/DM_ALUNO.zip\n",
            "microdados_educacao_superior_2017/Microdados_Educacao_Superior_2017/DADOS/DM_ALUNO/DM_ALUNO.CSV\n",
            "microdados_educacao_superior_2017/Microdados_Educacao_Superior_2017/DADOS/DM_CURSO.zip\n",
            "microdados_educacao_superior_2017/Microdados_Educacao_Superior_2017/DADOS/DM_DOCENTE.zip\n",
            "microdados_educacao_superior_2017/Microdados_Educacao_Superior_2017/DADOS/DM_IES.zip\n",
            "microdados_educacao_superior_2017/Microdados_Educacao_Superior_2017/DADOS/DM_LOCAL_OFERTA.zip\n",
            "microdados_educacao_superior_2017/Microdados_Educacao_Superior_2017/DADOS/md5_microdados_ed_superior_2017.txt\n",
            "microdados_educacao_superior_2017/Microdados_Educacao_Superior_2017/DADOS/TB_AUX_AREA_OCDE.zip\n",
            "microdados_educacao_superior_2017/Microdados_Educacao_Superior_2017/FILTROS/\n",
            "microdados_educacao_superior_2017/Microdados_Educacao_Superior_2017/FILTROS/Filtros_Educacao_Superior_2017.pdf\n",
            "microdados_educacao_superior_2017/Microdados_Educacao_Superior_2017/FILTROS/~$ltros Censo Ed Superior 2017.doc\n",
            "microdados_educacao_superior_2017/Microdados_Educacao_Superior_2017/LEIA-ME/\n",
            "microdados_educacao_superior_2017/Microdados_Educacao_Superior_2017/LEIA-ME/Leia_me Superior_2017.pdf\n"
          ],
          "name": "stdout"
        }
      ]
    },
    {
      "cell_type": "code",
      "metadata": {
        "id": "j3IdGhGgb7cW"
      },
      "source": [
        "with zipfile.ZipFile(\"/content/drive/MyDrive/Colab_Notebooks/Projeto Sigalei/microdados_educacao_superior_2017.zip\") as z:\n",
        "   with z.open(\"microdados_educacao_superior_2017/Microdados_Educacao_Superior_2017/DADOS/DM_ALUNO/DM_ALUNO.CSV\") as f:\n",
        "    df_2017 = pd.read_csv(f, sep=\"|\",usecols=colunas, nrows=1000)\n",
        "  "
      ],
      "execution_count": 14,
      "outputs": []
    },
    {
      "cell_type": "code",
      "metadata": {
        "colab": {
          "base_uri": "https://localhost:8080/",
          "height": 217
        },
        "id": "Ur5gc0Zrb7PT",
        "outputId": "ffcd868f-7e42-4899-9089-b787200619a3"
      },
      "source": [
        "df_2017.head()"
      ],
      "execution_count": 15,
      "outputs": [
        {
          "output_type": "execute_result",
          "data": {
            "text/html": [
              "<div>\n",
              "<style scoped>\n",
              "    .dataframe tbody tr th:only-of-type {\n",
              "        vertical-align: middle;\n",
              "    }\n",
              "\n",
              "    .dataframe tbody tr th {\n",
              "        vertical-align: top;\n",
              "    }\n",
              "\n",
              "    .dataframe thead th {\n",
              "        text-align: right;\n",
              "    }\n",
              "</style>\n",
              "<table border=\"1\" class=\"dataframe\">\n",
              "  <thead>\n",
              "    <tr style=\"text-align: right;\">\n",
              "      <th></th>\n",
              "      <th>NU_ANO_CENSO</th>\n",
              "      <th>TP_CATEGORIA_ADMINISTRATIVA</th>\n",
              "      <th>CO_CURSO</th>\n",
              "      <th>TP_TURNO</th>\n",
              "      <th>TP_GRAU_ACADEMICO</th>\n",
              "      <th>TP_MODALIDADE_ENSINO</th>\n",
              "      <th>TP_NIVEL_ACADEMICO</th>\n",
              "      <th>TP_COR_RACA</th>\n",
              "      <th>TP_SEXO</th>\n",
              "      <th>NU_IDADE</th>\n",
              "      <th>TP_NACIONALIDADE</th>\n",
              "      <th>CO_PAIS_ORIGEM</th>\n",
              "      <th>CO_UF_NASCIMENTO</th>\n",
              "      <th>TP_SITUACAO</th>\n",
              "      <th>IN_INGRESSO_VESTIBULAR</th>\n",
              "      <th>IN_INGRESSO_ENEM</th>\n",
              "      <th>IN_RESERVA_ETNICO</th>\n",
              "      <th>IN_RESERVA_ENSINO_PUBLICO</th>\n",
              "      <th>IN_RESERVA_RENDA_FAMILIAR</th>\n",
              "      <th>IN_FINANCIAMENTO_ESTUDANTIL</th>\n",
              "      <th>IN_FIN_REEMB_FIES</th>\n",
              "      <th>IN_FIN_NAOREEMB_PROUNI_INTEGR</th>\n",
              "      <th>IN_FIN_NAOREEMB_PROUNI_PARCIAL</th>\n",
              "      <th>IN_BOLSA_ESTAGIO</th>\n",
              "      <th>NU_ANO_INGRESSO</th>\n",
              "    </tr>\n",
              "  </thead>\n",
              "  <tbody>\n",
              "    <tr>\n",
              "      <th>0</th>\n",
              "      <td>2017</td>\n",
              "      <td>1</td>\n",
              "      <td>1</td>\n",
              "      <td>3</td>\n",
              "      <td>1</td>\n",
              "      <td>1</td>\n",
              "      <td>1</td>\n",
              "      <td>3</td>\n",
              "      <td>1</td>\n",
              "      <td>25</td>\n",
              "      <td>1</td>\n",
              "      <td>76</td>\n",
              "      <td>NaN</td>\n",
              "      <td>2</td>\n",
              "      <td>0</td>\n",
              "      <td>0</td>\n",
              "      <td>NaN</td>\n",
              "      <td>NaN</td>\n",
              "      <td>NaN</td>\n",
              "      <td>NaN</td>\n",
              "      <td>NaN</td>\n",
              "      <td>NaN</td>\n",
              "      <td>NaN</td>\n",
              "      <td>NaN</td>\n",
              "      <td>2017</td>\n",
              "    </tr>\n",
              "    <tr>\n",
              "      <th>1</th>\n",
              "      <td>2017</td>\n",
              "      <td>1</td>\n",
              "      <td>1</td>\n",
              "      <td>3</td>\n",
              "      <td>1</td>\n",
              "      <td>1</td>\n",
              "      <td>1</td>\n",
              "      <td>3</td>\n",
              "      <td>2</td>\n",
              "      <td>30</td>\n",
              "      <td>1</td>\n",
              "      <td>76</td>\n",
              "      <td>NaN</td>\n",
              "      <td>3</td>\n",
              "      <td>0</td>\n",
              "      <td>1</td>\n",
              "      <td>1.0</td>\n",
              "      <td>1.0</td>\n",
              "      <td>0.0</td>\n",
              "      <td>NaN</td>\n",
              "      <td>NaN</td>\n",
              "      <td>NaN</td>\n",
              "      <td>NaN</td>\n",
              "      <td>NaN</td>\n",
              "      <td>2016</td>\n",
              "    </tr>\n",
              "    <tr>\n",
              "      <th>2</th>\n",
              "      <td>2017</td>\n",
              "      <td>1</td>\n",
              "      <td>1</td>\n",
              "      <td>3</td>\n",
              "      <td>1</td>\n",
              "      <td>1</td>\n",
              "      <td>1</td>\n",
              "      <td>3</td>\n",
              "      <td>2</td>\n",
              "      <td>29</td>\n",
              "      <td>1</td>\n",
              "      <td>76</td>\n",
              "      <td>NaN</td>\n",
              "      <td>2</td>\n",
              "      <td>0</td>\n",
              "      <td>1</td>\n",
              "      <td>0.0</td>\n",
              "      <td>1.0</td>\n",
              "      <td>0.0</td>\n",
              "      <td>NaN</td>\n",
              "      <td>NaN</td>\n",
              "      <td>NaN</td>\n",
              "      <td>NaN</td>\n",
              "      <td>NaN</td>\n",
              "      <td>2012</td>\n",
              "    </tr>\n",
              "    <tr>\n",
              "      <th>3</th>\n",
              "      <td>2017</td>\n",
              "      <td>1</td>\n",
              "      <td>1</td>\n",
              "      <td>3</td>\n",
              "      <td>1</td>\n",
              "      <td>1</td>\n",
              "      <td>1</td>\n",
              "      <td>2</td>\n",
              "      <td>1</td>\n",
              "      <td>29</td>\n",
              "      <td>1</td>\n",
              "      <td>76</td>\n",
              "      <td>NaN</td>\n",
              "      <td>3</td>\n",
              "      <td>0</td>\n",
              "      <td>1</td>\n",
              "      <td>1.0</td>\n",
              "      <td>1.0</td>\n",
              "      <td>0.0</td>\n",
              "      <td>NaN</td>\n",
              "      <td>NaN</td>\n",
              "      <td>NaN</td>\n",
              "      <td>NaN</td>\n",
              "      <td>NaN</td>\n",
              "      <td>2015</td>\n",
              "    </tr>\n",
              "    <tr>\n",
              "      <th>4</th>\n",
              "      <td>2017</td>\n",
              "      <td>1</td>\n",
              "      <td>1</td>\n",
              "      <td>3</td>\n",
              "      <td>1</td>\n",
              "      <td>1</td>\n",
              "      <td>1</td>\n",
              "      <td>3</td>\n",
              "      <td>2</td>\n",
              "      <td>40</td>\n",
              "      <td>1</td>\n",
              "      <td>76</td>\n",
              "      <td>NaN</td>\n",
              "      <td>2</td>\n",
              "      <td>0</td>\n",
              "      <td>1</td>\n",
              "      <td>1.0</td>\n",
              "      <td>1.0</td>\n",
              "      <td>0.0</td>\n",
              "      <td>NaN</td>\n",
              "      <td>NaN</td>\n",
              "      <td>NaN</td>\n",
              "      <td>NaN</td>\n",
              "      <td>NaN</td>\n",
              "      <td>2013</td>\n",
              "    </tr>\n",
              "  </tbody>\n",
              "</table>\n",
              "</div>"
            ],
            "text/plain": [
              "   NU_ANO_CENSO  TP_CATEGORIA_ADMINISTRATIVA  ...  IN_BOLSA_ESTAGIO  NU_ANO_INGRESSO\n",
              "0          2017                            1  ...               NaN             2017\n",
              "1          2017                            1  ...               NaN             2016\n",
              "2          2017                            1  ...               NaN             2012\n",
              "3          2017                            1  ...               NaN             2015\n",
              "4          2017                            1  ...               NaN             2013\n",
              "\n",
              "[5 rows x 25 columns]"
            ]
          },
          "metadata": {
            "tags": []
          },
          "execution_count": 15
        }
      ]
    },
    {
      "cell_type": "code",
      "metadata": {
        "colab": {
          "base_uri": "https://localhost:8080/"
        },
        "id": "PMaLuG5Ab7DE",
        "outputId": "59d5b856-acf8-46ea-a358-c083322d10ce"
      },
      "source": [
        "with zipfile.ZipFile(\"/content/drive/MyDrive/Colab_Notebooks/Projeto Sigalei/microdados_censo_superior_2016.zip\") as z:\n",
        "  print(*z.namelist(), sep=\"\\n\")"
      ],
      "execution_count": 16,
      "outputs": [
        {
          "output_type": "stream",
          "text": [
            "microdados_censo_superior_2016/\n",
            "microdados_censo_superior_2016/ANEXOS/\n",
            "microdados_censo_superior_2016/ANEXOS/ANEXO I - Dicionário de Dados e Tabelas Auxiliares/\n",
            "microdados_censo_superior_2016/ANEXOS/ANEXO I - Dicionário de Dados e Tabelas Auxiliares/Código do País de Nascimento ou Naturalizaç╞o.xlsx\n",
            "microdados_censo_superior_2016/ANEXOS/ANEXO I - Dicionário de Dados e Tabelas Auxiliares/Dicionários de Dados.xls\n",
            "microdados_censo_superior_2016/ANEXOS/ANEXO II -  Questionários do Censo da Educaç╞o Superior/\n",
            "microdados_censo_superior_2016/ANEXOS/ANEXO II -  Questionários do Censo da Educaç╞o Superior/ANEXO II - MαDULO ALUNO 2016.pdf\n",
            "microdados_censo_superior_2016/ANEXOS/ANEXO II -  Questionários do Censo da Educaç╞o Superior/ANEXO II - MαDULO CURSO 2016.pdf\n",
            "microdados_censo_superior_2016/ANEXOS/ANEXO II -  Questionários do Censo da Educaç╞o Superior/ANEXO II - MαDULO DOCENTE 2016.pdf\n",
            "microdados_censo_superior_2016/ANEXOS/ANEXO II -  Questionários do Censo da Educaç╞o Superior/ANEXO II - MαDULO IES 2016.pdf\n",
            "microdados_censo_superior_2016/DADOS/\n",
            "microdados_censo_superior_2016/DADOS/DM_ALUNO/\n",
            "microdados_censo_superior_2016/DADOS/DM_ALUNO.rar\n",
            "microdados_censo_superior_2016/DADOS/DM_ALUNO/DM_ALUNO.CSV\n",
            "microdados_censo_superior_2016/DADOS/DM_CURSO.rar\n",
            "microdados_censo_superior_2016/DADOS/DM_DOCENTE.rar\n",
            "microdados_censo_superior_2016/DADOS/DM_IES.rar\n",
            "microdados_censo_superior_2016/DADOS/DM_LOCAL_OFERTA.rar\n",
            "microdados_censo_superior_2016/DADOS/md5_microdados_ed_superior_2016.txt\n",
            "microdados_censo_superior_2016/FILTROS/\n",
            "microdados_censo_superior_2016/FILTROS/Filtros Censo Ed Superior 2016.pdf\n",
            "microdados_censo_superior_2016/LEIA-ME/\n",
            "microdados_censo_superior_2016/LEIA-ME/Leia_me Superior_2016.pdf\n"
          ],
          "name": "stdout"
        }
      ]
    },
    {
      "cell_type": "code",
      "metadata": {
        "id": "_BWLZq21zE2H"
      },
      "source": [
        "with zipfile.ZipFile(\"/content/drive/MyDrive/Colab_Notebooks/Projeto Sigalei/microdados_censo_superior_2016.zip\") as z:\n",
        "   with z.open(\"microdados_censo_superior_2016/DADOS/DM_ALUNO/DM_ALUNO.CSV\") as f:\n",
        "    df_2016 = pd.read_csv(f, sep=\"|\", nrows=0)"
      ],
      "execution_count": 17,
      "outputs": []
    },
    {
      "cell_type": "code",
      "metadata": {
        "colab": {
          "base_uri": "https://localhost:8080/"
        },
        "id": "DXjhZ_o1zEo6",
        "outputId": "77a523cc-a4a4-457a-d336-e4fc91200d51"
      },
      "source": [
        "df_2016.columns.values"
      ],
      "execution_count": 18,
      "outputs": [
        {
          "output_type": "execute_result",
          "data": {
            "text/plain": [
              "array(['CO_IES', 'NO_IES', 'CO_CATEGORIA_ADMINISTRATIVA',\n",
              "       'DS_CATEGORIA_ADMINISTRATIVA', 'CO_ORGANIZACAO_ACADEMICA',\n",
              "       'DS_ORGANIZACAO_ACADEMICA', 'CO_CURSO', 'NO_CURSO',\n",
              "       'CO_CURSO_POLO', 'CO_TURNO_ALUNO', 'DS_TURNO_ALUNO',\n",
              "       'CO_GRAU_ACADEMICO', 'DS_GRAU_ACADEMICO', 'CO_MODALIDADE_ENSINO',\n",
              "       'DS_MODALIDADE_ENSINO', 'CO_NIVEL_ACADEMICO', 'DS_NIVEL_ACADEMICO',\n",
              "       'CO_OCDE', 'NO_OCDE', 'CO_OCDE_AREA_GERAL', 'NO_OCDE_AREA_GERAL',\n",
              "       'CO_OCDE_AREA_ESPECIFICA', 'NO_OCDE_AREA_ESPECIFICA',\n",
              "       'CO_OCDE_AREA_DETALHADA', 'NO_OCDE_AREA_DETALHADA',\n",
              "       'CO_ALUNO_CURSO', 'CO_ALUNO_CURSO_ORIGEM', 'CO_ALUNO',\n",
              "       'CO_COR_RACA_ALUNO', 'DS_COR_RACA_ALUNO', 'IN_SEXO_ALUNO',\n",
              "       'DS_SEXO_ALUNO', 'NU_ANO_ALUNO_NASC', 'NU_MES_ALUNO_NASC',\n",
              "       'NU_DIA_ALUNO_NASC', 'NU_IDADE_ALUNO', 'CO_NACIONALIDADE_ALUNO',\n",
              "       'DS_NACIONALIDADE_ALUNO', 'CO_PAIS_ORIGEM_ALUNO',\n",
              "       'CO_UF_NASCIMENTO', 'CO_MUNICIPIO_NASCIMENTO',\n",
              "       'IN_ALUNO_DEF_TGD_SUPER', 'IN_DEF_AUDITIVA', 'IN_DEF_FISICA',\n",
              "       'IN_DEF_INTELECTUAL', 'IN_DEF_MULTIPLA', 'IN_DEF_SURDEZ',\n",
              "       'IN_DEF_SURDOCEGUEIRA', 'IN_DEF_BAIXA_VISAO', 'IN_DEF_CEGUEIRA',\n",
              "       'IN_DEF_SUPERDOTACAO', 'IN_TGD_AUTISMO_INFANTIL',\n",
              "       'IN_TGD_SINDROME_ASPERGER', 'IN_TGD_SINDROME_RETT',\n",
              "       'IN_TGD_TRANSTOR_DESINTEGRATIVO', 'CO_ALUNO_SITUACAO',\n",
              "       'DS_ALUNO_SITUACAO', 'QT_CARGA_HORARIA_TOTAL',\n",
              "       'QT_CARGA_HORARIA_INTEG', 'DT_INGRESSO_CURSO', 'IN_ING_VESTIBULAR',\n",
              "       'IN_ING_ENEM', 'IN_ING_AVALIACAO_SERIADA',\n",
              "       'IN_ING_SELECAO_SIMPLIFICADA', 'IN_ING_SELECAO_VAGA_REMANESC',\n",
              "       'IN_ING_SELECAO_VAGA_PROG_ESPEC', 'IN_ING_TRANSF_EXOFFICIO',\n",
              "       'IN_ING_DECISAO_JUDICIAL', 'IN_ING_CONVENIO_PECG',\n",
              "       'IN_RESERVA_VAGAS', 'IN_RESERVA_ETNICO', 'IN_RESERVA_DEFICIENCIA',\n",
              "       'IN_RESERVA_ENSINO_PUBLICO', 'IN_RESERVA_RENDA_FAMILIAR',\n",
              "       'IN_RESERVA_OUTRA', 'IN_FINANC_ESTUDANTIL', 'IN_FIN_REEMB_FIES',\n",
              "       'IN_FIN_REEMB_ESTADUAL', 'IN_FIN_REEMB_MUNICIPAL',\n",
              "       'IN_FIN_REEMB_PROG_IES', 'IN_FIN_REEMB_ENT_EXTERNA',\n",
              "       'IN_FIN_REEMB_OUTRA', 'IN_FIN_NAOREEMB_PROUNI_INTEGR',\n",
              "       'IN_FIN_NAOREEMB_PROUNI_PARCIAL', 'IN_FIN_NAOREEMB_ESTADUAL',\n",
              "       'IN_FIN_NAOREEMB_MUNICIPAL', 'IN_FIN_NAOREEMB_PROG_IES',\n",
              "       'IN_FIN_NAOREEMB_ENT_EXTERNA', 'IN_FIN_NAOREEMB_OUTRA',\n",
              "       'IN_APOIO_SOCIAL', 'IN_APOIO_ALIMENTACAO',\n",
              "       'IN_APOIO_BOLSA_PERMANENCIA', 'IN_APOIO_BOLSA_TRABALHO',\n",
              "       'IN_APOIO_MATERIAL_DIDATICO', 'IN_APOIO_MORADIA',\n",
              "       'IN_APOIO_TRANSPORTE', 'IN_ATIVIDADE_EXTRACURRICULAR',\n",
              "       'IN_COMPL_ESTAGIO', 'IN_COMPL_EXTENSAO', 'IN_COMPL_MONITORIA',\n",
              "       'IN_COMPL_PESQUISA', 'IN_BOLSA_ESTAGIO', 'IN_BOLSA_EXTENSAO',\n",
              "       'IN_BOLSA_MONITORIA', 'IN_BOLSA_PESQUISA',\n",
              "       'CO_TIPO_ESCOLA_ENS_MEDIO', 'IN_ALUNO_PARFOR',\n",
              "       'CO_SEMESTRE_CONCLUSAO', 'CO_SEMESTRE_REFERENCIA',\n",
              "       'IN_MOBILIDADE_ACADEMICA', 'CO_MOBILIDADE_ACADEMICA',\n",
              "       'CO_MOBILIDADE_ACADEMICA_INTERN', 'CO_IES_DESTINO',\n",
              "       'CO_PAIS_DESTINO', 'IN_MATRICULA', 'IN_CONCLUINTE',\n",
              "       'IN_INGRESSO_TOTAL', 'IN_INGRESSO_VAGA_NOVA', 'ANO_INGRESSO'],\n",
              "      dtype=object)"
            ]
          },
          "metadata": {
            "tags": []
          },
          "execution_count": 18
        }
      ]
    },
    {
      "cell_type": "code",
      "metadata": {
        "id": "bO-NdfdS0mco"
      },
      "source": [
        "colunas2 = ['CO_CURSO', 'CO_CATEGORIA_ADMINISTRATIVA', 'CO_TURNO_ALUNO', 'CO_GRAU_ACADEMICO', 'CO_MODALIDADE_ENSINO', \n",
        "            'CO_NIVEL_ACADEMICO', 'CO_COR_RACA_ALUNO', 'IN_SEXO_ALUNO', 'NU_IDADE_ALUNO', 'CO_NACIONALIDADE_ALUNO', \n",
        "           'CO_PAIS_ORIGEM_ALUNO', 'CO_UF_NASCIMENTO', 'CO_ALUNO_SITUACAO', 'IN_ING_VESTIBULAR', \n",
        "            'IN_ING_ENEM', 'IN_RESERVA_ETNICO', 'IN_RESERVA_ENSINO_PUBLICO', 'IN_RESERVA_RENDA_FAMILIAR', \n",
        "            'IN_FINANC_ESTUDANTIL', 'IN_FIN_REEMB_FIES', 'IN_FIN_NAOREEMB_PROUNI_INTEGR', \n",
        "           'IN_FIN_NAOREEMB_PROUNI_PARCIAL', 'IN_BOLSA_ESTAGIO', 'ANO_INGRESSO']"
      ],
      "execution_count": 19,
      "outputs": []
    },
    {
      "cell_type": "code",
      "metadata": {
        "id": "lx1sOIEQ0mI8"
      },
      "source": [
        "with zipfile.ZipFile(\"/content/drive/MyDrive/Colab_Notebooks/Projeto Sigalei/microdados_censo_superior_2016.zip\") as z:\n",
        "   with z.open(\"microdados_censo_superior_2016/DADOS/DM_ALUNO/DM_ALUNO.CSV\") as f:\n",
        "    df_2016 = pd.read_csv(f, sep=\"|\", usecols=colunas2, nrows=1000)"
      ],
      "execution_count": 20,
      "outputs": []
    },
    {
      "cell_type": "code",
      "metadata": {
        "id": "gXChGBOQ02PH"
      },
      "source": [
        "df_2016[\"NU_ANO_CENSO\"] = 2016"
      ],
      "execution_count": 21,
      "outputs": []
    },
    {
      "cell_type": "code",
      "metadata": {
        "id": "zNDOOlnp02Cn"
      },
      "source": [
        "df_2016.rename(columns={\"CO_GRAU_ACADEMICO\": \"TP_GRAU_ACADEMICO\", \"CO_CATEGORIA_ADMINISTRATIVA\": \"TP_CATEGORIA_ADMINISTRATIVA\", \"NU_IDADE_ALUNO\": \"NU_IDADE\", \"CO_NIVEL_ACADEMICO\": \"TP_NIVEL_ACADEMICO\",\n",
        "                        \"CO_MODALIDADE_ENSINO\": \"TP_MODALIDADE_ENSINO\", \"CO_TURNO_ALUNO\": \"TP_TURNO\", \"CO_PAIS_ORIGEM_ALUNO\": \"CO_PAIS_ORIGEM\",\n",
        "                        \"CO_NACIONALIDADE_ALUNO\": \"TP_NACIONALIDADE\", \"IN_SEXO_ALUNO\": \"TP_SEXO\", \"IN_ING_VESTIBULAR\": \"IN_INGRESSO_VESTIBULAR\",\n",
        "                        \"CO_COR_RACA_ALUNO\": \"TP_COR_RACA\", \"CO_ALUNO_SITUACAO\": \"TP_SITUACAO\", \"IN_FINANC_ESTUDANTIL\": \"IN_FINANCIAMENTO_ESTUDANTIL\",\n",
        "                        \"ANO_INGRESSO\": \"NU_ANO_INGRESSO\", \"IN_ING_ENEM\": \"IN_INGRESSO_ENEM\"}, inplace=True)"
      ],
      "execution_count": 22,
      "outputs": []
    },
    {
      "cell_type": "code",
      "metadata": {
        "colab": {
          "base_uri": "https://localhost:8080/",
          "height": 217
        },
        "id": "_rEmFjA9011A",
        "outputId": "1789b5c8-4202-4e7f-9399-f275a9f6f398"
      },
      "source": [
        "df_2016.head()"
      ],
      "execution_count": 23,
      "outputs": [
        {
          "output_type": "execute_result",
          "data": {
            "text/html": [
              "<div>\n",
              "<style scoped>\n",
              "    .dataframe tbody tr th:only-of-type {\n",
              "        vertical-align: middle;\n",
              "    }\n",
              "\n",
              "    .dataframe tbody tr th {\n",
              "        vertical-align: top;\n",
              "    }\n",
              "\n",
              "    .dataframe thead th {\n",
              "        text-align: right;\n",
              "    }\n",
              "</style>\n",
              "<table border=\"1\" class=\"dataframe\">\n",
              "  <thead>\n",
              "    <tr style=\"text-align: right;\">\n",
              "      <th></th>\n",
              "      <th>TP_CATEGORIA_ADMINISTRATIVA</th>\n",
              "      <th>CO_CURSO</th>\n",
              "      <th>TP_TURNO</th>\n",
              "      <th>TP_GRAU_ACADEMICO</th>\n",
              "      <th>TP_MODALIDADE_ENSINO</th>\n",
              "      <th>TP_NIVEL_ACADEMICO</th>\n",
              "      <th>TP_COR_RACA</th>\n",
              "      <th>TP_SEXO</th>\n",
              "      <th>NU_IDADE</th>\n",
              "      <th>TP_NACIONALIDADE</th>\n",
              "      <th>CO_PAIS_ORIGEM</th>\n",
              "      <th>CO_UF_NASCIMENTO</th>\n",
              "      <th>TP_SITUACAO</th>\n",
              "      <th>IN_INGRESSO_VESTIBULAR</th>\n",
              "      <th>IN_INGRESSO_ENEM</th>\n",
              "      <th>IN_RESERVA_ETNICO</th>\n",
              "      <th>IN_RESERVA_ENSINO_PUBLICO</th>\n",
              "      <th>IN_RESERVA_RENDA_FAMILIAR</th>\n",
              "      <th>IN_FINANCIAMENTO_ESTUDANTIL</th>\n",
              "      <th>IN_FIN_REEMB_FIES</th>\n",
              "      <th>IN_FIN_NAOREEMB_PROUNI_INTEGR</th>\n",
              "      <th>IN_FIN_NAOREEMB_PROUNI_PARCIAL</th>\n",
              "      <th>IN_BOLSA_ESTAGIO</th>\n",
              "      <th>NU_ANO_INGRESSO</th>\n",
              "      <th>NU_ANO_CENSO</th>\n",
              "    </tr>\n",
              "  </thead>\n",
              "  <tbody>\n",
              "    <tr>\n",
              "      <th>0</th>\n",
              "      <td>1</td>\n",
              "      <td>1</td>\n",
              "      <td>3</td>\n",
              "      <td>1</td>\n",
              "      <td>1</td>\n",
              "      <td>1</td>\n",
              "      <td>3</td>\n",
              "      <td>0</td>\n",
              "      <td>29</td>\n",
              "      <td>1</td>\n",
              "      <td>76</td>\n",
              "      <td>NaN</td>\n",
              "      <td>2</td>\n",
              "      <td>0</td>\n",
              "      <td>1</td>\n",
              "      <td>1.0</td>\n",
              "      <td>1.0</td>\n",
              "      <td>0.0</td>\n",
              "      <td>NaN</td>\n",
              "      <td>NaN</td>\n",
              "      <td>NaN</td>\n",
              "      <td>NaN</td>\n",
              "      <td>NaN</td>\n",
              "      <td>2016</td>\n",
              "      <td>2016</td>\n",
              "    </tr>\n",
              "    <tr>\n",
              "      <th>1</th>\n",
              "      <td>1</td>\n",
              "      <td>1</td>\n",
              "      <td>3</td>\n",
              "      <td>1</td>\n",
              "      <td>1</td>\n",
              "      <td>1</td>\n",
              "      <td>3</td>\n",
              "      <td>0</td>\n",
              "      <td>28</td>\n",
              "      <td>1</td>\n",
              "      <td>76</td>\n",
              "      <td>NaN</td>\n",
              "      <td>2</td>\n",
              "      <td>0</td>\n",
              "      <td>1</td>\n",
              "      <td>0.0</td>\n",
              "      <td>1.0</td>\n",
              "      <td>0.0</td>\n",
              "      <td>NaN</td>\n",
              "      <td>NaN</td>\n",
              "      <td>NaN</td>\n",
              "      <td>NaN</td>\n",
              "      <td>NaN</td>\n",
              "      <td>2012</td>\n",
              "      <td>2016</td>\n",
              "    </tr>\n",
              "    <tr>\n",
              "      <th>2</th>\n",
              "      <td>1</td>\n",
              "      <td>1</td>\n",
              "      <td>3</td>\n",
              "      <td>1</td>\n",
              "      <td>1</td>\n",
              "      <td>1</td>\n",
              "      <td>2</td>\n",
              "      <td>1</td>\n",
              "      <td>28</td>\n",
              "      <td>1</td>\n",
              "      <td>76</td>\n",
              "      <td>NaN</td>\n",
              "      <td>3</td>\n",
              "      <td>0</td>\n",
              "      <td>1</td>\n",
              "      <td>1.0</td>\n",
              "      <td>1.0</td>\n",
              "      <td>0.0</td>\n",
              "      <td>NaN</td>\n",
              "      <td>NaN</td>\n",
              "      <td>NaN</td>\n",
              "      <td>NaN</td>\n",
              "      <td>NaN</td>\n",
              "      <td>2015</td>\n",
              "      <td>2016</td>\n",
              "    </tr>\n",
              "    <tr>\n",
              "      <th>3</th>\n",
              "      <td>1</td>\n",
              "      <td>1</td>\n",
              "      <td>3</td>\n",
              "      <td>1</td>\n",
              "      <td>1</td>\n",
              "      <td>1</td>\n",
              "      <td>3</td>\n",
              "      <td>0</td>\n",
              "      <td>39</td>\n",
              "      <td>1</td>\n",
              "      <td>76</td>\n",
              "      <td>NaN</td>\n",
              "      <td>3</td>\n",
              "      <td>0</td>\n",
              "      <td>1</td>\n",
              "      <td>NaN</td>\n",
              "      <td>NaN</td>\n",
              "      <td>NaN</td>\n",
              "      <td>NaN</td>\n",
              "      <td>NaN</td>\n",
              "      <td>NaN</td>\n",
              "      <td>NaN</td>\n",
              "      <td>NaN</td>\n",
              "      <td>2013</td>\n",
              "      <td>2016</td>\n",
              "    </tr>\n",
              "    <tr>\n",
              "      <th>4</th>\n",
              "      <td>1</td>\n",
              "      <td>1</td>\n",
              "      <td>1</td>\n",
              "      <td>1</td>\n",
              "      <td>1</td>\n",
              "      <td>1</td>\n",
              "      <td>3</td>\n",
              "      <td>0</td>\n",
              "      <td>33</td>\n",
              "      <td>1</td>\n",
              "      <td>76</td>\n",
              "      <td>NaN</td>\n",
              "      <td>4</td>\n",
              "      <td>0</td>\n",
              "      <td>1</td>\n",
              "      <td>NaN</td>\n",
              "      <td>NaN</td>\n",
              "      <td>NaN</td>\n",
              "      <td>NaN</td>\n",
              "      <td>NaN</td>\n",
              "      <td>NaN</td>\n",
              "      <td>NaN</td>\n",
              "      <td>NaN</td>\n",
              "      <td>2011</td>\n",
              "      <td>2016</td>\n",
              "    </tr>\n",
              "  </tbody>\n",
              "</table>\n",
              "</div>"
            ],
            "text/plain": [
              "   TP_CATEGORIA_ADMINISTRATIVA  CO_CURSO  ...  NU_ANO_INGRESSO  NU_ANO_CENSO\n",
              "0                            1         1  ...             2016          2016\n",
              "1                            1         1  ...             2012          2016\n",
              "2                            1         1  ...             2015          2016\n",
              "3                            1         1  ...             2013          2016\n",
              "4                            1         1  ...             2011          2016\n",
              "\n",
              "[5 rows x 25 columns]"
            ]
          },
          "metadata": {
            "tags": []
          },
          "execution_count": 23
        }
      ]
    },
    {
      "cell_type": "markdown",
      "metadata": {
        "id": "CuvfQBxMyCdK"
      },
      "source": [
        "Dados 2015"
      ]
    },
    {
      "cell_type": "code",
      "metadata": {
        "colab": {
          "base_uri": "https://localhost:8080/"
        },
        "id": "znk4qCFIx2BV",
        "outputId": "55d5f678-6647-452e-aee1-51b2c2768890"
      },
      "source": [
        "with zipfile.ZipFile(\"/content/drive/MyDrive/Colab_Notebooks/Projeto Sigalei/microdados_censo_superior_2015.zip\") as z:\n",
        "  print(*z.namelist(), sep=\"\\n\")"
      ],
      "execution_count": 24,
      "outputs": [
        {
          "output_type": "stream",
          "text": [
            "microdados_censo_superior_2015/\n",
            "microdados_censo_superior_2015/microdados_censo_superior_2015/\n",
            "microdados_censo_superior_2015/microdados_censo_superior_2015/ANEXOS/\n",
            "microdados_censo_superior_2015/microdados_censo_superior_2015/ANEXOS/ANEXO I/\n",
            "microdados_censo_superior_2015/microdados_censo_superior_2015/ANEXOS/ANEXO II/\n",
            "microdados_censo_superior_2015/microdados_censo_superior_2015/ANEXOS/ANEXO II/ANEXO II - MαDULO ALUNO 2015.pdf\n",
            "microdados_censo_superior_2015/microdados_censo_superior_2015/ANEXOS/ANEXO II/ANEXO II - MαDULO CURSO 2015.pdf\n",
            "microdados_censo_superior_2015/microdados_censo_superior_2015/ANEXOS/ANEXO II/ANEXO II - MαDULO DOCENTE 2015.pdf\n",
            "microdados_censo_superior_2015/microdados_censo_superior_2015/ANEXOS/ANEXO II/ANEXO II - MαDULO IES 2015.pdf\n",
            "microdados_censo_superior_2015/microdados_censo_superior_2015/ANEXOS/ANEXO I/ANEXO I.xls\n",
            "microdados_censo_superior_2015/microdados_censo_superior_2015/ANEXOS/ANEXO I/Código do País de Nascimento ou Naturalizaç╞o.xls\n",
            "microdados_censo_superior_2015/microdados_censo_superior_2015/DADOS/\n",
            "microdados_censo_superior_2015/microdados_censo_superior_2015/DADOS/DM_ALUNO/\n",
            "microdados_censo_superior_2015/microdados_censo_superior_2015/DADOS/DM_ALUNO.rar\n",
            "microdados_censo_superior_2015/microdados_censo_superior_2015/DADOS/DM_ALUNO/DM_ALUNO.CSV\n",
            "microdados_censo_superior_2015/microdados_censo_superior_2015/DADOS/DM_CURSO.rar\n",
            "microdados_censo_superior_2015/microdados_censo_superior_2015/DADOS/DM_DOCENTE.rar\n",
            "microdados_censo_superior_2015/microdados_censo_superior_2015/DADOS/DM_IES.rar\n",
            "microdados_censo_superior_2015/microdados_censo_superior_2015/DADOS/DM_LOCAL_OFERTA.rar\n",
            "microdados_censo_superior_2015/microdados_censo_superior_2015/DADOS/md5_microdados_ed_sup_2015.txt\n",
            "microdados_censo_superior_2015/microdados_censo_superior_2015/FILTROS/\n",
            "microdados_censo_superior_2015/microdados_censo_superior_2015/FILTROS/Filtros Censo Ed Superior 2015.pdf\n",
            "microdados_censo_superior_2015/microdados_censo_superior_2015/LEIA-ME/\n",
            "microdados_censo_superior_2015/microdados_censo_superior_2015/LEIA-ME/Leia_me Superior_2015.pdf\n"
          ],
          "name": "stdout"
        }
      ]
    },
    {
      "cell_type": "code",
      "metadata": {
        "id": "E-XcZa-Vx12k"
      },
      "source": [
        "with zipfile.ZipFile(\"/content/drive/MyDrive/Colab_Notebooks/Projeto Sigalei/microdados_censo_superior_2015.zip\") as z:\n",
        "   with z.open(\"microdados_censo_superior_2015/microdados_censo_superior_2015/DADOS/DM_ALUNO/DM_ALUNO.CSV\") as f:\n",
        "    df_2015 = pd.read_csv(f, sep=\"|\",usecols=colunas2, nrows=1000)"
      ],
      "execution_count": 25,
      "outputs": []
    },
    {
      "cell_type": "code",
      "metadata": {
        "id": "ZIfnHWa0x1sM"
      },
      "source": [
        "df_2015[\"NU_ANO_CENSO\"] = 2015"
      ],
      "execution_count": 26,
      "outputs": []
    },
    {
      "cell_type": "code",
      "metadata": {
        "id": "H0U09txix1it"
      },
      "source": [
        "df_2015.rename(columns={\"CO_GRAU_ACADEMICO\": \"TP_GRAU_ACADEMICO\", \"CO_CATEGORIA_ADMINISTRATIVA\": \"TP_CATEGORIA_ADMINISTRATIVA\", \"NU_IDADE_ALUNO\": \"NU_IDADE\", \"CO_NIVEL_ACADEMICO\": \"TP_NIVEL_ACADEMICO\",\n",
        "                        \"CO_MODALIDADE_ENSINO\": \"TP_MODALIDADE_ENSINO\", \"CO_TURNO_ALUNO\": \"TP_TURNO\", \"CO_PAIS_ORIGEM_ALUNO\": \"CO_PAIS_ORIGEM\",\n",
        "                        \"CO_NACIONALIDADE_ALUNO\": \"TP_NACIONALIDADE\", \"IN_SEXO_ALUNO\": \"TP_SEXO\", \"IN_ING_VESTIBULAR\": \"IN_INGRESSO_VESTIBULAR\",\n",
        "                        \"CO_COR_RACA_ALUNO\": \"TP_COR_RACA\", \"CO_ALUNO_SITUACAO\": \"TP_SITUACAO\", \"IN_FINANC_ESTUDANTIL\": \"IN_FINANCIAMENTO_ESTUDANTIL\",\n",
        "                        \"ANO_INGRESSO\": \"NU_ANO_INGRESSO\", \"IN_ING_ENEM\": \"IN_INGRESSO_ENEM\"}, inplace=True)"
      ],
      "execution_count": 27,
      "outputs": []
    },
    {
      "cell_type": "code",
      "metadata": {
        "colab": {
          "base_uri": "https://localhost:8080/",
          "height": 217
        },
        "id": "ybyz6cc6x1XC",
        "outputId": "70a76d00-4e08-4eb4-d5d1-b311b3bf12bb"
      },
      "source": [
        "df_2015.head()"
      ],
      "execution_count": 28,
      "outputs": [
        {
          "output_type": "execute_result",
          "data": {
            "text/html": [
              "<div>\n",
              "<style scoped>\n",
              "    .dataframe tbody tr th:only-of-type {\n",
              "        vertical-align: middle;\n",
              "    }\n",
              "\n",
              "    .dataframe tbody tr th {\n",
              "        vertical-align: top;\n",
              "    }\n",
              "\n",
              "    .dataframe thead th {\n",
              "        text-align: right;\n",
              "    }\n",
              "</style>\n",
              "<table border=\"1\" class=\"dataframe\">\n",
              "  <thead>\n",
              "    <tr style=\"text-align: right;\">\n",
              "      <th></th>\n",
              "      <th>TP_CATEGORIA_ADMINISTRATIVA</th>\n",
              "      <th>CO_CURSO</th>\n",
              "      <th>TP_TURNO</th>\n",
              "      <th>TP_GRAU_ACADEMICO</th>\n",
              "      <th>TP_MODALIDADE_ENSINO</th>\n",
              "      <th>TP_NIVEL_ACADEMICO</th>\n",
              "      <th>TP_COR_RACA</th>\n",
              "      <th>TP_SEXO</th>\n",
              "      <th>NU_IDADE</th>\n",
              "      <th>TP_NACIONALIDADE</th>\n",
              "      <th>CO_PAIS_ORIGEM</th>\n",
              "      <th>CO_UF_NASCIMENTO</th>\n",
              "      <th>TP_SITUACAO</th>\n",
              "      <th>IN_INGRESSO_VESTIBULAR</th>\n",
              "      <th>IN_INGRESSO_ENEM</th>\n",
              "      <th>IN_RESERVA_ETNICO</th>\n",
              "      <th>IN_RESERVA_ENSINO_PUBLICO</th>\n",
              "      <th>IN_RESERVA_RENDA_FAMILIAR</th>\n",
              "      <th>IN_FINANCIAMENTO_ESTUDANTIL</th>\n",
              "      <th>IN_FIN_REEMB_FIES</th>\n",
              "      <th>IN_FIN_NAOREEMB_PROUNI_INTEGR</th>\n",
              "      <th>IN_FIN_NAOREEMB_PROUNI_PARCIAL</th>\n",
              "      <th>IN_BOLSA_ESTAGIO</th>\n",
              "      <th>NU_ANO_INGRESSO</th>\n",
              "      <th>NU_ANO_CENSO</th>\n",
              "    </tr>\n",
              "  </thead>\n",
              "  <tbody>\n",
              "    <tr>\n",
              "      <th>0</th>\n",
              "      <td>1</td>\n",
              "      <td>44</td>\n",
              "      <td>4.0</td>\n",
              "      <td>1</td>\n",
              "      <td>1</td>\n",
              "      <td>1</td>\n",
              "      <td>2</td>\n",
              "      <td>1</td>\n",
              "      <td>24</td>\n",
              "      <td>1</td>\n",
              "      <td>10</td>\n",
              "      <td>51.0</td>\n",
              "      <td>2</td>\n",
              "      <td>0</td>\n",
              "      <td>1</td>\n",
              "      <td>1.0</td>\n",
              "      <td>1.0</td>\n",
              "      <td>0.0</td>\n",
              "      <td>NaN</td>\n",
              "      <td>NaN</td>\n",
              "      <td>NaN</td>\n",
              "      <td>NaN</td>\n",
              "      <td>NaN</td>\n",
              "      <td>2012</td>\n",
              "      <td>2015</td>\n",
              "    </tr>\n",
              "    <tr>\n",
              "      <th>1</th>\n",
              "      <td>1</td>\n",
              "      <td>116560</td>\n",
              "      <td>1.0</td>\n",
              "      <td>1</td>\n",
              "      <td>1</td>\n",
              "      <td>1</td>\n",
              "      <td>1</td>\n",
              "      <td>0</td>\n",
              "      <td>31</td>\n",
              "      <td>1</td>\n",
              "      <td>10</td>\n",
              "      <td>51.0</td>\n",
              "      <td>3</td>\n",
              "      <td>0</td>\n",
              "      <td>1</td>\n",
              "      <td>NaN</td>\n",
              "      <td>NaN</td>\n",
              "      <td>NaN</td>\n",
              "      <td>NaN</td>\n",
              "      <td>NaN</td>\n",
              "      <td>NaN</td>\n",
              "      <td>NaN</td>\n",
              "      <td>NaN</td>\n",
              "      <td>2010</td>\n",
              "      <td>2015</td>\n",
              "    </tr>\n",
              "    <tr>\n",
              "      <th>2</th>\n",
              "      <td>1</td>\n",
              "      <td>2</td>\n",
              "      <td>3.0</td>\n",
              "      <td>1</td>\n",
              "      <td>1</td>\n",
              "      <td>1</td>\n",
              "      <td>2</td>\n",
              "      <td>1</td>\n",
              "      <td>28</td>\n",
              "      <td>1</td>\n",
              "      <td>10</td>\n",
              "      <td>51.0</td>\n",
              "      <td>2</td>\n",
              "      <td>0</td>\n",
              "      <td>1</td>\n",
              "      <td>1.0</td>\n",
              "      <td>1.0</td>\n",
              "      <td>0.0</td>\n",
              "      <td>NaN</td>\n",
              "      <td>NaN</td>\n",
              "      <td>NaN</td>\n",
              "      <td>NaN</td>\n",
              "      <td>NaN</td>\n",
              "      <td>2015</td>\n",
              "      <td>2015</td>\n",
              "    </tr>\n",
              "    <tr>\n",
              "      <th>3</th>\n",
              "      <td>1</td>\n",
              "      <td>1103742</td>\n",
              "      <td>3.0</td>\n",
              "      <td>1</td>\n",
              "      <td>1</td>\n",
              "      <td>1</td>\n",
              "      <td>3</td>\n",
              "      <td>0</td>\n",
              "      <td>23</td>\n",
              "      <td>1</td>\n",
              "      <td>10</td>\n",
              "      <td>51.0</td>\n",
              "      <td>2</td>\n",
              "      <td>1</td>\n",
              "      <td>1</td>\n",
              "      <td>NaN</td>\n",
              "      <td>NaN</td>\n",
              "      <td>NaN</td>\n",
              "      <td>NaN</td>\n",
              "      <td>NaN</td>\n",
              "      <td>NaN</td>\n",
              "      <td>NaN</td>\n",
              "      <td>NaN</td>\n",
              "      <td>2010</td>\n",
              "      <td>2015</td>\n",
              "    </tr>\n",
              "    <tr>\n",
              "      <th>4</th>\n",
              "      <td>1</td>\n",
              "      <td>44</td>\n",
              "      <td>4.0</td>\n",
              "      <td>1</td>\n",
              "      <td>1</td>\n",
              "      <td>1</td>\n",
              "      <td>1</td>\n",
              "      <td>1</td>\n",
              "      <td>23</td>\n",
              "      <td>1</td>\n",
              "      <td>10</td>\n",
              "      <td>35.0</td>\n",
              "      <td>2</td>\n",
              "      <td>1</td>\n",
              "      <td>1</td>\n",
              "      <td>NaN</td>\n",
              "      <td>NaN</td>\n",
              "      <td>NaN</td>\n",
              "      <td>NaN</td>\n",
              "      <td>NaN</td>\n",
              "      <td>NaN</td>\n",
              "      <td>NaN</td>\n",
              "      <td>NaN</td>\n",
              "      <td>2010</td>\n",
              "      <td>2015</td>\n",
              "    </tr>\n",
              "  </tbody>\n",
              "</table>\n",
              "</div>"
            ],
            "text/plain": [
              "   TP_CATEGORIA_ADMINISTRATIVA  CO_CURSO  ...  NU_ANO_INGRESSO  NU_ANO_CENSO\n",
              "0                            1        44  ...             2012          2015\n",
              "1                            1    116560  ...             2010          2015\n",
              "2                            1         2  ...             2015          2015\n",
              "3                            1   1103742  ...             2010          2015\n",
              "4                            1        44  ...             2010          2015\n",
              "\n",
              "[5 rows x 25 columns]"
            ]
          },
          "metadata": {
            "tags": []
          },
          "execution_count": 28
        }
      ]
    },
    {
      "cell_type": "markdown",
      "metadata": {
        "id": "unEwYVRWEctz"
      },
      "source": [
        "Dados 2014"
      ]
    },
    {
      "cell_type": "code",
      "metadata": {
        "colab": {
          "base_uri": "https://localhost:8080/"
        },
        "id": "3IF-ouYGx093",
        "outputId": "c65020a4-006a-4f2e-e2a2-147fb5b96f51"
      },
      "source": [
        "with zipfile.ZipFile(\"/content/drive/MyDrive/Colab_Notebooks/Projeto Sigalei/microdados_censo_superior_2014.zip\") as z:\n",
        "  print(*z.namelist(), sep=\"\\n\")"
      ],
      "execution_count": 29,
      "outputs": [
        {
          "output_type": "stream",
          "text": [
            "microdados_censo_superior_2014/\n",
            "microdados_censo_superior_2014/2014/\n",
            "microdados_censo_superior_2014/2014/ANEXOS/\n",
            "microdados_censo_superior_2014/2014/ANEXOS/ANEXO I/\n",
            "microdados_censo_superior_2014/2014/ANEXOS/ANEXO II/\n",
            "microdados_censo_superior_2014/2014/ANEXOS/ANEXO II/ANEXO II - MαDULO ALUNO 2014.pdf\n",
            "microdados_censo_superior_2014/2014/ANEXOS/ANEXO II/ANEXO II - MαDULO CURSO 2014.pdf\n",
            "microdados_censo_superior_2014/2014/ANEXOS/ANEXO II/ANEXO II - MαDULO DOCENTE 2014.pdf\n",
            "microdados_censo_superior_2014/2014/ANEXOS/ANEXO II/ANEXO II - MαDULO IES 2014.pdf\n",
            "microdados_censo_superior_2014/2014/ANEXOS/ANEXO I/ANEXO I - 2014.xlsx\n",
            "microdados_censo_superior_2014/2014/DADOS/\n",
            "microdados_censo_superior_2014/2014/DADOS/DM_ALUNO.CSV\n",
            "microdados_censo_superior_2014/2014/DADOS/DM_CURSO.CSV\n",
            "microdados_censo_superior_2014/2014/DADOS/DM_DOCENTE.CSV\n",
            "microdados_censo_superior_2014/2014/DADOS/DM_IES.CSV\n",
            "microdados_censo_superior_2014/2014/DADOS/DM_LOCAL_OFERTA.CSV\n",
            "microdados_censo_superior_2014/2014/DADOS/md5_microdados_ed_superior_2014.txt\n",
            "microdados_censo_superior_2014/2014/FILTROS/\n",
            "microdados_censo_superior_2014/2014/FILTROS/Filtros Censo Ed Superior 2014.pdf\n",
            "microdados_censo_superior_2014/2014/LEIA-ME/\n",
            "microdados_censo_superior_2014/2014/LEIA-ME/LEIA-ME 2014.pdf\n",
            "microdados_censo_superior_2014/2014/LEIA-ME/Thumbs.db\n",
            "microdados_censo_superior_2014/2014/~$ltros Censo Ed Superior 2014.doc\n"
          ],
          "name": "stdout"
        }
      ]
    },
    {
      "cell_type": "code",
      "metadata": {
        "id": "ujOWdmfRb6dk"
      },
      "source": [
        "with zipfile.ZipFile(\"/content/drive/MyDrive/Colab_Notebooks/Projeto Sigalei/microdados_censo_superior_2014.zip\") as z:\n",
        "   with z.open(\"microdados_censo_superior_2014/2014/DADOS/DM_ALUNO.CSV\") as f:\n",
        "    df_2014 = pd.read_csv(f, sep=\"|\",usecols=colunas2, nrows=1000)"
      ],
      "execution_count": 31,
      "outputs": []
    },
    {
      "cell_type": "code",
      "metadata": {
        "id": "3M0L0BmoE20I"
      },
      "source": [
        "df_2014[\"NU_ANO_CENSO\"] = 2014"
      ],
      "execution_count": 32,
      "outputs": []
    },
    {
      "cell_type": "code",
      "metadata": {
        "id": "V-OaKk8TE2uh"
      },
      "source": [
        "df_2014.rename(columns={\"CO_GRAU_ACADEMICO\": \"TP_GRAU_ACADEMICO\", \"CO_CATEGORIA_ADMINISTRATIVA\": \"TP_CATEGORIA_ADMINISTRATIVA\", \"NU_IDADE_ALUNO\": \"NU_IDADE\", \"CO_NIVEL_ACADEMICO\": \"TP_NIVEL_ACADEMICO\",\n",
        "                        \"CO_MODALIDADE_ENSINO\": \"TP_MODALIDADE_ENSINO\", \"CO_TURNO_ALUNO\": \"TP_TURNO\", \"CO_PAIS_ORIGEM_ALUNO\": \"CO_PAIS_ORIGEM\",\n",
        "                        \"CO_NACIONALIDADE_ALUNO\": \"TP_NACIONALIDADE\", \"IN_SEXO_ALUNO\": \"TP_SEXO\", \"IN_ING_VESTIBULAR\": \"IN_INGRESSO_VESTIBULAR\",\n",
        "                        \"CO_COR_RACA_ALUNO\": \"TP_COR_RACA\", \"CO_ALUNO_SITUACAO\": \"TP_SITUACAO\", \"IN_FINANC_ESTUDANTIL\": \"IN_FINANCIAMENTO_ESTUDANTIL\",\n",
        "                        \"ANO_INGRESSO\": \"NU_ANO_INGRESSO\", \"IN_ING_ENEM\": \"IN_INGRESSO_ENEM\"}, inplace=True)"
      ],
      "execution_count": 33,
      "outputs": []
    },
    {
      "cell_type": "code",
      "metadata": {
        "colab": {
          "base_uri": "https://localhost:8080/",
          "height": 217
        },
        "id": "MhLcwkbaE2oK",
        "outputId": "673f41d5-633a-4a23-9e51-cf5a0dad2aa4"
      },
      "source": [
        "df_2014.head()"
      ],
      "execution_count": 34,
      "outputs": [
        {
          "output_type": "execute_result",
          "data": {
            "text/html": [
              "<div>\n",
              "<style scoped>\n",
              "    .dataframe tbody tr th:only-of-type {\n",
              "        vertical-align: middle;\n",
              "    }\n",
              "\n",
              "    .dataframe tbody tr th {\n",
              "        vertical-align: top;\n",
              "    }\n",
              "\n",
              "    .dataframe thead th {\n",
              "        text-align: right;\n",
              "    }\n",
              "</style>\n",
              "<table border=\"1\" class=\"dataframe\">\n",
              "  <thead>\n",
              "    <tr style=\"text-align: right;\">\n",
              "      <th></th>\n",
              "      <th>TP_CATEGORIA_ADMINISTRATIVA</th>\n",
              "      <th>CO_CURSO</th>\n",
              "      <th>TP_TURNO</th>\n",
              "      <th>TP_GRAU_ACADEMICO</th>\n",
              "      <th>TP_MODALIDADE_ENSINO</th>\n",
              "      <th>TP_NIVEL_ACADEMICO</th>\n",
              "      <th>TP_COR_RACA</th>\n",
              "      <th>TP_SEXO</th>\n",
              "      <th>NU_IDADE</th>\n",
              "      <th>TP_NACIONALIDADE</th>\n",
              "      <th>CO_PAIS_ORIGEM</th>\n",
              "      <th>CO_UF_NASCIMENTO</th>\n",
              "      <th>TP_SITUACAO</th>\n",
              "      <th>IN_INGRESSO_VESTIBULAR</th>\n",
              "      <th>IN_INGRESSO_ENEM</th>\n",
              "      <th>IN_RESERVA_ETNICO</th>\n",
              "      <th>IN_RESERVA_ENSINO_PUBLICO</th>\n",
              "      <th>IN_RESERVA_RENDA_FAMILIAR</th>\n",
              "      <th>IN_FINANCIAMENTO_ESTUDANTIL</th>\n",
              "      <th>IN_FIN_REEMB_FIES</th>\n",
              "      <th>IN_FIN_NAOREEMB_PROUNI_INTEGR</th>\n",
              "      <th>IN_FIN_NAOREEMB_PROUNI_PARCIAL</th>\n",
              "      <th>IN_BOLSA_ESTAGIO</th>\n",
              "      <th>NU_ANO_INGRESSO</th>\n",
              "      <th>NU_ANO_CENSO</th>\n",
              "    </tr>\n",
              "  </thead>\n",
              "  <tbody>\n",
              "    <tr>\n",
              "      <th>0</th>\n",
              "      <td>1</td>\n",
              "      <td>1</td>\n",
              "      <td>1</td>\n",
              "      <td>1</td>\n",
              "      <td>1</td>\n",
              "      <td>1</td>\n",
              "      <td>3</td>\n",
              "      <td>1</td>\n",
              "      <td>21</td>\n",
              "      <td>1</td>\n",
              "      <td>10</td>\n",
              "      <td>NaN</td>\n",
              "      <td>6</td>\n",
              "      <td>0</td>\n",
              "      <td>0</td>\n",
              "      <td>NaN</td>\n",
              "      <td>NaN</td>\n",
              "      <td>NaN</td>\n",
              "      <td>NaN</td>\n",
              "      <td>NaN</td>\n",
              "      <td>NaN</td>\n",
              "      <td>NaN</td>\n",
              "      <td>NaN</td>\n",
              "      <td>2014</td>\n",
              "      <td>2014</td>\n",
              "    </tr>\n",
              "    <tr>\n",
              "      <th>1</th>\n",
              "      <td>1</td>\n",
              "      <td>1</td>\n",
              "      <td>1</td>\n",
              "      <td>1</td>\n",
              "      <td>1</td>\n",
              "      <td>1</td>\n",
              "      <td>2</td>\n",
              "      <td>0</td>\n",
              "      <td>22</td>\n",
              "      <td>1</td>\n",
              "      <td>10</td>\n",
              "      <td>51.0</td>\n",
              "      <td>6</td>\n",
              "      <td>0</td>\n",
              "      <td>1</td>\n",
              "      <td>1.0</td>\n",
              "      <td>1.0</td>\n",
              "      <td>0.0</td>\n",
              "      <td>NaN</td>\n",
              "      <td>NaN</td>\n",
              "      <td>NaN</td>\n",
              "      <td>NaN</td>\n",
              "      <td>NaN</td>\n",
              "      <td>2012</td>\n",
              "      <td>2014</td>\n",
              "    </tr>\n",
              "    <tr>\n",
              "      <th>2</th>\n",
              "      <td>1</td>\n",
              "      <td>1</td>\n",
              "      <td>3</td>\n",
              "      <td>1</td>\n",
              "      <td>1</td>\n",
              "      <td>1</td>\n",
              "      <td>2</td>\n",
              "      <td>0</td>\n",
              "      <td>23</td>\n",
              "      <td>1</td>\n",
              "      <td>10</td>\n",
              "      <td>NaN</td>\n",
              "      <td>2</td>\n",
              "      <td>0</td>\n",
              "      <td>0</td>\n",
              "      <td>NaN</td>\n",
              "      <td>NaN</td>\n",
              "      <td>NaN</td>\n",
              "      <td>NaN</td>\n",
              "      <td>NaN</td>\n",
              "      <td>NaN</td>\n",
              "      <td>NaN</td>\n",
              "      <td>NaN</td>\n",
              "      <td>2014</td>\n",
              "      <td>2014</td>\n",
              "    </tr>\n",
              "    <tr>\n",
              "      <th>3</th>\n",
              "      <td>1</td>\n",
              "      <td>1</td>\n",
              "      <td>3</td>\n",
              "      <td>1</td>\n",
              "      <td>1</td>\n",
              "      <td>1</td>\n",
              "      <td>0</td>\n",
              "      <td>1</td>\n",
              "      <td>21</td>\n",
              "      <td>1</td>\n",
              "      <td>10</td>\n",
              "      <td>51.0</td>\n",
              "      <td>6</td>\n",
              "      <td>0</td>\n",
              "      <td>0</td>\n",
              "      <td>NaN</td>\n",
              "      <td>NaN</td>\n",
              "      <td>NaN</td>\n",
              "      <td>NaN</td>\n",
              "      <td>NaN</td>\n",
              "      <td>NaN</td>\n",
              "      <td>NaN</td>\n",
              "      <td>NaN</td>\n",
              "      <td>2012</td>\n",
              "      <td>2014</td>\n",
              "    </tr>\n",
              "    <tr>\n",
              "      <th>4</th>\n",
              "      <td>1</td>\n",
              "      <td>1</td>\n",
              "      <td>3</td>\n",
              "      <td>1</td>\n",
              "      <td>1</td>\n",
              "      <td>1</td>\n",
              "      <td>3</td>\n",
              "      <td>1</td>\n",
              "      <td>48</td>\n",
              "      <td>1</td>\n",
              "      <td>10</td>\n",
              "      <td>51.0</td>\n",
              "      <td>2</td>\n",
              "      <td>0</td>\n",
              "      <td>1</td>\n",
              "      <td>0.0</td>\n",
              "      <td>1.0</td>\n",
              "      <td>0.0</td>\n",
              "      <td>NaN</td>\n",
              "      <td>NaN</td>\n",
              "      <td>NaN</td>\n",
              "      <td>NaN</td>\n",
              "      <td>NaN</td>\n",
              "      <td>2012</td>\n",
              "      <td>2014</td>\n",
              "    </tr>\n",
              "  </tbody>\n",
              "</table>\n",
              "</div>"
            ],
            "text/plain": [
              "   TP_CATEGORIA_ADMINISTRATIVA  CO_CURSO  ...  NU_ANO_INGRESSO  NU_ANO_CENSO\n",
              "0                            1         1  ...             2014          2014\n",
              "1                            1         1  ...             2012          2014\n",
              "2                            1         1  ...             2014          2014\n",
              "3                            1         1  ...             2012          2014\n",
              "4                            1         1  ...             2012          2014\n",
              "\n",
              "[5 rows x 25 columns]"
            ]
          },
          "metadata": {
            "tags": []
          },
          "execution_count": 34
        }
      ]
    },
    {
      "cell_type": "markdown",
      "metadata": {
        "id": "cFBh12Q7FMbR"
      },
      "source": [
        "Dados 2013"
      ]
    },
    {
      "cell_type": "code",
      "metadata": {
        "colab": {
          "base_uri": "https://localhost:8080/"
        },
        "id": "UnNGmCQ7E2ep",
        "outputId": "a9c0b3af-b41b-49ae-b5a6-06fe95416cf0"
      },
      "source": [
        "with zipfile.ZipFile(\"/content/drive/MyDrive/Colab_Notebooks/Projeto Sigalei/microdados_censo_superior_2013.zip\") as z:\n",
        "  print(*z.namelist(), sep=\"\\n\")"
      ],
      "execution_count": 35,
      "outputs": [
        {
          "output_type": "stream",
          "text": [
            "microdados_censo_superior_2013/\n",
            "microdados_censo_superior_2013/2013/\n",
            "microdados_censo_superior_2013/2013/ANEXOS/\n",
            "microdados_censo_superior_2013/2013/ANEXOS/ANEXO I/\n",
            "microdados_censo_superior_2013/2013/ANEXOS/ANEXO II/\n",
            "microdados_censo_superior_2013/2013/ANEXOS/ANEXO II/ANEXO II - MαDULO ALUNO 2013.pdf\n",
            "microdados_censo_superior_2013/2013/ANEXOS/ANEXO II/ANEXO II - MαDULO CURSO 2013.pdf\n",
            "microdados_censo_superior_2013/2013/ANEXOS/ANEXO II/ANEXO II - MαDULO DOCENTE 2013.pdf\n",
            "microdados_censo_superior_2013/2013/ANEXOS/ANEXO II/ANEXO II - MαDULO IES 2013.pdf\n",
            "microdados_censo_superior_2013/2013/ANEXOS/ANEXO I/ANEXO I - 2013.xlsx\n",
            "microdados_censo_superior_2013/2013/DADOS/\n",
            "microdados_censo_superior_2013/2013/DADOS/DM_ALUNO/\n",
            "microdados_censo_superior_2013/2013/DADOS/DM_ALUNO.rar\n",
            "microdados_censo_superior_2013/2013/DADOS/DM_ALUNO/DM_ALUNO.CSV\n",
            "microdados_censo_superior_2013/2013/DADOS/DM_CURSO.rar\n",
            "microdados_censo_superior_2013/2013/DADOS/DM_DOCENTE.rar\n",
            "microdados_censo_superior_2013/2013/DADOS/DM_IES.rar\n",
            "microdados_censo_superior_2013/2013/DADOS/DM_LOCAL_OFERTA.rar\n",
            "microdados_censo_superior_2013/2013/DADOS/md5_microdados_ed_superior_2013.txt\n",
            "microdados_censo_superior_2013/2013/FILTROS/\n",
            "microdados_censo_superior_2013/2013/FILTROS/Filtros Censo Ed Superior 2013.pdf\n",
            "microdados_censo_superior_2013/2013/LEIA-ME/\n",
            "microdados_censo_superior_2013/2013/LEIA-ME/LEIA-ME 2013.pdf\n",
            "microdados_censo_superior_2013/2013/LEIA-ME/Thumbs.db\n"
          ],
          "name": "stdout"
        }
      ]
    },
    {
      "cell_type": "code",
      "metadata": {
        "id": "HdK7ZscCE2VK"
      },
      "source": [
        "with zipfile.ZipFile(\"/content/drive/MyDrive/Colab_Notebooks/Projeto Sigalei/microdados_censo_superior_2013.zip\") as z:\n",
        "   with z.open(\"microdados_censo_superior_2013/2013/DADOS/DM_ALUNO/DM_ALUNO.CSV\") as f:\n",
        "    df_2013 = pd.read_csv(f, sep=\"|\",usecols=colunas2, nrows=1000)"
      ],
      "execution_count": 36,
      "outputs": []
    },
    {
      "cell_type": "code",
      "metadata": {
        "id": "jlHGgrxtOXok"
      },
      "source": [
        "df_2013[\"NU_ANO_CENSO\"] = 2013"
      ],
      "execution_count": 37,
      "outputs": []
    },
    {
      "cell_type": "code",
      "metadata": {
        "id": "M_aiEZvKOXZz"
      },
      "source": [
        "df_2013.rename(columns={\"CO_GRAU_ACADEMICO\": \"TP_GRAU_ACADEMICO\", \"CO_CATEGORIA_ADMINISTRATIVA\": \"TP_CATEGORIA_ADMINISTRATIVA\", \"NU_IDADE_ALUNO\": \"NU_IDADE\", \"CO_NIVEL_ACADEMICO\": \"TP_NIVEL_ACADEMICO\",\n",
        "                        \"CO_MODALIDADE_ENSINO\": \"TP_MODALIDADE_ENSINO\", \"CO_TURNO_ALUNO\": \"TP_TURNO\", \"CO_PAIS_ORIGEM_ALUNO\": \"CO_PAIS_ORIGEM\",\n",
        "                        \"CO_NACIONALIDADE_ALUNO\": \"TP_NACIONALIDADE\", \"IN_SEXO_ALUNO\": \"TP_SEXO\", \"IN_ING_VESTIBULAR\": \"IN_INGRESSO_VESTIBULAR\",\n",
        "                        \"CO_COR_RACA_ALUNO\": \"TP_COR_RACA\", \"CO_ALUNO_SITUACAO\": \"TP_SITUACAO\", \"IN_FINANC_ESTUDANTIL\": \"IN_FINANCIAMENTO_ESTUDANTIL\",\n",
        "                        \"ANO_INGRESSO\": \"NU_ANO_INGRESSO\", \"IN_ING_ENEM\": \"IN_INGRESSO_ENEM\"}, inplace=True)"
      ],
      "execution_count": 38,
      "outputs": []
    },
    {
      "cell_type": "code",
      "metadata": {
        "colab": {
          "base_uri": "https://localhost:8080/",
          "height": 217
        },
        "id": "6OrAL3w7T_Ab",
        "outputId": "65a9de35-da99-45a5-8a82-d717a73240e3"
      },
      "source": [
        "df_2013.head()"
      ],
      "execution_count": 39,
      "outputs": [
        {
          "output_type": "execute_result",
          "data": {
            "text/html": [
              "<div>\n",
              "<style scoped>\n",
              "    .dataframe tbody tr th:only-of-type {\n",
              "        vertical-align: middle;\n",
              "    }\n",
              "\n",
              "    .dataframe tbody tr th {\n",
              "        vertical-align: top;\n",
              "    }\n",
              "\n",
              "    .dataframe thead th {\n",
              "        text-align: right;\n",
              "    }\n",
              "</style>\n",
              "<table border=\"1\" class=\"dataframe\">\n",
              "  <thead>\n",
              "    <tr style=\"text-align: right;\">\n",
              "      <th></th>\n",
              "      <th>TP_CATEGORIA_ADMINISTRATIVA</th>\n",
              "      <th>CO_CURSO</th>\n",
              "      <th>TP_TURNO</th>\n",
              "      <th>TP_GRAU_ACADEMICO</th>\n",
              "      <th>TP_MODALIDADE_ENSINO</th>\n",
              "      <th>TP_NIVEL_ACADEMICO</th>\n",
              "      <th>TP_COR_RACA</th>\n",
              "      <th>TP_SEXO</th>\n",
              "      <th>NU_IDADE</th>\n",
              "      <th>TP_NACIONALIDADE</th>\n",
              "      <th>CO_PAIS_ORIGEM</th>\n",
              "      <th>CO_UF_NASCIMENTO</th>\n",
              "      <th>TP_SITUACAO</th>\n",
              "      <th>IN_FINANCIAMENTO_ESTUDANTIL</th>\n",
              "      <th>IN_INGRESSO_VESTIBULAR</th>\n",
              "      <th>IN_INGRESSO_ENEM</th>\n",
              "      <th>IN_RESERVA_ETNICO</th>\n",
              "      <th>IN_RESERVA_ENSINO_PUBLICO</th>\n",
              "      <th>IN_RESERVA_RENDA_FAMILIAR</th>\n",
              "      <th>IN_FIN_REEMB_FIES</th>\n",
              "      <th>IN_FIN_NAOREEMB_PROUNI_INTEGR</th>\n",
              "      <th>IN_FIN_NAOREEMB_PROUNI_PARCIAL</th>\n",
              "      <th>IN_BOLSA_ESTAGIO</th>\n",
              "      <th>NU_ANO_INGRESSO</th>\n",
              "      <th>NU_ANO_CENSO</th>\n",
              "    </tr>\n",
              "  </thead>\n",
              "  <tbody>\n",
              "    <tr>\n",
              "      <th>0</th>\n",
              "      <td>1</td>\n",
              "      <td>1</td>\n",
              "      <td>1</td>\n",
              "      <td>1</td>\n",
              "      <td>1</td>\n",
              "      <td>1</td>\n",
              "      <td>1</td>\n",
              "      <td>0</td>\n",
              "      <td>23</td>\n",
              "      <td>1</td>\n",
              "      <td>10</td>\n",
              "      <td>51.0</td>\n",
              "      <td>2</td>\n",
              "      <td>NaN</td>\n",
              "      <td>0</td>\n",
              "      <td>0</td>\n",
              "      <td>NaN</td>\n",
              "      <td>NaN</td>\n",
              "      <td>NaN</td>\n",
              "      <td>NaN</td>\n",
              "      <td>NaN</td>\n",
              "      <td>NaN</td>\n",
              "      <td>NaN</td>\n",
              "      <td>2010</td>\n",
              "      <td>2013</td>\n",
              "    </tr>\n",
              "    <tr>\n",
              "      <th>1</th>\n",
              "      <td>1</td>\n",
              "      <td>1</td>\n",
              "      <td>1</td>\n",
              "      <td>1</td>\n",
              "      <td>1</td>\n",
              "      <td>1</td>\n",
              "      <td>3</td>\n",
              "      <td>0</td>\n",
              "      <td>25</td>\n",
              "      <td>1</td>\n",
              "      <td>10</td>\n",
              "      <td>35.0</td>\n",
              "      <td>2</td>\n",
              "      <td>NaN</td>\n",
              "      <td>0</td>\n",
              "      <td>1</td>\n",
              "      <td>NaN</td>\n",
              "      <td>NaN</td>\n",
              "      <td>NaN</td>\n",
              "      <td>NaN</td>\n",
              "      <td>NaN</td>\n",
              "      <td>NaN</td>\n",
              "      <td>NaN</td>\n",
              "      <td>2012</td>\n",
              "      <td>2013</td>\n",
              "    </tr>\n",
              "    <tr>\n",
              "      <th>2</th>\n",
              "      <td>1</td>\n",
              "      <td>1</td>\n",
              "      <td>1</td>\n",
              "      <td>1</td>\n",
              "      <td>1</td>\n",
              "      <td>1</td>\n",
              "      <td>3</td>\n",
              "      <td>0</td>\n",
              "      <td>36</td>\n",
              "      <td>1</td>\n",
              "      <td>10</td>\n",
              "      <td>41.0</td>\n",
              "      <td>2</td>\n",
              "      <td>NaN</td>\n",
              "      <td>0</td>\n",
              "      <td>1</td>\n",
              "      <td>1.0</td>\n",
              "      <td>1.0</td>\n",
              "      <td>0.0</td>\n",
              "      <td>NaN</td>\n",
              "      <td>NaN</td>\n",
              "      <td>NaN</td>\n",
              "      <td>NaN</td>\n",
              "      <td>2013</td>\n",
              "      <td>2013</td>\n",
              "    </tr>\n",
              "    <tr>\n",
              "      <th>3</th>\n",
              "      <td>1</td>\n",
              "      <td>1</td>\n",
              "      <td>1</td>\n",
              "      <td>1</td>\n",
              "      <td>1</td>\n",
              "      <td>1</td>\n",
              "      <td>3</td>\n",
              "      <td>0</td>\n",
              "      <td>30</td>\n",
              "      <td>1</td>\n",
              "      <td>10</td>\n",
              "      <td>NaN</td>\n",
              "      <td>3</td>\n",
              "      <td>NaN</td>\n",
              "      <td>0</td>\n",
              "      <td>1</td>\n",
              "      <td>NaN</td>\n",
              "      <td>NaN</td>\n",
              "      <td>NaN</td>\n",
              "      <td>NaN</td>\n",
              "      <td>NaN</td>\n",
              "      <td>NaN</td>\n",
              "      <td>NaN</td>\n",
              "      <td>2011</td>\n",
              "      <td>2013</td>\n",
              "    </tr>\n",
              "    <tr>\n",
              "      <th>4</th>\n",
              "      <td>1</td>\n",
              "      <td>1</td>\n",
              "      <td>1</td>\n",
              "      <td>1</td>\n",
              "      <td>1</td>\n",
              "      <td>1</td>\n",
              "      <td>2</td>\n",
              "      <td>1</td>\n",
              "      <td>36</td>\n",
              "      <td>1</td>\n",
              "      <td>10</td>\n",
              "      <td>51.0</td>\n",
              "      <td>2</td>\n",
              "      <td>NaN</td>\n",
              "      <td>0</td>\n",
              "      <td>1</td>\n",
              "      <td>NaN</td>\n",
              "      <td>NaN</td>\n",
              "      <td>NaN</td>\n",
              "      <td>NaN</td>\n",
              "      <td>NaN</td>\n",
              "      <td>NaN</td>\n",
              "      <td>NaN</td>\n",
              "      <td>2012</td>\n",
              "      <td>2013</td>\n",
              "    </tr>\n",
              "  </tbody>\n",
              "</table>\n",
              "</div>"
            ],
            "text/plain": [
              "   TP_CATEGORIA_ADMINISTRATIVA  CO_CURSO  ...  NU_ANO_INGRESSO  NU_ANO_CENSO\n",
              "0                            1         1  ...             2010          2013\n",
              "1                            1         1  ...             2012          2013\n",
              "2                            1         1  ...             2013          2013\n",
              "3                            1         1  ...             2011          2013\n",
              "4                            1         1  ...             2012          2013\n",
              "\n",
              "[5 rows x 25 columns]"
            ]
          },
          "metadata": {
            "tags": []
          },
          "execution_count": 39
        }
      ]
    },
    {
      "cell_type": "markdown",
      "metadata": {
        "id": "4F7bCaMoOZnu"
      },
      "source": [
        "Dados 2012"
      ]
    },
    {
      "cell_type": "code",
      "metadata": {
        "colab": {
          "base_uri": "https://localhost:8080/"
        },
        "id": "mZn2WnNWE2GK",
        "outputId": "35ff7b25-1efa-4fc0-ecde-0d2826295d31"
      },
      "source": [
        "with zipfile.ZipFile(\"/content/drive/MyDrive/Colab_Notebooks/Projeto Sigalei/microdados_censo_superior_2012.zip\") as z:\n",
        "  print(*z.namelist(), sep=\"\\n\")"
      ],
      "execution_count": 40,
      "outputs": [
        {
          "output_type": "stream",
          "text": [
            "microdados_censo_superior_2012/\n",
            "microdados_censo_superior_2012/2012/\n",
            "microdados_censo_superior_2012/2012/ANEXOS/\n",
            "microdados_censo_superior_2012/2012/ANEXOS/ANEXO I/\n",
            "microdados_censo_superior_2012/2012/ANEXOS/ANEXO II/\n",
            "microdados_censo_superior_2012/2012/ANEXOS/ANEXO II/ANEXO II - MαDULO ALUNO 2012.pdf\n",
            "microdados_censo_superior_2012/2012/ANEXOS/ANEXO II/ANEXO II - MαDULO CURSO 2012.pdf\n",
            "microdados_censo_superior_2012/2012/ANEXOS/ANEXO II/ANEXO II - MαDULO DOCENTE 2012.pdf\n",
            "microdados_censo_superior_2012/2012/ANEXOS/ANEXO II/ANEXO II - MαDULO IES 2012.pdf\n",
            "microdados_censo_superior_2012/2012/ANEXOS/ANEXO I/ANEXO I - 2012.xlsx\n",
            "microdados_censo_superior_2012/2012/DADOS/\n",
            "microdados_censo_superior_2012/2012/DADOS/DM_ALUNO/\n",
            "microdados_censo_superior_2012/2012/DADOS/DM_ALUNO.rar\n",
            "microdados_censo_superior_2012/2012/DADOS/DM_ALUNO/DM_ALUNO.CSV\n",
            "microdados_censo_superior_2012/2012/DADOS/DM_CURSO.rar\n",
            "microdados_censo_superior_2012/2012/DADOS/DM_DOCENTE.rar\n",
            "microdados_censo_superior_2012/2012/DADOS/DM_IES.rar\n",
            "microdados_censo_superior_2012/2012/DADOS/DM_LOCAL_OFERTA.rar\n",
            "microdados_censo_superior_2012/2012/DADOS/md5_microdados_ed_superior_2012.txt\n",
            "microdados_censo_superior_2012/2012/FILTROS/\n",
            "microdados_censo_superior_2012/2012/FILTROS/Filtros Censo Ed Superior 2012.pdf\n",
            "microdados_censo_superior_2012/2012/LEIA-ME/\n",
            "microdados_censo_superior_2012/2012/LEIA-ME/LEIA-ME 2012.pdf\n"
          ],
          "name": "stdout"
        }
      ]
    },
    {
      "cell_type": "code",
      "metadata": {
        "id": "jG-pSijQOd-k"
      },
      "source": [
        "with zipfile.ZipFile(\"/content/drive/MyDrive/Colab_Notebooks/Projeto Sigalei/microdados_censo_superior_2012.zip\") as z:\n",
        "   with z.open(\"microdados_censo_superior_2012/2012/DADOS/DM_ALUNO/DM_ALUNO.CSV\") as f:\n",
        "    df_2012 = pd.read_csv(f, sep=\"|\",usecols=colunas2, nrows=1000)"
      ],
      "execution_count": 41,
      "outputs": []
    },
    {
      "cell_type": "code",
      "metadata": {
        "id": "cNs1VqP8Od8R"
      },
      "source": [
        "df_2012[\"NU_ANO_CENSO\"] = 2012"
      ],
      "execution_count": 42,
      "outputs": []
    },
    {
      "cell_type": "code",
      "metadata": {
        "id": "IC62BgpBOd5Z"
      },
      "source": [
        "df_2012.rename(columns={\"CO_GRAU_ACADEMICO\": \"TP_GRAU_ACADEMICO\", \"CO_CATEGORIA_ADMINISTRATIVA\": \"TP_CATEGORIA_ADMINISTRATIVA\", \"NU_IDADE_ALUNO\": \"NU_IDADE\", \"CO_NIVEL_ACADEMICO\": \"TP_NIVEL_ACADEMICO\",\n",
        "                        \"CO_MODALIDADE_ENSINO\": \"TP_MODALIDADE_ENSINO\", \"CO_TURNO_ALUNO\": \"TP_TURNO\", \"CO_PAIS_ORIGEM_ALUNO\": \"CO_PAIS_ORIGEM\",\n",
        "                        \"CO_NACIONALIDADE_ALUNO\": \"TP_NACIONALIDADE\", \"IN_SEXO_ALUNO\": \"TP_SEXO\", \"IN_ING_VESTIBULAR\": \"IN_INGRESSO_VESTIBULAR\",\n",
        "                        \"CO_COR_RACA_ALUNO\": \"TP_COR_RACA\", \"CO_ALUNO_SITUACAO\": \"TP_SITUACAO\", \"IN_FINANC_ESTUDANTIL\": \"IN_FINANCIAMENTO_ESTUDANTIL\",\n",
        "                        \"ANO_INGRESSO\": \"NU_ANO_INGRESSO\", \"IN_ING_ENEM\": \"IN_INGRESSO_ENEM\"}, inplace=True)"
      ],
      "execution_count": 43,
      "outputs": []
    },
    {
      "cell_type": "code",
      "metadata": {
        "colab": {
          "base_uri": "https://localhost:8080/",
          "height": 217
        },
        "id": "y10YQ9ZfOd2q",
        "outputId": "daafc7e5-1093-4001-a773-f65c806bc767"
      },
      "source": [
        "df_2012.head()"
      ],
      "execution_count": 44,
      "outputs": [
        {
          "output_type": "execute_result",
          "data": {
            "text/html": [
              "<div>\n",
              "<style scoped>\n",
              "    .dataframe tbody tr th:only-of-type {\n",
              "        vertical-align: middle;\n",
              "    }\n",
              "\n",
              "    .dataframe tbody tr th {\n",
              "        vertical-align: top;\n",
              "    }\n",
              "\n",
              "    .dataframe thead th {\n",
              "        text-align: right;\n",
              "    }\n",
              "</style>\n",
              "<table border=\"1\" class=\"dataframe\">\n",
              "  <thead>\n",
              "    <tr style=\"text-align: right;\">\n",
              "      <th></th>\n",
              "      <th>TP_CATEGORIA_ADMINISTRATIVA</th>\n",
              "      <th>CO_CURSO</th>\n",
              "      <th>TP_TURNO</th>\n",
              "      <th>TP_GRAU_ACADEMICO</th>\n",
              "      <th>TP_MODALIDADE_ENSINO</th>\n",
              "      <th>TP_NIVEL_ACADEMICO</th>\n",
              "      <th>TP_COR_RACA</th>\n",
              "      <th>TP_SEXO</th>\n",
              "      <th>NU_IDADE</th>\n",
              "      <th>TP_NACIONALIDADE</th>\n",
              "      <th>CO_PAIS_ORIGEM</th>\n",
              "      <th>CO_UF_NASCIMENTO</th>\n",
              "      <th>TP_SITUACAO</th>\n",
              "      <th>IN_FINANCIAMENTO_ESTUDANTIL</th>\n",
              "      <th>IN_INGRESSO_VESTIBULAR</th>\n",
              "      <th>IN_INGRESSO_ENEM</th>\n",
              "      <th>IN_RESERVA_ETNICO</th>\n",
              "      <th>IN_RESERVA_ENSINO_PUBLICO</th>\n",
              "      <th>IN_RESERVA_RENDA_FAMILIAR</th>\n",
              "      <th>IN_FIN_REEMB_FIES</th>\n",
              "      <th>IN_FIN_NAOREEMB_PROUNI_INTEGR</th>\n",
              "      <th>IN_FIN_NAOREEMB_PROUNI_PARCIAL</th>\n",
              "      <th>IN_BOLSA_ESTAGIO</th>\n",
              "      <th>NU_ANO_INGRESSO</th>\n",
              "      <th>NU_ANO_CENSO</th>\n",
              "    </tr>\n",
              "  </thead>\n",
              "  <tbody>\n",
              "    <tr>\n",
              "      <th>0</th>\n",
              "      <td>4</td>\n",
              "      <td>68161</td>\n",
              "      <td>3.0</td>\n",
              "      <td>1.0</td>\n",
              "      <td>1</td>\n",
              "      <td>1</td>\n",
              "      <td>3</td>\n",
              "      <td>1</td>\n",
              "      <td>33</td>\n",
              "      <td>1</td>\n",
              "      <td>10</td>\n",
              "      <td>52.0</td>\n",
              "      <td>4</td>\n",
              "      <td>0.0</td>\n",
              "      <td>1</td>\n",
              "      <td>0</td>\n",
              "      <td>NaN</td>\n",
              "      <td>NaN</td>\n",
              "      <td>NaN</td>\n",
              "      <td>NaN</td>\n",
              "      <td>NaN</td>\n",
              "      <td>NaN</td>\n",
              "      <td>NaN</td>\n",
              "      <td>2009</td>\n",
              "      <td>2012</td>\n",
              "    </tr>\n",
              "    <tr>\n",
              "      <th>1</th>\n",
              "      <td>4</td>\n",
              "      <td>100878</td>\n",
              "      <td>4.0</td>\n",
              "      <td>1.0</td>\n",
              "      <td>1</td>\n",
              "      <td>1</td>\n",
              "      <td>0</td>\n",
              "      <td>1</td>\n",
              "      <td>23</td>\n",
              "      <td>1</td>\n",
              "      <td>10</td>\n",
              "      <td>11.0</td>\n",
              "      <td>2</td>\n",
              "      <td>0.0</td>\n",
              "      <td>1</td>\n",
              "      <td>0</td>\n",
              "      <td>NaN</td>\n",
              "      <td>NaN</td>\n",
              "      <td>NaN</td>\n",
              "      <td>NaN</td>\n",
              "      <td>NaN</td>\n",
              "      <td>NaN</td>\n",
              "      <td>NaN</td>\n",
              "      <td>2010</td>\n",
              "      <td>2012</td>\n",
              "    </tr>\n",
              "    <tr>\n",
              "      <th>2</th>\n",
              "      <td>2</td>\n",
              "      <td>60839</td>\n",
              "      <td>3.0</td>\n",
              "      <td>3.0</td>\n",
              "      <td>1</td>\n",
              "      <td>1</td>\n",
              "      <td>1</td>\n",
              "      <td>1</td>\n",
              "      <td>20</td>\n",
              "      <td>1</td>\n",
              "      <td>10</td>\n",
              "      <td>35.0</td>\n",
              "      <td>2</td>\n",
              "      <td>0.0</td>\n",
              "      <td>1</td>\n",
              "      <td>0</td>\n",
              "      <td>NaN</td>\n",
              "      <td>NaN</td>\n",
              "      <td>NaN</td>\n",
              "      <td>NaN</td>\n",
              "      <td>NaN</td>\n",
              "      <td>NaN</td>\n",
              "      <td>NaN</td>\n",
              "      <td>2010</td>\n",
              "      <td>2012</td>\n",
              "    </tr>\n",
              "    <tr>\n",
              "      <th>3</th>\n",
              "      <td>1</td>\n",
              "      <td>123308</td>\n",
              "      <td>2.0</td>\n",
              "      <td>3.0</td>\n",
              "      <td>1</td>\n",
              "      <td>1</td>\n",
              "      <td>1</td>\n",
              "      <td>1</td>\n",
              "      <td>28</td>\n",
              "      <td>1</td>\n",
              "      <td>10</td>\n",
              "      <td>NaN</td>\n",
              "      <td>2</td>\n",
              "      <td>NaN</td>\n",
              "      <td>0</td>\n",
              "      <td>1</td>\n",
              "      <td>NaN</td>\n",
              "      <td>NaN</td>\n",
              "      <td>NaN</td>\n",
              "      <td>NaN</td>\n",
              "      <td>NaN</td>\n",
              "      <td>NaN</td>\n",
              "      <td>NaN</td>\n",
              "      <td>2011</td>\n",
              "      <td>2012</td>\n",
              "    </tr>\n",
              "    <tr>\n",
              "      <th>4</th>\n",
              "      <td>4</td>\n",
              "      <td>83274</td>\n",
              "      <td>3.0</td>\n",
              "      <td>1.0</td>\n",
              "      <td>1</td>\n",
              "      <td>1</td>\n",
              "      <td>0</td>\n",
              "      <td>0</td>\n",
              "      <td>23</td>\n",
              "      <td>1</td>\n",
              "      <td>10</td>\n",
              "      <td>35.0</td>\n",
              "      <td>2</td>\n",
              "      <td>0.0</td>\n",
              "      <td>0</td>\n",
              "      <td>0</td>\n",
              "      <td>NaN</td>\n",
              "      <td>NaN</td>\n",
              "      <td>NaN</td>\n",
              "      <td>NaN</td>\n",
              "      <td>NaN</td>\n",
              "      <td>NaN</td>\n",
              "      <td>NaN</td>\n",
              "      <td>2010</td>\n",
              "      <td>2012</td>\n",
              "    </tr>\n",
              "  </tbody>\n",
              "</table>\n",
              "</div>"
            ],
            "text/plain": [
              "   TP_CATEGORIA_ADMINISTRATIVA  CO_CURSO  ...  NU_ANO_INGRESSO  NU_ANO_CENSO\n",
              "0                            4     68161  ...             2009          2012\n",
              "1                            4    100878  ...             2010          2012\n",
              "2                            2     60839  ...             2010          2012\n",
              "3                            1    123308  ...             2011          2012\n",
              "4                            4     83274  ...             2010          2012\n",
              "\n",
              "[5 rows x 25 columns]"
            ]
          },
          "metadata": {
            "tags": []
          },
          "execution_count": 44
        }
      ]
    },
    {
      "cell_type": "markdown",
      "metadata": {
        "id": "MDDxfYh5f8zh"
      },
      "source": [
        "Dados 2011"
      ]
    },
    {
      "cell_type": "code",
      "metadata": {
        "colab": {
          "base_uri": "https://localhost:8080/"
        },
        "id": "PPS8uUGFf8c7",
        "outputId": "b54b67f5-11e3-49ac-b9d2-1a578ab6c389"
      },
      "source": [
        "with zipfile.ZipFile(\"/content/drive/MyDrive/Colab_Notebooks/Projeto Sigalei/microdados_censo_superior_2011.zip\") as z:\n",
        "  print(*z.namelist(), sep=\"\\n\")"
      ],
      "execution_count": 45,
      "outputs": [
        {
          "output_type": "stream",
          "text": [
            "microdados_censo_superior_2011/\n",
            "microdados_censo_superior_2011/2011/\n",
            "microdados_censo_superior_2011/2011/ANEXOS/\n",
            "microdados_censo_superior_2011/2011/ANEXOS/ANEXO I/\n",
            "microdados_censo_superior_2011/2011/ANEXOS/ANEXO II/\n",
            "microdados_censo_superior_2011/2011/ANEXOS/ANEXO II/ANEXO II - MαDULO ALUNO 2011.pdf\n",
            "microdados_censo_superior_2011/2011/ANEXOS/ANEXO II/ANEXO II - MαDULO CURSO 2011.pdf\n",
            "microdados_censo_superior_2011/2011/ANEXOS/ANEXO II/ANEXO II - MαDULO DOCENTE 2011.pdf\n",
            "microdados_censo_superior_2011/2011/ANEXOS/ANEXO II/ANEXO II - MαDULO IES 2011.pdf\n",
            "microdados_censo_superior_2011/2011/ANEXOS/ANEXO I/ANEXO I - 2011.xlsx\n",
            "microdados_censo_superior_2011/2011/DADOS/\n",
            "microdados_censo_superior_2011/2011/DADOS/DM_ALUNO/\n",
            "microdados_censo_superior_2011/2011/DADOS/DM_ALUNO.rar\n",
            "microdados_censo_superior_2011/2011/DADOS/DM_ALUNO/DM_ALUNO.CSV\n",
            "microdados_censo_superior_2011/2011/DADOS/DM_CURSO.rar\n",
            "microdados_censo_superior_2011/2011/DADOS/DM_DOCENTE.rar\n",
            "microdados_censo_superior_2011/2011/DADOS/DM_IES.rar\n",
            "microdados_censo_superior_2011/2011/DADOS/DM_LOCAL_OFERTA.rar\n",
            "microdados_censo_superior_2011/2011/DADOS/md5_microdados_ed_superior_2011.txt\n",
            "microdados_censo_superior_2011/2011/FILTROS/\n",
            "microdados_censo_superior_2011/2011/FILTROS/Filtros Censo Ed Superior 2011.pdf\n",
            "microdados_censo_superior_2011/2011/LEIA-ME/\n",
            "microdados_censo_superior_2011/2011/LEIA-ME/LEIA-ME 2011.pdf\n"
          ],
          "name": "stdout"
        }
      ]
    },
    {
      "cell_type": "code",
      "metadata": {
        "id": "UABTQaG_Odyk"
      },
      "source": [
        "with zipfile.ZipFile(\"/content/drive/MyDrive/Colab_Notebooks/Projeto Sigalei/microdados_censo_superior_2011.zip\") as z:\n",
        "   with z.open(\"microdados_censo_superior_2011/2011/DADOS/DM_ALUNO/DM_ALUNO.CSV\") as f:\n",
        "    df_2011 = pd.read_csv(f, sep=\"|\",usecols=colunas2, nrows=1000)"
      ],
      "execution_count": 46,
      "outputs": []
    },
    {
      "cell_type": "code",
      "metadata": {
        "id": "AamukFQJOdvg"
      },
      "source": [
        "df_2011[\"NU_ANO_CENSO\"] = 2011"
      ],
      "execution_count": 47,
      "outputs": []
    },
    {
      "cell_type": "code",
      "metadata": {
        "id": "AOxZq7PjTeih"
      },
      "source": [
        "df_2011.rename(columns={\"CO_GRAU_ACADEMICO\": \"TP_GRAU_ACADEMICO\", \"CO_CATEGORIA_ADMINISTRATIVA\": \"TP_CATEGORIA_ADMINISTRATIVA\", \"NU_IDADE_ALUNO\": \"NU_IDADE\", \"CO_NIVEL_ACADEMICO\": \"TP_NIVEL_ACADEMICO\",\n",
        "                        \"CO_MODALIDADE_ENSINO\": \"TP_MODALIDADE_ENSINO\", \"CO_TURNO_ALUNO\": \"TP_TURNO\", \"CO_PAIS_ORIGEM_ALUNO\": \"CO_PAIS_ORIGEM\",\n",
        "                        \"CO_NACIONALIDADE_ALUNO\": \"TP_NACIONALIDADE\", \"IN_SEXO_ALUNO\": \"TP_SEXO\", \"IN_ING_VESTIBULAR\": \"IN_INGRESSO_VESTIBULAR\",\n",
        "                        \"CO_COR_RACA_ALUNO\": \"TP_COR_RACA\", \"CO_ALUNO_SITUACAO\": \"TP_SITUACAO\", \"IN_FINANC_ESTUDANTIL\": \"IN_FINANCIAMENTO_ESTUDANTIL\",\n",
        "                        \"ANO_INGRESSO\": \"NU_ANO_INGRESSO\", \"IN_ING_ENEM\": \"IN_INGRESSO_ENEM\"}, inplace=True)"
      ],
      "execution_count": 48,
      "outputs": []
    },
    {
      "cell_type": "code",
      "metadata": {
        "colab": {
          "base_uri": "https://localhost:8080/",
          "height": 217
        },
        "id": "V3CFljW1MV5R",
        "outputId": "68ff79c0-01c2-495e-a89e-9038a4f36700"
      },
      "source": [
        "df_2011.head()"
      ],
      "execution_count": 49,
      "outputs": [
        {
          "output_type": "execute_result",
          "data": {
            "text/html": [
              "<div>\n",
              "<style scoped>\n",
              "    .dataframe tbody tr th:only-of-type {\n",
              "        vertical-align: middle;\n",
              "    }\n",
              "\n",
              "    .dataframe tbody tr th {\n",
              "        vertical-align: top;\n",
              "    }\n",
              "\n",
              "    .dataframe thead th {\n",
              "        text-align: right;\n",
              "    }\n",
              "</style>\n",
              "<table border=\"1\" class=\"dataframe\">\n",
              "  <thead>\n",
              "    <tr style=\"text-align: right;\">\n",
              "      <th></th>\n",
              "      <th>TP_CATEGORIA_ADMINISTRATIVA</th>\n",
              "      <th>CO_CURSO</th>\n",
              "      <th>TP_GRAU_ACADEMICO</th>\n",
              "      <th>TP_MODALIDADE_ENSINO</th>\n",
              "      <th>TP_NIVEL_ACADEMICO</th>\n",
              "      <th>TP_COR_RACA</th>\n",
              "      <th>TP_SEXO</th>\n",
              "      <th>NU_IDADE</th>\n",
              "      <th>TP_NACIONALIDADE</th>\n",
              "      <th>CO_PAIS_ORIGEM</th>\n",
              "      <th>CO_UF_NASCIMENTO</th>\n",
              "      <th>TP_SITUACAO</th>\n",
              "      <th>IN_FINANCIAMENTO_ESTUDANTIL</th>\n",
              "      <th>TP_TURNO</th>\n",
              "      <th>IN_INGRESSO_VESTIBULAR</th>\n",
              "      <th>IN_INGRESSO_ENEM</th>\n",
              "      <th>IN_RESERVA_ETNICO</th>\n",
              "      <th>IN_RESERVA_ENSINO_PUBLICO</th>\n",
              "      <th>IN_RESERVA_RENDA_FAMILIAR</th>\n",
              "      <th>IN_FIN_REEMB_FIES</th>\n",
              "      <th>IN_FIN_NAOREEMB_PROUNI_INTEGR</th>\n",
              "      <th>IN_FIN_NAOREEMB_PROUNI_PARCIAL</th>\n",
              "      <th>IN_BOLSA_ESTAGIO</th>\n",
              "      <th>NU_ANO_INGRESSO</th>\n",
              "      <th>NU_ANO_CENSO</th>\n",
              "    </tr>\n",
              "  </thead>\n",
              "  <tbody>\n",
              "    <tr>\n",
              "      <th>0</th>\n",
              "      <td>4</td>\n",
              "      <td>67701</td>\n",
              "      <td>2.0</td>\n",
              "      <td>1</td>\n",
              "      <td>1</td>\n",
              "      <td>0</td>\n",
              "      <td>1</td>\n",
              "      <td>45</td>\n",
              "      <td>1</td>\n",
              "      <td>10</td>\n",
              "      <td>31.0</td>\n",
              "      <td>2</td>\n",
              "      <td>1</td>\n",
              "      <td>3.0</td>\n",
              "      <td>0</td>\n",
              "      <td>1</td>\n",
              "      <td>NaN</td>\n",
              "      <td>NaN</td>\n",
              "      <td>NaN</td>\n",
              "      <td>0.0</td>\n",
              "      <td>0.0</td>\n",
              "      <td>1.0</td>\n",
              "      <td>NaN</td>\n",
              "      <td>2010</td>\n",
              "      <td>2011</td>\n",
              "    </tr>\n",
              "    <tr>\n",
              "      <th>1</th>\n",
              "      <td>4</td>\n",
              "      <td>75010</td>\n",
              "      <td>2.0</td>\n",
              "      <td>1</td>\n",
              "      <td>1</td>\n",
              "      <td>3</td>\n",
              "      <td>1</td>\n",
              "      <td>24</td>\n",
              "      <td>1</td>\n",
              "      <td>10</td>\n",
              "      <td>26.0</td>\n",
              "      <td>6</td>\n",
              "      <td>1</td>\n",
              "      <td>3.0</td>\n",
              "      <td>0</td>\n",
              "      <td>1</td>\n",
              "      <td>NaN</td>\n",
              "      <td>NaN</td>\n",
              "      <td>NaN</td>\n",
              "      <td>0.0</td>\n",
              "      <td>1.0</td>\n",
              "      <td>0.0</td>\n",
              "      <td>0.0</td>\n",
              "      <td>2007</td>\n",
              "      <td>2011</td>\n",
              "    </tr>\n",
              "    <tr>\n",
              "      <th>2</th>\n",
              "      <td>4</td>\n",
              "      <td>20022</td>\n",
              "      <td>1.0</td>\n",
              "      <td>1</td>\n",
              "      <td>1</td>\n",
              "      <td>0</td>\n",
              "      <td>1</td>\n",
              "      <td>52</td>\n",
              "      <td>1</td>\n",
              "      <td>10</td>\n",
              "      <td>35.0</td>\n",
              "      <td>2</td>\n",
              "      <td>0</td>\n",
              "      <td>3.0</td>\n",
              "      <td>1</td>\n",
              "      <td>0</td>\n",
              "      <td>NaN</td>\n",
              "      <td>NaN</td>\n",
              "      <td>NaN</td>\n",
              "      <td>NaN</td>\n",
              "      <td>NaN</td>\n",
              "      <td>NaN</td>\n",
              "      <td>NaN</td>\n",
              "      <td>2010</td>\n",
              "      <td>2011</td>\n",
              "    </tr>\n",
              "    <tr>\n",
              "      <th>3</th>\n",
              "      <td>4</td>\n",
              "      <td>74012</td>\n",
              "      <td>1.0</td>\n",
              "      <td>1</td>\n",
              "      <td>1</td>\n",
              "      <td>1</td>\n",
              "      <td>0</td>\n",
              "      <td>23</td>\n",
              "      <td>1</td>\n",
              "      <td>10</td>\n",
              "      <td>35.0</td>\n",
              "      <td>4</td>\n",
              "      <td>0</td>\n",
              "      <td>3.0</td>\n",
              "      <td>1</td>\n",
              "      <td>0</td>\n",
              "      <td>NaN</td>\n",
              "      <td>NaN</td>\n",
              "      <td>NaN</td>\n",
              "      <td>NaN</td>\n",
              "      <td>NaN</td>\n",
              "      <td>NaN</td>\n",
              "      <td>NaN</td>\n",
              "      <td>2009</td>\n",
              "      <td>2011</td>\n",
              "    </tr>\n",
              "    <tr>\n",
              "      <th>4</th>\n",
              "      <td>3</td>\n",
              "      <td>122404</td>\n",
              "      <td>2.0</td>\n",
              "      <td>1</td>\n",
              "      <td>1</td>\n",
              "      <td>1</td>\n",
              "      <td>1</td>\n",
              "      <td>19</td>\n",
              "      <td>1</td>\n",
              "      <td>10</td>\n",
              "      <td>41.0</td>\n",
              "      <td>2</td>\n",
              "      <td>0</td>\n",
              "      <td>3.0</td>\n",
              "      <td>1</td>\n",
              "      <td>0</td>\n",
              "      <td>NaN</td>\n",
              "      <td>NaN</td>\n",
              "      <td>NaN</td>\n",
              "      <td>NaN</td>\n",
              "      <td>NaN</td>\n",
              "      <td>NaN</td>\n",
              "      <td>NaN</td>\n",
              "      <td>2010</td>\n",
              "      <td>2011</td>\n",
              "    </tr>\n",
              "  </tbody>\n",
              "</table>\n",
              "</div>"
            ],
            "text/plain": [
              "   TP_CATEGORIA_ADMINISTRATIVA  CO_CURSO  ...  NU_ANO_INGRESSO  NU_ANO_CENSO\n",
              "0                            4     67701  ...             2010          2011\n",
              "1                            4     75010  ...             2007          2011\n",
              "2                            4     20022  ...             2010          2011\n",
              "3                            4     74012  ...             2009          2011\n",
              "4                            3    122404  ...             2010          2011\n",
              "\n",
              "[5 rows x 25 columns]"
            ]
          },
          "metadata": {
            "tags": []
          },
          "execution_count": 49
        }
      ]
    },
    {
      "cell_type": "markdown",
      "metadata": {
        "id": "1YAyFiYZMWOt"
      },
      "source": [
        "Dados 2010"
      ]
    },
    {
      "cell_type": "code",
      "metadata": {
        "colab": {
          "base_uri": "https://localhost:8080/"
        },
        "id": "DSN9iNJ9MVqL",
        "outputId": "1b5df589-d688-47bd-d0b4-d96a3488e905"
      },
      "source": [
        "with zipfile.ZipFile(\"/content/drive/MyDrive/Colab_Notebooks/Projeto Sigalei/microdados_censo_superior_2010.zip\") as z:\n",
        "  print(*z.namelist(), sep=\"\\n\")"
      ],
      "execution_count": 50,
      "outputs": [
        {
          "output_type": "stream",
          "text": [
            "microdados_censo_superior_2010/\n",
            "microdados_censo_superior_2010/ANEXOS/\n",
            "microdados_censo_superior_2010/ANEXOS/ANEXO I/\n",
            "microdados_censo_superior_2010/ANEXOS/ANEXO II/\n",
            "microdados_censo_superior_2010/ANEXOS/ANEXO II/ANEXO II - MαDULO ALUNO 2010.pdf\n",
            "microdados_censo_superior_2010/ANEXOS/ANEXO II/ANEXO II - MαDULO CURSO 2010.pdf\n",
            "microdados_censo_superior_2010/ANEXOS/ANEXO II/ANEXO II - MαDULO DOCENTE 2010.pdf\n",
            "microdados_censo_superior_2010/ANEXOS/ANEXO II/ANEXO II - MαDULO IES 2010.pdf\n",
            "microdados_censo_superior_2010/ANEXOS/ANEXO I/ANEXO I - 2010.xlsx\n",
            "microdados_censo_superior_2010/DADOS/\n",
            "microdados_censo_superior_2010/DADOS/DM_ALUNO/\n",
            "microdados_censo_superior_2010/DADOS/DM_ALUNO.rar\n",
            "microdados_censo_superior_2010/DADOS/DM_ALUNO/DM_ALUNO.CSV\n",
            "microdados_censo_superior_2010/DADOS/DM_CURSO.rar\n",
            "microdados_censo_superior_2010/DADOS/DM_DOCENTE.rar\n",
            "microdados_censo_superior_2010/DADOS/DM_IES.rar\n",
            "microdados_censo_superior_2010/DADOS/DM_LOCAL_OFERTA.rar\n",
            "microdados_censo_superior_2010/DADOS/md5_microdados_ed_superior_2010.txt\n",
            "microdados_censo_superior_2010/FILTROS/\n",
            "microdados_censo_superior_2010/FILTROS/Filtros Censo Ed Superior 2010.pdf\n",
            "microdados_censo_superior_2010/LEIA-ME/\n",
            "microdados_censo_superior_2010/LEIA-ME/LEIA-ME 2010.pdf\n"
          ],
          "name": "stdout"
        }
      ]
    },
    {
      "cell_type": "code",
      "metadata": {
        "id": "SZQz2SDOMVbI"
      },
      "source": [
        "with zipfile.ZipFile(\"/content/drive/MyDrive/Colab_Notebooks/Projeto Sigalei/microdados_censo_superior_2010.zip\") as z:\n",
        "   with z.open(\"microdados_censo_superior_2010/DADOS/DM_ALUNO/DM_ALUNO.CSV\") as f:\n",
        "    df_2010 = pd.read_csv(f, sep=\"|\",usecols=colunas2, nrows=1000)"
      ],
      "execution_count": 51,
      "outputs": []
    },
    {
      "cell_type": "code",
      "metadata": {
        "id": "03IhMCMVMVKM"
      },
      "source": [
        "df_2010[\"NU_ANO_CENSO\"] = 2010"
      ],
      "execution_count": 52,
      "outputs": []
    },
    {
      "cell_type": "code",
      "metadata": {
        "id": "CD4aOK53MU6I"
      },
      "source": [
        "df_2010.rename(columns={\"CO_GRAU_ACADEMICO\": \"TP_GRAU_ACADEMICO\", \"CO_CATEGORIA_ADMINISTRATIVA\": \"TP_CATEGORIA_ADMINISTRATIVA\", \"NU_IDADE_ALUNO\": \"NU_IDADE\", \"CO_NIVEL_ACADEMICO\": \"TP_NIVEL_ACADEMICO\",\n",
        "                        \"CO_MODALIDADE_ENSINO\": \"TP_MODALIDADE_ENSINO\", \"CO_TURNO_ALUNO\": \"TP_TURNO\", \"CO_PAIS_ORIGEM_ALUNO\": \"CO_PAIS_ORIGEM\",\n",
        "                        \"CO_NACIONALIDADE_ALUNO\": \"TP_NACIONALIDADE\", \"IN_SEXO_ALUNO\": \"TP_SEXO\", \"IN_ING_VESTIBULAR\": \"IN_INGRESSO_VESTIBULAR\",\n",
        "                        \"CO_COR_RACA_ALUNO\": \"TP_COR_RACA\", \"CO_ALUNO_SITUACAO\": \"TP_SITUACAO\", \"IN_FINANC_ESTUDANTIL\": \"IN_FINANCIAMENTO_ESTUDANTIL\",\n",
        "                        \"ANO_INGRESSO\": \"NU_ANO_INGRESSO\", \"IN_ING_ENEM\": \"IN_INGRESSO_ENEM\"}, inplace=True)"
      ],
      "execution_count": 53,
      "outputs": []
    },
    {
      "cell_type": "code",
      "metadata": {
        "colab": {
          "base_uri": "https://localhost:8080/",
          "height": 217
        },
        "id": "FYlVxie7NRSQ",
        "outputId": "8fca757c-cb29-42e7-a37a-f20dfc990595"
      },
      "source": [
        "df_2010.head()"
      ],
      "execution_count": 54,
      "outputs": [
        {
          "output_type": "execute_result",
          "data": {
            "text/html": [
              "<div>\n",
              "<style scoped>\n",
              "    .dataframe tbody tr th:only-of-type {\n",
              "        vertical-align: middle;\n",
              "    }\n",
              "\n",
              "    .dataframe tbody tr th {\n",
              "        vertical-align: top;\n",
              "    }\n",
              "\n",
              "    .dataframe thead th {\n",
              "        text-align: right;\n",
              "    }\n",
              "</style>\n",
              "<table border=\"1\" class=\"dataframe\">\n",
              "  <thead>\n",
              "    <tr style=\"text-align: right;\">\n",
              "      <th></th>\n",
              "      <th>TP_CATEGORIA_ADMINISTRATIVA</th>\n",
              "      <th>CO_CURSO</th>\n",
              "      <th>TP_GRAU_ACADEMICO</th>\n",
              "      <th>TP_MODALIDADE_ENSINO</th>\n",
              "      <th>TP_NIVEL_ACADEMICO</th>\n",
              "      <th>TP_COR_RACA</th>\n",
              "      <th>TP_SEXO</th>\n",
              "      <th>NU_IDADE</th>\n",
              "      <th>TP_NACIONALIDADE</th>\n",
              "      <th>CO_PAIS_ORIGEM</th>\n",
              "      <th>CO_UF_NASCIMENTO</th>\n",
              "      <th>TP_SITUACAO</th>\n",
              "      <th>IN_FINANCIAMENTO_ESTUDANTIL</th>\n",
              "      <th>TP_TURNO</th>\n",
              "      <th>IN_INGRESSO_VESTIBULAR</th>\n",
              "      <th>IN_INGRESSO_ENEM</th>\n",
              "      <th>IN_RESERVA_ETNICO</th>\n",
              "      <th>IN_RESERVA_ENSINO_PUBLICO</th>\n",
              "      <th>IN_RESERVA_RENDA_FAMILIAR</th>\n",
              "      <th>IN_FIN_REEMB_FIES</th>\n",
              "      <th>IN_FIN_NAOREEMB_PROUNI_INTEGR</th>\n",
              "      <th>IN_FIN_NAOREEMB_PROUNI_PARCIAL</th>\n",
              "      <th>IN_BOLSA_ESTAGIO</th>\n",
              "      <th>NU_ANO_INGRESSO</th>\n",
              "      <th>NU_ANO_CENSO</th>\n",
              "    </tr>\n",
              "  </thead>\n",
              "  <tbody>\n",
              "    <tr>\n",
              "      <th>0</th>\n",
              "      <td>1</td>\n",
              "      <td>1</td>\n",
              "      <td>1</td>\n",
              "      <td>1</td>\n",
              "      <td>1</td>\n",
              "      <td>1</td>\n",
              "      <td>1</td>\n",
              "      <td>21</td>\n",
              "      <td>1</td>\n",
              "      <td>10</td>\n",
              "      <td>51.0</td>\n",
              "      <td>2</td>\n",
              "      <td>0</td>\n",
              "      <td>3</td>\n",
              "      <td>0</td>\n",
              "      <td>0</td>\n",
              "      <td>NaN</td>\n",
              "      <td>NaN</td>\n",
              "      <td>NaN</td>\n",
              "      <td>NaN</td>\n",
              "      <td>NaN</td>\n",
              "      <td>NaN</td>\n",
              "      <td>NaN</td>\n",
              "      <td>2007</td>\n",
              "      <td>2010</td>\n",
              "    </tr>\n",
              "    <tr>\n",
              "      <th>1</th>\n",
              "      <td>1</td>\n",
              "      <td>1</td>\n",
              "      <td>1</td>\n",
              "      <td>1</td>\n",
              "      <td>1</td>\n",
              "      <td>0</td>\n",
              "      <td>0</td>\n",
              "      <td>30</td>\n",
              "      <td>1</td>\n",
              "      <td>10</td>\n",
              "      <td>51.0</td>\n",
              "      <td>2</td>\n",
              "      <td>0</td>\n",
              "      <td>3</td>\n",
              "      <td>0</td>\n",
              "      <td>0</td>\n",
              "      <td>NaN</td>\n",
              "      <td>NaN</td>\n",
              "      <td>NaN</td>\n",
              "      <td>NaN</td>\n",
              "      <td>NaN</td>\n",
              "      <td>NaN</td>\n",
              "      <td>NaN</td>\n",
              "      <td>2007</td>\n",
              "      <td>2010</td>\n",
              "    </tr>\n",
              "    <tr>\n",
              "      <th>2</th>\n",
              "      <td>1</td>\n",
              "      <td>1</td>\n",
              "      <td>1</td>\n",
              "      <td>1</td>\n",
              "      <td>1</td>\n",
              "      <td>3</td>\n",
              "      <td>1</td>\n",
              "      <td>26</td>\n",
              "      <td>1</td>\n",
              "      <td>10</td>\n",
              "      <td>51.0</td>\n",
              "      <td>6</td>\n",
              "      <td>0</td>\n",
              "      <td>3</td>\n",
              "      <td>0</td>\n",
              "      <td>0</td>\n",
              "      <td>NaN</td>\n",
              "      <td>NaN</td>\n",
              "      <td>NaN</td>\n",
              "      <td>NaN</td>\n",
              "      <td>NaN</td>\n",
              "      <td>NaN</td>\n",
              "      <td>NaN</td>\n",
              "      <td>2004</td>\n",
              "      <td>2010</td>\n",
              "    </tr>\n",
              "    <tr>\n",
              "      <th>3</th>\n",
              "      <td>1</td>\n",
              "      <td>1</td>\n",
              "      <td>1</td>\n",
              "      <td>1</td>\n",
              "      <td>1</td>\n",
              "      <td>1</td>\n",
              "      <td>0</td>\n",
              "      <td>21</td>\n",
              "      <td>1</td>\n",
              "      <td>10</td>\n",
              "      <td>51.0</td>\n",
              "      <td>6</td>\n",
              "      <td>0</td>\n",
              "      <td>1</td>\n",
              "      <td>0</td>\n",
              "      <td>0</td>\n",
              "      <td>NaN</td>\n",
              "      <td>NaN</td>\n",
              "      <td>NaN</td>\n",
              "      <td>NaN</td>\n",
              "      <td>NaN</td>\n",
              "      <td>NaN</td>\n",
              "      <td>NaN</td>\n",
              "      <td>2006</td>\n",
              "      <td>2010</td>\n",
              "    </tr>\n",
              "    <tr>\n",
              "      <th>4</th>\n",
              "      <td>1</td>\n",
              "      <td>1</td>\n",
              "      <td>1</td>\n",
              "      <td>1</td>\n",
              "      <td>1</td>\n",
              "      <td>6</td>\n",
              "      <td>0</td>\n",
              "      <td>35</td>\n",
              "      <td>1</td>\n",
              "      <td>10</td>\n",
              "      <td>43.0</td>\n",
              "      <td>3</td>\n",
              "      <td>0</td>\n",
              "      <td>3</td>\n",
              "      <td>0</td>\n",
              "      <td>0</td>\n",
              "      <td>NaN</td>\n",
              "      <td>NaN</td>\n",
              "      <td>NaN</td>\n",
              "      <td>NaN</td>\n",
              "      <td>NaN</td>\n",
              "      <td>NaN</td>\n",
              "      <td>NaN</td>\n",
              "      <td>2004</td>\n",
              "      <td>2010</td>\n",
              "    </tr>\n",
              "  </tbody>\n",
              "</table>\n",
              "</div>"
            ],
            "text/plain": [
              "   TP_CATEGORIA_ADMINISTRATIVA  CO_CURSO  ...  NU_ANO_INGRESSO  NU_ANO_CENSO\n",
              "0                            1         1  ...             2007          2010\n",
              "1                            1         1  ...             2007          2010\n",
              "2                            1         1  ...             2004          2010\n",
              "3                            1         1  ...             2006          2010\n",
              "4                            1         1  ...             2004          2010\n",
              "\n",
              "[5 rows x 25 columns]"
            ]
          },
          "metadata": {
            "tags": []
          },
          "execution_count": 54
        }
      ]
    },
    {
      "cell_type": "markdown",
      "metadata": {
        "id": "55Hc7RQrNUj3"
      },
      "source": [
        "Dados 2009"
      ]
    },
    {
      "cell_type": "code",
      "metadata": {
        "colab": {
          "base_uri": "https://localhost:8080/"
        },
        "id": "ssY1hCY_NXl3",
        "outputId": "c700c5b0-f664-4b2f-a5b9-2485819d8d74"
      },
      "source": [
        "with zipfile.ZipFile(\"/content/drive/MyDrive/Colab_Notebooks/Projeto Sigalei/microdados_censo_superior_2009.zip\") as z:\n",
        "  print(*z.namelist(), sep=\"\\n\")"
      ],
      "execution_count": 55,
      "outputs": [
        {
          "output_type": "stream",
          "text": [
            "microdados_censo_superior_2009/\n",
            "microdados_censo_superior_2009/2009/\n",
            "microdados_censo_superior_2009/2009/ANEXOS/\n",
            "microdados_censo_superior_2009/2009/ANEXOS/ANEXO I/\n",
            "microdados_censo_superior_2009/2009/ANEXOS/ANEXO II/\n",
            "microdados_censo_superior_2009/2009/ANEXOS/ANEXO II/ANEXO II - MαDULO ALUNO 2009.pdf\n",
            "microdados_censo_superior_2009/2009/ANEXOS/ANEXO II/ANEXO II - MαDULO CURSO 2009.pdf\n",
            "microdados_censo_superior_2009/2009/ANEXOS/ANEXO II/ANEXO II - MαDULO DOCENTE 2009.pdf\n",
            "microdados_censo_superior_2009/2009/ANEXOS/ANEXO II/ANEXO II - MαDULO IES 2009.pdf\n",
            "microdados_censo_superior_2009/2009/ANEXOS/ANEXO I/ANEXO I - 2009.xlsx\n",
            "microdados_censo_superior_2009/2009/DADOS/\n",
            "microdados_censo_superior_2009/2009/DADOS/DM_ALUNO/\n",
            "microdados_censo_superior_2009/2009/DADOS/DM_ALUNO.rar\n",
            "microdados_censo_superior_2009/2009/DADOS/DM_ALUNO/DM_ALUNO.CSV\n",
            "microdados_censo_superior_2009/2009/DADOS/DM_CURSO.rar\n",
            "microdados_censo_superior_2009/2009/DADOS/DM_DOCENTE.rar\n",
            "microdados_censo_superior_2009/2009/DADOS/DM_IES.rar\n",
            "microdados_censo_superior_2009/2009/DADOS/DM_UNIDADE_FUNCIONAMENTO.rar\n",
            "microdados_censo_superior_2009/2009/DADOS/DM_VAGAS_INSCRITOS_EAD.rar\n",
            "microdados_censo_superior_2009/2009/DADOS/md5_microdados_ed_superior_2009.txt\n",
            "microdados_censo_superior_2009/2009/FILTROS/\n",
            "microdados_censo_superior_2009/2009/FILTROS/Filtros Censo Ed Superior 2009.pdf\n",
            "microdados_censo_superior_2009/2009/LEIA-ME/\n",
            "microdados_censo_superior_2009/2009/LEIA-ME/LEIA-ME 2009.pdf\n"
          ],
          "name": "stdout"
        }
      ]
    },
    {
      "cell_type": "code",
      "metadata": {
        "id": "JePDFi-5U_ay"
      },
      "source": [
        "colunas3 = ['CO_CURSO', 'CO_GRAU_ACADEMICO', 'CO_CATEGORIA_ADMINISTRATIVA','CO_MODALIDADE_ENSINO', \n",
        "            'CO_NIVEL_ACADEMICO', 'CO_COR_RACA_ALUNO', 'IN_SEXO_ALUNO', 'NU_IDADE_ALUNO', 'CO_NACIONALIDADE_ALUNO', \n",
        "           'CO_PAIS_ORIGEM_ALUNO', 'CO_ALUNO_SITUACAO', 'IN_ING_VESTIBULAR', \n",
        "            'IN_ING_ENEM', 'IN_RESERVA_ETNICO', 'IN_RESERVA_ENSINO_PUBLICO', 'IN_RESERVA_RENDA_FAMILIAR', \n",
        "            'IN_FINANC_ESTUDANTIL', 'IN_FIES', 'IN_PROUNI_INTEGRAL', \n",
        "           'IN_PROUNI_PARCIAL', 'IN_APOIO_BOLSA_TRABALHO', 'ANO_INGRESSO'] "
      ],
      "execution_count": 56,
      "outputs": []
    },
    {
      "cell_type": "code",
      "metadata": {
        "id": "h7rvU416NXxq"
      },
      "source": [
        "with zipfile.ZipFile(\"/content/drive/MyDrive/Colab_Notebooks/Projeto Sigalei/microdados_censo_superior_2009.zip\") as z:\n",
        "   with z.open(\"microdados_censo_superior_2009/2009/DADOS/DM_ALUNO/DM_ALUNO.CSV\") as f:\n",
        "    df_2009 = pd.read_csv(f, sep=\"|\",usecols=colunas3, nrows=1000)"
      ],
      "execution_count": 57,
      "outputs": []
    },
    {
      "cell_type": "code",
      "metadata": {
        "id": "-Jf_4vbBNXbT"
      },
      "source": [
        "df_2009[\"CO_UF_NASCIMENTO\"] = 'null'\n",
        "df_2009[\"CO_TURNO_ALUNO\"] = 'null'\n",
        "df_2009[\"NU_ANO_CENSO\"] = 2009"
      ],
      "execution_count": 58,
      "outputs": []
    },
    {
      "cell_type": "code",
      "metadata": {
        "colab": {
          "base_uri": "https://localhost:8080/",
          "height": 217
        },
        "id": "2_aiGVk1NXS6",
        "outputId": "1ef49712-6acb-42ec-ce88-0a9afa01059a"
      },
      "source": [
        "df_2009.head()"
      ],
      "execution_count": 59,
      "outputs": [
        {
          "output_type": "execute_result",
          "data": {
            "text/html": [
              "<div>\n",
              "<style scoped>\n",
              "    .dataframe tbody tr th:only-of-type {\n",
              "        vertical-align: middle;\n",
              "    }\n",
              "\n",
              "    .dataframe tbody tr th {\n",
              "        vertical-align: top;\n",
              "    }\n",
              "\n",
              "    .dataframe thead th {\n",
              "        text-align: right;\n",
              "    }\n",
              "</style>\n",
              "<table border=\"1\" class=\"dataframe\">\n",
              "  <thead>\n",
              "    <tr style=\"text-align: right;\">\n",
              "      <th></th>\n",
              "      <th>CO_CATEGORIA_ADMINISTRATIVA</th>\n",
              "      <th>CO_CURSO</th>\n",
              "      <th>CO_NIVEL_ACADEMICO</th>\n",
              "      <th>CO_MODALIDADE_ENSINO</th>\n",
              "      <th>CO_GRAU_ACADEMICO</th>\n",
              "      <th>CO_ALUNO_SITUACAO</th>\n",
              "      <th>IN_ING_VESTIBULAR</th>\n",
              "      <th>IN_ING_ENEM</th>\n",
              "      <th>IN_APOIO_BOLSA_TRABALHO</th>\n",
              "      <th>IN_RESERVA_ENSINO_PUBLICO</th>\n",
              "      <th>IN_RESERVA_ETNICO</th>\n",
              "      <th>IN_RESERVA_RENDA_FAMILIAR</th>\n",
              "      <th>IN_FINANC_ESTUDANTIL</th>\n",
              "      <th>IN_PROUNI_INTEGRAL</th>\n",
              "      <th>IN_PROUNI_PARCIAL</th>\n",
              "      <th>IN_FIES</th>\n",
              "      <th>IN_SEXO_ALUNO</th>\n",
              "      <th>CO_COR_RACA_ALUNO</th>\n",
              "      <th>CO_NACIONALIDADE_ALUNO</th>\n",
              "      <th>CO_PAIS_ORIGEM_ALUNO</th>\n",
              "      <th>NU_IDADE_ALUNO</th>\n",
              "      <th>ANO_INGRESSO</th>\n",
              "      <th>CO_UF_NASCIMENTO</th>\n",
              "      <th>CO_TURNO_ALUNO</th>\n",
              "      <th>NU_ANO_CENSO</th>\n",
              "    </tr>\n",
              "  </thead>\n",
              "  <tbody>\n",
              "    <tr>\n",
              "      <th>0</th>\n",
              "      <td>4</td>\n",
              "      <td>18471</td>\n",
              "      <td>1</td>\n",
              "      <td>1</td>\n",
              "      <td>1.0</td>\n",
              "      <td>2</td>\n",
              "      <td>1</td>\n",
              "      <td>0</td>\n",
              "      <td>0</td>\n",
              "      <td>0</td>\n",
              "      <td>0</td>\n",
              "      <td>0</td>\n",
              "      <td>1</td>\n",
              "      <td>0</td>\n",
              "      <td>0</td>\n",
              "      <td>0</td>\n",
              "      <td>1</td>\n",
              "      <td>2</td>\n",
              "      <td>1</td>\n",
              "      <td>10</td>\n",
              "      <td>18</td>\n",
              "      <td>2009</td>\n",
              "      <td>null</td>\n",
              "      <td>null</td>\n",
              "      <td>2009</td>\n",
              "    </tr>\n",
              "    <tr>\n",
              "      <th>1</th>\n",
              "      <td>1</td>\n",
              "      <td>40171</td>\n",
              "      <td>1</td>\n",
              "      <td>1</td>\n",
              "      <td>1.0</td>\n",
              "      <td>2</td>\n",
              "      <td>1</td>\n",
              "      <td>0</td>\n",
              "      <td>0</td>\n",
              "      <td>0</td>\n",
              "      <td>0</td>\n",
              "      <td>0</td>\n",
              "      <td>0</td>\n",
              "      <td>0</td>\n",
              "      <td>0</td>\n",
              "      <td>0</td>\n",
              "      <td>0</td>\n",
              "      <td>6</td>\n",
              "      <td>1</td>\n",
              "      <td>10</td>\n",
              "      <td>18</td>\n",
              "      <td>2009</td>\n",
              "      <td>null</td>\n",
              "      <td>null</td>\n",
              "      <td>2009</td>\n",
              "    </tr>\n",
              "    <tr>\n",
              "      <th>2</th>\n",
              "      <td>4</td>\n",
              "      <td>82227</td>\n",
              "      <td>1</td>\n",
              "      <td>1</td>\n",
              "      <td>1.0</td>\n",
              "      <td>2</td>\n",
              "      <td>1</td>\n",
              "      <td>0</td>\n",
              "      <td>0</td>\n",
              "      <td>0</td>\n",
              "      <td>0</td>\n",
              "      <td>0</td>\n",
              "      <td>0</td>\n",
              "      <td>0</td>\n",
              "      <td>0</td>\n",
              "      <td>0</td>\n",
              "      <td>1</td>\n",
              "      <td>0</td>\n",
              "      <td>1</td>\n",
              "      <td>10</td>\n",
              "      <td>30</td>\n",
              "      <td>2009</td>\n",
              "      <td>null</td>\n",
              "      <td>null</td>\n",
              "      <td>2009</td>\n",
              "    </tr>\n",
              "    <tr>\n",
              "      <th>3</th>\n",
              "      <td>6</td>\n",
              "      <td>15474</td>\n",
              "      <td>1</td>\n",
              "      <td>1</td>\n",
              "      <td>1.0</td>\n",
              "      <td>4</td>\n",
              "      <td>1</td>\n",
              "      <td>0</td>\n",
              "      <td>0</td>\n",
              "      <td>0</td>\n",
              "      <td>0</td>\n",
              "      <td>0</td>\n",
              "      <td>0</td>\n",
              "      <td>0</td>\n",
              "      <td>0</td>\n",
              "      <td>0</td>\n",
              "      <td>0</td>\n",
              "      <td>6</td>\n",
              "      <td>1</td>\n",
              "      <td>10</td>\n",
              "      <td>19</td>\n",
              "      <td>2009</td>\n",
              "      <td>null</td>\n",
              "      <td>null</td>\n",
              "      <td>2009</td>\n",
              "    </tr>\n",
              "    <tr>\n",
              "      <th>4</th>\n",
              "      <td>4</td>\n",
              "      <td>86830</td>\n",
              "      <td>1</td>\n",
              "      <td>1</td>\n",
              "      <td>1.0</td>\n",
              "      <td>2</td>\n",
              "      <td>1</td>\n",
              "      <td>0</td>\n",
              "      <td>0</td>\n",
              "      <td>0</td>\n",
              "      <td>0</td>\n",
              "      <td>0</td>\n",
              "      <td>0</td>\n",
              "      <td>0</td>\n",
              "      <td>0</td>\n",
              "      <td>0</td>\n",
              "      <td>1</td>\n",
              "      <td>1</td>\n",
              "      <td>1</td>\n",
              "      <td>10</td>\n",
              "      <td>22</td>\n",
              "      <td>2009</td>\n",
              "      <td>null</td>\n",
              "      <td>null</td>\n",
              "      <td>2009</td>\n",
              "    </tr>\n",
              "  </tbody>\n",
              "</table>\n",
              "</div>"
            ],
            "text/plain": [
              "   CO_CATEGORIA_ADMINISTRATIVA  CO_CURSO  ...  CO_TURNO_ALUNO  NU_ANO_CENSO\n",
              "0                            4     18471  ...            null          2009\n",
              "1                            1     40171  ...            null          2009\n",
              "2                            4     82227  ...            null          2009\n",
              "3                            6     15474  ...            null          2009\n",
              "4                            4     86830  ...            null          2009\n",
              "\n",
              "[5 rows x 25 columns]"
            ]
          },
          "metadata": {
            "tags": []
          },
          "execution_count": 59
        }
      ]
    },
    {
      "cell_type": "code",
      "metadata": {
        "id": "FxqJ0T7GYVOL"
      },
      "source": [
        "df_2009.rename(columns={\"CO_GRAU_ACADEMICO\": \"TP_GRAU_ACADEMICO\", \"CO_CATEGORIA_ADMINISTRATIVA\": \"TP_CATEGORIA_ADMINISTRATIVA\", \"NU_IDADE_ALUNO\": \"NU_IDADE\", \"CO_NIVEL_ACADEMICO\": \"TP_NIVEL_ACADEMICO\",\n",
        "                        \"CO_MODALIDADE_ENSINO\": \"TP_MODALIDADE_ENSINO\", \"CO_TURNO_ALUNO\": \"TP_TURNO\", \"CO_PAIS_ORIGEM_ALUNO\": \"CO_PAIS_ORIGEM\",\n",
        "                        \"CO_NACIONALIDADE_ALUNO\": \"TP_NACIONALIDADE\", \"IN_SEXO_ALUNO\": \"TP_SEXO\", \"IN_ING_VESTIBULAR\": \"IN_INGRESSO_VESTIBULAR\",\n",
        "                        \"CO_COR_RACA_ALUNO\": \"TP_COR_RACA\", \"CO_ALUNO_SITUACAO\": \"TP_SITUACAO\", \"IN_FINANC_ESTUDANTIL\": \"IN_FINANCIAMENTO_ESTUDANTIL\",\n",
        "                        \"ANO_INGRESSO\": \"NU_ANO_INGRESSO\", \"IN_ING_ENEM\": \"IN_INGRESSO_ENEM\", \"IN_APOIO_BOLSA_TRABALHO\": \"IN_BOLSA_ESTAGIO\",\n",
        "                        \"IN_PROUNI_PARCIAL\": \"IN_FIN_NAOREEMB_PROUNI_PARCIAL\", \"IN_PROUNI_INTEGRAL\": \"IN_FIN_NAOREEMB_PROUNI_INTEGR\", \"IN_FIES\": \"'IN_FIN_REEMB_FIES\"}, inplace=True)"
      ],
      "execution_count": 60,
      "outputs": []
    },
    {
      "cell_type": "markdown",
      "metadata": {
        "id": "AJBtMHqwPXcz"
      },
      "source": [
        "Juntando os dados de todos os anos"
      ]
    },
    {
      "cell_type": "code",
      "metadata": {
        "id": "bfH1Il0vNW7c"
      },
      "source": [
        "anos = [df_2009, df_2010, df_2011, df_2012, df_2013, df_2014, df_2015, df_2016, df_2017, df_2018, df_2019]\n",
        "df_anos = pd.concat(anos)"
      ],
      "execution_count": 61,
      "outputs": []
    },
    {
      "cell_type": "code",
      "metadata": {
        "colab": {
          "base_uri": "https://localhost:8080/",
          "height": 217
        },
        "id": "iHFCq0_-NWw-",
        "outputId": "6536f0d8-97e4-4be9-9a7e-285f8711e1bd"
      },
      "source": [
        "df_anos.head()"
      ],
      "execution_count": 62,
      "outputs": [
        {
          "output_type": "execute_result",
          "data": {
            "text/html": [
              "<div>\n",
              "<style scoped>\n",
              "    .dataframe tbody tr th:only-of-type {\n",
              "        vertical-align: middle;\n",
              "    }\n",
              "\n",
              "    .dataframe tbody tr th {\n",
              "        vertical-align: top;\n",
              "    }\n",
              "\n",
              "    .dataframe thead th {\n",
              "        text-align: right;\n",
              "    }\n",
              "</style>\n",
              "<table border=\"1\" class=\"dataframe\">\n",
              "  <thead>\n",
              "    <tr style=\"text-align: right;\">\n",
              "      <th></th>\n",
              "      <th>TP_CATEGORIA_ADMINISTRATIVA</th>\n",
              "      <th>CO_CURSO</th>\n",
              "      <th>TP_NIVEL_ACADEMICO</th>\n",
              "      <th>TP_MODALIDADE_ENSINO</th>\n",
              "      <th>TP_GRAU_ACADEMICO</th>\n",
              "      <th>TP_SITUACAO</th>\n",
              "      <th>IN_INGRESSO_VESTIBULAR</th>\n",
              "      <th>IN_INGRESSO_ENEM</th>\n",
              "      <th>IN_BOLSA_ESTAGIO</th>\n",
              "      <th>IN_RESERVA_ENSINO_PUBLICO</th>\n",
              "      <th>IN_RESERVA_ETNICO</th>\n",
              "      <th>IN_RESERVA_RENDA_FAMILIAR</th>\n",
              "      <th>IN_FINANCIAMENTO_ESTUDANTIL</th>\n",
              "      <th>IN_FIN_NAOREEMB_PROUNI_INTEGR</th>\n",
              "      <th>IN_FIN_NAOREEMB_PROUNI_PARCIAL</th>\n",
              "      <th>'IN_FIN_REEMB_FIES</th>\n",
              "      <th>TP_SEXO</th>\n",
              "      <th>TP_COR_RACA</th>\n",
              "      <th>TP_NACIONALIDADE</th>\n",
              "      <th>CO_PAIS_ORIGEM</th>\n",
              "      <th>NU_IDADE</th>\n",
              "      <th>NU_ANO_INGRESSO</th>\n",
              "      <th>CO_UF_NASCIMENTO</th>\n",
              "      <th>TP_TURNO</th>\n",
              "      <th>NU_ANO_CENSO</th>\n",
              "      <th>IN_FIN_REEMB_FIES</th>\n",
              "    </tr>\n",
              "  </thead>\n",
              "  <tbody>\n",
              "    <tr>\n",
              "      <th>0</th>\n",
              "      <td>4</td>\n",
              "      <td>18471</td>\n",
              "      <td>1</td>\n",
              "      <td>1</td>\n",
              "      <td>1.0</td>\n",
              "      <td>2</td>\n",
              "      <td>1</td>\n",
              "      <td>0</td>\n",
              "      <td>0.0</td>\n",
              "      <td>0.0</td>\n",
              "      <td>0.0</td>\n",
              "      <td>0.0</td>\n",
              "      <td>1.0</td>\n",
              "      <td>0.0</td>\n",
              "      <td>0.0</td>\n",
              "      <td>0.0</td>\n",
              "      <td>1</td>\n",
              "      <td>2</td>\n",
              "      <td>1</td>\n",
              "      <td>10</td>\n",
              "      <td>18</td>\n",
              "      <td>2009</td>\n",
              "      <td>null</td>\n",
              "      <td>null</td>\n",
              "      <td>2009</td>\n",
              "      <td>NaN</td>\n",
              "    </tr>\n",
              "    <tr>\n",
              "      <th>1</th>\n",
              "      <td>1</td>\n",
              "      <td>40171</td>\n",
              "      <td>1</td>\n",
              "      <td>1</td>\n",
              "      <td>1.0</td>\n",
              "      <td>2</td>\n",
              "      <td>1</td>\n",
              "      <td>0</td>\n",
              "      <td>0.0</td>\n",
              "      <td>0.0</td>\n",
              "      <td>0.0</td>\n",
              "      <td>0.0</td>\n",
              "      <td>0.0</td>\n",
              "      <td>0.0</td>\n",
              "      <td>0.0</td>\n",
              "      <td>0.0</td>\n",
              "      <td>0</td>\n",
              "      <td>6</td>\n",
              "      <td>1</td>\n",
              "      <td>10</td>\n",
              "      <td>18</td>\n",
              "      <td>2009</td>\n",
              "      <td>null</td>\n",
              "      <td>null</td>\n",
              "      <td>2009</td>\n",
              "      <td>NaN</td>\n",
              "    </tr>\n",
              "    <tr>\n",
              "      <th>2</th>\n",
              "      <td>4</td>\n",
              "      <td>82227</td>\n",
              "      <td>1</td>\n",
              "      <td>1</td>\n",
              "      <td>1.0</td>\n",
              "      <td>2</td>\n",
              "      <td>1</td>\n",
              "      <td>0</td>\n",
              "      <td>0.0</td>\n",
              "      <td>0.0</td>\n",
              "      <td>0.0</td>\n",
              "      <td>0.0</td>\n",
              "      <td>0.0</td>\n",
              "      <td>0.0</td>\n",
              "      <td>0.0</td>\n",
              "      <td>0.0</td>\n",
              "      <td>1</td>\n",
              "      <td>0</td>\n",
              "      <td>1</td>\n",
              "      <td>10</td>\n",
              "      <td>30</td>\n",
              "      <td>2009</td>\n",
              "      <td>null</td>\n",
              "      <td>null</td>\n",
              "      <td>2009</td>\n",
              "      <td>NaN</td>\n",
              "    </tr>\n",
              "    <tr>\n",
              "      <th>3</th>\n",
              "      <td>6</td>\n",
              "      <td>15474</td>\n",
              "      <td>1</td>\n",
              "      <td>1</td>\n",
              "      <td>1.0</td>\n",
              "      <td>4</td>\n",
              "      <td>1</td>\n",
              "      <td>0</td>\n",
              "      <td>0.0</td>\n",
              "      <td>0.0</td>\n",
              "      <td>0.0</td>\n",
              "      <td>0.0</td>\n",
              "      <td>0.0</td>\n",
              "      <td>0.0</td>\n",
              "      <td>0.0</td>\n",
              "      <td>0.0</td>\n",
              "      <td>0</td>\n",
              "      <td>6</td>\n",
              "      <td>1</td>\n",
              "      <td>10</td>\n",
              "      <td>19</td>\n",
              "      <td>2009</td>\n",
              "      <td>null</td>\n",
              "      <td>null</td>\n",
              "      <td>2009</td>\n",
              "      <td>NaN</td>\n",
              "    </tr>\n",
              "    <tr>\n",
              "      <th>4</th>\n",
              "      <td>4</td>\n",
              "      <td>86830</td>\n",
              "      <td>1</td>\n",
              "      <td>1</td>\n",
              "      <td>1.0</td>\n",
              "      <td>2</td>\n",
              "      <td>1</td>\n",
              "      <td>0</td>\n",
              "      <td>0.0</td>\n",
              "      <td>0.0</td>\n",
              "      <td>0.0</td>\n",
              "      <td>0.0</td>\n",
              "      <td>0.0</td>\n",
              "      <td>0.0</td>\n",
              "      <td>0.0</td>\n",
              "      <td>0.0</td>\n",
              "      <td>1</td>\n",
              "      <td>1</td>\n",
              "      <td>1</td>\n",
              "      <td>10</td>\n",
              "      <td>22</td>\n",
              "      <td>2009</td>\n",
              "      <td>null</td>\n",
              "      <td>null</td>\n",
              "      <td>2009</td>\n",
              "      <td>NaN</td>\n",
              "    </tr>\n",
              "  </tbody>\n",
              "</table>\n",
              "</div>"
            ],
            "text/plain": [
              "   TP_CATEGORIA_ADMINISTRATIVA  CO_CURSO  ...  NU_ANO_CENSO  IN_FIN_REEMB_FIES\n",
              "0                            4     18471  ...          2009                NaN\n",
              "1                            1     40171  ...          2009                NaN\n",
              "2                            4     82227  ...          2009                NaN\n",
              "3                            6     15474  ...          2009                NaN\n",
              "4                            4     86830  ...          2009                NaN\n",
              "\n",
              "[5 rows x 26 columns]"
            ]
          },
          "metadata": {
            "tags": []
          },
          "execution_count": 62
        }
      ]
    },
    {
      "cell_type": "markdown",
      "metadata": {
        "id": "wcVsW-PPTdzw"
      },
      "source": [
        "Carregando o dataset com o nome dos cursos"
      ]
    },
    {
      "cell_type": "code",
      "metadata": {
        "id": "5Z6WNck-RGzT"
      },
      "source": [
        "with zipfile.ZipFile(\"/content/drive/MyDrive/Colab_Notebooks/Projeto Sigalei/microdados_educacao_superior_2019.zip\") as z:\n",
        "  with z.open(\"Microdados_Educaç╞o_Superior_2019/dados/SUP_CURSO_2019.CSV\") as f:\n",
        "    df_curso = pd.read_csv(f, sep=\"|\",usecols=[\"CO_CURSO\", \"NO_CURSO\"], encoding=\"ISO-8859-1\")"
      ],
      "execution_count": 63,
      "outputs": []
    },
    {
      "cell_type": "code",
      "metadata": {
        "colab": {
          "base_uri": "https://localhost:8080/",
          "height": 197
        },
        "id": "JuhJvZW-Odp5",
        "outputId": "4c4f6be5-a305-4c3d-e112-d83166da4ede"
      },
      "source": [
        "df_curso.head()"
      ],
      "execution_count": 64,
      "outputs": [
        {
          "output_type": "execute_result",
          "data": {
            "text/html": [
              "<div>\n",
              "<style scoped>\n",
              "    .dataframe tbody tr th:only-of-type {\n",
              "        vertical-align: middle;\n",
              "    }\n",
              "\n",
              "    .dataframe tbody tr th {\n",
              "        vertical-align: top;\n",
              "    }\n",
              "\n",
              "    .dataframe thead th {\n",
              "        text-align: right;\n",
              "    }\n",
              "</style>\n",
              "<table border=\"1\" class=\"dataframe\">\n",
              "  <thead>\n",
              "    <tr style=\"text-align: right;\">\n",
              "      <th></th>\n",
              "      <th>CO_CURSO</th>\n",
              "      <th>NO_CURSO</th>\n",
              "    </tr>\n",
              "  </thead>\n",
              "  <tbody>\n",
              "    <tr>\n",
              "      <th>0</th>\n",
              "      <td>1</td>\n",
              "      <td>DIREITO</td>\n",
              "    </tr>\n",
              "    <tr>\n",
              "      <th>1</th>\n",
              "      <td>2</td>\n",
              "      <td>CIÊNCIAS ECONÔMICAS</td>\n",
              "    </tr>\n",
              "    <tr>\n",
              "      <th>2</th>\n",
              "      <td>3</td>\n",
              "      <td>ENGENHARIA CIVIL</td>\n",
              "    </tr>\n",
              "    <tr>\n",
              "      <th>3</th>\n",
              "      <td>6</td>\n",
              "      <td>PEDAGOGIA</td>\n",
              "    </tr>\n",
              "    <tr>\n",
              "      <th>4</th>\n",
              "      <td>7</td>\n",
              "      <td>SERVIÇO SOCIAL</td>\n",
              "    </tr>\n",
              "  </tbody>\n",
              "</table>\n",
              "</div>"
            ],
            "text/plain": [
              "   CO_CURSO             NO_CURSO\n",
              "0         1              DIREITO\n",
              "1         2  CIÊNCIAS ECONÔMICAS\n",
              "2         3     ENGENHARIA CIVIL\n",
              "3         6            PEDAGOGIA\n",
              "4         7       SERVIÇO SOCIAL"
            ]
          },
          "metadata": {
            "tags": []
          },
          "execution_count": 64
        }
      ]
    },
    {
      "cell_type": "markdown",
      "metadata": {
        "id": "71oUWAt5quMz"
      },
      "source": [
        "# Análise Exploratória"
      ]
    },
    {
      "cell_type": "markdown",
      "metadata": {
        "id": "s-tRARoNVgdS"
      },
      "source": [
        "Juntar os datasets do censo com o nome dos cursos"
      ]
    },
    {
      "cell_type": "code",
      "metadata": {
        "id": "EAAdyEWAVe12"
      },
      "source": [
        "df_completo = pd.merge(df_anos, df_curso, on=\"CO_CURSO\")"
      ],
      "execution_count": 65,
      "outputs": []
    },
    {
      "cell_type": "code",
      "metadata": {
        "colab": {
          "base_uri": "https://localhost:8080/",
          "height": 234
        },
        "id": "T7XLmyxDRW4Q",
        "outputId": "71e528db-4800-4c35-f6a8-80df00574ab0"
      },
      "source": [
        "df_completo.head()"
      ],
      "execution_count": 66,
      "outputs": [
        {
          "output_type": "execute_result",
          "data": {
            "text/html": [
              "<div>\n",
              "<style scoped>\n",
              "    .dataframe tbody tr th:only-of-type {\n",
              "        vertical-align: middle;\n",
              "    }\n",
              "\n",
              "    .dataframe tbody tr th {\n",
              "        vertical-align: top;\n",
              "    }\n",
              "\n",
              "    .dataframe thead th {\n",
              "        text-align: right;\n",
              "    }\n",
              "</style>\n",
              "<table border=\"1\" class=\"dataframe\">\n",
              "  <thead>\n",
              "    <tr style=\"text-align: right;\">\n",
              "      <th></th>\n",
              "      <th>TP_CATEGORIA_ADMINISTRATIVA</th>\n",
              "      <th>CO_CURSO</th>\n",
              "      <th>TP_NIVEL_ACADEMICO</th>\n",
              "      <th>TP_MODALIDADE_ENSINO</th>\n",
              "      <th>TP_GRAU_ACADEMICO</th>\n",
              "      <th>TP_SITUACAO</th>\n",
              "      <th>IN_INGRESSO_VESTIBULAR</th>\n",
              "      <th>IN_INGRESSO_ENEM</th>\n",
              "      <th>IN_BOLSA_ESTAGIO</th>\n",
              "      <th>IN_RESERVA_ENSINO_PUBLICO</th>\n",
              "      <th>IN_RESERVA_ETNICO</th>\n",
              "      <th>IN_RESERVA_RENDA_FAMILIAR</th>\n",
              "      <th>IN_FINANCIAMENTO_ESTUDANTIL</th>\n",
              "      <th>IN_FIN_NAOREEMB_PROUNI_INTEGR</th>\n",
              "      <th>IN_FIN_NAOREEMB_PROUNI_PARCIAL</th>\n",
              "      <th>'IN_FIN_REEMB_FIES</th>\n",
              "      <th>TP_SEXO</th>\n",
              "      <th>TP_COR_RACA</th>\n",
              "      <th>TP_NACIONALIDADE</th>\n",
              "      <th>CO_PAIS_ORIGEM</th>\n",
              "      <th>NU_IDADE</th>\n",
              "      <th>NU_ANO_INGRESSO</th>\n",
              "      <th>CO_UF_NASCIMENTO</th>\n",
              "      <th>TP_TURNO</th>\n",
              "      <th>NU_ANO_CENSO</th>\n",
              "      <th>IN_FIN_REEMB_FIES</th>\n",
              "      <th>NO_CURSO</th>\n",
              "    </tr>\n",
              "  </thead>\n",
              "  <tbody>\n",
              "    <tr>\n",
              "      <th>0</th>\n",
              "      <td>4</td>\n",
              "      <td>18471</td>\n",
              "      <td>1</td>\n",
              "      <td>1</td>\n",
              "      <td>1.0</td>\n",
              "      <td>2</td>\n",
              "      <td>1</td>\n",
              "      <td>0</td>\n",
              "      <td>0.0</td>\n",
              "      <td>0.0</td>\n",
              "      <td>0.0</td>\n",
              "      <td>0.0</td>\n",
              "      <td>1.0</td>\n",
              "      <td>0.0</td>\n",
              "      <td>0.0</td>\n",
              "      <td>0.0</td>\n",
              "      <td>1</td>\n",
              "      <td>2</td>\n",
              "      <td>1</td>\n",
              "      <td>10</td>\n",
              "      <td>18</td>\n",
              "      <td>2009</td>\n",
              "      <td>null</td>\n",
              "      <td>null</td>\n",
              "      <td>2009</td>\n",
              "      <td>NaN</td>\n",
              "      <td>ARQUITETURA E URBANISMO</td>\n",
              "    </tr>\n",
              "    <tr>\n",
              "      <th>1</th>\n",
              "      <td>4</td>\n",
              "      <td>82227</td>\n",
              "      <td>1</td>\n",
              "      <td>1</td>\n",
              "      <td>1.0</td>\n",
              "      <td>2</td>\n",
              "      <td>1</td>\n",
              "      <td>0</td>\n",
              "      <td>0.0</td>\n",
              "      <td>0.0</td>\n",
              "      <td>0.0</td>\n",
              "      <td>0.0</td>\n",
              "      <td>0.0</td>\n",
              "      <td>0.0</td>\n",
              "      <td>0.0</td>\n",
              "      <td>0.0</td>\n",
              "      <td>1</td>\n",
              "      <td>0</td>\n",
              "      <td>1</td>\n",
              "      <td>10</td>\n",
              "      <td>30</td>\n",
              "      <td>2009</td>\n",
              "      <td>null</td>\n",
              "      <td>null</td>\n",
              "      <td>2009</td>\n",
              "      <td>NaN</td>\n",
              "      <td>ODONTOLOGIA</td>\n",
              "    </tr>\n",
              "    <tr>\n",
              "      <th>2</th>\n",
              "      <td>6</td>\n",
              "      <td>15474</td>\n",
              "      <td>1</td>\n",
              "      <td>1</td>\n",
              "      <td>1.0</td>\n",
              "      <td>4</td>\n",
              "      <td>1</td>\n",
              "      <td>0</td>\n",
              "      <td>0.0</td>\n",
              "      <td>0.0</td>\n",
              "      <td>0.0</td>\n",
              "      <td>0.0</td>\n",
              "      <td>0.0</td>\n",
              "      <td>0.0</td>\n",
              "      <td>0.0</td>\n",
              "      <td>0.0</td>\n",
              "      <td>0</td>\n",
              "      <td>6</td>\n",
              "      <td>1</td>\n",
              "      <td>10</td>\n",
              "      <td>19</td>\n",
              "      <td>2009</td>\n",
              "      <td>null</td>\n",
              "      <td>null</td>\n",
              "      <td>2009</td>\n",
              "      <td>NaN</td>\n",
              "      <td>ADMINISTRAÇÃO</td>\n",
              "    </tr>\n",
              "    <tr>\n",
              "      <th>3</th>\n",
              "      <td>4</td>\n",
              "      <td>86830</td>\n",
              "      <td>1</td>\n",
              "      <td>1</td>\n",
              "      <td>1.0</td>\n",
              "      <td>2</td>\n",
              "      <td>1</td>\n",
              "      <td>0</td>\n",
              "      <td>0.0</td>\n",
              "      <td>0.0</td>\n",
              "      <td>0.0</td>\n",
              "      <td>0.0</td>\n",
              "      <td>0.0</td>\n",
              "      <td>0.0</td>\n",
              "      <td>0.0</td>\n",
              "      <td>0.0</td>\n",
              "      <td>1</td>\n",
              "      <td>1</td>\n",
              "      <td>1</td>\n",
              "      <td>10</td>\n",
              "      <td>22</td>\n",
              "      <td>2009</td>\n",
              "      <td>null</td>\n",
              "      <td>null</td>\n",
              "      <td>2009</td>\n",
              "      <td>NaN</td>\n",
              "      <td>ENFERMAGEM</td>\n",
              "    </tr>\n",
              "    <tr>\n",
              "      <th>4</th>\n",
              "      <td>4</td>\n",
              "      <td>73476</td>\n",
              "      <td>1</td>\n",
              "      <td>1</td>\n",
              "      <td>1.0</td>\n",
              "      <td>2</td>\n",
              "      <td>0</td>\n",
              "      <td>0</td>\n",
              "      <td>0.0</td>\n",
              "      <td>0.0</td>\n",
              "      <td>0.0</td>\n",
              "      <td>0.0</td>\n",
              "      <td>0.0</td>\n",
              "      <td>0.0</td>\n",
              "      <td>0.0</td>\n",
              "      <td>0.0</td>\n",
              "      <td>0</td>\n",
              "      <td>2</td>\n",
              "      <td>1</td>\n",
              "      <td>10</td>\n",
              "      <td>18</td>\n",
              "      <td>2009</td>\n",
              "      <td>null</td>\n",
              "      <td>null</td>\n",
              "      <td>2009</td>\n",
              "      <td>NaN</td>\n",
              "      <td>ADMINISTRAÇÃO</td>\n",
              "    </tr>\n",
              "  </tbody>\n",
              "</table>\n",
              "</div>"
            ],
            "text/plain": [
              "   TP_CATEGORIA_ADMINISTRATIVA  ...                 NO_CURSO\n",
              "0                            4  ...  ARQUITETURA E URBANISMO\n",
              "1                            4  ...              ODONTOLOGIA\n",
              "2                            6  ...            ADMINISTRAÇÃO\n",
              "3                            4  ...               ENFERMAGEM\n",
              "4                            4  ...            ADMINISTRAÇÃO\n",
              "\n",
              "[5 rows x 27 columns]"
            ]
          },
          "metadata": {
            "tags": []
          },
          "execution_count": 66
        }
      ]
    },
    {
      "cell_type": "code",
      "metadata": {
        "colab": {
          "base_uri": "https://localhost:8080/"
        },
        "id": "WrI-3zYza_0v",
        "outputId": "c4a02106-d96e-4083-cbec-fc81a775e94f"
      },
      "source": [
        "df_completo.shape"
      ],
      "execution_count": 67,
      "outputs": [
        {
          "output_type": "execute_result",
          "data": {
            "text/plain": [
              "(10303, 27)"
            ]
          },
          "metadata": {
            "tags": []
          },
          "execution_count": 67
        }
      ]
    },
    {
      "cell_type": "code",
      "metadata": {
        "colab": {
          "base_uri": "https://localhost:8080/",
          "height": 307
        },
        "id": "pfpGC9NBpwfi",
        "outputId": "333015ef-e89e-4744-b4a8-5cce46999013"
      },
      "source": [
        "df_completo.describe()"
      ],
      "execution_count": 68,
      "outputs": [
        {
          "output_type": "execute_result",
          "data": {
            "text/html": [
              "<div>\n",
              "<style scoped>\n",
              "    .dataframe tbody tr th:only-of-type {\n",
              "        vertical-align: middle;\n",
              "    }\n",
              "\n",
              "    .dataframe tbody tr th {\n",
              "        vertical-align: top;\n",
              "    }\n",
              "\n",
              "    .dataframe thead th {\n",
              "        text-align: right;\n",
              "    }\n",
              "</style>\n",
              "<table border=\"1\" class=\"dataframe\">\n",
              "  <thead>\n",
              "    <tr style=\"text-align: right;\">\n",
              "      <th></th>\n",
              "      <th>TP_CATEGORIA_ADMINISTRATIVA</th>\n",
              "      <th>CO_CURSO</th>\n",
              "      <th>TP_NIVEL_ACADEMICO</th>\n",
              "      <th>TP_MODALIDADE_ENSINO</th>\n",
              "      <th>TP_GRAU_ACADEMICO</th>\n",
              "      <th>TP_SITUACAO</th>\n",
              "      <th>IN_INGRESSO_VESTIBULAR</th>\n",
              "      <th>IN_INGRESSO_ENEM</th>\n",
              "      <th>IN_BOLSA_ESTAGIO</th>\n",
              "      <th>IN_RESERVA_ENSINO_PUBLICO</th>\n",
              "      <th>IN_RESERVA_ETNICO</th>\n",
              "      <th>IN_RESERVA_RENDA_FAMILIAR</th>\n",
              "      <th>IN_FINANCIAMENTO_ESTUDANTIL</th>\n",
              "      <th>IN_FIN_NAOREEMB_PROUNI_INTEGR</th>\n",
              "      <th>IN_FIN_NAOREEMB_PROUNI_PARCIAL</th>\n",
              "      <th>'IN_FIN_REEMB_FIES</th>\n",
              "      <th>TP_SEXO</th>\n",
              "      <th>TP_COR_RACA</th>\n",
              "      <th>TP_NACIONALIDADE</th>\n",
              "      <th>CO_PAIS_ORIGEM</th>\n",
              "      <th>NU_IDADE</th>\n",
              "      <th>NU_ANO_INGRESSO</th>\n",
              "      <th>NU_ANO_CENSO</th>\n",
              "      <th>IN_FIN_REEMB_FIES</th>\n",
              "    </tr>\n",
              "  </thead>\n",
              "  <tbody>\n",
              "    <tr>\n",
              "      <th>count</th>\n",
              "      <td>10303.000000</td>\n",
              "      <td>1.030300e+04</td>\n",
              "      <td>10303.0</td>\n",
              "      <td>10303.000000</td>\n",
              "      <td>10301.000000</td>\n",
              "      <td>10303.000000</td>\n",
              "      <td>10303.000000</td>\n",
              "      <td>10303.000000</td>\n",
              "      <td>887.000000</td>\n",
              "      <td>3002.000000</td>\n",
              "      <td>3002.000000</td>\n",
              "      <td>3002.000000</td>\n",
              "      <td>3188.000000</td>\n",
              "      <td>1129.000000</td>\n",
              "      <td>1129.000000</td>\n",
              "      <td>821.000000</td>\n",
              "      <td>10303.000000</td>\n",
              "      <td>10303.000000</td>\n",
              "      <td>10303.000000</td>\n",
              "      <td>10303.000000</td>\n",
              "      <td>10303.000000</td>\n",
              "      <td>10303.000000</td>\n",
              "      <td>10303.000000</td>\n",
              "      <td>308.000000</td>\n",
              "    </tr>\n",
              "    <tr>\n",
              "      <th>mean</th>\n",
              "      <td>1.649617</td>\n",
              "      <td>6.765185e+04</td>\n",
              "      <td>1.0</td>\n",
              "      <td>1.024944</td>\n",
              "      <td>1.161635</td>\n",
              "      <td>2.863729</td>\n",
              "      <td>0.279336</td>\n",
              "      <td>0.593614</td>\n",
              "      <td>0.038331</td>\n",
              "      <td>0.718521</td>\n",
              "      <td>0.463025</td>\n",
              "      <td>0.314124</td>\n",
              "      <td>0.135508</td>\n",
              "      <td>0.137290</td>\n",
              "      <td>0.068202</td>\n",
              "      <td>0.014616</td>\n",
              "      <td>0.803746</td>\n",
              "      <td>2.269145</td>\n",
              "      <td>1.002815</td>\n",
              "      <td>35.841697</td>\n",
              "      <td>26.737843</td>\n",
              "      <td>2011.402116</td>\n",
              "      <td>2014.235174</td>\n",
              "      <td>0.136364</td>\n",
              "    </tr>\n",
              "    <tr>\n",
              "      <th>std</th>\n",
              "      <td>1.333568</td>\n",
              "      <td>2.871447e+05</td>\n",
              "      <td>0.0</td>\n",
              "      <td>0.155963</td>\n",
              "      <td>0.462777</td>\n",
              "      <td>1.268875</td>\n",
              "      <td>0.448695</td>\n",
              "      <td>0.491182</td>\n",
              "      <td>0.192104</td>\n",
              "      <td>0.449795</td>\n",
              "      <td>0.498714</td>\n",
              "      <td>0.464243</td>\n",
              "      <td>0.342319</td>\n",
              "      <td>0.344305</td>\n",
              "      <td>0.252204</td>\n",
              "      <td>0.120084</td>\n",
              "      <td>0.719907</td>\n",
              "      <td>1.695709</td>\n",
              "      <td>0.074330</td>\n",
              "      <td>33.456249</td>\n",
              "      <td>7.448750</td>\n",
              "      <td>3.713233</td>\n",
              "      <td>3.114884</td>\n",
              "      <td>0.343733</td>\n",
              "    </tr>\n",
              "    <tr>\n",
              "      <th>min</th>\n",
              "      <td>1.000000</td>\n",
              "      <td>1.000000e+00</td>\n",
              "      <td>1.0</td>\n",
              "      <td>1.000000</td>\n",
              "      <td>1.000000</td>\n",
              "      <td>1.000000</td>\n",
              "      <td>0.000000</td>\n",
              "      <td>0.000000</td>\n",
              "      <td>0.000000</td>\n",
              "      <td>0.000000</td>\n",
              "      <td>0.000000</td>\n",
              "      <td>0.000000</td>\n",
              "      <td>0.000000</td>\n",
              "      <td>0.000000</td>\n",
              "      <td>0.000000</td>\n",
              "      <td>0.000000</td>\n",
              "      <td>0.000000</td>\n",
              "      <td>0.000000</td>\n",
              "      <td>1.000000</td>\n",
              "      <td>10.000000</td>\n",
              "      <td>15.000000</td>\n",
              "      <td>1988.000000</td>\n",
              "      <td>2009.000000</td>\n",
              "      <td>0.000000</td>\n",
              "    </tr>\n",
              "    <tr>\n",
              "      <th>25%</th>\n",
              "      <td>1.000000</td>\n",
              "      <td>1.000000e+00</td>\n",
              "      <td>1.0</td>\n",
              "      <td>1.000000</td>\n",
              "      <td>1.000000</td>\n",
              "      <td>2.000000</td>\n",
              "      <td>0.000000</td>\n",
              "      <td>0.000000</td>\n",
              "      <td>0.000000</td>\n",
              "      <td>0.000000</td>\n",
              "      <td>0.000000</td>\n",
              "      <td>0.000000</td>\n",
              "      <td>0.000000</td>\n",
              "      <td>0.000000</td>\n",
              "      <td>0.000000</td>\n",
              "      <td>0.000000</td>\n",
              "      <td>0.000000</td>\n",
              "      <td>1.000000</td>\n",
              "      <td>1.000000</td>\n",
              "      <td>10.000000</td>\n",
              "      <td>21.000000</td>\n",
              "      <td>2009.000000</td>\n",
              "      <td>2012.000000</td>\n",
              "      <td>0.000000</td>\n",
              "    </tr>\n",
              "    <tr>\n",
              "      <th>50%</th>\n",
              "      <td>1.000000</td>\n",
              "      <td>2.000000e+00</td>\n",
              "      <td>1.0</td>\n",
              "      <td>1.000000</td>\n",
              "      <td>1.000000</td>\n",
              "      <td>2.000000</td>\n",
              "      <td>0.000000</td>\n",
              "      <td>1.000000</td>\n",
              "      <td>0.000000</td>\n",
              "      <td>1.000000</td>\n",
              "      <td>0.000000</td>\n",
              "      <td>0.000000</td>\n",
              "      <td>0.000000</td>\n",
              "      <td>0.000000</td>\n",
              "      <td>0.000000</td>\n",
              "      <td>0.000000</td>\n",
              "      <td>1.000000</td>\n",
              "      <td>2.000000</td>\n",
              "      <td>1.000000</td>\n",
              "      <td>10.000000</td>\n",
              "      <td>25.000000</td>\n",
              "      <td>2011.000000</td>\n",
              "      <td>2014.000000</td>\n",
              "      <td>0.000000</td>\n",
              "    </tr>\n",
              "    <tr>\n",
              "      <th>75%</th>\n",
              "      <td>1.000000</td>\n",
              "      <td>2.175850e+04</td>\n",
              "      <td>1.0</td>\n",
              "      <td>1.000000</td>\n",
              "      <td>1.000000</td>\n",
              "      <td>3.000000</td>\n",
              "      <td>1.000000</td>\n",
              "      <td>1.000000</td>\n",
              "      <td>0.000000</td>\n",
              "      <td>1.000000</td>\n",
              "      <td>1.000000</td>\n",
              "      <td>1.000000</td>\n",
              "      <td>0.000000</td>\n",
              "      <td>0.000000</td>\n",
              "      <td>0.000000</td>\n",
              "      <td>0.000000</td>\n",
              "      <td>1.000000</td>\n",
              "      <td>3.000000</td>\n",
              "      <td>1.000000</td>\n",
              "      <td>76.000000</td>\n",
              "      <td>30.000000</td>\n",
              "      <td>2014.000000</td>\n",
              "      <td>2017.000000</td>\n",
              "      <td>0.000000</td>\n",
              "    </tr>\n",
              "    <tr>\n",
              "      <th>max</th>\n",
              "      <td>6.000000</td>\n",
              "      <td>5.000665e+06</td>\n",
              "      <td>1.0</td>\n",
              "      <td>2.000000</td>\n",
              "      <td>4.000000</td>\n",
              "      <td>7.000000</td>\n",
              "      <td>1.000000</td>\n",
              "      <td>1.000000</td>\n",
              "      <td>1.000000</td>\n",
              "      <td>1.000000</td>\n",
              "      <td>1.000000</td>\n",
              "      <td>1.000000</td>\n",
              "      <td>1.000000</td>\n",
              "      <td>1.000000</td>\n",
              "      <td>1.000000</td>\n",
              "      <td>1.000000</td>\n",
              "      <td>2.000000</td>\n",
              "      <td>6.000000</td>\n",
              "      <td>3.000000</td>\n",
              "      <td>600.000000</td>\n",
              "      <td>84.000000</td>\n",
              "      <td>2019.000000</td>\n",
              "      <td>2019.000000</td>\n",
              "      <td>1.000000</td>\n",
              "    </tr>\n",
              "  </tbody>\n",
              "</table>\n",
              "</div>"
            ],
            "text/plain": [
              "       TP_CATEGORIA_ADMINISTRATIVA  ...  IN_FIN_REEMB_FIES\n",
              "count                 10303.000000  ...         308.000000\n",
              "mean                      1.649617  ...           0.136364\n",
              "std                       1.333568  ...           0.343733\n",
              "min                       1.000000  ...           0.000000\n",
              "25%                       1.000000  ...           0.000000\n",
              "50%                       1.000000  ...           0.000000\n",
              "75%                       1.000000  ...           0.000000\n",
              "max                       6.000000  ...           1.000000\n",
              "\n",
              "[8 rows x 24 columns]"
            ]
          },
          "metadata": {
            "tags": []
          },
          "execution_count": 68
        }
      ]
    },
    {
      "cell_type": "code",
      "metadata": {
        "colab": {
          "base_uri": "https://localhost:8080/"
        },
        "id": "UiPyBTrTpzWX",
        "outputId": "034568b5-3368-4dde-c3aa-c81faf89a821"
      },
      "source": [
        "df.info()"
      ],
      "execution_count": 69,
      "outputs": [
        {
          "output_type": "stream",
          "text": [
            "<class 'pandas.core.frame.DataFrame'>\n",
            "Index: 0 entries\n",
            "Columns: 105 entries, NU_ANO_CENSO to NU_ANO_INGRESSO\n",
            "dtypes: object(105)\n",
            "memory usage: 0.0+ bytes\n"
          ],
          "name": "stdout"
        }
      ]
    },
    {
      "cell_type": "code",
      "metadata": {
        "colab": {
          "base_uri": "https://localhost:8080/"
        },
        "id": "gSP48gzDq7lY",
        "outputId": "03890850-b934-48ed-cb76-bec2b719a04a"
      },
      "source": [
        "df.isnull().sum().sort_values(ascending=False)"
      ],
      "execution_count": 70,
      "outputs": [
        {
          "output_type": "execute_result",
          "data": {
            "text/plain": [
              "NU_ANO_INGRESSO                0\n",
              "IN_INGRESSO_CONVENIO_PECG      0\n",
              "IN_DEFICIENCIA_INTELECTUAL     0\n",
              "IN_DEFICIENCIA_MULTIPLA        0\n",
              "IN_DEFICIENCIA_SURDEZ          0\n",
              "                              ..\n",
              "IN_FIN_NAOREEMB_ENT_EXTERNA    0\n",
              "IN_FIN_NAOREEMB_OUTRA          0\n",
              "IN_APOIO_SOCIAL                0\n",
              "IN_APOIO_ALIMENTACAO           0\n",
              "NU_ANO_CENSO                   0\n",
              "Length: 105, dtype: int64"
            ]
          },
          "metadata": {
            "tags": []
          },
          "execution_count": 70
        }
      ]
    },
    {
      "cell_type": "markdown",
      "metadata": {
        "id": "dw4IwM9oiVqc"
      },
      "source": [
        "Quantidade de negros"
      ]
    },
    {
      "cell_type": "code",
      "metadata": {
        "colab": {
          "base_uri": "https://localhost:8080/"
        },
        "id": "QgfrI6Y8bETw",
        "outputId": "08dd95e5-59e1-474a-84d2-39c8db364e96"
      },
      "source": [
        "df_completo.TP_COR_RACA.value_counts()"
      ],
      "execution_count": 71,
      "outputs": [
        {
          "output_type": "execute_result",
          "data": {
            "text/plain": [
              "1    3730\n",
              "3    3363\n",
              "6    1143\n",
              "0     962\n",
              "2     885\n",
              "4     168\n",
              "5      52\n",
              "Name: TP_COR_RACA, dtype: int64"
            ]
          },
          "metadata": {
            "tags": []
          },
          "execution_count": 71
        }
      ]
    },
    {
      "cell_type": "markdown",
      "metadata": {
        "id": "sEFOrCPy-8fu"
      },
      "source": [
        "Porcentagem de negros"
      ]
    },
    {
      "cell_type": "code",
      "metadata": {
        "colab": {
          "base_uri": "https://localhost:8080/"
        },
        "id": "k03vwPNgnBPW",
        "outputId": "d2edede6-bfd4-4bcf-9394-ff8e759e9ec5"
      },
      "source": [
        "df_completo.TP_COR_RACA.value_counts(normalize=True)"
      ],
      "execution_count": 72,
      "outputs": [
        {
          "output_type": "execute_result",
          "data": {
            "text/plain": [
              "1    0.362030\n",
              "3    0.326410\n",
              "6    0.110939\n",
              "0    0.093371\n",
              "2    0.085897\n",
              "4    0.016306\n",
              "5    0.005047\n",
              "Name: TP_COR_RACA, dtype: float64"
            ]
          },
          "metadata": {
            "tags": []
          },
          "execution_count": 72
        }
      ]
    },
    {
      "cell_type": "code",
      "metadata": {
        "colab": {
          "base_uri": "https://localhost:8080/",
          "height": 592
        },
        "id": "iEfM7SM1b9xJ",
        "outputId": "67fe09e7-d3e0-47fc-ed58-d69856d89ef4"
      },
      "source": [
        "df_completo.TP_COR_RACA.value_counts().plot.pie(wedgeprops=dict(width=0.4), startangle=-40, explode = (0, 0, 0.1, 0, 0, 0, 0), autopct = '%1.2f%%')"
      ],
      "execution_count": 73,
      "outputs": [
        {
          "output_type": "execute_result",
          "data": {
            "text/plain": [
              "<matplotlib.axes._subplots.AxesSubplot at 0x7f84662b0400>"
            ]
          },
          "metadata": {
            "tags": []
          },
          "execution_count": 73
        },
        {
          "output_type": "display_data",
          "data": {
            "image/png": "[encoded data removed]",
            "text/plain": [
              "<Figure size 1080x720 with 1 Axes>"
            ]
          },
          "metadata": {
            "tags": []
          }
        }
      ]
    },
    {
      "cell_type": "code",
      "metadata": {
        "colab": {
          "base_uri": "https://localhost:8080/"
        },
        "id": "Acuy2aKwnKGG",
        "outputId": "c2efdac4-fb92-4d28-d81a-60a64e01972a"
      },
      "source": [
        "df_completo.TP_SEXO.value_counts(normalize=True)"
      ],
      "execution_count": 74,
      "outputs": [
        {
          "output_type": "execute_result",
          "data": {
            "text/plain": [
              "1    0.443269\n",
              "0    0.376492\n",
              "2    0.180239\n",
              "Name: TP_SEXO, dtype: float64"
            ]
          },
          "metadata": {
            "tags": []
          },
          "execution_count": 74
        }
      ]
    },
    {
      "cell_type": "code",
      "metadata": {
        "colab": {
          "base_uri": "https://localhost:8080/",
          "height": 441
        },
        "id": "CT75DZ_vdtMn",
        "outputId": "e83ee252-59ec-42e1-9f6e-67e2dd287067"
      },
      "source": [
        "plt.style.use(\"fivethirtyeight\")\n",
        "plt.figure(figsize=(12, 6))\n",
        "sns.barplot(x=df_completo.TP_SEXO.value_counts(), y=df_completo.TP_SEXO.value_counts().index)\n",
        "plt.title(\"Quantidade de alunos por Sexo\")\n",
        "\n",
        "plt.show()"
      ],
      "execution_count": 75,
      "outputs": [
        {
          "output_type": "display_data",
          "data": {
            "image/png": "[encoded data removed]",
            "text/plain": [
              "<Figure size 864x432 with 1 Axes>"
            ]
          },
          "metadata": {
            "tags": []
          }
        }
      ]
    },
    {
      "cell_type": "markdown",
      "metadata": {
        "id": "GG9KnucKAJNZ"
      },
      "source": [
        "Cursos com maior registros de matriculas"
      ]
    },
    {
      "cell_type": "code",
      "metadata": {
        "colab": {
          "base_uri": "https://localhost:8080/"
        },
        "id": "L5M_N8w8nSgf",
        "outputId": "d21e036c-8f31-4d91-c4c1-7ba115a77115"
      },
      "source": [
        "df_completo.NO_CURSO.value_counts().head(20)"
      ],
      "execution_count": 76,
      "outputs": [
        {
          "output_type": "execute_result",
          "data": {
            "text/plain": [
              "DIREITO                 3580\n",
              "CIÊNCIAS ECONÔMICAS     3022\n",
              "ADMINISTRAÇÃO            475\n",
              "PEDAGOGIA                322\n",
              "CIÊNCIAS CONTÁBEIS       245\n",
              "AGRONOMIA                157\n",
              "ENFERMAGEM               143\n",
              "SERVIÇO SOCIAL           137\n",
              "ENGENHARIA FLORESTAL     132\n",
              "ENGENHARIA CIVIL         113\n",
              "MEDICINA                  92\n",
              "EDUCAÇÃO FÍSICA           91\n",
              "CIÊNCIAS BIOLÓGICAS       85\n",
              "PSICOLOGIA                66\n",
              "QUÍMICA                   58\n",
              "FARMÁCIA                  57\n",
              "FISIOTERAPIA              55\n",
              "GEOGRAFIA                 51\n",
              "MATEMÁTICA                48\n",
              "HISTÓRIA                  47\n",
              "Name: NO_CURSO, dtype: int64"
            ]
          },
          "metadata": {
            "tags": []
          },
          "execution_count": 76
        }
      ]
    },
    {
      "cell_type": "code",
      "metadata": {
        "colab": {
          "base_uri": "https://localhost:8080/",
          "height": 811
        },
        "id": "nHx3rGHSADLj",
        "outputId": "5ea69a4c-d765-4dc7-e768-c1b767ce825c"
      },
      "source": [
        "df_completo.NO_CURSO.value_counts().head(20).plot.bar()"
      ],
      "execution_count": 77,
      "outputs": [
        {
          "output_type": "execute_result",
          "data": {
            "text/plain": [
              "<matplotlib.axes._subplots.AxesSubplot at 0x7f8465dae0f0>"
            ]
          },
          "metadata": {
            "tags": []
          },
          "execution_count": 77
        },
        {
          "output_type": "display_data",
          "data": {
            "image/png": "[encoded data removed]",
            "text/plain": [
              "<Figure size 1080x720 with 1 Axes>"
            ]
          },
          "metadata": {
            "tags": []
          }
        }
      ]
    },
    {
      "cell_type": "code",
      "metadata": {
        "colab": {
          "base_uri": "https://localhost:8080/",
          "height": 441
        },
        "id": "lgwvu7yhemqP",
        "outputId": "214b7d03-26ca-4f31-9ef9-9bd505066d30"
      },
      "source": [
        "plt.figure(figsize=(12, 6))\n",
        "sns.barplot(x=df_completo.NO_CURSO.value_counts().head(20), y=df_completo.NO_CURSO.value_counts().head(20).index)\n",
        "plt.title(\"Cursos com maior quantidade de alunos\")\n",
        "plt.show()"
      ],
      "execution_count": 78,
      "outputs": [
        {
          "output_type": "display_data",
          "data": {
            "image/png": "[encoded data removed]",
            "text/plain": [
              "<Figure size 864x432 with 1 Axes>"
            ]
          },
          "metadata": {
            "tags": []
          }
        }
      ]
    },
    {
      "cell_type": "markdown",
      "metadata": {
        "id": "VahMEFNgA9nk"
      },
      "source": [
        "Turno mais frequentado pelos alunos"
      ]
    },
    {
      "cell_type": "code",
      "metadata": {
        "colab": {
          "base_uri": "https://localhost:8080/"
        },
        "id": "5w4qlvOfox4l",
        "outputId": "735cc1a5-8241-4128-f7b6-00b48a3a335a"
      },
      "source": [
        "df_completo.TP_TURNO.value_counts()"
      ],
      "execution_count": 79,
      "outputs": [
        {
          "output_type": "execute_result",
          "data": {
            "text/plain": [
              "3.0     4791\n",
              "1.0     3565\n",
              "null     821\n",
              "4.0      804\n",
              "2.0      158\n",
              "Name: TP_TURNO, dtype: int64"
            ]
          },
          "metadata": {
            "tags": []
          },
          "execution_count": 79
        }
      ]
    },
    {
      "cell_type": "markdown",
      "metadata": {
        "id": "8QBw_SXtBTeY"
      },
      "source": [
        "Descrição das idades dos alunos"
      ]
    },
    {
      "cell_type": "code",
      "metadata": {
        "colab": {
          "base_uri": "https://localhost:8080/"
        },
        "id": "wP_0qwFqo5tM",
        "outputId": "52a83542-f7ba-4c89-cb3d-06800af78929"
      },
      "source": [
        "df_completo.NU_IDADE.describe()"
      ],
      "execution_count": 80,
      "outputs": [
        {
          "output_type": "execute_result",
          "data": {
            "text/plain": [
              "count    10303.000000\n",
              "mean        26.737843\n",
              "std          7.448750\n",
              "min         15.000000\n",
              "25%         21.000000\n",
              "50%         25.000000\n",
              "75%         30.000000\n",
              "max         84.000000\n",
              "Name: NU_IDADE, dtype: float64"
            ]
          },
          "metadata": {
            "tags": []
          },
          "execution_count": 80
        }
      ]
    },
    {
      "cell_type": "markdown",
      "metadata": {
        "id": "-FLlalqBbtv2"
      },
      "source": [
        "Distribuição das idades dos aluno"
      ]
    },
    {
      "cell_type": "code",
      "metadata": {
        "colab": {
          "base_uri": "https://localhost:8080/",
          "height": 532
        },
        "id": "Lu3ZAFWpbj7u",
        "outputId": "203b765c-3be8-414b-b2af-8751152e5f53"
      },
      "source": [
        "df_completo.NU_IDADE.hist(bins=30, figsize=(10, 8))"
      ],
      "execution_count": 81,
      "outputs": [
        {
          "output_type": "execute_result",
          "data": {
            "text/plain": [
              "<matplotlib.axes._subplots.AxesSubplot at 0x7f8465d224a8>"
            ]
          },
          "metadata": {
            "tags": []
          },
          "execution_count": 81
        },
        {
          "output_type": "display_data",
          "data": {
            "image/png": "[encoded data removed]",
            "text/plain": [
              "<Figure size 720x576 with 1 Axes>"
            ]
          },
          "metadata": {
            "tags": []
          }
        }
      ]
    },
    {
      "cell_type": "markdown",
      "metadata": {
        "id": "Q4rOlU9BO1Ej"
      },
      "source": [
        "Total de negros matriculados em universidades"
      ]
    },
    {
      "cell_type": "code",
      "metadata": {
        "id": "2qHkkpNm9na3"
      },
      "source": [
        "df_negros = df_completo.query(\"TP_COR_RACA == 2\")"
      ],
      "execution_count": 82,
      "outputs": []
    },
    {
      "cell_type": "code",
      "metadata": {
        "colab": {
          "base_uri": "https://localhost:8080/"
        },
        "id": "zPWa01-8h-CX",
        "outputId": "70bd35b1-82d5-42d2-8b68-18b92fb72008"
      },
      "source": [
        "df_negros.NO_CURSO.value_counts().head(20)"
      ],
      "execution_count": 83,
      "outputs": [
        {
          "output_type": "execute_result",
          "data": {
            "text/plain": [
              "CIÊNCIAS ECONÔMICAS                  332\n",
              "DIREITO                              306\n",
              "ADMINISTRAÇÃO                         24\n",
              "CIÊNCIAS CONTÁBEIS                    23\n",
              "PEDAGOGIA                             22\n",
              "SERVIÇO SOCIAL                        16\n",
              "ENGENHARIA FLORESTAL                  11\n",
              "QUÍMICA                               11\n",
              "AGRONOMIA                              8\n",
              "ENFERMAGEM                             8\n",
              "HISTÓRIA                               8\n",
              "CIÊNCIAS SOCIAIS                       8\n",
              "MATEMÁTICA                             7\n",
              "SAÚDE COLETIVA                         7\n",
              "LETRAS - LÍNGUA PORTUGUESA             6\n",
              "GEOGRAFIA                              5\n",
              "ENGENHARIA CIVIL                       5\n",
              "FÍSICA                                 5\n",
              "CIÊNCIAS BIOLÓGICAS                    5\n",
              "CIÊNCIA E TECNOLOGIA DE ALIMENTOS      5\n",
              "Name: NO_CURSO, dtype: int64"
            ]
          },
          "metadata": {
            "tags": []
          },
          "execution_count": 83
        }
      ]
    },
    {
      "cell_type": "code",
      "metadata": {
        "colab": {
          "base_uri": "https://localhost:8080/"
        },
        "id": "fmqDYHypB2MF",
        "outputId": "01d6134c-7653-4de4-aad4-7b9828fd2a51"
      },
      "source": [
        "df_negros.NU_IDADE.describe()"
      ],
      "execution_count": 84,
      "outputs": [
        {
          "output_type": "execute_result",
          "data": {
            "text/plain": [
              "count    885.000000\n",
              "mean      27.481356\n",
              "std        6.708452\n",
              "min       15.000000\n",
              "25%       22.000000\n",
              "50%       26.000000\n",
              "75%       31.000000\n",
              "max       55.000000\n",
              "Name: NU_IDADE, dtype: float64"
            ]
          },
          "metadata": {
            "tags": []
          },
          "execution_count": 84
        }
      ]
    },
    {
      "cell_type": "code",
      "metadata": {
        "colab": {
          "base_uri": "https://localhost:8080/"
        },
        "id": "CmxyPHDsB_Rp",
        "outputId": "f611efab-df02-4369-ba5a-95fbe53986ef"
      },
      "source": [
        "df_negros.TP_SEXO.value_counts(normalize=True)"
      ],
      "execution_count": 85,
      "outputs": [
        {
          "output_type": "execute_result",
          "data": {
            "text/plain": [
              "1    0.414689\n",
              "0    0.367232\n",
              "2    0.218079\n",
              "Name: TP_SEXO, dtype: float64"
            ]
          },
          "metadata": {
            "tags": []
          },
          "execution_count": 85
        }
      ]
    },
    {
      "cell_type": "code",
      "metadata": {
        "colab": {
          "base_uri": "https://localhost:8080/",
          "height": 514
        },
        "id": "qCxv69w0CXKd",
        "outputId": "ed03549d-6d6f-40e3-9dad-2b9d55fcf369"
      },
      "source": [
        "plt.figure(figsize=(12, 8))\n",
        "df_negros.TP_SEXO.value_counts(normalize=True).plot.pie(autopct = '%1.2f%%')"
      ],
      "execution_count": 86,
      "outputs": [
        {
          "output_type": "execute_result",
          "data": {
            "text/plain": [
              "<matplotlib.axes._subplots.AxesSubplot at 0x7f8465d87e10>"
            ]
          },
          "metadata": {
            "tags": []
          },
          "execution_count": 86
        },
        {
          "output_type": "display_data",
          "data": {
            "image/png": "[encoded data removed]",
            "text/plain": [
              "<Figure size 864x576 with 1 Axes>"
            ]
          },
          "metadata": {
            "tags": []
          }
        }
      ]
    },
    {
      "cell_type": "code",
      "metadata": {
        "colab": {
          "base_uri": "https://localhost:8080/"
        },
        "id": "7hmgS6XejJR7",
        "outputId": "0d62b31f-f656-4074-8f11-3f1bdbf5ad1f"
      },
      "source": [
        "df_negros.NO_CURSO.value_counts().head(20)"
      ],
      "execution_count": 87,
      "outputs": [
        {
          "output_type": "execute_result",
          "data": {
            "text/plain": [
              "CIÊNCIAS ECONÔMICAS                  332\n",
              "DIREITO                              306\n",
              "ADMINISTRAÇÃO                         24\n",
              "CIÊNCIAS CONTÁBEIS                    23\n",
              "PEDAGOGIA                             22\n",
              "SERVIÇO SOCIAL                        16\n",
              "ENGENHARIA FLORESTAL                  11\n",
              "QUÍMICA                               11\n",
              "AGRONOMIA                              8\n",
              "ENFERMAGEM                             8\n",
              "HISTÓRIA                               8\n",
              "CIÊNCIAS SOCIAIS                       8\n",
              "MATEMÁTICA                             7\n",
              "SAÚDE COLETIVA                         7\n",
              "LETRAS - LÍNGUA PORTUGUESA             6\n",
              "GEOGRAFIA                              5\n",
              "ENGENHARIA CIVIL                       5\n",
              "FÍSICA                                 5\n",
              "CIÊNCIAS BIOLÓGICAS                    5\n",
              "CIÊNCIA E TECNOLOGIA DE ALIMENTOS      5\n",
              "Name: NO_CURSO, dtype: int64"
            ]
          },
          "metadata": {
            "tags": []
          },
          "execution_count": 87
        }
      ]
    },
    {
      "cell_type": "code",
      "metadata": {
        "colab": {
          "base_uri": "https://localhost:8080/",
          "height": 441
        },
        "id": "yla35zIQjnZu",
        "outputId": "42eafd01-1f43-41c8-d432-592910ecd5b9"
      },
      "source": [
        "plt.figure(figsize=(12, 6))\n",
        "sns.barplot(x=df_negros.NO_CURSO.value_counts().head(20), y=df_negros.NO_CURSO.value_counts().head(20).index)\n",
        "plt.title(\"Cursos com maior presença de alunos negros\")\n",
        "plt.show()"
      ],
      "execution_count": 88,
      "outputs": [
        {
          "output_type": "display_data",
          "data": {
            "image/png": "[encoded data removed]",
            "text/plain": [
              "<Figure size 864x432 with 1 Axes>"
            ]
          },
          "metadata": {
            "tags": []
          }
        }
      ]
    },
    {
      "cell_type": "markdown",
      "metadata": {
        "id": "SQ-OlDBJ85xb"
      },
      "source": [
        "Distribuição de Categoria de Universidades"
      ]
    },
    {
      "cell_type": "markdown",
      "metadata": {
        "id": "p42qDA3x-CB-"
      },
      "source": [
        "Verificando a quantidade de Alunos negros que ingressam em faculdades públicas, de âmbito nacional, estadual e municipal"
      ]
    },
    {
      "cell_type": "code",
      "metadata": {
        "colab": {
          "base_uri": "https://localhost:8080/"
        },
        "id": "al9jz5ptgpFV",
        "outputId": "864e20bd-35b1-4478-85cb-cf89f63aed8e"
      },
      "source": [
        "df_completo.query(\"TP_CATEGORIA_ADMINISTRATIVA == 1 or TP_CATEGORIA_ADMINISTRATIVA == 2 or TP_CATEGORIA_ADMINISTRATIVA == 3\")[\"TP_COR_RACA\"].value_counts()"
      ],
      "execution_count": 89,
      "outputs": [
        {
          "output_type": "execute_result",
          "data": {
            "text/plain": [
              "1    3279\n",
              "3    3133\n",
              "2     845\n",
              "6     572\n",
              "0     450\n",
              "4     151\n",
              "5      47\n",
              "Name: TP_COR_RACA, dtype: int64"
            ]
          },
          "metadata": {
            "tags": []
          },
          "execution_count": 89
        }
      ]
    },
    {
      "cell_type": "code",
      "metadata": {
        "id": "Bt2O1ESF7mNI"
      },
      "source": [
        "uni_publica = df_completo.query(\"TP_CATEGORIA_ADMINISTRATIVA == 1 or TP_CATEGORIA_ADMINISTRATIVA == 2 or TP_CATEGORIA_ADMINISTRATIVA == 3\")"
      ],
      "execution_count": 90,
      "outputs": []
    },
    {
      "cell_type": "code",
      "metadata": {
        "colab": {
          "base_uri": "https://localhost:8080/"
        },
        "id": "zic8ZaVXgRf2",
        "outputId": "d436dbc5-d4d7-4948-8c9a-2ca373ecd298"
      },
      "source": [
        "uni_publica.TP_COR_RACA.value_counts()"
      ],
      "execution_count": 91,
      "outputs": [
        {
          "output_type": "execute_result",
          "data": {
            "text/plain": [
              "1    3279\n",
              "3    3133\n",
              "2     845\n",
              "6     572\n",
              "0     450\n",
              "4     151\n",
              "5      47\n",
              "Name: TP_COR_RACA, dtype: int64"
            ]
          },
          "metadata": {
            "tags": []
          },
          "execution_count": 91
        }
      ]
    },
    {
      "cell_type": "code",
      "metadata": {
        "colab": {
          "base_uri": "https://localhost:8080/"
        },
        "id": "Nf4zG834i1HX",
        "outputId": "eed1f8d9-4e64-48a7-b238-57c9323a139c"
      },
      "source": [
        "uni_publica.TP_COR_RACA.value_counts(normalize=True)"
      ],
      "execution_count": 92,
      "outputs": [
        {
          "output_type": "execute_result",
          "data": {
            "text/plain": [
              "1    0.386811\n",
              "3    0.369588\n",
              "2    0.099681\n",
              "6    0.067477\n",
              "0    0.053085\n",
              "4    0.017813\n",
              "5    0.005544\n",
              "Name: TP_COR_RACA, dtype: float64"
            ]
          },
          "metadata": {
            "tags": []
          },
          "execution_count": 92
        }
      ]
    },
    {
      "cell_type": "markdown",
      "metadata": {
        "id": "Jn3s9VP6v2M0"
      },
      "source": [
        "Agrupamento de alunos de escolas publicas por curso e raça"
      ]
    },
    {
      "cell_type": "code",
      "metadata": {
        "colab": {
          "base_uri": "https://localhost:8080/",
          "height": 1000
        },
        "id": "ERTXj-CCo8hA",
        "outputId": "78461bf7-55a4-44ea-9134-75c3cec19424"
      },
      "source": [
        "agrupado_publica = uni_publica[['NO_CURSO', 'TP_COR_RACA']].groupby([uni_publica['NO_CURSO'], uni_publica['TP_COR_RACA']])\n",
        "agrupado_publica.sum().head(50)"
      ],
      "execution_count": 93,
      "outputs": [
        {
          "output_type": "execute_result",
          "data": {
            "text/html": [
              "<div>\n",
              "<style scoped>\n",
              "    .dataframe tbody tr th:only-of-type {\n",
              "        vertical-align: middle;\n",
              "    }\n",
              "\n",
              "    .dataframe tbody tr th {\n",
              "        vertical-align: top;\n",
              "    }\n",
              "\n",
              "    .dataframe thead th {\n",
              "        text-align: right;\n",
              "    }\n",
              "</style>\n",
              "<table border=\"1\" class=\"dataframe\">\n",
              "  <thead>\n",
              "    <tr style=\"text-align: right;\">\n",
              "      <th></th>\n",
              "      <th></th>\n",
              "      <th>TP_COR_RACA</th>\n",
              "    </tr>\n",
              "    <tr>\n",
              "      <th>NO_CURSO</th>\n",
              "      <th>TP_COR_RACA</th>\n",
              "      <th></th>\n",
              "    </tr>\n",
              "  </thead>\n",
              "  <tbody>\n",
              "    <tr>\n",
              "      <th>ABI - CIÊNCIAS DA NATUREZA</th>\n",
              "      <th>1</th>\n",
              "      <td>1</td>\n",
              "    </tr>\n",
              "    <tr>\n",
              "      <th>ABI - ENGENHARIA</th>\n",
              "      <th>1</th>\n",
              "      <td>1</td>\n",
              "    </tr>\n",
              "    <tr>\n",
              "      <th rowspan=\"7\" valign=\"top\">ADMINISTRAÇÃO</th>\n",
              "      <th>0</th>\n",
              "      <td>0</td>\n",
              "    </tr>\n",
              "    <tr>\n",
              "      <th>1</th>\n",
              "      <td>60</td>\n",
              "    </tr>\n",
              "    <tr>\n",
              "      <th>2</th>\n",
              "      <td>30</td>\n",
              "    </tr>\n",
              "    <tr>\n",
              "      <th>3</th>\n",
              "      <td>102</td>\n",
              "    </tr>\n",
              "    <tr>\n",
              "      <th>4</th>\n",
              "      <td>24</td>\n",
              "    </tr>\n",
              "    <tr>\n",
              "      <th>5</th>\n",
              "      <td>5</td>\n",
              "    </tr>\n",
              "    <tr>\n",
              "      <th>6</th>\n",
              "      <td>96</td>\n",
              "    </tr>\n",
              "    <tr>\n",
              "      <th rowspan=\"2\" valign=\"top\">ADMINISTRAÇÃO DE EMPRESAS</th>\n",
              "      <th>0</th>\n",
              "      <td>0</td>\n",
              "    </tr>\n",
              "    <tr>\n",
              "      <th>6</th>\n",
              "      <td>12</td>\n",
              "    </tr>\n",
              "    <tr>\n",
              "      <th>ADMINISTRAÇÃO EM SISTEMAS E SERVIÇOS DE SAÚDE</th>\n",
              "      <th>1</th>\n",
              "      <td>1</td>\n",
              "    </tr>\n",
              "    <tr>\n",
              "      <th rowspan=\"5\" valign=\"top\">ADMINISTRAÇÃO PÚBLICA</th>\n",
              "      <th>0</th>\n",
              "      <td>0</td>\n",
              "    </tr>\n",
              "    <tr>\n",
              "      <th>1</th>\n",
              "      <td>4</td>\n",
              "    </tr>\n",
              "    <tr>\n",
              "      <th>2</th>\n",
              "      <td>2</td>\n",
              "    </tr>\n",
              "    <tr>\n",
              "      <th>3</th>\n",
              "      <td>36</td>\n",
              "    </tr>\n",
              "    <tr>\n",
              "      <th>6</th>\n",
              "      <td>42</td>\n",
              "    </tr>\n",
              "    <tr>\n",
              "      <th rowspan=\"3\" valign=\"top\">AGRONEGÓCIO</th>\n",
              "      <th>1</th>\n",
              "      <td>1</td>\n",
              "    </tr>\n",
              "    <tr>\n",
              "      <th>3</th>\n",
              "      <td>6</td>\n",
              "    </tr>\n",
              "    <tr>\n",
              "      <th>6</th>\n",
              "      <td>24</td>\n",
              "    </tr>\n",
              "    <tr>\n",
              "      <th rowspan=\"6\" valign=\"top\">AGRONOMIA</th>\n",
              "      <th>0</th>\n",
              "      <td>0</td>\n",
              "    </tr>\n",
              "    <tr>\n",
              "      <th>1</th>\n",
              "      <td>67</td>\n",
              "    </tr>\n",
              "    <tr>\n",
              "      <th>2</th>\n",
              "      <td>16</td>\n",
              "    </tr>\n",
              "    <tr>\n",
              "      <th>3</th>\n",
              "      <td>102</td>\n",
              "    </tr>\n",
              "    <tr>\n",
              "      <th>4</th>\n",
              "      <td>8</td>\n",
              "    </tr>\n",
              "    <tr>\n",
              "      <th>6</th>\n",
              "      <td>120</td>\n",
              "    </tr>\n",
              "    <tr>\n",
              "      <th rowspan=\"3\" valign=\"top\">ALIMENTOS</th>\n",
              "      <th>1</th>\n",
              "      <td>2</td>\n",
              "    </tr>\n",
              "    <tr>\n",
              "      <th>3</th>\n",
              "      <td>3</td>\n",
              "    </tr>\n",
              "    <tr>\n",
              "      <th>6</th>\n",
              "      <td>12</td>\n",
              "    </tr>\n",
              "    <tr>\n",
              "      <th rowspan=\"3\" valign=\"top\">ANÁLISE E DESENVOLVIMENTO DE SISTEMAS</th>\n",
              "      <th>1</th>\n",
              "      <td>10</td>\n",
              "    </tr>\n",
              "    <tr>\n",
              "      <th>4</th>\n",
              "      <td>4</td>\n",
              "    </tr>\n",
              "    <tr>\n",
              "      <th>6</th>\n",
              "      <td>18</td>\n",
              "    </tr>\n",
              "    <tr>\n",
              "      <th rowspan=\"3\" valign=\"top\">ARQUITETURA E URBANISMO</th>\n",
              "      <th>1</th>\n",
              "      <td>5</td>\n",
              "    </tr>\n",
              "    <tr>\n",
              "      <th>2</th>\n",
              "      <td>6</td>\n",
              "    </tr>\n",
              "    <tr>\n",
              "      <th>3</th>\n",
              "      <td>6</td>\n",
              "    </tr>\n",
              "    <tr>\n",
              "      <th>ARTES VISUAIS</th>\n",
              "      <th>1</th>\n",
              "      <td>1</td>\n",
              "    </tr>\n",
              "    <tr>\n",
              "      <th rowspan=\"4\" valign=\"top\">AUTOMAÇÃO INDUSTRIAL</th>\n",
              "      <th>0</th>\n",
              "      <td>0</td>\n",
              "    </tr>\n",
              "    <tr>\n",
              "      <th>1</th>\n",
              "      <td>2</td>\n",
              "    </tr>\n",
              "    <tr>\n",
              "      <th>3</th>\n",
              "      <td>3</td>\n",
              "    </tr>\n",
              "    <tr>\n",
              "      <th>6</th>\n",
              "      <td>6</td>\n",
              "    </tr>\n",
              "    <tr>\n",
              "      <th>BANCO DE DADOS</th>\n",
              "      <th>1</th>\n",
              "      <td>1</td>\n",
              "    </tr>\n",
              "    <tr>\n",
              "      <th rowspan=\"2\" valign=\"top\">BIBLIOTECONOMIA</th>\n",
              "      <th>1</th>\n",
              "      <td>1</td>\n",
              "    </tr>\n",
              "    <tr>\n",
              "      <th>6</th>\n",
              "      <td>18</td>\n",
              "    </tr>\n",
              "    <tr>\n",
              "      <th rowspan=\"3\" valign=\"top\">BIOCOMBUSTÍVEIS</th>\n",
              "      <th>0</th>\n",
              "      <td>0</td>\n",
              "    </tr>\n",
              "    <tr>\n",
              "      <th>1</th>\n",
              "      <td>1</td>\n",
              "    </tr>\n",
              "    <tr>\n",
              "      <th>4</th>\n",
              "      <td>4</td>\n",
              "    </tr>\n",
              "    <tr>\n",
              "      <th>BIOLOGIA</th>\n",
              "      <th>3</th>\n",
              "      <td>3</td>\n",
              "    </tr>\n",
              "    <tr>\n",
              "      <th rowspan=\"3\" valign=\"top\">BIOMEDICINA</th>\n",
              "      <th>0</th>\n",
              "      <td>0</td>\n",
              "    </tr>\n",
              "    <tr>\n",
              "      <th>1</th>\n",
              "      <td>4</td>\n",
              "    </tr>\n",
              "    <tr>\n",
              "      <th>3</th>\n",
              "      <td>9</td>\n",
              "    </tr>\n",
              "  </tbody>\n",
              "</table>\n",
              "</div>"
            ],
            "text/plain": [
              "                                                           TP_COR_RACA\n",
              "NO_CURSO                                      TP_COR_RACA             \n",
              "ABI - CIÊNCIAS DA NATUREZA                    1                      1\n",
              "ABI - ENGENHARIA                              1                      1\n",
              "ADMINISTRAÇÃO                                 0                      0\n",
              "                                              1                     60\n",
              "                                              2                     30\n",
              "                                              3                    102\n",
              "                                              4                     24\n",
              "                                              5                      5\n",
              "                                              6                     96\n",
              "ADMINISTRAÇÃO DE EMPRESAS                     0                      0\n",
              "                                              6                     12\n",
              "ADMINISTRAÇÃO EM SISTEMAS E SERVIÇOS DE SAÚDE 1                      1\n",
              "ADMINISTRAÇÃO PÚBLICA                         0                      0\n",
              "                                              1                      4\n",
              "                                              2                      2\n",
              "                                              3                     36\n",
              "                                              6                     42\n",
              "AGRONEGÓCIO                                   1                      1\n",
              "                                              3                      6\n",
              "                                              6                     24\n",
              "AGRONOMIA                                     0                      0\n",
              "                                              1                     67\n",
              "                                              2                     16\n",
              "                                              3                    102\n",
              "                                              4                      8\n",
              "                                              6                    120\n",
              "ALIMENTOS                                     1                      2\n",
              "                                              3                      3\n",
              "                                              6                     12\n",
              "ANÁLISE E DESENVOLVIMENTO DE SISTEMAS         1                     10\n",
              "                                              4                      4\n",
              "                                              6                     18\n",
              "ARQUITETURA E URBANISMO                       1                      5\n",
              "                                              2                      6\n",
              "                                              3                      6\n",
              "ARTES VISUAIS                                 1                      1\n",
              "AUTOMAÇÃO INDUSTRIAL                          0                      0\n",
              "                                              1                      2\n",
              "                                              3                      3\n",
              "                                              6                      6\n",
              "BANCO DE DADOS                                1                      1\n",
              "BIBLIOTECONOMIA                               1                      1\n",
              "                                              6                     18\n",
              "BIOCOMBUSTÍVEIS                               0                      0\n",
              "                                              1                      1\n",
              "                                              4                      4\n",
              "BIOLOGIA                                      3                      3\n",
              "BIOMEDICINA                                   0                      0\n",
              "                                              1                      4\n",
              "                                              3                      9"
            ]
          },
          "metadata": {
            "tags": []
          },
          "execution_count": 93
        }
      ]
    },
    {
      "cell_type": "code",
      "metadata": {
        "id": "vIpSaomg52pJ"
      },
      "source": [
        ""
      ],
      "execution_count": 93,
      "outputs": []
    }
  ]
}