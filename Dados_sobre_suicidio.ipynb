{
  "nbformat": 4,
  "nbformat_minor": 0,
  "metadata": {
    "colab": {
      "name": "Dados sobre suicidio",
      "provenance": [],
      "collapsed_sections": [],
      "include_colab_link": true
    },
    "kernelspec": {
      "name": "python3",
      "display_name": "Python 3"
    }
  },
  "cells": [
    {
      "cell_type": "markdown",
      "metadata": {
        "id": "view-in-github",
        "colab_type": "text"
      },
      "source": [
        "<a href=\"https://colab.research.google.com/github/allanbraquiel/Notebooks/blob/master/Dados_sobre_suicidio.ipynb\" target=\"_parent\"><img src=\"https://colab.research.google.com/assets/colab-badge.svg\" alt=\"Open In Colab\"/></a>"
      ]
    },
    {
      "cell_type": "code",
      "metadata": {
        "id": "-RLq7V4zxGFE",
        "colab_type": "code",
        "colab": {}
      },
      "source": [
        "import pandas as pd\n",
        "import numpy as np\n",
        "import matplotlib.pyplot as plt\n",
        "import seaborn as sns"
      ],
      "execution_count": 0,
      "outputs": []
    },
    {
      "cell_type": "code",
      "metadata": {
        "id": "NU3YujBLDfwV",
        "colab_type": "code",
        "outputId": "511340c3-740b-44cb-b677-807b1f7c8ee9",
        "colab": {
          "base_uri": "https://localhost:8080/",
          "height": 459
        }
      },
      "source": [
        "plt.style.available"
      ],
      "execution_count": 2,
      "outputs": [
        {
          "output_type": "execute_result",
          "data": {
            "text/plain": [
              "['dark_background',\n",
              " 'seaborn-poster',\n",
              " 'seaborn',\n",
              " 'grayscale',\n",
              " 'seaborn-notebook',\n",
              " 'classic',\n",
              " 'seaborn-paper',\n",
              " 'Solarize_Light2',\n",
              " 'seaborn-whitegrid',\n",
              " 'seaborn-deep',\n",
              " 'seaborn-ticks',\n",
              " 'ggplot',\n",
              " '_classic_test',\n",
              " 'bmh',\n",
              " 'seaborn-dark-palette',\n",
              " 'seaborn-white',\n",
              " 'fast',\n",
              " 'seaborn-muted',\n",
              " 'seaborn-talk',\n",
              " 'seaborn-bright',\n",
              " 'seaborn-colorblind',\n",
              " 'seaborn-dark',\n",
              " 'seaborn-pastel',\n",
              " 'seaborn-darkgrid',\n",
              " 'fivethirtyeight',\n",
              " 'tableau-colorblind10']"
            ]
          },
          "metadata": {
            "tags": []
          },
          "execution_count": 2
        }
      ]
    },
    {
      "cell_type": "code",
      "metadata": {
        "id": "v2hhgS1hC3JB",
        "colab_type": "code",
        "colab": {}
      },
      "source": [
        "plt.style.use(\"seaborn-colorblind\")\n",
        "plt.rcParams['figure.figsize'] = (20,10)\n",
        "%matplotlib inline"
      ],
      "execution_count": 0,
      "outputs": []
    },
    {
      "cell_type": "markdown",
      "metadata": {
        "id": "T0BGjhfDyD50",
        "colab_type": "text"
      },
      "source": [
        "Importa os dados sobre suicídio para um dataframe"
      ]
    },
    {
      "cell_type": "code",
      "metadata": {
        "id": "7d-pZv1wyM4L",
        "colab_type": "code",
        "colab": {}
      },
      "source": [
        "df = pd.read_csv(\"https://raw.githubusercontent.com/carlosfab/data_science/master/datasets/suicide_rates.csv\")"
      ],
      "execution_count": 0,
      "outputs": []
    },
    {
      "cell_type": "code",
      "metadata": {
        "id": "3btBYpNGyVAJ",
        "colab_type": "code",
        "outputId": "b9e5a587-e886-49ee-c9a6-9d7fb2ea8bcc",
        "colab": {
          "base_uri": "https://localhost:8080/",
          "height": 272
        }
      },
      "source": [
        "df.head()"
      ],
      "execution_count": 5,
      "outputs": [
        {
          "output_type": "execute_result",
          "data": {
            "text/html": [
              "<div>\n",
              "<style scoped>\n",
              "    .dataframe tbody tr th:only-of-type {\n",
              "        vertical-align: middle;\n",
              "    }\n",
              "\n",
              "    .dataframe tbody tr th {\n",
              "        vertical-align: top;\n",
              "    }\n",
              "\n",
              "    .dataframe thead th {\n",
              "        text-align: right;\n",
              "    }\n",
              "</style>\n",
              "<table border=\"1\" class=\"dataframe\">\n",
              "  <thead>\n",
              "    <tr style=\"text-align: right;\">\n",
              "      <th></th>\n",
              "      <th>country</th>\n",
              "      <th>year</th>\n",
              "      <th>sex</th>\n",
              "      <th>age</th>\n",
              "      <th>suicides_no</th>\n",
              "      <th>population</th>\n",
              "      <th>suicides/100k pop</th>\n",
              "      <th>country-year</th>\n",
              "      <th>HDI for year</th>\n",
              "      <th>gdp_for_year ($)</th>\n",
              "      <th>gdp_per_capita ($)</th>\n",
              "      <th>generation</th>\n",
              "    </tr>\n",
              "  </thead>\n",
              "  <tbody>\n",
              "    <tr>\n",
              "      <th>0</th>\n",
              "      <td>Albania</td>\n",
              "      <td>1987</td>\n",
              "      <td>male</td>\n",
              "      <td>15-24 years</td>\n",
              "      <td>21</td>\n",
              "      <td>312900</td>\n",
              "      <td>6.71</td>\n",
              "      <td>Albania1987</td>\n",
              "      <td>NaN</td>\n",
              "      <td>2,156,624,900</td>\n",
              "      <td>796</td>\n",
              "      <td>Generation X</td>\n",
              "    </tr>\n",
              "    <tr>\n",
              "      <th>1</th>\n",
              "      <td>Albania</td>\n",
              "      <td>1987</td>\n",
              "      <td>male</td>\n",
              "      <td>35-54 years</td>\n",
              "      <td>16</td>\n",
              "      <td>308000</td>\n",
              "      <td>5.19</td>\n",
              "      <td>Albania1987</td>\n",
              "      <td>NaN</td>\n",
              "      <td>2,156,624,900</td>\n",
              "      <td>796</td>\n",
              "      <td>Silent</td>\n",
              "    </tr>\n",
              "    <tr>\n",
              "      <th>2</th>\n",
              "      <td>Albania</td>\n",
              "      <td>1987</td>\n",
              "      <td>female</td>\n",
              "      <td>15-24 years</td>\n",
              "      <td>14</td>\n",
              "      <td>289700</td>\n",
              "      <td>4.83</td>\n",
              "      <td>Albania1987</td>\n",
              "      <td>NaN</td>\n",
              "      <td>2,156,624,900</td>\n",
              "      <td>796</td>\n",
              "      <td>Generation X</td>\n",
              "    </tr>\n",
              "    <tr>\n",
              "      <th>3</th>\n",
              "      <td>Albania</td>\n",
              "      <td>1987</td>\n",
              "      <td>male</td>\n",
              "      <td>75+ years</td>\n",
              "      <td>1</td>\n",
              "      <td>21800</td>\n",
              "      <td>4.59</td>\n",
              "      <td>Albania1987</td>\n",
              "      <td>NaN</td>\n",
              "      <td>2,156,624,900</td>\n",
              "      <td>796</td>\n",
              "      <td>G.I. Generation</td>\n",
              "    </tr>\n",
              "    <tr>\n",
              "      <th>4</th>\n",
              "      <td>Albania</td>\n",
              "      <td>1987</td>\n",
              "      <td>male</td>\n",
              "      <td>25-34 years</td>\n",
              "      <td>9</td>\n",
              "      <td>274300</td>\n",
              "      <td>3.28</td>\n",
              "      <td>Albania1987</td>\n",
              "      <td>NaN</td>\n",
              "      <td>2,156,624,900</td>\n",
              "      <td>796</td>\n",
              "      <td>Boomers</td>\n",
              "    </tr>\n",
              "  </tbody>\n",
              "</table>\n",
              "</div>"
            ],
            "text/plain": [
              "   country  year  ... gdp_per_capita ($)       generation\n",
              "0  Albania  1987  ...                796     Generation X\n",
              "1  Albania  1987  ...                796           Silent\n",
              "2  Albania  1987  ...                796     Generation X\n",
              "3  Albania  1987  ...                796  G.I. Generation\n",
              "4  Albania  1987  ...                796          Boomers\n",
              "\n",
              "[5 rows x 12 columns]"
            ]
          },
          "metadata": {
            "tags": []
          },
          "execution_count": 5
        }
      ]
    },
    {
      "cell_type": "code",
      "metadata": {
        "id": "nvmEWm4ryifl",
        "colab_type": "code",
        "outputId": "83d71f46-1d14-4f82-b4eb-6f1f88145df2",
        "colab": {
          "base_uri": "https://localhost:8080/",
          "height": 34
        }
      },
      "source": [
        "df.shape"
      ],
      "execution_count": 6,
      "outputs": [
        {
          "output_type": "execute_result",
          "data": {
            "text/plain": [
              "(27820, 12)"
            ]
          },
          "metadata": {
            "tags": []
          },
          "execution_count": 6
        }
      ]
    },
    {
      "cell_type": "code",
      "metadata": {
        "id": "sQ2hUq2YywKM",
        "colab_type": "code",
        "outputId": "bcaeefa4-e0e9-41cc-a099-464b83be7083",
        "colab": {
          "base_uri": "https://localhost:8080/",
          "height": 68
        }
      },
      "source": [
        "df.sex.value_counts()"
      ],
      "execution_count": 7,
      "outputs": [
        {
          "output_type": "execute_result",
          "data": {
            "text/plain": [
              "male      13910\n",
              "female    13910\n",
              "Name: sex, dtype: int64"
            ]
          },
          "metadata": {
            "tags": []
          },
          "execution_count": 7
        }
      ]
    },
    {
      "cell_type": "code",
      "metadata": {
        "id": "XWJej_x6y3Kd",
        "colab_type": "code",
        "colab": {}
      },
      "source": [
        "df_brasil = df[df[\"country\"] == 'Brazil']"
      ],
      "execution_count": 0,
      "outputs": []
    },
    {
      "cell_type": "code",
      "metadata": {
        "id": "TLh4DJqIzDB7",
        "colab_type": "code",
        "outputId": "ab956e79-f128-4426-c6f8-8e38dd7e93f6",
        "colab": {
          "base_uri": "https://localhost:8080/",
          "height": 289
        }
      },
      "source": [
        "df_brasil.head()"
      ],
      "execution_count": 9,
      "outputs": [
        {
          "output_type": "execute_result",
          "data": {
            "text/html": [
              "<div>\n",
              "<style scoped>\n",
              "    .dataframe tbody tr th:only-of-type {\n",
              "        vertical-align: middle;\n",
              "    }\n",
              "\n",
              "    .dataframe tbody tr th {\n",
              "        vertical-align: top;\n",
              "    }\n",
              "\n",
              "    .dataframe thead th {\n",
              "        text-align: right;\n",
              "    }\n",
              "</style>\n",
              "<table border=\"1\" class=\"dataframe\">\n",
              "  <thead>\n",
              "    <tr style=\"text-align: right;\">\n",
              "      <th></th>\n",
              "      <th>country</th>\n",
              "      <th>year</th>\n",
              "      <th>sex</th>\n",
              "      <th>age</th>\n",
              "      <th>suicides_no</th>\n",
              "      <th>population</th>\n",
              "      <th>suicides/100k pop</th>\n",
              "      <th>country-year</th>\n",
              "      <th>HDI for year</th>\n",
              "      <th>gdp_for_year ($)</th>\n",
              "      <th>gdp_per_capita ($)</th>\n",
              "      <th>generation</th>\n",
              "    </tr>\n",
              "  </thead>\n",
              "  <tbody>\n",
              "    <tr>\n",
              "      <th>4172</th>\n",
              "      <td>Brazil</td>\n",
              "      <td>1985</td>\n",
              "      <td>male</td>\n",
              "      <td>75+ years</td>\n",
              "      <td>129</td>\n",
              "      <td>840300</td>\n",
              "      <td>15.35</td>\n",
              "      <td>Brazil1985</td>\n",
              "      <td>0.576</td>\n",
              "      <td>222,942,790,435</td>\n",
              "      <td>1898</td>\n",
              "      <td>G.I. Generation</td>\n",
              "    </tr>\n",
              "    <tr>\n",
              "      <th>4173</th>\n",
              "      <td>Brazil</td>\n",
              "      <td>1985</td>\n",
              "      <td>male</td>\n",
              "      <td>55-74 years</td>\n",
              "      <td>535</td>\n",
              "      <td>5364900</td>\n",
              "      <td>9.97</td>\n",
              "      <td>Brazil1985</td>\n",
              "      <td>0.576</td>\n",
              "      <td>222,942,790,435</td>\n",
              "      <td>1898</td>\n",
              "      <td>G.I. Generation</td>\n",
              "    </tr>\n",
              "    <tr>\n",
              "      <th>4174</th>\n",
              "      <td>Brazil</td>\n",
              "      <td>1985</td>\n",
              "      <td>male</td>\n",
              "      <td>35-54 years</td>\n",
              "      <td>1011</td>\n",
              "      <td>11986300</td>\n",
              "      <td>8.43</td>\n",
              "      <td>Brazil1985</td>\n",
              "      <td>0.576</td>\n",
              "      <td>222,942,790,435</td>\n",
              "      <td>1898</td>\n",
              "      <td>Silent</td>\n",
              "    </tr>\n",
              "    <tr>\n",
              "      <th>4175</th>\n",
              "      <td>Brazil</td>\n",
              "      <td>1985</td>\n",
              "      <td>male</td>\n",
              "      <td>25-34 years</td>\n",
              "      <td>791</td>\n",
              "      <td>10762900</td>\n",
              "      <td>7.35</td>\n",
              "      <td>Brazil1985</td>\n",
              "      <td>0.576</td>\n",
              "      <td>222,942,790,435</td>\n",
              "      <td>1898</td>\n",
              "      <td>Boomers</td>\n",
              "    </tr>\n",
              "    <tr>\n",
              "      <th>4176</th>\n",
              "      <td>Brazil</td>\n",
              "      <td>1985</td>\n",
              "      <td>male</td>\n",
              "      <td>15-24 years</td>\n",
              "      <td>661</td>\n",
              "      <td>13834000</td>\n",
              "      <td>4.78</td>\n",
              "      <td>Brazil1985</td>\n",
              "      <td>0.576</td>\n",
              "      <td>222,942,790,435</td>\n",
              "      <td>1898</td>\n",
              "      <td>Generation X</td>\n",
              "    </tr>\n",
              "  </tbody>\n",
              "</table>\n",
              "</div>"
            ],
            "text/plain": [
              "     country  year  ... gdp_per_capita ($)       generation\n",
              "4172  Brazil  1985  ...               1898  G.I. Generation\n",
              "4173  Brazil  1985  ...               1898  G.I. Generation\n",
              "4174  Brazil  1985  ...               1898           Silent\n",
              "4175  Brazil  1985  ...               1898          Boomers\n",
              "4176  Brazil  1985  ...               1898     Generation X\n",
              "\n",
              "[5 rows x 12 columns]"
            ]
          },
          "metadata": {
            "tags": []
          },
          "execution_count": 9
        }
      ]
    },
    {
      "cell_type": "code",
      "metadata": {
        "id": "DBNkapUtzGgc",
        "colab_type": "code",
        "outputId": "f705e28d-e7cb-4997-9b7e-f60ee0bab0d7",
        "colab": {
          "base_uri": "https://localhost:8080/",
          "height": 238
        }
      },
      "source": [
        "df.isnull().sum()"
      ],
      "execution_count": 10,
      "outputs": [
        {
          "output_type": "execute_result",
          "data": {
            "text/plain": [
              "country                   0\n",
              "year                      0\n",
              "sex                       0\n",
              "age                       0\n",
              "suicides_no               0\n",
              "population                0\n",
              "suicides/100k pop         0\n",
              "country-year              0\n",
              "HDI for year          19456\n",
              " gdp_for_year ($)         0\n",
              "gdp_per_capita ($)        0\n",
              "generation                0\n",
              "dtype: int64"
            ]
          },
          "metadata": {
            "tags": []
          },
          "execution_count": 10
        }
      ]
    },
    {
      "cell_type": "code",
      "metadata": {
        "id": "2U_kd2LmzTHF",
        "colab_type": "code",
        "outputId": "0753f74f-2816-4960-b543-c10b8aa9ac18",
        "colab": {
          "base_uri": "https://localhost:8080/",
          "height": 238
        }
      },
      "source": [
        "df_brasil.isnull().sum()"
      ],
      "execution_count": 11,
      "outputs": [
        {
          "output_type": "execute_result",
          "data": {
            "text/plain": [
              "country                 0\n",
              "year                    0\n",
              "sex                     0\n",
              "age                     0\n",
              "suicides_no             0\n",
              "population              0\n",
              "suicides/100k pop       0\n",
              "country-year            0\n",
              "HDI for year          252\n",
              " gdp_for_year ($)       0\n",
              "gdp_per_capita ($)      0\n",
              "generation              0\n",
              "dtype: int64"
            ]
          },
          "metadata": {
            "tags": []
          },
          "execution_count": 11
        }
      ]
    },
    {
      "cell_type": "markdown",
      "metadata": {
        "id": "Zf0y0isX0POH",
        "colab_type": "text"
      },
      "source": [
        "## **Calcular a média de suicidios do Brasil e no mundo**"
      ]
    },
    {
      "cell_type": "markdown",
      "metadata": {
        "id": "-792H3E_0dK8",
        "colab_type": "text"
      },
      "source": [
        "Pegar os anos referente ao Brasil e colocar no eixo x"
      ]
    },
    {
      "cell_type": "code",
      "metadata": {
        "id": "9IRwEGlUzaUV",
        "colab_type": "code",
        "colab": {}
      },
      "source": [
        "anos = df_brasil.year.unique()"
      ],
      "execution_count": 0,
      "outputs": []
    },
    {
      "cell_type": "markdown",
      "metadata": {
        "id": "PwdtFkCx0mPc",
        "colab_type": "text"
      },
      "source": [
        "Média de Suicidios no Brasil"
      ]
    },
    {
      "cell_type": "code",
      "metadata": {
        "id": "e_ELpyhZzoM0",
        "colab_type": "code",
        "colab": {}
      },
      "source": [
        "media_suicidios_brasil = df_brasil.groupby(\"year\")[\"suicides/100k pop\"].mean()"
      ],
      "execution_count": 0,
      "outputs": []
    },
    {
      "cell_type": "markdown",
      "metadata": {
        "id": "5ySgfQbL0qTj",
        "colab_type": "text"
      },
      "source": [
        "Media de suicidios no mundo"
      ]
    },
    {
      "cell_type": "code",
      "metadata": {
        "id": "JFSNMrNp0MMR",
        "colab_type": "code",
        "colab": {}
      },
      "source": [
        "media_suicidios_mundo = df.groupby(\"year\")[\"suicides/100k pop\"].mean()"
      ],
      "execution_count": 0,
      "outputs": []
    },
    {
      "cell_type": "markdown",
      "metadata": {
        "id": "P054x4Is08n_",
        "colab_type": "text"
      },
      "source": [
        "Neste dataset não tem informações do Brasil no ano de 2016 então eliminaremos o ano de 2016"
      ]
    },
    {
      "cell_type": "code",
      "metadata": {
        "id": "XVM_rCGz04_n",
        "colab_type": "code",
        "colab": {}
      },
      "source": [
        "media_suicidios_mundo.drop(2016, inplace=True)"
      ],
      "execution_count": 0,
      "outputs": []
    },
    {
      "cell_type": "markdown",
      "metadata": {
        "id": "bQMGFYrr1aKI",
        "colab_type": "text"
      },
      "source": [
        "Plotar o comparativo entre o Brasil e o mundo"
      ]
    },
    {
      "cell_type": "code",
      "metadata": {
        "id": "QeIq4hYE1WpZ",
        "colab_type": "code",
        "outputId": "4accb1ce-351b-4822-f74c-f015ef5964e9",
        "colab": {
          "base_uri": "https://localhost:8080/",
          "height": 266
        }
      },
      "source": [
        "ax = sns.lineplot(x=anos, y=media_suicidios_brasil, label=\"Brasil\")\n",
        "ax = sns.lineplot(x=anos, y=media_suicidios_mundo, label=\"Mundo\")\n",
        "plt.legend(title=\"Taxa de suicidio\")\n",
        "\n",
        "plt.show()"
      ],
      "execution_count": 26,
      "outputs": [
        {
          "output_type": "display_data",
          "data": {
            "image/png": "[encoded data removed]",
            "text/plain": [
              "<Figure size 432x288 with 1 Axes>"
            ]
          },
          "metadata": {
            "tags": []
          }
        }
      ]
    },
    {
      "cell_type": "markdown",
      "metadata": {
        "id": "ILPnuhEh3XmL",
        "colab_type": "text"
      },
      "source": [
        "Criando uma tabela dinânica"
      ]
    },
    {
      "cell_type": "code",
      "metadata": {
        "id": "kQ2Z2YFF3dld",
        "colab_type": "code",
        "colab": {}
      },
      "source": [
        "tabela = pd.pivot_table(df_brasil, values=\"suicides_no\", index=[\"year\"], columns=[\"age\"])"
      ],
      "execution_count": 0,
      "outputs": []
    },
    {
      "cell_type": "markdown",
      "metadata": {
        "id": "bLQhBhrL4GMn",
        "colab_type": "text"
      },
      "source": [
        "Reordenar tabela pra ficar em ordem crescente"
      ]
    },
    {
      "cell_type": "code",
      "metadata": {
        "id": "pxeLqEhO4AAg",
        "colab_type": "code",
        "colab": {}
      },
      "source": [
        "ordem_coluna = ['5-14 years', '15-24 years', '25-34 years', '35-54 years', '55-74 years', '75+ years']\n",
        "tabela = tabela.reindex(ordem_coluna, axis=1)"
      ],
      "execution_count": 0,
      "outputs": []
    },
    {
      "cell_type": "code",
      "metadata": {
        "id": "svwHqSMf4c2H",
        "colab_type": "code",
        "outputId": "a353eb49-b3e8-4249-bb14-1b883605689f",
        "colab": {
          "base_uri": "https://localhost:8080/",
          "height": 390
        }
      },
      "source": [
        "tabela.head(10)"
      ],
      "execution_count": 19,
      "outputs": [
        {
          "output_type": "execute_result",
          "data": {
            "text/html": [
              "<div>\n",
              "<style scoped>\n",
              "    .dataframe tbody tr th:only-of-type {\n",
              "        vertical-align: middle;\n",
              "    }\n",
              "\n",
              "    .dataframe tbody tr th {\n",
              "        vertical-align: top;\n",
              "    }\n",
              "\n",
              "    .dataframe thead th {\n",
              "        text-align: right;\n",
              "    }\n",
              "</style>\n",
              "<table border=\"1\" class=\"dataframe\">\n",
              "  <thead>\n",
              "    <tr style=\"text-align: right;\">\n",
              "      <th>age</th>\n",
              "      <th>5-14 years</th>\n",
              "      <th>15-24 years</th>\n",
              "      <th>25-34 years</th>\n",
              "      <th>35-54 years</th>\n",
              "      <th>55-74 years</th>\n",
              "      <th>75+ years</th>\n",
              "    </tr>\n",
              "    <tr>\n",
              "      <th>year</th>\n",
              "      <th></th>\n",
              "      <th></th>\n",
              "      <th></th>\n",
              "      <th></th>\n",
              "      <th></th>\n",
              "      <th></th>\n",
              "    </tr>\n",
              "  </thead>\n",
              "  <tbody>\n",
              "    <tr>\n",
              "      <th>1985</th>\n",
              "      <td>38.0</td>\n",
              "      <td>470.5</td>\n",
              "      <td>530.0</td>\n",
              "      <td>653.5</td>\n",
              "      <td>341.5</td>\n",
              "      <td>80.5</td>\n",
              "    </tr>\n",
              "    <tr>\n",
              "      <th>1986</th>\n",
              "      <td>31.0</td>\n",
              "      <td>508.0</td>\n",
              "      <td>505.5</td>\n",
              "      <td>651.0</td>\n",
              "      <td>372.0</td>\n",
              "      <td>68.0</td>\n",
              "    </tr>\n",
              "    <tr>\n",
              "      <th>1987</th>\n",
              "      <td>33.5</td>\n",
              "      <td>502.0</td>\n",
              "      <td>565.5</td>\n",
              "      <td>724.5</td>\n",
              "      <td>422.0</td>\n",
              "      <td>88.5</td>\n",
              "    </tr>\n",
              "    <tr>\n",
              "      <th>1988</th>\n",
              "      <td>30.0</td>\n",
              "      <td>472.0</td>\n",
              "      <td>557.5</td>\n",
              "      <td>724.0</td>\n",
              "      <td>356.0</td>\n",
              "      <td>93.5</td>\n",
              "    </tr>\n",
              "    <tr>\n",
              "      <th>1989</th>\n",
              "      <td>31.5</td>\n",
              "      <td>491.5</td>\n",
              "      <td>569.0</td>\n",
              "      <td>692.5</td>\n",
              "      <td>354.5</td>\n",
              "      <td>92.5</td>\n",
              "    </tr>\n",
              "    <tr>\n",
              "      <th>1990</th>\n",
              "      <td>33.0</td>\n",
              "      <td>517.5</td>\n",
              "      <td>597.5</td>\n",
              "      <td>760.5</td>\n",
              "      <td>398.5</td>\n",
              "      <td>94.5</td>\n",
              "    </tr>\n",
              "    <tr>\n",
              "      <th>1991</th>\n",
              "      <td>38.0</td>\n",
              "      <td>537.0</td>\n",
              "      <td>634.0</td>\n",
              "      <td>832.5</td>\n",
              "      <td>441.0</td>\n",
              "      <td>95.5</td>\n",
              "    </tr>\n",
              "    <tr>\n",
              "      <th>1992</th>\n",
              "      <td>37.5</td>\n",
              "      <td>549.5</td>\n",
              "      <td>621.5</td>\n",
              "      <td>899.5</td>\n",
              "      <td>404.5</td>\n",
              "      <td>91.0</td>\n",
              "    </tr>\n",
              "    <tr>\n",
              "      <th>1993</th>\n",
              "      <td>41.0</td>\n",
              "      <td>625.5</td>\n",
              "      <td>722.0</td>\n",
              "      <td>860.0</td>\n",
              "      <td>405.0</td>\n",
              "      <td>100.5</td>\n",
              "    </tr>\n",
              "    <tr>\n",
              "      <th>1994</th>\n",
              "      <td>47.0</td>\n",
              "      <td>680.0</td>\n",
              "      <td>759.5</td>\n",
              "      <td>902.5</td>\n",
              "      <td>449.5</td>\n",
              "      <td>109.5</td>\n",
              "    </tr>\n",
              "  </tbody>\n",
              "</table>\n",
              "</div>"
            ],
            "text/plain": [
              "age   5-14 years  15-24 years  25-34 years  35-54 years  55-74 years  75+ years\n",
              "year                                                                           \n",
              "1985        38.0        470.5        530.0        653.5        341.5       80.5\n",
              "1986        31.0        508.0        505.5        651.0        372.0       68.0\n",
              "1987        33.5        502.0        565.5        724.5        422.0       88.5\n",
              "1988        30.0        472.0        557.5        724.0        356.0       93.5\n",
              "1989        31.5        491.5        569.0        692.5        354.5       92.5\n",
              "1990        33.0        517.5        597.5        760.5        398.5       94.5\n",
              "1991        38.0        537.0        634.0        832.5        441.0       95.5\n",
              "1992        37.5        549.5        621.5        899.5        404.5       91.0\n",
              "1993        41.0        625.5        722.0        860.0        405.0      100.5\n",
              "1994        47.0        680.0        759.5        902.5        449.5      109.5"
            ]
          },
          "metadata": {
            "tags": []
          },
          "execution_count": 19
        }
      ]
    },
    {
      "cell_type": "markdown",
      "metadata": {
        "id": "BYzTBoBJ43-i",
        "colab_type": "text"
      },
      "source": [
        "Plotando o pivot table da tabela"
      ]
    },
    {
      "cell_type": "code",
      "metadata": {
        "id": "xgjsvZAk4uuT",
        "colab_type": "code",
        "outputId": "e53ac430-4375-43db-b85b-16618f9750aa",
        "colab": {
          "base_uri": "https://localhost:8080/",
          "height": 529
        }
      },
      "source": [
        "tabela.plot.bar(stacked=True, figsize=(20, 8))\n",
        "plt.legend(title=\"Idade\")"
      ],
      "execution_count": 20,
      "outputs": [
        {
          "output_type": "execute_result",
          "data": {
            "text/plain": [
              "<matplotlib.legend.Legend at 0x7f1dbc2c0320>"
            ]
          },
          "metadata": {
            "tags": []
          },
          "execution_count": 20
        },
        {
          "output_type": "display_data",
          "data": {
            "image/png": "[encoded data removed]",
            "text/plain": [
              "<Figure size 1440x576 with 1 Axes>"
            ]
          },
          "metadata": {
            "tags": []
          }
        }
      ]
    },
    {
      "cell_type": "markdown",
      "metadata": {
        "id": "9xMux8cZ6c3n",
        "colab_type": "text"
      },
      "source": [
        "Estatistica de suicidio por faixa etaria"
      ]
    },
    {
      "cell_type": "code",
      "metadata": {
        "id": "sY7vKBdb5YkL",
        "colab_type": "code",
        "outputId": "049a6bc5-4b14-40e9-8630-45fe81e2155d",
        "colab": {
          "base_uri": "https://localhost:8080/",
          "height": 153
        }
      },
      "source": [
        "tabela[[\"25-34 years\"]].loc[2015]\n",
        "tabela.loc[2015] / tabela.loc[2015].sum()"
      ],
      "execution_count": 21,
      "outputs": [
        {
          "output_type": "execute_result",
          "data": {
            "text/plain": [
              "age\n",
              "5-14 years     0.012094\n",
              "15-24 years    0.159993\n",
              "25-34 years    0.211681\n",
              "35-54 years    0.371585\n",
              "55-74 years    0.194571\n",
              "75+ years      0.050076\n",
              "Name: 2015, dtype: float64"
            ]
          },
          "metadata": {
            "tags": []
          },
          "execution_count": 21
        }
      ]
    },
    {
      "cell_type": "markdown",
      "metadata": {
        "id": "4PpJ3XFw7K69",
        "colab_type": "text"
      },
      "source": [
        "Taxa de suicidio entre homens e mulheres"
      ]
    },
    {
      "cell_type": "code",
      "metadata": {
        "id": "u2C76xC069qh",
        "colab_type": "code",
        "colab": {}
      },
      "source": [
        " homens_mulheres = df_brasil.groupby('sex').suicides_no.sum() / df_brasil.groupby('sex').suicides_no.sum().sum()"
      ],
      "execution_count": 0,
      "outputs": []
    },
    {
      "cell_type": "markdown",
      "metadata": {
        "id": "bJixw7ri8MBK",
        "colab_type": "text"
      },
      "source": [
        "Gráfico de pizza"
      ]
    },
    {
      "cell_type": "code",
      "metadata": {
        "id": "YKzru3A18sc0",
        "colab_type": "code",
        "outputId": "b2fcefeb-28e5-445c-a442-78f70148b5fd",
        "colab": {
          "base_uri": "https://localhost:8080/",
          "height": 248
        }
      },
      "source": [
        "plt.pie(homens_mulheres, labels=['mulheres', 'homens'], autopct='%1.1f%%', shadow=True);"
      ],
      "execution_count": 23,
      "outputs": [
        {
          "output_type": "display_data",
          "data": {
            "image/png": "[encoded data removed]",
            "text/plain": [
              "<Figure size 432x288 with 1 Axes>"
            ]
          },
          "metadata": {
            "tags": []
          }
        }
      ]
    },
    {
      "cell_type": "markdown",
      "metadata": {
        "id": "jmAT5MLJEzPU",
        "colab_type": "text"
      },
      "source": [
        "Correlação"
      ]
    },
    {
      "cell_type": "code",
      "metadata": {
        "id": "Gm7S8XKG_fdS",
        "colab_type": "code",
        "outputId": "f3eb9f0c-cc5e-43ff-cfc9-a892f5267485",
        "colab": {
          "base_uri": "https://localhost:8080/",
          "height": 354
        }
      },
      "source": [
        "corr = df_brasil.corr()\n",
        "sns.heatmap(corr, cmap='RdBu', fmt='.2f', square=True, linecolor='white', annot=True);"
      ],
      "execution_count": 24,
      "outputs": [
        {
          "output_type": "display_data",
          "data": {
            "image/png": "[encoded data removed]",
            "text/plain": [
              "<Figure size 432x288 with 2 Axes>"
            ]
          },
          "metadata": {
            "tags": []
          }
        }
      ]
    },
    {
      "cell_type": "code",
      "metadata": {
        "id": "KJV6QB1-FhVg",
        "colab_type": "code",
        "colab": {}
      },
      "source": [
        ""
      ],
      "execution_count": 0,
      "outputs": []
    }
  ]
}